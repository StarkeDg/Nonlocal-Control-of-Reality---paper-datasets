{
 "cells": [
  {
   "cell_type": "code",
   "execution_count": 1,
   "id": "2b921bed",
   "metadata": {
    "scrolled": true
   },
   "outputs": [],
   "source": [
    "%run init.ipynb\n",
    "%run init-tensor_product.ipynb\n",
    "%run init-quantum_resources.ipynb"
   ]
  },
  {
   "cell_type": "code",
   "execution_count": 2,
   "id": "502e6857",
   "metadata": {},
   "outputs": [],
   "source": [
    "%run init-optical_elements.ipynb\n",
    "%run init-braket_notation.ipynb"
   ]
  },
  {
   "cell_type": "markdown",
   "id": "1a0c46f2",
   "metadata": {},
   "source": [
    "# Development"
   ]
  },
  {
   "cell_type": "markdown",
   "id": "01a7bfdf",
   "metadata": {},
   "source": [
    "## Setup"
   ]
  },
  {
   "cell_type": "markdown",
   "id": "ef7ff6ad",
   "metadata": {},
   "source": [
    "<img src = 'setup_realism.jpg' width = '90%'>"
   ]
  },
  {
   "cell_type": "markdown",
   "id": "56025a79",
   "metadata": {},
   "source": [
    "### Initial state"
   ]
  },
  {
   "cell_type": "code",
   "execution_count": 3,
   "id": "91b22ce0",
   "metadata": {},
   "outputs": [
    {
     "data": {
      "image/png": "[encoded data removed]",
      "text/latex": [
       "$\\displaystyle \\left( c_{+}, \\  c_{-}\\right)$"
      ],
      "text/plain": [
       "(c₊, c₋)"
      ]
     },
     "execution_count": 3,
     "metadata": {},
     "output_type": "execute_result"
    }
   ],
   "source": [
    "cp,cm = symbols('c_+ c_-', real=True)\n",
    "cp,cm"
   ]
  },
  {
   "cell_type": "code",
   "execution_count": 4,
   "id": "61bde39e",
   "metadata": {},
   "outputs": [
    {
     "data": {
      "image/png": "[encoded data removed]",
      "text/latex": [
       "$\\displaystyle c_{+} {\\left|01\\right\\rangle } + c_{-} {\\left|10\\right\\rangle }$"
      ],
      "text/plain": [
       "c₊⋅❘01⟩ + c₋⋅❘10⟩"
      ]
     },
     "execution_count": 4,
     "metadata": {},
     "output_type": "execute_result"
    }
   ],
   "source": [
    "Ψp = cp*pbk('01')+ cm * pbk('10')\n",
    "mysim(mbk(Ψp))"
   ]
  },
  {
   "cell_type": "code",
   "execution_count": 5,
   "id": "9ef83f3a",
   "metadata": {},
   "outputs": [
    {
     "data": {
      "image/png": "[encoded data removed]",
      "text/latex": [
       "$\\displaystyle c_{+} {\\left|010110\\right\\rangle } + c_{-} {\\left|100110\\right\\rangle }$"
      ],
      "text/plain": [
       "c₊⋅❘010110⟩ + c₋⋅❘100110⟩"
      ]
     },
     "execution_count": 5,
     "metadata": {},
     "output_type": "execute_result"
    }
   ],
   "source": [
    "ψ0_ABbWZa = comp_sys(Ψp, pbk('0110'))\n",
    "mysim(mbk(ψ0_ABbWZa))"
   ]
  },
  {
   "cell_type": "markdown",
   "id": "410b7a90",
   "metadata": {},
   "source": [
    "### PBS"
   ]
  },
  {
   "cell_type": "markdown",
   "id": "4805d544",
   "metadata": {},
   "source": [
    "Photon $\\mathcal{B}$ go throught the PBS.\n",
    "\n",
    "The PBS is a controlled mirror, and the mirror is given by"
   ]
  },
  {
   "cell_type": "code",
   "execution_count": 6,
   "id": "1adc85a6",
   "metadata": {},
   "outputs": [
    {
     "data": {
      "image/png": "[encoded data removed]",
      "text/latex": [
       "$\\displaystyle \\left[\\begin{matrix}0 & 1.0 i\\\\1.0 i & 0\\end{matrix}\\right]$"
      ],
      "text/plain": [
       "⎡  0    1.0⋅ⅈ⎤\n",
       "⎢            ⎥\n",
       "⎣1.0⋅ⅈ    0  ⎦"
      ]
     },
     "execution_count": 6,
     "metadata": {},
     "output_type": "execute_result"
    }
   ],
   "source": [
    "M"
   ]
  },
  {
   "cell_type": "code",
   "execution_count": 7,
   "id": "9908ce42",
   "metadata": {},
   "outputs": [
    {
     "data": {
      "image/png": "[encoded data removed]",
      "text/latex": [
       "$\\displaystyle i c_{+} {\\left|011110\\right\\rangle } + c_{-} {\\left|100110\\right\\rangle }$"
      ],
      "text/plain": [
       "ⅈ⋅c₊⋅❘011110⟩ + c₋⋅❘100110⟩"
      ]
     },
     "execution_count": 7,
     "metadata": {},
     "output_type": "execute_result"
    }
   ],
   "source": [
    "ψ1_ABbWZa = ctrlp(M, ψ0_ABbWZa, [4,1], [3])\n",
    "mysim(mbk(ψ1_ABbWZa))"
   ]
  },
  {
   "cell_type": "markdown",
   "id": "040f20f2",
   "metadata": {},
   "source": [
    "### HWP"
   ]
  },
  {
   "cell_type": "markdown",
   "id": "228514c2",
   "metadata": {},
   "source": [
    "The HWP is a CNOT, where"
   ]
  },
  {
   "cell_type": "code",
   "execution_count": 8,
   "id": "67b2797b",
   "metadata": {},
   "outputs": [
    {
     "data": {
      "image/png": "[encoded data removed]",
      "text/latex": [
       "$\\displaystyle \\left[\\begin{matrix}0 & 1\\\\1 & 0\\end{matrix}\\right]$"
      ],
      "text/plain": [
       "⎡0  1⎤\n",
       "⎢    ⎥\n",
       "⎣1  0⎦"
      ]
     },
     "execution_count": 8,
     "metadata": {},
     "output_type": "execute_result"
    }
   ],
   "source": [
    "pauli(1)"
   ]
  },
  {
   "cell_type": "code",
   "execution_count": 9,
   "id": "980c11e3",
   "metadata": {},
   "outputs": [
    {
     "data": {
      "image/png": "[encoded data removed]",
      "text/latex": [
       "$\\displaystyle i c_{+} {\\left|001110\\right\\rangle } + c_{-} {\\left|100110\\right\\rangle }$"
      ],
      "text/plain": [
       "ⅈ⋅c₊⋅❘001110⟩ + c₋⋅❘100110⟩"
      ]
     },
     "execution_count": 9,
     "metadata": {},
     "output_type": "execute_result"
    }
   ],
   "source": [
    "ψ2_ABbWZa = ctrlp(pauli(1), ψ1_ABbWZa, [3,1],[4])\n",
    "mysim(mbk(ψ2_ABbWZa))"
   ]
  },
  {
   "cell_type": "markdown",
   "id": "d799a451",
   "metadata": {},
   "source": [
    "Changing the subsystems order $ABbWZa \\rightarrow AbWZBa$"
   ]
  },
  {
   "cell_type": "code",
   "execution_count": 10,
   "id": "c9039bd8",
   "metadata": {},
   "outputs": [
    {
     "data": {
      "image/png": "[encoded data removed]",
      "text/latex": [
       "$\\displaystyle i c_{+} {\\left|011100\\right\\rangle } + c_{-} {\\left|101100\\right\\rangle }$"
      ],
      "text/plain": [
       "ⅈ⋅c₊⋅❘011100⟩ + c₋⋅❘101100⟩"
      ]
     },
     "execution_count": 10,
     "metadata": {},
     "output_type": "execute_result"
    }
   ],
   "source": [
    "ψ2_AbWZBa = changeSS(ψ2_ABbWZa, 4,1)\n",
    "mysim(mbk(ψ2_AbWZBa))"
   ]
  },
  {
   "cell_type": "markdown",
   "id": "7061536f",
   "metadata": {},
   "source": [
    "### PAI - photon-atoms interaction"
   ]
  },
  {
   "cell_type": "code",
   "execution_count": 11,
   "id": "3eb1c9c9",
   "metadata": {},
   "outputs": [
    {
     "data": {
      "image/png": "[encoded data removed]",
      "text/latex": [
       "$\\displaystyle i c_{+} {\\left|011000\\right\\rangle } + c_{-} {\\left|100100\\right\\rangle }$"
      ],
      "text/plain": [
       "ⅈ⋅c₊⋅❘011000⟩ + c₋⋅❘100100⟩"
      ]
     },
     "execution_count": 11,
     "metadata": {},
     "output_type": "execute_result"
    }
   ],
   "source": [
    "ψ3_AbWZBa = ctrlp(pauli(1), ψ2_AbWZBa, [4,0],[3])\n",
    "ψ3_AbWZBa = ctrlp(pauli(1), ψ3_AbWZBa, [4,1],[2])\n",
    "mysim(mbk(ψ3_AbWZBa))"
   ]
  },
  {
   "cell_type": "markdown",
   "id": "8227123e",
   "metadata": {},
   "source": [
    "### Mirrors"
   ]
  },
  {
   "cell_type": "code",
   "execution_count": 12,
   "id": "6e0f0e76",
   "metadata": {},
   "outputs": [
    {
     "data": {
      "image/png": "[encoded data removed]",
      "text/latex": [
       "$\\displaystyle \\left[\\begin{matrix}0 & 1.0 i\\\\1.0 i & 0\\end{matrix}\\right]$"
      ],
      "text/plain": [
       "⎡  0    1.0⋅ⅈ⎤\n",
       "⎢            ⎥\n",
       "⎣1.0⋅ⅈ    0  ⎦"
      ]
     },
     "execution_count": 12,
     "metadata": {},
     "output_type": "execute_result"
    }
   ],
   "source": [
    "M"
   ]
  },
  {
   "cell_type": "code",
   "execution_count": 13,
   "id": "d69dd269",
   "metadata": {},
   "outputs": [
    {
     "data": {
      "image/png": "[encoded data removed]",
      "text/latex": [
       "$\\displaystyle - c_{+} {\\left|001000\\right\\rangle } + i c_{-} {\\left|110100\\right\\rangle }$"
      ],
      "text/plain": [
       "-c₊⋅❘001000⟩ + ⅈ⋅c₋⋅❘110100⟩"
      ]
     },
     "execution_count": 13,
     "metadata": {},
     "output_type": "execute_result"
    }
   ],
   "source": [
    "ψ4_AbWZBa = gatep(M, ψ3_AbWZBa, 4)\n",
    "mysim(mbk(ψ4_AbWZBa))"
   ]
  },
  {
   "cell_type": "markdown",
   "id": "eee59ab3",
   "metadata": {},
   "source": [
    "### BS"
   ]
  },
  {
   "cell_type": "code",
   "execution_count": 14,
   "id": "da982380",
   "metadata": {},
   "outputs": [
    {
     "data": {
      "image/png": "[encoded data removed]",
      "text/latex": [
       "$\\displaystyle \\left[\\begin{matrix}\\frac{\\sqrt{2}}{2} & \\frac{\\sqrt{2} i}{2}\\\\\\frac{\\sqrt{2} i}{2} & \\frac{\\sqrt{2}}{2}\\end{matrix}\\right]$"
      ],
      "text/plain": [
       "⎡ √2   √2⋅ⅈ⎤\n",
       "⎢ ──   ────⎥\n",
       "⎢ 2     2  ⎥\n",
       "⎢          ⎥\n",
       "⎢√2⋅ⅈ   √2 ⎥\n",
       "⎢────   ── ⎥\n",
       "⎣ 2     2  ⎦"
      ]
     },
     "execution_count": 14,
     "metadata": {},
     "output_type": "execute_result"
    }
   ],
   "source": [
    "mysim(BS)"
   ]
  },
  {
   "cell_type": "code",
   "execution_count": 15,
   "id": "bf895ccb",
   "metadata": {},
   "outputs": [
    {
     "data": {
      "image/png": "[encoded data removed]",
      "text/latex": [
       "$\\displaystyle \\frac{\\sqrt{2} \\left(- c_{+} {\\left|001000\\right\\rangle } - i c_{+} {\\left|011000\\right\\rangle } - c_{-} {\\left|100100\\right\\rangle } + i c_{-} {\\left|110100\\right\\rangle }\\right)}{2}$"
      ],
      "text/plain": [
       "√2⋅(-c₊⋅❘001000⟩ - ⅈ⋅c₊⋅❘011000⟩ - c₋⋅❘100100⟩ + ⅈ⋅c₋⋅❘110100⟩)\n",
       "───────────────────────────────────────────────────────────────\n",
       "                               2                               "
      ]
     },
     "execution_count": 15,
     "metadata": {},
     "output_type": "execute_result"
    }
   ],
   "source": [
    "ψ5_AbWZBa = gatep(BS, ψ4_AbWZBa, 4)\n",
    "mysim(mbk(ψ5_AbWZBa))"
   ]
  },
  {
   "cell_type": "markdown",
   "id": "c6991522",
   "metadata": {},
   "source": [
    "## Irreality for $b$ - QWP$_{out}$"
   ]
  },
  {
   "cell_type": "code",
   "execution_count": 16,
   "id": "9f615d3d",
   "metadata": {},
   "outputs": [
    {
     "data": {
      "image/png": "[encoded data removed]",
      "text/latex": [
       "$\\displaystyle i c_{+} {\\left|011100\\right\\rangle } + c_{-} {\\left|101100\\right\\rangle }$"
      ],
      "text/plain": [
       "ⅈ⋅c₊⋅❘011100⟩ + c₋⋅❘101100⟩"
      ]
     },
     "execution_count": 16,
     "metadata": {},
     "output_type": "execute_result"
    }
   ],
   "source": [
    "mysim(mbk(ψ2_AbWZBa))"
   ]
  },
  {
   "cell_type": "code",
   "execution_count": 18,
   "id": "2717a077",
   "metadata": {},
   "outputs": [
    {
     "data": {
      "image/png": "[encoded data removed]",
      "text/latex": [
       "$\\displaystyle i \\left(c_{+} {\\left|011100\\right\\rangle } + c_{-} {\\left|101101\\right\\rangle }\\right)$"
      ],
      "text/plain": [
       "ⅈ⋅(c₊⋅❘011100⟩ + c₋⋅❘101101⟩)"
      ]
     },
     "execution_count": 18,
     "metadata": {},
     "output_type": "execute_result"
    }
   ],
   "source": [
    "ψ2out_AbWZBa = ctrlp(M, ψ2_AbWZBa, [5, 1], [0])\n",
    "mysim(mbk(ψ2out_AbWZBa))"
   ]
  },
  {
   "cell_type": "code",
   "execution_count": 19,
   "id": "8cb5a88b",
   "metadata": {},
   "outputs": [
    {
     "data": {
      "image/png": "[encoded data removed]",
      "text/latex": [
       "$\\displaystyle c_{+}^{2} {\\left|0111\\right\\rangle } {\\left\\langle 0111\\right|} + c_{-}^{2} {\\left|1011\\right\\rangle } {\\left\\langle 1011\\right|}$"
      ],
      "text/plain": [
       "  2                   2              \n",
       "c₊ ⋅❘0111⟩⋅⟨0111❘ + c₋ ⋅❘1011⟩⋅⟨1011❘"
      ]
     },
     "execution_count": 19,
     "metadata": {},
     "output_type": "execute_result"
    }
   ],
   "source": [
    "ρ2out_AbWZ_trBa = ptraceB(16, 4, proj(ψ2out_AbWZBa))\n",
    "mysim(mbk(ρ2out_AbWZ_trBa))"
   ]
  },
  {
   "cell_type": "code",
   "execution_count": 20,
   "id": "f62af030",
   "metadata": {},
   "outputs": [
    {
     "data": {
      "image/png": "[encoded data removed]",
      "text/latex": [
       "$\\displaystyle {\\left|111\\right\\rangle } {\\left\\langle 111\\right|}$"
      ],
      "text/plain": [
       "❘111⟩⋅⟨111❘"
      ]
     },
     "execution_count": 20,
     "metadata": {},
     "output_type": "execute_result"
    }
   ],
   "source": [
    "ρ2out_0bWZ_trBa = projM(8, '0', ρ2out_AbWZ_trBa)\n",
    "mysim(mbk(ρ2out_0bWZ_trBa))"
   ]
  },
  {
   "cell_type": "code",
   "execution_count": 21,
   "id": "05bb531a",
   "metadata": {},
   "outputs": [
    {
     "data": {
      "image/png": "[encoded data removed]",
      "text/latex": [
       "$\\displaystyle {\\left|111\\right\\rangle } {\\left\\langle 111\\right|}$"
      ],
      "text/plain": [
       "❘111⟩⋅⟨111❘"
      ]
     },
     "execution_count": 21,
     "metadata": {},
     "output_type": "execute_result"
    }
   ],
   "source": [
    "ρ2out_0bWZ_trBa_deph = dephasing_map_3qubits(ρ2out_0bWZ_trBa)\n",
    "mysim(mbk(ρ2out_0bWZ_trBa_deph))#.subs(cp**2+cm**2, 1)"
   ]
  },
  {
   "cell_type": "code",
   "execution_count": 22,
   "id": "a40c32e1",
   "metadata": {},
   "outputs": [
    {
     "data": {
      "image/png": "[encoded data removed]",
      "text/latex": [
       "$\\displaystyle 0$"
      ],
      "text/plain": [
       "0"
      ]
     },
     "execution_count": 22,
     "metadata": {},
     "output_type": "execute_result"
    }
   ],
   "source": [
    "Irr_b_out = von_neumann_sympy(ρ2out_0bWZ_trBa_deph) - von_neumann_sympy(ρ2out_0bWZ_trBa)\n",
    "Irr_b_out"
   ]
  },
  {
   "cell_type": "markdown",
   "id": "fca02bd6",
   "metadata": {},
   "source": [
    "## Irreality for $b$ - QWP$_{in}$"
   ]
  },
  {
   "cell_type": "code",
   "execution_count": 23,
   "id": "280de581",
   "metadata": {},
   "outputs": [
    {
     "data": {
      "image/png": "[encoded data removed]",
      "text/latex": [
       "$\\displaystyle i c_{+} {\\left|011100\\right\\rangle } + c_{-} {\\left|101100\\right\\rangle }$"
      ],
      "text/plain": [
       "ⅈ⋅c₊⋅❘011100⟩ + c₋⋅❘101100⟩"
      ]
     },
     "execution_count": 23,
     "metadata": {},
     "output_type": "execute_result"
    }
   ],
   "source": [
    "mysim(mbk(ψ2_AbWZBa))"
   ]
  },
  {
   "cell_type": "code",
   "execution_count": 24,
   "id": "0b0e9225",
   "metadata": {},
   "outputs": [
    {
     "data": {
      "image/png": "[encoded data removed]",
      "text/latex": [
       "$\\displaystyle \\left[\\begin{matrix}\\frac{\\sqrt{2}}{2} & \\frac{\\sqrt{2}}{2}\\\\\\frac{\\sqrt{2} i}{2} & - \\frac{\\sqrt{2} i}{2}\\end{matrix}\\right]$"
      ],
      "text/plain": [
       "⎡ √2     √2  ⎤\n",
       "⎢ ──     ──  ⎥\n",
       "⎢ 2      2   ⎥\n",
       "⎢            ⎥\n",
       "⎢√2⋅ⅈ  -√2⋅ⅈ ⎥\n",
       "⎢────  ──────⎥\n",
       "⎣ 2      2   ⎦"
      ]
     },
     "execution_count": 24,
     "metadata": {},
     "output_type": "execute_result"
    }
   ],
   "source": [
    "mysim(QWP)"
   ]
  },
  {
   "cell_type": "code",
   "execution_count": 40,
   "id": "23d77986",
   "metadata": {},
   "outputs": [
    {
     "data": {
      "image/png": "[encoded data removed]",
      "text/latex": [
       "$\\displaystyle \\frac{\\sqrt{2} \\left(i c_{+} {\\left|011100\\right\\rangle } - i c_{+} {\\left|111101\\right\\rangle } + c_{-} {\\left|001100\\right\\rangle } + c_{-} {\\left|101101\\right\\rangle }\\right)}{2}$"
      ],
      "text/plain": [
       "√2⋅(ⅈ⋅c₊⋅❘011100⟩ - ⅈ⋅c₊⋅❘111101⟩ + c₋⋅❘001100⟩ + c₋⋅❘101101⟩)\n",
       "──────────────────────────────────────────────────────────────\n",
       "                              2                               "
      ]
     },
     "execution_count": 40,
     "metadata": {},
     "output_type": "execute_result"
    }
   ],
   "source": [
    "ψ2in_AbWZBa = gatep(QWP, ψ2_AbWZBa, 5)\n",
    "ψ2in_AbWZBa = ctrlp(M, ψ2in_AbWZBa, [5, 1], [0])\n",
    "mysim(mbk(ψ2in_AbWZBa))"
   ]
  },
  {
   "cell_type": "code",
   "execution_count": 41,
   "id": "4778f534",
   "metadata": {},
   "outputs": [
    {
     "data": {
      "image/png": "[encoded data removed]",
      "text/latex": [
       "$\\displaystyle \\frac{c_{+}^{2} {\\left|0111\\right\\rangle } {\\left\\langle 0111\\right|} + c_{+}^{2} {\\left|1111\\right\\rangle } {\\left\\langle 1111\\right|} - i c_{+} c_{-} {\\left|0011\\right\\rangle } {\\left\\langle 0111\\right|} + i c_{+} c_{-} {\\left|0111\\right\\rangle } {\\left\\langle 0011\\right|} + i c_{+} c_{-} {\\left|1011\\right\\rangle } {\\left\\langle 1111\\right|} - i c_{+} c_{-} {\\left|1111\\right\\rangle } {\\left\\langle 1011\\right|} + c_{-}^{2} {\\left|0011\\right\\rangle } {\\left\\langle 0011\\right|} + c_{-}^{2} {\\left|1011\\right\\rangle } {\\left\\langle 1011\\right|}}{2}$"
      ],
      "text/plain": [
       "  2                   2                                                       \n",
       "c₊ ⋅❘0111⟩⋅⟨0111❘ + c₊ ⋅❘1111⟩⋅⟨1111❘ - ⅈ⋅c₊⋅c₋⋅❘0011⟩⋅⟨0111❘ + ⅈ⋅c₊⋅c₋⋅❘0111⟩\n",
       "──────────────────────────────────────────────────────────────────────────────\n",
       "                                                                              \n",
       "\n",
       "                                                            2                 \n",
       "⋅⟨0011❘ + ⅈ⋅c₊⋅c₋⋅❘1011⟩⋅⟨1111❘ - ⅈ⋅c₊⋅c₋⋅❘1111⟩⋅⟨1011❘ + c₋ ⋅❘0011⟩⋅⟨0011❘ + \n",
       "──────────────────────────────────────────────────────────────────────────────\n",
       "        2                                                                     \n",
       "\n",
       "  2              \n",
       "c₋ ⋅❘1011⟩⋅⟨1011❘\n",
       "─────────────────\n",
       "                 "
      ]
     },
     "execution_count": 41,
     "metadata": {},
     "output_type": "execute_result"
    }
   ],
   "source": [
    "ρ2in_AbWZ_trBa = ptraceB(16, 4, proj(ψ2in_AbWZBa))\n",
    "mysim(mbk(ρ2in_AbWZ_trBa))"
   ]
  },
  {
   "cell_type": "code",
   "execution_count": 42,
   "id": "a82db634",
   "metadata": {},
   "outputs": [
    {
     "data": {
      "image/png": "[encoded data removed]",
      "text/latex": [
       "$\\displaystyle c_{+}^{2} {\\left|111\\right\\rangle } {\\left\\langle 111\\right|} - i c_{+} c_{-} {\\left|011\\right\\rangle } {\\left\\langle 111\\right|} + i c_{+} c_{-} {\\left|111\\right\\rangle } {\\left\\langle 011\\right|} + c_{-}^{2} {\\left|011\\right\\rangle } {\\left\\langle 011\\right|}$"
      ],
      "text/plain": [
       "  2                                                             2            \n",
       "c₊ ⋅❘111⟩⋅⟨111❘ - ⅈ⋅c₊⋅c₋⋅❘011⟩⋅⟨111❘ + ⅈ⋅c₊⋅c₋⋅❘111⟩⋅⟨011❘ + c₋ ⋅❘011⟩⋅⟨011❘"
      ]
     },
     "execution_count": 42,
     "metadata": {},
     "output_type": "execute_result"
    }
   ],
   "source": [
    "ρ2in_0bWZ_trBa = projM(8, '0', ρ2in_AbWZ_trBa)\n",
    "mysim(mbk(ρ2in_0bWZ_trBa)).subs(cp**2+cm**2, 1)"
   ]
  },
  {
   "cell_type": "code",
   "execution_count": 45,
   "id": "0040ee2f",
   "metadata": {},
   "outputs": [
    {
     "data": {
      "image/png": "[encoded data removed]",
      "text/latex": [
       "$\\displaystyle c_{+}^{2} {\\left|111\\right\\rangle } {\\left\\langle 111\\right|} + c_{-}^{2} {\\left|011\\right\\rangle } {\\left\\langle 011\\right|}$"
      ],
      "text/plain": [
       "  2                 2            \n",
       "c₊ ⋅❘111⟩⋅⟨111❘ + c₋ ⋅❘011⟩⋅⟨011❘"
      ]
     },
     "execution_count": 45,
     "metadata": {},
     "output_type": "execute_result"
    }
   ],
   "source": [
    "ρ2in_0bWZ_trBa_deph = dephasing_map_3qubits(ρ2in_0bWZ_trBa)\n",
    "mysim(mbk(ρ2in_0bWZ_trBa_deph)).subs(cp**2+cm**2, 1)"
   ]
  },
  {
   "cell_type": "code",
   "execution_count": 49,
   "id": "a08f54e0",
   "metadata": {},
   "outputs": [
    {
     "data": {
      "image/png": "[encoded data removed]",
      "text/latex": [
       "$\\displaystyle - 1.0 c_{+}^{2} \\log{\\left(1.0 c_{+}^{2} \\right)} - c_{-}^{2} \\log{\\left(c_{-}^{2} \\right)}$"
      ],
      "text/plain": [
       "    2    ⎛      2⎞     2    ⎛  2⎞\n",
       "- c₊ ⋅log⎝1.0⋅c₊ ⎠ - c₋ ⋅log⎝c₋ ⎠"
      ]
     },
     "execution_count": 49,
     "metadata": {},
     "output_type": "execute_result"
    }
   ],
   "source": [
    "Irr_b_in = von_neumann_sympy(ρ2in_0bWZ_trBa_deph) - von_neumann_sympy(ρ2in_0bWZ_trBa)\n",
    "Irr_b_in.subs(cp**2+cm**2, 1)"
   ]
  },
  {
   "cell_type": "code",
   "execution_count": 51,
   "id": "b24e2480",
   "metadata": {},
   "outputs": [
    {
     "data": {
      "image/png": "[encoded data removed]",
      "text/latex": [
       "$\\displaystyle - 1.0 c_{+}^{2} \\log{\\left(1.0 c_{+}^{2} \\right)} - c_{-}^{2} \\log{\\left(c_{-}^{2} \\right)}$"
      ],
      "text/plain": [
       "    2    ⎛      2⎞     2    ⎛  2⎞\n",
       "- c₊ ⋅log⎝1.0⋅c₊ ⎠ - c₋ ⋅log⎝c₋ ⎠"
      ]
     },
     "execution_count": 51,
     "metadata": {},
     "output_type": "execute_result"
    }
   ],
   "source": [
    "von_neumann_sympy(ρ2in_0bWZ_trBa_deph).subs(cp**2+cm**2, 1)"
   ]
  },
  {
   "cell_type": "code",
   "execution_count": 48,
   "id": "e87c8be4",
   "metadata": {},
   "outputs": [
    {
     "data": {
      "image/png": "[encoded data removed]",
      "text/latex": [
       "$\\displaystyle 0$"
      ],
      "text/plain": [
       "0"
      ]
     },
     "execution_count": 48,
     "metadata": {},
     "output_type": "execute_result"
    }
   ],
   "source": [
    "von_neumann_sympy(ρ2in_0bWZ_trBa)"
   ]
  },
  {
   "cell_type": "markdown",
   "id": "78a3e3a9",
   "metadata": {},
   "source": [
    "## Irreality for $WZ$ - QWP$_{out}$"
   ]
  },
  {
   "cell_type": "code",
   "execution_count": 84,
   "id": "09217273",
   "metadata": {},
   "outputs": [
    {
     "data": {
      "image/png": "[encoded data removed]",
      "text/latex": [
       "$\\displaystyle \\frac{\\sqrt{2} \\left(- c_{+} {\\left|001000\\right\\rangle } - i c_{+} {\\left|011000\\right\\rangle } - c_{-} {\\left|100100\\right\\rangle } + i c_{-} {\\left|110100\\right\\rangle }\\right)}{2}$"
      ],
      "text/plain": [
       "√2⋅(-c₊⋅❘001000⟩ - ⅈ⋅c₊⋅❘011000⟩ - c₋⋅❘100100⟩ + ⅈ⋅c₋⋅❘110100⟩)\n",
       "───────────────────────────────────────────────────────────────\n",
       "                               2                               "
      ]
     },
     "execution_count": 84,
     "metadata": {},
     "output_type": "execute_result"
    }
   ],
   "source": [
    "mysim(mbk(ψ5_AbWZBa))"
   ]
  },
  {
   "cell_type": "code",
   "execution_count": 85,
   "id": "2500767a",
   "metadata": {},
   "outputs": [
    {
     "data": {
      "image/png": "[encoded data removed]",
      "text/latex": [
       "$\\displaystyle \\frac{\\sqrt{2} \\left(- c_{+} {\\left|001000\\right\\rangle } - i c_{+} {\\left|011000\\right\\rangle } - i c_{-} {\\left|100101\\right\\rangle } - c_{-} {\\left|110101\\right\\rangle }\\right)}{2}$"
      ],
      "text/plain": [
       "√2⋅(-c₊⋅❘001000⟩ - ⅈ⋅c₊⋅❘011000⟩ - ⅈ⋅c₋⋅❘100101⟩ - c₋⋅❘110101⟩)\n",
       "───────────────────────────────────────────────────────────────\n",
       "                               2                               "
      ]
     },
     "execution_count": 85,
     "metadata": {},
     "output_type": "execute_result"
    }
   ],
   "source": [
    "ψ5out_AbWZBa = ctrlp(M, ψ5_AbWZBa, [5, 1], [0])\n",
    "mysim(mbk(ψ5out_AbWZBa))"
   ]
  },
  {
   "cell_type": "code",
   "execution_count": 86,
   "id": "8a211107",
   "metadata": {},
   "outputs": [
    {
     "data": {
      "image/png": "[encoded data removed]",
      "text/latex": [
       "$\\displaystyle \\frac{c_{+}^{2} {\\left|0010\\right\\rangle } {\\left\\langle 0010\\right|} - i c_{+}^{2} {\\left|0010\\right\\rangle } {\\left\\langle 0110\\right|} + i c_{+}^{2} {\\left|0110\\right\\rangle } {\\left\\langle 0010\\right|} + c_{+}^{2} {\\left|0110\\right\\rangle } {\\left\\langle 0110\\right|} + c_{-}^{2} {\\left|1001\\right\\rangle } {\\left\\langle 1001\\right|} + i c_{-}^{2} {\\left|1001\\right\\rangle } {\\left\\langle 1101\\right|} - i c_{-}^{2} {\\left|1101\\right\\rangle } {\\left\\langle 1001\\right|} + c_{-}^{2} {\\left|1101\\right\\rangle } {\\left\\langle 1101\\right|}}{2}$"
      ],
      "text/plain": [
       "  2                     2                     2                   2           \n",
       "c₊ ⋅❘0010⟩⋅⟨0010❘ - ⅈ⋅c₊ ⋅❘0010⟩⋅⟨0110❘ + ⅈ⋅c₊ ⋅❘0110⟩⋅⟨0010❘ + c₊ ⋅❘0110⟩⋅⟨01\n",
       "──────────────────────────────────────────────────────────────────────────────\n",
       "                                                                              \n",
       "\n",
       "        2                     2                     2                   2     \n",
       "10❘ + c₋ ⋅❘1001⟩⋅⟨1001❘ + ⅈ⋅c₋ ⋅❘1001⟩⋅⟨1101❘ - ⅈ⋅c₋ ⋅❘1101⟩⋅⟨1001❘ + c₋ ⋅❘110\n",
       "──────────────────────────────────────────────────────────────────────────────\n",
       "    2                                                                         \n",
       "\n",
       "         \n",
       "1⟩⋅⟨1101❘\n",
       "─────────\n",
       "         "
      ]
     },
     "execution_count": 86,
     "metadata": {},
     "output_type": "execute_result"
    }
   ],
   "source": [
    "ρ5out_AbWZ_trBa = ptraceB(16, 4, proj(ψ5out_AbWZBa))\n",
    "mysim(mbk(ρ5out_AbWZ_trBa))"
   ]
  },
  {
   "cell_type": "code",
   "execution_count": 96,
   "id": "9e02685a",
   "metadata": {},
   "outputs": [
    {
     "data": {
      "image/png": "[encoded data removed]",
      "text/latex": [
       "$\\displaystyle {\\left|10\\right\\rangle } {\\left\\langle 10\\right|}$"
      ],
      "text/plain": [
       "❘10⟩⋅⟨10❘"
      ]
     },
     "execution_count": 96,
     "metadata": {},
     "output_type": "execute_result"
    }
   ],
   "source": [
    "ρ5out_00WZ_trBa = projM(4, '00', ρ5out_AbWZ_trBa)\n",
    "mysim(mbk(ρ5out_00WZ_trBa))"
   ]
  },
  {
   "cell_type": "code",
   "execution_count": 97,
   "id": "7cc69fc7",
   "metadata": {},
   "outputs": [
    {
     "data": {
      "image/png": "[encoded data removed]",
      "text/latex": [
       "$\\displaystyle 0$"
      ],
      "text/plain": [
       "0"
      ]
     },
     "execution_count": 97,
     "metadata": {},
     "output_type": "execute_result"
    }
   ],
   "source": [
    "von_neumann_sympy(ρ5out_00WZ_trBa)"
   ]
  },
  {
   "cell_type": "code",
   "execution_count": 98,
   "id": "bea21644",
   "metadata": {},
   "outputs": [
    {
     "data": {
      "image/png": "[encoded data removed]",
      "text/latex": [
       "$\\displaystyle {\\left|10\\right\\rangle } {\\left\\langle 10\\right|}$"
      ],
      "text/plain": [
       "❘10⟩⋅⟨10❘"
      ]
     },
     "execution_count": 98,
     "metadata": {},
     "output_type": "execute_result"
    }
   ],
   "source": [
    "ρ5out_00WZ_trBa_deph = dephasing_map_2qubits(ρ5out_00WZ_trBa)\n",
    "mysim(mbk(ρ5out_00WZ_trBa_deph))#.subs(cp**5+cm**5, 1)"
   ]
  },
  {
   "cell_type": "code",
   "execution_count": 99,
   "id": "f1d13738",
   "metadata": {},
   "outputs": [
    {
     "data": {
      "image/png": "[encoded data removed]",
      "text/latex": [
       "$\\displaystyle 0$"
      ],
      "text/plain": [
       "0"
      ]
     },
     "execution_count": 99,
     "metadata": {},
     "output_type": "execute_result"
    }
   ],
   "source": [
    "von_neumann_sympy(ρ5out_00WZ_trBa_deph)"
   ]
  },
  {
   "cell_type": "code",
   "execution_count": 100,
   "id": "b117e3d0",
   "metadata": {},
   "outputs": [
    {
     "data": {
      "image/png": "[encoded data removed]",
      "text/latex": [
       "$\\displaystyle 0$"
      ],
      "text/plain": [
       "0"
      ]
     },
     "execution_count": 100,
     "metadata": {},
     "output_type": "execute_result"
    }
   ],
   "source": [
    "Irr_b_out = von_neumann_sympy(ρ5out_00WZ_trBa_deph) - von_neumann_sympy(ρ5out_00WZ_trBa)\n",
    "Irr_b_out"
   ]
  },
  {
   "cell_type": "markdown",
   "id": "a83e523e",
   "metadata": {},
   "source": [
    "## Irreality for $WZ$ - QWP$_{in}$"
   ]
  },
  {
   "cell_type": "code",
   "execution_count": 101,
   "id": "61a8487b",
   "metadata": {},
   "outputs": [
    {
     "data": {
      "image/png": "[encoded data removed]",
      "text/latex": [
       "$\\displaystyle \\frac{\\sqrt{2} \\left(- c_{+} {\\left|001000\\right\\rangle } - i c_{+} {\\left|011000\\right\\rangle } - c_{-} {\\left|100100\\right\\rangle } + i c_{-} {\\left|110100\\right\\rangle }\\right)}{2}$"
      ],
      "text/plain": [
       "√2⋅(-c₊⋅❘001000⟩ - ⅈ⋅c₊⋅❘011000⟩ - c₋⋅❘100100⟩ + ⅈ⋅c₋⋅❘110100⟩)\n",
       "───────────────────────────────────────────────────────────────\n",
       "                               2                               "
      ]
     },
     "execution_count": 101,
     "metadata": {},
     "output_type": "execute_result"
    }
   ],
   "source": [
    "mysim(mbk(ψ5_AbWZBa))"
   ]
  },
  {
   "cell_type": "code",
   "execution_count": 102,
   "id": "541a2b38",
   "metadata": {},
   "outputs": [
    {
     "data": {
      "image/png": "[encoded data removed]",
      "text/latex": [
       "$\\displaystyle \\left[\\begin{matrix}\\frac{\\sqrt{2}}{2} & \\frac{\\sqrt{2}}{2}\\\\\\frac{\\sqrt{2} i}{2} & - \\frac{\\sqrt{2} i}{2}\\end{matrix}\\right]$"
      ],
      "text/plain": [
       "⎡ √2     √2  ⎤\n",
       "⎢ ──     ──  ⎥\n",
       "⎢ 2      2   ⎥\n",
       "⎢            ⎥\n",
       "⎢√2⋅ⅈ  -√2⋅ⅈ ⎥\n",
       "⎢────  ──────⎥\n",
       "⎣ 2      2   ⎦"
      ]
     },
     "execution_count": 102,
     "metadata": {},
     "output_type": "execute_result"
    }
   ],
   "source": [
    "mysim(QWP)"
   ]
  },
  {
   "cell_type": "code",
   "execution_count": 103,
   "id": "9730cb90",
   "metadata": {},
   "outputs": [
    {
     "data": {
      "image/png": "[encoded data removed]",
      "text/latex": [
       "$\\displaystyle \\frac{- c_{+} {\\left|001000\\right\\rangle } - i c_{+} {\\left|011000\\right\\rangle } + c_{+} {\\left|101001\\right\\rangle } + i c_{+} {\\left|111001\\right\\rangle } - c_{-} {\\left|000100\\right\\rangle } + i c_{-} {\\left|010100\\right\\rangle } - c_{-} {\\left|100101\\right\\rangle } + i c_{-} {\\left|110101\\right\\rangle }}{2}$"
      ],
      "text/plain": [
       "-c₊⋅❘001000⟩ - ⅈ⋅c₊⋅❘011000⟩ + c₊⋅❘101001⟩ + ⅈ⋅c₊⋅❘111001⟩ - c₋⋅❘000100⟩ + ⅈ⋅c\n",
       "──────────────────────────────────────────────────────────────────────────────\n",
       "                                                          2                   \n",
       "\n",
       "₋⋅❘010100⟩ - c₋⋅❘100101⟩ + ⅈ⋅c₋⋅❘110101⟩\n",
       "────────────────────────────────────────\n",
       "                                        "
      ]
     },
     "execution_count": 103,
     "metadata": {},
     "output_type": "execute_result"
    }
   ],
   "source": [
    "ψ5in_AbWZBa = gatep(QWP, ψ5_AbWZBa, 5)\n",
    "ψ5in_AbWZBa = ctrlp(M, ψ5in_AbWZBa, [5, 1], [0])\n",
    "mysim(mbk(ψ5in_AbWZBa))"
   ]
  },
  {
   "cell_type": "code",
   "execution_count": 104,
   "id": "83c48c4b",
   "metadata": {},
   "outputs": [
    {
     "data": {
      "image/png": "[encoded data removed]",
      "text/latex": [
       "$\\displaystyle \\frac{c_{+}^{2} {\\left|0010\\right\\rangle } {\\left\\langle 0010\\right|} - i c_{+}^{2} {\\left|0010\\right\\rangle } {\\left\\langle 0110\\right|} + i c_{+}^{2} {\\left|0110\\right\\rangle } {\\left\\langle 0010\\right|} + c_{+}^{2} {\\left|0110\\right\\rangle } {\\left\\langle 0110\\right|} + c_{+}^{2} {\\left|1010\\right\\rangle } {\\left\\langle 1010\\right|} - i c_{+}^{2} {\\left|1010\\right\\rangle } {\\left\\langle 1110\\right|} + i c_{+}^{2} {\\left|1110\\right\\rangle } {\\left\\langle 1010\\right|} + c_{+}^{2} {\\left|1110\\right\\rangle } {\\left\\langle 1110\\right|} + c_{+} c_{-} {\\left|0001\\right\\rangle } {\\left\\langle 0010\\right|} - i c_{+} c_{-} {\\left|0001\\right\\rangle } {\\left\\langle 0110\\right|} + c_{+} c_{-} {\\left|0010\\right\\rangle } {\\left\\langle 0001\\right|} + i c_{+} c_{-} {\\left|0010\\right\\rangle } {\\left\\langle 0101\\right|} - i c_{+} c_{-} {\\left|0101\\right\\rangle } {\\left\\langle 0010\\right|} - c_{+} c_{-} {\\left|0101\\right\\rangle } {\\left\\langle 0110\\right|} + i c_{+} c_{-} {\\left|0110\\right\\rangle } {\\left\\langle 0001\\right|} - c_{+} c_{-} {\\left|0110\\right\\rangle } {\\left\\langle 0101\\right|} - c_{+} c_{-} {\\left|1001\\right\\rangle } {\\left\\langle 1010\\right|} + i c_{+} c_{-} {\\left|1001\\right\\rangle } {\\left\\langle 1110\\right|} - c_{+} c_{-} {\\left|1010\\right\\rangle } {\\left\\langle 1001\\right|} - i c_{+} c_{-} {\\left|1010\\right\\rangle } {\\left\\langle 1101\\right|} + i c_{+} c_{-} {\\left|1101\\right\\rangle } {\\left\\langle 1010\\right|} + c_{+} c_{-} {\\left|1101\\right\\rangle } {\\left\\langle 1110\\right|} - i c_{+} c_{-} {\\left|1110\\right\\rangle } {\\left\\langle 1001\\right|} + c_{+} c_{-} {\\left|1110\\right\\rangle } {\\left\\langle 1101\\right|} + c_{-}^{2} {\\left|0001\\right\\rangle } {\\left\\langle 0001\\right|} + i c_{-}^{2} {\\left|0001\\right\\rangle } {\\left\\langle 0101\\right|} - i c_{-}^{2} {\\left|0101\\right\\rangle } {\\left\\langle 0001\\right|} + c_{-}^{2} {\\left|0101\\right\\rangle } {\\left\\langle 0101\\right|} + c_{-}^{2} {\\left|1001\\right\\rangle } {\\left\\langle 1001\\right|} + i c_{-}^{2} {\\left|1001\\right\\rangle } {\\left\\langle 1101\\right|} - i c_{-}^{2} {\\left|1101\\right\\rangle } {\\left\\langle 1001\\right|} + c_{-}^{2} {\\left|1101\\right\\rangle } {\\left\\langle 1101\\right|}}{4}$"
      ],
      "text/plain": [
       "  2                     2                     2                   2           \n",
       "c₊ ⋅❘0010⟩⋅⟨0010❘ - ⅈ⋅c₊ ⋅❘0010⟩⋅⟨0110❘ + ⅈ⋅c₊ ⋅❘0110⟩⋅⟨0010❘ + c₊ ⋅❘0110⟩⋅⟨01\n",
       "──────────────────────────────────────────────────────────────────────────────\n",
       "                                                                              \n",
       "\n",
       "        2                     2                     2                   2     \n",
       "10❘ + c₊ ⋅❘1010⟩⋅⟨1010❘ - ⅈ⋅c₊ ⋅❘1010⟩⋅⟨1110❘ + ⅈ⋅c₊ ⋅❘1110⟩⋅⟨1010❘ + c₊ ⋅❘111\n",
       "──────────────────────────────────────────────────────────────────────────────\n",
       "                                                                              \n",
       "\n",
       "                                                                              \n",
       "0⟩⋅⟨1110❘ + c₊⋅c₋⋅❘0001⟩⋅⟨0010❘ - ⅈ⋅c₊⋅c₋⋅❘0001⟩⋅⟨0110❘ + c₊⋅c₋⋅❘0010⟩⋅⟨0001❘ \n",
       "──────────────────────────────────────────────────────────────────────────────\n",
       "                                                                              \n",
       "\n",
       "                                                                              \n",
       "+ ⅈ⋅c₊⋅c₋⋅❘0010⟩⋅⟨0101❘ - ⅈ⋅c₊⋅c₋⋅❘0101⟩⋅⟨0010❘ - c₊⋅c₋⋅❘0101⟩⋅⟨0110❘ + ⅈ⋅c₊⋅c\n",
       "──────────────────────────────────────────────────────────────────────────────\n",
       "                                                                              \n",
       "\n",
       "                                                                              \n",
       "₋⋅❘0110⟩⋅⟨0001❘ - c₊⋅c₋⋅❘0110⟩⋅⟨0101❘ - c₊⋅c₋⋅❘1001⟩⋅⟨1010❘ + ⅈ⋅c₊⋅c₋⋅❘1001⟩⋅⟨\n",
       "──────────────────────────────────────────────────────────────────────────────\n",
       "                                      4                                       \n",
       "\n",
       "                                                                              \n",
       "1110❘ - c₊⋅c₋⋅❘1010⟩⋅⟨1001❘ - ⅈ⋅c₊⋅c₋⋅❘1010⟩⋅⟨1101❘ + ⅈ⋅c₊⋅c₋⋅❘1101⟩⋅⟨1010❘ + \n",
       "──────────────────────────────────────────────────────────────────────────────\n",
       "                                                                              \n",
       "\n",
       "                                                                      2       \n",
       "c₊⋅c₋⋅❘1101⟩⋅⟨1110❘ - ⅈ⋅c₊⋅c₋⋅❘1110⟩⋅⟨1001❘ + c₊⋅c₋⋅❘1110⟩⋅⟨1101❘ + c₋ ⋅❘0001⟩\n",
       "──────────────────────────────────────────────────────────────────────────────\n",
       "                                                                              \n",
       "\n",
       "              2                     2                   2                   2 \n",
       "⋅⟨0001❘ + ⅈ⋅c₋ ⋅❘0001⟩⋅⟨0101❘ - ⅈ⋅c₋ ⋅❘0101⟩⋅⟨0001❘ + c₋ ⋅❘0101⟩⋅⟨0101❘ + c₋ ⋅\n",
       "──────────────────────────────────────────────────────────────────────────────\n",
       "                                                                              \n",
       "\n",
       "                    2                     2                   2              \n",
       "❘1001⟩⋅⟨1001❘ + ⅈ⋅c₋ ⋅❘1001⟩⋅⟨1101❘ - ⅈ⋅c₋ ⋅❘1101⟩⋅⟨1001❘ + c₋ ⋅❘1101⟩⋅⟨1101❘\n",
       "─────────────────────────────────────────────────────────────────────────────\n",
       "                                                                             "
      ]
     },
     "execution_count": 104,
     "metadata": {},
     "output_type": "execute_result"
    }
   ],
   "source": [
    "ρ5in_AbWZ_trBa = ptraceB(16, 4, proj(ψ5in_AbWZBa))\n",
    "mysim(mbk(ρ5in_AbWZ_trBa))"
   ]
  },
  {
   "cell_type": "code",
   "execution_count": 106,
   "id": "4c49083e",
   "metadata": {},
   "outputs": [
    {
     "data": {
      "image/png": "[encoded data removed]",
      "text/latex": [
       "$\\displaystyle c_{+}^{2} {\\left|10\\right\\rangle } {\\left\\langle 10\\right|} + c_{+} c_{-} {\\left|01\\right\\rangle } {\\left\\langle 10\\right|} + c_{+} c_{-} {\\left|10\\right\\rangle } {\\left\\langle 01\\right|} + c_{-}^{2} {\\left|01\\right\\rangle } {\\left\\langle 01\\right|}$"
      ],
      "text/plain": [
       "  2                                                   2          \n",
       "c₊ ⋅❘10⟩⋅⟨10❘ + c₊⋅c₋⋅❘01⟩⋅⟨10❘ + c₊⋅c₋⋅❘10⟩⋅⟨01❘ + c₋ ⋅❘01⟩⋅⟨01❘"
      ]
     },
     "execution_count": 106,
     "metadata": {},
     "output_type": "execute_result"
    }
   ],
   "source": [
    "ρ5in_00WZ_trBa = projM(4, '00', ρ5in_AbWZ_trBa)\n",
    "mysim(mbk(ρ5in_00WZ_trBa)).subs(cp**2+cm**2, 1)"
   ]
  },
  {
   "cell_type": "code",
   "execution_count": 114,
   "id": "e5bbc02c",
   "metadata": {},
   "outputs": [
    {
     "data": {
      "image/png": "[encoded data removed]",
      "text/latex": [
       "$\\displaystyle 0$"
      ],
      "text/plain": [
       "0"
      ]
     },
     "execution_count": 114,
     "metadata": {},
     "output_type": "execute_result"
    }
   ],
   "source": [
    "von_neumann_sympy(ρ2in_0bWZ_trBa)"
   ]
  },
  {
   "cell_type": "code",
   "execution_count": 110,
   "id": "bd1a8d61",
   "metadata": {},
   "outputs": [
    {
     "data": {
      "image/png": "[encoded data removed]",
      "text/latex": [
       "$\\displaystyle c_{+}^{2} {\\left|10\\right\\rangle } {\\left\\langle 10\\right|} + c_{-}^{2} {\\left|01\\right\\rangle } {\\left\\langle 01\\right|}$"
      ],
      "text/plain": [
       "  2               2          \n",
       "c₊ ⋅❘10⟩⋅⟨10❘ + c₋ ⋅❘01⟩⋅⟨01❘"
      ]
     },
     "execution_count": 110,
     "metadata": {},
     "output_type": "execute_result"
    }
   ],
   "source": [
    "ρ5in_00WZ_trBa_deph = dephasing_map_2qubits(ρ5in_00WZ_trBa)\n",
    "mysim(mbk(ρ5in_00WZ_trBa_deph)).subs(cp**2+cm**2, 1)"
   ]
  },
  {
   "cell_type": "code",
   "execution_count": 113,
   "id": "d4cf864d",
   "metadata": {},
   "outputs": [
    {
     "data": {
      "image/png": "[encoded data removed]",
      "text/latex": [
       "$\\displaystyle - 1.0 c_{+}^{2} \\log{\\left(1.0 c_{+}^{2} \\right)} - c_{-}^{2} \\log{\\left(c_{-}^{2} \\right)}$"
      ],
      "text/plain": [
       "    2    ⎛      2⎞     2    ⎛  2⎞\n",
       "- c₊ ⋅log⎝1.0⋅c₊ ⎠ - c₋ ⋅log⎝c₋ ⎠"
      ]
     },
     "execution_count": 113,
     "metadata": {},
     "output_type": "execute_result"
    }
   ],
   "source": [
    "von_neumann_sympy(ρ2in_0bWZ_trBa_deph).subs(cp**2+cm**2, 1)"
   ]
  },
  {
   "cell_type": "code",
   "execution_count": 112,
   "id": "a1e8a813",
   "metadata": {},
   "outputs": [
    {
     "data": {
      "image/png": "[encoded data removed]",
      "text/latex": [
       "$\\displaystyle - 1.0 c_{+}^{2} \\log{\\left(1.0 c_{+}^{2} \\right)} - 1.0 c_{-}^{2} \\log{\\left(1.0 c_{-}^{2} \\right)}$"
      ],
      "text/plain": [
       "    2    ⎛      2⎞     2    ⎛      2⎞\n",
       "- c₊ ⋅log⎝1.0⋅c₊ ⎠ - c₋ ⋅log⎝1.0⋅c₋ ⎠"
      ]
     },
     "execution_count": 112,
     "metadata": {},
     "output_type": "execute_result"
    }
   ],
   "source": [
    "Irr_b_in = von_neumann_sympy(ρ5in_00WZ_trBa_deph) - von_neumann_sympy(ρ5in_00WZ_trBa)\n",
    "Irr_b_in.subs(cp**2+cm**2, 1)"
   ]
  },
  {
   "cell_type": "code",
   "execution_count": null,
   "id": "7f9f5c6f",
   "metadata": {},
   "outputs": [],
   "source": []
  }
 ],
 "metadata": {
  "kernelspec": {
   "display_name": "Python 3 (ipykernel)",
   "language": "python",
   "name": "python3"
  },
  "language_info": {
   "codemirror_mode": {
    "name": "ipython",
    "version": 3
   },
   "file_extension": ".py",
   "mimetype": "text/x-python",
   "name": "python",
   "nbconvert_exporter": "python",
   "pygments_lexer": "ipython3",
   "version": "3.9.13"
  }
 },
 "nbformat": 4,
 "nbformat_minor": 5
}
