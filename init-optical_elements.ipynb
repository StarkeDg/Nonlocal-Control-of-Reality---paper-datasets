{
 "cells": [
  {
   "cell_type": "code",
   "execution_count": 2,
   "id": "36b10164",
   "metadata": {},
   "outputs": [],
   "source": [
    "%run init.ipynb\n",
    "%run init-tensor_product.ipynb"
   ]
  },
  {
   "cell_type": "markdown",
   "id": "6a21c4ed",
   "metadata": {},
   "source": [
    "# Espelhos"
   ]
  },
  {
   "cell_type": "code",
   "execution_count": 3,
   "id": "85be9c98",
   "metadata": {},
   "outputs": [],
   "source": [
    "M = pauli(2)*pauli(3)\n",
    "#M"
   ]
  },
  {
   "cell_type": "code",
   "execution_count": 4,
   "id": "f761baf4",
   "metadata": {},
   "outputs": [
    {
     "data": {
      "image/png": "[encoded data removed]",
      "text/latex": [
       "$\\displaystyle 1.0 i {\\left|0\\right\\rangle } {\\left\\langle 1\\right|} + 1.0 i {\\left|1\\right\\rangle } {\\left\\langle 0\\right|}$"
      ],
      "text/plain": [
       "1.0⋅ⅈ⋅❘0⟩⋅⟨1❘ + 1.0⋅ⅈ⋅❘1⟩⋅⟨0❘"
      ]
     },
     "execution_count": 4,
     "metadata": {},
     "output_type": "execute_result"
    }
   ],
   "source": [
    "mbk(M)"
   ]
  },
  {
   "cell_type": "code",
   "execution_count": 5,
   "id": "ddce64c5",
   "metadata": {},
   "outputs": [
    {
     "data": {
      "image/png": "[encoded data removed]",
      "text/latex": [
       "$\\displaystyle \\left[\\begin{matrix}1.0 & 0\\\\0 & 1.0\\end{matrix}\\right]$"
      ],
      "text/plain": [
       "⎡1.0   0 ⎤\n",
       "⎢        ⎥\n",
       "⎣ 0   1.0⎦"
      ]
     },
     "execution_count": 5,
     "metadata": {},
     "output_type": "execute_result"
    }
   ],
   "source": [
    "M*tsco(M)"
   ]
  },
  {
   "cell_type": "markdown",
   "id": "f0faf638",
   "metadata": {},
   "source": [
    "# QWP"
   ]
  },
  {
   "cell_type": "code",
   "execution_count": 6,
   "id": "1a859bb2",
   "metadata": {},
   "outputs": [
    {
     "data": {
      "image/png": "[encoded data removed]",
      "text/latex": [
       "$\\displaystyle \\left[\\begin{matrix}\\frac{\\sqrt{2}}{2} & \\frac{\\sqrt{2}}{2}\\\\\\frac{\\sqrt{2}}{2} & - \\frac{\\sqrt{2}}{2}\\end{matrix}\\right]$"
      ],
      "text/plain": [
       "⎡√2   √2 ⎤\n",
       "⎢──   ── ⎥\n",
       "⎢2    2  ⎥\n",
       "⎢        ⎥\n",
       "⎢√2  -√2 ⎥\n",
       "⎢──  ────⎥\n",
       "⎣2    2  ⎦"
      ]
     },
     "execution_count": 6,
     "metadata": {},
     "output_type": "execute_result"
    }
   ],
   "source": [
    "H = (1/sqrt(2))*(pauli(1) + pauli(3))\n",
    "H"
   ]
  },
  {
   "cell_type": "code",
   "execution_count": 7,
   "id": "99be4951",
   "metadata": {},
   "outputs": [
    {
     "data": {
      "image/png": "[encoded data removed]",
      "text/latex": [
       "$\\displaystyle \\left[\\begin{matrix}1 & 0\\\\0 & 1.0 i\\end{matrix}\\right]$"
      ],
      "text/plain": [
       "⎡1    0  ⎤\n",
       "⎢        ⎥\n",
       "⎣0  1.0⋅ⅈ⎦"
      ]
     },
     "execution_count": 7,
     "metadata": {},
     "output_type": "execute_result"
    }
   ],
   "source": [
    "S = pauli(0)\n",
    "S[1,1] = 1j\n",
    "S"
   ]
  },
  {
   "cell_type": "code",
   "execution_count": 8,
   "id": "d85f5fe3",
   "metadata": {},
   "outputs": [
    {
     "data": {
      "image/png": "[encoded data removed]",
      "text/latex": [
       "$\\displaystyle \\left[\\begin{matrix}\\frac{\\sqrt{2}}{2} & \\frac{\\sqrt{2}}{2}\\\\\\frac{\\sqrt{2} i}{2} & - \\frac{\\sqrt{2} i}{2}\\end{matrix}\\right]$"
      ],
      "text/plain": [
       "⎡ √2     √2  ⎤\n",
       "⎢ ──     ──  ⎥\n",
       "⎢ 2      2   ⎥\n",
       "⎢            ⎥\n",
       "⎢√2⋅ⅈ  -√2⋅ⅈ ⎥\n",
       "⎢────  ──────⎥\n",
       "⎣ 2      2   ⎦"
      ]
     },
     "execution_count": 8,
     "metadata": {},
     "output_type": "execute_result"
    }
   ],
   "source": [
    "QWP = S*H\n",
    "mysim(QWP)"
   ]
  },
  {
   "cell_type": "code",
   "execution_count": 9,
   "id": "d6e73981",
   "metadata": {},
   "outputs": [
    {
     "data": {
      "image/png": "[encoded data removed]",
      "text/latex": [
       "$\\displaystyle \\frac{\\sqrt{2} \\left({\\left|0\\right\\rangle } {\\left\\langle 0\\right|} + {\\left|0\\right\\rangle } {\\left\\langle 1\\right|} + i {\\left|1\\right\\rangle } {\\left\\langle 0\\right|} - 1.0 i {\\left|1\\right\\rangle } {\\left\\langle 1\\right|}\\right)}{2}$"
      ],
      "text/plain": [
       "√2⋅(❘0⟩⋅⟨0❘ + ❘0⟩⋅⟨1❘ + ⅈ⋅❘1⟩⋅⟨0❘ - ⅈ⋅❘1⟩⋅⟨1❘)\n",
       "──────────────────────────────────────────────\n",
       "                      2                       "
      ]
     },
     "execution_count": 9,
     "metadata": {},
     "output_type": "execute_result"
    }
   ],
   "source": [
    "mbk(QWP).simplify()"
   ]
  },
  {
   "cell_type": "code",
   "execution_count": 10,
   "id": "3223424c",
   "metadata": {},
   "outputs": [
    {
     "data": {
      "image/png": "[encoded data removed]",
      "text/latex": [
       "$\\displaystyle \\left[\\begin{matrix}1 & 0\\\\0 & 1.0\\end{matrix}\\right]$"
      ],
      "text/plain": [
       "⎡1   0 ⎤\n",
       "⎢      ⎥\n",
       "⎣0  1.0⎦"
      ]
     },
     "execution_count": 10,
     "metadata": {},
     "output_type": "execute_result"
    }
   ],
   "source": [
    "QWP*tsco(QWP)"
   ]
  },
  {
   "cell_type": "markdown",
   "id": "9ec663c8",
   "metadata": {},
   "source": [
    "# BS"
   ]
  },
  {
   "cell_type": "code",
   "execution_count": 11,
   "id": "d8695970",
   "metadata": {},
   "outputs": [
    {
     "data": {
      "image/png": "[encoded data removed]",
      "text/latex": [
       "$\\displaystyle \\left[\\begin{matrix}\\frac{\\sqrt{2}}{2} & 0.5 \\sqrt{2} i\\\\0.5 \\sqrt{2} i & 0.5 \\sqrt{2}\\end{matrix}\\right]$"
      ],
      "text/plain": [
       "⎡   √2             ⎤\n",
       "⎢   ──     0.5⋅√2⋅ⅈ⎥\n",
       "⎢   2              ⎥\n",
       "⎢                  ⎥\n",
       "⎣0.5⋅√2⋅ⅈ   0.5⋅√2 ⎦"
      ]
     },
     "execution_count": 11,
     "metadata": {},
     "output_type": "execute_result"
    }
   ],
   "source": [
    "BS = S*H*S\n",
    "simplify(BS)"
   ]
  },
  {
   "cell_type": "code",
   "execution_count": 12,
   "id": "ab04db7a",
   "metadata": {},
   "outputs": [
    {
     "data": {
      "image/png": "[encoded data removed]",
      "text/latex": [
       "$\\displaystyle \\left[\\begin{matrix}\\frac{\\sqrt{2}}{2} & \\frac{\\sqrt{2} i}{2}\\\\\\frac{\\sqrt{2} i}{2} & \\frac{\\sqrt{2}}{2}\\end{matrix}\\right]$"
      ],
      "text/plain": [
       "⎡ √2   √2⋅ⅈ⎤\n",
       "⎢ ──   ────⎥\n",
       "⎢ 2     2  ⎥\n",
       "⎢          ⎥\n",
       "⎢√2⋅ⅈ   √2 ⎥\n",
       "⎢────   ── ⎥\n",
       "⎣ 2     2  ⎦"
      ]
     },
     "execution_count": 12,
     "metadata": {},
     "output_type": "execute_result"
    }
   ],
   "source": [
    "simplify(BS, rational=True)"
   ]
  },
  {
   "cell_type": "markdown",
   "id": "d3cd6695",
   "metadata": {},
   "source": [
    "# HWP = CNOT = $C_X^{AB}$"
   ]
  },
  {
   "cell_type": "code",
   "execution_count": 14,
   "id": "57ca9f75",
   "metadata": {},
   "outputs": [
    {
     "data": {
      "image/png": "[encoded data removed]",
      "text/latex": [
       "$\\displaystyle \\left[\\begin{matrix}1 & 0 & 0 & 0\\\\0 & 1 & 0 & 0\\\\0 & 0 & 0 & 1\\\\0 & 0 & 1 & 0\\end{matrix}\\right]$"
      ],
      "text/plain": [
       "⎡1  0  0  0⎤\n",
       "⎢          ⎥\n",
       "⎢0  1  0  0⎥\n",
       "⎢          ⎥\n",
       "⎢0  0  0  1⎥\n",
       "⎢          ⎥\n",
       "⎣0  0  1  0⎦"
      ]
     },
     "execution_count": 14,
     "metadata": {},
     "output_type": "execute_result"
    }
   ],
   "source": [
    "# c = path\n",
    "# t = polarization\n",
    "HWP_ct = CNOT_ct = tp(proj(pket('0')), pauli(0)) + tp(proj(pket('1')), pauli(1))\n",
    "CNOT_ct"
   ]
  },
  {
   "cell_type": "code",
   "execution_count": 15,
   "id": "5e731492",
   "metadata": {},
   "outputs": [
    {
     "data": {
      "image/png": "[encoded data removed]",
      "text/latex": [
       "$\\displaystyle \\left[\\begin{matrix}1 & 0 & 0 & 0\\\\0 & 1 & 0 & 0\\\\0 & 0 & 0 & 1\\\\0 & 0 & 1 & 0\\end{matrix}\\right]$"
      ],
      "text/plain": [
       "⎡1  0  0  0⎤\n",
       "⎢          ⎥\n",
       "⎢0  1  0  0⎥\n",
       "⎢          ⎥\n",
       "⎢0  0  0  1⎥\n",
       "⎢          ⎥\n",
       "⎣0  0  1  0⎦"
      ]
     },
     "execution_count": 15,
     "metadata": {},
     "output_type": "execute_result"
    }
   ],
   "source": [
    "HWP_ct"
   ]
  },
  {
   "cell_type": "code",
   "execution_count": 16,
   "id": "0f24e6f3",
   "metadata": {},
   "outputs": [
    {
     "data": {
      "image/png": "[encoded data removed]",
      "text/latex": [
       "$\\displaystyle \\left[\\begin{matrix}1 & 0 & 0 & 0\\\\0 & 0 & 0 & 1\\\\0 & 0 & 1 & 0\\\\0 & 1 & 0 & 0\\end{matrix}\\right]$"
      ],
      "text/plain": [
       "⎡1  0  0  0⎤\n",
       "⎢          ⎥\n",
       "⎢0  0  0  1⎥\n",
       "⎢          ⎥\n",
       "⎢0  0  1  0⎥\n",
       "⎢          ⎥\n",
       "⎣0  1  0  0⎦"
      ]
     },
     "execution_count": 16,
     "metadata": {},
     "output_type": "execute_result"
    }
   ],
   "source": [
    "HWP_tc = CNOT_tc = tp(pauli(0),proj(pket('0'))) + tp(pauli(1), proj(pket('1')))\n",
    "HWP_tc"
   ]
  },
  {
   "cell_type": "markdown",
   "id": "5bdced28",
   "metadata": {},
   "source": [
    "# PBS\n",
    "\n",
    "## C_Z = $C_Z^{AB}$"
   ]
  },
  {
   "cell_type": "code",
   "execution_count": 17,
   "id": "f7a11fd0",
   "metadata": {},
   "outputs": [
    {
     "data": {
      "image/png": "[encoded data removed]",
      "text/latex": [
       "$\\displaystyle \\left[\\begin{matrix}1 & 0 & 0 & 0\\\\0 & 1 & 0 & 0\\\\0 & 0 & 1 & 0\\\\0 & 0 & 0 & -1\\end{matrix}\\right]$"
      ],
      "text/plain": [
       "⎡1  0  0  0 ⎤\n",
       "⎢           ⎥\n",
       "⎢0  1  0  0 ⎥\n",
       "⎢           ⎥\n",
       "⎢0  0  1  0 ⎥\n",
       "⎢           ⎥\n",
       "⎣0  0  0  -1⎦"
      ]
     },
     "execution_count": 17,
     "metadata": {},
     "output_type": "execute_result"
    }
   ],
   "source": [
    "CZ_ct = tp(proj(pket('0')), pauli(0)) + tp(proj(pket('1')), pauli(3))\n",
    "CZ_ct"
   ]
  },
  {
   "cell_type": "markdown",
   "id": "9f8700d1",
   "metadata": {},
   "source": [
    "## C_Y = $C_Y^{AB}$"
   ]
  },
  {
   "cell_type": "code",
   "execution_count": 20,
   "id": "3b71dfa2",
   "metadata": {},
   "outputs": [
    {
     "data": {
      "image/png": "[encoded data removed]",
      "text/latex": [
       "$\\displaystyle \\left[\\begin{matrix}1 & 0 & 0 & 0\\\\0 & 1 & 0 & 0\\\\0 & 0 & 0 & - i\\\\0 & 0 & i & 0\\end{matrix}\\right]$"
      ],
      "text/plain": [
       "⎡1  0  0  0 ⎤\n",
       "⎢           ⎥\n",
       "⎢0  1  0  0 ⎥\n",
       "⎢           ⎥\n",
       "⎢0  0  0  -ⅈ⎥\n",
       "⎢           ⎥\n",
       "⎣0  0  ⅈ  0 ⎦"
      ]
     },
     "execution_count": 20,
     "metadata": {},
     "output_type": "execute_result"
    }
   ],
   "source": [
    "CY_ct = tp(proj(pket('0')), pauli(0)) + tp(proj(pket('1')), pauli(2))\n",
    "mysim(CY_ct)"
   ]
  },
  {
   "cell_type": "markdown",
   "id": "5753f43a",
   "metadata": {},
   "source": [
    "## PBS"
   ]
  },
  {
   "cell_type": "code",
   "execution_count": 22,
   "id": "3252e1b6",
   "metadata": {},
   "outputs": [
    {
     "data": {
      "image/png": "[encoded data removed]",
      "text/latex": [
       "$\\displaystyle \\left[\\begin{matrix}1 & 0 & 0 & 0\\\\0 & 1 & 0 & 0\\\\0 & 0 & 0 & i\\\\0 & 0 & i & 0\\end{matrix}\\right]$"
      ],
      "text/plain": [
       "⎡1  0  0  0⎤\n",
       "⎢          ⎥\n",
       "⎢0  1  0  0⎥\n",
       "⎢          ⎥\n",
       "⎢0  0  0  ⅈ⎥\n",
       "⎢          ⎥\n",
       "⎣0  0  ⅈ  0⎦"
      ]
     },
     "execution_count": 22,
     "metadata": {},
     "output_type": "execute_result"
    }
   ],
   "source": [
    "PBS_ct = CY_ct*CZ_ct\n",
    "mysim(PBS_ct)"
   ]
  },
  {
   "cell_type": "markdown",
   "id": "ad90e19f",
   "metadata": {},
   "source": [
    "# BBO_AB"
   ]
  },
  {
   "cell_type": "markdown",
   "id": "e0926e6f",
   "metadata": {},
   "source": [
    "## $U3(\\theta, \\phi, \\lambda)$"
   ]
  },
  {
   "cell_type": "code",
   "execution_count": 23,
   "id": "fba1d30f",
   "metadata": {},
   "outputs": [
    {
     "data": {
      "image/png": "[encoded data removed]",
      "text/latex": [
       "$\\displaystyle \\left( \\theta, \\  \\phi, \\  \\lambda\\right)$"
      ],
      "text/plain": [
       "(θ, φ, λ)"
      ]
     },
     "execution_count": 23,
     "metadata": {},
     "output_type": "execute_result"
    }
   ],
   "source": [
    "th, ph, lb = symbols('theta, phi, lambda', real=True)\n",
    "th, ph, lb"
   ]
  },
  {
   "cell_type": "code",
   "execution_count": 24,
   "id": "b06e012f",
   "metadata": {},
   "outputs": [
    {
     "data": {
      "image/png": "[encoded data removed]",
      "text/latex": [
       "$\\displaystyle \\left( c_{+}, \\  c_{-}\\right)$"
      ],
      "text/plain": [
       "(c₊, c₋)"
      ]
     },
     "execution_count": 24,
     "metadata": {},
     "output_type": "execute_result"
    }
   ],
   "source": [
    "cp, cm = symbols('c_+, c_-', real=True)\n",
    "cp, cm"
   ]
  },
  {
   "cell_type": "code",
   "execution_count": 26,
   "id": "5b605746",
   "metadata": {},
   "outputs": [
    {
     "data": {
      "image/png": "[encoded data removed]",
      "text/latex": [
       "$\\displaystyle \\left[\\begin{matrix}\\cos{\\left(\\frac{\\theta}{2} \\right)} & - e^{i \\lambda} \\sin{\\left(\\frac{\\theta}{2} \\right)}\\\\e^{i \\phi} \\sin{\\left(\\frac{\\theta}{2} \\right)} & e^{i \\left(\\lambda + \\phi\\right)} \\cos{\\left(\\frac{\\theta}{2} \\right)}\\end{matrix}\\right]$"
      ],
      "text/plain": [
       "⎡     ⎛θ⎞         ⅈ⋅λ    ⎛θ⎞   ⎤\n",
       "⎢  cos⎜─⎟       -ℯ   ⋅sin⎜─⎟   ⎥\n",
       "⎢     ⎝2⎠                ⎝2⎠   ⎥\n",
       "⎢                              ⎥\n",
       "⎢ ⅈ⋅φ    ⎛θ⎞   ⅈ⋅(λ + φ)    ⎛θ⎞⎥\n",
       "⎢ℯ   ⋅sin⎜─⎟  ℯ         ⋅cos⎜─⎟⎥\n",
       "⎣        ⎝2⎠                ⎝2⎠⎦"
      ]
     },
     "execution_count": 26,
     "metadata": {},
     "output_type": "execute_result"
    }
   ],
   "source": [
    "U3 = cos(th/2)*pauli(0) + sin(th/2)*pauli(1)\n",
    "U3[0,1] = -U3[0,1]*exp(1j*lb)\n",
    "U3[1,0] = U3[1,0]*exp(1j*ph)\n",
    "U3[1,1] = U3[1,1]*exp(1j*(ph+lb))\n",
    "mysim(U3)"
   ]
  },
  {
   "cell_type": "code",
   "execution_count": 29,
   "id": "1d0ee595",
   "metadata": {},
   "outputs": [
    {
     "data": {
      "image/png": "[encoded data removed]",
      "text/latex": [
       "$\\displaystyle \\left[\\begin{matrix}\\cos{\\left(\\frac{\\theta}{2} \\right)} & - \\sin{\\left(\\frac{\\theta}{2} \\right)}\\\\\\sin{\\left(\\frac{\\theta}{2} \\right)} & \\cos{\\left(\\frac{\\theta}{2} \\right)}\\end{matrix}\\right]$"
      ],
      "text/plain": [
       "⎡   ⎛θ⎞      ⎛θ⎞⎤\n",
       "⎢cos⎜─⎟  -sin⎜─⎟⎥\n",
       "⎢   ⎝2⎠      ⎝2⎠⎥\n",
       "⎢               ⎥\n",
       "⎢   ⎛θ⎞     ⎛θ⎞ ⎥\n",
       "⎢sin⎜─⎟  cos⎜─⎟ ⎥\n",
       "⎣   ⎝2⎠     ⎝2⎠ ⎦"
      ]
     },
     "execution_count": 29,
     "metadata": {},
     "output_type": "execute_result"
    }
   ],
   "source": [
    "RY = U3.subs(ph, 0).subs(lb, 0)\n",
    "RY"
   ]
  },
  {
   "cell_type": "code",
   "execution_count": 30,
   "id": "2cea0a87",
   "metadata": {},
   "outputs": [
    {
     "data": {
      "image/png": "[encoded data removed]",
      "text/latex": [
       "$\\displaystyle \\left[\\begin{matrix}c_{+} & - c_{-}\\\\c_{-} & c_{+}\\end{matrix}\\right]$"
      ],
      "text/plain": [
       "⎡c₊  -c₋⎤\n",
       "⎢       ⎥\n",
       "⎣c₋  c₊ ⎦"
      ]
     },
     "execution_count": 30,
     "metadata": {},
     "output_type": "execute_result"
    }
   ],
   "source": [
    "RY = RY.subs(cos(th/2), cp).subs(sin(th/2), cm)\n",
    "RY"
   ]
  },
  {
   "cell_type": "code",
   "execution_count": 32,
   "id": "3911def4",
   "metadata": {},
   "outputs": [
    {
     "data": {
      "image/png": "[encoded data removed]",
      "text/latex": [
       "$\\displaystyle \\left[\\begin{matrix}0 & c_{+} & 0 & - c_{-}\\\\c_{+} & 0 & - c_{-} & 0\\\\c_{-} & 0 & c_{+} & 0\\\\0 & c_{-} & 0 & c_{+}\\end{matrix}\\right]$"
      ],
      "text/plain": [
       "⎡0   c₊   0   -c₋⎤\n",
       "⎢                ⎥\n",
       "⎢c₊  0   -c₋   0 ⎥\n",
       "⎢                ⎥\n",
       "⎢c₋  0   c₊    0 ⎥\n",
       "⎢                ⎥\n",
       "⎣0   c₋   0   c₊ ⎦"
      ]
     },
     "execution_count": 32,
     "metadata": {},
     "output_type": "execute_result"
    }
   ],
   "source": [
    "BBOp_ct = tp(pauli(0),pauli(1))*CNOT_ct*tp(RY, pauli(0))\n",
    "BBOp_ct"
   ]
  },
  {
   "cell_type": "code",
   "execution_count": null,
   "id": "5aee77d7",
   "metadata": {},
   "outputs": [],
   "source": []
  }
 ],
 "metadata": {
  "kernelspec": {
   "display_name": "Python 3 (ipykernel)",
   "language": "python",
   "name": "python3"
  },
  "language_info": {
   "codemirror_mode": {
    "name": "ipython",
    "version": 3
   },
   "file_extension": ".py",
   "mimetype": "text/x-python",
   "name": "python",
   "nbconvert_exporter": "python",
   "pygments_lexer": "ipython3",
   "version": "3.9.13"
  }
 },
 "nbformat": 4,
 "nbformat_minor": 5
}
