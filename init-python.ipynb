{
 "cells": [
  {
   "cell_type": "code",
   "execution_count": 1,
   "id": "2b921bed",
   "metadata": {
    "scrolled": true
   },
   "outputs": [],
   "source": [
    "%run init.ipynb\n",
    "%run init-tensor_product.ipynb\n",
    "%run init-quantum_resources.ipynb"
   ]
  },
  {
   "cell_type": "code",
   "execution_count": 2,
   "id": "796daa2a",
   "metadata": {},
   "outputs": [
    {
     "data": {
      "application/javascript": [
       "IPython.notebook.set_autosave_interval(60000)"
      ]
     },
     "metadata": {},
     "output_type": "display_data"
    },
    {
     "name": "stdout",
     "output_type": "stream",
     "text": [
      "Autosaving every 60 seconds\n"
     ]
    }
   ],
   "source": [
    "%autosave 60"
   ]
  },
  {
   "cell_type": "markdown",
   "id": "a3b80b3a",
   "metadata": {},
   "source": [
    "# 'for'"
   ]
  },
  {
   "cell_type": "code",
   "execution_count": 60,
   "id": "f370b772",
   "metadata": {},
   "outputs": [
    {
     "name": "stdout",
     "output_type": "stream",
     "text": [
      "j = 0, k = 0, l = 0, j*k*l = 0\n",
      "j = 0, k = 0, l = 1, j*k*l = 0\n",
      "j = 0, k = 0, l = 2, j*k*l = 0\n",
      "j = 0, k = 1, l = 0, j*k*l = 0\n",
      "j = 0, k = 1, l = 1, j*k*l = 0\n",
      "j = 0, k = 1, l = 2, j*k*l = 0\n",
      "j = 0, k = 2, l = 0, j*k*l = 0\n",
      "j = 0, k = 2, l = 1, j*k*l = 0\n",
      "j = 0, k = 2, l = 2, j*k*l = 0\n",
      "j = 1, k = 0, l = 0, j*k*l = 0\n",
      "j = 1, k = 0, l = 1, j*k*l = 0\n",
      "j = 1, k = 0, l = 2, j*k*l = 0\n",
      "j = 1, k = 1, l = 0, j*k*l = 0\n",
      "j = 1, k = 1, l = 1, j*k*l = 1\n",
      "j = 1, k = 1, l = 2, j*k*l = 2\n",
      "j = 1, k = 2, l = 0, j*k*l = 0\n",
      "j = 1, k = 2, l = 1, j*k*l = 2\n",
      "j = 1, k = 2, l = 2, j*k*l = 4\n",
      "j = 2, k = 0, l = 0, j*k*l = 0\n",
      "j = 2, k = 0, l = 1, j*k*l = 0\n",
      "j = 2, k = 0, l = 2, j*k*l = 0\n",
      "j = 2, k = 1, l = 0, j*k*l = 0\n",
      "j = 2, k = 1, l = 1, j*k*l = 2\n",
      "j = 2, k = 1, l = 2, j*k*l = 4\n",
      "j = 2, k = 2, l = 0, j*k*l = 0\n",
      "j = 2, k = 2, l = 1, j*k*l = 4\n",
      "j = 2, k = 2, l = 2, j*k*l = 8\n"
     ]
    }
   ],
   "source": [
    "for j, k, l in product([0,1,2], repeat=3):\n",
    "        print('j = {}, k = {}, l = {}, j*k*l = {}'.format(j,k,l,j*k*l))"
   ]
  },
  {
   "cell_type": "code",
   "execution_count": 61,
   "id": "26edc4b1",
   "metadata": {},
   "outputs": [
    {
     "name": "stdout",
     "output_type": "stream",
     "text": [
      "<class 'list'>\n"
     ]
    }
   ],
   "source": [
    "print(type([0,1,2]))"
   ]
  },
  {
   "cell_type": "markdown",
   "id": "f6f470a9",
   "metadata": {},
   "source": [
    "# For ajustável com a quantidade de $n$"
   ]
  },
  {
   "cell_type": "code",
   "execution_count": 2,
   "id": "3aa560f9",
   "metadata": {},
   "outputs": [],
   "source": [
    "from itertools import product"
   ]
  },
  {
   "cell_type": "code",
   "execution_count": 3,
   "id": "df1fd93a",
   "metadata": {
    "scrolled": false
   },
   "outputs": [
    {
     "name": "stdout",
     "output_type": "stream",
     "text": [
      "(0, 0, 0)\n",
      "n0 = 0, n1 = 0, n2 = 0\n",
      "(0, 0, 1)\n",
      "n0 = 0, n1 = 0, n2 = 1\n",
      "(0, 0, 2)\n",
      "n0 = 0, n1 = 0, n2 = 2\n",
      "(0, 1, 0)\n",
      "n0 = 0, n1 = 1, n2 = 0\n",
      "(0, 1, 1)\n",
      "n0 = 0, n1 = 1, n2 = 1\n",
      "(0, 1, 2)\n",
      "n0 = 0, n1 = 1, n2 = 2\n",
      "(0, 2, 0)\n",
      "n0 = 0, n1 = 2, n2 = 0\n",
      "(0, 2, 1)\n",
      "n0 = 0, n1 = 2, n2 = 1\n",
      "(0, 2, 2)\n",
      "n0 = 0, n1 = 2, n2 = 2\n",
      "(1, 0, 0)\n",
      "n0 = 1, n1 = 0, n2 = 0\n",
      "(1, 0, 1)\n",
      "n0 = 1, n1 = 0, n2 = 1\n",
      "(1, 0, 2)\n",
      "n0 = 1, n1 = 0, n2 = 2\n",
      "(1, 1, 0)\n",
      "n0 = 1, n1 = 1, n2 = 0\n",
      "(1, 1, 1)\n",
      "n0 = 1, n1 = 1, n2 = 1\n",
      "(1, 1, 2)\n",
      "n0 = 1, n1 = 1, n2 = 2\n",
      "(1, 2, 0)\n",
      "n0 = 1, n1 = 2, n2 = 0\n",
      "(1, 2, 1)\n",
      "n0 = 1, n1 = 2, n2 = 1\n",
      "(1, 2, 2)\n",
      "n0 = 1, n1 = 2, n2 = 2\n",
      "(2, 0, 0)\n",
      "n0 = 2, n1 = 0, n2 = 0\n",
      "(2, 0, 1)\n",
      "n0 = 2, n1 = 0, n2 = 1\n",
      "(2, 0, 2)\n",
      "n0 = 2, n1 = 0, n2 = 2\n",
      "(2, 1, 0)\n",
      "n0 = 2, n1 = 1, n2 = 0\n",
      "(2, 1, 1)\n",
      "n0 = 2, n1 = 1, n2 = 1\n",
      "(2, 1, 2)\n",
      "n0 = 2, n1 = 1, n2 = 2\n",
      "(2, 2, 0)\n",
      "n0 = 2, n1 = 2, n2 = 0\n",
      "(2, 2, 1)\n",
      "n0 = 2, n1 = 2, n2 = 1\n",
      "(2, 2, 2)\n",
      "n0 = 2, n1 = 2, n2 = 2\n"
     ]
    }
   ],
   "source": [
    "n = 3\n",
    "n_list = []\n",
    "format_string = ', '.join(f'n{i} = {{{i}}}' for i in range(n))\n",
    "for tup in product(range(n), repeat=n):\n",
    "    print(tup)\n",
    "    n_values = tuple(tup)\n",
    "    n_list.append(n_values)\n",
    "    print(format_string.format(*n_values))"
   ]
  },
  {
   "cell_type": "code",
   "execution_count": 104,
   "id": "8714c213",
   "metadata": {},
   "outputs": [
    {
     "name": "stdout",
     "output_type": "stream",
     "text": [
      "[(0, 0, 0), (0, 0, 1), (0, 0, 2), (0, 1, 0), (0, 1, 1), (0, 1, 2), (0, 2, 0), (0, 2, 1), (0, 2, 2), (1, 0, 0), (1, 0, 1), (1, 0, 2), (1, 1, 0), (1, 1, 1), (1, 1, 2), (1, 2, 0), (1, 2, 1), (1, 2, 2), (2, 0, 0), (2, 0, 1), (2, 0, 2), (2, 1, 0), (2, 1, 1), (2, 1, 2), (2, 2, 0), (2, 2, 1), (2, 2, 2)]\n"
     ]
    }
   ],
   "source": [
    "print(n_list)"
   ]
  },
  {
   "cell_type": "code",
   "execution_count": 38,
   "id": "bb998890",
   "metadata": {
    "scrolled": false
   },
   "outputs": [
    {
     "name": "stdout",
     "output_type": "stream",
     "text": [
      "n0 = 0, n1 = 0\n",
      "n0 = 0, n1 = 1\n",
      "n0 = 1, n1 = 0\n",
      "n0 = 1, n1 = 1\n"
     ]
    }
   ],
   "source": [
    "n = 2\n",
    "format_string = ', '.join(f'n{i} = {{{i}}}' for i in range(n))\n",
    "for tup in product(range(2), repeat=n):\n",
    "    n_values = tuple(tup)\n",
    "    print(format_string.format(*n_values))"
   ]
  },
  {
   "cell_type": "markdown",
   "id": "2859bf51",
   "metadata": {},
   "source": [
    "# for ajustável com um tipo de operação"
   ]
  },
  {
   "cell_type": "code",
   "execution_count": 42,
   "id": "02ca9aef",
   "metadata": {},
   "outputs": [
    {
     "name": "stdout",
     "output_type": "stream",
     "text": [
      "n0 = 0, n1 = 0, n2 = 0 -> 0\n",
      "n0 = 0, n1 = 0, n2 = 1 -> 0\n",
      "n0 = 0, n1 = 1, n2 = 0 -> 0\n",
      "n0 = 0, n1 = 1, n2 = 1 -> 1\n",
      "n0 = 1, n1 = 0, n2 = 0 -> 0\n",
      "n0 = 1, n1 = 0, n2 = 1 -> 1\n",
      "n0 = 1, n1 = 1, n2 = 0 -> 0\n",
      "n0 = 1, n1 = 1, n2 = 1 -> 2\n"
     ]
    }
   ],
   "source": [
    "from itertools import product\n",
    "\n",
    "def perform_operation(n_values):\n",
    "    result = 0\n",
    "    for i in range(n-1):\n",
    "        result += n_values[i]\n",
    "    result = result*n_values[-1]\n",
    "    return result\n",
    "\n",
    "n = 3\n",
    "format_string = ', '.join(f'n{i} = {{{i}}}' for i in range(n))\n",
    "for tup in product(range(2), repeat=n):\n",
    "    n_values = tuple(tup)\n",
    "    result = perform_operation(n_values)\n",
    "    print(format_string.format(*n_values), \"->\", result)"
   ]
  },
  {
   "cell_type": "code",
   "execution_count": 29,
   "id": "e51281ac",
   "metadata": {},
   "outputs": [
    {
     "name": "stdout",
     "output_type": "stream",
     "text": [
      "3\n"
     ]
    }
   ],
   "source": [
    "print(n_values[-1])"
   ]
  },
  {
   "cell_type": "code",
   "execution_count": 41,
   "id": "6e5e42f5",
   "metadata": {
    "scrolled": false
   },
   "outputs": [
    {
     "name": "stdout",
     "output_type": "stream",
     "text": [
      "0 0 0 0\n",
      "0 0 0 1\n",
      "0 0 1 0\n",
      "0 0 1 1\n",
      "0 1 0 0\n",
      "0 1 0 1\n",
      "0 1 1 0\n",
      "0 1 1 1\n",
      "1 0 0 0\n",
      "1 0 0 1\n",
      "1 0 1 0\n",
      "1 0 1 1\n",
      "1 1 0 0\n",
      "1 1 0 1\n",
      "1 1 1 0\n",
      "1 1 1 1\n"
     ]
    }
   ],
   "source": [
    "n = 4\n",
    "format_string = ' '.join(f'{{{i}}}' for i in range(n))\n",
    "for tup in product(range(2), repeat=n):\n",
    "    n_values = tuple(tup)\n",
    "    print(format_string.format(*n_values))"
   ]
  },
  {
   "cell_type": "markdown",
   "id": "c5eb2efe",
   "metadata": {},
   "source": [
    "# for ajustável para produção de tabela de binário com a operação 'or'"
   ]
  },
  {
   "cell_type": "code",
   "execution_count": 6,
   "id": "74ec90eb",
   "metadata": {},
   "outputs": [
    {
     "name": "stdout",
     "output_type": "stream",
     "text": [
      "0 ^ 0 ^ 0 ^ 0 - 0\n",
      "0 ^ 0 ^ 0 ^ 1 - 0\n",
      "0 ^ 0 ^ 1 ^ 0 - 0\n",
      "0 ^ 0 ^ 1 ^ 1 - 0\n",
      "0 ^ 1 ^ 0 ^ 0 - 0\n",
      "0 ^ 1 ^ 0 ^ 1 - 0\n",
      "0 ^ 1 ^ 1 ^ 0 - 0\n",
      "0 ^ 1 ^ 1 ^ 1 - 0\n",
      "1 ^ 0 ^ 0 ^ 0 - 0\n",
      "1 ^ 0 ^ 0 ^ 1 - 0\n",
      "1 ^ 0 ^ 1 ^ 0 - 0\n",
      "1 ^ 0 ^ 1 ^ 1 - 0\n",
      "1 ^ 1 ^ 0 ^ 0 - 0\n",
      "1 ^ 1 ^ 0 ^ 1 - 0\n",
      "1 ^ 1 ^ 1 ^ 0 - 0\n",
      "1 ^ 1 ^ 1 ^ 1 - 1\n"
     ]
    }
   ],
   "source": [
    "def perform_operation(n_values):\n",
    "    result = n_values[0]\n",
    "    for i in range(1, n):\n",
    "        result = n_values[i] and result\n",
    "    return result\n",
    "\n",
    "n = 4\n",
    "format_string = ' ^ '.join(f'{{{i}}}' for i in range(n))\n",
    "for tup in product(range(2), repeat=n):\n",
    "    n_values = tuple(tup)\n",
    "    result = perform_operation(n_values)\n",
    "    print(format_string.format(*n_values), \"-\", result)"
   ]
  },
  {
   "cell_type": "code",
   "execution_count": 7,
   "id": "03cac50b",
   "metadata": {},
   "outputs": [
    {
     "name": "stdout",
     "output_type": "stream",
     "text": [
      "0 v 0 v 0 v 0 - 0\n",
      "0 v 0 v 0 v 1 - 1\n",
      "0 v 0 v 1 v 0 - 1\n",
      "0 v 0 v 1 v 1 - 1\n",
      "0 v 1 v 0 v 0 - 1\n",
      "0 v 1 v 0 v 1 - 1\n",
      "0 v 1 v 1 v 0 - 1\n",
      "0 v 1 v 1 v 1 - 1\n",
      "1 v 0 v 0 v 0 - 1\n",
      "1 v 0 v 0 v 1 - 1\n",
      "1 v 0 v 1 v 0 - 1\n",
      "1 v 0 v 1 v 1 - 1\n",
      "1 v 1 v 0 v 0 - 1\n",
      "1 v 1 v 0 v 1 - 1\n",
      "1 v 1 v 1 v 0 - 1\n",
      "1 v 1 v 1 v 1 - 1\n"
     ]
    }
   ],
   "source": [
    "def perform_operation(n_values):\n",
    "    result = n_values[0]\n",
    "    for i in range(1, n):\n",
    "        result = n_values[i] or result\n",
    "    return result\n",
    "\n",
    "n = 4\n",
    "format_string = ' v '.join(f'{{{i}}}' for i in range(n))\n",
    "for tup in product(range(2), repeat=n):\n",
    "    n_values = tuple(tup)\n",
    "    result = perform_operation(n_values)\n",
    "    print(format_string.format(*n_values), \"-\", result)"
   ]
  },
  {
   "cell_type": "code",
   "execution_count": null,
   "id": "adda88b2",
   "metadata": {},
   "outputs": [],
   "source": []
  }
 ],
 "metadata": {
  "kernelspec": {
   "display_name": "Python 3 (ipykernel)",
   "language": "python",
   "name": "python3"
  },
  "language_info": {
   "codemirror_mode": {
    "name": "ipython",
    "version": 3
   },
   "file_extension": ".py",
   "mimetype": "text/x-python",
   "name": "python",
   "nbconvert_exporter": "python",
   "pygments_lexer": "ipython3",
   "version": "3.9.13"
  }
 },
 "nbformat": 4,
 "nbformat_minor": 5
}
