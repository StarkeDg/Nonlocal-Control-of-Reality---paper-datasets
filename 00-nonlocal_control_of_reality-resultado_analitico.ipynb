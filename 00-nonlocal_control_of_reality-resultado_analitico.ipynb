{
 "cells": [
  {
   "cell_type": "code",
   "execution_count": 1,
   "id": "796daa2a",
   "metadata": {},
   "outputs": [
    {
     "data": {
      "application/javascript": [
       "IPython.notebook.set_autosave_interval(60000)"
      ]
     },
     "metadata": {},
     "output_type": "display_data"
    },
    {
     "name": "stdout",
     "output_type": "stream",
     "text": [
      "Autosaving every 60 seconds\n"
     ]
    }
   ],
   "source": [
    "%autosave 60"
   ]
  },
  {
   "cell_type": "code",
   "execution_count": 2,
   "id": "2b921bed",
   "metadata": {
    "scrolled": true
   },
   "outputs": [],
   "source": [
    "%run init.ipynb\n",
    "%run init-tensor_product.ipynb\n",
    "%run init-quantum_resources.ipynb"
   ]
  },
  {
   "cell_type": "code",
   "execution_count": 3,
   "id": "502e6857",
   "metadata": {},
   "outputs": [],
   "source": [
    "%run init_optical_elements.ipynb"
   ]
  },
  {
   "cell_type": "markdown",
   "id": "d7f956d2",
   "metadata": {
    "tags": []
   },
   "source": [
    "# Objetivos\n",
    "\n",
    "- [ ] Encontrar os problemas no qiskit ou nas contas"
   ]
  },
  {
   "cell_type": "markdown",
   "id": "1a0c46f2",
   "metadata": {},
   "source": [
    "# Contas"
   ]
  },
  {
   "cell_type": "markdown",
   "id": "01a7bfdf",
   "metadata": {},
   "source": [
    "## Dentro do IMZ após a HWP -  $\\Psi_2$"
   ]
  },
  {
   "cell_type": "markdown",
   "id": "ef7ff6ad",
   "metadata": {},
   "source": [
    "<img src = 'setup_realism.jpg' width = '90%'>"
   ]
  },
  {
   "cell_type": "markdown",
   "id": "aa672fab",
   "metadata": {},
   "source": [
    "### Estado inicial"
   ]
  },
  {
   "cell_type": "code",
   "execution_count": 4,
   "id": "ee32e492",
   "metadata": {},
   "outputs": [
    {
     "data": {
      "image/png": "[encoded data removed]",
      "text/latex": [
       "$\\displaystyle {\\left|000110\\right\\rangle }$"
      ],
      "text/plain": [
       "❘000110⟩"
      ]
     },
     "execution_count": 4,
     "metadata": {},
     "output_type": "execute_result"
    }
   ],
   "source": [
    "ψi_ABbWZa = pket('000110')\n",
    "mbk(ψi_ABbWZa)"
   ]
  },
  {
   "cell_type": "markdown",
   "id": "8bcb87db",
   "metadata": {},
   "source": [
    "#### BBO$_p$"
   ]
  },
  {
   "cell_type": "code",
   "execution_count": 5,
   "id": "0ffaa221",
   "metadata": {},
   "outputs": [
    {
     "data": {
      "image/png": "[encoded data removed]",
      "text/latex": [
       "$\\displaystyle \\left[\\begin{matrix}0 & c_{+} & 0 & - c_{-}\\\\c_{+} & 0 & - c_{-} & 0\\\\c_{-} & 0 & c_{+} & 0\\\\0 & c_{-} & 0 & c_{+}\\end{matrix}\\right]$"
      ],
      "text/plain": [
       "⎡0   c₊   0   -c₋⎤\n",
       "⎢                ⎥\n",
       "⎢c₊  0   -c₋   0 ⎥\n",
       "⎢                ⎥\n",
       "⎢c₋  0   c₊    0 ⎥\n",
       "⎢                ⎥\n",
       "⎣0   c₋   0   c₊ ⎦"
      ]
     },
     "execution_count": 5,
     "metadata": {},
     "output_type": "execute_result"
    }
   ],
   "source": [
    "simplify(BBOp_ct, rational=True)"
   ]
  },
  {
   "cell_type": "code",
   "execution_count": 6,
   "id": "16ecfac0",
   "metadata": {},
   "outputs": [
    {
     "data": {
      "image/png": "[encoded data removed]",
      "text/latex": [
       "$\\displaystyle c_{+} {\\left|010110\\right\\rangle } + c_{-} {\\left|100110\\right\\rangle }$"
      ],
      "text/plain": [
       "c₊⋅❘010110⟩ + c₋⋅❘100110⟩"
      ]
     },
     "execution_count": 6,
     "metadata": {},
     "output_type": "execute_result"
    }
   ],
   "source": [
    "ψ0_ABbWZa = psi_ctrl(ψi_ABbWZa, BBOp_ct, 0, 1)\n",
    "mbk(ψ0_ABbWZa)"
   ]
  },
  {
   "cell_type": "markdown",
   "id": "6ddd515a",
   "metadata": {},
   "source": [
    "#### PBS"
   ]
  },
  {
   "cell_type": "code",
   "execution_count": 7,
   "id": "c4394738",
   "metadata": {
    "scrolled": true
   },
   "outputs": [
    {
     "data": {
      "image/png": "[encoded data removed]",
      "text/latex": [
       "$\\displaystyle \\left[\\begin{matrix}1 & 0 & 0 & 0\\\\0 & 1 & 0 & 0\\\\0 & 0 & 0 & i\\\\0 & 0 & i & 0\\end{matrix}\\right]$"
      ],
      "text/plain": [
       "⎡1  0  0  0⎤\n",
       "⎢          ⎥\n",
       "⎢0  1  0  0⎥\n",
       "⎢          ⎥\n",
       "⎢0  0  0  ⅈ⎥\n",
       "⎢          ⎥\n",
       "⎣0  0  ⅈ  0⎦"
      ]
     },
     "execution_count": 7,
     "metadata": {},
     "output_type": "execute_result"
    }
   ],
   "source": [
    "mysim(PBS_ct)"
   ]
  },
  {
   "cell_type": "code",
   "execution_count": 8,
   "id": "732e1a0e",
   "metadata": {},
   "outputs": [
    {
     "data": {
      "image/png": "[encoded data removed]",
      "text/latex": [
       "$\\displaystyle \\left[\\begin{matrix}1 & 0 & 0 & 0\\\\0 & 0 & 0 & i\\\\0 & 0 & 1 & 0\\\\0 & i & 0 & 0\\end{matrix}\\right]$"
      ],
      "text/plain": [
       "⎡1  0  0  0⎤\n",
       "⎢          ⎥\n",
       "⎢0  0  0  ⅈ⎥\n",
       "⎢          ⎥\n",
       "⎢0  0  1  0⎥\n",
       "⎢          ⎥\n",
       "⎣0  ⅈ  0  0⎦"
      ]
     },
     "execution_count": 8,
     "metadata": {},
     "output_type": "execute_result"
    }
   ],
   "source": [
    "PBS_tc = troca_qubit_rho(PBS_ct, 0, 1)\n",
    "mysim(PBS_tc)"
   ]
  },
  {
   "cell_type": "code",
   "execution_count": 9,
   "id": "77b68284",
   "metadata": {},
   "outputs": [
    {
     "data": {
      "image/png": "[encoded data removed]",
      "text/latex": [
       "$\\displaystyle i c_{+} {\\left|011110\\right\\rangle } + c_{-} {\\left|100110\\right\\rangle }$"
      ],
      "text/plain": [
       "ⅈ⋅c₊⋅❘011110⟩ + c₋⋅❘100110⟩"
      ]
     },
     "execution_count": 9,
     "metadata": {},
     "output_type": "execute_result"
    }
   ],
   "source": [
    "ψ1_ABbWZa = psi_ctrl(ψ0_ABbWZa, PBS_ct, 1, 2)\n",
    "mysim(mbk(ψ1_ABbWZa))"
   ]
  },
  {
   "cell_type": "markdown",
   "id": "c91a0fd1",
   "metadata": {},
   "source": [
    "#### HWP"
   ]
  },
  {
   "cell_type": "code",
   "execution_count": 10,
   "id": "b3915a66",
   "metadata": {
    "scrolled": true
   },
   "outputs": [
    {
     "data": {
      "image/png": "[encoded data removed]",
      "text/latex": [
       "$\\displaystyle \\left[\\begin{matrix}1 & 0 & 0 & 0\\\\0 & 0 & 0 & 1\\\\0 & 0 & 1 & 0\\\\0 & 1 & 0 & 0\\end{matrix}\\right]$"
      ],
      "text/plain": [
       "⎡1  0  0  0⎤\n",
       "⎢          ⎥\n",
       "⎢0  0  0  1⎥\n",
       "⎢          ⎥\n",
       "⎢0  0  1  0⎥\n",
       "⎢          ⎥\n",
       "⎣0  1  0  0⎦"
      ]
     },
     "execution_count": 10,
     "metadata": {},
     "output_type": "execute_result"
    }
   ],
   "source": [
    "simplify(HWP_tc)"
   ]
  },
  {
   "cell_type": "code",
   "execution_count": 11,
   "id": "43b4f0e8",
   "metadata": {},
   "outputs": [
    {
     "data": {
      "image/png": "[encoded data removed]",
      "text/latex": [
       "$\\displaystyle i c_{+} {\\left|001110\\right\\rangle } + c_{-} {\\left|100110\\right\\rangle }$"
      ],
      "text/plain": [
       "ⅈ⋅c₊⋅❘001110⟩ + c₋⋅❘100110⟩"
      ]
     },
     "execution_count": 11,
     "metadata": {},
     "output_type": "execute_result"
    }
   ],
   "source": [
    "ψ2_ABbWZa = psi_ctrl(ψ1_ABbWZa, HWP_tc, 1, 2)\n",
    "mysim(mbk(ψ2_ABbWZa))"
   ]
  },
  {
   "cell_type": "markdown",
   "id": "d563f666",
   "metadata": {},
   "source": [
    "### QWP$_{in}$ - $\\Psi_2$, projetando em $A$ e traçando $B$ e $a$"
   ]
  },
  {
   "cell_type": "markdown",
   "id": "7fa6c99e",
   "metadata": {},
   "source": [
    "#### QWP e PBS$_A$"
   ]
  },
  {
   "cell_type": "code",
   "execution_count": 12,
   "id": "777da8f5",
   "metadata": {},
   "outputs": [
    {
     "data": {
      "image/png": "[encoded data removed]",
      "text/latex": [
       "$\\displaystyle \\frac{\\sqrt{2} \\left(i c_{+} {\\left|001110\\right\\rangle } - c_{+} {\\left|101110\\right\\rangle } + c_{-} {\\left|000110\\right\\rangle } - i c_{-} {\\left|100110\\right\\rangle }\\right)}{2}$"
      ],
      "text/plain": [
       "√2⋅(ⅈ⋅c₊⋅❘001110⟩ - c₊⋅❘101110⟩ + c₋⋅❘000110⟩ - ⅈ⋅c₋⋅❘100110⟩)\n",
       "──────────────────────────────────────────────────────────────\n",
       "                              2                               "
      ]
     },
     "execution_count": 12,
     "metadata": {},
     "output_type": "execute_result"
    }
   ],
   "source": [
    "ψ2p_ABbWZa_in = psi_gate(ψ2_ABbWZa, QWP, 0)\n",
    "mysim(mbk(ψ2p_ABbWZa_in))"
   ]
  },
  {
   "cell_type": "code",
   "execution_count": 13,
   "id": "47c4e7af",
   "metadata": {},
   "outputs": [
    {
     "data": {
      "image/png": "[encoded data removed]",
      "text/latex": [
       "$\\displaystyle \\frac{\\sqrt{2} \\left(i c_{+} {\\left|001110\\right\\rangle } - i c_{+} {\\left|101111\\right\\rangle } + c_{-} {\\left|000110\\right\\rangle } + c_{-} {\\left|100111\\right\\rangle }\\right)}{2}$"
      ],
      "text/plain": [
       "√2⋅(ⅈ⋅c₊⋅❘001110⟩ - ⅈ⋅c₊⋅❘101111⟩ + c₋⋅❘000110⟩ + c₋⋅❘100111⟩)\n",
       "──────────────────────────────────────────────────────────────\n",
       "                              2                               "
      ]
     },
     "execution_count": 13,
     "metadata": {},
     "output_type": "execute_result"
    }
   ],
   "source": [
    "ψ2p_ABbWZa_in = psi_ctrl(ψ2p_ABbWZa_in, PBS_ct, 0, 5)\n",
    "mysim(mbk(ψ2p_ABbWZa_in))"
   ]
  },
  {
   "cell_type": "code",
   "execution_count": 14,
   "id": "128cccff",
   "metadata": {},
   "outputs": [
    {
     "data": {
      "image/png": "[encoded data removed]",
      "text/latex": [
       "$\\displaystyle \\frac{\\sqrt{2} \\left(i c_{+} {\\left|001110\\right\\rangle } - i c_{+} {\\left|111110\\right\\rangle } + c_{-} {\\left|000110\\right\\rangle } + c_{-} {\\left|110110\\right\\rangle }\\right)}{2}$"
      ],
      "text/plain": [
       "√2⋅(ⅈ⋅c₊⋅❘001110⟩ - ⅈ⋅c₊⋅❘111110⟩ + c₋⋅❘000110⟩ + c₋⋅❘110110⟩)\n",
       "──────────────────────────────────────────────────────────────\n",
       "                              2                               "
      ]
     },
     "execution_count": 14,
     "metadata": {},
     "output_type": "execute_result"
    }
   ],
   "source": [
    "ψ2p_AbWZaB_in = troca_qubit(ψ2p_ABbWZa_in, 1, 5)\n",
    "ψ2p_AabWZB_in = troca_qubit(ψ2p_AbWZaB_in, 4, 1)\n",
    "mysim(mbk(ψ2p_AabWZB_in))"
   ]
  },
  {
   "cell_type": "markdown",
   "id": "bed2002d",
   "metadata": {},
   "source": [
    "Que fecha com o resutado teórico obtico. Podemos ainda escrever o estado da seguinte forma:\n",
    "\\begin{align*}\n",
    "\\left\\vert \\Psi_{2}^{\\prime}\\right\\rangle  &  =\\frac{1}{\\sqrt{2}}\\left[\n",
    "\\left\\vert 00\\right\\rangle _{Aa}\\left(  c_{-}\\left\\vert 0\\right\\rangle\n",
    "_{b}+ic_{+}\\left\\vert 1\\right\\rangle _{b}\\right)  +\\left\\vert 11\\right\\rangle\n",
    "_{Aa}\\left(  c_{-}\\left\\vert 0\\right\\rangle _{b}-ic_{+}\\left\\vert\n",
    "1\\right\\rangle _{b}\\right)  \\right]  \\left\\vert 11\\right\\rangle _{WZ}%\n",
    "\\left\\vert 0\\right\\rangle _{B}\\\\\n",
    "&  =\\frac{1}{\\sqrt{2}}\\left(  \\left\\vert 00\\right\\rangle _{Aa}\\left\\vert\n",
    "\\beta_{0}\\right\\rangle +\\left\\vert 11\\right\\rangle _{Aa}\\left\\vert \\beta\n",
    "_{1}\\right\\rangle \\right)  \\left\\vert 11\\right\\rangle _{WZ}\\left\\vert\n",
    "0\\right\\rangle _{B}%\n",
    "\\end{align*}\n",
    "onde\n",
    "\\begin{equation}\n",
    "\\left\\vert \\beta_{k}\\right\\rangle =c_{-}\\left\\vert 0\\right\\rangle _{b}%\n",
    "+ic_{+}\\left(  -1\\right)  ^{k}\\left\\vert 1\\right\\rangle _{b}.\n",
    "\\end{equation}"
   ]
  },
  {
   "cell_type": "code",
   "execution_count": 15,
   "id": "b8752e16",
   "metadata": {},
   "outputs": [
    {
     "data": {
      "image/png": "[encoded data removed]",
      "text/latex": [
       "$\\displaystyle \\frac{\\sqrt{2} \\left(i c_{+} {\\left|011100\\right\\rangle } - i c_{+} {\\left|111101\\right\\rangle } + c_{-} {\\left|001100\\right\\rangle } + c_{-} {\\left|101101\\right\\rangle }\\right)}{2}$"
      ],
      "text/plain": [
       "√2⋅(ⅈ⋅c₊⋅❘011100⟩ - ⅈ⋅c₊⋅❘111101⟩ + c₋⋅❘001100⟩ + c₋⋅❘101101⟩)\n",
       "──────────────────────────────────────────────────────────────\n",
       "                              2                               "
      ]
     },
     "execution_count": 15,
     "metadata": {},
     "output_type": "execute_result"
    }
   ],
   "source": [
    "ψ2p_AbWZBa_in = troca_qubit(ψ2p_AabWZB_in, 1, 5)\n",
    "mysim(mbk(ψ2p_AbWZBa_in))"
   ]
  },
  {
   "cell_type": "code",
   "execution_count": 16,
   "id": "9286542a",
   "metadata": {},
   "outputs": [
    {
     "data": {
      "image/png": "[encoded data removed]",
      "text/latex": [
       "$\\displaystyle \\frac{c_{+}^{2} {\\left|0111\\right\\rangle } {\\left\\langle 0111\\right|} + c_{+}^{2} {\\left|1111\\right\\rangle } {\\left\\langle 1111\\right|} - i c_{+} c_{-} {\\left|0011\\right\\rangle } {\\left\\langle 0111\\right|} + i c_{+} c_{-} {\\left|0111\\right\\rangle } {\\left\\langle 0011\\right|} + i c_{+} c_{-} {\\left|1011\\right\\rangle } {\\left\\langle 1111\\right|} - i c_{+} c_{-} {\\left|1111\\right\\rangle } {\\left\\langle 1011\\right|} + c_{-}^{2} {\\left|0011\\right\\rangle } {\\left\\langle 0011\\right|} + c_{-}^{2} {\\left|1011\\right\\rangle } {\\left\\langle 1011\\right|}}{2}$"
      ],
      "text/plain": [
       "  2                   2                                                       \n",
       "c₊ ⋅❘0111⟩⋅⟨0111❘ + c₊ ⋅❘1111⟩⋅⟨1111❘ - ⅈ⋅c₊⋅c₋⋅❘0011⟩⋅⟨0111❘ + ⅈ⋅c₊⋅c₋⋅❘0111⟩\n",
       "──────────────────────────────────────────────────────────────────────────────\n",
       "                                                                              \n",
       "\n",
       "                                                            2                 \n",
       "⋅⟨0011❘ + ⅈ⋅c₊⋅c₋⋅❘1011⟩⋅⟨1111❘ - ⅈ⋅c₊⋅c₋⋅❘1111⟩⋅⟨1011❘ + c₋ ⋅❘0011⟩⋅⟨0011❘ + \n",
       "──────────────────────────────────────────────────────────────────────────────\n",
       "        2                                                                     \n",
       "\n",
       "  2              \n",
       "c₋ ⋅❘1011⟩⋅⟨1011❘\n",
       "─────────────────\n",
       "                 "
      ]
     },
     "execution_count": 16,
     "metadata": {},
     "output_type": "execute_result"
    }
   ],
   "source": [
    "ρ2p_AbWZ_trBa_in = ptraceB(16, 4, proj(ψ2p_AbWZBa_in))\n",
    "mysim(mbk(ρ2p_AbWZ_trBa_in))"
   ]
  },
  {
   "cell_type": "code",
   "execution_count": 17,
   "id": "e4ab4c57",
   "metadata": {
    "scrolled": false
   },
   "outputs": [
    {
     "data": {
      "image/png": "[encoded data removed]",
      "text/latex": [
       "$\\displaystyle \\left[\\begin{array}{cccccccccccccccc}0 & 0 & 0 & 0 & 0 & 0 & 0 & 0 & 0 & 0 & 0 & 0 & 0 & 0 & 0 & 0\\\\0 & 0 & 0 & 0 & 0 & 0 & 0 & 0 & 0 & 0 & 0 & 0 & 0 & 0 & 0 & 0\\\\0 & 0 & 0 & 0 & 0 & 0 & 0 & 0 & 0 & 0 & 0 & 0 & 0 & 0 & 0 & 0\\\\0 & 0 & 0 & \\frac{c_{-}^{2}}{2} & 0 & 0 & 0 & - \\frac{i c_{+} c_{-}}{2} & 0 & 0 & 0 & 0 & 0 & 0 & 0 & 0\\\\0 & 0 & 0 & 0 & 0 & 0 & 0 & 0 & 0 & 0 & 0 & 0 & 0 & 0 & 0 & 0\\\\0 & 0 & 0 & 0 & 0 & 0 & 0 & 0 & 0 & 0 & 0 & 0 & 0 & 0 & 0 & 0\\\\0 & 0 & 0 & 0 & 0 & 0 & 0 & 0 & 0 & 0 & 0 & 0 & 0 & 0 & 0 & 0\\\\0 & 0 & 0 & \\frac{i c_{+} c_{-}}{2} & 0 & 0 & 0 & \\frac{c_{+}^{2}}{2} & 0 & 0 & 0 & 0 & 0 & 0 & 0 & 0\\\\0 & 0 & 0 & 0 & 0 & 0 & 0 & 0 & 0 & 0 & 0 & 0 & 0 & 0 & 0 & 0\\\\0 & 0 & 0 & 0 & 0 & 0 & 0 & 0 & 0 & 0 & 0 & 0 & 0 & 0 & 0 & 0\\\\0 & 0 & 0 & 0 & 0 & 0 & 0 & 0 & 0 & 0 & 0 & 0 & 0 & 0 & 0 & 0\\\\0 & 0 & 0 & 0 & 0 & 0 & 0 & 0 & 0 & 0 & 0 & \\frac{c_{-}^{2}}{2} & 0 & 0 & 0 & \\frac{i c_{+} c_{-}}{2}\\\\0 & 0 & 0 & 0 & 0 & 0 & 0 & 0 & 0 & 0 & 0 & 0 & 0 & 0 & 0 & 0\\\\0 & 0 & 0 & 0 & 0 & 0 & 0 & 0 & 0 & 0 & 0 & 0 & 0 & 0 & 0 & 0\\\\0 & 0 & 0 & 0 & 0 & 0 & 0 & 0 & 0 & 0 & 0 & 0 & 0 & 0 & 0 & 0\\\\0 & 0 & 0 & 0 & 0 & 0 & 0 & 0 & 0 & 0 & 0 & - \\frac{i c_{+} c_{-}}{2} & 0 & 0 & 0 & \\frac{c_{+}^{2}}{2}\\end{array}\\right]$"
      ],
      "text/plain": [
       "⎡0  0  0     0     0  0  0      0      0  0  0      0      0  0  0     0   ⎤\n",
       "⎢                                                                          ⎥\n",
       "⎢0  0  0     0     0  0  0      0      0  0  0      0      0  0  0     0   ⎥\n",
       "⎢                                                                          ⎥\n",
       "⎢0  0  0     0     0  0  0      0      0  0  0      0      0  0  0     0   ⎥\n",
       "⎢                                                                          ⎥\n",
       "⎢             2                                                            ⎥\n",
       "⎢           c₋              -ⅈ⋅c₊⋅c₋                                       ⎥\n",
       "⎢0  0  0    ───    0  0  0  ─────────  0  0  0      0      0  0  0     0   ⎥\n",
       "⎢            2                  2                                          ⎥\n",
       "⎢                                                                          ⎥\n",
       "⎢0  0  0     0     0  0  0      0      0  0  0      0      0  0  0     0   ⎥\n",
       "⎢                                                                          ⎥\n",
       "⎢0  0  0     0     0  0  0      0      0  0  0      0      0  0  0     0   ⎥\n",
       "⎢                                                                          ⎥\n",
       "⎢0  0  0     0     0  0  0      0      0  0  0      0      0  0  0     0   ⎥\n",
       "⎢                                                                          ⎥\n",
       "⎢                                2                                         ⎥\n",
       "⎢         ⅈ⋅c₊⋅c₋              c₊                                          ⎥\n",
       "⎢0  0  0  ───────  0  0  0     ───     0  0  0      0      0  0  0     0   ⎥\n",
       "⎢            2                  2                                          ⎥\n",
       "⎢                                                                          ⎥\n",
       "⎢0  0  0     0     0  0  0      0      0  0  0      0      0  0  0     0   ⎥\n",
       "⎢                                                                          ⎥\n",
       "⎢0  0  0     0     0  0  0      0      0  0  0      0      0  0  0     0   ⎥\n",
       "⎢                                                                          ⎥\n",
       "⎢0  0  0     0     0  0  0      0      0  0  0      0      0  0  0     0   ⎥\n",
       "⎢                                                                          ⎥\n",
       "⎢                                                    2                     ⎥\n",
       "⎢                                                  c₋               ⅈ⋅c₊⋅c₋⎥\n",
       "⎢0  0  0     0     0  0  0      0      0  0  0     ───     0  0  0  ───────⎥\n",
       "⎢                                                   2                  2   ⎥\n",
       "⎢                                                                          ⎥\n",
       "⎢0  0  0     0     0  0  0      0      0  0  0      0      0  0  0     0   ⎥\n",
       "⎢                                                                          ⎥\n",
       "⎢0  0  0     0     0  0  0      0      0  0  0      0      0  0  0     0   ⎥\n",
       "⎢                                                                          ⎥\n",
       "⎢0  0  0     0     0  0  0      0      0  0  0      0      0  0  0     0   ⎥\n",
       "⎢                                                                          ⎥\n",
       "⎢                                                                       2  ⎥\n",
       "⎢                                               -ⅈ⋅c₊⋅c₋              c₊   ⎥\n",
       "⎢0  0  0     0     0  0  0      0      0  0  0  ─────────  0  0  0    ───  ⎥\n",
       "⎣                                                   2                  2   ⎦"
      ]
     },
     "execution_count": 17,
     "metadata": {},
     "output_type": "execute_result"
    }
   ],
   "source": [
    "mysim(ρ2p_AbWZ_trBa_in)"
   ]
  },
  {
   "cell_type": "code",
   "execution_count": 18,
   "id": "c75fbd52",
   "metadata": {},
   "outputs": [
    {
     "data": {
      "image/png": "[encoded data removed]",
      "text/latex": [
       "$\\displaystyle \\left[\\begin{array}{cccccccccccccccc}0 & 0 & 0 & 0 & 0 & 0 & 0 & 0 & 0 & 0 & 0 & 0 & 0 & 0 & 0 & 0\\\\0 & 0 & 0 & 0 & 0 & 0 & 0 & 0 & 0 & 0 & 0 & 0 & 0 & 0 & 0 & 0\\\\0 & 0 & 0 & 0 & 0 & 0 & 0 & 0 & 0 & 0 & 0 & 0 & 0 & 0 & 0 & 0\\\\0 & 0 & 0 & \\frac{1}{4} & 0 & 0 & 0 & - \\frac{i}{4} & 0 & 0 & 0 & 0 & 0 & 0 & 0 & 0\\\\0 & 0 & 0 & 0 & 0 & 0 & 0 & 0 & 0 & 0 & 0 & 0 & 0 & 0 & 0 & 0\\\\0 & 0 & 0 & 0 & 0 & 0 & 0 & 0 & 0 & 0 & 0 & 0 & 0 & 0 & 0 & 0\\\\0 & 0 & 0 & 0 & 0 & 0 & 0 & 0 & 0 & 0 & 0 & 0 & 0 & 0 & 0 & 0\\\\0 & 0 & 0 & \\frac{i}{4} & 0 & 0 & 0 & \\frac{1}{4} & 0 & 0 & 0 & 0 & 0 & 0 & 0 & 0\\\\0 & 0 & 0 & 0 & 0 & 0 & 0 & 0 & 0 & 0 & 0 & 0 & 0 & 0 & 0 & 0\\\\0 & 0 & 0 & 0 & 0 & 0 & 0 & 0 & 0 & 0 & 0 & 0 & 0 & 0 & 0 & 0\\\\0 & 0 & 0 & 0 & 0 & 0 & 0 & 0 & 0 & 0 & 0 & 0 & 0 & 0 & 0 & 0\\\\0 & 0 & 0 & 0 & 0 & 0 & 0 & 0 & 0 & 0 & 0 & \\frac{1}{4} & 0 & 0 & 0 & \\frac{i}{4}\\\\0 & 0 & 0 & 0 & 0 & 0 & 0 & 0 & 0 & 0 & 0 & 0 & 0 & 0 & 0 & 0\\\\0 & 0 & 0 & 0 & 0 & 0 & 0 & 0 & 0 & 0 & 0 & 0 & 0 & 0 & 0 & 0\\\\0 & 0 & 0 & 0 & 0 & 0 & 0 & 0 & 0 & 0 & 0 & 0 & 0 & 0 & 0 & 0\\\\0 & 0 & 0 & 0 & 0 & 0 & 0 & 0 & 0 & 0 & 0 & - \\frac{i}{4} & 0 & 0 & 0 & \\frac{1}{4}\\end{array}\\right]$"
      ],
      "text/plain": [
       "⎡0  0  0   0   0  0  0   0   0  0  0   0   0  0  0   0 ⎤\n",
       "⎢                                                      ⎥\n",
       "⎢0  0  0   0   0  0  0   0   0  0  0   0   0  0  0   0 ⎥\n",
       "⎢                                                      ⎥\n",
       "⎢0  0  0   0   0  0  0   0   0  0  0   0   0  0  0   0 ⎥\n",
       "⎢                                                      ⎥\n",
       "⎢                       -ⅈ                             ⎥\n",
       "⎢0  0  0  1/4  0  0  0  ───  0  0  0   0   0  0  0   0 ⎥\n",
       "⎢                        4                             ⎥\n",
       "⎢                                                      ⎥\n",
       "⎢0  0  0   0   0  0  0   0   0  0  0   0   0  0  0   0 ⎥\n",
       "⎢                                                      ⎥\n",
       "⎢0  0  0   0   0  0  0   0   0  0  0   0   0  0  0   0 ⎥\n",
       "⎢                                                      ⎥\n",
       "⎢0  0  0   0   0  0  0   0   0  0  0   0   0  0  0   0 ⎥\n",
       "⎢                                                      ⎥\n",
       "⎢          ⅈ                                           ⎥\n",
       "⎢0  0  0   ─   0  0  0  1/4  0  0  0   0   0  0  0   0 ⎥\n",
       "⎢          4                                           ⎥\n",
       "⎢                                                      ⎥\n",
       "⎢0  0  0   0   0  0  0   0   0  0  0   0   0  0  0   0 ⎥\n",
       "⎢                                                      ⎥\n",
       "⎢0  0  0   0   0  0  0   0   0  0  0   0   0  0  0   0 ⎥\n",
       "⎢                                                      ⎥\n",
       "⎢0  0  0   0   0  0  0   0   0  0  0   0   0  0  0   0 ⎥\n",
       "⎢                                                      ⎥\n",
       "⎢                                                    ⅈ ⎥\n",
       "⎢0  0  0   0   0  0  0   0   0  0  0  1/4  0  0  0   ─ ⎥\n",
       "⎢                                                    4 ⎥\n",
       "⎢                                                      ⎥\n",
       "⎢0  0  0   0   0  0  0   0   0  0  0   0   0  0  0   0 ⎥\n",
       "⎢                                                      ⎥\n",
       "⎢0  0  0   0   0  0  0   0   0  0  0   0   0  0  0   0 ⎥\n",
       "⎢                                                      ⎥\n",
       "⎢0  0  0   0   0  0  0   0   0  0  0   0   0  0  0   0 ⎥\n",
       "⎢                                                      ⎥\n",
       "⎢                                     -ⅈ               ⎥\n",
       "⎢0  0  0   0   0  0  0   0   0  0  0  ───  0  0  0  1/4⎥\n",
       "⎣                                      4               ⎦"
      ]
     },
     "execution_count": 18,
     "metadata": {},
     "output_type": "execute_result"
    }
   ],
   "source": [
    "mysim(ρ2p_AbWZ_trBa_in).subs(cp, 1/sqrt(2)).subs(cm, 1/sqrt(2))"
   ]
  },
  {
   "cell_type": "code",
   "execution_count": 23,
   "id": "69c4fdb4",
   "metadata": {},
   "outputs": [
    {
     "data": {
      "image/png": "[encoded data removed]",
      "text/latex": [
       "$\\displaystyle c_{+}^{2} {\\left|111\\right\\rangle } {\\left\\langle 111\\right|} - i c_{+} c_{-} {\\left|011\\right\\rangle } {\\left\\langle 111\\right|} + i c_{+} c_{-} {\\left|111\\right\\rangle } {\\left\\langle 011\\right|} + c_{-}^{2} {\\left|011\\right\\rangle } {\\left\\langle 011\\right|}$"
      ],
      "text/plain": [
       "  2                                                             2            \n",
       "c₊ ⋅❘111⟩⋅⟨111❘ - ⅈ⋅c₊⋅c₋⋅❘011⟩⋅⟨111❘ + ⅈ⋅c₊⋅c₋⋅❘111⟩⋅⟨011❘ + c₋ ⋅❘011⟩⋅⟨011❘"
      ]
     },
     "execution_count": 23,
     "metadata": {},
     "output_type": "execute_result"
    }
   ],
   "source": [
    "ρ2p_0bWZ_trBa_in = projM(8, '0', ρ2p_AbWZ_trBa_in)\n",
    "mysim(mbk(ρ2p_0bWZ_trBa_in)).subs(cp**2+cm**2, 1)"
   ]
  },
  {
   "cell_type": "code",
   "execution_count": 24,
   "id": "d0002953",
   "metadata": {},
   "outputs": [
    {
     "data": {
      "image/png": "[encoded data removed]",
      "text/latex": [
       "$\\displaystyle 0$"
      ],
      "text/plain": [
       "0"
      ]
     },
     "execution_count": 24,
     "metadata": {},
     "output_type": "execute_result"
    }
   ],
   "source": [
    "von_neumann_sympy(ρ2p_0bWZ_trBa_in)"
   ]
  },
  {
   "cell_type": "code",
   "execution_count": 25,
   "id": "38dca9a9",
   "metadata": {},
   "outputs": [
    {
     "data": {
      "image/png": "[encoded data removed]",
      "text/latex": [
       "$\\displaystyle c_{+}^{2} {\\left|111\\right\\rangle } {\\left\\langle 111\\right|} + c_{-}^{2} {\\left|011\\right\\rangle } {\\left\\langle 011\\right|}$"
      ],
      "text/plain": [
       "  2                 2            \n",
       "c₊ ⋅❘111⟩⋅⟨111❘ + c₋ ⋅❘011⟩⋅⟨011❘"
      ]
     },
     "execution_count": 25,
     "metadata": {},
     "output_type": "execute_result"
    }
   ],
   "source": [
    "ρ2p_0bWZ_trBa_deph_in = dephasing_map_3qubits(ρ2p_0bWZ_trBa_in)\n",
    "mysim(mbk(ρ2p_0bWZ_trBa_deph_in)).subs(cp**2+cm**2, 1)"
   ]
  },
  {
   "cell_type": "code",
   "execution_count": 26,
   "id": "ba71842c",
   "metadata": {},
   "outputs": [
    {
     "data": {
      "image/png": "[encoded data removed]",
      "text/latex": [
       "$\\displaystyle - 1.0 c_{+}^{2} \\log{\\left(1.0 c_{+}^{2} \\right)} - c_{-}^{2} \\log{\\left(c_{-}^{2} \\right)}$"
      ],
      "text/plain": [
       "    2    ⎛      2⎞     2    ⎛  2⎞\n",
       "- c₊ ⋅log⎝1.0⋅c₊ ⎠ - c₋ ⋅log⎝c₋ ⎠"
      ]
     },
     "execution_count": 26,
     "metadata": {},
     "output_type": "execute_result"
    }
   ],
   "source": [
    "von_neumann_sympy(ρ2p_0bWZ_trBa_deph_in).subs(cp**2+cm**2, 1)"
   ]
  },
  {
   "cell_type": "code",
   "execution_count": 29,
   "id": "195c8a83",
   "metadata": {},
   "outputs": [
    {
     "data": {
      "image/png": "[encoded data removed]",
      "text/latex": [
       "$\\displaystyle - 1.0 c_{+}^{2} \\log{\\left(1.0 c_{+}^{2} \\right)} - c_{-}^{2} \\log{\\left(c_{-}^{2} \\right)}$"
      ],
      "text/plain": [
       "    2    ⎛      2⎞     2    ⎛  2⎞\n",
       "- c₊ ⋅log⎝1.0⋅c₊ ⎠ - c₋ ⋅log⎝c₋ ⎠"
      ]
     },
     "execution_count": 29,
     "metadata": {},
     "output_type": "execute_result"
    }
   ],
   "source": [
    "Irr_b_in = von_neumann_sympy(ρ2p_0bWZ_trBa_deph_in).subs(cp**2+cm**2, 1) - von_neumann_sympy(ρ2p_0bWZ_trBa_in)\n",
    "Irr_b_in"
   ]
  },
  {
   "cell_type": "code",
   "execution_count": 30,
   "id": "bbba8e32",
   "metadata": {},
   "outputs": [
    {
     "data": {
      "image/png": "[encoded data removed]",
      "text/plain": [
       "<Figure size 400x300 with 1 Axes>"
      ]
     },
     "metadata": {},
     "output_type": "display_data"
    }
   ],
   "source": [
    "import numpy as np\n",
    "import matplotlib.pyplot as plt\n",
    "\n",
    "def func(theta):\n",
    "    c_plus = np.cos(theta/2)\n",
    "    c_minus = np.sqrt(1 - c_plus**2)\n",
    "    return -1.0 * c_plus**2 * np.log2(1.0 * c_plus**2) - c_minus**2 * np.log2(c_minus**2)\n",
    "\n",
    "theta_vals = np.linspace(0.01, np.pi, 1000)\n",
    "y_vals = func(theta_vals)\n",
    "\n",
    "plt.figure(figsize = (4,3), constrained_layout = True)\n",
    "plt.style.use(['science', 'notebook', 'grid'])\n",
    "plt.plot(theta_vals, y_vals)\n",
    "plt.xlabel(r'$\\theta$')\n",
    "plt.ylabel('Irrealidade')\n",
    "plt.xticks(fontsize=10)\n",
    "plt.yticks(fontsize=10)\n",
    "#plt.title('Gráfico da função')\n",
    "plt.show()\n"
   ]
  },
  {
   "cell_type": "markdown",
   "id": "590858de",
   "metadata": {},
   "source": [
    "### QWP$_{out}$ - $\\Psi_2$, projetando em $A$ e traçando $B$ e $a$"
   ]
  },
  {
   "cell_type": "markdown",
   "id": "aed728d0",
   "metadata": {},
   "source": [
    "#### PBS$_A$"
   ]
  },
  {
   "cell_type": "code",
   "execution_count": 31,
   "id": "1360a4bd",
   "metadata": {},
   "outputs": [
    {
     "data": {
      "image/png": "[encoded data removed]",
      "text/latex": [
       "$\\displaystyle \\left[\\begin{matrix}1 & 0 & 0 & 0\\\\0 & 1 & 0 & 0\\\\0 & 0 & 0 & i\\\\0 & 0 & i & 0\\end{matrix}\\right]$"
      ],
      "text/plain": [
       "⎡1  0  0  0⎤\n",
       "⎢          ⎥\n",
       "⎢0  1  0  0⎥\n",
       "⎢          ⎥\n",
       "⎢0  0  0  ⅈ⎥\n",
       "⎢          ⎥\n",
       "⎣0  0  ⅈ  0⎦"
      ]
     },
     "execution_count": 31,
     "metadata": {},
     "output_type": "execute_result"
    }
   ],
   "source": [
    "mysim(PBS_ct)"
   ]
  },
  {
   "cell_type": "code",
   "execution_count": 32,
   "id": "d7d5c633",
   "metadata": {},
   "outputs": [
    {
     "data": {
      "image/png": "[encoded data removed]",
      "text/latex": [
       "$\\displaystyle 1.0 i c_{+} {\\left|001110\\right\\rangle } + c_{-} {\\left|100110\\right\\rangle }$"
      ],
      "text/plain": [
       "1.0⋅ⅈ⋅c₊⋅❘001110⟩ + c₋⋅❘100110⟩"
      ]
     },
     "execution_count": 32,
     "metadata": {},
     "output_type": "execute_result"
    }
   ],
   "source": [
    "mbk(ψ2_ABbWZa)"
   ]
  },
  {
   "cell_type": "code",
   "execution_count": 33,
   "id": "d20ba252",
   "metadata": {},
   "outputs": [
    {
     "data": {
      "image/png": "[encoded data removed]",
      "text/latex": [
       "$\\displaystyle i \\left(c_{+} {\\left|001110\\right\\rangle } + c_{-} {\\left|100111\\right\\rangle }\\right)$"
      ],
      "text/plain": [
       "ⅈ⋅(c₊⋅❘001110⟩ + c₋⋅❘100111⟩)"
      ]
     },
     "execution_count": 33,
     "metadata": {},
     "output_type": "execute_result"
    }
   ],
   "source": [
    "ψ2p_ABbWZa_out = psi_ctrl(ψ2_ABbWZa, PBS_ct, 0, 5)\n",
    "mysim(mbk(ψ2p_ABbWZa_out))"
   ]
  },
  {
   "cell_type": "code",
   "execution_count": 34,
   "id": "a9029111",
   "metadata": {},
   "outputs": [
    {
     "data": {
      "image/png": "[encoded data removed]",
      "text/latex": [
       "$\\displaystyle i \\left(c_{+} {\\left|011100\\right\\rangle } + c_{-} {\\left|101101\\right\\rangle }\\right)$"
      ],
      "text/plain": [
       "ⅈ⋅(c₊⋅❘011100⟩ + c₋⋅❘101101⟩)"
      ]
     },
     "execution_count": 34,
     "metadata": {},
     "output_type": "execute_result"
    }
   ],
   "source": [
    "ψ2p_AbWZBa_out = troca_qubit(ψ2p_ABbWZa_out, 1, 4)\n",
    "mysim(mbk(ψ2p_AbWZBa_out))"
   ]
  },
  {
   "cell_type": "code",
   "execution_count": 36,
   "id": "53156593",
   "metadata": {},
   "outputs": [
    {
     "data": {
      "image/png": "[encoded data removed]",
      "text/latex": [
       "$\\displaystyle c_{+}^{2} {\\left|0111\\right\\rangle } {\\left\\langle 0111\\right|} + c_{-}^{2} {\\left|1011\\right\\rangle } {\\left\\langle 1011\\right|}$"
      ],
      "text/plain": [
       "  2                   2              \n",
       "c₊ ⋅❘0111⟩⋅⟨0111❘ + c₋ ⋅❘1011⟩⋅⟨1011❘"
      ]
     },
     "execution_count": 36,
     "metadata": {},
     "output_type": "execute_result"
    }
   ],
   "source": [
    "ρ2p_AbWZ_trBa_out = ptraceB(16, 4, proj(ψ2p_AbWZBa_out))\n",
    "mysim(mbk(ρ2p_AbWZ_trBa_out))"
   ]
  },
  {
   "cell_type": "code",
   "execution_count": 77,
   "id": "50017e35",
   "metadata": {},
   "outputs": [
    {
     "data": {
      "image/png": "[encoded data removed]",
      "text/latex": [
       "$\\displaystyle c_{+}^{2} {\\left|0111\\right\\rangle } {\\left\\langle 0111\\right|} + c_{-}^{2} {\\left|1011\\right\\rangle } {\\left\\langle 1011\\right|}$"
      ],
      "text/plain": [
       "  2                   2              \n",
       "c₊ ⋅❘0111⟩⋅⟨0111❘ + c₋ ⋅❘1011⟩⋅⟨1011❘"
      ]
     },
     "execution_count": 77,
     "metadata": {},
     "output_type": "execute_result"
    }
   ],
   "source": [
    "mysim(mbk(ρ2p_AbWZ_trBa_out))"
   ]
  },
  {
   "cell_type": "code",
   "execution_count": 78,
   "id": "81f50f13",
   "metadata": {},
   "outputs": [
    {
     "data": {
      "image/png": "[encoded data removed]",
      "text/latex": [
       "$\\displaystyle \\frac{{\\left|0111\\right\\rangle } {\\left\\langle 0111\\right|}}{2} + \\frac{{\\left|1011\\right\\rangle } {\\left\\langle 1011\\right|}}{2}$"
      ],
      "text/plain": [
       "❘0111⟩⋅⟨0111❘   ❘1011⟩⋅⟨1011❘\n",
       "───────────── + ─────────────\n",
       "      2               2      "
      ]
     },
     "execution_count": 78,
     "metadata": {},
     "output_type": "execute_result"
    }
   ],
   "source": [
    "mysim(mbk(ρ2p_AbWZ_trBa_out)).subs(cp, 1/sqrt(2)).subs(cm, 1/sqrt(2))"
   ]
  },
  {
   "cell_type": "code",
   "execution_count": 37,
   "id": "204e766c",
   "metadata": {},
   "outputs": [
    {
     "data": {
      "image/png": "[encoded data removed]",
      "text/latex": [
       "$\\displaystyle {\\left|111\\right\\rangle } {\\left\\langle 111\\right|}$"
      ],
      "text/plain": [
       "❘111⟩⋅⟨111❘"
      ]
     },
     "execution_count": 37,
     "metadata": {},
     "output_type": "execute_result"
    }
   ],
   "source": [
    "ρ2p_0bWZ_trBa_out = projM(8, '0', ρ2p_AbWZ_trBa_out)\n",
    "mysim(mbk(ρ2p_0bWZ_trBa_out))"
   ]
  },
  {
   "cell_type": "code",
   "execution_count": 38,
   "id": "7db51ec2",
   "metadata": {},
   "outputs": [
    {
     "data": {
      "image/png": "[encoded data removed]",
      "text/latex": [
       "$\\displaystyle 0$"
      ],
      "text/plain": [
       "0"
      ]
     },
     "execution_count": 38,
     "metadata": {},
     "output_type": "execute_result"
    }
   ],
   "source": [
    "von_neumann_sympy(ρ2p_0bWZ_trBa_out)"
   ]
  },
  {
   "cell_type": "code",
   "execution_count": 39,
   "id": "2a82ad96",
   "metadata": {},
   "outputs": [
    {
     "data": {
      "image/png": "[encoded data removed]",
      "text/latex": [
       "$\\displaystyle {\\left|111\\right\\rangle } {\\left\\langle 111\\right|}$"
      ],
      "text/plain": [
       "❘111⟩⋅⟨111❘"
      ]
     },
     "execution_count": 39,
     "metadata": {},
     "output_type": "execute_result"
    }
   ],
   "source": [
    "ρ2p_0bWZ_trBa_deph_out = dephasing_map_3qubits(ρ2p_0bWZ_trBa_out)\n",
    "mysim(mbk(ρ2p_0bWZ_trBa_deph_out)).subs(cp**2+cm**2, 1)"
   ]
  },
  {
   "cell_type": "code",
   "execution_count": 40,
   "id": "b62a42db",
   "metadata": {},
   "outputs": [
    {
     "data": {
      "image/png": "[encoded data removed]",
      "text/latex": [
       "$\\displaystyle 0$"
      ],
      "text/plain": [
       "0"
      ]
     },
     "execution_count": 40,
     "metadata": {},
     "output_type": "execute_result"
    }
   ],
   "source": [
    "von_neumann_sympy(ρ2p_0bWZ_trBa_deph_out)"
   ]
  },
  {
   "cell_type": "code",
   "execution_count": 41,
   "id": "57f37155",
   "metadata": {
    "scrolled": true
   },
   "outputs": [
    {
     "data": {
      "image/png": "[encoded data removed]",
      "text/latex": [
       "$\\displaystyle 0$"
      ],
      "text/plain": [
       "0"
      ]
     },
     "execution_count": 41,
     "metadata": {},
     "output_type": "execute_result"
    }
   ],
   "source": [
    "Irr_b_out = von_neumann_sympy(ρ2p_0bWZ_trBa_deph_out) - von_neumann_sympy(ρ2p_0bWZ_trBa_out)\n",
    "Irr_b_out"
   ]
  },
  {
   "cell_type": "markdown",
   "id": "792414d0",
   "metadata": {},
   "source": [
    "# Fora do IMZ após a HWP -  $\\Psi_5$"
   ]
  },
  {
   "cell_type": "markdown",
   "id": "db9841ed",
   "metadata": {},
   "source": [
    "<img src = 'setup_realism.jpg' width = '90%'>"
   ]
  },
  {
   "cell_type": "markdown",
   "id": "155d6f3b",
   "metadata": {},
   "source": [
    "### Estado inicial"
   ]
  },
  {
   "cell_type": "code",
   "execution_count": 42,
   "id": "ea46d7e3",
   "metadata": {},
   "outputs": [
    {
     "data": {
      "image/png": "[encoded data removed]",
      "text/latex": [
       "$\\displaystyle {\\left|000110\\right\\rangle }$"
      ],
      "text/plain": [
       "❘000110⟩"
      ]
     },
     "execution_count": 42,
     "metadata": {},
     "output_type": "execute_result"
    }
   ],
   "source": [
    "ψi_ABbWZa = pket('000110')\n",
    "mbk(ψi_ABbWZa)"
   ]
  },
  {
   "cell_type": "markdown",
   "id": "8b650126",
   "metadata": {},
   "source": [
    "#### BBO$_p$"
   ]
  },
  {
   "cell_type": "code",
   "execution_count": 43,
   "id": "6a887264",
   "metadata": {},
   "outputs": [
    {
     "data": {
      "image/png": "[encoded data removed]",
      "text/latex": [
       "$\\displaystyle \\left[\\begin{matrix}0 & c_{+} & 0 & - c_{-}\\\\c_{+} & 0 & - c_{-} & 0\\\\c_{-} & 0 & c_{+} & 0\\\\0 & c_{-} & 0 & c_{+}\\end{matrix}\\right]$"
      ],
      "text/plain": [
       "⎡0   c₊   0   -c₋⎤\n",
       "⎢                ⎥\n",
       "⎢c₊  0   -c₋   0 ⎥\n",
       "⎢                ⎥\n",
       "⎢c₋  0   c₊    0 ⎥\n",
       "⎢                ⎥\n",
       "⎣0   c₋   0   c₊ ⎦"
      ]
     },
     "execution_count": 43,
     "metadata": {},
     "output_type": "execute_result"
    }
   ],
   "source": [
    "simplify(BBOp_ct, rational=True)"
   ]
  },
  {
   "cell_type": "code",
   "execution_count": 44,
   "id": "f9889a4c",
   "metadata": {},
   "outputs": [
    {
     "data": {
      "image/png": "[encoded data removed]",
      "text/latex": [
       "$\\displaystyle c_{+} {\\left|010110\\right\\rangle } + c_{-} {\\left|100110\\right\\rangle }$"
      ],
      "text/plain": [
       "c₊⋅❘010110⟩ + c₋⋅❘100110⟩"
      ]
     },
     "execution_count": 44,
     "metadata": {},
     "output_type": "execute_result"
    }
   ],
   "source": [
    "ψ0_ABbWZa = psi_ctrl(ψi_ABbWZa, BBOp_ct, 0, 1)\n",
    "mbk(ψ0_ABbWZa)"
   ]
  },
  {
   "cell_type": "markdown",
   "id": "46894b04",
   "metadata": {},
   "source": [
    "#### PBS"
   ]
  },
  {
   "cell_type": "code",
   "execution_count": 45,
   "id": "d5e810e2",
   "metadata": {},
   "outputs": [
    {
     "data": {
      "image/png": "[encoded data removed]",
      "text/latex": [
       "$\\displaystyle \\left[\\begin{matrix}1 & 0 & 0 & 0\\\\0 & 1 & 0 & 0\\\\0 & 0 & 0 & i\\\\0 & 0 & i & 0\\end{matrix}\\right]$"
      ],
      "text/plain": [
       "⎡1  0  0  0⎤\n",
       "⎢          ⎥\n",
       "⎢0  1  0  0⎥\n",
       "⎢          ⎥\n",
       "⎢0  0  0  ⅈ⎥\n",
       "⎢          ⎥\n",
       "⎣0  0  ⅈ  0⎦"
      ]
     },
     "execution_count": 45,
     "metadata": {},
     "output_type": "execute_result"
    }
   ],
   "source": [
    "mysim(PBS_ct)"
   ]
  },
  {
   "cell_type": "code",
   "execution_count": 46,
   "id": "c1b86912",
   "metadata": {},
   "outputs": [
    {
     "data": {
      "image/png": "[encoded data removed]",
      "text/latex": [
       "$\\displaystyle i c_{+} {\\left|011110\\right\\rangle } + c_{-} {\\left|100110\\right\\rangle }$"
      ],
      "text/plain": [
       "ⅈ⋅c₊⋅❘011110⟩ + c₋⋅❘100110⟩"
      ]
     },
     "execution_count": 46,
     "metadata": {},
     "output_type": "execute_result"
    }
   ],
   "source": [
    "ψ1_ABbWZa = psi_ctrl(ψ0_ABbWZa, PBS_ct, 1, 2)\n",
    "mysim(mbk(ψ1_ABbWZa))"
   ]
  },
  {
   "cell_type": "markdown",
   "id": "be08e982",
   "metadata": {},
   "source": [
    "#### HWP"
   ]
  },
  {
   "cell_type": "code",
   "execution_count": 47,
   "id": "37c9996e",
   "metadata": {},
   "outputs": [
    {
     "data": {
      "image/png": "[encoded data removed]",
      "text/latex": [
       "$\\displaystyle \\left[\\begin{matrix}1 & 0 & 0 & 0\\\\0 & 0 & 0 & 1\\\\0 & 0 & 1 & 0\\\\0 & 1 & 0 & 0\\end{matrix}\\right]$"
      ],
      "text/plain": [
       "⎡1  0  0  0⎤\n",
       "⎢          ⎥\n",
       "⎢0  0  0  1⎥\n",
       "⎢          ⎥\n",
       "⎢0  0  1  0⎥\n",
       "⎢          ⎥\n",
       "⎣0  1  0  0⎦"
      ]
     },
     "execution_count": 47,
     "metadata": {},
     "output_type": "execute_result"
    }
   ],
   "source": [
    "simplify(HWP_tc)"
   ]
  },
  {
   "cell_type": "code",
   "execution_count": 48,
   "id": "ab948646",
   "metadata": {},
   "outputs": [
    {
     "data": {
      "image/png": "[encoded data removed]",
      "text/latex": [
       "$\\displaystyle i c_{+} {\\left|001110\\right\\rangle } + c_{-} {\\left|100110\\right\\rangle }$"
      ],
      "text/plain": [
       "ⅈ⋅c₊⋅❘001110⟩ + c₋⋅❘100110⟩"
      ]
     },
     "execution_count": 48,
     "metadata": {},
     "output_type": "execute_result"
    }
   ],
   "source": [
    "ψ2_ABbWZa = psi_ctrl(ψ1_ABbWZa, HWP_tc, 1, 2)\n",
    "mysim(mbk(ψ2_ABbWZa))"
   ]
  },
  {
   "cell_type": "markdown",
   "id": "ba9b0578",
   "metadata": {},
   "source": [
    "#### Excitação dos átomos"
   ]
  },
  {
   "cell_type": "code",
   "execution_count": 49,
   "id": "df6df746",
   "metadata": {},
   "outputs": [
    {
     "data": {
      "image/png": "[encoded data removed]",
      "text/latex": [
       "$\\displaystyle \\left[\\begin{matrix}1 & 0 & 0 & 0\\\\0 & 1 & 0 & 0\\\\0 & 0 & 0 & 1\\\\0 & 0 & 1 & 0\\end{matrix}\\right]$"
      ],
      "text/plain": [
       "⎡1  0  0  0⎤\n",
       "⎢          ⎥\n",
       "⎢0  1  0  0⎥\n",
       "⎢          ⎥\n",
       "⎢0  0  0  1⎥\n",
       "⎢          ⎥\n",
       "⎣0  0  1  0⎦"
      ]
     },
     "execution_count": 49,
     "metadata": {},
     "output_type": "execute_result"
    }
   ],
   "source": [
    "CNOT_ct"
   ]
  },
  {
   "cell_type": "code",
   "execution_count": 50,
   "id": "cd69e872",
   "metadata": {},
   "outputs": [
    {
     "data": {
      "image/png": "[encoded data removed]",
      "text/latex": [
       "$\\displaystyle \\left[\\begin{matrix}0 & 1 & 0 & 0\\\\1 & 0 & 0 & 0\\\\0 & 0 & 1 & 0\\\\0 & 0 & 0 & 1\\end{matrix}\\right]$"
      ],
      "text/plain": [
       "⎡0  1  0  0⎤\n",
       "⎢          ⎥\n",
       "⎢1  0  0  0⎥\n",
       "⎢          ⎥\n",
       "⎢0  0  1  0⎥\n",
       "⎢          ⎥\n",
       "⎣0  0  0  1⎦"
      ]
     },
     "execution_count": 50,
     "metadata": {},
     "output_type": "execute_result"
    }
   ],
   "source": [
    "CNOT0_ct = tp(pauli(1),pauli(1)) * CNOT_ct * tp(pauli(1),pauli(1))\n",
    "CNOT0_ct"
   ]
  },
  {
   "cell_type": "code",
   "execution_count": 60,
   "id": "bf9298c7",
   "metadata": {},
   "outputs": [
    {
     "name": "stdout",
     "output_type": "stream",
     "text": [
      "|00>\n"
     ]
    },
    {
     "data": {
      "image/png": "[encoded data removed]",
      "text/latex": [
       "$\\displaystyle {\\left|01\\right\\rangle }$"
      ],
      "text/plain": [
       "❘01⟩"
      ]
     },
     "metadata": {},
     "output_type": "display_data"
    },
    {
     "name": "stdout",
     "output_type": "stream",
     "text": [
      "|01>\n"
     ]
    },
    {
     "data": {
      "image/png": "[encoded data removed]",
      "text/latex": [
       "$\\displaystyle {\\left|00\\right\\rangle }$"
      ],
      "text/plain": [
       "❘00⟩"
      ]
     },
     "metadata": {},
     "output_type": "display_data"
    },
    {
     "name": "stdout",
     "output_type": "stream",
     "text": [
      "|10>\n"
     ]
    },
    {
     "data": {
      "image/png": "[encoded data removed]",
      "text/latex": [
       "$\\displaystyle {\\left|10\\right\\rangle }$"
      ],
      "text/plain": [
       "❘10⟩"
      ]
     },
     "metadata": {},
     "output_type": "display_data"
    },
    {
     "name": "stdout",
     "output_type": "stream",
     "text": [
      "|11>\n"
     ]
    },
    {
     "data": {
      "image/png": "[encoded data removed]",
      "text/latex": [
       "$\\displaystyle {\\left|11\\right\\rangle }$"
      ],
      "text/plain": [
       "❘11⟩"
      ]
     },
     "metadata": {},
     "output_type": "display_data"
    }
   ],
   "source": [
    "for j,k in product(range(2), repeat=2):\n",
    "    print('|{}{}>'.format(j,k))\n",
    "    display(mysim(mbk(CNOT0_ct * pket(str(j)+str(k)))))"
   ]
  },
  {
   "cell_type": "code",
   "execution_count": 51,
   "id": "198ed33e",
   "metadata": {},
   "outputs": [
    {
     "data": {
      "image/png": "[encoded data removed]",
      "text/latex": [
       "$\\displaystyle i c_{+} {\\left|001110\\right\\rangle } + c_{-} {\\left|100010\\right\\rangle }$"
      ],
      "text/plain": [
       "ⅈ⋅c₊⋅❘001110⟩ + c₋⋅❘100010⟩"
      ]
     },
     "execution_count": 51,
     "metadata": {},
     "output_type": "execute_result"
    }
   ],
   "source": [
    "ψ3_ABbWZa = psi_ctrl(ψ2_ABbWZa, CNOT0_ct, 2, 3)\n",
    "mysim(mbk(ψ3_ABbWZa))"
   ]
  },
  {
   "cell_type": "code",
   "execution_count": 52,
   "id": "5f7f0f29",
   "metadata": {},
   "outputs": [
    {
     "data": {
      "image/png": "[encoded data removed]",
      "text/latex": [
       "$\\displaystyle i c_{+} {\\left|001100\\right\\rangle } + c_{-} {\\left|100010\\right\\rangle }$"
      ],
      "text/plain": [
       "ⅈ⋅c₊⋅❘001100⟩ + c₋⋅❘100010⟩"
      ]
     },
     "execution_count": 52,
     "metadata": {},
     "output_type": "execute_result"
    }
   ],
   "source": [
    "ψ3_ABbWZa = psi_ctrl(ψ3_ABbWZa, CNOT_ct, 2, 4)\n",
    "mysim(mbk(ψ3_ABbWZa))"
   ]
  },
  {
   "cell_type": "markdown",
   "id": "2abedf14",
   "metadata": {},
   "source": [
    "#### Espelhos"
   ]
  },
  {
   "cell_type": "code",
   "execution_count": 53,
   "id": "0de4caab",
   "metadata": {},
   "outputs": [
    {
     "data": {
      "image/png": "[encoded data removed]",
      "text/latex": [
       "$\\displaystyle \\left[\\begin{matrix}0 & i\\\\i & 0\\end{matrix}\\right]$"
      ],
      "text/plain": [
       "⎡0  ⅈ⎤\n",
       "⎢    ⎥\n",
       "⎣ⅈ  0⎦"
      ]
     },
     "execution_count": 53,
     "metadata": {},
     "output_type": "execute_result"
    }
   ],
   "source": [
    "mysim(M)"
   ]
  },
  {
   "cell_type": "code",
   "execution_count": 54,
   "id": "835c6e02",
   "metadata": {},
   "outputs": [
    {
     "data": {
      "image/png": "[encoded data removed]",
      "text/latex": [
       "$\\displaystyle - c_{+} {\\left|000100\\right\\rangle } + i c_{-} {\\left|101010\\right\\rangle }$"
      ],
      "text/plain": [
       "-c₊⋅❘000100⟩ + ⅈ⋅c₋⋅❘101010⟩"
      ]
     },
     "execution_count": 54,
     "metadata": {},
     "output_type": "execute_result"
    }
   ],
   "source": [
    "ψ4_ABbWZa = psi_gate(ψ3_ABbWZa, M, 2)\n",
    "mysim(mbk(ψ4_ABbWZa))"
   ]
  },
  {
   "cell_type": "markdown",
   "id": "313fa8ea",
   "metadata": {},
   "source": [
    "#### BS"
   ]
  },
  {
   "cell_type": "code",
   "execution_count": 55,
   "id": "0675fb03",
   "metadata": {},
   "outputs": [
    {
     "data": {
      "image/png": "[encoded data removed]",
      "text/latex": [
       "$\\displaystyle \\left[\\begin{matrix}\\frac{\\sqrt{2}}{2} & \\frac{\\sqrt{2} i}{2}\\\\\\frac{\\sqrt{2} i}{2} & \\frac{\\sqrt{2}}{2}\\end{matrix}\\right]$"
      ],
      "text/plain": [
       "⎡ √2   √2⋅ⅈ⎤\n",
       "⎢ ──   ────⎥\n",
       "⎢ 2     2  ⎥\n",
       "⎢          ⎥\n",
       "⎢√2⋅ⅈ   √2 ⎥\n",
       "⎢────   ── ⎥\n",
       "⎣ 2     2  ⎦"
      ]
     },
     "execution_count": 55,
     "metadata": {},
     "output_type": "execute_result"
    }
   ],
   "source": [
    "mysim(BS)"
   ]
  },
  {
   "cell_type": "code",
   "execution_count": 56,
   "id": "843b161e",
   "metadata": {},
   "outputs": [
    {
     "data": {
      "image/png": "[encoded data removed]",
      "text/latex": [
       "$\\displaystyle \\frac{\\sqrt{2} \\left(- c_{+} {\\left|000100\\right\\rangle } - i c_{+} {\\left|001100\\right\\rangle } - c_{-} {\\left|100010\\right\\rangle } + i c_{-} {\\left|101010\\right\\rangle }\\right)}{2}$"
      ],
      "text/plain": [
       "√2⋅(-c₊⋅❘000100⟩ - ⅈ⋅c₊⋅❘001100⟩ - c₋⋅❘100010⟩ + ⅈ⋅c₋⋅❘101010⟩)\n",
       "───────────────────────────────────────────────────────────────\n",
       "                               2                               "
      ]
     },
     "execution_count": 56,
     "metadata": {},
     "output_type": "execute_result"
    }
   ],
   "source": [
    "ψ5_ABbWZa = psi_gate(ψ4_ABbWZa, BS, 2)\n",
    "mysim(mbk(ψ5_ABbWZa))"
   ]
  },
  {
   "cell_type": "markdown",
   "id": "78125aa4",
   "metadata": {},
   "source": [
    "### QWP$_{in}$ - $\\Psi_5^{\\prime}$, projetando em $A$ e traçando $B$ e $a$"
   ]
  },
  {
   "cell_type": "markdown",
   "id": "7d7dc4b5",
   "metadata": {},
   "source": [
    "#### QWP e PBS$_A$"
   ]
  },
  {
   "cell_type": "code",
   "execution_count": 57,
   "id": "e83f60ab",
   "metadata": {},
   "outputs": [
    {
     "data": {
      "image/png": "[encoded data removed]",
      "text/latex": [
       "$\\displaystyle \\frac{- c_{+} {\\left|000100\\right\\rangle } - i c_{+} {\\left|001100\\right\\rangle } - i c_{+} {\\left|100100\\right\\rangle } + c_{+} {\\left|101100\\right\\rangle } - c_{-} {\\left|000010\\right\\rangle } + i c_{-} {\\left|001010\\right\\rangle } + i c_{-} {\\left|100010\\right\\rangle } + c_{-} {\\left|101010\\right\\rangle }}{2}$"
      ],
      "text/plain": [
       "-c₊⋅❘000100⟩ - ⅈ⋅c₊⋅❘001100⟩ - ⅈ⋅c₊⋅❘100100⟩ + c₊⋅❘101100⟩ - c₋⋅❘000010⟩ + ⅈ⋅c\n",
       "──────────────────────────────────────────────────────────────────────────────\n",
       "                                                          2                   \n",
       "\n",
       "₋⋅❘001010⟩ + ⅈ⋅c₋⋅❘100010⟩ + c₋⋅❘101010⟩\n",
       "────────────────────────────────────────\n",
       "                                        "
      ]
     },
     "execution_count": 57,
     "metadata": {},
     "output_type": "execute_result"
    }
   ],
   "source": [
    "ψ5p_ABbWZa_in = psi_gate(ψ5_ABbWZa, QWP, 0)\n",
    "mysim(mbk(ψ5p_ABbWZa_in))"
   ]
  },
  {
   "cell_type": "code",
   "execution_count": 58,
   "id": "86be773a",
   "metadata": {},
   "outputs": [
    {
     "data": {
      "image/png": "[encoded data removed]",
      "text/latex": [
       "$\\displaystyle \\frac{- c_{+} {\\left|000100\\right\\rangle } - i c_{+} {\\left|001100\\right\\rangle } + c_{+} {\\left|100101\\right\\rangle } + i c_{+} {\\left|101101\\right\\rangle } - c_{-} {\\left|000010\\right\\rangle } + i c_{-} {\\left|001010\\right\\rangle } - c_{-} {\\left|100011\\right\\rangle } + i c_{-} {\\left|101011\\right\\rangle }}{2}$"
      ],
      "text/plain": [
       "-c₊⋅❘000100⟩ - ⅈ⋅c₊⋅❘001100⟩ + c₊⋅❘100101⟩ + ⅈ⋅c₊⋅❘101101⟩ - c₋⋅❘000010⟩ + ⅈ⋅c\n",
       "──────────────────────────────────────────────────────────────────────────────\n",
       "                                                          2                   \n",
       "\n",
       "₋⋅❘001010⟩ - c₋⋅❘100011⟩ + ⅈ⋅c₋⋅❘101011⟩\n",
       "────────────────────────────────────────\n",
       "                                        "
      ]
     },
     "execution_count": 58,
     "metadata": {},
     "output_type": "execute_result"
    }
   ],
   "source": [
    "ψ5p_ABbWZa_in = psi_ctrl(ψ5p_ABbWZa_in, PBS_ct, 0, 5)\n",
    "mysim(mbk(ψ5p_ABbWZa_in))"
   ]
  },
  {
   "cell_type": "code",
   "execution_count": 59,
   "id": "23906f11",
   "metadata": {},
   "outputs": [
    {
     "data": {
      "image/png": "[encoded data removed]",
      "text/latex": [
       "$\\displaystyle \\frac{- c_{+} {\\left|001000\\right\\rangle } - i c_{+} {\\left|011000\\right\\rangle } + c_{+} {\\left|101001\\right\\rangle } + i c_{+} {\\left|111001\\right\\rangle } - c_{-} {\\left|000100\\right\\rangle } + i c_{-} {\\left|010100\\right\\rangle } - c_{-} {\\left|100101\\right\\rangle } + i c_{-} {\\left|110101\\right\\rangle }}{2}$"
      ],
      "text/plain": [
       "-c₊⋅❘001000⟩ - ⅈ⋅c₊⋅❘011000⟩ + c₊⋅❘101001⟩ + ⅈ⋅c₊⋅❘111001⟩ - c₋⋅❘000100⟩ + ⅈ⋅c\n",
       "──────────────────────────────────────────────────────────────────────────────\n",
       "                                                          2                   \n",
       "\n",
       "₋⋅❘010100⟩ - c₋⋅❘100101⟩ + ⅈ⋅c₋⋅❘110101⟩\n",
       "────────────────────────────────────────\n",
       "                                        "
      ]
     },
     "execution_count": 59,
     "metadata": {},
     "output_type": "execute_result"
    }
   ],
   "source": [
    "ψ5p_AbWZBa_in = troca_qubit(ψ5p_ABbWZa_in, 1,4)\n",
    "mysim(mbk(ψ5p_AbWZBa_in))"
   ]
  },
  {
   "cell_type": "markdown",
   "id": "599317cf",
   "metadata": {},
   "source": [
    "Que fecha com o resutado teórico obtico. Podemos ainda escrever o estado da seguinte forma:\n",
    "\\begin{equation}\n",
    "\\left\\vert \\Psi_{5}^{\\prime}\\right\\rangle =\\frac{1}{2}\\left\\{\n",
    "\\begin{array}\n",
    "[c]{c}\n",
    "-c_{+}\\left\\vert 0\\right\\rangle _{A}\\left\\vert 0\\right\\rangle _{b}\\left\\vert\n",
    "10\\right\\rangle _{WZ}\\left\\vert 00\\right\\rangle _{Ba}\\\\\n",
    "-ic_{+}\\left\\vert 0\\right\\rangle _{A}\\left\\vert 1\\right\\rangle _{b}\\left\\vert\n",
    "10\\right\\rangle _{WZ}\\left\\vert 00\\right\\rangle _{Ba}\\\\\n",
    "+c_{+}\\left\\vert 1\\right\\rangle _{A}\\left\\vert 0\\right\\rangle _{b}\\left\\vert\n",
    "10\\right\\rangle _{WZ}\\left\\vert 01\\right\\rangle _{Ba}\\\\\n",
    "ic_{+}\\left\\vert 1\\right\\rangle _{A}\\left\\vert 1\\right\\rangle _{b}\\left\\vert\n",
    "10\\right\\rangle _{WZ}\\left\\vert 01\\right\\rangle _{Ba}\\\\\n",
    "-c_{-}\\left\\vert 0\\right\\rangle _{A}\\left\\vert 0\\right\\rangle _{b}\\left\\vert\n",
    "01\\right\\rangle _{WZ}\\left\\vert 00\\right\\rangle _{B}\\\\\n",
    "+ic_{-}\\left\\vert 0\\right\\rangle _{A}\\left\\vert 1\\right\\rangle _{b}\\left\\vert\n",
    "01\\right\\rangle _{WZ}\\left\\vert 00\\right\\rangle _{Ba}\\\\\n",
    "-c_{-}\\left\\vert 1\\right\\rangle _{A}\\left\\vert 0\\right\\rangle _{b}\\left\\vert\n",
    "01\\right\\rangle _{WZ}\\left\\vert 01\\right\\rangle _{Ba}\\\\\n",
    "+ic_{-}\\left\\vert 1\\right\\rangle _{A}\\left\\vert 1\\right\\rangle _{b}\\left\\vert\n",
    "01\\right\\rangle _{WZ}\\left\\vert 01\\right\\rangle _{Ba}\n",
    "\\end{array}\n",
    "\\right\\}\n",
    "\\end{equation}\n",
    "ou ainda\n",
    "\\begin{equation}\n",
    "\\left\\vert \\Psi_{5}^{\\prime}\\right\\rangle =-\\frac{1}{2}\\left\\{  \\left\\vert\n",
    "00\\right\\rangle _{Aa}\\left[  \\left\\vert 0\\right\\rangle _{b}\\left\\vert \\Psi\n",
    "_{+}^{c}\\right\\rangle _{WZ}+i\\left\\vert 1\\right\\rangle _{b}\\left\\vert \\Psi\n",
    "_{-}^{c}\\right\\rangle _{WZ}\\right]  +\\left\\vert 11\\right\\rangle _{Aa}\\left[\n",
    "\\left\\vert 0\\right\\rangle _{b}\\left\\vert \\Psi_{-}^{c}\\right\\rangle\n",
    "_{WZ}-i\\left\\vert 1\\right\\rangle _{b}\\left\\vert \\Psi_{+}^{c}\\right\\rangle\n",
    "_{WZ}\\right]  \\right\\}  \\left\\vert 0\\right\\rangle _{B}\n",
    "\\end{equation}\n",
    "onde\n",
    "\\begin{equation}\n",
    "\\left\\vert \\Psi_{\\pm}^{c}\\right\\rangle _{WZ}=c_{-}\\left\\vert 01\\right\\rangle\n",
    "_{WZ}\\pm c_{+}\\left\\vert 10\\right\\rangle _{WZ}.\n",
    "\\end{equation}"
   ]
  },
  {
   "cell_type": "code",
   "execution_count": 60,
   "id": "d4f51919",
   "metadata": {},
   "outputs": [
    {
     "data": {
      "image/png": "[encoded data removed]",
      "text/latex": [
       "$\\displaystyle \\frac{c_{+}^{2} {\\left|0010\\right\\rangle } {\\left\\langle 0010\\right|} - i c_{+}^{2} {\\left|0010\\right\\rangle } {\\left\\langle 0110\\right|} + i c_{+}^{2} {\\left|0110\\right\\rangle } {\\left\\langle 0010\\right|} + c_{+}^{2} {\\left|0110\\right\\rangle } {\\left\\langle 0110\\right|} + c_{+}^{2} {\\left|1010\\right\\rangle } {\\left\\langle 1010\\right|} - i c_{+}^{2} {\\left|1010\\right\\rangle } {\\left\\langle 1110\\right|} + i c_{+}^{2} {\\left|1110\\right\\rangle } {\\left\\langle 1010\\right|} + c_{+}^{2} {\\left|1110\\right\\rangle } {\\left\\langle 1110\\right|} + c_{+} c_{-} {\\left|0001\\right\\rangle } {\\left\\langle 0010\\right|} - i c_{+} c_{-} {\\left|0001\\right\\rangle } {\\left\\langle 0110\\right|} + c_{+} c_{-} {\\left|0010\\right\\rangle } {\\left\\langle 0001\\right|} + i c_{+} c_{-} {\\left|0010\\right\\rangle } {\\left\\langle 0101\\right|} - i c_{+} c_{-} {\\left|0101\\right\\rangle } {\\left\\langle 0010\\right|} - c_{+} c_{-} {\\left|0101\\right\\rangle } {\\left\\langle 0110\\right|} + i c_{+} c_{-} {\\left|0110\\right\\rangle } {\\left\\langle 0001\\right|} - c_{+} c_{-} {\\left|0110\\right\\rangle } {\\left\\langle 0101\\right|} - c_{+} c_{-} {\\left|1001\\right\\rangle } {\\left\\langle 1010\\right|} + i c_{+} c_{-} {\\left|1001\\right\\rangle } {\\left\\langle 1110\\right|} - c_{+} c_{-} {\\left|1010\\right\\rangle } {\\left\\langle 1001\\right|} - i c_{+} c_{-} {\\left|1010\\right\\rangle } {\\left\\langle 1101\\right|} + i c_{+} c_{-} {\\left|1101\\right\\rangle } {\\left\\langle 1010\\right|} + c_{+} c_{-} {\\left|1101\\right\\rangle } {\\left\\langle 1110\\right|} - i c_{+} c_{-} {\\left|1110\\right\\rangle } {\\left\\langle 1001\\right|} + c_{+} c_{-} {\\left|1110\\right\\rangle } {\\left\\langle 1101\\right|} + c_{-}^{2} {\\left|0001\\right\\rangle } {\\left\\langle 0001\\right|} + i c_{-}^{2} {\\left|0001\\right\\rangle } {\\left\\langle 0101\\right|} - i c_{-}^{2} {\\left|0101\\right\\rangle } {\\left\\langle 0001\\right|} + c_{-}^{2} {\\left|0101\\right\\rangle } {\\left\\langle 0101\\right|} + c_{-}^{2} {\\left|1001\\right\\rangle } {\\left\\langle 1001\\right|} + i c_{-}^{2} {\\left|1001\\right\\rangle } {\\left\\langle 1101\\right|} - i c_{-}^{2} {\\left|1101\\right\\rangle } {\\left\\langle 1001\\right|} + c_{-}^{2} {\\left|1101\\right\\rangle } {\\left\\langle 1101\\right|}}{4}$"
      ],
      "text/plain": [
       "  2                     2                     2                   2           \n",
       "c₊ ⋅❘0010⟩⋅⟨0010❘ - ⅈ⋅c₊ ⋅❘0010⟩⋅⟨0110❘ + ⅈ⋅c₊ ⋅❘0110⟩⋅⟨0010❘ + c₊ ⋅❘0110⟩⋅⟨01\n",
       "──────────────────────────────────────────────────────────────────────────────\n",
       "                                                                              \n",
       "\n",
       "        2                     2                     2                   2     \n",
       "10❘ + c₊ ⋅❘1010⟩⋅⟨1010❘ - ⅈ⋅c₊ ⋅❘1010⟩⋅⟨1110❘ + ⅈ⋅c₊ ⋅❘1110⟩⋅⟨1010❘ + c₊ ⋅❘111\n",
       "──────────────────────────────────────────────────────────────────────────────\n",
       "                                                                              \n",
       "\n",
       "                                                                              \n",
       "0⟩⋅⟨1110❘ + c₊⋅c₋⋅❘0001⟩⋅⟨0010❘ - ⅈ⋅c₊⋅c₋⋅❘0001⟩⋅⟨0110❘ + c₊⋅c₋⋅❘0010⟩⋅⟨0001❘ \n",
       "──────────────────────────────────────────────────────────────────────────────\n",
       "                                                                              \n",
       "\n",
       "                                                                              \n",
       "+ ⅈ⋅c₊⋅c₋⋅❘0010⟩⋅⟨0101❘ - ⅈ⋅c₊⋅c₋⋅❘0101⟩⋅⟨0010❘ - c₊⋅c₋⋅❘0101⟩⋅⟨0110❘ + ⅈ⋅c₊⋅c\n",
       "──────────────────────────────────────────────────────────────────────────────\n",
       "                                                                              \n",
       "\n",
       "                                                                              \n",
       "₋⋅❘0110⟩⋅⟨0001❘ - c₊⋅c₋⋅❘0110⟩⋅⟨0101❘ - c₊⋅c₋⋅❘1001⟩⋅⟨1010❘ + ⅈ⋅c₊⋅c₋⋅❘1001⟩⋅⟨\n",
       "──────────────────────────────────────────────────────────────────────────────\n",
       "                                      4                                       \n",
       "\n",
       "                                                                              \n",
       "1110❘ - c₊⋅c₋⋅❘1010⟩⋅⟨1001❘ - ⅈ⋅c₊⋅c₋⋅❘1010⟩⋅⟨1101❘ + ⅈ⋅c₊⋅c₋⋅❘1101⟩⋅⟨1010❘ + \n",
       "──────────────────────────────────────────────────────────────────────────────\n",
       "                                                                              \n",
       "\n",
       "                                                                      2       \n",
       "c₊⋅c₋⋅❘1101⟩⋅⟨1110❘ - ⅈ⋅c₊⋅c₋⋅❘1110⟩⋅⟨1001❘ + c₊⋅c₋⋅❘1110⟩⋅⟨1101❘ + c₋ ⋅❘0001⟩\n",
       "──────────────────────────────────────────────────────────────────────────────\n",
       "                                                                              \n",
       "\n",
       "              2                     2                   2                   2 \n",
       "⋅⟨0001❘ + ⅈ⋅c₋ ⋅❘0001⟩⋅⟨0101❘ - ⅈ⋅c₋ ⋅❘0101⟩⋅⟨0001❘ + c₋ ⋅❘0101⟩⋅⟨0101❘ + c₋ ⋅\n",
       "──────────────────────────────────────────────────────────────────────────────\n",
       "                                                                              \n",
       "\n",
       "                    2                     2                   2              \n",
       "❘1001⟩⋅⟨1001❘ + ⅈ⋅c₋ ⋅❘1001⟩⋅⟨1101❘ - ⅈ⋅c₋ ⋅❘1101⟩⋅⟨1001❘ + c₋ ⋅❘1101⟩⋅⟨1101❘\n",
       "─────────────────────────────────────────────────────────────────────────────\n",
       "                                                                             "
      ]
     },
     "execution_count": 60,
     "metadata": {},
     "output_type": "execute_result"
    }
   ],
   "source": [
    "ρ5p_AbWZ_trBa_in = ptraceB(16, 4, proj(ψ5p_AbWZBa_in))\n",
    "mysim(mbk(ρ5p_AbWZ_trBa_in))"
   ]
  },
  {
   "cell_type": "code",
   "execution_count": 79,
   "id": "abacba78",
   "metadata": {},
   "outputs": [
    {
     "data": {
      "image/png": "[encoded data removed]",
      "text/latex": [
       "$\\displaystyle \\left[\\begin{array}{cccccccccccccccc}0 & 0 & 0 & 0 & 0 & 0 & 0 & 0 & 0 & 0 & 0 & 0 & 0 & 0 & 0 & 0\\\\0 & \\frac{c_{-}^{2}}{4} & \\frac{c_{+} c_{-}}{4} & 0 & 0 & \\frac{i c_{-}^{2}}{4} & - \\frac{i c_{+} c_{-}}{4} & 0 & 0 & 0 & 0 & 0 & 0 & 0 & 0 & 0\\\\0 & \\frac{c_{+} c_{-}}{4} & \\frac{c_{+}^{2}}{4} & 0 & 0 & \\frac{i c_{+} c_{-}}{4} & - \\frac{i c_{+}^{2}}{4} & 0 & 0 & 0 & 0 & 0 & 0 & 0 & 0 & 0\\\\0 & 0 & 0 & 0 & 0 & 0 & 0 & 0 & 0 & 0 & 0 & 0 & 0 & 0 & 0 & 0\\\\0 & 0 & 0 & 0 & 0 & 0 & 0 & 0 & 0 & 0 & 0 & 0 & 0 & 0 & 0 & 0\\\\0 & - \\frac{i c_{-}^{2}}{4} & - \\frac{i c_{+} c_{-}}{4} & 0 & 0 & \\frac{c_{-}^{2}}{4} & - \\frac{c_{+} c_{-}}{4} & 0 & 0 & 0 & 0 & 0 & 0 & 0 & 0 & 0\\\\0 & \\frac{i c_{+} c_{-}}{4} & \\frac{i c_{+}^{2}}{4} & 0 & 0 & - \\frac{c_{+} c_{-}}{4} & \\frac{c_{+}^{2}}{4} & 0 & 0 & 0 & 0 & 0 & 0 & 0 & 0 & 0\\\\0 & 0 & 0 & 0 & 0 & 0 & 0 & 0 & 0 & 0 & 0 & 0 & 0 & 0 & 0 & 0\\\\0 & 0 & 0 & 0 & 0 & 0 & 0 & 0 & 0 & 0 & 0 & 0 & 0 & 0 & 0 & 0\\\\0 & 0 & 0 & 0 & 0 & 0 & 0 & 0 & 0 & \\frac{c_{-}^{2}}{4} & - \\frac{c_{+} c_{-}}{4} & 0 & 0 & \\frac{i c_{-}^{2}}{4} & \\frac{i c_{+} c_{-}}{4} & 0\\\\0 & 0 & 0 & 0 & 0 & 0 & 0 & 0 & 0 & - \\frac{c_{+} c_{-}}{4} & \\frac{c_{+}^{2}}{4} & 0 & 0 & - \\frac{i c_{+} c_{-}}{4} & - \\frac{i c_{+}^{2}}{4} & 0\\\\0 & 0 & 0 & 0 & 0 & 0 & 0 & 0 & 0 & 0 & 0 & 0 & 0 & 0 & 0 & 0\\\\0 & 0 & 0 & 0 & 0 & 0 & 0 & 0 & 0 & 0 & 0 & 0 & 0 & 0 & 0 & 0\\\\0 & 0 & 0 & 0 & 0 & 0 & 0 & 0 & 0 & - \\frac{i c_{-}^{2}}{4} & \\frac{i c_{+} c_{-}}{4} & 0 & 0 & \\frac{c_{-}^{2}}{4} & \\frac{c_{+} c_{-}}{4} & 0\\\\0 & 0 & 0 & 0 & 0 & 0 & 0 & 0 & 0 & - \\frac{i c_{+} c_{-}}{4} & \\frac{i c_{+}^{2}}{4} & 0 & 0 & \\frac{c_{+} c_{-}}{4} & \\frac{c_{+}^{2}}{4} & 0\\\\0 & 0 & 0 & 0 & 0 & 0 & 0 & 0 & 0 & 0 & 0 & 0 & 0 & 0 & 0 & 0\\end{array}\\right]$"
      ],
      "text/plain": [
       "⎡0     0         0      0  0     0         0      0  0      0         0     0 \n",
       "⎢                                                                             \n",
       "⎢       2                          2                                          \n",
       "⎢     c₋       c₊⋅c₋           ⅈ⋅c₋    -ⅈ⋅c₊⋅c₋                               \n",
       "⎢0    ───      ─────    0  0   ─────   ─────────  0  0      0         0     0 \n",
       "⎢      4         4               4         4                                  \n",
       "⎢                                                                             \n",
       "⎢                 2                          2                                \n",
       "⎢    c₊⋅c₋      c₊            ⅈ⋅c₊⋅c₋   -ⅈ⋅c₊                                 \n",
       "⎢0   ─────      ───     0  0  ───────   ───────   0  0      0         0     0 \n",
       "⎢      4         4               4         4                                  \n",
       "⎢                                                                             \n",
       "⎢0     0         0      0  0     0         0      0  0      0         0     0 \n",
       "⎢                                                                             \n",
       "⎢0     0         0      0  0     0         0      0  0      0         0     0 \n",
       "⎢                                                                             \n",
       "⎢        2                        2                                           \n",
       "⎢   -ⅈ⋅c₋    -ⅈ⋅c₊⋅c₋           c₋      -c₊⋅c₋                                \n",
       "⎢0  ───────  ─────────  0  0    ───     ───────   0  0      0         0     0 \n",
       "⎢      4         4               4         4                                  \n",
       "⎢                                                                             \n",
       "⎢                  2                        2                                 \n",
       "⎢   ⅈ⋅c₊⋅c₋    ⅈ⋅c₊           -c₊⋅c₋      c₊                                  \n",
       "⎢0  ───────    ─────    0  0  ───────     ───     0  0      0         0     0 \n",
       "⎢      4         4               4         4                                  \n",
       "⎢                                                                             \n",
       "⎢0     0         0      0  0     0         0      0  0      0         0     0 \n",
       "⎢                                                                             \n",
       "⎢0     0         0      0  0     0         0      0  0      0         0     0 \n",
       "⎢                                                                             \n",
       "⎢                                                            2                \n",
       "⎢                                                          c₋      -c₊⋅c₋     \n",
       "⎢0     0         0      0  0     0         0      0  0     ───     ───────  0 \n",
       "⎢                                                           4         4       \n",
       "⎢                                                                             \n",
       "⎢                                                                      2      \n",
       "⎢                                                        -c₊⋅c₋      c₊       \n",
       "⎢0     0         0      0  0     0         0      0  0   ───────     ───    0 \n",
       "⎢                                                           4         4       \n",
       "⎢                                                                             \n",
       "⎢0     0         0      0  0     0         0      0  0      0         0     0 \n",
       "⎢                                                                             \n",
       "⎢0     0         0      0  0     0         0      0  0      0         0     0 \n",
       "⎢                                                                             \n",
       "⎢                                                             2               \n",
       "⎢                                                        -ⅈ⋅c₋     ⅈ⋅c₊⋅c₋    \n",
       "⎢0     0         0      0  0     0         0      0  0   ───────   ───────  0 \n",
       "⎢                                                           4         4       \n",
       "⎢                                                                             \n",
       "⎢                                                                       2     \n",
       "⎢                                                       -ⅈ⋅c₊⋅c₋    ⅈ⋅c₊      \n",
       "⎢0     0         0      0  0     0         0      0  0  ─────────   ─────   0 \n",
       "⎢                                                           4         4       \n",
       "⎢                                                                             \n",
       "⎣0     0         0      0  0     0         0      0  0      0         0     0 \n",
       "\n",
       " 0      0         0     0⎤\n",
       "                         ⎥\n",
       "                         ⎥\n",
       "                         ⎥\n",
       " 0      0         0     0⎥\n",
       "                         ⎥\n",
       "                         ⎥\n",
       "                         ⎥\n",
       "                         ⎥\n",
       " 0      0         0     0⎥\n",
       "                         ⎥\n",
       "                         ⎥\n",
       " 0      0         0     0⎥\n",
       "                         ⎥\n",
       " 0      0         0     0⎥\n",
       "                         ⎥\n",
       "                         ⎥\n",
       "                         ⎥\n",
       " 0      0         0     0⎥\n",
       "                         ⎥\n",
       "                         ⎥\n",
       "                         ⎥\n",
       "                         ⎥\n",
       " 0      0         0     0⎥\n",
       "                         ⎥\n",
       "                         ⎥\n",
       " 0      0         0     0⎥\n",
       "                         ⎥\n",
       " 0      0         0     0⎥\n",
       "                         ⎥\n",
       "          2              ⎥\n",
       "      ⅈ⋅c₋     ⅈ⋅c₊⋅c₋   ⎥\n",
       " 0    ─────    ───────  0⎥\n",
       "        4         4      ⎥\n",
       "                         ⎥\n",
       "                    2    ⎥\n",
       "    -ⅈ⋅c₊⋅c₋   -ⅈ⋅c₊     ⎥\n",
       " 0  ─────────  ───────  0⎥\n",
       "        4         4      ⎥\n",
       "                         ⎥\n",
       " 0      0         0     0⎥\n",
       "                         ⎥\n",
       " 0      0         0     0⎥\n",
       "                         ⎥\n",
       "         2               ⎥\n",
       "       c₋       c₊⋅c₋    ⎥\n",
       " 0     ───      ─────   0⎥\n",
       "        4         4      ⎥\n",
       "                         ⎥\n",
       "                   2     ⎥\n",
       "      c₊⋅c₋      c₊      ⎥\n",
       " 0    ─────      ───    0⎥\n",
       "        4         4      ⎥\n",
       "                         ⎥\n",
       " 0      0         0     0⎦"
      ]
     },
     "execution_count": 79,
     "metadata": {},
     "output_type": "execute_result"
    }
   ],
   "source": [
    "mysim(ρ5p_AbWZ_trBa_in)"
   ]
  },
  {
   "cell_type": "code",
   "execution_count": 80,
   "id": "f2a69b68",
   "metadata": {},
   "outputs": [
    {
     "data": {
      "image/png": "[encoded data removed]",
      "text/latex": [
       "$\\displaystyle \\left[\\begin{array}{cccccccccccccccc}0 & 0 & 0 & 0 & 0 & 0 & 0 & 0 & 0 & 0 & 0 & 0 & 0 & 0 & 0 & 0\\\\0 & \\frac{1}{8} & \\frac{1}{8} & 0 & 0 & \\frac{i}{8} & - \\frac{i}{8} & 0 & 0 & 0 & 0 & 0 & 0 & 0 & 0 & 0\\\\0 & \\frac{1}{8} & \\frac{1}{8} & 0 & 0 & \\frac{i}{8} & - \\frac{i}{8} & 0 & 0 & 0 & 0 & 0 & 0 & 0 & 0 & 0\\\\0 & 0 & 0 & 0 & 0 & 0 & 0 & 0 & 0 & 0 & 0 & 0 & 0 & 0 & 0 & 0\\\\0 & 0 & 0 & 0 & 0 & 0 & 0 & 0 & 0 & 0 & 0 & 0 & 0 & 0 & 0 & 0\\\\0 & - \\frac{i}{8} & - \\frac{i}{8} & 0 & 0 & \\frac{1}{8} & - \\frac{1}{8} & 0 & 0 & 0 & 0 & 0 & 0 & 0 & 0 & 0\\\\0 & \\frac{i}{8} & \\frac{i}{8} & 0 & 0 & - \\frac{1}{8} & \\frac{1}{8} & 0 & 0 & 0 & 0 & 0 & 0 & 0 & 0 & 0\\\\0 & 0 & 0 & 0 & 0 & 0 & 0 & 0 & 0 & 0 & 0 & 0 & 0 & 0 & 0 & 0\\\\0 & 0 & 0 & 0 & 0 & 0 & 0 & 0 & 0 & 0 & 0 & 0 & 0 & 0 & 0 & 0\\\\0 & 0 & 0 & 0 & 0 & 0 & 0 & 0 & 0 & \\frac{1}{8} & - \\frac{1}{8} & 0 & 0 & \\frac{i}{8} & \\frac{i}{8} & 0\\\\0 & 0 & 0 & 0 & 0 & 0 & 0 & 0 & 0 & - \\frac{1}{8} & \\frac{1}{8} & 0 & 0 & - \\frac{i}{8} & - \\frac{i}{8} & 0\\\\0 & 0 & 0 & 0 & 0 & 0 & 0 & 0 & 0 & 0 & 0 & 0 & 0 & 0 & 0 & 0\\\\0 & 0 & 0 & 0 & 0 & 0 & 0 & 0 & 0 & 0 & 0 & 0 & 0 & 0 & 0 & 0\\\\0 & 0 & 0 & 0 & 0 & 0 & 0 & 0 & 0 & - \\frac{i}{8} & \\frac{i}{8} & 0 & 0 & \\frac{1}{8} & \\frac{1}{8} & 0\\\\0 & 0 & 0 & 0 & 0 & 0 & 0 & 0 & 0 & - \\frac{i}{8} & \\frac{i}{8} & 0 & 0 & \\frac{1}{8} & \\frac{1}{8} & 0\\\\0 & 0 & 0 & 0 & 0 & 0 & 0 & 0 & 0 & 0 & 0 & 0 & 0 & 0 & 0 & 0\\end{array}\\right]$"
      ],
      "text/plain": [
       "⎡0   0    0   0  0   0     0    0  0   0     0    0  0   0    0   0⎤\n",
       "⎢                                                                  ⎥\n",
       "⎢                    ⅈ    -ⅈ                                       ⎥\n",
       "⎢0  1/8  1/8  0  0   ─    ───   0  0   0     0    0  0   0    0   0⎥\n",
       "⎢                    8     8                                       ⎥\n",
       "⎢                                                                  ⎥\n",
       "⎢                    ⅈ    -ⅈ                                       ⎥\n",
       "⎢0  1/8  1/8  0  0   ─    ───   0  0   0     0    0  0   0    0   0⎥\n",
       "⎢                    8     8                                       ⎥\n",
       "⎢                                                                  ⎥\n",
       "⎢0   0    0   0  0   0     0    0  0   0     0    0  0   0    0   0⎥\n",
       "⎢                                                                  ⎥\n",
       "⎢0   0    0   0  0   0     0    0  0   0     0    0  0   0    0   0⎥\n",
       "⎢                                                                  ⎥\n",
       "⎢   -ⅈ   -ⅈ                                                        ⎥\n",
       "⎢0  ───  ───  0  0  1/8   -1/8  0  0   0     0    0  0   0    0   0⎥\n",
       "⎢    8    8                                                        ⎥\n",
       "⎢                                                                  ⎥\n",
       "⎢    ⅈ    ⅈ                                                        ⎥\n",
       "⎢0   ─    ─   0  0  -1/8  1/8   0  0   0     0    0  0   0    0   0⎥\n",
       "⎢    8    8                                                        ⎥\n",
       "⎢                                                                  ⎥\n",
       "⎢0   0    0   0  0   0     0    0  0   0     0    0  0   0    0   0⎥\n",
       "⎢                                                                  ⎥\n",
       "⎢0   0    0   0  0   0     0    0  0   0     0    0  0   0    0   0⎥\n",
       "⎢                                                                  ⎥\n",
       "⎢                                                        ⅈ    ⅈ    ⎥\n",
       "⎢0   0    0   0  0   0     0    0  0  1/8   -1/8  0  0   ─    ─   0⎥\n",
       "⎢                                                        8    8    ⎥\n",
       "⎢                                                                  ⎥\n",
       "⎢                                                       -ⅈ   -ⅈ    ⎥\n",
       "⎢0   0    0   0  0   0     0    0  0  -1/8  1/8   0  0  ───  ───  0⎥\n",
       "⎢                                                        8    8    ⎥\n",
       "⎢                                                                  ⎥\n",
       "⎢0   0    0   0  0   0     0    0  0   0     0    0  0   0    0   0⎥\n",
       "⎢                                                                  ⎥\n",
       "⎢0   0    0   0  0   0     0    0  0   0     0    0  0   0    0   0⎥\n",
       "⎢                                                                  ⎥\n",
       "⎢                                     -ⅈ     ⅈ                     ⎥\n",
       "⎢0   0    0   0  0   0     0    0  0  ───    ─    0  0  1/8  1/8  0⎥\n",
       "⎢                                      8     8                     ⎥\n",
       "⎢                                                                  ⎥\n",
       "⎢                                     -ⅈ     ⅈ                     ⎥\n",
       "⎢0   0    0   0  0   0     0    0  0  ───    ─    0  0  1/8  1/8  0⎥\n",
       "⎢                                      8     8                     ⎥\n",
       "⎢                                                                  ⎥\n",
       "⎣0   0    0   0  0   0     0    0  0   0     0    0  0   0    0   0⎦"
      ]
     },
     "execution_count": 80,
     "metadata": {},
     "output_type": "execute_result"
    }
   ],
   "source": [
    "mysim(ρ5p_AbWZ_trBa_in).subs(cp, 1/sqrt(2)).subs(cm, 1/sqrt(2))"
   ]
  },
  {
   "cell_type": "code",
   "execution_count": 61,
   "id": "b14af835",
   "metadata": {},
   "outputs": [
    {
     "data": {
      "image/png": "[encoded data removed]",
      "text/latex": [
       "$\\displaystyle c_{+}^{2} {\\left|10\\right\\rangle } {\\left\\langle 10\\right|} + c_{+} c_{-} {\\left|01\\right\\rangle } {\\left\\langle 10\\right|} + c_{+} c_{-} {\\left|10\\right\\rangle } {\\left\\langle 01\\right|} + c_{-}^{2} {\\left|01\\right\\rangle } {\\left\\langle 01\\right|}$"
      ],
      "text/plain": [
       "  2                                                   2          \n",
       "c₊ ⋅❘10⟩⋅⟨10❘ + c₊⋅c₋⋅❘01⟩⋅⟨10❘ + c₊⋅c₋⋅❘10⟩⋅⟨01❘ + c₋ ⋅❘01⟩⋅⟨01❘"
      ]
     },
     "execution_count": 61,
     "metadata": {},
     "output_type": "execute_result"
    }
   ],
   "source": [
    "ρ5p_00WZ_trBa_in = projM(4, '00', ρ5p_AbWZ_trBa_in)\n",
    "mysim(mbk(ρ5p_00WZ_trBa_in)).subs(cp**2+cm**2, 1)"
   ]
  },
  {
   "cell_type": "code",
   "execution_count": 62,
   "id": "4e68d812",
   "metadata": {},
   "outputs": [
    {
     "data": {
      "image/png": "[encoded data removed]",
      "text/latex": [
       "$\\displaystyle 0$"
      ],
      "text/plain": [
       "0"
      ]
     },
     "execution_count": 62,
     "metadata": {},
     "output_type": "execute_result"
    }
   ],
   "source": [
    "von_neumann_sympy(ρ5p_00WZ_trBa_in)"
   ]
  },
  {
   "cell_type": "code",
   "execution_count": 63,
   "id": "ce6ea53f",
   "metadata": {},
   "outputs": [
    {
     "data": {
      "image/png": "[encoded data removed]",
      "text/latex": [
       "$\\displaystyle c_{+}^{2} {\\left|10\\right\\rangle } {\\left\\langle 10\\right|} + c_{-}^{2} {\\left|01\\right\\rangle } {\\left\\langle 01\\right|}$"
      ],
      "text/plain": [
       "  2               2          \n",
       "c₊ ⋅❘10⟩⋅⟨10❘ + c₋ ⋅❘01⟩⋅⟨01❘"
      ]
     },
     "execution_count": 63,
     "metadata": {},
     "output_type": "execute_result"
    }
   ],
   "source": [
    "ρ5p_00WZ_trBa_deph_in = dephasing_map_2qubits(ρ5p_00WZ_trBa_in)\n",
    "mysim(mbk(ρ5p_00WZ_trBa_deph_in)).subs(cp**2+cm**2, 1)"
   ]
  },
  {
   "cell_type": "code",
   "execution_count": 64,
   "id": "165c9e4c",
   "metadata": {},
   "outputs": [
    {
     "data": {
      "image/png": "[encoded data removed]",
      "text/latex": [
       "$\\displaystyle - c_{+}^{2} \\log{\\left(c_{+}^{2} \\right)} - c_{-}^{2} \\log{\\left(c_{-}^{2} \\right)}$"
      ],
      "text/plain": [
       "    2    ⎛  2⎞     2    ⎛  2⎞\n",
       "- c₊ ⋅log⎝c₊ ⎠ - c₋ ⋅log⎝c₋ ⎠"
      ]
     },
     "execution_count": 64,
     "metadata": {},
     "output_type": "execute_result"
    }
   ],
   "source": [
    "mysim(von_neumann_sympy(ρ5p_00WZ_trBa_deph_in).subs(cp**2+cm**2, 1))"
   ]
  },
  {
   "cell_type": "code",
   "execution_count": 65,
   "id": "2dcf55c3",
   "metadata": {},
   "outputs": [
    {
     "data": {
      "image/png": "[encoded data removed]",
      "text/latex": [
       "$\\displaystyle - c_{+}^{2} \\log{\\left(c_{+}^{2} \\right)} - c_{-}^{2} \\log{\\left(c_{-}^{2} \\right)}$"
      ],
      "text/plain": [
       "    2    ⎛  2⎞     2    ⎛  2⎞\n",
       "- c₊ ⋅log⎝c₊ ⎠ - c₋ ⋅log⎝c₋ ⎠"
      ]
     },
     "execution_count": 65,
     "metadata": {},
     "output_type": "execute_result"
    }
   ],
   "source": [
    "Irr_WZ_in = von_neumann_sympy(ρ5p_00WZ_trBa_deph_in).subs(cp**2+cm**2, 1) - von_neumann_sympy(ρ5p_00WZ_trBa_in)\n",
    "mysim(Irr_WZ_in)"
   ]
  },
  {
   "cell_type": "code",
   "execution_count": 66,
   "id": "e4ab628a",
   "metadata": {},
   "outputs": [
    {
     "data": {
      "image/png": "[encoded data removed]",
      "text/plain": [
       "<Figure size 400x300 with 1 Axes>"
      ]
     },
     "metadata": {},
     "output_type": "display_data"
    }
   ],
   "source": [
    "import numpy as np\n",
    "import matplotlib.pyplot as plt\n",
    "\n",
    "def func(theta):\n",
    "    c_plus = np.cos(theta/2)\n",
    "    c_minus = np.sqrt(1 - c_plus**2)\n",
    "    return -1.0 * c_plus**2 * np.log2(1.0 * c_plus**2) - c_minus**2 * np.log2(c_minus**2)\n",
    "\n",
    "theta_vals = np.linspace(0.01, np.pi, 1000)\n",
    "y_vals = func(theta_vals)\n",
    "\n",
    "plt.figure(figsize = (4,3), constrained_layout = True)\n",
    "plt.style.use(['science', 'notebook', 'grid'])\n",
    "plt.plot(theta_vals, y_vals)\n",
    "plt.xlabel(r'$\\theta$')\n",
    "plt.ylabel('Irrealidade')\n",
    "plt.xticks(fontsize=10)\n",
    "plt.yticks(fontsize=10)\n",
    "#plt.title('Gráfico da função')\n",
    "plt.show()\n"
   ]
  },
  {
   "cell_type": "markdown",
   "id": "bfd128d3",
   "metadata": {},
   "source": [
    "### QWP$_{out}$ - $\\Psi_2$, projetando em $A$ e traçando $B$ e $a$"
   ]
  },
  {
   "cell_type": "markdown",
   "id": "e5f32f95",
   "metadata": {},
   "source": [
    "#### PBS$_A$"
   ]
  },
  {
   "cell_type": "code",
   "execution_count": 67,
   "id": "099b003f",
   "metadata": {},
   "outputs": [
    {
     "data": {
      "image/png": "[encoded data removed]",
      "text/latex": [
       "$\\displaystyle \\frac{\\sqrt{2} \\left(- c_{+} {\\left|000100\\right\\rangle } - i c_{+} {\\left|001100\\right\\rangle } - c_{-} {\\left|100010\\right\\rangle } + i c_{-} {\\left|101010\\right\\rangle }\\right)}{2}$"
      ],
      "text/plain": [
       "√2⋅(-c₊⋅❘000100⟩ - ⅈ⋅c₊⋅❘001100⟩ - c₋⋅❘100010⟩ + ⅈ⋅c₋⋅❘101010⟩)\n",
       "───────────────────────────────────────────────────────────────\n",
       "                               2                               "
      ]
     },
     "execution_count": 67,
     "metadata": {},
     "output_type": "execute_result"
    }
   ],
   "source": [
    "mysim(mbk(ψ5_ABbWZa))"
   ]
  },
  {
   "cell_type": "code",
   "execution_count": 68,
   "id": "128da69c",
   "metadata": {},
   "outputs": [
    {
     "data": {
      "image/png": "[encoded data removed]",
      "text/latex": [
       "$\\displaystyle \\frac{\\sqrt{2} \\left(- c_{+} {\\left|000100\\right\\rangle } - i c_{+} {\\left|001100\\right\\rangle } - i c_{-} {\\left|100011\\right\\rangle } - c_{-} {\\left|101011\\right\\rangle }\\right)}{2}$"
      ],
      "text/plain": [
       "√2⋅(-c₊⋅❘000100⟩ - ⅈ⋅c₊⋅❘001100⟩ - ⅈ⋅c₋⋅❘100011⟩ - c₋⋅❘101011⟩)\n",
       "───────────────────────────────────────────────────────────────\n",
       "                               2                               "
      ]
     },
     "execution_count": 68,
     "metadata": {},
     "output_type": "execute_result"
    }
   ],
   "source": [
    "ψ5p_ABbWZa_out = psi_ctrl(ψ5_ABbWZa, PBS_ct, 0, 5)\n",
    "mysim(mbk(ψ5p_ABbWZa_out))"
   ]
  },
  {
   "cell_type": "code",
   "execution_count": 69,
   "id": "ab48aead",
   "metadata": {},
   "outputs": [
    {
     "data": {
      "image/png": "[encoded data removed]",
      "text/latex": [
       "$\\displaystyle \\frac{\\sqrt{2} \\left(- c_{+} {\\left|001000\\right\\rangle } - i c_{+} {\\left|011000\\right\\rangle } - i c_{-} {\\left|100101\\right\\rangle } - c_{-} {\\left|110101\\right\\rangle }\\right)}{2}$"
      ],
      "text/plain": [
       "√2⋅(-c₊⋅❘001000⟩ - ⅈ⋅c₊⋅❘011000⟩ - ⅈ⋅c₋⋅❘100101⟩ - c₋⋅❘110101⟩)\n",
       "───────────────────────────────────────────────────────────────\n",
       "                               2                               "
      ]
     },
     "execution_count": 69,
     "metadata": {},
     "output_type": "execute_result"
    }
   ],
   "source": [
    "ψ5p_AbWZBa_out = troca_qubit(ψ5p_ABbWZa_out, 1, 4)\n",
    "mysim(mbk(ψ5p_AbWZBa_out))"
   ]
  },
  {
   "cell_type": "markdown",
   "id": "f0cdd67f",
   "metadata": {},
   "source": [
    "Que fecha com o resutado teórico obtico. Podemos ainda escrever o estado da seguinte forma:\n",
    "\\begin{align*}\n",
    "\\left\\vert \\Psi_{5}^{\\prime\\prime}\\right\\rangle  &  =-\\frac{1}{\\sqrt{2}\n",
    "}U_{PBS_{A}}\\left[  c_{+}\\left\\vert 00\\right\\rangle _{Aa}\\left(  \\left\\vert\n",
    "0\\right\\rangle _{b}+i\\left\\vert 1\\right\\rangle _{b}\\right)  \\left\\vert\n",
    "10\\right\\rangle _{WZ}-ic_{-}\\left\\vert 10\\right\\rangle _{Aa}\\left(\n",
    "i\\left\\vert 0\\right\\rangle _{b}+\\left\\vert 1\\right\\rangle _{b}\\right)\n",
    "\\left\\vert 01\\right\\rangle _{WZ}\\right]  \\left\\vert 0\\right\\rangle _{B}\\\\\n",
    "&  =-\\frac{1}{\\sqrt{2}}\\left[  c_{+}\\left\\vert 00\\right\\rangle _{Aa}\\left(\n",
    "\\left\\vert 0\\right\\rangle _{b}+i\\left\\vert 1\\right\\rangle _{b}\\right)\n",
    "\\left\\vert 10\\right\\rangle _{WZ}+c_{-}\\left\\vert 11\\right\\rangle _{Aa}\\left(\n",
    "i\\left\\vert 0\\right\\rangle _{b}+\\left\\vert 1\\right\\rangle _{b}\\right)\n",
    "\\left\\vert 01\\right\\rangle _{WZ}\\right]  \\left\\vert 0\\right\\rangle _{B}\\\\\n",
    "\\left\\vert \\Psi_{5}^{\\prime\\prime}\\right\\rangle _{AabWZB} &  =-\\frac{1}\n",
    "{\\sqrt{2}}\\left(\n",
    "\\begin{array}\n",
    "[c]{c}\n",
    "c_{+}\\left\\vert 0\\right\\rangle _{A}\\left\\vert 0\\right\\rangle _{b}\\left\\vert\n",
    "10\\right\\rangle _{WZ}\\left\\vert 00\\right\\rangle _{Ba}\\\\\n",
    "+ic_{+}\\left\\vert 0\\right\\rangle _{A}\\left\\vert 1\\right\\rangle _{b}\\left\\vert\n",
    "10\\right\\rangle _{WZ}\\left\\vert 00\\right\\rangle _{Ba}\\\\\n",
    "+ic_{-}\\left\\vert 1\\right\\rangle _{A}\\left\\vert 0\\right\\rangle _{b}\\left\\vert\n",
    "01\\right\\rangle _{WZ}\\left\\vert 01\\right\\rangle _{Ba}\\\\\n",
    "+c_{-}\\left\\vert 1\\right\\rangle _{A}\\left\\vert 1\\right\\rangle _{b}\\left\\vert\n",
    "01\\right\\rangle _{WZ}\\left\\vert 01\\right\\rangle _{Ba}\n",
    "\\end{array}\n",
    "\\right)  .\n",
    "\\end{align*}"
   ]
  },
  {
   "cell_type": "code",
   "execution_count": 70,
   "id": "ddede5d9",
   "metadata": {},
   "outputs": [
    {
     "data": {
      "image/png": "[encoded data removed]",
      "text/latex": [
       "$\\displaystyle \\frac{c_{+}^{2} {\\left|0010\\right\\rangle } {\\left\\langle 0010\\right|} - i c_{+}^{2} {\\left|0010\\right\\rangle } {\\left\\langle 0110\\right|} + i c_{+}^{2} {\\left|0110\\right\\rangle } {\\left\\langle 0010\\right|} + c_{+}^{2} {\\left|0110\\right\\rangle } {\\left\\langle 0110\\right|} + c_{-}^{2} {\\left|1001\\right\\rangle } {\\left\\langle 1001\\right|} + i c_{-}^{2} {\\left|1001\\right\\rangle } {\\left\\langle 1101\\right|} - i c_{-}^{2} {\\left|1101\\right\\rangle } {\\left\\langle 1001\\right|} + c_{-}^{2} {\\left|1101\\right\\rangle } {\\left\\langle 1101\\right|}}{2}$"
      ],
      "text/plain": [
       "  2                     2                     2                   2           \n",
       "c₊ ⋅❘0010⟩⋅⟨0010❘ - ⅈ⋅c₊ ⋅❘0010⟩⋅⟨0110❘ + ⅈ⋅c₊ ⋅❘0110⟩⋅⟨0010❘ + c₊ ⋅❘0110⟩⋅⟨01\n",
       "──────────────────────────────────────────────────────────────────────────────\n",
       "                                                                              \n",
       "\n",
       "        2                     2                     2                   2     \n",
       "10❘ + c₋ ⋅❘1001⟩⋅⟨1001❘ + ⅈ⋅c₋ ⋅❘1001⟩⋅⟨1101❘ - ⅈ⋅c₋ ⋅❘1101⟩⋅⟨1001❘ + c₋ ⋅❘110\n",
       "──────────────────────────────────────────────────────────────────────────────\n",
       "    2                                                                         \n",
       "\n",
       "         \n",
       "1⟩⋅⟨1101❘\n",
       "─────────\n",
       "         "
      ]
     },
     "execution_count": 70,
     "metadata": {},
     "output_type": "execute_result"
    }
   ],
   "source": [
    "ρ5p_AbWZ_trBa_out = ptraceB(16, 4, proj(ψ5p_AbWZBa_out))\n",
    "mysim(mbk(ρ5p_AbWZ_trBa_out))"
   ]
  },
  {
   "cell_type": "code",
   "execution_count": 71,
   "id": "e50ca546",
   "metadata": {},
   "outputs": [
    {
     "data": {
      "image/png": "[encoded data removed]",
      "text/latex": [
       "$\\displaystyle {\\left|10\\right\\rangle } {\\left\\langle 10\\right|}$"
      ],
      "text/plain": [
       "❘10⟩⋅⟨10❘"
      ]
     },
     "execution_count": 71,
     "metadata": {},
     "output_type": "execute_result"
    }
   ],
   "source": [
    "ρ5p_00WZ_trBa_out = projM(4, '00', ρ5p_AbWZ_trBa_out)\n",
    "mysim(mbk(ρ5p_00WZ_trBa_out)).subs(cp**2+cm**2, 1)"
   ]
  },
  {
   "cell_type": "code",
   "execution_count": 72,
   "id": "ccf4c7f9",
   "metadata": {},
   "outputs": [
    {
     "data": {
      "image/png": "[encoded data removed]",
      "text/latex": [
       "$\\displaystyle 0$"
      ],
      "text/plain": [
       "0"
      ]
     },
     "execution_count": 72,
     "metadata": {},
     "output_type": "execute_result"
    }
   ],
   "source": [
    "von_neumann_sympy(ρ5p_00WZ_trBa_out)"
   ]
  },
  {
   "cell_type": "code",
   "execution_count": 73,
   "id": "272288fe",
   "metadata": {},
   "outputs": [
    {
     "data": {
      "image/png": "[encoded data removed]",
      "text/latex": [
       "$\\displaystyle {\\left|10\\right\\rangle } {\\left\\langle 10\\right|}$"
      ],
      "text/plain": [
       "❘10⟩⋅⟨10❘"
      ]
     },
     "execution_count": 73,
     "metadata": {},
     "output_type": "execute_result"
    }
   ],
   "source": [
    "ρ5p_00WZ_trBa_deph_out = dephasing_map_2qubits(ρ5p_00WZ_trBa_out)\n",
    "mysim(mbk(ρ5p_00WZ_trBa_deph_out)).subs(cp**2+cm**2, 1)"
   ]
  },
  {
   "cell_type": "code",
   "execution_count": 74,
   "id": "3b769beb",
   "metadata": {},
   "outputs": [
    {
     "data": {
      "image/png": "[encoded data removed]",
      "text/latex": [
       "$\\displaystyle 0$"
      ],
      "text/plain": [
       "0"
      ]
     },
     "execution_count": 74,
     "metadata": {},
     "output_type": "execute_result"
    }
   ],
   "source": [
    "von_neumann_sympy(ρ5p_00WZ_trBa_deph_out).subs(cp**2+cm**2, 1)"
   ]
  },
  {
   "cell_type": "code",
   "execution_count": 75,
   "id": "821ef62a",
   "metadata": {},
   "outputs": [
    {
     "data": {
      "image/png": "[encoded data removed]",
      "text/latex": [
       "$\\displaystyle 0$"
      ],
      "text/plain": [
       "0"
      ]
     },
     "execution_count": 75,
     "metadata": {},
     "output_type": "execute_result"
    }
   ],
   "source": [
    "Irr_WZ_out = von_neumann_sympy(ρ5p_00WZ_trBa_deph_out).subs(cp**2+cm**2, 1) - von_neumann_sympy(ρ5p_00WZ_trBa_out)\n",
    "Irr_WZ_out"
   ]
  },
  {
   "cell_type": "code",
   "execution_count": 81,
   "id": "c95a7148",
   "metadata": {},
   "outputs": [
    {
     "data": {
      "image/png": "[encoded data removed]",
      "text/latex": [
       "$\\displaystyle \\left[\\begin{array}{cccccccccccccccc}0 & 0 & 0 & 0 & 0 & 0 & 0 & 0 & 0 & 0 & 0 & 0 & 0 & 0 & 0 & 0\\\\0 & 0 & 0 & 0 & 0 & 0 & 0 & 0 & 0 & 0 & 0 & 0 & 0 & 0 & 0 & 0\\\\0 & 0 & \\frac{c_{+}^{2}}{2} & 0 & 0 & 0 & - \\frac{i c_{+}^{2}}{2} & 0 & 0 & 0 & 0 & 0 & 0 & 0 & 0 & 0\\\\0 & 0 & 0 & 0 & 0 & 0 & 0 & 0 & 0 & 0 & 0 & 0 & 0 & 0 & 0 & 0\\\\0 & 0 & 0 & 0 & 0 & 0 & 0 & 0 & 0 & 0 & 0 & 0 & 0 & 0 & 0 & 0\\\\0 & 0 & 0 & 0 & 0 & 0 & 0 & 0 & 0 & 0 & 0 & 0 & 0 & 0 & 0 & 0\\\\0 & 0 & \\frac{i c_{+}^{2}}{2} & 0 & 0 & 0 & \\frac{c_{+}^{2}}{2} & 0 & 0 & 0 & 0 & 0 & 0 & 0 & 0 & 0\\\\0 & 0 & 0 & 0 & 0 & 0 & 0 & 0 & 0 & 0 & 0 & 0 & 0 & 0 & 0 & 0\\\\0 & 0 & 0 & 0 & 0 & 0 & 0 & 0 & 0 & 0 & 0 & 0 & 0 & 0 & 0 & 0\\\\0 & 0 & 0 & 0 & 0 & 0 & 0 & 0 & 0 & \\frac{c_{-}^{2}}{2} & 0 & 0 & 0 & \\frac{i c_{-}^{2}}{2} & 0 & 0\\\\0 & 0 & 0 & 0 & 0 & 0 & 0 & 0 & 0 & 0 & 0 & 0 & 0 & 0 & 0 & 0\\\\0 & 0 & 0 & 0 & 0 & 0 & 0 & 0 & 0 & 0 & 0 & 0 & 0 & 0 & 0 & 0\\\\0 & 0 & 0 & 0 & 0 & 0 & 0 & 0 & 0 & 0 & 0 & 0 & 0 & 0 & 0 & 0\\\\0 & 0 & 0 & 0 & 0 & 0 & 0 & 0 & 0 & - \\frac{i c_{-}^{2}}{2} & 0 & 0 & 0 & \\frac{c_{-}^{2}}{2} & 0 & 0\\\\0 & 0 & 0 & 0 & 0 & 0 & 0 & 0 & 0 & 0 & 0 & 0 & 0 & 0 & 0 & 0\\\\0 & 0 & 0 & 0 & 0 & 0 & 0 & 0 & 0 & 0 & 0 & 0 & 0 & 0 & 0 & 0\\end{array}\\right]$"
      ],
      "text/plain": [
       "⎡0  0    0    0  0  0     0     0  0     0     0  0  0    0    0  0⎤\n",
       "⎢                                                                  ⎥\n",
       "⎢0  0    0    0  0  0     0     0  0     0     0  0  0    0    0  0⎥\n",
       "⎢                                                                  ⎥\n",
       "⎢         2                 2                                      ⎥\n",
       "⎢       c₊             -ⅈ⋅c₊                                       ⎥\n",
       "⎢0  0   ───   0  0  0  ───────  0  0     0     0  0  0    0    0  0⎥\n",
       "⎢        2                2                                        ⎥\n",
       "⎢                                                                  ⎥\n",
       "⎢0  0    0    0  0  0     0     0  0     0     0  0  0    0    0  0⎥\n",
       "⎢                                                                  ⎥\n",
       "⎢0  0    0    0  0  0     0     0  0     0     0  0  0    0    0  0⎥\n",
       "⎢                                                                  ⎥\n",
       "⎢0  0    0    0  0  0     0     0  0     0     0  0  0    0    0  0⎥\n",
       "⎢                                                                  ⎥\n",
       "⎢          2               2                                       ⎥\n",
       "⎢      ⅈ⋅c₊              c₊                                        ⎥\n",
       "⎢0  0  ─────  0  0  0    ───    0  0     0     0  0  0    0    0  0⎥\n",
       "⎢        2                2                                        ⎥\n",
       "⎢                                                                  ⎥\n",
       "⎢0  0    0    0  0  0     0     0  0     0     0  0  0    0    0  0⎥\n",
       "⎢                                                                  ⎥\n",
       "⎢0  0    0    0  0  0     0     0  0     0     0  0  0    0    0  0⎥\n",
       "⎢                                                                  ⎥\n",
       "⎢                                         2                 2      ⎥\n",
       "⎢                                       c₋              ⅈ⋅c₋       ⎥\n",
       "⎢0  0    0    0  0  0     0     0  0    ───    0  0  0  ─────  0  0⎥\n",
       "⎢                                        2                2        ⎥\n",
       "⎢                                                                  ⎥\n",
       "⎢0  0    0    0  0  0     0     0  0     0     0  0  0    0    0  0⎥\n",
       "⎢                                                                  ⎥\n",
       "⎢0  0    0    0  0  0     0     0  0     0     0  0  0    0    0  0⎥\n",
       "⎢                                                                  ⎥\n",
       "⎢0  0    0    0  0  0     0     0  0     0     0  0  0    0    0  0⎥\n",
       "⎢                                                                  ⎥\n",
       "⎢                                          2               2       ⎥\n",
       "⎢                                     -ⅈ⋅c₋              c₋        ⎥\n",
       "⎢0  0    0    0  0  0     0     0  0  ───────  0  0  0   ───   0  0⎥\n",
       "⎢                                        2                2        ⎥\n",
       "⎢                                                                  ⎥\n",
       "⎢0  0    0    0  0  0     0     0  0     0     0  0  0    0    0  0⎥\n",
       "⎢                                                                  ⎥\n",
       "⎣0  0    0    0  0  0     0     0  0     0     0  0  0    0    0  0⎦"
      ]
     },
     "execution_count": 81,
     "metadata": {},
     "output_type": "execute_result"
    }
   ],
   "source": [
    "mysim(ρ5p_AbWZ_trBa_out)"
   ]
  },
  {
   "cell_type": "code",
   "execution_count": 82,
   "id": "82b997bc",
   "metadata": {},
   "outputs": [
    {
     "data": {
      "image/png": "[encoded data removed]",
      "text/latex": [
       "$\\displaystyle \\left[\\begin{array}{cccccccccccccccc}0 & 0 & 0 & 0 & 0 & 0 & 0 & 0 & 0 & 0 & 0 & 0 & 0 & 0 & 0 & 0\\\\0 & 0 & 0 & 0 & 0 & 0 & 0 & 0 & 0 & 0 & 0 & 0 & 0 & 0 & 0 & 0\\\\0 & 0 & \\frac{1}{4} & 0 & 0 & 0 & - \\frac{i}{4} & 0 & 0 & 0 & 0 & 0 & 0 & 0 & 0 & 0\\\\0 & 0 & 0 & 0 & 0 & 0 & 0 & 0 & 0 & 0 & 0 & 0 & 0 & 0 & 0 & 0\\\\0 & 0 & 0 & 0 & 0 & 0 & 0 & 0 & 0 & 0 & 0 & 0 & 0 & 0 & 0 & 0\\\\0 & 0 & 0 & 0 & 0 & 0 & 0 & 0 & 0 & 0 & 0 & 0 & 0 & 0 & 0 & 0\\\\0 & 0 & \\frac{i}{4} & 0 & 0 & 0 & \\frac{1}{4} & 0 & 0 & 0 & 0 & 0 & 0 & 0 & 0 & 0\\\\0 & 0 & 0 & 0 & 0 & 0 & 0 & 0 & 0 & 0 & 0 & 0 & 0 & 0 & 0 & 0\\\\0 & 0 & 0 & 0 & 0 & 0 & 0 & 0 & 0 & 0 & 0 & 0 & 0 & 0 & 0 & 0\\\\0 & 0 & 0 & 0 & 0 & 0 & 0 & 0 & 0 & \\frac{1}{4} & 0 & 0 & 0 & \\frac{i}{4} & 0 & 0\\\\0 & 0 & 0 & 0 & 0 & 0 & 0 & 0 & 0 & 0 & 0 & 0 & 0 & 0 & 0 & 0\\\\0 & 0 & 0 & 0 & 0 & 0 & 0 & 0 & 0 & 0 & 0 & 0 & 0 & 0 & 0 & 0\\\\0 & 0 & 0 & 0 & 0 & 0 & 0 & 0 & 0 & 0 & 0 & 0 & 0 & 0 & 0 & 0\\\\0 & 0 & 0 & 0 & 0 & 0 & 0 & 0 & 0 & - \\frac{i}{4} & 0 & 0 & 0 & \\frac{1}{4} & 0 & 0\\\\0 & 0 & 0 & 0 & 0 & 0 & 0 & 0 & 0 & 0 & 0 & 0 & 0 & 0 & 0 & 0\\\\0 & 0 & 0 & 0 & 0 & 0 & 0 & 0 & 0 & 0 & 0 & 0 & 0 & 0 & 0 & 0\\end{array}\\right]$"
      ],
      "text/plain": [
       "⎡0  0   0   0  0  0   0   0  0   0   0  0  0   0   0  0⎤\n",
       "⎢                                                      ⎥\n",
       "⎢0  0   0   0  0  0   0   0  0   0   0  0  0   0   0  0⎥\n",
       "⎢                                                      ⎥\n",
       "⎢                    -ⅈ                                ⎥\n",
       "⎢0  0  1/4  0  0  0  ───  0  0   0   0  0  0   0   0  0⎥\n",
       "⎢                     4                                ⎥\n",
       "⎢                                                      ⎥\n",
       "⎢0  0   0   0  0  0   0   0  0   0   0  0  0   0   0  0⎥\n",
       "⎢                                                      ⎥\n",
       "⎢0  0   0   0  0  0   0   0  0   0   0  0  0   0   0  0⎥\n",
       "⎢                                                      ⎥\n",
       "⎢0  0   0   0  0  0   0   0  0   0   0  0  0   0   0  0⎥\n",
       "⎢                                                      ⎥\n",
       "⎢       ⅈ                                              ⎥\n",
       "⎢0  0   ─   0  0  0  1/4  0  0   0   0  0  0   0   0  0⎥\n",
       "⎢       4                                              ⎥\n",
       "⎢                                                      ⎥\n",
       "⎢0  0   0   0  0  0   0   0  0   0   0  0  0   0   0  0⎥\n",
       "⎢                                                      ⎥\n",
       "⎢0  0   0   0  0  0   0   0  0   0   0  0  0   0   0  0⎥\n",
       "⎢                                                      ⎥\n",
       "⎢                                              ⅈ       ⎥\n",
       "⎢0  0   0   0  0  0   0   0  0  1/4  0  0  0   ─   0  0⎥\n",
       "⎢                                              4       ⎥\n",
       "⎢                                                      ⎥\n",
       "⎢0  0   0   0  0  0   0   0  0   0   0  0  0   0   0  0⎥\n",
       "⎢                                                      ⎥\n",
       "⎢0  0   0   0  0  0   0   0  0   0   0  0  0   0   0  0⎥\n",
       "⎢                                                      ⎥\n",
       "⎢0  0   0   0  0  0   0   0  0   0   0  0  0   0   0  0⎥\n",
       "⎢                                                      ⎥\n",
       "⎢                               -ⅈ                     ⎥\n",
       "⎢0  0   0   0  0  0   0   0  0  ───  0  0  0  1/4  0  0⎥\n",
       "⎢                                4                     ⎥\n",
       "⎢                                                      ⎥\n",
       "⎢0  0   0   0  0  0   0   0  0   0   0  0  0   0   0  0⎥\n",
       "⎢                                                      ⎥\n",
       "⎣0  0   0   0  0  0   0   0  0   0   0  0  0   0   0  0⎦"
      ]
     },
     "execution_count": 82,
     "metadata": {},
     "output_type": "execute_result"
    }
   ],
   "source": [
    "mysim(ρ5p_AbWZ_trBa_out).subs(cp, 1/sqrt(2)).subs(cm, 1/sqrt(2))"
   ]
  },
  {
   "cell_type": "code",
   "execution_count": null,
   "id": "b0531531",
   "metadata": {},
   "outputs": [],
   "source": []
  }
 ],
 "metadata": {
  "kernelspec": {
   "display_name": "Python 3 (ipykernel)",
   "language": "python",
   "name": "python3"
  },
  "language_info": {
   "codemirror_mode": {
    "name": "ipython",
    "version": 3
   },
   "file_extension": ".py",
   "mimetype": "text/x-python",
   "name": "python",
   "nbconvert_exporter": "python",
   "pygments_lexer": "ipython3",
   "version": "3.9.13"
  }
 },
 "nbformat": 4,
 "nbformat_minor": 5
}
