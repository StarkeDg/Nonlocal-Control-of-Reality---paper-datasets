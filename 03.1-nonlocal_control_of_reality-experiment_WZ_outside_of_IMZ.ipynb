{
 "cells": [
  {
   "cell_type": "code",
   "execution_count": 12,
   "id": "796daa2a",
   "metadata": {},
   "outputs": [
    {
     "data": {
      "application/javascript": [
       "IPython.notebook.set_autosave_interval(60000)"
      ]
     },
     "metadata": {},
     "output_type": "display_data"
    },
    {
     "name": "stdout",
     "output_type": "stream",
     "text": [
      "Autosaving every 60 seconds\n"
     ]
    }
   ],
   "source": [
    "%autosave 60"
   ]
  },
  {
   "cell_type": "code",
   "execution_count": 13,
   "id": "2b921bed",
   "metadata": {
    "scrolled": true
   },
   "outputs": [],
   "source": [
    "%run init.ipynb\n",
    "%run init-tensor_product.ipynb\n",
    "%run init-quantum_resources.ipynb\n",
    "%run init-optical_elements.ipynb"
   ]
  },
  {
   "cell_type": "code",
   "execution_count": 14,
   "id": "3b547fef",
   "metadata": {},
   "outputs": [],
   "source": [
    "from qiskit.quantum_info import entropy, DensityMatrix"
   ]
  },
  {
   "cell_type": "code",
   "execution_count": 15,
   "id": "5e35d0b2",
   "metadata": {
    "jupyter": {
     "outputs_hidden": true
    },
    "tags": []
   },
   "outputs": [
    {
     "name": "stderr",
     "output_type": "stream",
     "text": [
      "ibmqfactory.load_account:WARNING:2023-05-23 16:09:42,785: Credentials are already in use. The existing account in the session will be replaced.\n",
      "ibmqfactory.load_account:WARNING:2023-05-23 16:09:49,075: Credentials are already in use. The existing account in the session will be replaced.\n"
     ]
    },
    {
     "name": "stdout",
     "output_type": "stream",
     "text": [
      "ibm_peekskill                ibm_perth                    ibm_nairobi\n",
      "-------------                ---------                    -----------\n",
      "Num. Qubits:  27             Num. Qubits:  7              Num. Qubits:  7\n",
      "Pending Jobs: 36             Pending Jobs: 123            Pending Jobs: 184\n",
      "Least busy:   False          Least busy:   False          Least busy:   False\n",
      "Operational:  True           Operational:  True           Operational:  True\n",
      "Avg. T1:      351.6          Avg. T1:      164.7          Avg. T1:      114.1\n",
      "Avg. T2:      320.2          Avg. T2:      149.5          Avg. T2:      76.5\n",
      "\n",
      "\n",
      "\n",
      "ibm_lagos                    ibmq_manila                  ibmq_jakarta\n",
      "---------                    -----------                  ------------\n",
      "Num. Qubits:  7              Num. Qubits:  5              Num. Qubits:  7\n",
      "Pending Jobs: 177            Pending Jobs: 9              Pending Jobs: 80\n",
      "Least busy:   False          Least busy:   False          Least busy:   False\n",
      "Operational:  True           Operational:  True           Operational:  True\n",
      "Avg. T1:      127.2          Avg. T1:      163.0          Avg. T1:      141.9\n",
      "Avg. T2:      86.9           Avg. T2:      59.5           Avg. T2:      42.1\n",
      "\n",
      "\n",
      "\n",
      "ibmq_quito                   ibmq_belem                   ibmq_lima\n",
      "----------                   ----------                   ---------\n",
      "Num. Qubits:  5              Num. Qubits:  5              Num. Qubits:  5\n",
      "Pending Jobs: 15             Pending Jobs: 8              Pending Jobs: 40\n",
      "Least busy:   False          Least busy:   True           Least busy:   False\n",
      "Operational:  True           Operational:  True           Operational:  True\n",
      "Avg. T1:      108.1          Avg. T1:      99.3           Avg. T1:      84.0\n",
      "Avg. T2:      105.2          Avg. T2:      111.4          Avg. T2:      101.8\n",
      "\n",
      "\n",
      "\n",
      "ibmq_belem\n",
      "==========\n",
      "Configuration\n",
      "-------------\n",
      "    n_qubits: 5\n",
      "    operational: True\n",
      "    status_msg: active\n",
      "    pending_jobs: 8\n",
      "    backend_version: 1.2.8\n",
      "    basis_gates: ['id', 'rz', 'sx', 'x', 'cx', 'reset']\n",
      "    local: False\n",
      "    simulator: False\n",
      "    parallel_compilation: False\n",
      "    meas_map: [[0, 1, 2, 3, 4]]\n",
      "    sample_name: family: Falcon, revision: 4, segment: T\n",
      "    quantum_volume: 16\n",
      "    coupling_map: [[0, 1], [1, 0], [1, 2], [1, 3], [2, 1], [3, 1], [3, 4], [4, 3]]\n",
      "    url: None\n",
      "    rep_delay_range: [0.0, 500.0]\n",
      "    multi_meas_enabled: True\n",
      "    parametric_pulses: ['gaussian', 'gaussian_square', 'gaussian_square_drag', 'drag', 'constant']\n",
      "    backend_name: ibmq_belem\n",
      "    qubit_channel_mapping: [['u1', 'd0', 'u0', 'm0'], ['u4', 'u5', 'd1', 'm1', 'u2', 'u1', 'u0', 'u3'], ['d2', 'm2', 'u2', 'u4'], ['u6', 'm3', 'u7', 'd3', 'u5', 'u3'], ['u7', 'm4', 'd4', 'u6']]\n",
      "    meas_lo_range: [[6.801574705, 7.801574705], [6.8934333720000005, 7.8934333720000005], [6.860104974, 7.860104974], [6.8033823270000005, 7.8033823270000005], [6.926223338000001, 7.926223338000001]]\n",
      "    discriminators: ['linear_discriminator', 'hw_centroid', 'quadratic_discriminator']\n",
      "    acquisition_latency: []\n",
      "    live_data: False\n",
      "    n_uchannels: 8\n",
      "    open_pulse: False\n",
      "    hamiltonian: {'description': 'Qubits are modeled as Duffing oscillators. In this case, the system includes higher energy states, i.e. not just |0> and |1>. The Pauli operators are generalized via the following set of transformations:\\n\\n$(\\\\mathbb{I}-\\\\sigma_{i}^z)/2 \\\\rightarrow O_i \\\\equiv b^\\\\dagger_{i} b_{i}$,\\n\\n$\\\\sigma_{+} \\\\rightarrow b^\\\\dagger$,\\n\\n$\\\\sigma_{-} \\\\rightarrow b$,\\n\\n$\\\\sigma_{i}^X \\\\rightarrow b^\\\\dagger_{i} + b_{i}$.\\n\\nQubits are coupled through resonator buses. The provided Hamiltonian has been projected into the zero excitation subspace of the resonator buses leading to an effective qubit-qubit flip-flop interaction. The qubit resonance frequencies in the Hamiltonian are the cavity dressed frequencies and not exactly what is returned by the backend defaults, which also includes the dressing due to the qubit-qubit interactions.\\n\\nQuantities are returned in angular frequencies, with units 2*pi*GHz.\\n\\nWARNING: Currently not all system Hamiltonian information is available to the public, missing values have been replaced with 0.\\n', 'h_latex': '\\\\begin{align} \\\\mathcal{H}/\\\\hbar = & \\\\sum_{i=0}^{4}\\\\left(\\\\frac{\\\\omega_{q,i}}{2}(\\\\mathbb{I}-\\\\sigma_i^{z})+\\\\frac{\\\\Delta_{i}}{2}(O_i^2-O_i)+\\\\Omega_{d,i}D_i(t)\\\\sigma_i^{X}\\\\right) \\\\\\\\ & + J_{0,1}(\\\\sigma_{0}^{+}\\\\sigma_{1}^{-}+\\\\sigma_{0}^{-}\\\\sigma_{1}^{+}) + J_{1,2}(\\\\sigma_{1}^{+}\\\\sigma_{2}^{-}+\\\\sigma_{1}^{-}\\\\sigma_{2}^{+}) + J_{1,3}(\\\\sigma_{1}^{+}\\\\sigma_{3}^{-}+\\\\sigma_{1}^{-}\\\\sigma_{3}^{+}) + J_{3,4}(\\\\sigma_{3}^{+}\\\\sigma_{4}^{-}+\\\\sigma_{3}^{-}\\\\sigma_{4}^{+}) \\\\\\\\ & + \\\\Omega_{d,0}(U_{0}^{(0,1)}(t))\\\\sigma_{0}^{X} + \\\\Omega_{d,1}(U_{1}^{(1,0)}(t)+U_{3}^{(1,3)}(t)+U_{2}^{(1,2)}(t))\\\\sigma_{1}^{X} \\\\\\\\ & + \\\\Omega_{d,2}(U_{4}^{(2,1)}(t))\\\\sigma_{2}^{X} + \\\\Omega_{d,3}(U_{6}^{(3,4)}(t)+U_{5}^{(3,1)}(t))\\\\sigma_{3}^{X} \\\\\\\\ & + \\\\Omega_{d,4}(U_{7}^{(4,3)}(t))\\\\sigma_{4}^{X} \\\\\\\\ \\\\end{align}', 'h_str': ['_SUM[i,0,4,wq{i}/2*(I{i}-Z{i})]', '_SUM[i,0,4,delta{i}/2*O{i}*O{i}]', '_SUM[i,0,4,-delta{i}/2*O{i}]', '_SUM[i,0,4,omegad{i}*X{i}||D{i}]', 'jq0q1*Sp0*Sm1', 'jq0q1*Sm0*Sp1', 'jq1q2*Sp1*Sm2', 'jq1q2*Sm1*Sp2', 'jq1q3*Sp1*Sm3', 'jq1q3*Sm1*Sp3', 'jq3q4*Sp3*Sm4', 'jq3q4*Sm3*Sp4', 'omegad1*X0||U0', 'omegad0*X1||U1', 'omegad3*X1||U3', 'omegad2*X1||U2', 'omegad1*X2||U4', 'omegad4*X3||U6', 'omegad1*X3||U5', 'omegad3*X4||U7'], 'osc': {}, 'qub': {'0': 3, '1': 3, '2': 3, '3': 3, '4': 3}, 'vars': {'delta0': -2.1119231275656283, 'delta1': -1.989081364755034, 'delta2': -2.0773937776320905, 'delta3': -2.096945401946966, 'delta4': -2.0819029355928373, 'jq0q1': 0.011772262300160973, 'jq1q2': 0.012605700949390706, 'jq1q3': 0.012591488659137172, 'jq3q4': 0.01051661912410011, 'omegad0': 0.750346448654685, 'omegad1': 0.7761114883168612, 'omegad2': 1.7193374846190534, 'omegad3': 0.7372056781996403, 'omegad4': 3.078683940944581, 'wq0': 31.9828167373281, 'wq1': 32.95859457534669, 'wq2': 33.68728491409463, 'wq3': 32.486095037629106, 'wq4': 33.03992032608491}}\n",
      "    credits_required: True\n",
      "    processor_type: {'family': 'Falcon', 'revision': 4, 'segment': 'T'}\n",
      "    meas_levels: [1, 2]\n",
      "    supported_instructions: ['cx', 'id', 'delay', 'measure', 'reset', 'rz', 'sx', 'x']\n",
      "    input_allowed: ['job', 'runtime']\n",
      "    channels: {'acquire0': {'operates': {'qubits': [0]}, 'purpose': 'acquire', 'type': 'acquire'}, 'acquire1': {'operates': {'qubits': [1]}, 'purpose': 'acquire', 'type': 'acquire'}, 'acquire2': {'operates': {'qubits': [2]}, 'purpose': 'acquire', 'type': 'acquire'}, 'acquire3': {'operates': {'qubits': [3]}, 'purpose': 'acquire', 'type': 'acquire'}, 'acquire4': {'operates': {'qubits': [4]}, 'purpose': 'acquire', 'type': 'acquire'}, 'd0': {'operates': {'qubits': [0]}, 'purpose': 'drive', 'type': 'drive'}, 'd1': {'operates': {'qubits': [1]}, 'purpose': 'drive', 'type': 'drive'}, 'd2': {'operates': {'qubits': [2]}, 'purpose': 'drive', 'type': 'drive'}, 'd3': {'operates': {'qubits': [3]}, 'purpose': 'drive', 'type': 'drive'}, 'd4': {'operates': {'qubits': [4]}, 'purpose': 'drive', 'type': 'drive'}, 'm0': {'operates': {'qubits': [0]}, 'purpose': 'measure', 'type': 'measure'}, 'm1': {'operates': {'qubits': [1]}, 'purpose': 'measure', 'type': 'measure'}, 'm2': {'operates': {'qubits': [2]}, 'purpose': 'measure', 'type': 'measure'}, 'm3': {'operates': {'qubits': [3]}, 'purpose': 'measure', 'type': 'measure'}, 'm4': {'operates': {'qubits': [4]}, 'purpose': 'measure', 'type': 'measure'}, 'u0': {'operates': {'qubits': [0, 1]}, 'purpose': 'cross-resonance', 'type': 'control'}, 'u1': {'operates': {'qubits': [1, 0]}, 'purpose': 'cross-resonance', 'type': 'control'}, 'u2': {'operates': {'qubits': [1, 2]}, 'purpose': 'cross-resonance', 'type': 'control'}, 'u3': {'operates': {'qubits': [1, 3]}, 'purpose': 'cross-resonance', 'type': 'control'}, 'u4': {'operates': {'qubits': [2, 1]}, 'purpose': 'cross-resonance', 'type': 'control'}, 'u5': {'operates': {'qubits': [3, 1]}, 'purpose': 'cross-resonance', 'type': 'control'}, 'u6': {'operates': {'qubits': [3, 4]}, 'purpose': 'cross-resonance', 'type': 'control'}, 'u7': {'operates': {'qubits': [4, 3]}, 'purpose': 'cross-resonance', 'type': 'control'}}\n",
      "    measure_esp_enabled: False\n",
      "    allow_q_object: True\n",
      "    max_shots: 20000\n",
      "    default_rep_delay: 250.0\n",
      "    qubit_lo_range: [[4.590223377747971, 5.590223377747971], [4.745523244028153, 5.745523244028153], [4.861497913423195, 5.861497913423195], [4.670322606991763, 5.670322606991763], [4.758466639258801, 5.758466639258801]]\n",
      "    meas_kernels: ['hw_boxcar']\n",
      "    conditional_latency: []\n",
      "    conditional: False\n",
      "    online_date: 2021-01-08 05:00:00+00:00\n",
      "    timing_constraints: {'acquire_alignment': 16, 'granularity': 16, 'min_length': 64, 'pulse_alignment': 1}\n",
      "    dtm: 0.2222222222222222\n",
      "    n_registers: 1\n",
      "    rep_times: [1000.0]\n",
      "    pulse_num_qubits: 3\n",
      "    pulse_num_channels: 9\n",
      "    clops: 2454\n",
      "    dt: 0.2222222222222222\n",
      "    uchannels_enabled: True\n",
      "    memory: True\n",
      "    dynamic_reprate_enabled: True\n",
      "    max_experiments: 100\n",
      "    supported_features: ['qobj']\n",
      "    allow_object_storage: True\n",
      "    u_channel_lo: [[{'q': 1, 'scale': (1+0j)}], [{'q': 0, 'scale': (1+0j)}], [{'q': 2, 'scale': (1+0j)}], [{'q': 3, 'scale': (1+0j)}], [{'q': 1, 'scale': (1+0j)}], [{'q': 1, 'scale': (1+0j)}], [{'q': 4, 'scale': (1+0j)}], [{'q': 3, 'scale': (1+0j)}]]\n",
      "    description: 5 qubit device Belem\n",
      "\n",
      "Qubits [Name / Freq / T1 / T2 / RZ err / SX err / X err / Readout err]\n",
      "----------------------------------------------------------------------\n",
      "    Q0 / 5.09022 GHz / 130.37080 us / 143.83795 us / 0.00000 / 0.00038 / 0.00038 / 0.02230 \n",
      "    Q1 / 5.24552 GHz / 96.57347 us / 121.10826 us / 0.00000 / 0.00022 / 0.00022 / 0.01990 \n",
      "    Q2 / 5.36150 GHz / 45.07906 us / 55.04463 us / 0.00000 / 0.00028 / 0.00028 / 0.02400 \n",
      "    Q3 / 5.17032 GHz / 107.84917 us / 148.94976 us / 0.00000 / 0.00024 / 0.00024 / 0.02680 \n",
      "    Q4 / 5.25847 GHz / 116.52775 us / 87.84119 us / 0.00000 / 0.00056 / 0.00056 / 0.01600 \n",
      "\n",
      "Multi-Qubit Gates [Name / Type / Gate Error]\n",
      "--------------------------------------------\n",
      "    cx2_1 / cx / 0.00611\n",
      "    cx1_2 / cx / 0.00611\n",
      "    cx1_0 / cx / 0.01372\n",
      "    cx0_1 / cx / 0.01372\n",
      "    cx4_3 / cx / 0.00910\n",
      "    cx3_4 / cx / 0.00910\n",
      "    cx3_1 / cx / 0.00686\n",
      "    cx1_3 / cx / 0.00686\n"
     ]
    }
   ],
   "source": [
    "%run init-qiskit.ipynb"
   ]
  },
  {
   "cell_type": "code",
   "execution_count": 16,
   "id": "ab5a07d5",
   "metadata": {},
   "outputs": [
    {
     "data": {
      "text/plain": [
       "{'qiskit-terra': '0.20.2', 'qiskit-aer': '0.10.4', 'qiskit-ignis': '0.7.1', 'qiskit-ibmq-provider': '0.19.1', 'qiskit-aqua': None, 'qiskit': '0.36.2', 'qiskit-nature': None, 'qiskit-finance': None, 'qiskit-optimization': None, 'qiskit-machine-learning': None}"
      ]
     },
     "execution_count": 16,
     "metadata": {},
     "output_type": "execute_result"
    }
   ],
   "source": [
    "qiskit.__qiskit_version__"
   ]
  },
  {
   "cell_type": "code",
   "execution_count": 17,
   "id": "997b6b23",
   "metadata": {},
   "outputs": [],
   "source": [
    "%run init-qiskit_optical_elements.ipynb"
   ]
  },
  {
   "cell_type": "code",
   "execution_count": 18,
   "id": "29bbc54e",
   "metadata": {},
   "outputs": [],
   "source": [
    "import sys\n",
    "import time\n",
    "import winsound"
   ]
  },
  {
   "cell_type": "code",
   "execution_count": 19,
   "id": "b1d2660d",
   "metadata": {},
   "outputs": [],
   "source": [
    "device = provider.get_backend('ibm_nairobi')"
   ]
  },
  {
   "cell_type": "markdown",
   "id": "d0aefe37",
   "metadata": {},
   "source": [
    "# Irrealidade dos átomos fora do IMZ\n",
    "\n",
    "## BBO$_{p}$ - QWP$_{in}$"
   ]
  },
  {
   "cell_type": "code",
   "execution_count": 20,
   "id": "5a198e59",
   "metadata": {},
   "outputs": [],
   "source": [
    "thmax = math.pi;   dth = thmax/20; th = np.arange(0, thmax+dth, dth); d = th.shape[0]\n",
    "rhoWZ_AbWZ_in            = np.zeros(th.shape[0], dtype=object)\n",
    "rhoWZ_AbWZ_out           = np.zeros(th.shape[0], dtype=object)\n",
    "rhoWZ_00WZ_in            = np.zeros(th.shape[0], dtype=object)\n",
    "rhoWZ_00WZ_out           = np.zeros(th.shape[0], dtype=object)\n",
    "Phi_WZ_00WZ_in           = np.zeros(th.shape[0], dtype=object)\n",
    "Phi_WZ_00WZ_out          = np.zeros(th.shape[0], dtype=object)\n",
    "Irr_WZ_in                = np.zeros(th.shape[0])\n",
    "Irr_WZ_out               = np.zeros(th.shape[0])\n",
    "jobs_ids_WZ_in = []; jobs_ids_WZ_out = []"
   ]
  },
  {
   "cell_type": "markdown",
   "id": "9c2e72b3",
   "metadata": {},
   "source": [
    "<img src = 'setup_realism.jpg' width = '90%'>"
   ]
  },
  {
   "cell_type": "code",
   "execution_count": 21,
   "id": "bad09cf0",
   "metadata": {
    "scrolled": true
   },
   "outputs": [
    {
     "data": {
      "image/png": "[encoded data removed]",
      "text/plain": [
       "<Figure size 662.412x374.578 with 1 Axes>"
      ]
     },
     "execution_count": 21,
     "metadata": {},
     "output_type": "execute_result"
    }
   ],
   "source": [
    "def qc_QCRWZ_in(th):\n",
    "    qr = qiskit.QuantumRegister(6); qc = qiskit.QuantumCircuit(qr, name = 'QCR')\n",
    "    qc_BBO_p_ = qc_BBO_p(th); qc.append(qc_BBO_p_, [qr[1],qr[2]])             # BBO_p\n",
    "    qc_QWP_ = qc_QWP(); qc.append(qc_QWP_, [qr[1]])                           # QWP\n",
    "    qc_PBS_ = qc_PBS(); qc.append(qc_PBS_, [qr[1],qr[0]])                     # PBS_A\n",
    "    # IMZ\n",
    "    qc_PBS_ = qc_PBS(); qc.append(qc_PBS_, [qr[2],qr[3]])                     # PBS\n",
    "    qc_HWP_ = qc_HWP(); qc.append(qc_HWP_, [qr[2],qr[3]])                     # HWP\n",
    "    qc.x(4); qc.x(5)                                                          # Atoms's initial state\n",
    "    qc_AtmInt_ = qc_AtmInt(); qc.append(qc_AtmInt_, [qr[3],qr[4],qr[5]])      # Atoms' interaction\n",
    "    qc_M_ = qc_M(); qc.append(qc_M_, [qr[3]])                                 # Mirrors\n",
    "    #qc_PS_ = qc_PS(ph); qc.append(qc_PS_, [qr[3]])                           # Phase\n",
    "    qc_BS_ = qc_BS(); qc.append(qc_BS_, [qr[3]])                              # BS\n",
    "    return qc\n",
    "qc_QCRWZ_in_ = qc_QCRWZ_in(math.pi); qc_QCRWZ_in_.draw(output = 'mpl', scale = 0.7)"
   ]
  },
  {
   "cell_type": "code",
   "execution_count": 38,
   "id": "47b17e60",
   "metadata": {
    "scrolled": false
   },
   "outputs": [
    {
     "name": "stdout",
     "output_type": "stream",
     "text": [
      "ibm_nairobi\n",
      "j =  8  - theta = 1.2566370614359172\n",
      "chn3b4iae4cj9gde7ot0\n",
      "Job Status: job is queued (None)\n",
      "\n",
      "Erro detectado:  \"'400 Client Error: Bad Request for url: https://api-qcon.quantum-computing.ibm.com/api/Network/ibm-q/Groups/open/Projects/main/Jobs/chn3b4iae4cj9gde7ot0/status/v/1. Error in runtime client calling method getJob: Error executing GET https://runtime-us-east.quantum-computing.ibm.com/jobs/chn3b4iae4cj9gde7ot0 {No request body}, Error code: 2413.'\"\n",
      "\n",
      "\n",
      "\n",
      "j =  8  - theta = 1.2566370614359172\n",
      "chn48fqae4cj9gdf1r9g\n",
      "Job Status: job has successfully run\n",
      "Tempo de execução: {'CREATING': datetime.datetime(2023, 5, 24, 14, 7, 8, 381000, tzinfo=tzlocal())}\n",
      "j =  8  - theta = 1.2566370614359172\n",
      "j = 10  - theta = 1.5707963267948966\n",
      "chn66ajn6lo4mve484cg\n",
      "Job Status: job has successfully run\n",
      "Tempo de execução: {'CREATING': datetime.datetime(2023, 5, 24, 16, 19, 3, 274000, tzinfo=tzlocal())}\n",
      "j = 10  - theta = 1.5707963267948966\n"
     ]
    }
   ],
   "source": [
    "print(device)\n",
    "start_time = time.time()\n",
    "try:\n",
    "    try:\n",
    "        j=8\n",
    "        print('j = {:2d}  - theta = {}'.format(j, th[j]))\n",
    "        qr = qiskit.QuantumRegister(6); qc = qiskit.QuantumCircuit(qr)\n",
    "        #\n",
    "        # Circuit\n",
    "        #\n",
    "        qc_QCRWZ_in_ = qc_QCRWZ_in(th[j]); qc.append(qc_QCRWZ_in_, [qr[0],qr[1],qr[2],qr[3],qr[4],qr[5]])\n",
    "        #\n",
    "        # Tomography\n",
    "        #\n",
    "        qstc = state_tomography_circuits(qc, [qr[5],qr[4],qr[3],qr[1]])  # rho_AbWZ qr[5],qr[4],qr[3],qr[1]\n",
    "        job = qiskit.execute(qstc, backend = device, shots=nshots)\n",
    "        print(job.job_id()); job_monitor(job)\n",
    "        execution_time = job.time_per_step()\n",
    "        print(\"Tempo de execução:\", execution_time)\n",
    "        jobs_ids_WZ_in.append(job.job_id())\n",
    "        qstf = StateTomographyFitter(job.result(), qstc)\n",
    "        #\n",
    "        # rho\n",
    "        #\n",
    "        rhoWZ_AbWZ_in[j] = qstf.fit(method='lstsq')\n",
    "        print('\\nj = {:2d}  - theta = {}'.format(j, th[j]))\n",
    "        #\n",
    "        j=10\n",
    "        print('\\nj = {:2d}  - theta = {}'.format(j, th[j]))\n",
    "        qr = qiskit.QuantumRegister(6); qc = qiskit.QuantumCircuit(qr)\n",
    "        #\n",
    "        # Circuit\n",
    "        #\n",
    "        qc_QCRWZ_in_ = qc_QCRWZ_in(th[j]); qc.append(qc_QCRWZ_in_, [qr[0],qr[1],qr[2],qr[3],qr[4],qr[5]])\n",
    "        #\n",
    "        # Tomography\n",
    "        #\n",
    "        qstc = state_tomography_circuits(qc, [qr[5],qr[4],qr[3],qr[1]])  # rho_AbWZ qr[5],qr[4],qr[3],qr[1]\n",
    "        job = qiskit.execute(qstc, backend = device, shots=nshots)\n",
    "        print(job.job_id()); job_monitor(job)\n",
    "        execution_time = job.time_per_step()\n",
    "        print(\"Tempo de execução:\", execution_time)\n",
    "        jobs_ids_WZ_in.append(job.job_id())\n",
    "        qstf = StateTomographyFitter(job.result(), qstc)\n",
    "        #\n",
    "        # rho\n",
    "        #\n",
    "        rhoWZ_AbWZ_in[j] = qstf.fit(method='lstsq')\n",
    "        print('\\nj = {:2d}  - theta = {}'.format(j, th[j]))\n",
    "        #\n",
    "    except:\n",
    "        print(\"\\n\\nErro detectado: \", sys.exc_info()[1])\n",
    "        print(\"\\n\")\n",
    "        j=8\n",
    "        print('\\nj = {:2d}  - theta = {}'.format(j, th[j]))\n",
    "        qr = qiskit.QuantumRegister(6); qc = qiskit.QuantumCircuit(qr)\n",
    "        #\n",
    "        # Circuit\n",
    "        #\n",
    "        qc_QCRWZ_in_ = qc_QCRWZ_in(th[j]); qc.append(qc_QCRWZ_in_, [qr[0],qr[1],qr[2],qr[3],qr[4],qr[5]])\n",
    "        #\n",
    "        # Tomography\n",
    "        #\n",
    "        qstc = state_tomography_circuits(qc, [qr[5],qr[4],qr[3],qr[1]])  # rho_AbWZ qr[5],qr[4],qr[3],qr[1]\n",
    "        job = qiskit.execute(qstc, backend = device, shots=nshots)\n",
    "        print(job.job_id()); job_monitor(job)\n",
    "        execution_time = job.time_per_step()\n",
    "        print(\"Tempo de execução:\", execution_time)\n",
    "        jobs_ids_WZ_in.append(job.job_id())\n",
    "        qstf = StateTomographyFitter(job.result(), qstc)\n",
    "        #\n",
    "        # rho\n",
    "        #\n",
    "        rhoWZ_AbWZ_in[j] = qstf.fit(method='lstsq')\n",
    "        print('j = {:2d}  - theta = {}'.format(j, th[j]))\n",
    "        #\n",
    "        j=10\n",
    "        print('j = {:2d}  - theta = {}'.format(j, th[j]))\n",
    "        qr = qiskit.QuantumRegister(6); qc = qiskit.QuantumCircuit(qr)\n",
    "        #\n",
    "        # Circuit\n",
    "        #\n",
    "        qc_QCRWZ_in_ = qc_QCRWZ_in(th[j]); qc.append(qc_QCRWZ_in_, [qr[0],qr[1],qr[2],qr[3],qr[4],qr[5]])\n",
    "        #\n",
    "        # Tomography\n",
    "        #\n",
    "        qstc = state_tomography_circuits(qc, [qr[5],qr[4],qr[3],qr[1]])  # rho_AbWZ qr[5],qr[4],qr[3],qr[1]\n",
    "        job = qiskit.execute(qstc, backend = device, shots=nshots)\n",
    "        print(job.job_id()); job_monitor(job)\n",
    "        execution_time = job.time_per_step()\n",
    "        print(\"Tempo de execução:\", execution_time)\n",
    "        jobs_ids_WZ_in.append(job.job_id())\n",
    "        qstf = StateTomographyFitter(job.result(), qstc)\n",
    "        #\n",
    "        # rho\n",
    "        #\n",
    "        rhoWZ_AbWZ_in[j] = qstf.fit(method='lstsq')\n",
    "        print('j = {:2d}  - theta = {}'.format(j, th[j]))\n",
    "        #\n",
    "except:\n",
    "    print(\"\\n\\nErro detectado: \", sys.exc_info()[1])\n",
    "winsound.Beep(1000, 200)   # Frequência de 1000 Hz e duração de 200 ms\n",
    "winsound.Beep(1000, 200)   # Frequência de 1000 Hz e duração de 200 ms\n",
    "winsound.Beep(1000, 200)   # Frequência de 1000 Hz e duração de 200 ms\n",
    "winsound.Beep(1000, 1000)  # Frequência de 1000 Hz e duração de 200 ms\n",
    "end_time2 = time.time()\n",
    "winsound.Beep(1000, 1000)  # Frequência de 1000 Hz e duração de 200 ms\n",
    "winsound.Beep(1000, 200)   # Frequência de 1000 Hz e duração de 200 ms\n",
    "winsound.Beep(1000, 200)   # Frequência de 1000 Hz e duração de 200 ms\n",
    "winsound.Beep(1000, 200)   # Frequência de 1000 Hz e duração de 200 ms"
   ]
  },
  {
   "cell_type": "code",
   "execution_count": 39,
   "id": "ffd23a8c",
   "metadata": {},
   "outputs": [
    {
     "name": "stdout",
     "output_type": "stream",
     "text": [
      "Tempo de execução: 13240.24 segundos\n",
      "Tempo de execução: 220.67 minutos\n",
      "Tempo de execução: 3.68 horas\n",
      "Tempo de execução por job: 0.37 horas \n"
     ]
    }
   ],
   "source": [
    "execution_time_seg = end_time2 - start_time\n",
    "print(\"Tempo de execução:\", round(execution_time_seg, 2), \"segundos\")\n",
    "execution_time_min = execution_time_seg/60\n",
    "print(\"Tempo de execução:\", round(execution_time_min, 2), \"minutos\")\n",
    "execution_time_h = execution_time_min/60\n",
    "print(\"Tempo de execução:\", round(execution_time_h, 2), \"horas\")\n",
    "execution_time_1_h = execution_time_h/j\n",
    "print(\"Tempo de execução por job:\", round(execution_time_1_h, 2), \"horas \")"
   ]
  },
  {
   "cell_type": "code",
   "execution_count": 40,
   "id": "195e51db",
   "metadata": {
    "scrolled": false
   },
   "outputs": [
    {
     "name": "stdout",
     "output_type": "stream",
     "text": [
      "ibm_nairobi\n",
      "j =  8  - theta = 1.2566370614359172\n",
      "chn73tknsmp20v4mvilg\n",
      "Job Status: job has successfully run\n",
      "Tempo de execução: {'CREATING': datetime.datetime(2023, 5, 24, 17, 22, 11, 872000, tzinfo=tzlocal())}\n",
      "\n",
      "j =  8  - theta = 1.2566370614359172\n",
      "\n",
      "j = 10  - theta = 1.5707963267948966\n",
      "chn79n4nsmp20v4n6l2g\n",
      "Job Status: job is queued (None)\n",
      "\n",
      "Erro detectado:  \"'400 Client Error: Bad Request for url: https://api-qcon.quantum-computing.ibm.com/api/Network/ibm-q/Groups/open/Projects/main/Jobs/chn79n4nsmp20v4n6l2g/status/v/1. Error in runtime client calling method getJob: Error executing GET https://runtime-us-east.quantum-computing.ibm.com/jobs/chn79n4nsmp20v4n6l2g {No request body}, Error code: 2413.'\"\n",
      "\n",
      "\n",
      "\n",
      "j =  8  - theta = 1.2566370614359172\n",
      "chn7e8m21vj7u8g2mij0\n",
      "Job Status: job is queued (None)\n",
      "\n",
      "Erro detectado:  \n"
     ]
    }
   ],
   "source": [
    "print(device)\n",
    "start_time = time.time()\n",
    "try:\n",
    "    try:\n",
    "        j=8\n",
    "        print('j = {:2d}  - theta = {}'.format(j, th[j]))\n",
    "        qr = qiskit.QuantumRegister(6); qc = qiskit.QuantumCircuit(qr)\n",
    "        #\n",
    "        # Circuit\n",
    "        #\n",
    "        qc_QCRWZ_in_ = qc_QCRWZ_in(th[j]+0.003); qc.append(qc_QCRWZ_in_, [qr[0],qr[1],qr[2],qr[3],qr[4],qr[5]])\n",
    "        #\n",
    "        # Tomography\n",
    "        #\n",
    "        qstc = state_tomography_circuits(qc, [qr[5],qr[4],qr[3],qr[1]])  # rho_AbWZ qr[5],qr[4],qr[3],qr[1]\n",
    "        job = qiskit.execute(qstc, backend = device, shots=nshots)\n",
    "        print(job.job_id()); job_monitor(job)\n",
    "        execution_time = job.time_per_step()\n",
    "        print(\"Tempo de execução:\", execution_time)\n",
    "        jobs_ids_WZ_in.append(job.job_id())\n",
    "        qstf = StateTomographyFitter(job.result(), qstc)\n",
    "        #\n",
    "        # rho\n",
    "        #\n",
    "        rhoWZ_AbWZ_in[j] = qstf.fit(method='lstsq')\n",
    "        print('\\nj = {:2d}  - theta = {}'.format(j, th[j]))\n",
    "        #\n",
    "        j=10\n",
    "        print('\\nj = {:2d}  - theta = {}'.format(j, th[j]))\n",
    "        qr = qiskit.QuantumRegister(6); qc = qiskit.QuantumCircuit(qr)\n",
    "        #\n",
    "        # Circuit\n",
    "        #\n",
    "        qc_QCRWZ_in_ = qc_QCRWZ_in(th[j]+0.003); qc.append(qc_QCRWZ_in_, [qr[0],qr[1],qr[2],qr[3],qr[4],qr[5]])\n",
    "        #\n",
    "        # Tomography\n",
    "        #\n",
    "        qstc = state_tomography_circuits(qc, [qr[5],qr[4],qr[3],qr[1]])  # rho_AbWZ qr[5],qr[4],qr[3],qr[1]\n",
    "        job = qiskit.execute(qstc, backend = device, shots=nshots)\n",
    "        print(job.job_id()); job_monitor(job)\n",
    "        execution_time = job.time_per_step()\n",
    "        print(\"Tempo de execução:\", execution_time)\n",
    "        jobs_ids_WZ_in.append(job.job_id())\n",
    "        qstf = StateTomographyFitter(job.result(), qstc)\n",
    "        #\n",
    "        # rho\n",
    "        #\n",
    "        rhoWZ_AbWZ_in[j] = qstf.fit(method='lstsq')\n",
    "        print('\\nj = {:2d}  - theta = {}'.format(j, th[j]))\n",
    "        #\n",
    "    except:\n",
    "        print(\"\\n\\nErro detectado: \", sys.exc_info()[1])\n",
    "        print(\"\\n\")\n",
    "        j=8\n",
    "        print('\\nj = {:2d}  - theta = {}'.format(j, th[j]))\n",
    "        qr = qiskit.QuantumRegister(6); qc = qiskit.QuantumCircuit(qr)\n",
    "        #\n",
    "        # Circuit\n",
    "        #\n",
    "        qc_QCRWZ_in_ = qc_QCRWZ_in(th[j]+0.003); qc.append(qc_QCRWZ_in_, [qr[0],qr[1],qr[2],qr[3],qr[4],qr[5]])\n",
    "        #\n",
    "        # Tomography\n",
    "        #\n",
    "        qstc = state_tomography_circuits(qc, [qr[5],qr[4],qr[3],qr[1]])  # rho_AbWZ qr[5],qr[4],qr[3],qr[1]\n",
    "        job = qiskit.execute(qstc, backend = device, shots=nshots)\n",
    "        print(job.job_id()); job_monitor(job)\n",
    "        execution_time = job.time_per_step()\n",
    "        print(\"Tempo de execução:\", execution_time)\n",
    "        jobs_ids_WZ_in.append(job.job_id())\n",
    "        qstf = StateTomographyFitter(job.result(), qstc)\n",
    "        #\n",
    "        # rho\n",
    "        #\n",
    "        rhoWZ_AbWZ_in[j] = qstf.fit(method='lstsq')\n",
    "        print('j = {:2d}  - theta = {}'.format(j, th[j]))\n",
    "        #\n",
    "        j=10\n",
    "        print('j = {:2d}  - theta = {}'.format(j, th[j]))\n",
    "        qr = qiskit.QuantumRegister(6); qc = qiskit.QuantumCircuit(qr)\n",
    "        #\n",
    "        # Circuit\n",
    "        #\n",
    "        qc_QCRWZ_in_ = qc_QCRWZ_in(th[j]+0.003); qc.append(qc_QCRWZ_in_, [qr[0],qr[1],qr[2],qr[3],qr[4],qr[5]])\n",
    "        #\n",
    "        # Tomography\n",
    "        #\n",
    "        qstc = state_tomography_circuits(qc, [qr[5],qr[4],qr[3],qr[1]])  # rho_AbWZ qr[5],qr[4],qr[3],qr[1]\n",
    "        job = qiskit.execute(qstc, backend = device, shots=nshots)\n",
    "        print(job.job_id()); job_monitor(job)\n",
    "        execution_time = job.time_per_step()\n",
    "        print(\"Tempo de execução:\", execution_time)\n",
    "        jobs_ids_WZ_in.append(job.job_id())\n",
    "        qstf = StateTomographyFitter(job.result(), qstc)\n",
    "        #\n",
    "        # rho\n",
    "        #\n",
    "        rhoWZ_AbWZ_in[j] = qstf.fit(method='lstsq')\n",
    "        print('j = {:2d}  - theta = {}'.format(j, th[j]))\n",
    "        #\n",
    "except:\n",
    "    print(\"\\n\\nErro detectado: \", sys.exc_info()[1])\n",
    "winsound.Beep(1000, 200)   # Frequência de 1000 Hz e duração de 200 ms\n",
    "winsound.Beep(1000, 200)   # Frequência de 1000 Hz e duração de 200 ms\n",
    "winsound.Beep(1000, 200)   # Frequência de 1000 Hz e duração de 200 ms\n",
    "winsound.Beep(1000, 1000)  # Frequência de 1000 Hz e duração de 200 ms\n",
    "end_time2 = time.time()\n",
    "winsound.Beep(1000, 1000)  # Frequência de 1000 Hz e duração de 200 ms\n",
    "winsound.Beep(1000, 200)   # Frequência de 1000 Hz e duração de 200 ms\n",
    "winsound.Beep(1000, 200)   # Frequência de 1000 Hz e duração de 200 ms\n",
    "winsound.Beep(1000, 200)   # Frequência de 1000 Hz e duração de 200 ms"
   ]
  },
  {
   "cell_type": "code",
   "execution_count": 41,
   "id": "bd760559",
   "metadata": {},
   "outputs": [
    {
     "name": "stdout",
     "output_type": "stream",
     "text": [
      "Tempo de execução: 1404.95 segundos\n",
      "Tempo de execução: 23.42 minutos\n",
      "Tempo de execução: 0.39 horas\n",
      "Tempo de execução por job: 0.05 horas \n"
     ]
    }
   ],
   "source": [
    "execution_time_seg = end_time2 - start_time\n",
    "print(\"Tempo de execução:\", round(execution_time_seg, 2), \"segundos\")\n",
    "execution_time_min = execution_time_seg/60\n",
    "print(\"Tempo de execução:\", round(execution_time_min, 2), \"minutos\")\n",
    "execution_time_h = execution_time_min/60\n",
    "print(\"Tempo de execução:\", round(execution_time_h, 2), \"horas\")\n",
    "execution_time_1_h = execution_time_h/j\n",
    "print(\"Tempo de execução por job:\", round(execution_time_1_h, 2), \"horas \")"
   ]
  },
  {
   "cell_type": "code",
   "execution_count": 42,
   "id": "34c2d52c",
   "metadata": {
    "scrolled": false
   },
   "outputs": [
    {
     "name": "stdout",
     "output_type": "stream",
     "text": [
      "ibm_nairobi\n",
      "j =  8  - theta = 1.2566370614359172\n",
      "chn7f8cnsmp20v4ndlsg\n",
      "Job Status: job has successfully run\n",
      "Tempo de execução: {'CREATING': datetime.datetime(2023, 5, 24, 17, 46, 20, 978000, tzinfo=tzlocal())}\n",
      "\n",
      "j =  8  - theta = 1.2566370614359172\n",
      "\n",
      "j = 10  - theta = 1.5707963267948966\n",
      "chn7ps78rmtc64pmq6b0\n",
      "Job Status: job is queued (None)\n",
      "\n",
      "Erro detectado:  \"'400 Client Error: Bad Request for url: https://api-qcon.quantum-computing.ibm.com/api/Network/ibm-q/Groups/open/Projects/main/Jobs/chn7ps78rmtc64pmq6b0/status/v/1. Error in runtime client calling method getJob: Error executing GET https://runtime-us-east.quantum-computing.ibm.com/jobs/chn7ps78rmtc64pmq6b0 {No request body}, Error code: 2413.'\"\n",
      "\n",
      "\n",
      "\n",
      "j =  8  - theta = 1.2566370614359172\n",
      "chn7qeinajhpa63gr0jg\n",
      "Job Status: job is queued (None)\n",
      "\n",
      "Erro detectado:  \"'400 Client Error: Bad Request for url: https://api-qcon.quantum-computing.ibm.com/api/Network/ibm-q/Groups/open/Projects/main/Jobs/chn7qeinajhpa63gr0jg/status/v/1. Error in runtime client calling method getJob: Error executing GET https://runtime-us-east.quantum-computing.ibm.com/jobs/chn7qeinajhpa63gr0jg {No request body}, Error code: 2413.'\"\n"
     ]
    }
   ],
   "source": [
    "print(device)\n",
    "start_time = time.time()\n",
    "try:\n",
    "    try:\n",
    "        j=8\n",
    "        print('j = {:2d}  - theta = {}'.format(j, th[j]))\n",
    "        qr = qiskit.QuantumRegister(6); qc = qiskit.QuantumCircuit(qr)\n",
    "        #\n",
    "        # Circuit\n",
    "        #\n",
    "        qc_QCRWZ_in_ = qc_QCRWZ_in(th[j]-0.003); qc.append(qc_QCRWZ_in_, [qr[0],qr[1],qr[2],qr[3],qr[4],qr[5]])\n",
    "        #\n",
    "        # Tomography\n",
    "        #\n",
    "        qstc = state_tomography_circuits(qc, [qr[5],qr[4],qr[3],qr[1]])  # rho_AbWZ qr[5],qr[4],qr[3],qr[1]\n",
    "        job = qiskit.execute(qstc, backend = device, shots=nshots)\n",
    "        print(job.job_id()); job_monitor(job)\n",
    "        execution_time = job.time_per_step()\n",
    "        print(\"Tempo de execução:\", execution_time)\n",
    "        jobs_ids_WZ_in.append(job.job_id())\n",
    "        qstf = StateTomographyFitter(job.result(), qstc)\n",
    "        #\n",
    "        # rho\n",
    "        #\n",
    "        rhoWZ_AbWZ_in[j] = qstf.fit(method='lstsq')\n",
    "        print('\\nj = {:2d}  - theta = {}'.format(j, th[j]))\n",
    "        #\n",
    "        j=10\n",
    "        print('\\nj = {:2d}  - theta = {}'.format(j, th[j]))\n",
    "        qr = qiskit.QuantumRegister(6); qc = qiskit.QuantumCircuit(qr)\n",
    "        #\n",
    "        # Circuit\n",
    "        #\n",
    "        qc_QCRWZ_in_ = qc_QCRWZ_in(th[j]-0.003); qc.append(qc_QCRWZ_in_, [qr[0],qr[1],qr[2],qr[3],qr[4],qr[5]])\n",
    "        #\n",
    "        # Tomography\n",
    "        #\n",
    "        qstc = state_tomography_circuits(qc, [qr[5],qr[4],qr[3],qr[1]])  # rho_AbWZ qr[5],qr[4],qr[3],qr[1]\n",
    "        job = qiskit.execute(qstc, backend = device, shots=nshots)\n",
    "        print(job.job_id()); job_monitor(job)\n",
    "        execution_time = job.time_per_step()\n",
    "        print(\"Tempo de execução:\", execution_time)\n",
    "        jobs_ids_WZ_in.append(job.job_id())\n",
    "        qstf = StateTomographyFitter(job.result(), qstc)\n",
    "        #\n",
    "        # rho\n",
    "        #\n",
    "        rhoWZ_AbWZ_in[j] = qstf.fit(method='lstsq')\n",
    "        print('\\nj = {:2d}  - theta = {}'.format(j, th[j]))\n",
    "        #\n",
    "    except:\n",
    "        print(\"\\n\\nErro detectado: \", sys.exc_info()[1])\n",
    "        print(\"\\n\")\n",
    "        j=8\n",
    "        print('\\nj = {:2d}  - theta = {}'.format(j, th[j]))\n",
    "        qr = qiskit.QuantumRegister(6); qc = qiskit.QuantumCircuit(qr)\n",
    "        #\n",
    "        # Circuit\n",
    "        #\n",
    "        qc_QCRWZ_in_ = qc_QCRWZ_in(th[j]-0.003); qc.append(qc_QCRWZ_in_, [qr[0],qr[1],qr[2],qr[3],qr[4],qr[5]])\n",
    "        #\n",
    "        # Tomography\n",
    "        #\n",
    "        qstc = state_tomography_circuits(qc, [qr[5],qr[4],qr[3],qr[1]])  # rho_AbWZ qr[5],qr[4],qr[3],qr[1]\n",
    "        job = qiskit.execute(qstc, backend = device, shots=nshots)\n",
    "        print(job.job_id()); job_monitor(job)\n",
    "        execution_time = job.time_per_step()\n",
    "        print(\"Tempo de execução:\", execution_time)\n",
    "        jobs_ids_WZ_in.append(job.job_id())\n",
    "        qstf = StateTomographyFitter(job.result(), qstc)\n",
    "        #\n",
    "        # rho\n",
    "        #\n",
    "        rhoWZ_AbWZ_in[j] = qstf.fit(method='lstsq')\n",
    "        print('j = {:2d}  - theta = {}'.format(j, th[j]))\n",
    "        #\n",
    "        j=10\n",
    "        print('j = {:2d}  - theta = {}'.format(j, th[j]))\n",
    "        qr = qiskit.QuantumRegister(6); qc = qiskit.QuantumCircuit(qr)\n",
    "        #\n",
    "        # Circuit\n",
    "        #\n",
    "        qc_QCRWZ_in_ = qc_QCRWZ_in(th[j]-0.003); qc.append(qc_QCRWZ_in_, [qr[0],qr[1],qr[2],qr[3],qr[4],qr[5]])\n",
    "        #\n",
    "        # Tomography\n",
    "        #\n",
    "        qstc = state_tomography_circuits(qc, [qr[5],qr[4],qr[3],qr[1]])  # rho_AbWZ qr[5],qr[4],qr[3],qr[1]\n",
    "        job = qiskit.execute(qstc, backend = device, shots=nshots)\n",
    "        print(job.job_id()); job_monitor(job)\n",
    "        execution_time = job.time_per_step()\n",
    "        print(\"Tempo de execução:\", execution_time)\n",
    "        jobs_ids_WZ_in.append(job.job_id())\n",
    "        qstf = StateTomographyFitter(job.result(), qstc)\n",
    "        #\n",
    "        # rho\n",
    "        #\n",
    "        rhoWZ_AbWZ_in[j] = qstf.fit(method='lstsq')\n",
    "        print('j = {:2d}  - theta = {}'.format(j, th[j]))\n",
    "        #\n",
    "except:\n",
    "    print(\"\\n\\nErro detectado: \", sys.exc_info()[1])\n",
    "winsound.Beep(1000, 200)   # Frequência de 1000 Hz e duração de 200 ms\n",
    "winsound.Beep(1000, 200)   # Frequência de 1000 Hz e duração de 200 ms\n",
    "winsound.Beep(1000, 200)   # Frequência de 1000 Hz e duração de 200 ms\n",
    "winsound.Beep(1000, 1000)  # Frequência de 1000 Hz e duração de 200 ms\n",
    "end_time2 = time.time()\n",
    "winsound.Beep(1000, 1000)  # Frequência de 1000 Hz e duração de 200 ms\n",
    "winsound.Beep(1000, 200)   # Frequência de 1000 Hz e duração de 200 ms\n",
    "winsound.Beep(1000, 200)   # Frequência de 1000 Hz e duração de 200 ms\n",
    "winsound.Beep(1000, 200)   # Frequência de 1000 Hz e duração de 200 ms"
   ]
  },
  {
   "cell_type": "code",
   "execution_count": 43,
   "id": "ef7fa750",
   "metadata": {},
   "outputs": [
    {
     "name": "stdout",
     "output_type": "stream",
     "text": [
      "Tempo de execução: 3426.62 segundos\n",
      "Tempo de execução: 57.11 minutos\n",
      "Tempo de execução: 0.95 horas\n",
      "Tempo de execução por job: 0.12 horas \n"
     ]
    }
   ],
   "source": [
    "execution_time_seg = end_time2 - start_time\n",
    "print(\"Tempo de execução:\", round(execution_time_seg, 2), \"segundos\")\n",
    "execution_time_min = execution_time_seg/60\n",
    "print(\"Tempo de execução:\", round(execution_time_min, 2), \"minutos\")\n",
    "execution_time_h = execution_time_min/60\n",
    "print(\"Tempo de execução:\", round(execution_time_h, 2), \"horas\")\n",
    "execution_time_1_h = execution_time_h/j\n",
    "print(\"Tempo de execução por job:\", round(execution_time_1_h, 2), \"horas \")"
   ]
  },
  {
   "cell_type": "code",
   "execution_count": 44,
   "id": "990a71ac",
   "metadata": {
    "scrolled": true
   },
   "outputs": [
    {
     "name": "stdout",
     "output_type": "stream",
     "text": [
      "ibm_nairobi\n",
      "\n",
      "j = 10  - theta = 1.5707963267948966\n",
      "chn93t0uhh1ldco1nm40\n",
      "Job Status: job is queued (None)j = 10  - theta = 1.5707963267948966\n",
      "\n",
      "\n",
      "Erro detectado:  \n"
     ]
    }
   ],
   "source": [
    "print(device)\n",
    "start_time = time.time()\n",
    "try:\n",
    "    try:\n",
    "        j=10\n",
    "        print('\\nj = {:2d}  - theta = {}'.format(j, th[j]))\n",
    "        qr = qiskit.QuantumRegister(6); qc = qiskit.QuantumCircuit(qr)\n",
    "        #\n",
    "        # Circuit\n",
    "        #\n",
    "        qc_QCRWZ_in_ = qc_QCRWZ_in(th[j]-0.003); qc.append(qc_QCRWZ_in_, [qr[0],qr[1],qr[2],qr[3],qr[4],qr[5]])\n",
    "        #\n",
    "        # Tomography\n",
    "        #\n",
    "        qstc = state_tomography_circuits(qc, [qr[5],qr[4],qr[3],qr[1]])  # rho_AbWZ qr[5],qr[4],qr[3],qr[1]\n",
    "        job = qiskit.execute(qstc, backend = device, shots=nshots)\n",
    "        print(job.job_id()); job_monitor(job)\n",
    "        execution_time = job.time_per_step()\n",
    "        print(\"Tempo de execução:\", execution_time)\n",
    "        jobs_ids_WZ_in.append(job.job_id())\n",
    "        qstf = StateTomographyFitter(job.result(), qstc)\n",
    "        #\n",
    "        # rho\n",
    "        #\n",
    "        rhoWZ_AbWZ_in[j] = qstf.fit(method='lstsq')\n",
    "        print('\\nj = {:2d}  - theta = {}'.format(j, th[j]))\n",
    "        #\n",
    "    except:\n",
    "        j=10\n",
    "        print('j = {:2d}  - theta = {}'.format(j, th[j]))\n",
    "        qr = qiskit.QuantumRegister(6); qc = qiskit.QuantumCircuit(qr)\n",
    "        #\n",
    "        # Circuit\n",
    "        #\n",
    "        qc_QCRWZ_in_ = qc_QCRWZ_in(th[j]-0.003); qc.append(qc_QCRWZ_in_, [qr[0],qr[1],qr[2],qr[3],qr[4],qr[5]])\n",
    "        #\n",
    "        # Tomography\n",
    "        #\n",
    "        qstc = state_tomography_circuits(qc, [qr[5],qr[4],qr[3],qr[1]])  # rho_AbWZ qr[5],qr[4],qr[3],qr[1]\n",
    "        job = qiskit.execute(qstc, backend = device, shots=nshots)\n",
    "        print(job.job_id()); job_monitor(job)\n",
    "        execution_time = job.time_per_step()\n",
    "        print(\"Tempo de execução:\", execution_time)\n",
    "        jobs_ids_WZ_in.append(job.job_id())\n",
    "        qstf = StateTomographyFitter(job.result(), qstc)\n",
    "        #\n",
    "        # rho\n",
    "        #\n",
    "        rhoWZ_AbWZ_in[j] = qstf.fit(method='lstsq')\n",
    "        print('j = {:2d}  - theta = {}'.format(j, th[j]))\n",
    "        #\n",
    "except:\n",
    "    print(\"\\n\\nErro detectado: \", sys.exc_info()[1])\n",
    "winsound.Beep(1000, 200)   # Frequência de 1000 Hz e duração de 200 ms\n",
    "winsound.Beep(1000, 200)   # Frequência de 1000 Hz e duração de 200 ms\n",
    "winsound.Beep(1000, 200)   # Frequência de 1000 Hz e duração de 200 ms\n",
    "winsound.Beep(1000, 1000)  # Frequência de 1000 Hz e duração de 200 ms\n",
    "end_time2 = time.time()\n",
    "winsound.Beep(1000, 1000)  # Frequência de 1000 Hz e duração de 200 ms\n",
    "winsound.Beep(1000, 200)   # Frequência de 1000 Hz e duração de 200 ms\n",
    "winsound.Beep(1000, 200)   # Frequência de 1000 Hz e duração de 200 ms\n",
    "winsound.Beep(1000, 200)   # Frequência de 1000 Hz e duração de 200 ms"
   ]
  },
  {
   "cell_type": "code",
   "execution_count": 45,
   "id": "8f7945c2",
   "metadata": {},
   "outputs": [
    {
     "name": "stdout",
     "output_type": "stream",
     "text": [
      "Tempo de execução: 7186.31 segundos\n",
      "Tempo de execução: 119.77 minutos\n",
      "Tempo de execução: 2.0 horas\n",
      "Tempo de execução por job: 0.2 horas \n"
     ]
    }
   ],
   "source": [
    "execution_time_seg = end_time2 - start_time\n",
    "print(\"Tempo de execução:\", round(execution_time_seg, 2), \"segundos\")\n",
    "execution_time_min = execution_time_seg/60\n",
    "print(\"Tempo de execução:\", round(execution_time_min, 2), \"minutos\")\n",
    "execution_time_h = execution_time_min/60\n",
    "print(\"Tempo de execução:\", round(execution_time_h, 2), \"horas\")\n",
    "execution_time_1_h = execution_time_h/j\n",
    "print(\"Tempo de execução por job:\", round(execution_time_1_h, 2), \"horas \")"
   ]
  },
  {
   "cell_type": "code",
   "execution_count": 31,
   "id": "fc32c8b6",
   "metadata": {
    "scrolled": false
   },
   "outputs": [
    {
     "data": {
      "text/plain": [
       "['chflp5g4sb77opise4h0',\n",
       " 'chfmupf9targ2vqg4ovg',\n",
       " 'chfn93vppn69h5qgh9bg',\n",
       " 'chfq84nppn69h5qidi8g',\n",
       " 'chfu8ar66hmpifvk570g',\n",
       " 'chg26i84sb77opj32t40',\n",
       " 'chg4bpj66hmpifvmr7cg',\n",
       " 'chg4vseo5i9gdbbtoivg',\n",
       " 'chg5jrnppn69h5qnm5i0',\n",
       " 'chg9h2vppn69h5qps3r0',\n",
       " 'chg9vh04sb77opj7690g',\n",
       " 'chga4deo5i9gdbc0mbg0',\n",
       " 'chgaab7ppn69h5qqcmcg',\n",
       " 'chgafor66hmpifvq95t0',\n",
       " 'chgak7g4sb77opj7jo0g',\n",
       " 'chgaqmf9targ2vqqk010',\n",
       " 'chgb26g4sb77opj7sjjg',\n",
       " 'chgb6c4p8f687ohg1q3g',\n",
       " 'chgbb9j66hmpifvqqjdg',\n",
       " 'chgdhefppn69h5qsdej0',\n",
       " 'chgfdug4sb77opjalt90']"
      ]
     },
     "execution_count": 31,
     "metadata": {},
     "output_type": "execute_result"
    }
   ],
   "source": [
    "jobs_ids_WZ_in"
   ]
  },
  {
   "cell_type": "code",
   "execution_count": 13,
   "id": "e154e4cd",
   "metadata": {},
   "outputs": [],
   "source": [
    "f = open(\"jobs_ids_WZ_in.txt\", \"w\")\n",
    "f.write(str(jobs_ids_WZ_in))\n",
    "f.close()"
   ]
  },
  {
   "cell_type": "markdown",
   "id": "f6269054",
   "metadata": {},
   "source": [
    "### Retrieve"
   ]
  },
  {
   "cell_type": "code",
   "execution_count": 12,
   "id": "5c997a7d",
   "metadata": {},
   "outputs": [],
   "source": [
    "f = open(\"jobs_ids_WZ_in.txt\",\"r\")\n",
    "list_ids_WZ_in_ = f.read().replace(\"'\",\"\").replace(\" \",\"\").replace(\"[\",\"\").replace(\"]\",\"\").split(\",\")\n",
    "f.close()"
   ]
  },
  {
   "cell_type": "code",
   "execution_count": 14,
   "id": "f6432302",
   "metadata": {
    "scrolled": false
   },
   "outputs": [
    {
     "data": {
      "text/plain": [
       "(['chflp5g4sb77opise4h0',\n",
       "  'chfmupf9targ2vqg4ovg',\n",
       "  'chfn93vppn69h5qgh9bg',\n",
       "  'chfq84nppn69h5qidi8g',\n",
       "  'chfu8ar66hmpifvk570g',\n",
       "  'chg26i84sb77opj32t40',\n",
       "  'chg4bpj66hmpifvmr7cg',\n",
       "  'chg4vseo5i9gdbbtoivg',\n",
       "  'chg5jrnppn69h5qnm5i0',\n",
       "  'chg9h2vppn69h5qps3r0',\n",
       "  'chg9vh04sb77opj7690g',\n",
       "  'chga4deo5i9gdbc0mbg0',\n",
       "  'chgaab7ppn69h5qqcmcg',\n",
       "  'chgafor66hmpifvq95t0',\n",
       "  'chgak7g4sb77opj7jo0g',\n",
       "  'chgaqmf9targ2vqqk010',\n",
       "  'chgb26g4sb77opj7sjjg',\n",
       "  'chgb6c4p8f687ohg1q3g',\n",
       "  'chgbb9j66hmpifvqqjdg',\n",
       "  'chgdhefppn69h5qsdej0',\n",
       "  'chgfdug4sb77opjalt90'],\n",
       " 21)"
      ]
     },
     "execution_count": 14,
     "metadata": {},
     "output_type": "execute_result"
    }
   ],
   "source": [
    "list_ids_WZ_in_, len(list_ids_WZ_in_)"
   ]
  },
  {
   "cell_type": "code",
   "execution_count": 15,
   "id": "4ca75806",
   "metadata": {},
   "outputs": [],
   "source": [
    "thmax = math.pi;   dth = thmax/20; th = np.arange(0, thmax+dth, dth); d = th.shape[0]\n",
    "ret_rhoWZ_AbWZ_in            = np.zeros(th.shape[0], dtype=object)\n",
    "ret_rhoWZ_AbWZ_out           = np.zeros(th.shape[0], dtype=object)\n",
    "ret_rhoWZ_00WZ_in            = np.zeros(th.shape[0], dtype=object)\n",
    "ret_rhoWZ_00WZ_out           = np.zeros(th.shape[0], dtype=object)\n",
    "ret_Phi_WZ_00WZ_in           = np.zeros(th.shape[0], dtype=object)\n",
    "ret_Phi_WZ_00WZ_out          = np.zeros(th.shape[0], dtype=object)\n",
    "ret_Irr_WZ_in                = np.zeros(th.shape[0])\n",
    "ret_Irr_WZ_out               = np.zeros(th.shape[0])\n",
    "jobs_ids_WZ_in = []; jobs_ids_WZ_out = []"
   ]
  },
  {
   "cell_type": "code",
   "execution_count": 16,
   "id": "d8dd2bfe",
   "metadata": {},
   "outputs": [
    {
     "name": "stdout",
     "output_type": "stream",
     "text": [
      "ibm_nairobi\n",
      "chflp5g4sb77opise4h0\n",
      "chflp5g4sb77opise4h0\n",
      "j =  0  - theta = 0.0\n",
      "chfmupf9targ2vqg4ovg\n",
      "chfmupf9targ2vqg4ovg\n",
      "j =  1  - theta = 0.15707963267948966\n",
      "chfn93vppn69h5qgh9bg\n",
      "chfn93vppn69h5qgh9bg\n",
      "j =  2  - theta = 0.3141592653589793\n",
      "chfq84nppn69h5qidi8g\n",
      "chfq84nppn69h5qidi8g\n",
      "j =  3  - theta = 0.47123889803846897\n",
      "chfu8ar66hmpifvk570g\n",
      "chfu8ar66hmpifvk570g\n",
      "j =  4  - theta = 0.6283185307179586\n",
      "chg26i84sb77opj32t40\n",
      "chg26i84sb77opj32t40\n",
      "j =  5  - theta = 0.7853981633974483\n",
      "chg4bpj66hmpifvmr7cg\n",
      "chg4bpj66hmpifvmr7cg\n",
      "j =  6  - theta = 0.9424777960769379\n",
      "chg4vseo5i9gdbbtoivg\n",
      "chg4vseo5i9gdbbtoivg\n",
      "j =  7  - theta = 1.0995574287564276\n",
      "chg5jrnppn69h5qnm5i0\n",
      "chg5jrnppn69h5qnm5i0\n",
      "j =  8  - theta = 1.2566370614359172\n",
      "chg9h2vppn69h5qps3r0\n",
      "chg9h2vppn69h5qps3r0\n",
      "j =  9  - theta = 1.413716694115407\n",
      "chg9vh04sb77opj7690g\n",
      "chg9vh04sb77opj7690g\n",
      "j = 10  - theta = 1.5707963267948966\n",
      "chga4deo5i9gdbc0mbg0\n",
      "chga4deo5i9gdbc0mbg0\n",
      "j = 11  - theta = 1.7278759594743862\n",
      "chgaab7ppn69h5qqcmcg\n",
      "chgaab7ppn69h5qqcmcg\n",
      "j = 12  - theta = 1.8849555921538759\n",
      "chgafor66hmpifvq95t0\n",
      "chgafor66hmpifvq95t0\n",
      "j = 13  - theta = 2.0420352248333655\n",
      "chgak7g4sb77opj7jo0g\n",
      "chgak7g4sb77opj7jo0g\n",
      "j = 14  - theta = 2.199114857512855\n",
      "chgaqmf9targ2vqqk010\n",
      "chgaqmf9targ2vqqk010\n",
      "j = 15  - theta = 2.356194490192345\n",
      "chgb26g4sb77opj7sjjg\n",
      "chgb26g4sb77opj7sjjg\n",
      "j = 16  - theta = 2.5132741228718345\n",
      "chgb6c4p8f687ohg1q3g\n",
      "chgb6c4p8f687ohg1q3g\n",
      "j = 17  - theta = 2.670353755551324\n",
      "chgbb9j66hmpifvqqjdg\n",
      "chgbb9j66hmpifvqqjdg\n",
      "j = 18  - theta = 2.827433388230814\n",
      "chgdhefppn69h5qsdej0\n",
      "chgdhefppn69h5qsdej0\n",
      "j = 19  - theta = 2.9845130209103035\n",
      "chgfdug4sb77opjalt90\n",
      "chgfdug4sb77opjalt90\n",
      "j = 20  - theta = 3.141592653589793\n"
     ]
    }
   ],
   "source": [
    "print(device)\n",
    "for j in range(0, d):\n",
    "    print(list_ids_WZ_in_[j])\n",
    "    qr = qiskit.QuantumRegister(6); qc = qiskit.QuantumCircuit(qr)\n",
    "    qc_QCRWZ_in_ = qc_QCRWZ_in(th[j]); qc.append(qc_QCRWZ_in_, [qr[0],qr[1],qr[2],qr[3],qr[4],qr[5]])\n",
    "    job_ret_WZ_in = device.retrieve_job(list_ids_WZ_in_[j])\n",
    "    qstc = state_tomography_circuits(qc, [qr[5],qr[4],qr[3],qr[1]])  # rho_AbWZ qr[5],qr[4],qr[3],qr[1]\n",
    "    print(job_ret_WZ_in.job_id())\n",
    "    qstf = StateTomographyFitter(job_ret_WZ_in.result(), qstc)\n",
    "    #\n",
    "    # rho\n",
    "    #\n",
    "    ret_rhoWZ_AbWZ_in[j] = qstf.fit(method='lstsq')\n",
    "    print('j = {:2d}  - theta = {}'.format(j, th[j]))"
   ]
  },
  {
   "cell_type": "markdown",
   "id": "9e0904b8",
   "metadata": {},
   "source": [
    "### Cálculos\n",
    "\n",
    "#### QWP$_{in}$"
   ]
  },
  {
   "cell_type": "code",
   "execution_count": 22,
   "id": "5cb266f0",
   "metadata": {},
   "outputs": [
    {
     "name": "stdout",
     "output_type": "stream",
     "text": [
      "0.024420550505978245\n",
      "0.05733418121856726\n",
      "0.1333744000036895\n",
      "0.21022785866895555\n",
      "0.2841335172323498\n",
      "0.36763341335472643\n",
      "0.4227482538229752\n",
      "0.4307531447131727\n",
      "0.42883546546386464\n",
      "0.4856804857055659\n",
      "0.4191968610631909\n",
      "0.36736475710016636\n",
      "0.23101635290130373\n",
      "0.2095876168225117\n",
      "0.14596856189614593\n",
      "0.14703762708140078\n",
      "0.05534093262043516\n",
      "0.04230139529900967\n",
      "0.021099727929467904\n",
      "0.02569834393920778\n",
      "0.03390183138298353\n"
     ]
    }
   ],
   "source": [
    "for j in range(0,d):\n",
    "    ret_rhoWZ_00WZ_in[j] = projM_np(4, '00', ret_rhoWZ_AbWZ_in[j])\n",
    "    ret_Phi_WZ_00WZ_in[j] = dephasing_map_2qubits_np(ret_rhoWZ_00WZ_in[j])\n",
    "    ret_Irr_WZ_in[j] = entropy(ret_Phi_WZ_00WZ_in[j]) - entropy(ret_rhoWZ_00WZ_in[j])\n",
    "    print(ret_Irr_WZ_in[j])"
   ]
  },
  {
   "cell_type": "markdown",
   "id": "483a570b",
   "metadata": {},
   "source": [
    "### Simulation"
   ]
  },
  {
   "cell_type": "code",
   "execution_count": 23,
   "id": "f4dc9fb9",
   "metadata": {},
   "outputs": [],
   "source": [
    "thmax = math.pi;   dth = thmax/20; th = np.arange(0, thmax+dth, dth); d = th.shape[0]\n",
    "sim_rhoWZ_AbWZ_in            = np.zeros(th.shape[0], dtype=object)\n",
    "sim_rhoWZ_AbWZ_out           = np.zeros(th.shape[0], dtype=object)\n",
    "sim_rhoWZ_00WZ_in            = np.zeros(th.shape[0], dtype=object)\n",
    "sim_rhoWZ_00WZ_out           = np.zeros(th.shape[0], dtype=object)\n",
    "sim_Phi_WZ_00WZ_in           = np.zeros(th.shape[0], dtype=object)\n",
    "sim_Phi_WZ_00WZ_out          = np.zeros(th.shape[0], dtype=object)\n",
    "sim_Irr_WZ_in                = np.zeros(th.shape[0])\n",
    "sim_Irr_WZ_out               = np.zeros(th.shape[0])"
   ]
  },
  {
   "cell_type": "markdown",
   "id": "07098972",
   "metadata": {},
   "source": [
    "<img src = 'setup_realism.jpg' width = '90%'>"
   ]
  },
  {
   "cell_type": "code",
   "execution_count": 24,
   "id": "97b5a176",
   "metadata": {
    "scrolled": true
   },
   "outputs": [
    {
     "data": {
      "image/png": "[encoded data removed]",
      "text/plain": [
       "<Figure size 674.749x374.578 with 1 Axes>"
      ]
     },
     "execution_count": 24,
     "metadata": {},
     "output_type": "execute_result"
    }
   ],
   "source": [
    "def qc_QCRWZ_in(th):\n",
    "    qr = qiskit.QuantumRegister(6); qc = qiskit.QuantumCircuit(qr, name = 'QCR')\n",
    "    qc_BBO_p_ = qc_BBO_p(th); qc.append(qc_BBO_p_, [qr[1],qr[2]])             # BBO_p\n",
    "    qc_QWP_ = qc_QWP(); qc.append(qc_QWP_, [qr[1]])                           # QWP\n",
    "    qc_PBS_ = qc_PBS(); qc.append(qc_PBS_, [qr[1],qr[0]])                     # PBS_A\n",
    "    # IMZ\n",
    "    qc_PBS_ = qc_PBS(); qc.append(qc_PBS_, [qr[2],qr[3]])                     # PBS\n",
    "    qc_HWP_ = qc_HWP(); qc.append(qc_HWP_, [qr[2],qr[3]])                     # HWP\n",
    "    qc.x(4); qc.x(5)                                                          # Atoms's initial state\n",
    "    qc_AtmInt_ = qc_AtmInt(); qc.append(qc_AtmInt_, [qr[3],qr[4],qr[5]])      # Atoms' interaction\n",
    "    qc_M_ = qc_M(); qc.append(qc_M_, [qr[3]])                                 # Mirrors\n",
    "    #qc_PS_ = qc_PS(ph); qc.append(qc_PS_, [qr[3]])                           # Phase\n",
    "    qc_BS_ = qc_BS(); qc.append(qc_BS_, [qr[3]])                              # BS\n",
    "    return qc\n",
    "qc_QCRWZ_in_ = qc_QCRWZ_in(math.pi); qc_QCRWZ_in_.draw(output = 'mpl', scale = 0.7)"
   ]
  },
  {
   "cell_type": "code",
   "execution_count": 25,
   "id": "155f3952",
   "metadata": {
    "scrolled": false
   },
   "outputs": [
    {
     "name": "stdout",
     "output_type": "stream",
     "text": [
      "j =  0  - theta = 0.0\n",
      "j =  1  - theta = 0.15707963267948966\n",
      "j =  2  - theta = 0.3141592653589793\n",
      "j =  3  - theta = 0.47123889803846897\n",
      "j =  4  - theta = 0.6283185307179586\n",
      "j =  5  - theta = 0.7853981633974483\n",
      "j =  6  - theta = 0.9424777960769379\n",
      "j =  7  - theta = 1.0995574287564276\n",
      "j =  8  - theta = 1.2566370614359172\n",
      "j =  9  - theta = 1.413716694115407\n",
      "j = 10  - theta = 1.5707963267948966\n",
      "j = 11  - theta = 1.7278759594743862\n",
      "j = 12  - theta = 1.8849555921538759\n",
      "j = 13  - theta = 2.0420352248333655\n",
      "j = 14  - theta = 2.199114857512855\n",
      "j = 15  - theta = 2.356194490192345\n",
      "j = 16  - theta = 2.5132741228718345\n",
      "j = 17  - theta = 2.670353755551324\n",
      "j = 18  - theta = 2.827433388230814\n",
      "j = 19  - theta = 2.9845130209103035\n",
      "j = 20  - theta = 3.141592653589793\n"
     ]
    }
   ],
   "source": [
    "for j in range(0,d):\n",
    "    qr = qiskit.QuantumRegister(6); qc = qiskit.QuantumCircuit(qr)\n",
    "    #\n",
    "    # Circuit\n",
    "    #\n",
    "    qc_QCRWZ_in_ = qc_QCRWZ_in(th[j]); qc.append(qc_QCRWZ_in_, [qr[0],qr[1],qr[2],qr[3],qr[4],qr[5]])\n",
    "    #\n",
    "    # Tomography\n",
    "    #\n",
    "    qstc = state_tomography_circuits(qc, [qr[5],qr[4],qr[3],qr[1]])  # rho_AbWZ qr[5],qr[4],qr[3],qr[1]\n",
    "    job = qiskit.execute(qstc, backend = simulator, shots=nshots)\n",
    "    jobs_ids_WZ_in.append(job.job_id())\n",
    "    qstf = StateTomographyFitter(job.result(), qstc)\n",
    "    #\n",
    "    # rho\n",
    "    #\n",
    "    sim_rhoWZ_AbWZ_in[j] = qstf.fit(method='lstsq')\n",
    "    print('j = {:2d}  - theta = {}'.format(j, th[j]))"
   ]
  },
  {
   "cell_type": "markdown",
   "id": "67796966",
   "metadata": {},
   "source": [
    "### Cálculos\n",
    "\n",
    "#### QWP$_{in}$"
   ]
  },
  {
   "cell_type": "code",
   "execution_count": 26,
   "id": "3e89e109",
   "metadata": {},
   "outputs": [
    {
     "name": "stdout",
     "output_type": "stream",
     "text": [
      "0.001755080401836133\n",
      "0.059943430972134046\n",
      "0.16271519088465297\n",
      "0.2967846431106675\n",
      "0.43860294958693014\n",
      "0.5807737468291072\n",
      "0.7101818661218903\n",
      "0.8229066455462289\n",
      "0.9024423068751737\n",
      "0.957210777927237\n",
      "0.9690799759990308\n",
      "0.9657914910366963\n",
      "0.9129017547716627\n",
      "0.8190491980326842\n",
      "0.7056069253730791\n",
      "0.5860723471580642\n",
      "0.45427586871836273\n",
      "0.3024483212464364\n",
      "0.1638529290700955\n",
      "0.06303072246408886\n",
      "0.0023820618456301956\n"
     ]
    }
   ],
   "source": [
    "for j in range(0,d):\n",
    "    sim_rhoWZ_00WZ_in[j] = projM_np(4, '00', sim_rhoWZ_AbWZ_in[j])\n",
    "    sim_Phi_WZ_00WZ_in[j] = dephasing_map_2qubits_np(sim_rhoWZ_00WZ_in[j])\n",
    "    sim_Irr_WZ_in[j] = entropy(sim_Phi_WZ_00WZ_in[j]) - entropy(sim_rhoWZ_00WZ_in[j])\n",
    "    print(sim_Irr_WZ_in[j])"
   ]
  },
  {
   "cell_type": "markdown",
   "id": "0fdaeff1",
   "metadata": {},
   "source": [
    "## BBO$_{p}$ - QWP$_{out}$"
   ]
  },
  {
   "cell_type": "markdown",
   "id": "91a5add4",
   "metadata": {},
   "source": [
    "<img src = 'setup_realism.jpg' width = '90%'>"
   ]
  },
  {
   "cell_type": "code",
   "execution_count": 15,
   "id": "4dd32089",
   "metadata": {
    "scrolled": true
   },
   "outputs": [
    {
     "data": {
      "image/png": "[encoded data removed]",
      "text/plain": [
       "<Figure size 649.65x374.578 with 1 Axes>"
      ]
     },
     "execution_count": 15,
     "metadata": {},
     "output_type": "execute_result"
    }
   ],
   "source": [
    "def qc_QCRWZ_out(th):\n",
    "    qr = qiskit.QuantumRegister(6); qc = qiskit.QuantumCircuit(qr, name = 'QCR')\n",
    "    qc_BBO_p_ = qc_BBO_p(th); qc.append(qc_BBO_p_, [qr[1],qr[2]])             # BBO_p\n",
    "    #qc_QWP_ = qc_QWP(); qc.append(qc_QWP_, [qr[1]])                          # QWP\n",
    "    qc_PBS_ = qc_PBS(); qc.append(qc_PBS_, [qr[1],qr[0]])                     # PBS_A\n",
    "    # IMZ\n",
    "    qc_PBS_ = qc_PBS(); qc.append(qc_PBS_, [qr[2],qr[3]])                     # PBS\n",
    "    qc_HWP_ = qc_HWP(); qc.append(qc_HWP_, [qr[2],qr[3]])                     # HWP\n",
    "    qc.x(4); qc.x(5)                                                          # Atoms's initial state\n",
    "    qc_AtmInt_ = qc_AtmInt(); qc.append(qc_AtmInt_, [qr[3],qr[4],qr[5]])      # Atoms' interaction\n",
    "    qc_M_ = qc_M(); qc.append(qc_M_, [qr[3]])                                 # Mirrors\n",
    "    #qc_PS_ = qc_PS(ph); qc.append(qc_PS_, [qr[3]])                           # Phase\n",
    "    qc_BS_ = qc_BS(); qc.append(qc_BS_, [qr[3]])                              # BS\n",
    "    return qc\n",
    "qc_QCRWZ_out_ = qc_QCRWZ_out(math.pi); qc_QCRWZ_out_.draw(output = 'mpl', scale = 0.7)"
   ]
  },
  {
   "cell_type": "code",
   "execution_count": null,
   "id": "6941cefb",
   "metadata": {},
   "outputs": [],
   "source": [
    "print(device)\n",
    "start_time = time.time()\n",
    "try:\n",
    "    try:\n",
    "        for j in range(0,d):\n",
    "            qr = qiskit.QuantumRegister(6); qc = qiskit.QuantumCircuit(qr)\n",
    "            #\n",
    "            # Circuit\n",
    "            #\n",
    "            qc_QCRWZ_out_ = qc_QCRWZ_out(th[j]); qc.append(qc_QCRWZ_out_, [qr[0],qr[1],qr[2],qr[3],qr[4],qr[5]])\n",
    "            #\n",
    "            # Tomography\n",
    "            #\n",
    "            qstc = state_tomography_circuits(qc, [qr[5],qr[4],qr[3],qr[1]])  # rho_AbWZ qr[5],qr[4],qr[3],qr[1]\n",
    "            job = qiskit.execute(qstc, backend = device, shots=nshots)\n",
    "            print(job.job_id()); job_monitor(job)\n",
    "            execution_time = job.time_per_step()\n",
    "            print(\"Tempo de execução:\", execution_time)\n",
    "            jobs_ids_WZ_out.append(job.job_id())\n",
    "            qstf = StateTomographyFitter(job.result(), qstc)\n",
    "            #\n",
    "            # rho\n",
    "            #\n",
    "            rhoWZ_AbWZ_out[j] = qstf.fit(method='lstsq')\n",
    "            print('j = {:2d}  - theta = {}'.format(j, th[j]))\n",
    "    except:\n",
    "        k = j\n",
    "        print('---------------------------------------')\n",
    "        print('\\ntryexcept, k = ', k)\n",
    "        for j in range(k,d):\n",
    "            qr = qiskit.QuantumRegister(6); qc = qiskit.QuantumCircuit(qr)\n",
    "            #\n",
    "            # Circuit\n",
    "            #\n",
    "            qc_QCRWZ_out_ = qc_QCRWZ_out(th[j]); qc.append(qc_QCRWZ_out_, [qr[0],qr[1],qr[2],qr[3],qr[4],qr[5]])\n",
    "            #\n",
    "            # Tomography\n",
    "            #\n",
    "            qstc = state_tomography_circuits(qc, [qr[5],qr[4],qr[3],qr[1]])  # rho_AbWZ qr[5],qr[4],qr[3],qr[1]\n",
    "            job = qiskit.execute(qstc, backend = device, shots=nshots)\n",
    "            print(job.job_id()); job_monitor(job)\n",
    "            execution_time = job.time_per_step()\n",
    "            print(\"Tempo de execução:\", execution_time)\n",
    "            jobs_ids_WZ_out.append(job.job_id())\n",
    "            qstf = StateTomographyFitter(job.result(), qstc)\n",
    "            #\n",
    "            # rho\n",
    "            #\n",
    "            rhoWZ_AbWZ_out[j] = qstf.fit(method='lstsq')\n",
    "            print('j = {:2d}  - theta = {}'.format(j, th[j]))\n",
    "except:\n",
    "    print(\"\\n\\nErro detectado: \", sys.exc_info()[1])\n",
    "    winsound.Beep(1000, 200)   # Frequência de 1000 Hz e duração de 200 ms\n",
    "    winsound.Beep(1000, 200)   # Frequência de 1000 Hz e duração de 200 ms\n",
    "    winsound.Beep(1000, 200)   # Frequência de 1000 Hz e duração de 200 ms\n",
    "    winsound.Beep(1000, 1000)  # Frequência de 1000 Hz e duração de 200 ms\n",
    "end_time2 = time.time()\n",
    "winsound.Beep(1000, 1000)  # Frequência de 1000 Hz e duração de 200 ms\n",
    "winsound.Beep(1000, 200)   # Frequência de 1000 Hz e duração de 200 ms\n",
    "winsound.Beep(1000, 200)   # Frequência de 1000 Hz e duração de 200 ms\n",
    "winsound.Beep(1000, 200)   # Frequência de 1000 Hz e duração de 200 ms"
   ]
  },
  {
   "cell_type": "markdown",
   "id": "7aeeb061",
   "metadata": {},
   "source": [
    "j = 0 - 'chgnhbfppn69h5r1qlkg'\n",
    "\n",
    "\n",
    "j = 1 - 'chgumofppn69h5r5idhg'"
   ]
  },
  {
   "cell_type": "code",
   "execution_count": 90,
   "id": "e2e6b31d",
   "metadata": {
    "scrolled": false
   },
   "outputs": [
    {
     "name": "stdout",
     "output_type": "stream",
     "text": [
      "ibm_nairobi\n",
      "\n",
      "---------------------------------------\n",
      "\n",
      "Try-Try\n",
      "chhcchnppn69h5rfrs60\n",
      "job creation time 2023-05-15 20:54:44.243000-03:00\n",
      "Job Status: job has successfully run\n",
      "Tempo de execução: {'CREATING': datetime.datetime(2023, 5, 15, 20, 54, 43, 992000, tzinfo=tzlocal())}\n",
      "j =  2  - theta = 0.3141592653589793\n",
      "chhf2ov9targ2vrhna0g\n",
      "job creation time 2023-05-15 23:58:41.206000-03:00\n",
      "Job Status: job is queued (None)\n",
      "---------------------------------------\n",
      "\n",
      "Try-Except, k =  3\n",
      "chhfhn7ppn69h5ri4o8g\n",
      "job creation time 2023-05-16 00:30:34.513000-03:00\n",
      "Job Status: job is queued (None)\n",
      "\n",
      "Erro detectado:  \"'400 Client Error: Bad Request for url: https://api.quantum-computing.ibm.com/api/Network/ibm-q/Groups/open/Projects/main/Jobs/chhfhn7ppn69h5ri4o8g/status/v/1. Error in runtime client calling method getJob: Error executing GET https://runtime-us-east.quantum-computing.ibm.com/jobs/chhfhn7ppn69h5ri4o8g {No request body}, Error code: 2413.'\"\n"
     ]
    }
   ],
   "source": [
    "print(device)\n",
    "start_time2 = time.time()\n",
    "try:\n",
    "    try:\n",
    "        print('\\n---------------------------------------')\n",
    "        print('\\nTry-Try')\n",
    "        for j in range(2,d):\n",
    "            qr = qiskit.QuantumRegister(6); qc = qiskit.QuantumCircuit(qr)\n",
    "            #\n",
    "            # Circuit\n",
    "            #\n",
    "            qc_QCRWZ_out_ = qc_QCRWZ_out(th[j]); qc.append(qc_QCRWZ_out_, [qr[0],qr[1],qr[2],qr[3],qr[4],qr[5]])\n",
    "            #\n",
    "            # Tomography\n",
    "            #\n",
    "            qstc = state_tomography_circuits(qc, [qr[5],qr[4],qr[3],qr[1]])  # rho_AbWZ qr[5],qr[4],qr[3],qr[1]\n",
    "            job = qiskit.execute(qstc, backend = device, shots=nshots)\n",
    "            print(job.job_id())\n",
    "            print('job creation time', job.creation_date())\n",
    "            job_monitor(job)\n",
    "            jobs_ids_WZ_out.append(job.job_id())\n",
    "            print(\"Tempo de execução:\", job.time_per_step())\n",
    "            qstf = StateTomographyFitter(job.result(), qstc)\n",
    "            #\n",
    "            # rho\n",
    "            #\n",
    "            rhoWZ_AbWZ_out[j] = qstf.fit(method='lstsq')\n",
    "            print('j = {:2d}  - theta = {}'.format(j, th[j]))\n",
    "    except:\n",
    "        k = j\n",
    "        print('\\n---------------------------------------')\n",
    "        print('\\nTry-Except, k = ', k)\n",
    "        for j in range(k,d):\n",
    "            qr = qiskit.QuantumRegister(6); qc = qiskit.QuantumCircuit(qr)\n",
    "            #\n",
    "            # Circuit\n",
    "            #\n",
    "            qc_QCRWZ_out_ = qc_QCRWZ_out(th[j]); qc.append(qc_QCRWZ_out_, [qr[0],qr[1],qr[2],qr[3],qr[4],qr[5]])\n",
    "            #\n",
    "            # Tomography\n",
    "            #\n",
    "            qstc = state_tomography_circuits(qc, [qr[5],qr[4],qr[3],qr[1]])  # rho_AbWZ qr[5],qr[4],qr[3],qr[1]\n",
    "            job = qiskit.execute(qstc, backend = device, shots=nshots)\n",
    "            print(job.job_id())\n",
    "            print('job creation time', job.creation_date())\n",
    "            job_monitor(job)\n",
    "            jobs_ids_WZ_out.append(job.job_id())\n",
    "            print(\"Tempo de execução:\", job.time_per_step())\n",
    "            qstf = StateTomographyFitter(job.result(), qstc)\n",
    "            #\n",
    "            # rho\n",
    "            #\n",
    "            rhoWZ_AbWZ_out[j] = qstf.fit(method='lstsq')\n",
    "            print('j = {:2d}  - theta = {}'.format(j, th[j]))\n",
    "except:\n",
    "    print(\"\\n\\nErro detectado: \", sys.exc_info()[1])\n",
    "    winsound.Beep(1000, 200)   # Frequência de 1000 Hz e duração de 200 ms\n",
    "    winsound.Beep(1000, 200)   # Frequência de 1000 Hz e duração de 200 ms\n",
    "    winsound.Beep(1000, 200)   # Frequência de 1000 Hz e duração de 200 ms\n",
    "    winsound.Beep(1000, 1000)  # Frequência de 1000 Hz e duração de 200 ms\n",
    "end_time2 = time.time()\n",
    "winsound.Beep(1000, 1000)  # Frequência de 1000 Hz e duração de 200 ms\n",
    "winsound.Beep(1000, 200)   # Frequência de 1000 Hz e duração de 200 ms\n",
    "winsound.Beep(1000, 200)   # Frequência de 1000 Hz e duração de 200 ms\n",
    "winsound.Beep(1000, 200)   # Frequência de 1000 Hz e duração de 200 ms"
   ]
  },
  {
   "cell_type": "code",
   "execution_count": 94,
   "id": "a703775a",
   "metadata": {},
   "outputs": [
    {
     "name": "stdout",
     "output_type": "stream",
     "text": [
      "Tempo de execução: 24509.26 segundos\n",
      "Tempo de execução: 408.49 minutos\n",
      "Tempo de execução: 6.81 horas\n",
      "Tempo de execução por job: 2.27 horas \n"
     ]
    }
   ],
   "source": [
    "execution_time2_seg = end_time2 - start_time2\n",
    "print(\"Tempo de execução:\", round(execution_time2_seg, 2), \"segundos\")\n",
    "execution_time2_min = execution_time2_seg/60\n",
    "print(\"Tempo de execução:\", round(execution_time2_min, 2), \"minutos\")\n",
    "execution_time2_h = execution_time2_min/60\n",
    "print(\"Tempo de execução:\", round(execution_time2_h, 2), \"horas\")\n",
    "execution_time2_1_h = execution_time2_h/j\n",
    "print(\"Tempo de execução por job:\", round(execution_time2_1_h, 2), \"horas \")"
   ]
  },
  {
   "cell_type": "code",
   "execution_count": 105,
   "id": "1099cc74",
   "metadata": {
    "scrolled": false
   },
   "outputs": [
    {
     "name": "stdout",
     "output_type": "stream",
     "text": [
      "ibm_nairobi\n",
      "\n",
      "---------------------------------------\n",
      "\n",
      "Try-Try\n",
      "j =  3  - theta = 0.47123889803846897\n",
      "chhr8t9ike34bjm3qjc0\n",
      "job creation time 2023-05-16 13:50:58.886000-03:00\n",
      "Job Status: job is queued (None)\n",
      "---------------------------------------\n",
      "\n",
      "Try-Except, k =  3\n",
      "j =  3  - theta = 0.47123889803846897\n",
      "chhrl12ae4cj9g89p1g0\n",
      "job creation time 2023-05-16 14:16:51.452000-03:00\n",
      "Job Status: job has successfully run\n",
      "Tempo de execução: {'CREATING': datetime.datetime(2023, 5, 16, 14, 16, 51, 3000, tzinfo=tzlocal())}\n",
      "j =  3  - theta = 0.47123889803846897\n",
      "j =  4  - theta = 0.6283185307179586\n",
      "chhsgk46f7i49rudfnf0\n",
      "job creation time 2023-05-16 15:15:42.397000-03:00\n",
      "Job Status: job has successfully run\n",
      "Tempo de execução: {'CREATING': datetime.datetime(2023, 5, 16, 15, 15, 41, 995000, tzinfo=tzlocal())}\n",
      "j =  4  - theta = 0.6283185307179586\n",
      "j =  5  - theta = 0.7853981633974483\n",
      "chhsiviae4cj9g8b6ls0\n",
      "job creation time 2023-05-16 15:20:44.723000-03:00\n",
      "Job Status: job has successfully run\n",
      "Tempo de execução: {'CREATING': datetime.datetime(2023, 5, 16, 15, 20, 44, 367000, tzinfo=tzlocal())}\n",
      "j =  5  - theta = 0.7853981633974483\n",
      "j =  6  - theta = 0.9424777960769379\n",
      "chhsnjs6f7i49rudqdd0\n",
      "job creation time 2023-05-16 15:30:38.180000-03:00\n",
      "Job Status: job is actively running\n",
      "\n",
      "Erro detectado:  \"'400 Client Error: Bad Request for url: https://api.quantum-computing.ibm.com/api/Network/ibm-q/Groups/open/Projects/main/Jobs/chhsnjs6f7i49rudqdd0/status/v/1. Error in runtime client calling method getJob: Error executing GET https://runtime-us-east.quantum-computing.ibm.com/jobs/chhsnjs6f7i49rudqdd0 {No request body}, Error code: 2413.'\"\n"
     ]
    }
   ],
   "source": [
    "print(device)\n",
    "start_time2 = time.time()\n",
    "print(time.strftime(\"%Y-%m-%d %H:%M:%S\", time.localtime(time.time())))\n",
    "try:\n",
    "    try:\n",
    "        print('\\n---------------------------------------')\n",
    "        print('\\nTry-Try')\n",
    "        for j in range(3,d):\n",
    "            print('\\nj = {:2d}  - theta = {}'.format(j, th[j]))\n",
    "            qr = qiskit.QuantumRegister(6); qc = qiskit.QuantumCircuit(qr)\n",
    "            #\n",
    "            # Circuit\n",
    "            #\n",
    "            qc_QCRWZ_out_ = qc_QCRWZ_out(th[j]); qc.append(qc_QCRWZ_out_, [qr[0],qr[1],qr[2],qr[3],qr[4],qr[5]])\n",
    "            #\n",
    "            # Tomography\n",
    "            #\n",
    "            qstc = state_tomography_circuits(qc, [qr[5],qr[4],qr[3],qr[1]])  # rho_AbWZ qr[5],qr[4],qr[3],qr[1]\n",
    "            job = qiskit.execute(qstc, backend = device, shots=nshots)\n",
    "            print(job.job_id())\n",
    "            print('job creation time', job.creation_date())\n",
    "            job_monitor(job)\n",
    "            jobs_ids_WZ_out.append(job.job_id())\n",
    "            qstf = StateTomographyFitter(job.result(), qstc)\n",
    "            #\n",
    "            # rho\n",
    "            #\n",
    "            rhoWZ_AbWZ_out[j] = qstf.fit(method='lstsq')\n",
    "            print('j = {:2d}  - theta = {}'.format(j, th[j]))\n",
    "    except:\n",
    "        k = j\n",
    "        print('\\n---------------------------------------')\n",
    "        print('\\nTry-Except, k = ', k)\n",
    "        for j in range(k,d):\n",
    "            print('\\nj = {:2d}  - theta = {}'.format(j, th[j]))\n",
    "            qr = qiskit.QuantumRegister(6); qc = qiskit.QuantumCircuit(qr)\n",
    "            #\n",
    "            # Circuit\n",
    "            #\n",
    "            qc_QCRWZ_out_ = qc_QCRWZ_out(th[j]); qc.append(qc_QCRWZ_out_, [qr[0],qr[1],qr[2],qr[3],qr[4],qr[5]])\n",
    "            #\n",
    "            # Tomography\n",
    "            #\n",
    "            qstc = state_tomography_circuits(qc, [qr[5],qr[4],qr[3],qr[1]])  # rho_AbWZ qr[5],qr[4],qr[3],qr[1]\n",
    "            job = qiskit.execute(qstc, backend = device, shots=nshots)\n",
    "            print(job.job_id())\n",
    "            print('job creation time: ', job.creation_date())\n",
    "            job_monitor(job)\n",
    "            jobs_ids_WZ_out.append(job.job_id())\n",
    "            qstf = StateTomographyFitter(job.result(), qstc)\n",
    "            #\n",
    "            # rho\n",
    "            #\n",
    "            rhoWZ_AbWZ_out[j] = qstf.fit(method='lstsq')\n",
    "            print('j = {:2d}  - theta = {}'.format(j, th[j]))\n",
    "except:\n",
    "    print(\"\\n\\nErro detectado: \", sys.exc_info()[1])\n",
    "    winsound.Beep(1000, 200)   # Frequência de 1000 Hz e duração de 200 ms\n",
    "    winsound.Beep(1000, 200)   # Frequência de 1000 Hz e duração de 200 ms\n",
    "    winsound.Beep(1000, 200)   # Frequência de 1000 Hz e duração de 200 ms\n",
    "    winsound.Beep(1000, 1000)  # Frequência de 1000 Hz e duração de 200 ms\n",
    "end_time2 = time.time()\n",
    "print(time.strftime(\"%Y-%m-%d %H:%M:%S\", time.localtime(time.time())))\n",
    "winsound.Beep(1000, 1000)  # Frequência de 1000 Hz e duração de 200 ms\n",
    "winsound.Beep(1000, 200)   # Frequência de 1000 Hz e duração de 200 ms\n",
    "winsound.Beep(1000, 200)   # Frequência de 1000 Hz e duração de 200 ms\n",
    "winsound.Beep(1000, 200)   # Frequência de 1000 Hz e duração de 200 ms"
   ]
  },
  {
   "cell_type": "code",
   "execution_count": 108,
   "id": "e0f18646",
   "metadata": {},
   "outputs": [
    {
     "name": "stdout",
     "output_type": "stream",
     "text": [
      "Tempo de execução: 6309.65 segundos\n",
      "Tempo de execução: 105.16 minutos\n",
      "Tempo de execução: 1.75 horas\n",
      "Tempo de execução por job: 0.29 horas \n"
     ]
    }
   ],
   "source": [
    "execution_time2_seg = end_time2 - start_time2\n",
    "print(\"Tempo de execução:\", round(execution_time2_seg, 2), \"segundos\")\n",
    "execution_time2_min = execution_time2_seg/60\n",
    "print(\"Tempo de execução:\", round(execution_time2_min, 2), \"minutos\")\n",
    "execution_time2_h = execution_time2_min/60\n",
    "print(\"Tempo de execução:\", round(execution_time2_h, 2), \"horas\")\n",
    "execution_time2_1_h = execution_time2_h/j\n",
    "print(\"Tempo de execução por job:\", round(execution_time2_1_h, 2), \"horas \")"
   ]
  },
  {
   "cell_type": "code",
   "execution_count": 110,
   "id": "812642fb",
   "metadata": {
    "scrolled": true
   },
   "outputs": [
    {
     "name": "stdout",
     "output_type": "stream",
     "text": [
      "ibm_nairobi\n",
      "2023-05-16 15:42:34\n",
      "\n",
      "---------------------------------------\n",
      "\n",
      "Try-Try\n",
      "\n",
      "j =  6  - theta = 0.9424777960769379\n",
      "chhst86pqnphtdr8mgm0\n",
      "job creation time 2023-05-16 15:42:37.369000-03:00\n",
      "Job Status: job has successfully run\n",
      "j =  6  - theta = 0.9424777960769379\n",
      "\n",
      "j =  7  - theta = 1.0995574287564276\n",
      "chhsvdepqnphtdr8psa0\n",
      "job creation time 2023-05-16 15:47:15.851000-03:00\n",
      "Job Status: job has successfully run\n",
      "j =  7  - theta = 1.0995574287564276\n",
      "\n",
      "j =  8  - theta = 1.2566370614359172\n",
      "chht2746f7i49rueb0i0\n",
      "job creation time 2023-05-16 15:53:14.202000-03:00\n",
      "Job Status: job has successfully run\n",
      "j =  8  - theta = 1.2566370614359172\n",
      "\n",
      "j =  9  - theta = 1.413716694115407\n",
      "chht4bc6f7i49ruee6o0\n",
      "job creation time 2023-05-16 15:57:48.082000-03:00\n",
      "Job Status: job has successfully run\n",
      "j =  9  - theta = 1.413716694115407\n",
      "\n",
      "j = 10  - theta = 1.5707963267948966\n",
      "chhtafj7ca17j320kbe0\n",
      "job creation time 2023-05-16 16:10:52.736000-03:00\n",
      "Job Status: job has successfully run\n",
      "j = 10  - theta = 1.5707963267948966\n",
      "\n",
      "j = 11  - theta = 1.7278759594743862\n",
      "chhtr4upqnphtdra5t70\n",
      "job creation time 2023-05-16 16:46:25.101000-03:00\n",
      "Job Status: job has successfully run\n",
      "j = 11  - theta = 1.7278759594743862\n",
      "\n",
      "j = 12  - theta = 1.8849555921538759\n",
      "chhtt7mpqnphtdra9770\n",
      "job creation time 2023-05-16 16:50:53.566000-03:00\n",
      "Job Status: job has successfully run\n",
      "j = 12  - theta = 1.8849555921538759\n",
      "\n",
      "j = 13  - theta = 2.0420352248333655\n",
      "chhuie6pqnphtdrbcig0\n",
      "job creation time 2023-05-16 17:36:06.012000-03:00\n",
      "Job Status: job has successfully run\n",
      "j = 13  - theta = 2.0420352248333655\n",
      "\n",
      "j = 14  - theta = 2.199114857512855\n",
      "chhut52ae4cj9g8es5m0\n",
      "job creation time 2023-05-16 17:58:59.411000-03:00\n",
      "Job Status: job has successfully run\n",
      "j = 14  - theta = 2.199114857512855\n",
      "\n",
      "j = 15  - theta = 2.356194490192345\n",
      "chhv461ike34bjm9uus0\n",
      "job creation time 2023-05-16 18:13:59.236000-03:00\n",
      "Job Status: job is queued (None)\n",
      "---------------------------------------\n",
      "\n",
      "Try-Except, k =  15\n",
      "\n",
      "j = 15  - theta = 2.356194490192345\n",
      "chhv4epike34bjm9vc1g\n",
      "job creation time:  2023-05-16 18:14:34.285000-03:00\n",
      "Job Status: job has successfully run\n",
      "j = 15  - theta = 2.356194490192345\n",
      "\n",
      "j = 16  - theta = 2.5132741228718345\n",
      "chhvht6pqnphtdrd1un0\n",
      "job creation time:  2023-05-16 18:43:15.495000-03:00\n",
      "Job Status: job has successfully run\n",
      "j = 16  - theta = 2.5132741228718345\n",
      "\n",
      "j = 17  - theta = 2.670353755551324\n",
      "chhvnu46f7i49ruipdkg\n",
      "job creation time:  2023-05-16 18:56:06.057000-03:00\n",
      "Job Status: job is actively running\n",
      "\n",
      "Erro detectado:  '\"HTTPSConnectionPool(host=\\'api.quantum-computing.ibm.com\\', port=443): Max retries exceeded with url: /api/Network/ibm-q/Groups/open/Projects/main/Jobs/chhvnu46f7i49ruipdkg/status/v/1 (Caused by NewConnectionError(\\'<urllib3.connection.HTTPSConnection object at 0x000001E6FA84B3A0>: Failed to establish a new connection: [Errno 11001] getaddrinfo failed\\'))\"'\n",
      "2023-05-16 19:15:08\n"
     ]
    }
   ],
   "source": [
    "print(device)\n",
    "start_time = time.time()\n",
    "print(time.strftime(\"%Y-%m-%d %H:%M:%S\", time.localtime(time.time())))\n",
    "try:\n",
    "    try:\n",
    "        print('\\n---------------------------------------')\n",
    "        print('\\nTry-Try')\n",
    "        for j in range(6,d):\n",
    "            print('\\nj = {:2d}  - theta = {}'.format(j, th[j]))\n",
    "            qr = qiskit.QuantumRegister(6); qc = qiskit.QuantumCircuit(qr)\n",
    "            #\n",
    "            # Circuit\n",
    "            #\n",
    "            qc_QCRWZ_out_ = qc_QCRWZ_out(th[j]); qc.append(qc_QCRWZ_out_, [qr[0],qr[1],qr[2],qr[3],qr[4],qr[5]])\n",
    "            #\n",
    "            # Tomography\n",
    "            #\n",
    "            qstc = state_tomography_circuits(qc, [qr[5],qr[4],qr[3],qr[1]])  # rho_AbWZ qr[5],qr[4],qr[3],qr[1]\n",
    "            job = qiskit.execute(qstc, backend = device, shots=nshots)\n",
    "            print(job.job_id())\n",
    "            print('job creation time', job.creation_date())\n",
    "            job_monitor(job)\n",
    "            jobs_ids_WZ_out.append(job.job_id())\n",
    "            qstf = StateTomographyFitter(job.result(), qstc)\n",
    "            #\n",
    "            # rho\n",
    "            #\n",
    "            rhoWZ_AbWZ_out[j] = qstf.fit(method='lstsq')\n",
    "            print('j = {:2d}  - theta = {}'.format(j, th[j]))\n",
    "    except:\n",
    "        k = j\n",
    "        print('\\n---------------------------------------')\n",
    "        print('\\nTry-Except, k = ', k)\n",
    "        for j in range(k,d):\n",
    "            print('\\nj = {:2d}  - theta = {}'.format(j, th[j]))\n",
    "            qr = qiskit.QuantumRegister(6); qc = qiskit.QuantumCircuit(qr)\n",
    "            #\n",
    "            # Circuit\n",
    "            #\n",
    "            qc_QCRWZ_out_ = qc_QCRWZ_out(th[j]); qc.append(qc_QCRWZ_out_, [qr[0],qr[1],qr[2],qr[3],qr[4],qr[5]])\n",
    "            #\n",
    "            # Tomography\n",
    "            #\n",
    "            qstc = state_tomography_circuits(qc, [qr[5],qr[4],qr[3],qr[1]])  # rho_AbWZ qr[5],qr[4],qr[3],qr[1]\n",
    "            job = qiskit.execute(qstc, backend = device, shots=nshots)\n",
    "            print(job.job_id())\n",
    "            print('job creation time: ', job.creation_date())\n",
    "            job_monitor(job)\n",
    "            jobs_ids_WZ_out.append(job.job_id())\n",
    "            qstf = StateTomographyFitter(job.result(), qstc)\n",
    "            #\n",
    "            # rho\n",
    "            #\n",
    "            rhoWZ_AbWZ_out[j] = qstf.fit(method='lstsq')\n",
    "            print('j = {:2d}  - theta = {}'.format(j, th[j]))\n",
    "except:\n",
    "    print(\"\\n\\nErro detectado: \", sys.exc_info()[1])\n",
    "    winsound.Beep(1000, 200)   # Frequência de 1000 Hz e duração de 200 ms\n",
    "    winsound.Beep(1000, 200)   # Frequência de 1000 Hz e duração de 200 ms\n",
    "    winsound.Beep(1000, 200)   # Frequência de 1000 Hz e duração de 200 ms\n",
    "    winsound.Beep(1000, 1000)  # Frequência de 1000 Hz e duração de 200 ms\n",
    "end_time = time.time()\n",
    "print(time.strftime(\"%Y-%m-%d %H:%M:%S\", time.localtime(time.time())))\n",
    "winsound.Beep(1000, 1000)  # Frequência de 1000 Hz e duração de 200 ms\n",
    "winsound.Beep(1000, 200)   # Frequência de 1000 Hz e duração de 200 ms\n",
    "winsound.Beep(1000, 200)   # Frequência de 1000 Hz e duração de 200 ms\n",
    "winsound.Beep(1000, 200)   # Frequência de 1000 Hz e duração de 200 ms"
   ]
  },
  {
   "cell_type": "code",
   "execution_count": 111,
   "id": "8155800a",
   "metadata": {},
   "outputs": [
    {
     "name": "stdout",
     "output_type": "stream",
     "text": [
      "Tempo de execução: 12754.54 segundos\n",
      "Tempo de execução: 212.58 minutos\n",
      "Tempo de execução: 3.54 horas\n",
      "Tempo de execução por job: 0.21 horas \n"
     ]
    }
   ],
   "source": [
    "execution_time_seg = end_time - start_time\n",
    "print(\"Tempo de execução:\", round(execution_time_seg, 2), \"segundos\")\n",
    "execution_time_min = execution_time_seg/60\n",
    "print(\"Tempo de execução:\", round(execution_time_min, 2), \"minutos\")\n",
    "execution_time_h = execution_time_min/60\n",
    "print(\"Tempo de execução:\", round(execution_time_h, 2), \"horas\")\n",
    "execution_time_1_h = execution_time_h/j\n",
    "print(\"Tempo de execução por job:\", round(execution_time_1_h, 2), \"horas \")"
   ]
  },
  {
   "cell_type": "code",
   "execution_count": 122,
   "id": "60198887",
   "metadata": {
    "scrolled": true
   },
   "outputs": [
    {
     "name": "stdout",
     "output_type": "stream",
     "text": [
      "ibm_nairobi\n",
      "2023-05-17 08:41:39\n",
      "\n",
      "---------------------------------------\n",
      "\n",
      "Try-Try\n",
      "\n",
      "j = 17  - theta = 2.670353755551324\n",
      "chibquqae4cj9g8vdkhg\n",
      "job creation time 2023-05-17 08:41:43.186000-03:00\n",
      "Job Status: job has successfully run\n",
      "j = 17  - theta = 2.670353755551324\n",
      "\n",
      "j = 18  - theta = 2.827433388230814\n",
      "chicjdc6f7i49rv352qg\n",
      "job creation time 2023-05-17 09:33:55.210000-03:00\n",
      "Job Status: job has successfully run\n",
      "j = 18  - theta = 2.827433388230814\n",
      "\n",
      "j = 19  - theta = 2.9845130209103035\n",
      "chiclkmpqnphtdrtq760\n",
      "job creation time 2023-05-17 09:38:41.187000-03:00\n",
      "Job Status: job is actively running\n",
      "---------------------------------------\n",
      "\n",
      "Try-Except, k =  19\n",
      "\n",
      "j = 19  - theta = 2.9845130209103035\n",
      "chicn0k6f7i49rv38pp0\n",
      "job creation time:  2023-05-17 09:41:37.033000-03:00\n",
      "Job Status: job has successfully run\n",
      "j = 19  - theta = 2.9845130209103035\n",
      "\n",
      "j = 20  - theta = 3.141592653589793\n",
      "chicqmc6f7i49rv3cip0\n",
      "job creation time:  2023-05-17 09:49:27.537000-03:00\n",
      "Job Status: job has successfully run\n",
      "j = 20  - theta = 3.141592653589793\n",
      "2023-05-17 09:54:28\n"
     ]
    }
   ],
   "source": [
    "print(device)\n",
    "start_time = time.time()\n",
    "print(time.strftime(\"%Y-%m-%d %H:%M:%S\", time.localtime(time.time())))\n",
    "try:\n",
    "    try:\n",
    "        print('\\n---------------------------------------')\n",
    "        print('\\nTry-Try')\n",
    "        for j in range(17,d):\n",
    "            print('\\nj = {:2d}  - theta = {}'.format(j, th[j]))\n",
    "            qr = qiskit.QuantumRegister(6); qc = qiskit.QuantumCircuit(qr)\n",
    "            #\n",
    "            # Circuit\n",
    "            #\n",
    "            qc_QCRWZ_out_ = qc_QCRWZ_out(th[j]); qc.append(qc_QCRWZ_out_, [qr[0],qr[1],qr[2],qr[3],qr[4],qr[5]])\n",
    "            #\n",
    "            # Tomography\n",
    "            #\n",
    "            qstc = state_tomography_circuits(qc, [qr[5],qr[4],qr[3],qr[1]])  # rho_AbWZ qr[5],qr[4],qr[3],qr[1]\n",
    "            job = qiskit.execute(qstc, backend = device, shots=nshots)\n",
    "            print(job.job_id())\n",
    "            print('job creation time', job.creation_date())\n",
    "            job_monitor(job)\n",
    "            jobs_ids_WZ_out.append(job.job_id())\n",
    "            qstf = StateTomographyFitter(job.result(), qstc)\n",
    "            #\n",
    "            # rho\n",
    "            #\n",
    "            rhoWZ_AbWZ_out[j] = qstf.fit(method='lstsq')\n",
    "            print('j = {:2d}  - theta = {}'.format(j, th[j]))\n",
    "    except:\n",
    "        k = j\n",
    "        print('\\n---------------------------------------')\n",
    "        print('\\nTry-Except, k = ', k)\n",
    "        for j in range(k,d):\n",
    "            print('\\nj = {:2d}  - theta = {}'.format(j, th[j]))\n",
    "            qr = qiskit.QuantumRegister(6); qc = qiskit.QuantumCircuit(qr)\n",
    "            #\n",
    "            # Circuit\n",
    "            #\n",
    "            qc_QCRWZ_out_ = qc_QCRWZ_out(th[j]); qc.append(qc_QCRWZ_out_, [qr[0],qr[1],qr[2],qr[3],qr[4],qr[5]])\n",
    "            #\n",
    "            # Tomography\n",
    "            #\n",
    "            qstc = state_tomography_circuits(qc, [qr[5],qr[4],qr[3],qr[1]])  # rho_AbWZ qr[5],qr[4],qr[3],qr[1]\n",
    "            job = qiskit.execute(qstc, backend = device, shots=nshots)\n",
    "            print(job.job_id())\n",
    "            print('job creation time: ', job.creation_date())\n",
    "            job_monitor(job)\n",
    "            jobs_ids_WZ_out.append(job.job_id())\n",
    "            qstf = StateTomographyFitter(job.result(), qstc)\n",
    "            #\n",
    "            # rho\n",
    "            #\n",
    "            rhoWZ_AbWZ_out[j] = qstf.fit(method='lstsq')\n",
    "            print('j = {:2d}  - theta = {}'.format(j, th[j]))\n",
    "except:\n",
    "    print(\"\\n\\nErro detectado: \", sys.exc_info()[1])\n",
    "    winsound.Beep(1000, 200)   # Frequência de 1000 Hz e duração de 200 ms\n",
    "    winsound.Beep(1000, 200)   # Frequência de 1000 Hz e duração de 200 ms\n",
    "    winsound.Beep(1000, 200)   # Frequência de 1000 Hz e duração de 200 ms\n",
    "    winsound.Beep(1000, 1000)  # Frequência de 1000 Hz e duração de 200 ms\n",
    "end_time = time.time()\n",
    "print(time.strftime(\"%Y-%m-%d %H:%M:%S\", time.localtime(time.time())))\n",
    "winsound.Beep(1000, 1000)  # Frequência de 1000 Hz e duração de 200 ms\n",
    "winsound.Beep(1000, 200)   # Frequência de 1000 Hz e duração de 200 ms\n",
    "winsound.Beep(1000, 200)   # Frequência de 1000 Hz e duração de 200 ms\n",
    "winsound.Beep(1000, 200)   # Frequência de 1000 Hz e duração de 200 ms"
   ]
  },
  {
   "cell_type": "code",
   "execution_count": 123,
   "id": "b805f95c",
   "metadata": {},
   "outputs": [
    {
     "name": "stdout",
     "output_type": "stream",
     "text": [
      "Tempo de execução: 4368.63 segundos\n",
      "Tempo de execução: 72.81 minutos\n",
      "Tempo de execução: 1.21 horas\n",
      "Tempo de execução por job: 0.06 horas \n"
     ]
    }
   ],
   "source": [
    "execution_time_seg = end_time - start_time\n",
    "print(\"Tempo de execução:\", round(execution_time_seg, 2), \"segundos\")\n",
    "execution_time_min = execution_time_seg/60\n",
    "print(\"Tempo de execução:\", round(execution_time_min, 2), \"minutos\")\n",
    "execution_time_h = execution_time_min/60\n",
    "print(\"Tempo de execução:\", round(execution_time_h, 2), \"horas\")\n",
    "execution_time_1_h = execution_time_h/j\n",
    "print(\"Tempo de execução por job:\", round(execution_time_1_h, 2), \"horas \")"
   ]
  },
  {
   "cell_type": "code",
   "execution_count": 19,
   "id": "177a5a7e",
   "metadata": {},
   "outputs": [
    {
     "data": {
      "text/plain": [
       "['chgnhbfppn69h5r1qlkg',\n",
       " 'chgumofppn69h5r5idhg',\n",
       " 'chhcchnppn69h5rfrs60',\n",
       " 'chhrl12ae4cj9g89p1g0',\n",
       " 'chhsgk46f7i49rudfnf0',\n",
       " 'chhsiviae4cj9g8b6ls0',\n",
       " 'chhst86pqnphtdr8mgm0',\n",
       " 'chhsvdepqnphtdr8psa0',\n",
       " 'chht2746f7i49rueb0i0',\n",
       " 'chht4bc6f7i49ruee6o0',\n",
       " 'chhtafj7ca17j320kbe0',\n",
       " 'chhtr4upqnphtdra5t70',\n",
       " 'chhtt7mpqnphtdra9770',\n",
       " 'chhuie6pqnphtdrbcig0',\n",
       " 'chhut52ae4cj9g8es5m0',\n",
       " 'chhv4epike34bjm9vc1g',\n",
       " 'chhvht6pqnphtdrd1un0',\n",
       " 'chibquqae4cj9g8vdkhg',\n",
       " 'chicjdc6f7i49rv352qg',\n",
       " 'chicn0k6f7i49rv38pp0',\n",
       " 'chicqmc6f7i49rv3cip0']"
      ]
     },
     "execution_count": 19,
     "metadata": {},
     "output_type": "execute_result"
    }
   ],
   "source": [
    "jobs_ids_WZ_out"
   ]
  },
  {
   "cell_type": "code",
   "execution_count": 20,
   "id": "3f143bc5",
   "metadata": {},
   "outputs": [],
   "source": [
    "f = open(\"jobs_ids_WZ_out.txt\", \"w\")\n",
    "f.write(str(jobs_ids_WZ_out))\n",
    "f.close()"
   ]
  },
  {
   "cell_type": "code",
   "execution_count": 17,
   "id": "3353df12",
   "metadata": {},
   "outputs": [],
   "source": [
    "f = open(\"jobs_ids_WZ_out.txt\",\"r\")\n",
    "list_ids_WZ_out_ = f.read().replace(\"'\",\"\").replace(\" \",\"\").replace(\"[\",\"\").replace(\"]\",\"\").split(\",\")\n",
    "f.close()"
   ]
  },
  {
   "cell_type": "code",
   "execution_count": 18,
   "id": "816379eb",
   "metadata": {
    "scrolled": false
   },
   "outputs": [
    {
     "data": {
      "text/plain": [
       "(['chgnhbfppn69h5r1qlkg',\n",
       "  'chgumofppn69h5r5idhg',\n",
       "  'chhcchnppn69h5rfrs60',\n",
       "  'chhrl12ae4cj9g89p1g0',\n",
       "  'chhsgk46f7i49rudfnf0',\n",
       "  'chhsiviae4cj9g8b6ls0',\n",
       "  'chhst86pqnphtdr8mgm0',\n",
       "  'chhsvdepqnphtdr8psa0',\n",
       "  'chht2746f7i49rueb0i0',\n",
       "  'chht4bc6f7i49ruee6o0',\n",
       "  'chhtafj7ca17j320kbe0',\n",
       "  'chhtr4upqnphtdra5t70',\n",
       "  'chhtt7mpqnphtdra9770',\n",
       "  'chhuie6pqnphtdrbcig0',\n",
       "  'chhut52ae4cj9g8es5m0',\n",
       "  'chhv4epike34bjm9vc1g',\n",
       "  'chhvht6pqnphtdrd1un0',\n",
       "  'chibquqae4cj9g8vdkhg',\n",
       "  'chicjdc6f7i49rv352qg',\n",
       "  'chicn0k6f7i49rv38pp0',\n",
       "  'chicqmc6f7i49rv3cip0'],\n",
       " 21)"
      ]
     },
     "execution_count": 18,
     "metadata": {},
     "output_type": "execute_result"
    }
   ],
   "source": [
    "list_ids_WZ_out_, len(list_ids_WZ_out_)"
   ]
  },
  {
   "cell_type": "markdown",
   "id": "f0752acf",
   "metadata": {},
   "source": [
    "### Retrieve"
   ]
  },
  {
   "cell_type": "code",
   "execution_count": 40,
   "id": "d721e46b",
   "metadata": {},
   "outputs": [
    {
     "name": "stdout",
     "output_type": "stream",
     "text": [
      "ibm_nairobi\n",
      "chgnhbfppn69h5r1qlkg\n",
      "chgnhbfppn69h5r1qlkg\n",
      "j =  0  - theta = 0.0\n",
      "chgumofppn69h5r5idhg\n",
      "chgumofppn69h5r5idhg\n",
      "j =  1  - theta = 0.15707963267948966\n",
      "chhcchnppn69h5rfrs60\n",
      "chhcchnppn69h5rfrs60\n",
      "j =  2  - theta = 0.3141592653589793\n",
      "chhrl12ae4cj9g89p1g0\n",
      "chhrl12ae4cj9g89p1g0\n",
      "j =  3  - theta = 0.47123889803846897\n",
      "chhsgk46f7i49rudfnf0\n",
      "chhsgk46f7i49rudfnf0\n",
      "j =  4  - theta = 0.6283185307179586\n",
      "chhsiviae4cj9g8b6ls0\n",
      "chhsiviae4cj9g8b6ls0\n",
      "j =  5  - theta = 0.7853981633974483\n",
      "chhst86pqnphtdr8mgm0\n",
      "chhst86pqnphtdr8mgm0\n",
      "j =  6  - theta = 0.9424777960769379\n",
      "chhsvdepqnphtdr8psa0\n",
      "chhsvdepqnphtdr8psa0\n",
      "j =  7  - theta = 1.0995574287564276\n",
      "chht2746f7i49rueb0i0\n",
      "chht2746f7i49rueb0i0\n",
      "j =  8  - theta = 1.2566370614359172\n",
      "chht4bc6f7i49ruee6o0\n",
      "chht4bc6f7i49ruee6o0\n",
      "j =  9  - theta = 1.413716694115407\n",
      "chhtafj7ca17j320kbe0\n",
      "chhtafj7ca17j320kbe0\n",
      "j = 10  - theta = 1.5707963267948966\n",
      "chhtr4upqnphtdra5t70\n",
      "chhtr4upqnphtdra5t70\n",
      "j = 11  - theta = 1.7278759594743862\n",
      "chhtt7mpqnphtdra9770\n",
      "chhtt7mpqnphtdra9770\n",
      "j = 12  - theta = 1.8849555921538759\n",
      "chhuie6pqnphtdrbcig0\n",
      "chhuie6pqnphtdrbcig0\n",
      "j = 13  - theta = 2.0420352248333655\n",
      "chhut52ae4cj9g8es5m0\n",
      "chhut52ae4cj9g8es5m0\n",
      "j = 14  - theta = 2.199114857512855\n",
      "chhv4epike34bjm9vc1g\n",
      "chhv4epike34bjm9vc1g\n",
      "j = 15  - theta = 2.356194490192345\n",
      "chhvht6pqnphtdrd1un0\n",
      "chhvht6pqnphtdrd1un0\n",
      "j = 16  - theta = 2.5132741228718345\n",
      "chibquqae4cj9g8vdkhg\n",
      "chibquqae4cj9g8vdkhg\n",
      "j = 17  - theta = 2.670353755551324\n",
      "chicjdc6f7i49rv352qg\n",
      "chicjdc6f7i49rv352qg\n",
      "j = 18  - theta = 2.827433388230814\n",
      "chicn0k6f7i49rv38pp0\n",
      "chicn0k6f7i49rv38pp0\n",
      "j = 19  - theta = 2.9845130209103035\n",
      "chicqmc6f7i49rv3cip0\n",
      "chicqmc6f7i49rv3cip0\n",
      "j = 20  - theta = 3.141592653589793\n"
     ]
    }
   ],
   "source": [
    "print(device)\n",
    "for j in range(0, d):\n",
    "    print(list_ids_WZ_out_[j])\n",
    "    qr = qiskit.QuantumRegister(6); qc = qiskit.QuantumCircuit(qr)\n",
    "    qc_QCRWZ_out_ = qc_QCRWZ_out(th[j]); qc.append(qc_QCRWZ_out_, [qr[0],qr[1],qr[2],qr[3],qr[4],qr[5]])\n",
    "    job_ret_WZ_out = device.retrieve_job(list_ids_WZ_out_[j])\n",
    "    qstc = state_tomography_circuits(qc, [qr[5],qr[4],qr[3],qr[1]])  # rho_AbWZ qr[5],qr[4],qr[3],qr[1]\n",
    "    print(job_ret_WZ_out.job_id())\n",
    "    qstf = StateTomographyFitter(job_ret_WZ_out.result(), qstc)\n",
    "    #\n",
    "    # rho\n",
    "    #\n",
    "    ret_rhoWZ_AbWZ_out[j] = qstf.fit(method='lstsq')\n",
    "    print('j = {:2d}  - theta = {}'.format(j, th[j]))"
   ]
  },
  {
   "cell_type": "markdown",
   "id": "3ea82baf",
   "metadata": {},
   "source": [
    "### Cálculos"
   ]
  },
  {
   "cell_type": "markdown",
   "id": "d3aab74c",
   "metadata": {},
   "source": [
    "#### QWP$_{out}$"
   ]
  },
  {
   "cell_type": "code",
   "execution_count": 42,
   "id": "bbcacc80",
   "metadata": {},
   "outputs": [
    {
     "name": "stdout",
     "output_type": "stream",
     "text": [
      "0.01948159624241863\n",
      "0.020671786785510737\n",
      "0.05599711023869869\n",
      "0.03541809460564793\n",
      "0.05042617687790507\n",
      "0.046583070594177545\n",
      "0.050871770035786246\n",
      "0.06728050262806273\n",
      "0.08121746100671101\n",
      "0.0839476659478936\n",
      "0.0812228761202618\n",
      "0.10913381885059614\n",
      "0.1219982462817435\n",
      "0.13030689187057032\n",
      "0.17091649801483588\n",
      "0.22255161572987592\n",
      "0.17790318047525933\n",
      "0.14253369545890204\n",
      "0.08981764987351859\n",
      "0.054557903201740254\n",
      "0.05734237598793768\n"
     ]
    }
   ],
   "source": [
    "for j in range(0,d):\n",
    "    ret_rhoWZ_00WZ_out[j] = projM_np(4, '00', ret_rhoWZ_AbWZ_out[j])\n",
    "    ret_Phi_WZ_00WZ_out[j] = dephasing_map_2qubits_np(ret_rhoWZ_00WZ_out[j])\n",
    "    ret_Irr_WZ_out[j] = entropy(ret_Phi_WZ_00WZ_out[j]) - entropy(ret_rhoWZ_00WZ_out[j])\n",
    "    print(ret_Irr_WZ_out[j])"
   ]
  },
  {
   "cell_type": "code",
   "execution_count": 28,
   "id": "ec90d145",
   "metadata": {},
   "outputs": [],
   "source": [
    "thmax = math.pi-0.01;   dth = thmax/20; th = np.arange(0.01, thmax+dth, dth); d = th.shape[0]\n",
    "the_Irr_WZ_in                 = np.zeros(th.shape[0])\n",
    "the_Irr_WZ_out                = np.zeros(th.shape[0])"
   ]
  },
  {
   "cell_type": "code",
   "execution_count": 29,
   "id": "ac337324",
   "metadata": {},
   "outputs": [
    {
     "name": "stdout",
     "output_type": "stream",
     "text": [
      "0.00041825654974191235\n",
      "0.05960827160488702\n",
      "0.1732975820045815\n",
      "0.3131570775169316\n",
      "0.4621607944535125\n",
      "0.607604014273341\n",
      "0.7394634336049204\n",
      "0.849811316538504\n",
      "0.932583510389106\n",
      "0.9834895100553851\n",
      "0.9999819663871292\n",
      "0.9812490235560026\n",
      "0.9282133180193721\n",
      "0.8435331680632676\n",
      "0.7316110586657141\n",
      "0.5986265342290418\n",
      "0.45263200118252755\n",
      "0.30379873295430637\n",
      "0.1650395819160478\n",
      "0.05377438056525288\n",
      "4.038739397709968e-31\n"
     ]
    }
   ],
   "source": [
    "for j in range(0,d):\n",
    "    c_plus = np.cos(th[j]/2)\n",
    "    c_minus = np.sqrt(1 - c_plus**2)\n",
    "    the_Irr_WZ_in[j] = -1.0 * c_plus**2 * np.log2(1.0 * c_plus**2) - c_minus**2 * np.log2(c_minus**2)\n",
    "    the_Irr_WZ_out[j] = 0\n",
    "    print(the_Irr_WZ_in[j])"
   ]
  },
  {
   "cell_type": "code",
   "execution_count": 43,
   "id": "a8bd25dd",
   "metadata": {
    "scrolled": true
   },
   "outputs": [
    {
     "data": {
      "image/png": "[encoded data removed]",
      "text/plain": [
       "<Figure size 650x320 with 1 Axes>"
      ]
     },
     "metadata": {},
     "output_type": "display_data"
    }
   ],
   "source": [
    "import string\n",
    "plt.figure(figsize = (6.5, 3.2), constrained_layout = True)\n",
    "#plt.subplots(figsize=(6.5, 3.2))\n",
    "font = {'family': 'Verdana', 'color':  'black', 'size': 20}\n",
    "#\n",
    "plt.style.use(['science', 'notebook', 'grid'])\n",
    "ax0 = plt.subplot(121)\n",
    "plt.gca().set_xlim([-0.01,3.14])\n",
    "plt.gca().set_ylim([-0.01,0.52])\n",
    "#\n",
    "# simulation\n",
    "#sim_Irr_WZ_in\n",
    "plt.plot(th[:len(th)//2+1], the_Irr_WZ_in[:len(th)//2+1], '-' ,\n",
    "         color='#1f77b4', label = r'$Irr_{WZ, the}^{QWP_{in}}$')\n",
    "plt.plot(th[:len(th)//2+1], sim_Irr_WZ_in[:len(th)//2+1], 'o' ,\n",
    "         color='#1f77b4', label = r'$Irr_{WZ, sim}^{QWP_{in}}$')\n",
    "plt.plot(th[:len(th)//2+1], ret_Irr_WZ_in[:len(th)//2+1], 'o' ,\n",
    "         color='#1f77b4', label = r'$Irr_{WZ, exp}^{QWP_{in}}$')\n",
    "plt.plot(th[:len(th)//2+1], the_Irr_WZ_out[:len(th)//2+1], '--',\n",
    "         color='#ff7f0e', label = r'$Irr_{WZ,the}^{QWP_{out}}$')\n",
    "plt.plot(th[:len(th)//2+1], ret_Irr_WZ_out[:len(th)//2+1], 's',\n",
    "         color='#ff7f0e', label = r'$Irr_{WZ,exp}^{QWP_{out}}$')\n",
    "#\n",
    "#\n",
    "plt.legend(bbox_to_anchor=(0.195, 0.695), loc='center',\n",
    "           borderaxespad=0, fontsize=10)\n",
    "#, frameon=False, handlelength=1.5\n",
    "plt.xlabel(r'$\\theta$')\n",
    "tick_posx= [0, np.pi/8, np.pi/4, 3*np.pi/8, np.pi/2]\n",
    "#, 3*np.pi/4, np.pi, 5*np.pi/4, 3*np.pi/2, 7*np.pi/4, 2*np.pi]\n",
    "labelsx = ['0', r'$\\frac{\\pi}{8}$', r'$\\frac{\\pi}{4}$',\n",
    "           r'$\\frac{3\\pi}{8}$', r'$\\frac{\\pi}{2}$']\n",
    "#, r'$\\frac{3\\pi}{4}$', r'$\\pi$', r'$\\frac{5\\pi}{4}$'\n",
    "#, r'$\\frac{3\\pi}{2}$', r'$\\frac{7\\pi}{4}$', r'$2\\pi$']\n",
    "tick_posy= [0, 0.2, 0.4, 0.6, 0.8, 1.0]\n",
    "labelsy = ['0', '0.2', '0.4', '0.6', '0.8', '1.0']\n",
    "#tick_posx= [0, 5]\n",
    "#labelsx = ['0', '5']\n",
    "plt.xlim([-0.025, np.pi/2+0.025])\n",
    "plt.ylim([-0.025, 1.025])\n",
    "plt.xticks(tick_posx, labelsx)\n",
    "plt.yticks(tick_posy, labelsy)\n",
    "plt.xticks(fontsize=12)\n",
    "plt.yticks(fontsize=12)\n",
    "#plt.tick_params('y', labelleft=False)\n",
    "#ax1.text(-0.1, 1.1, string.ascii_uppercase[1], transform=ax1.transAxes, \n",
    "#            size=20, weight='bold')\n",
    "#\n",
    "#plt.tight_layout()\n",
    "#plt.savefig('zgraph_CCR_vpv=0_sim.pdf', format='pdf', dpi = 1200, bbox_inches='tight')\n",
    "plt.show()"
   ]
  },
  {
   "cell_type": "markdown",
   "id": "503d16c1",
   "metadata": {},
   "source": [
    "# Mitigação"
   ]
  },
  {
   "cell_type": "code",
   "execution_count": 46,
   "id": "c5d0e9a0",
   "metadata": {},
   "outputs": [],
   "source": [
    "from qiskit.ignis.mitigation.measurement import complete_meas_cal, CompleteMeasFitter"
   ]
  },
  {
   "cell_type": "code",
   "execution_count": 54,
   "id": "2f5cb9dc",
   "metadata": {
    "scrolled": true
   },
   "outputs": [
    {
     "name": "stdout",
     "output_type": "stream",
     "text": [
      "ibm_nairobi\n",
      "chjna946f7i49ron2c4g\n",
      "Job Status: job is queued (None)"
     ]
    },
    {
     "ename": "IBMQJobApiError",
     "evalue": "\"'400 Client Error: Bad Request for url: https://api.quantum-computing.ibm.com/api/Network/ibm-q/Groups/open/Projects/main/Jobs/chjna946f7i49ron2c4g/status/v/1. Error in runtime client calling method getJobMetrics: Error executing GET https://runtime-us-east.quantum-computing.ibm.com/jobs/chjna946f7i49ron2c4g/metrics {No request body}, Error code: 2413.'\"",
     "output_type": "error",
     "traceback": [
      "\u001b[1;31m---------------------------------------------------------------------------\u001b[0m",
      "\u001b[1;31mHTTPError\u001b[0m                                 Traceback (most recent call last)",
      "\u001b[1;32m~\\anaconda3\\lib\\site-packages\\qiskit\\providers\\ibmq\\api\\session.py\u001b[0m in \u001b[0;36mrequest\u001b[1;34m(self, method, url, bare, **kwargs)\u001b[0m\n\u001b[0;32m    277\u001b[0m             \u001b[0mresponse\u001b[0m \u001b[1;33m=\u001b[0m \u001b[0msuper\u001b[0m\u001b[1;33m(\u001b[0m\u001b[1;33m)\u001b[0m\u001b[1;33m.\u001b[0m\u001b[0mrequest\u001b[0m\u001b[1;33m(\u001b[0m\u001b[0mmethod\u001b[0m\u001b[1;33m,\u001b[0m \u001b[0mfinal_url\u001b[0m\u001b[1;33m,\u001b[0m \u001b[0mheaders\u001b[0m\u001b[1;33m=\u001b[0m\u001b[0mheaders\u001b[0m\u001b[1;33m,\u001b[0m \u001b[1;33m**\u001b[0m\u001b[0mkwargs\u001b[0m\u001b[1;33m)\u001b[0m\u001b[1;33m\u001b[0m\u001b[1;33m\u001b[0m\u001b[0m\n\u001b[1;32m--> 278\u001b[1;33m             \u001b[0mresponse\u001b[0m\u001b[1;33m.\u001b[0m\u001b[0mraise_for_status\u001b[0m\u001b[1;33m(\u001b[0m\u001b[1;33m)\u001b[0m\u001b[1;33m\u001b[0m\u001b[1;33m\u001b[0m\u001b[0m\n\u001b[0m\u001b[0;32m    279\u001b[0m         \u001b[1;32mexcept\u001b[0m \u001b[0mRequestException\u001b[0m \u001b[1;32mas\u001b[0m \u001b[0mex\u001b[0m\u001b[1;33m:\u001b[0m\u001b[1;33m\u001b[0m\u001b[1;33m\u001b[0m\u001b[0m\n",
      "\u001b[1;32m~\\anaconda3\\lib\\site-packages\\requests\\models.py\u001b[0m in \u001b[0;36mraise_for_status\u001b[1;34m(self)\u001b[0m\n\u001b[0;32m   1020\u001b[0m         \u001b[1;32mif\u001b[0m \u001b[0mhttp_error_msg\u001b[0m\u001b[1;33m:\u001b[0m\u001b[1;33m\u001b[0m\u001b[1;33m\u001b[0m\u001b[0m\n\u001b[1;32m-> 1021\u001b[1;33m             \u001b[1;32mraise\u001b[0m \u001b[0mHTTPError\u001b[0m\u001b[1;33m(\u001b[0m\u001b[0mhttp_error_msg\u001b[0m\u001b[1;33m,\u001b[0m \u001b[0mresponse\u001b[0m\u001b[1;33m=\u001b[0m\u001b[0mself\u001b[0m\u001b[1;33m)\u001b[0m\u001b[1;33m\u001b[0m\u001b[1;33m\u001b[0m\u001b[0m\n\u001b[0m\u001b[0;32m   1022\u001b[0m \u001b[1;33m\u001b[0m\u001b[0m\n",
      "\u001b[1;31mHTTPError\u001b[0m: 400 Client Error: Bad Request for url: https://api.quantum-computing.ibm.com/api/Network/ibm-q/Groups/open/Projects/main/Jobs/chjna946f7i49ron2c4g/status/v/1",
      "\nThe above exception was the direct cause of the following exception:\n",
      "\u001b[1;31mRequestsApiError\u001b[0m                          Traceback (most recent call last)",
      "\u001b[1;32m~\\anaconda3\\lib\\site-packages\\qiskit\\providers\\ibmq\\job\\utils.py\u001b[0m in \u001b[0;36mapi_to_job_error\u001b[1;34m()\u001b[0m\n\u001b[0;32m     56\u001b[0m     \u001b[1;32mtry\u001b[0m\u001b[1;33m:\u001b[0m\u001b[1;33m\u001b[0m\u001b[1;33m\u001b[0m\u001b[0m\n\u001b[1;32m---> 57\u001b[1;33m         \u001b[1;32myield\u001b[0m\u001b[1;33m\u001b[0m\u001b[1;33m\u001b[0m\u001b[0m\n\u001b[0m\u001b[0;32m     58\u001b[0m     \u001b[1;32mexcept\u001b[0m \u001b[0mApiError\u001b[0m \u001b[1;32mas\u001b[0m \u001b[0mapi_err\u001b[0m\u001b[1;33m:\u001b[0m\u001b[1;33m\u001b[0m\u001b[1;33m\u001b[0m\u001b[0m\n",
      "\u001b[1;32m~\\anaconda3\\lib\\site-packages\\qiskit\\providers\\ibmq\\job\\ibmqjob.py\u001b[0m in \u001b[0;36mstatus\u001b[1;34m(self)\u001b[0m\n\u001b[0;32m    501\u001b[0m         \u001b[1;32mwith\u001b[0m \u001b[0mapi_to_job_error\u001b[0m\u001b[1;33m(\u001b[0m\u001b[1;33m)\u001b[0m\u001b[1;33m:\u001b[0m\u001b[1;33m\u001b[0m\u001b[1;33m\u001b[0m\u001b[0m\n\u001b[1;32m--> 502\u001b[1;33m             \u001b[0mapi_response\u001b[0m \u001b[1;33m=\u001b[0m \u001b[0mself\u001b[0m\u001b[1;33m.\u001b[0m\u001b[0m_api_client\u001b[0m\u001b[1;33m.\u001b[0m\u001b[0mjob_status\u001b[0m\u001b[1;33m(\u001b[0m\u001b[0mself\u001b[0m\u001b[1;33m.\u001b[0m\u001b[0mjob_id\u001b[0m\u001b[1;33m(\u001b[0m\u001b[1;33m)\u001b[0m\u001b[1;33m)\u001b[0m\u001b[1;33m\u001b[0m\u001b[1;33m\u001b[0m\u001b[0m\n\u001b[0m\u001b[0;32m    503\u001b[0m             \u001b[0mself\u001b[0m\u001b[1;33m.\u001b[0m\u001b[0m_api_status\u001b[0m \u001b[1;33m=\u001b[0m \u001b[0mapi_response\u001b[0m\u001b[1;33m[\u001b[0m\u001b[1;34m'status'\u001b[0m\u001b[1;33m]\u001b[0m\u001b[1;33m\u001b[0m\u001b[1;33m\u001b[0m\u001b[0m\n",
      "\u001b[1;32m~\\anaconda3\\lib\\site-packages\\qiskit\\providers\\ibmq\\api\\clients\\account.py\u001b[0m in \u001b[0;36mjob_status\u001b[1;34m(self, job_id)\u001b[0m\n\u001b[0;32m    356\u001b[0m         \"\"\"\n\u001b[1;32m--> 357\u001b[1;33m         \u001b[1;32mreturn\u001b[0m \u001b[0mself\u001b[0m\u001b[1;33m.\u001b[0m\u001b[0maccount_api\u001b[0m\u001b[1;33m.\u001b[0m\u001b[0mjob\u001b[0m\u001b[1;33m(\u001b[0m\u001b[0mjob_id\u001b[0m\u001b[1;33m)\u001b[0m\u001b[1;33m.\u001b[0m\u001b[0mstatus\u001b[0m\u001b[1;33m(\u001b[0m\u001b[1;33m)\u001b[0m\u001b[1;33m\u001b[0m\u001b[1;33m\u001b[0m\u001b[0m\n\u001b[0m\u001b[0;32m    358\u001b[0m \u001b[1;33m\u001b[0m\u001b[0m\n",
      "\u001b[1;32m~\\anaconda3\\lib\\site-packages\\qiskit\\providers\\ibmq\\api\\rest\\job.py\u001b[0m in \u001b[0;36mstatus\u001b[1;34m(self)\u001b[0m\n\u001b[0;32m    159\u001b[0m         \u001b[0murl\u001b[0m \u001b[1;33m=\u001b[0m \u001b[0mself\u001b[0m\u001b[1;33m.\u001b[0m\u001b[0mget_url\u001b[0m\u001b[1;33m(\u001b[0m\u001b[1;34m'status'\u001b[0m\u001b[1;33m)\u001b[0m\u001b[1;33m\u001b[0m\u001b[1;33m\u001b[0m\u001b[0m\n\u001b[1;32m--> 160\u001b[1;33m         \u001b[0mraw_response\u001b[0m \u001b[1;33m=\u001b[0m \u001b[0mself\u001b[0m\u001b[1;33m.\u001b[0m\u001b[0msession\u001b[0m\u001b[1;33m.\u001b[0m\u001b[0mget\u001b[0m\u001b[1;33m(\u001b[0m\u001b[0murl\u001b[0m\u001b[1;33m)\u001b[0m\u001b[1;33m\u001b[0m\u001b[1;33m\u001b[0m\u001b[0m\n\u001b[0m\u001b[0;32m    161\u001b[0m         \u001b[1;32mtry\u001b[0m\u001b[1;33m:\u001b[0m\u001b[1;33m\u001b[0m\u001b[1;33m\u001b[0m\u001b[0m\n",
      "\u001b[1;32m~\\anaconda3\\lib\\site-packages\\requests\\sessions.py\u001b[0m in \u001b[0;36mget\u001b[1;34m(self, url, **kwargs)\u001b[0m\n\u001b[0;32m    599\u001b[0m         \u001b[0mkwargs\u001b[0m\u001b[1;33m.\u001b[0m\u001b[0msetdefault\u001b[0m\u001b[1;33m(\u001b[0m\u001b[1;34m\"allow_redirects\"\u001b[0m\u001b[1;33m,\u001b[0m \u001b[1;32mTrue\u001b[0m\u001b[1;33m)\u001b[0m\u001b[1;33m\u001b[0m\u001b[1;33m\u001b[0m\u001b[0m\n\u001b[1;32m--> 600\u001b[1;33m         \u001b[1;32mreturn\u001b[0m \u001b[0mself\u001b[0m\u001b[1;33m.\u001b[0m\u001b[0mrequest\u001b[0m\u001b[1;33m(\u001b[0m\u001b[1;34m\"GET\"\u001b[0m\u001b[1;33m,\u001b[0m \u001b[0murl\u001b[0m\u001b[1;33m,\u001b[0m \u001b[1;33m**\u001b[0m\u001b[0mkwargs\u001b[0m\u001b[1;33m)\u001b[0m\u001b[1;33m\u001b[0m\u001b[1;33m\u001b[0m\u001b[0m\n\u001b[0m\u001b[0;32m    601\u001b[0m \u001b[1;33m\u001b[0m\u001b[0m\n",
      "\u001b[1;32m~\\anaconda3\\lib\\site-packages\\qiskit\\providers\\ibmq\\api\\session.py\u001b[0m in \u001b[0;36mrequest\u001b[1;34m(self, method, url, bare, **kwargs)\u001b[0m\n\u001b[0;32m    299\u001b[0m \u001b[1;33m\u001b[0m\u001b[0m\n\u001b[1;32m--> 300\u001b[1;33m             \u001b[1;32mraise\u001b[0m \u001b[0mRequestsApiError\u001b[0m\u001b[1;33m(\u001b[0m\u001b[0mmessage\u001b[0m\u001b[1;33m,\u001b[0m \u001b[0mstatus_code\u001b[0m\u001b[1;33m)\u001b[0m \u001b[1;32mfrom\u001b[0m \u001b[0mex\u001b[0m\u001b[1;33m\u001b[0m\u001b[1;33m\u001b[0m\u001b[0m\n\u001b[0m\u001b[0;32m    301\u001b[0m \u001b[1;33m\u001b[0m\u001b[0m\n",
      "\u001b[1;31mRequestsApiError\u001b[0m: '400 Client Error: Bad Request for url: https://api.quantum-computing.ibm.com/api/Network/ibm-q/Groups/open/Projects/main/Jobs/chjna946f7i49ron2c4g/status/v/1. Error in runtime client calling method getJobMetrics: Error executing GET https://runtime-us-east.quantum-computing.ibm.com/jobs/chjna946f7i49ron2c4g/metrics {No request body}, Error code: 2413.'",
      "\nThe above exception was the direct cause of the following exception:\n",
      "\u001b[1;31mIBMQJobApiError\u001b[0m                           Traceback (most recent call last)",
      "\u001b[1;32m~\\AppData\\Local\\Temp\\ipykernel_2104\\1195337095.py\u001b[0m in \u001b[0;36m<module>\u001b[1;34m\u001b[0m\n\u001b[0;32m      6\u001b[0m \u001b[0mjob\u001b[0m \u001b[1;33m=\u001b[0m \u001b[0mqiskit\u001b[0m\u001b[1;33m.\u001b[0m\u001b[0mexecute\u001b[0m\u001b[1;33m(\u001b[0m\u001b[0mmeas_calibs\u001b[0m\u001b[1;33m,\u001b[0m \u001b[0mbackend\u001b[0m \u001b[1;33m=\u001b[0m \u001b[0mdevice\u001b[0m\u001b[1;33m,\u001b[0m \u001b[0mshots\u001b[0m \u001b[1;33m=\u001b[0m \u001b[0mnshots\u001b[0m\u001b[1;33m)\u001b[0m\u001b[1;33m\u001b[0m\u001b[1;33m\u001b[0m\u001b[0m\n\u001b[0;32m      7\u001b[0m \u001b[0mprint\u001b[0m\u001b[1;33m(\u001b[0m\u001b[0mjob\u001b[0m\u001b[1;33m.\u001b[0m\u001b[0mjob_id\u001b[0m\u001b[1;33m(\u001b[0m\u001b[1;33m)\u001b[0m\u001b[1;33m)\u001b[0m\u001b[1;33m\u001b[0m\u001b[1;33m\u001b[0m\u001b[0m\n\u001b[1;32m----> 8\u001b[1;33m \u001b[0mjob_monitor\u001b[0m\u001b[1;33m(\u001b[0m\u001b[0mjob\u001b[0m\u001b[1;33m)\u001b[0m\u001b[1;33m\u001b[0m\u001b[1;33m\u001b[0m\u001b[0m\n\u001b[0m\u001b[0;32m      9\u001b[0m \u001b[0mmeas_fitter\u001b[0m \u001b[1;33m=\u001b[0m \u001b[0mCompleteMeasFitter\u001b[0m\u001b[1;33m(\u001b[0m\u001b[0mjob\u001b[0m\u001b[1;33m.\u001b[0m\u001b[0mresult\u001b[0m\u001b[1;33m(\u001b[0m\u001b[1;33m)\u001b[0m\u001b[1;33m,\u001b[0m \u001b[0mstate_labels\u001b[0m\u001b[1;33m)\u001b[0m\u001b[1;33m\u001b[0m\u001b[1;33m\u001b[0m\u001b[0m\n\u001b[0;32m     10\u001b[0m \u001b[0mend_time1_mit\u001b[0m \u001b[1;33m=\u001b[0m \u001b[0mtime\u001b[0m\u001b[1;33m.\u001b[0m\u001b[0mtime\u001b[0m\u001b[1;33m(\u001b[0m\u001b[1;33m)\u001b[0m\u001b[1;33m\u001b[0m\u001b[1;33m\u001b[0m\u001b[0m\n",
      "\u001b[1;32m~\\anaconda3\\lib\\site-packages\\qiskit\\tools\\monitor\\job_monitor.py\u001b[0m in \u001b[0;36mjob_monitor\u001b[1;34m(job, interval, quiet, output, line_discipline)\u001b[0m\n\u001b[0;32m     87\u001b[0m         \u001b[0m_interval_set\u001b[0m \u001b[1;33m=\u001b[0m \u001b[1;32mTrue\u001b[0m\u001b[1;33m\u001b[0m\u001b[1;33m\u001b[0m\u001b[0m\n\u001b[0;32m     88\u001b[0m \u001b[1;33m\u001b[0m\u001b[0m\n\u001b[1;32m---> 89\u001b[1;33m     _text_checker(\n\u001b[0m\u001b[0;32m     90\u001b[0m         \u001b[0mjob\u001b[0m\u001b[1;33m,\u001b[0m \u001b[0minterval\u001b[0m\u001b[1;33m,\u001b[0m \u001b[0m_interval_set\u001b[0m\u001b[1;33m,\u001b[0m \u001b[0mquiet\u001b[0m\u001b[1;33m=\u001b[0m\u001b[0mquiet\u001b[0m\u001b[1;33m,\u001b[0m \u001b[0moutput\u001b[0m\u001b[1;33m=\u001b[0m\u001b[0moutput\u001b[0m\u001b[1;33m,\u001b[0m \u001b[0mline_discipline\u001b[0m\u001b[1;33m=\u001b[0m\u001b[0mline_discipline\u001b[0m\u001b[1;33m\u001b[0m\u001b[1;33m\u001b[0m\u001b[0m\n\u001b[0;32m     91\u001b[0m     )\n",
      "\u001b[1;32m~\\anaconda3\\lib\\site-packages\\qiskit\\tools\\monitor\\job_monitor.py\u001b[0m in \u001b[0;36m_text_checker\u001b[1;34m(job, interval, _interval_set, quiet, output, line_discipline)\u001b[0m\n\u001b[0;32m     43\u001b[0m     \u001b[1;32mwhile\u001b[0m \u001b[0mstatus\u001b[0m\u001b[1;33m.\u001b[0m\u001b[0mname\u001b[0m \u001b[1;32mnot\u001b[0m \u001b[1;32min\u001b[0m \u001b[1;33m[\u001b[0m\u001b[1;34m\"DONE\"\u001b[0m\u001b[1;33m,\u001b[0m \u001b[1;34m\"CANCELLED\"\u001b[0m\u001b[1;33m,\u001b[0m \u001b[1;34m\"ERROR\"\u001b[0m\u001b[1;33m]\u001b[0m\u001b[1;33m:\u001b[0m\u001b[1;33m\u001b[0m\u001b[1;33m\u001b[0m\u001b[0m\n\u001b[0;32m     44\u001b[0m         \u001b[0mtime\u001b[0m\u001b[1;33m.\u001b[0m\u001b[0msleep\u001b[0m\u001b[1;33m(\u001b[0m\u001b[0minterval\u001b[0m\u001b[1;33m)\u001b[0m\u001b[1;33m\u001b[0m\u001b[1;33m\u001b[0m\u001b[0m\n\u001b[1;32m---> 45\u001b[1;33m         \u001b[0mstatus\u001b[0m \u001b[1;33m=\u001b[0m \u001b[0mjob\u001b[0m\u001b[1;33m.\u001b[0m\u001b[0mstatus\u001b[0m\u001b[1;33m(\u001b[0m\u001b[1;33m)\u001b[0m\u001b[1;33m\u001b[0m\u001b[1;33m\u001b[0m\u001b[0m\n\u001b[0m\u001b[0;32m     46\u001b[0m         \u001b[0mmsg\u001b[0m \u001b[1;33m=\u001b[0m \u001b[0mstatus\u001b[0m\u001b[1;33m.\u001b[0m\u001b[0mvalue\u001b[0m\u001b[1;33m\u001b[0m\u001b[1;33m\u001b[0m\u001b[0m\n\u001b[0;32m     47\u001b[0m \u001b[1;33m\u001b[0m\u001b[0m\n",
      "\u001b[1;32m~\\anaconda3\\lib\\site-packages\\qiskit\\providers\\ibmq\\job\\ibmqjob.py\u001b[0m in \u001b[0;36mstatus\u001b[1;34m(self)\u001b[0m\n\u001b[0;32m    502\u001b[0m             \u001b[0mapi_response\u001b[0m \u001b[1;33m=\u001b[0m \u001b[0mself\u001b[0m\u001b[1;33m.\u001b[0m\u001b[0m_api_client\u001b[0m\u001b[1;33m.\u001b[0m\u001b[0mjob_status\u001b[0m\u001b[1;33m(\u001b[0m\u001b[0mself\u001b[0m\u001b[1;33m.\u001b[0m\u001b[0mjob_id\u001b[0m\u001b[1;33m(\u001b[0m\u001b[1;33m)\u001b[0m\u001b[1;33m)\u001b[0m\u001b[1;33m\u001b[0m\u001b[1;33m\u001b[0m\u001b[0m\n\u001b[0;32m    503\u001b[0m             \u001b[0mself\u001b[0m\u001b[1;33m.\u001b[0m\u001b[0m_api_status\u001b[0m \u001b[1;33m=\u001b[0m \u001b[0mapi_response\u001b[0m\u001b[1;33m[\u001b[0m\u001b[1;34m'status'\u001b[0m\u001b[1;33m]\u001b[0m\u001b[1;33m\u001b[0m\u001b[1;33m\u001b[0m\u001b[0m\n\u001b[1;32m--> 504\u001b[1;33m             self._status, self._queue_info = self._get_status_position(\n\u001b[0m\u001b[0;32m    505\u001b[0m                 self._api_status, api_response.get('info_queue', None))\n\u001b[0;32m    506\u001b[0m \u001b[1;33m\u001b[0m\u001b[0m\n",
      "\u001b[1;32m~\\anaconda3\\lib\\contextlib.py\u001b[0m in \u001b[0;36m__exit__\u001b[1;34m(self, typ, value, traceback)\u001b[0m\n\u001b[0;32m    135\u001b[0m                 \u001b[0mvalue\u001b[0m \u001b[1;33m=\u001b[0m \u001b[0mtyp\u001b[0m\u001b[1;33m(\u001b[0m\u001b[1;33m)\u001b[0m\u001b[1;33m\u001b[0m\u001b[1;33m\u001b[0m\u001b[0m\n\u001b[0;32m    136\u001b[0m             \u001b[1;32mtry\u001b[0m\u001b[1;33m:\u001b[0m\u001b[1;33m\u001b[0m\u001b[1;33m\u001b[0m\u001b[0m\n\u001b[1;32m--> 137\u001b[1;33m                 \u001b[0mself\u001b[0m\u001b[1;33m.\u001b[0m\u001b[0mgen\u001b[0m\u001b[1;33m.\u001b[0m\u001b[0mthrow\u001b[0m\u001b[1;33m(\u001b[0m\u001b[0mtyp\u001b[0m\u001b[1;33m,\u001b[0m \u001b[0mvalue\u001b[0m\u001b[1;33m,\u001b[0m \u001b[0mtraceback\u001b[0m\u001b[1;33m)\u001b[0m\u001b[1;33m\u001b[0m\u001b[1;33m\u001b[0m\u001b[0m\n\u001b[0m\u001b[0;32m    138\u001b[0m             \u001b[1;32mexcept\u001b[0m \u001b[0mStopIteration\u001b[0m \u001b[1;32mas\u001b[0m \u001b[0mexc\u001b[0m\u001b[1;33m:\u001b[0m\u001b[1;33m\u001b[0m\u001b[1;33m\u001b[0m\u001b[0m\n\u001b[0;32m    139\u001b[0m                 \u001b[1;31m# Suppress StopIteration *unless* it's the same exception that\u001b[0m\u001b[1;33m\u001b[0m\u001b[1;33m\u001b[0m\u001b[0m\n",
      "\u001b[1;32m~\\anaconda3\\lib\\site-packages\\qiskit\\providers\\ibmq\\job\\utils.py\u001b[0m in \u001b[0;36mapi_to_job_error\u001b[1;34m()\u001b[0m\n\u001b[0;32m     57\u001b[0m         \u001b[1;32myield\u001b[0m\u001b[1;33m\u001b[0m\u001b[1;33m\u001b[0m\u001b[0m\n\u001b[0;32m     58\u001b[0m     \u001b[1;32mexcept\u001b[0m \u001b[0mApiError\u001b[0m \u001b[1;32mas\u001b[0m \u001b[0mapi_err\u001b[0m\u001b[1;33m:\u001b[0m\u001b[1;33m\u001b[0m\u001b[1;33m\u001b[0m\u001b[0m\n\u001b[1;32m---> 59\u001b[1;33m         \u001b[1;32mraise\u001b[0m \u001b[0mIBMQJobApiError\u001b[0m\u001b[1;33m(\u001b[0m\u001b[0mstr\u001b[0m\u001b[1;33m(\u001b[0m\u001b[0mapi_err\u001b[0m\u001b[1;33m)\u001b[0m\u001b[1;33m)\u001b[0m \u001b[1;32mfrom\u001b[0m \u001b[0mapi_err\u001b[0m\u001b[1;33m\u001b[0m\u001b[1;33m\u001b[0m\u001b[0m\n\u001b[0m",
      "\u001b[1;31mIBMQJobApiError\u001b[0m: \"'400 Client Error: Bad Request for url: https://api.quantum-computing.ibm.com/api/Network/ibm-q/Groups/open/Projects/main/Jobs/chjna946f7i49ron2c4g/status/v/1. Error in runtime client calling method getJobMetrics: Error executing GET https://runtime-us-east.quantum-computing.ibm.com/jobs/chjna946f7i49ron2c4g/metrics {No request body}, Error code: 2413.'\""
     ]
    }
   ],
   "source": [
    "start_time1_mit = time.time()\n",
    "print(device)\n",
    "qr = qiskit.QuantumRegister(6); qc = qiskit.QuantumCircuit(qr)\n",
    "qubit_list = [0,1,2,3,4,5] # os qubits para os quais aplicaremos calibracao de medidas\n",
    "meas_calibs, state_labels = complete_meas_cal(qubit_list = qubit_list, qr = qr)\n",
    "job = qiskit.execute(meas_calibs, backend = device, shots = nshots)\n",
    "print(job.job_id())\n",
    "job_monitor(job)\n",
    "meas_fitter = CompleteMeasFitter(job.result(), state_labels)\n",
    "end_time1_mit = time.time()"
   ]
  },
  {
   "cell_type": "code",
   "execution_count": null,
   "id": "2b3548c9",
   "metadata": {},
   "outputs": [],
   "source": [
    "execution_time1_mit_seg = end_time1_mit - start_time1_mit\n",
    "print(\"Tempo de execução:\", round(execution_time1_mit_seg, 2), \"segundos\")\n",
    "execution_time1_mit_min = execution_time1_mit_seg/60\n",
    "print(\"Tempo de execução:\", round(execution_time1_mit_min, 2), \"minutos\")\n",
    "execution_time1_mit_h = execution_time1_mit_min/60\n",
    "print(\"Tempo de execução:\", round(execution_time1_mit_h, 2), \"horas\")"
   ]
  },
  {
   "cell_type": "markdown",
   "id": "659ff681",
   "metadata": {},
   "source": [
    "## Mitigação $WZ_{in}$"
   ]
  },
  {
   "cell_type": "markdown",
   "id": "920e21f2",
   "metadata": {},
   "source": [
    "### Retrieve do job da mitigação"
   ]
  },
  {
   "cell_type": "code",
   "execution_count": 44,
   "id": "39ab95b3",
   "metadata": {},
   "outputs": [],
   "source": [
    "thmax = math.pi-0.01;   dth = thmax/20; th = np.arange(0.01, thmax+dth, dth); d = th.shape[0]\n",
    "mit_rhoWZ_AbWZ_in             = np.zeros(th.shape[0], dtype=object)\n",
    "mit_rhoWZ_AbWZ_out            = np.zeros(th.shape[0], dtype=object)\n",
    "mit_rhoWZ_0bWZ_in             = np.zeros(th.shape[0], dtype=object)\n",
    "mit_rhoWZ_0bWZ_out            = np.zeros(th.shape[0], dtype=object)\n",
    "mit_Phi_WZ_0bWZ_in            = np.zeros(th.shape[0], dtype=object)\n",
    "mit_Phi_WZ_0bWZ_out           = np.zeros(th.shape[0], dtype=object)\n",
    "mit_Irr_WZ_in                 = np.zeros(th.shape[0])\n",
    "mit_Irr_WZ_out                = np.zeros(th.shape[0])"
   ]
  },
  {
   "cell_type": "code",
   "execution_count": 47,
   "id": "23ba048c",
   "metadata": {},
   "outputs": [
    {
     "name": "stdout",
     "output_type": "stream",
     "text": [
      "ibm_nairobi\n",
      "chdn6tim9ctescqge6gg\n",
      "Job Status: job has successfully run\n"
     ]
    }
   ],
   "source": [
    "print(device)\n",
    "qr = qiskit.QuantumRegister(6); qc = qiskit.QuantumCircuit(qr)\n",
    "qubit_list = [1,3,4,5] # os qubits para os quais aplicaremos calibracao de medidas\n",
    "meas_calibs, state_labels = complete_meas_cal(qubit_list = qubit_list, qr = qr)\n",
    "job_ret_WZ_in = device.retrieve_job('chdn6tim9ctescqge6gg')\n",
    "print(job_ret_WZ_in.job_id())\n",
    "job_monitor(job_ret_WZ_in)\n",
    "meas_fitter = CompleteMeasFitter(job_ret_WZ_in.result(), state_labels)"
   ]
  },
  {
   "cell_type": "code",
   "execution_count": 48,
   "id": "78fdbe61",
   "metadata": {
    "scrolled": true
   },
   "outputs": [
    {
     "name": "stdout",
     "output_type": "stream",
     "text": [
      "ibm_nairobi\n",
      "chflp5g4sb77opise4h0\n",
      "chflp5g4sb77opise4h0\n",
      "0.8447710077718652\n",
      "j =  0  - theta = 0.01\n",
      "chfmupf9targ2vqg4ovg\n",
      "chfmupf9targ2vqg4ovg\n",
      "0.8626283921832257\n",
      "j =  1  - theta = 0.16657963267948966\n",
      "chfn93vppn69h5qgh9bg\n",
      "chfn93vppn69h5qgh9bg\n",
      "0.9120939358170282\n",
      "j =  2  - theta = 0.3231592653589793\n",
      "chfq84nppn69h5qidi8g\n",
      "chfq84nppn69h5qidi8g\n",
      "0.9069090487167042\n",
      "j =  3  - theta = 0.479738898038469\n",
      "chfu8ar66hmpifvk570g\n"
     ]
    },
    {
     "ename": "KeyboardInterrupt",
     "evalue": "",
     "output_type": "error",
     "traceback": [
      "\u001b[1;31m---------------------------------------------------------------------------\u001b[0m",
      "\u001b[1;31mKeyboardInterrupt\u001b[0m                         Traceback (most recent call last)",
      "\u001b[1;32m~\\AppData\\Local\\Temp\\ipykernel_1792\\4026154504.py\u001b[0m in \u001b[0;36m<module>\u001b[1;34m\u001b[0m\n\u001b[0;32m      3\u001b[0m     \u001b[0mprint\u001b[0m\u001b[1;33m(\u001b[0m\u001b[0mlist_ids_WZ_in_\u001b[0m\u001b[1;33m[\u001b[0m\u001b[0mj\u001b[0m\u001b[1;33m]\u001b[0m\u001b[1;33m)\u001b[0m\u001b[1;33m\u001b[0m\u001b[1;33m\u001b[0m\u001b[0m\n\u001b[0;32m      4\u001b[0m     \u001b[0mjob_ret_WZ_in\u001b[0m \u001b[1;33m=\u001b[0m \u001b[0mdevice\u001b[0m\u001b[1;33m.\u001b[0m\u001b[0mretrieve_job\u001b[0m\u001b[1;33m(\u001b[0m\u001b[0mlist_ids_WZ_in_\u001b[0m\u001b[1;33m[\u001b[0m\u001b[0mj\u001b[0m\u001b[1;33m]\u001b[0m\u001b[1;33m)\u001b[0m\u001b[1;33m\u001b[0m\u001b[1;33m\u001b[0m\u001b[0m\n\u001b[1;32m----> 5\u001b[1;33m     \u001b[0mmitigated_results_WZ_in\u001b[0m \u001b[1;33m=\u001b[0m \u001b[0mmeas_fitter\u001b[0m\u001b[1;33m.\u001b[0m\u001b[0mfilter\u001b[0m\u001b[1;33m.\u001b[0m\u001b[0mapply\u001b[0m\u001b[1;33m(\u001b[0m\u001b[0mjob_ret_WZ_in\u001b[0m\u001b[1;33m.\u001b[0m\u001b[0mresult\u001b[0m\u001b[1;33m(\u001b[0m\u001b[1;33m)\u001b[0m\u001b[1;33m)\u001b[0m\u001b[1;33m\u001b[0m\u001b[1;33m\u001b[0m\u001b[0m\n\u001b[0m\u001b[0;32m      6\u001b[0m     \u001b[0mqstc\u001b[0m \u001b[1;33m=\u001b[0m \u001b[0mstate_tomography_circuits\u001b[0m\u001b[1;33m(\u001b[0m\u001b[0mqc\u001b[0m\u001b[1;33m,\u001b[0m \u001b[1;33m[\u001b[0m\u001b[0mqr\u001b[0m\u001b[1;33m[\u001b[0m\u001b[1;36m5\u001b[0m\u001b[1;33m]\u001b[0m\u001b[1;33m,\u001b[0m\u001b[0mqr\u001b[0m\u001b[1;33m[\u001b[0m\u001b[1;36m4\u001b[0m\u001b[1;33m]\u001b[0m\u001b[1;33m,\u001b[0m\u001b[0mqr\u001b[0m\u001b[1;33m[\u001b[0m\u001b[1;36m3\u001b[0m\u001b[1;33m]\u001b[0m\u001b[1;33m,\u001b[0m\u001b[0mqr\u001b[0m\u001b[1;33m[\u001b[0m\u001b[1;36m1\u001b[0m\u001b[1;33m]\u001b[0m\u001b[1;33m]\u001b[0m\u001b[1;33m)\u001b[0m \u001b[1;31m# circuit for state tomography\u001b[0m\u001b[1;33m\u001b[0m\u001b[1;33m\u001b[0m\u001b[0m\n\u001b[0;32m      7\u001b[0m     \u001b[0mqstf_mit_WZ_in\u001b[0m \u001b[1;33m=\u001b[0m \u001b[0mStateTomographyFitter\u001b[0m\u001b[1;33m(\u001b[0m\u001b[0mmitigated_results_WZ_in\u001b[0m\u001b[1;33m,\u001b[0m \u001b[0mqstc\u001b[0m\u001b[1;33m)\u001b[0m\u001b[1;33m\u001b[0m\u001b[1;33m\u001b[0m\u001b[0m\n",
      "\u001b[1;32m~\\anaconda3\\lib\\site-packages\\qiskit\\providers\\ibmq\\job\\ibmqjob.py\u001b[0m in \u001b[0;36mresult\u001b[1;34m(self, timeout, wait, partial, refresh)\u001b[0m\n\u001b[0;32m    292\u001b[0m                         self.job_id(), error_message))\n\u001b[0;32m    293\u001b[0m         \u001b[1;32melse\u001b[0m\u001b[1;33m:\u001b[0m\u001b[1;33m\u001b[0m\u001b[1;33m\u001b[0m\u001b[0m\n\u001b[1;32m--> 294\u001b[1;33m             \u001b[0mself\u001b[0m\u001b[1;33m.\u001b[0m\u001b[0m_retrieve_result\u001b[0m\u001b[1;33m(\u001b[0m\u001b[0mrefresh\u001b[0m\u001b[1;33m=\u001b[0m\u001b[0mrefresh\u001b[0m\u001b[1;33m)\u001b[0m\u001b[1;33m\u001b[0m\u001b[1;33m\u001b[0m\u001b[0m\n\u001b[0m\u001b[0;32m    295\u001b[0m \u001b[1;33m\u001b[0m\u001b[0m\n\u001b[0;32m    296\u001b[0m         \u001b[1;32mreturn\u001b[0m \u001b[0mself\u001b[0m\u001b[1;33m.\u001b[0m\u001b[0m_result\u001b[0m\u001b[1;33m\u001b[0m\u001b[1;33m\u001b[0m\u001b[0m\n",
      "\u001b[1;32m~\\anaconda3\\lib\\site-packages\\qiskit\\providers\\ibmq\\job\\ibmqjob.py\u001b[0m in \u001b[0;36m_retrieve_result\u001b[1;34m(self, refresh)\u001b[0m\n\u001b[0;32m    948\u001b[0m         \u001b[1;32mif\u001b[0m \u001b[1;32mnot\u001b[0m \u001b[0mself\u001b[0m\u001b[1;33m.\u001b[0m\u001b[0m_result\u001b[0m \u001b[1;32mor\u001b[0m \u001b[0mrefresh\u001b[0m\u001b[1;33m:\u001b[0m  \u001b[1;31m# type: ignore[has-type]\u001b[0m\u001b[1;33m\u001b[0m\u001b[1;33m\u001b[0m\u001b[0m\n\u001b[0;32m    949\u001b[0m             \u001b[1;32mtry\u001b[0m\u001b[1;33m:\u001b[0m\u001b[1;33m\u001b[0m\u001b[1;33m\u001b[0m\u001b[0m\n\u001b[1;32m--> 950\u001b[1;33m                 result_response = self._api_client.job_result(\n\u001b[0m\u001b[0;32m    951\u001b[0m                     self.job_id(), self._use_object_storage)\n\u001b[0;32m    952\u001b[0m                 \u001b[0mself\u001b[0m\u001b[1;33m.\u001b[0m\u001b[0m_set_result\u001b[0m\u001b[1;33m(\u001b[0m\u001b[0mresult_response\u001b[0m\u001b[1;33m)\u001b[0m\u001b[1;33m\u001b[0m\u001b[1;33m\u001b[0m\u001b[0m\n",
      "\u001b[1;32m~\\anaconda3\\lib\\site-packages\\qiskit\\providers\\ibmq\\api\\clients\\account.py\u001b[0m in \u001b[0;36mjob_result\u001b[1;34m(self, job_id, use_object_storage)\u001b[0m\n\u001b[0;32m    296\u001b[0m         \"\"\"\n\u001b[0;32m    297\u001b[0m         \u001b[1;32mif\u001b[0m \u001b[0muse_object_storage\u001b[0m\u001b[1;33m:\u001b[0m\u001b[1;33m\u001b[0m\u001b[1;33m\u001b[0m\u001b[0m\n\u001b[1;32m--> 298\u001b[1;33m             \u001b[1;32mreturn\u001b[0m \u001b[0mself\u001b[0m\u001b[1;33m.\u001b[0m\u001b[0m_job_result_object_storage\u001b[0m\u001b[1;33m(\u001b[0m\u001b[0mjob_id\u001b[0m\u001b[1;33m)\u001b[0m\u001b[1;33m\u001b[0m\u001b[1;33m\u001b[0m\u001b[0m\n\u001b[0m\u001b[0;32m    299\u001b[0m \u001b[1;33m\u001b[0m\u001b[0m\n\u001b[0;32m    300\u001b[0m         \u001b[1;32mtry\u001b[0m\u001b[1;33m:\u001b[0m\u001b[1;33m\u001b[0m\u001b[1;33m\u001b[0m\u001b[0m\n",
      "\u001b[1;32m~\\anaconda3\\lib\\site-packages\\qiskit\\providers\\ibmq\\api\\clients\\account.py\u001b[0m in \u001b[0;36m_job_result_object_storage\u001b[1;34m(self, job_id)\u001b[0m\n\u001b[0;32m    316\u001b[0m \u001b[1;33m\u001b[0m\u001b[0m\n\u001b[0;32m    317\u001b[0m         \u001b[1;31m# Get the download URL.\u001b[0m\u001b[1;33m\u001b[0m\u001b[1;33m\u001b[0m\u001b[0m\n\u001b[1;32m--> 318\u001b[1;33m         \u001b[0mdownload_url\u001b[0m \u001b[1;33m=\u001b[0m \u001b[0mjob_api\u001b[0m\u001b[1;33m.\u001b[0m\u001b[0mresult_url\u001b[0m\u001b[1;33m(\u001b[0m\u001b[1;33m)\u001b[0m\u001b[1;33m[\u001b[0m\u001b[1;34m'url'\u001b[0m\u001b[1;33m]\u001b[0m\u001b[1;33m\u001b[0m\u001b[1;33m\u001b[0m\u001b[0m\n\u001b[0m\u001b[0;32m    319\u001b[0m \u001b[1;33m\u001b[0m\u001b[0m\n\u001b[0;32m    320\u001b[0m         \u001b[1;31m# Download the result from object storage.\u001b[0m\u001b[1;33m\u001b[0m\u001b[1;33m\u001b[0m\u001b[0m\n",
      "\u001b[1;32m~\\anaconda3\\lib\\site-packages\\qiskit\\providers\\ibmq\\api\\rest\\job.py\u001b[0m in \u001b[0;36mresult_url\u001b[1;34m(self)\u001b[0m\n\u001b[0;32m    146\u001b[0m         \"\"\"\n\u001b[0;32m    147\u001b[0m         \u001b[0murl\u001b[0m \u001b[1;33m=\u001b[0m \u001b[0mself\u001b[0m\u001b[1;33m.\u001b[0m\u001b[0mget_url\u001b[0m\u001b[1;33m(\u001b[0m\u001b[1;34m'result_url'\u001b[0m\u001b[1;33m)\u001b[0m\u001b[1;33m\u001b[0m\u001b[1;33m\u001b[0m\u001b[0m\n\u001b[1;32m--> 148\u001b[1;33m         \u001b[1;32mreturn\u001b[0m \u001b[0mself\u001b[0m\u001b[1;33m.\u001b[0m\u001b[0msession\u001b[0m\u001b[1;33m.\u001b[0m\u001b[0mget\u001b[0m\u001b[1;33m(\u001b[0m\u001b[0murl\u001b[0m\u001b[1;33m)\u001b[0m\u001b[1;33m.\u001b[0m\u001b[0mjson\u001b[0m\u001b[1;33m(\u001b[0m\u001b[1;33m)\u001b[0m\u001b[1;33m\u001b[0m\u001b[1;33m\u001b[0m\u001b[0m\n\u001b[0m\u001b[0;32m    149\u001b[0m \u001b[1;33m\u001b[0m\u001b[0m\n\u001b[0;32m    150\u001b[0m     \u001b[1;32mdef\u001b[0m \u001b[0mstatus\u001b[0m\u001b[1;33m(\u001b[0m\u001b[0mself\u001b[0m\u001b[1;33m)\u001b[0m \u001b[1;33m->\u001b[0m \u001b[0mDict\u001b[0m\u001b[1;33m[\u001b[0m\u001b[0mstr\u001b[0m\u001b[1;33m,\u001b[0m \u001b[0mAny\u001b[0m\u001b[1;33m]\u001b[0m\u001b[1;33m:\u001b[0m\u001b[1;33m\u001b[0m\u001b[1;33m\u001b[0m\u001b[0m\n",
      "\u001b[1;32m~\\anaconda3\\lib\\site-packages\\requests\\sessions.py\u001b[0m in \u001b[0;36mget\u001b[1;34m(self, url, **kwargs)\u001b[0m\n\u001b[0;32m    598\u001b[0m \u001b[1;33m\u001b[0m\u001b[0m\n\u001b[0;32m    599\u001b[0m         \u001b[0mkwargs\u001b[0m\u001b[1;33m.\u001b[0m\u001b[0msetdefault\u001b[0m\u001b[1;33m(\u001b[0m\u001b[1;34m\"allow_redirects\"\u001b[0m\u001b[1;33m,\u001b[0m \u001b[1;32mTrue\u001b[0m\u001b[1;33m)\u001b[0m\u001b[1;33m\u001b[0m\u001b[1;33m\u001b[0m\u001b[0m\n\u001b[1;32m--> 600\u001b[1;33m         \u001b[1;32mreturn\u001b[0m \u001b[0mself\u001b[0m\u001b[1;33m.\u001b[0m\u001b[0mrequest\u001b[0m\u001b[1;33m(\u001b[0m\u001b[1;34m\"GET\"\u001b[0m\u001b[1;33m,\u001b[0m \u001b[0murl\u001b[0m\u001b[1;33m,\u001b[0m \u001b[1;33m**\u001b[0m\u001b[0mkwargs\u001b[0m\u001b[1;33m)\u001b[0m\u001b[1;33m\u001b[0m\u001b[1;33m\u001b[0m\u001b[0m\n\u001b[0m\u001b[0;32m    601\u001b[0m \u001b[1;33m\u001b[0m\u001b[0m\n\u001b[0;32m    602\u001b[0m     \u001b[1;32mdef\u001b[0m \u001b[0moptions\u001b[0m\u001b[1;33m(\u001b[0m\u001b[0mself\u001b[0m\u001b[1;33m,\u001b[0m \u001b[0murl\u001b[0m\u001b[1;33m,\u001b[0m \u001b[1;33m**\u001b[0m\u001b[0mkwargs\u001b[0m\u001b[1;33m)\u001b[0m\u001b[1;33m:\u001b[0m\u001b[1;33m\u001b[0m\u001b[1;33m\u001b[0m\u001b[0m\n",
      "\u001b[1;32m~\\anaconda3\\lib\\site-packages\\qiskit\\providers\\ibmq\\api\\session.py\u001b[0m in \u001b[0;36mrequest\u001b[1;34m(self, method, url, bare, **kwargs)\u001b[0m\n\u001b[0;32m    275\u001b[0m         \u001b[1;32mtry\u001b[0m\u001b[1;33m:\u001b[0m\u001b[1;33m\u001b[0m\u001b[1;33m\u001b[0m\u001b[0m\n\u001b[0;32m    276\u001b[0m             \u001b[0mself\u001b[0m\u001b[1;33m.\u001b[0m\u001b[0m_log_request_info\u001b[0m\u001b[1;33m(\u001b[0m\u001b[0murl\u001b[0m\u001b[1;33m,\u001b[0m \u001b[0mmethod\u001b[0m\u001b[1;33m,\u001b[0m \u001b[0mkwargs\u001b[0m\u001b[1;33m)\u001b[0m\u001b[1;33m\u001b[0m\u001b[1;33m\u001b[0m\u001b[0m\n\u001b[1;32m--> 277\u001b[1;33m             \u001b[0mresponse\u001b[0m \u001b[1;33m=\u001b[0m \u001b[0msuper\u001b[0m\u001b[1;33m(\u001b[0m\u001b[1;33m)\u001b[0m\u001b[1;33m.\u001b[0m\u001b[0mrequest\u001b[0m\u001b[1;33m(\u001b[0m\u001b[0mmethod\u001b[0m\u001b[1;33m,\u001b[0m \u001b[0mfinal_url\u001b[0m\u001b[1;33m,\u001b[0m \u001b[0mheaders\u001b[0m\u001b[1;33m=\u001b[0m\u001b[0mheaders\u001b[0m\u001b[1;33m,\u001b[0m \u001b[1;33m**\u001b[0m\u001b[0mkwargs\u001b[0m\u001b[1;33m)\u001b[0m\u001b[1;33m\u001b[0m\u001b[1;33m\u001b[0m\u001b[0m\n\u001b[0m\u001b[0;32m    278\u001b[0m             \u001b[0mresponse\u001b[0m\u001b[1;33m.\u001b[0m\u001b[0mraise_for_status\u001b[0m\u001b[1;33m(\u001b[0m\u001b[1;33m)\u001b[0m\u001b[1;33m\u001b[0m\u001b[1;33m\u001b[0m\u001b[0m\n\u001b[0;32m    279\u001b[0m         \u001b[1;32mexcept\u001b[0m \u001b[0mRequestException\u001b[0m \u001b[1;32mas\u001b[0m \u001b[0mex\u001b[0m\u001b[1;33m:\u001b[0m\u001b[1;33m\u001b[0m\u001b[1;33m\u001b[0m\u001b[0m\n",
      "\u001b[1;32m~\\anaconda3\\lib\\site-packages\\requests\\sessions.py\u001b[0m in \u001b[0;36mrequest\u001b[1;34m(self, method, url, params, data, headers, cookies, files, auth, timeout, allow_redirects, proxies, hooks, stream, verify, cert, json)\u001b[0m\n\u001b[0;32m    585\u001b[0m         }\n\u001b[0;32m    586\u001b[0m         \u001b[0msend_kwargs\u001b[0m\u001b[1;33m.\u001b[0m\u001b[0mupdate\u001b[0m\u001b[1;33m(\u001b[0m\u001b[0msettings\u001b[0m\u001b[1;33m)\u001b[0m\u001b[1;33m\u001b[0m\u001b[1;33m\u001b[0m\u001b[0m\n\u001b[1;32m--> 587\u001b[1;33m         \u001b[0mresp\u001b[0m \u001b[1;33m=\u001b[0m \u001b[0mself\u001b[0m\u001b[1;33m.\u001b[0m\u001b[0msend\u001b[0m\u001b[1;33m(\u001b[0m\u001b[0mprep\u001b[0m\u001b[1;33m,\u001b[0m \u001b[1;33m**\u001b[0m\u001b[0msend_kwargs\u001b[0m\u001b[1;33m)\u001b[0m\u001b[1;33m\u001b[0m\u001b[1;33m\u001b[0m\u001b[0m\n\u001b[0m\u001b[0;32m    588\u001b[0m \u001b[1;33m\u001b[0m\u001b[0m\n\u001b[0;32m    589\u001b[0m         \u001b[1;32mreturn\u001b[0m \u001b[0mresp\u001b[0m\u001b[1;33m\u001b[0m\u001b[1;33m\u001b[0m\u001b[0m\n",
      "\u001b[1;32m~\\anaconda3\\lib\\site-packages\\requests\\sessions.py\u001b[0m in \u001b[0;36msend\u001b[1;34m(self, request, **kwargs)\u001b[0m\n\u001b[0;32m    699\u001b[0m \u001b[1;33m\u001b[0m\u001b[0m\n\u001b[0;32m    700\u001b[0m         \u001b[1;31m# Send the request\u001b[0m\u001b[1;33m\u001b[0m\u001b[1;33m\u001b[0m\u001b[0m\n\u001b[1;32m--> 701\u001b[1;33m         \u001b[0mr\u001b[0m \u001b[1;33m=\u001b[0m \u001b[0madapter\u001b[0m\u001b[1;33m.\u001b[0m\u001b[0msend\u001b[0m\u001b[1;33m(\u001b[0m\u001b[0mrequest\u001b[0m\u001b[1;33m,\u001b[0m \u001b[1;33m**\u001b[0m\u001b[0mkwargs\u001b[0m\u001b[1;33m)\u001b[0m\u001b[1;33m\u001b[0m\u001b[1;33m\u001b[0m\u001b[0m\n\u001b[0m\u001b[0;32m    702\u001b[0m \u001b[1;33m\u001b[0m\u001b[0m\n\u001b[0;32m    703\u001b[0m         \u001b[1;31m# Total elapsed time of the request (approximately)\u001b[0m\u001b[1;33m\u001b[0m\u001b[1;33m\u001b[0m\u001b[0m\n",
      "\u001b[1;32m~\\anaconda3\\lib\\site-packages\\requests\\adapters.py\u001b[0m in \u001b[0;36msend\u001b[1;34m(self, request, stream, timeout, verify, cert, proxies)\u001b[0m\n\u001b[0;32m    487\u001b[0m         \u001b[1;32mtry\u001b[0m\u001b[1;33m:\u001b[0m\u001b[1;33m\u001b[0m\u001b[1;33m\u001b[0m\u001b[0m\n\u001b[0;32m    488\u001b[0m             \u001b[1;32mif\u001b[0m \u001b[1;32mnot\u001b[0m \u001b[0mchunked\u001b[0m\u001b[1;33m:\u001b[0m\u001b[1;33m\u001b[0m\u001b[1;33m\u001b[0m\u001b[0m\n\u001b[1;32m--> 489\u001b[1;33m                 resp = conn.urlopen(\n\u001b[0m\u001b[0;32m    490\u001b[0m                     \u001b[0mmethod\u001b[0m\u001b[1;33m=\u001b[0m\u001b[0mrequest\u001b[0m\u001b[1;33m.\u001b[0m\u001b[0mmethod\u001b[0m\u001b[1;33m,\u001b[0m\u001b[1;33m\u001b[0m\u001b[1;33m\u001b[0m\u001b[0m\n\u001b[0;32m    491\u001b[0m                     \u001b[0murl\u001b[0m\u001b[1;33m=\u001b[0m\u001b[0murl\u001b[0m\u001b[1;33m,\u001b[0m\u001b[1;33m\u001b[0m\u001b[1;33m\u001b[0m\u001b[0m\n",
      "\u001b[1;32m~\\anaconda3\\lib\\site-packages\\urllib3\\connectionpool.py\u001b[0m in \u001b[0;36murlopen\u001b[1;34m(self, method, url, body, headers, retries, redirect, assert_same_host, timeout, pool_timeout, release_conn, chunked, body_pos, **response_kw)\u001b[0m\n\u001b[0;32m    701\u001b[0m \u001b[1;33m\u001b[0m\u001b[0m\n\u001b[0;32m    702\u001b[0m             \u001b[1;31m# Make the request on the httplib connection object.\u001b[0m\u001b[1;33m\u001b[0m\u001b[1;33m\u001b[0m\u001b[0m\n\u001b[1;32m--> 703\u001b[1;33m             httplib_response = self._make_request(\n\u001b[0m\u001b[0;32m    704\u001b[0m                 \u001b[0mconn\u001b[0m\u001b[1;33m,\u001b[0m\u001b[1;33m\u001b[0m\u001b[1;33m\u001b[0m\u001b[0m\n\u001b[0;32m    705\u001b[0m                 \u001b[0mmethod\u001b[0m\u001b[1;33m,\u001b[0m\u001b[1;33m\u001b[0m\u001b[1;33m\u001b[0m\u001b[0m\n",
      "\u001b[1;32m~\\anaconda3\\lib\\site-packages\\urllib3\\connectionpool.py\u001b[0m in \u001b[0;36m_make_request\u001b[1;34m(self, conn, method, url, timeout, chunked, **httplib_request_kw)\u001b[0m\n\u001b[0;32m    447\u001b[0m                     \u001b[1;31m# Python 3 (including for exceptions like SystemExit).\u001b[0m\u001b[1;33m\u001b[0m\u001b[1;33m\u001b[0m\u001b[0m\n\u001b[0;32m    448\u001b[0m                     \u001b[1;31m# Otherwise it looks like a bug in the code.\u001b[0m\u001b[1;33m\u001b[0m\u001b[1;33m\u001b[0m\u001b[0m\n\u001b[1;32m--> 449\u001b[1;33m                     \u001b[0msix\u001b[0m\u001b[1;33m.\u001b[0m\u001b[0mraise_from\u001b[0m\u001b[1;33m(\u001b[0m\u001b[0me\u001b[0m\u001b[1;33m,\u001b[0m \u001b[1;32mNone\u001b[0m\u001b[1;33m)\u001b[0m\u001b[1;33m\u001b[0m\u001b[1;33m\u001b[0m\u001b[0m\n\u001b[0m\u001b[0;32m    450\u001b[0m         \u001b[1;32mexcept\u001b[0m \u001b[1;33m(\u001b[0m\u001b[0mSocketTimeout\u001b[0m\u001b[1;33m,\u001b[0m \u001b[0mBaseSSLError\u001b[0m\u001b[1;33m,\u001b[0m \u001b[0mSocketError\u001b[0m\u001b[1;33m)\u001b[0m \u001b[1;32mas\u001b[0m \u001b[0me\u001b[0m\u001b[1;33m:\u001b[0m\u001b[1;33m\u001b[0m\u001b[1;33m\u001b[0m\u001b[0m\n\u001b[0;32m    451\u001b[0m             \u001b[0mself\u001b[0m\u001b[1;33m.\u001b[0m\u001b[0m_raise_timeout\u001b[0m\u001b[1;33m(\u001b[0m\u001b[0merr\u001b[0m\u001b[1;33m=\u001b[0m\u001b[0me\u001b[0m\u001b[1;33m,\u001b[0m \u001b[0murl\u001b[0m\u001b[1;33m=\u001b[0m\u001b[0murl\u001b[0m\u001b[1;33m,\u001b[0m \u001b[0mtimeout_value\u001b[0m\u001b[1;33m=\u001b[0m\u001b[0mread_timeout\u001b[0m\u001b[1;33m)\u001b[0m\u001b[1;33m\u001b[0m\u001b[1;33m\u001b[0m\u001b[0m\n",
      "\u001b[1;32m~\\anaconda3\\lib\\site-packages\\urllib3\\packages\\six.py\u001b[0m in \u001b[0;36mraise_from\u001b[1;34m(value, from_value)\u001b[0m\n",
      "\u001b[1;32m~\\anaconda3\\lib\\site-packages\\urllib3\\connectionpool.py\u001b[0m in \u001b[0;36m_make_request\u001b[1;34m(self, conn, method, url, timeout, chunked, **httplib_request_kw)\u001b[0m\n\u001b[0;32m    442\u001b[0m                 \u001b[1;31m# Python 3\u001b[0m\u001b[1;33m\u001b[0m\u001b[1;33m\u001b[0m\u001b[0m\n\u001b[0;32m    443\u001b[0m                 \u001b[1;32mtry\u001b[0m\u001b[1;33m:\u001b[0m\u001b[1;33m\u001b[0m\u001b[1;33m\u001b[0m\u001b[0m\n\u001b[1;32m--> 444\u001b[1;33m                     \u001b[0mhttplib_response\u001b[0m \u001b[1;33m=\u001b[0m \u001b[0mconn\u001b[0m\u001b[1;33m.\u001b[0m\u001b[0mgetresponse\u001b[0m\u001b[1;33m(\u001b[0m\u001b[1;33m)\u001b[0m\u001b[1;33m\u001b[0m\u001b[1;33m\u001b[0m\u001b[0m\n\u001b[0m\u001b[0;32m    445\u001b[0m                 \u001b[1;32mexcept\u001b[0m \u001b[0mBaseException\u001b[0m \u001b[1;32mas\u001b[0m \u001b[0me\u001b[0m\u001b[1;33m:\u001b[0m\u001b[1;33m\u001b[0m\u001b[1;33m\u001b[0m\u001b[0m\n\u001b[0;32m    446\u001b[0m                     \u001b[1;31m# Remove the TypeError from the exception chain in\u001b[0m\u001b[1;33m\u001b[0m\u001b[1;33m\u001b[0m\u001b[0m\n",
      "\u001b[1;32m~\\anaconda3\\lib\\http\\client.py\u001b[0m in \u001b[0;36mgetresponse\u001b[1;34m(self)\u001b[0m\n\u001b[0;32m   1375\u001b[0m         \u001b[1;32mtry\u001b[0m\u001b[1;33m:\u001b[0m\u001b[1;33m\u001b[0m\u001b[1;33m\u001b[0m\u001b[0m\n\u001b[0;32m   1376\u001b[0m             \u001b[1;32mtry\u001b[0m\u001b[1;33m:\u001b[0m\u001b[1;33m\u001b[0m\u001b[1;33m\u001b[0m\u001b[0m\n\u001b[1;32m-> 1377\u001b[1;33m                 \u001b[0mresponse\u001b[0m\u001b[1;33m.\u001b[0m\u001b[0mbegin\u001b[0m\u001b[1;33m(\u001b[0m\u001b[1;33m)\u001b[0m\u001b[1;33m\u001b[0m\u001b[1;33m\u001b[0m\u001b[0m\n\u001b[0m\u001b[0;32m   1378\u001b[0m             \u001b[1;32mexcept\u001b[0m \u001b[0mConnectionError\u001b[0m\u001b[1;33m:\u001b[0m\u001b[1;33m\u001b[0m\u001b[1;33m\u001b[0m\u001b[0m\n\u001b[0;32m   1379\u001b[0m                 \u001b[0mself\u001b[0m\u001b[1;33m.\u001b[0m\u001b[0mclose\u001b[0m\u001b[1;33m(\u001b[0m\u001b[1;33m)\u001b[0m\u001b[1;33m\u001b[0m\u001b[1;33m\u001b[0m\u001b[0m\n",
      "\u001b[1;32m~\\anaconda3\\lib\\http\\client.py\u001b[0m in \u001b[0;36mbegin\u001b[1;34m(self)\u001b[0m\n\u001b[0;32m    318\u001b[0m         \u001b[1;31m# read until we get a non-100 response\u001b[0m\u001b[1;33m\u001b[0m\u001b[1;33m\u001b[0m\u001b[0m\n\u001b[0;32m    319\u001b[0m         \u001b[1;32mwhile\u001b[0m \u001b[1;32mTrue\u001b[0m\u001b[1;33m:\u001b[0m\u001b[1;33m\u001b[0m\u001b[1;33m\u001b[0m\u001b[0m\n\u001b[1;32m--> 320\u001b[1;33m             \u001b[0mversion\u001b[0m\u001b[1;33m,\u001b[0m \u001b[0mstatus\u001b[0m\u001b[1;33m,\u001b[0m \u001b[0mreason\u001b[0m \u001b[1;33m=\u001b[0m \u001b[0mself\u001b[0m\u001b[1;33m.\u001b[0m\u001b[0m_read_status\u001b[0m\u001b[1;33m(\u001b[0m\u001b[1;33m)\u001b[0m\u001b[1;33m\u001b[0m\u001b[1;33m\u001b[0m\u001b[0m\n\u001b[0m\u001b[0;32m    321\u001b[0m             \u001b[1;32mif\u001b[0m \u001b[0mstatus\u001b[0m \u001b[1;33m!=\u001b[0m \u001b[0mCONTINUE\u001b[0m\u001b[1;33m:\u001b[0m\u001b[1;33m\u001b[0m\u001b[1;33m\u001b[0m\u001b[0m\n\u001b[0;32m    322\u001b[0m                 \u001b[1;32mbreak\u001b[0m\u001b[1;33m\u001b[0m\u001b[1;33m\u001b[0m\u001b[0m\n",
      "\u001b[1;32m~\\anaconda3\\lib\\http\\client.py\u001b[0m in \u001b[0;36m_read_status\u001b[1;34m(self)\u001b[0m\n\u001b[0;32m    279\u001b[0m \u001b[1;33m\u001b[0m\u001b[0m\n\u001b[0;32m    280\u001b[0m     \u001b[1;32mdef\u001b[0m \u001b[0m_read_status\u001b[0m\u001b[1;33m(\u001b[0m\u001b[0mself\u001b[0m\u001b[1;33m)\u001b[0m\u001b[1;33m:\u001b[0m\u001b[1;33m\u001b[0m\u001b[1;33m\u001b[0m\u001b[0m\n\u001b[1;32m--> 281\u001b[1;33m         \u001b[0mline\u001b[0m \u001b[1;33m=\u001b[0m \u001b[0mstr\u001b[0m\u001b[1;33m(\u001b[0m\u001b[0mself\u001b[0m\u001b[1;33m.\u001b[0m\u001b[0mfp\u001b[0m\u001b[1;33m.\u001b[0m\u001b[0mreadline\u001b[0m\u001b[1;33m(\u001b[0m\u001b[0m_MAXLINE\u001b[0m \u001b[1;33m+\u001b[0m \u001b[1;36m1\u001b[0m\u001b[1;33m)\u001b[0m\u001b[1;33m,\u001b[0m \u001b[1;34m\"iso-8859-1\"\u001b[0m\u001b[1;33m)\u001b[0m\u001b[1;33m\u001b[0m\u001b[1;33m\u001b[0m\u001b[0m\n\u001b[0m\u001b[0;32m    282\u001b[0m         \u001b[1;32mif\u001b[0m \u001b[0mlen\u001b[0m\u001b[1;33m(\u001b[0m\u001b[0mline\u001b[0m\u001b[1;33m)\u001b[0m \u001b[1;33m>\u001b[0m \u001b[0m_MAXLINE\u001b[0m\u001b[1;33m:\u001b[0m\u001b[1;33m\u001b[0m\u001b[1;33m\u001b[0m\u001b[0m\n\u001b[0;32m    283\u001b[0m             \u001b[1;32mraise\u001b[0m \u001b[0mLineTooLong\u001b[0m\u001b[1;33m(\u001b[0m\u001b[1;34m\"status line\"\u001b[0m\u001b[1;33m)\u001b[0m\u001b[1;33m\u001b[0m\u001b[1;33m\u001b[0m\u001b[0m\n",
      "\u001b[1;32m~\\anaconda3\\lib\\socket.py\u001b[0m in \u001b[0;36mreadinto\u001b[1;34m(self, b)\u001b[0m\n\u001b[0;32m    702\u001b[0m         \u001b[1;32mwhile\u001b[0m \u001b[1;32mTrue\u001b[0m\u001b[1;33m:\u001b[0m\u001b[1;33m\u001b[0m\u001b[1;33m\u001b[0m\u001b[0m\n\u001b[0;32m    703\u001b[0m             \u001b[1;32mtry\u001b[0m\u001b[1;33m:\u001b[0m\u001b[1;33m\u001b[0m\u001b[1;33m\u001b[0m\u001b[0m\n\u001b[1;32m--> 704\u001b[1;33m                 \u001b[1;32mreturn\u001b[0m \u001b[0mself\u001b[0m\u001b[1;33m.\u001b[0m\u001b[0m_sock\u001b[0m\u001b[1;33m.\u001b[0m\u001b[0mrecv_into\u001b[0m\u001b[1;33m(\u001b[0m\u001b[0mb\u001b[0m\u001b[1;33m)\u001b[0m\u001b[1;33m\u001b[0m\u001b[1;33m\u001b[0m\u001b[0m\n\u001b[0m\u001b[0;32m    705\u001b[0m             \u001b[1;32mexcept\u001b[0m \u001b[0mtimeout\u001b[0m\u001b[1;33m:\u001b[0m\u001b[1;33m\u001b[0m\u001b[1;33m\u001b[0m\u001b[0m\n\u001b[0;32m    706\u001b[0m                 \u001b[0mself\u001b[0m\u001b[1;33m.\u001b[0m\u001b[0m_timeout_occurred\u001b[0m \u001b[1;33m=\u001b[0m \u001b[1;32mTrue\u001b[0m\u001b[1;33m\u001b[0m\u001b[1;33m\u001b[0m\u001b[0m\n",
      "\u001b[1;32m~\\anaconda3\\lib\\ssl.py\u001b[0m in \u001b[0;36mrecv_into\u001b[1;34m(self, buffer, nbytes, flags)\u001b[0m\n\u001b[0;32m   1240\u001b[0m                   \u001b[1;34m\"non-zero flags not allowed in calls to recv_into() on %s\"\u001b[0m \u001b[1;33m%\u001b[0m\u001b[1;33m\u001b[0m\u001b[1;33m\u001b[0m\u001b[0m\n\u001b[0;32m   1241\u001b[0m                   self.__class__)\n\u001b[1;32m-> 1242\u001b[1;33m             \u001b[1;32mreturn\u001b[0m \u001b[0mself\u001b[0m\u001b[1;33m.\u001b[0m\u001b[0mread\u001b[0m\u001b[1;33m(\u001b[0m\u001b[0mnbytes\u001b[0m\u001b[1;33m,\u001b[0m \u001b[0mbuffer\u001b[0m\u001b[1;33m)\u001b[0m\u001b[1;33m\u001b[0m\u001b[1;33m\u001b[0m\u001b[0m\n\u001b[0m\u001b[0;32m   1243\u001b[0m         \u001b[1;32melse\u001b[0m\u001b[1;33m:\u001b[0m\u001b[1;33m\u001b[0m\u001b[1;33m\u001b[0m\u001b[0m\n\u001b[0;32m   1244\u001b[0m             \u001b[1;32mreturn\u001b[0m \u001b[0msuper\u001b[0m\u001b[1;33m(\u001b[0m\u001b[1;33m)\u001b[0m\u001b[1;33m.\u001b[0m\u001b[0mrecv_into\u001b[0m\u001b[1;33m(\u001b[0m\u001b[0mbuffer\u001b[0m\u001b[1;33m,\u001b[0m \u001b[0mnbytes\u001b[0m\u001b[1;33m,\u001b[0m \u001b[0mflags\u001b[0m\u001b[1;33m)\u001b[0m\u001b[1;33m\u001b[0m\u001b[1;33m\u001b[0m\u001b[0m\n",
      "\u001b[1;32m~\\anaconda3\\lib\\ssl.py\u001b[0m in \u001b[0;36mread\u001b[1;34m(self, len, buffer)\u001b[0m\n\u001b[0;32m   1098\u001b[0m         \u001b[1;32mtry\u001b[0m\u001b[1;33m:\u001b[0m\u001b[1;33m\u001b[0m\u001b[1;33m\u001b[0m\u001b[0m\n\u001b[0;32m   1099\u001b[0m             \u001b[1;32mif\u001b[0m \u001b[0mbuffer\u001b[0m \u001b[1;32mis\u001b[0m \u001b[1;32mnot\u001b[0m \u001b[1;32mNone\u001b[0m\u001b[1;33m:\u001b[0m\u001b[1;33m\u001b[0m\u001b[1;33m\u001b[0m\u001b[0m\n\u001b[1;32m-> 1100\u001b[1;33m                 \u001b[1;32mreturn\u001b[0m \u001b[0mself\u001b[0m\u001b[1;33m.\u001b[0m\u001b[0m_sslobj\u001b[0m\u001b[1;33m.\u001b[0m\u001b[0mread\u001b[0m\u001b[1;33m(\u001b[0m\u001b[0mlen\u001b[0m\u001b[1;33m,\u001b[0m \u001b[0mbuffer\u001b[0m\u001b[1;33m)\u001b[0m\u001b[1;33m\u001b[0m\u001b[1;33m\u001b[0m\u001b[0m\n\u001b[0m\u001b[0;32m   1101\u001b[0m             \u001b[1;32melse\u001b[0m\u001b[1;33m:\u001b[0m\u001b[1;33m\u001b[0m\u001b[1;33m\u001b[0m\u001b[0m\n\u001b[0;32m   1102\u001b[0m                 \u001b[1;32mreturn\u001b[0m \u001b[0mself\u001b[0m\u001b[1;33m.\u001b[0m\u001b[0m_sslobj\u001b[0m\u001b[1;33m.\u001b[0m\u001b[0mread\u001b[0m\u001b[1;33m(\u001b[0m\u001b[0mlen\u001b[0m\u001b[1;33m)\u001b[0m\u001b[1;33m\u001b[0m\u001b[1;33m\u001b[0m\u001b[0m\n",
      "\u001b[1;31mKeyboardInterrupt\u001b[0m: "
     ]
    }
   ],
   "source": [
    "print(device)\n",
    "for j in range(0, d):\n",
    "    print(list_ids_WZ_in_[j])\n",
    "    job_ret_WZ_in = device.retrieve_job(list_ids_WZ_in_[j])\n",
    "    mitigated_results_WZ_in = meas_fitter.filter.apply(job_ret_WZ_in.result())\n",
    "    qstc = state_tomography_circuits(qc, [qr[5],qr[4],qr[3],qr[1]]) # circuit for state tomography\n",
    "    qstf_mit_WZ_in = StateTomographyFitter(mitigated_results_WZ_in, qstc)\n",
    "    print(job_ret_WZ_in.job_id())\n",
    "    #\n",
    "    # rho\n",
    "    #\n",
    "    mit_rhoWZ_AbWZ_in[j] = qstf_mit_WZ_in.fit(method='lstsq')\n",
    "    #\n",
    "    mit_rhoWZ_0bWZ_in[j] = projM_np(8, '0', mit_rhoWZ_AbWZ_in[j])\n",
    "    mit_Phi_WZ_0bWZ_in[j] = dephasing_map_3qubits_np(mit_rhoWZ_0bWZ_in[j])\n",
    "    mit_Irr_WZ_in[j] = entropy(mit_Phi_WZ_0bWZ_in[j]) - entropy(mit_rhoWZ_0bWZ_in[j])\n",
    "    print(mit_Irr_WZ_in[j])\n",
    "    print('j = {:2d}  - theta = {}'.format(j, th[j]))"
   ]
  },
  {
   "cell_type": "markdown",
   "id": "2d65d3cf",
   "metadata": {},
   "source": [
    "## Mitigação $WZ_{out}$"
   ]
  },
  {
   "cell_type": "markdown",
   "id": "376bdd54",
   "metadata": {},
   "source": [
    "### Retrieve do job da mitigação"
   ]
  },
  {
   "cell_type": "code",
   "execution_count": 61,
   "id": "d37e7a65",
   "metadata": {},
   "outputs": [
    {
     "name": "stdout",
     "output_type": "stream",
     "text": [
      "ibm_nairobi\n",
      "chdn6tim9ctescqge6gg\n",
      "Job Status: job has successfully run\n"
     ]
    }
   ],
   "source": [
    "print(device)\n",
    "qr = qiskit.QuantumRegister(6); qc = qiskit.QuantumCircuit(qr)\n",
    "qubit_list = [1,3,4,5] # os qubits para os quais aplicaremos calibracao de medidas\n",
    "meas_calibs, state_labels = complete_meas_cal(qubit_list = qubit_list, qr = qr)\n",
    "job_ret_WZ_out = device.retrieve_job('chdn6tim9ctescqge6gg')\n",
    "print(job_ret_WZ_out.job_id())\n",
    "job_monitor(job_ret_WZ_out)\n",
    "meas_fitter = CompleteMeasFitter(job_ret_WZ_out.result(), state_labels)"
   ]
  },
  {
   "cell_type": "code",
   "execution_count": 62,
   "id": "a84d2e7d",
   "metadata": {
    "scrolled": false
   },
   "outputs": [
    {
     "name": "stdout",
     "output_type": "stream",
     "text": [
      "ibm_nairobi\n",
      "chgnhbfppn69h5r1qlkg\n",
      "chgnhbfppn69h5r1qlkg\n",
      "0.9073389345709242\n",
      "j =  0  - theta = 0.01\n",
      "chgumofppn69h5r5idhg\n",
      "chgumofppn69h5r5idhg\n",
      "0.9053482791464489\n",
      "j =  1  - theta = 0.16657963267948966\n",
      "chhcchnppn69h5rfrs60\n",
      "chhcchnppn69h5rfrs60\n",
      "0.9196043432963951\n",
      "j =  2  - theta = 0.3231592653589793\n",
      "chhrl12ae4cj9g89p1g0\n",
      "chhrl12ae4cj9g89p1g0\n",
      "0.9101968553223783\n",
      "j =  3  - theta = 0.479738898038469\n",
      "chhsgk46f7i49rudfnf0\n",
      "chhsgk46f7i49rudfnf0\n",
      "0.9034603342068552\n",
      "j =  4  - theta = 0.6363185307179586\n",
      "chhsiviae4cj9g8b6ls0\n",
      "chhsiviae4cj9g8b6ls0\n",
      "0.8890240608074533\n",
      "j =  5  - theta = 0.7928981633974483\n",
      "chhst86pqnphtdr8mgm0\n",
      "chhst86pqnphtdr8mgm0\n",
      "0.8829539418788822\n",
      "j =  6  - theta = 0.9494777960769379\n",
      "chhsvdepqnphtdr8psa0\n",
      "chhsvdepqnphtdr8psa0\n",
      "0.9028882330952172\n",
      "j =  7  - theta = 1.1060574287564275\n",
      "chht2746f7i49rueb0i0\n",
      "chht2746f7i49rueb0i0\n",
      "0.9258562508850345\n",
      "j =  8  - theta = 1.2626370614359173\n",
      "chht4bc6f7i49ruee6o0\n",
      "chht4bc6f7i49ruee6o0\n",
      "0.9231657382725074\n",
      "j =  9  - theta = 1.419216694115407\n",
      "chhtafj7ca17j320kbe0\n",
      "chhtafj7ca17j320kbe0\n",
      "0.9362699332873163\n",
      "j = 10  - theta = 1.5757963267948967\n",
      "chhtr4upqnphtdra5t70\n",
      "chhtr4upqnphtdra5t70\n",
      "0.9329534174445631\n",
      "j = 11  - theta = 1.7323759594743862\n",
      "chhtt7mpqnphtdra9770\n",
      "chhtt7mpqnphtdra9770\n",
      "0.9406768065444557\n",
      "j = 12  - theta = 1.8889555921538759\n",
      "chhuie6pqnphtdrbcig0\n",
      "chhuie6pqnphtdrbcig0\n",
      "0.9334956976673562\n",
      "j = 13  - theta = 2.0455352248333654\n",
      "chhut52ae4cj9g8es5m0\n",
      "chhut52ae4cj9g8es5m0\n",
      "0.9027969101717693\n",
      "j = 14  - theta = 2.202114857512855\n",
      "chhv4epike34bjm9vc1g\n",
      "chhv4epike34bjm9vc1g\n",
      "0.8797715352484682\n",
      "j = 15  - theta = 2.358694490192345\n",
      "chhvht6pqnphtdrd1un0\n",
      "chhvht6pqnphtdrd1un0\n",
      "0.9397721824689549\n",
      "j = 16  - theta = 2.5152741228718343\n",
      "chibquqae4cj9g8vdkhg\n",
      "chibquqae4cj9g8vdkhg\n",
      "0.8489357841490175\n",
      "j = 17  - theta = 2.6718537555513238\n",
      "chicjdc6f7i49rv352qg\n",
      "chicjdc6f7i49rv352qg\n",
      "0.8829194265983293\n",
      "j = 18  - theta = 2.8284333882308137\n",
      "chicn0k6f7i49rv38pp0\n",
      "chicn0k6f7i49rv38pp0\n",
      "0.718150197720878\n",
      "j = 19  - theta = 2.985013020910303\n",
      "chicqmc6f7i49rv3cip0\n",
      "chicqmc6f7i49rv3cip0\n",
      "0.8446346818254455\n",
      "j = 20  - theta = 3.141592653589793\n"
     ]
    }
   ],
   "source": [
    "print(device)\n",
    "for j in range(0, d):\n",
    "    print(list_ids_WZ_out_[j])\n",
    "    job_ret_WZ_out = device.retrieve_job(list_ids_WZ_out_[j])\n",
    "    mitigated_results_WZ_out = meas_fitter.filter.apply(job_ret_WZ_out.result())\n",
    "    qstc = state_tomography_circuits(qc, [qr[5],qr[4],qr[3],qr[1]]) # circuit for state tomography\n",
    "    qstf_mit_WZ_out = StateTomographyFitter(mitigated_results_WZ_out, qstc)\n",
    "    print(job_ret_WZ_out.job_id())\n",
    "    #\n",
    "    # rho\n",
    "    #\n",
    "    mit_rhoWZ_AbWZ_out[j] = qstf_mit_WZ_out.fit(method='lstsq')\n",
    "    #\n",
    "    mit_rhoWZ_0bWZ_out[j] = projM_np(8, '0', mit_rhoWZ_AbWZ_out[j])\n",
    "    mit_Phi_WZ_0bWZ_out[j] = dephasing_map_3qubits_np(mit_rhoWZ_0bWZ_out[j])\n",
    "    mit_Irr_WZ_out[j] = entropy(mit_Phi_WZ_0bWZ_out[j]) - entropy(mit_rhoWZ_0bWZ_out[j])\n",
    "    print(mit_Irr_WZ_out[j])\n",
    "    print('j = {:2d}  - theta = {}'.format(j, th[j]))"
   ]
  },
  {
   "cell_type": "code",
   "execution_count": 66,
   "id": "90f9b8be",
   "metadata": {
    "scrolled": true
   },
   "outputs": [
    {
     "data": {
      "image/png": "[encoded data removed]",
      "text/plain": [
       "<Figure size 650x320 with 1 Axes>"
      ]
     },
     "metadata": {},
     "output_type": "display_data"
    }
   ],
   "source": [
    "import string\n",
    "plt.figure(figsize = (6.5, 3.2), constrained_layout = True)\n",
    "#plt.subplots(figsize=(6.5, 3.2))\n",
    "font = {'family': 'Verdana', 'color':  'black', 'size': 20}\n",
    "#\n",
    "plt.style.use(['science', 'notebook', 'grid'])\n",
    "ax0 = plt.subplot(121)\n",
    "plt.gca().set_xlim([-0.01,3.14])\n",
    "plt.gca().set_ylim([-0.01,0.52])\n",
    "#\n",
    "# simulation\n",
    "#\n",
    "plt.plot(th[:len(th)//2+1], the_Irr_WZ_in[:len(th)//2+1], '-' ,\n",
    "         color='#1f77b4', label = r'$Irr_{WZ, the}^{QWP_{in}}$')\n",
    "plt.plot(th[:len(th)//2+1], mit_Irr_WZ_in[:len(th)//2+1], 'o' ,\n",
    "         color='#1f77b4', label = r'$Irr_{WZ, exp}^{QWP_{in}}$')\n",
    "plt.plot(th[:len(th)//2+1], the_Irr_WZ_out[:len(th)//2+1], '--',\n",
    "         color='#ff7f0e', label = r'$Irr_{WZ,the}^{QWP_{out}}$')\n",
    "plt.plot(th[:len(th)//2+1], mit_Irr_WZ_out[:len(th)//2+1], 's',\n",
    "         color='#ff7f0e', label = r'$Irr_{WZ,exp}^{QWP_{out}}$')\n",
    "#\n",
    "#\n",
    "plt.legend(bbox_to_anchor=(1.3,0.5), loc='center',\n",
    "           borderaxespad=0, fontsize=10)\n",
    "#, frameon=False, handlelength=1.5\n",
    "plt.xlabel(r'$\\theta$')\n",
    "tick_posx= [0, np.pi/8, np.pi/4, 3*np.pi/8, np.pi/2]\n",
    "#, 3*np.pi/4, np.pi, 5*np.pi/4, 3*np.pi/2, 7*np.pi/4, 2*np.pi]\n",
    "labelsx = ['0', r'$\\frac{\\pi}{8}$', r'$\\frac{\\pi}{4}$',\n",
    "           r'$\\frac{3\\pi}{8}$', r'$\\frac{\\pi}{2}$']\n",
    "#, r'$\\frac{3\\pi}{4}$', r'$\\pi$', r'$\\frac{5\\pi}{4}$'\n",
    "#, r'$\\frac{3\\pi}{2}$', r'$\\frac{7\\pi}{4}$', r'$2\\pi$']\n",
    "tick_posy= [0, 0.2, 0.4, 0.6, 0.8, 1.0]\n",
    "labelsy = ['0', '0.2', '0.4', '0.6', '0.8', '1.0']\n",
    "#tick_posx= [0, 5]\n",
    "#labelsx = ['0', '5']\n",
    "plt.xlim([0, np.pi/2])\n",
    "plt.xticks(tick_posx, labelsx)\n",
    "plt.yticks(tick_posy, labelsy)\n",
    "plt.xticks(fontsize=12)\n",
    "plt.yticks(fontsize=12)\n",
    "#plt.tick_params('y', labelleft=False)\n",
    "#ax1.text(-0.1, 1.1, string.ascii_uppercase[1], transform=ax1.transAxes, \n",
    "#            size=20, weight='bold')\n",
    "#\n",
    "#plt.tight_layout()\n",
    "#plt.savefig('zgraph_CCR_vpv=0_sim.pdf', format='pdf', dpi = 1200, bbox_inches='tight')\n",
    "plt.show()"
   ]
  },
  {
   "cell_type": "code",
   "execution_count": null,
   "id": "103893b4",
   "metadata": {},
   "outputs": [],
   "source": []
  }
 ],
 "metadata": {
  "kernelspec": {
   "display_name": "Python 3 (ipykernel)",
   "language": "python",
   "name": "python3"
  },
  "language_info": {
   "codemirror_mode": {
    "name": "ipython",
    "version": 3
   },
   "file_extension": ".py",
   "mimetype": "text/x-python",
   "name": "python",
   "nbconvert_exporter": "python",
   "pygments_lexer": "ipython3",
   "version": "3.9.13"
  }
 },
 "nbformat": 4,
 "nbformat_minor": 5
}
