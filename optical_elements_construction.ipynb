{
 "cells": [
  {
   "cell_type": "code",
   "execution_count": 1,
   "id": "36b10164",
   "metadata": {},
   "outputs": [],
   "source": [
    "%run init.ipynb\n",
    "%run init-tensor_product.ipynb"
   ]
  },
  {
   "cell_type": "code",
   "execution_count": 2,
   "id": "52680a9c",
   "metadata": {},
   "outputs": [
    {
     "data": {
      "image/png": "[encoded data removed]",
      "text/latex": [
       "$\\displaystyle \\left[\\begin{matrix}1 & 0\\\\0 & 1\\end{matrix}\\right]$"
      ],
      "text/plain": [
       "⎡1  0⎤\n",
       "⎢    ⎥\n",
       "⎣0  1⎦"
      ]
     },
     "metadata": {},
     "output_type": "display_data"
    },
    {
     "data": {
      "image/png": "[encoded data removed]",
      "text/latex": [
       "$\\displaystyle \\left[\\begin{matrix}0 & 1\\\\1 & 0\\end{matrix}\\right]$"
      ],
      "text/plain": [
       "⎡0  1⎤\n",
       "⎢    ⎥\n",
       "⎣1  0⎦"
      ]
     },
     "metadata": {},
     "output_type": "display_data"
    },
    {
     "data": {
      "image/png": "[encoded data removed]",
      "text/latex": [
       "$\\displaystyle \\left[\\begin{matrix}0 & - 1.0 i\\\\1.0 i & 0\\end{matrix}\\right]$"
      ],
      "text/plain": [
       "⎡  0    -1.0⋅ⅈ⎤\n",
       "⎢             ⎥\n",
       "⎣1.0⋅ⅈ    0   ⎦"
      ]
     },
     "metadata": {},
     "output_type": "display_data"
    },
    {
     "data": {
      "image/png": "[encoded data removed]",
      "text/latex": [
       "$\\displaystyle \\left[\\begin{matrix}1 & 0\\\\0 & -1\\end{matrix}\\right]$"
      ],
      "text/plain": [
       "⎡1  0 ⎤\n",
       "⎢     ⎥\n",
       "⎣0  -1⎦"
      ]
     },
     "metadata": {},
     "output_type": "display_data"
    }
   ],
   "source": [
    "for j in range(4):\n",
    "    display(pauli(j))"
   ]
  },
  {
   "cell_type": "markdown",
   "id": "74bd7b2c",
   "metadata": {},
   "source": [
    "# Espelhos"
   ]
  },
  {
   "cell_type": "code",
   "execution_count": 3,
   "id": "b534dd75",
   "metadata": {},
   "outputs": [
    {
     "data": {
      "image/png": "[encoded data removed]",
      "text/latex": [
       "$\\displaystyle \\left[\\begin{matrix}0 & 1.0 i\\\\1.0 i & 0\\end{matrix}\\right]$"
      ],
      "text/plain": [
       "⎡  0    1.0⋅ⅈ⎤\n",
       "⎢            ⎥\n",
       "⎣1.0⋅ⅈ    0  ⎦"
      ]
     },
     "execution_count": 3,
     "metadata": {},
     "output_type": "execute_result"
    }
   ],
   "source": [
    "M = pauli(2)*pauli(3)\n",
    "M"
   ]
  },
  {
   "cell_type": "code",
   "execution_count": 4,
   "id": "44fb9f88",
   "metadata": {},
   "outputs": [
    {
     "data": {
      "image/png": "[encoded data removed]",
      "text/latex": [
       "$\\displaystyle 1.0 i {\\left|0\\right\\rangle } {\\left\\langle 1\\right|} + 1.0 i {\\left|1\\right\\rangle } {\\left\\langle 0\\right|}$"
      ],
      "text/plain": [
       "1.0⋅ⅈ⋅❘0⟩⋅⟨1❘ + 1.0⋅ⅈ⋅❘1⟩⋅⟨0❘"
      ]
     },
     "execution_count": 4,
     "metadata": {},
     "output_type": "execute_result"
    }
   ],
   "source": [
    "mbk(M)"
   ]
  },
  {
   "cell_type": "code",
   "execution_count": 5,
   "id": "bfba93ff",
   "metadata": {},
   "outputs": [
    {
     "data": {
      "image/png": "[encoded data removed]",
      "text/latex": [
       "$\\displaystyle \\left[\\begin{matrix}1.0 & 0\\\\0 & 1.0\\end{matrix}\\right]$"
      ],
      "text/plain": [
       "⎡1.0   0 ⎤\n",
       "⎢        ⎥\n",
       "⎣ 0   1.0⎦"
      ]
     },
     "execution_count": 5,
     "metadata": {},
     "output_type": "execute_result"
    }
   ],
   "source": [
    "M*tsco(M)"
   ]
  },
  {
   "cell_type": "code",
   "execution_count": 6,
   "id": "e0b4c132",
   "metadata": {},
   "outputs": [
    {
     "data": {
      "image/png": "[encoded data removed]",
      "text/latex": [
       "$\\displaystyle 1.0 i {\\left|1\\right\\rangle }$"
      ],
      "text/plain": [
       "1.0⋅ⅈ⋅❘1⟩"
      ]
     },
     "metadata": {},
     "output_type": "display_data"
    },
    {
     "data": {
      "image/png": "[encoded data removed]",
      "text/latex": [
       "$\\displaystyle 1.0 i {\\left|0\\right\\rangle }$"
      ],
      "text/plain": [
       "1.0⋅ⅈ⋅❘0⟩"
      ]
     },
     "metadata": {},
     "output_type": "display_data"
    }
   ],
   "source": [
    "for j in range(2):\n",
    "    display(mbk(M*pket(str(j))))"
   ]
  },
  {
   "cell_type": "markdown",
   "id": "ea999943",
   "metadata": {},
   "source": [
    "# QWP"
   ]
  },
  {
   "cell_type": "code",
   "execution_count": 7,
   "id": "1a859bb2",
   "metadata": {},
   "outputs": [
    {
     "data": {
      "image/png": "[encoded data removed]",
      "text/latex": [
       "$\\displaystyle \\left[\\begin{matrix}\\frac{\\sqrt{2}}{2} & \\frac{\\sqrt{2}}{2}\\\\\\frac{\\sqrt{2}}{2} & - \\frac{\\sqrt{2}}{2}\\end{matrix}\\right]$"
      ],
      "text/plain": [
       "⎡√2   √2 ⎤\n",
       "⎢──   ── ⎥\n",
       "⎢2    2  ⎥\n",
       "⎢        ⎥\n",
       "⎢√2  -√2 ⎥\n",
       "⎢──  ────⎥\n",
       "⎣2    2  ⎦"
      ]
     },
     "execution_count": 7,
     "metadata": {},
     "output_type": "execute_result"
    }
   ],
   "source": [
    "H = (1/sqrt(2))*(pauli(1) + pauli(3))\n",
    "H"
   ]
  },
  {
   "cell_type": "code",
   "execution_count": 47,
   "id": "75f3d05d",
   "metadata": {},
   "outputs": [
    {
     "data": {
      "image/png": "[encoded data removed]",
      "text/latex": [
       "$\\displaystyle \\left[\\begin{matrix}1 & 0\\\\0 & i\\end{matrix}\\right]$"
      ],
      "text/plain": [
       "⎡1  0⎤\n",
       "⎢    ⎥\n",
       "⎣0  ⅈ⎦"
      ]
     },
     "execution_count": 47,
     "metadata": {},
     "output_type": "execute_result"
    }
   ],
   "source": [
    "S = pauli(3).applyfunc(lambda x: sqrt(x))\n",
    "S"
   ]
  },
  {
   "cell_type": "code",
   "execution_count": 7,
   "id": "c09285cb",
   "metadata": {},
   "outputs": [
    {
     "data": {
      "image/png": "[encoded data removed]",
      "text/latex": [
       "$\\displaystyle \\left[\\begin{matrix}1 & 0\\\\0 & - i\\end{matrix}\\right]$"
      ],
      "text/plain": [
       "⎡1  0 ⎤\n",
       "⎢     ⎥\n",
       "⎣0  -ⅈ⎦"
      ]
     },
     "execution_count": 7,
     "metadata": {},
     "output_type": "execute_result"
    }
   ],
   "source": [
    "Sdg = tsco(S)\n",
    "Sdg"
   ]
  },
  {
   "cell_type": "code",
   "execution_count": 9,
   "id": "26b83ebf",
   "metadata": {},
   "outputs": [
    {
     "data": {
      "image/png": "[encoded data removed]",
      "text/latex": [
       "$\\displaystyle \\left[\\begin{matrix}\\frac{\\sqrt{2}}{2} & \\frac{\\sqrt{2}}{2}\\\\0.5 \\sqrt{2} i & - 0.5 \\sqrt{2} i\\end{matrix}\\right]$"
      ],
      "text/plain": [
       "⎡   √2        √2    ⎤\n",
       "⎢   ──        ──    ⎥\n",
       "⎢   2         2     ⎥\n",
       "⎢                   ⎥\n",
       "⎣0.5⋅√2⋅ⅈ  -0.5⋅√2⋅ⅈ⎦"
      ]
     },
     "execution_count": 9,
     "metadata": {},
     "output_type": "execute_result"
    }
   ],
   "source": [
    "QWP = S*H\n",
    "QWP"
   ]
  },
  {
   "cell_type": "code",
   "execution_count": 10,
   "id": "8a3ce7de",
   "metadata": {},
   "outputs": [
    {
     "data": {
      "image/png": "[encoded data removed]",
      "text/latex": [
       "$\\displaystyle \\frac{\\sqrt{2} \\left({\\left|0\\right\\rangle } {\\left\\langle 0\\right|} + {\\left|0\\right\\rangle } {\\left\\langle 1\\right|} + i {\\left|1\\right\\rangle } {\\left\\langle 0\\right|} - 1.0 i {\\left|1\\right\\rangle } {\\left\\langle 1\\right|}\\right)}{2}$"
      ],
      "text/plain": [
       "√2⋅(❘0⟩⋅⟨0❘ + ❘0⟩⋅⟨1❘ + ⅈ⋅❘1⟩⋅⟨0❘ - ⅈ⋅❘1⟩⋅⟨1❘)\n",
       "──────────────────────────────────────────────\n",
       "                      2                       "
      ]
     },
     "execution_count": 10,
     "metadata": {},
     "output_type": "execute_result"
    }
   ],
   "source": [
    "mbk(QWP).simplify()"
   ]
  },
  {
   "cell_type": "code",
   "execution_count": 11,
   "id": "30ca2445",
   "metadata": {},
   "outputs": [
    {
     "data": {
      "image/png": "[encoded data removed]",
      "text/latex": [
       "$\\displaystyle \\left[\\begin{matrix}1 & 0\\\\0 & 1.0\\end{matrix}\\right]$"
      ],
      "text/plain": [
       "⎡1   0 ⎤\n",
       "⎢      ⎥\n",
       "⎣0  1.0⎦"
      ]
     },
     "execution_count": 11,
     "metadata": {},
     "output_type": "execute_result"
    }
   ],
   "source": [
    "QWP*tsco(QWP)"
   ]
  },
  {
   "cell_type": "code",
   "execution_count": 12,
   "id": "ac8d9941",
   "metadata": {},
   "outputs": [
    {
     "data": {
      "image/png": "[encoded data removed]",
      "text/latex": [
       "$\\displaystyle \\frac{\\sqrt{2} \\left({\\left|0\\right\\rangle } + i {\\left|1\\right\\rangle }\\right)}{2}$"
      ],
      "text/plain": [
       "√2⋅(❘0⟩ + ⅈ⋅❘1⟩)\n",
       "────────────────\n",
       "       2        "
      ]
     },
     "metadata": {},
     "output_type": "display_data"
    },
    {
     "data": {
      "image/png": "[encoded data removed]",
      "text/latex": [
       "$\\displaystyle \\frac{\\sqrt{2} \\left({\\left|0\\right\\rangle } - 1.0 i {\\left|1\\right\\rangle }\\right)}{2}$"
      ],
      "text/plain": [
       "√2⋅(❘0⟩ - ⅈ⋅❘1⟩)\n",
       "────────────────\n",
       "       2        "
      ]
     },
     "metadata": {},
     "output_type": "display_data"
    }
   ],
   "source": [
    "for j in range(2):\n",
    "    display(mbk(QWP*pket(str(j))).simplify())"
   ]
  },
  {
   "cell_type": "markdown",
   "id": "68f1272b",
   "metadata": {},
   "source": [
    "# BS"
   ]
  },
  {
   "cell_type": "code",
   "execution_count": 13,
   "id": "7ca6048b",
   "metadata": {},
   "outputs": [
    {
     "data": {
      "image/png": "[encoded data removed]",
      "text/latex": [
       "$\\displaystyle \\left[\\begin{matrix}\\frac{\\sqrt{2}}{2} & 0.5 \\sqrt{2} i\\\\0.5 \\sqrt{2} i & 0.5 \\sqrt{2}\\end{matrix}\\right]$"
      ],
      "text/plain": [
       "⎡   √2             ⎤\n",
       "⎢   ──     0.5⋅√2⋅ⅈ⎥\n",
       "⎢   2              ⎥\n",
       "⎢                  ⎥\n",
       "⎣0.5⋅√2⋅ⅈ   0.5⋅√2 ⎦"
      ]
     },
     "execution_count": 13,
     "metadata": {},
     "output_type": "execute_result"
    }
   ],
   "source": [
    "BS = S*H*S\n",
    "BS"
   ]
  },
  {
   "cell_type": "code",
   "execution_count": 14,
   "id": "72539062",
   "metadata": {},
   "outputs": [
    {
     "data": {
      "image/png": "[encoded data removed]",
      "text/latex": [
       "$\\displaystyle \\left[\\begin{matrix}\\frac{\\sqrt{2}}{2} & \\frac{\\sqrt{2} i}{2}\\\\\\frac{\\sqrt{2} i}{2} & \\frac{\\sqrt{2}}{2}\\end{matrix}\\right]$"
      ],
      "text/plain": [
       "⎡ √2   √2⋅ⅈ⎤\n",
       "⎢ ──   ────⎥\n",
       "⎢ 2     2  ⎥\n",
       "⎢          ⎥\n",
       "⎢√2⋅ⅈ   √2 ⎥\n",
       "⎢────   ── ⎥\n",
       "⎣ 2     2  ⎦"
      ]
     },
     "execution_count": 14,
     "metadata": {},
     "output_type": "execute_result"
    }
   ],
   "source": [
    "simplify(BS, rational=True)"
   ]
  },
  {
   "cell_type": "code",
   "execution_count": 15,
   "id": "efaad91f",
   "metadata": {},
   "outputs": [
    {
     "data": {
      "image/png": "[encoded data removed]",
      "text/latex": [
       "$\\displaystyle \\frac{\\sqrt{2} \\left({\\left|0\\right\\rangle } + i {\\left|1\\right\\rangle }\\right)}{2}$"
      ],
      "text/plain": [
       "√2⋅(❘0⟩ + ⅈ⋅❘1⟩)\n",
       "────────────────\n",
       "       2        "
      ]
     },
     "metadata": {},
     "output_type": "display_data"
    },
    {
     "data": {
      "image/png": "[encoded data removed]",
      "text/latex": [
       "$\\displaystyle \\frac{\\sqrt{2} \\left(i {\\left|0\\right\\rangle } + {\\left|1\\right\\rangle }\\right)}{2}$"
      ],
      "text/plain": [
       "√2⋅(ⅈ⋅❘0⟩ + ❘1⟩)\n",
       "────────────────\n",
       "       2        "
      ]
     },
     "metadata": {},
     "output_type": "display_data"
    }
   ],
   "source": [
    "for j in range(2):\n",
    "    display(mbk(BS*pket(str(j))).simplify(rational=True))"
   ]
  },
  {
   "cell_type": "markdown",
   "id": "dc096872",
   "metadata": {},
   "source": [
    "# HWP = CNOT = $C_X^{AB}$"
   ]
  },
  {
   "cell_type": "code",
   "execution_count": 45,
   "id": "dbd32ce7",
   "metadata": {},
   "outputs": [
    {
     "data": {
      "image/png": "[encoded data removed]",
      "text/latex": [
       "$\\displaystyle \\left[\\begin{matrix}1 & 0 & 0 & 0\\\\0 & 1 & 0 & 0\\\\0 & 0 & 0 & 1\\\\0 & 0 & 1 & 0\\end{matrix}\\right]$"
      ],
      "text/plain": [
       "⎡1  0  0  0⎤\n",
       "⎢          ⎥\n",
       "⎢0  1  0  0⎥\n",
       "⎢          ⎥\n",
       "⎢0  0  0  1⎥\n",
       "⎢          ⎥\n",
       "⎣0  0  1  0⎦"
      ]
     },
     "execution_count": 45,
     "metadata": {},
     "output_type": "execute_result"
    }
   ],
   "source": [
    "HWP_AB = CNOT = tp(proj(pket('0')), pauli(0)) + tp(proj(pket('1')), pauli(1))\n",
    "CNOT"
   ]
  },
  {
   "cell_type": "code",
   "execution_count": 46,
   "id": "579184f0",
   "metadata": {},
   "outputs": [
    {
     "data": {
      "image/png": "[encoded data removed]",
      "text/latex": [
       "$\\displaystyle \\left[\\begin{matrix}0 & 1 & 0 & 0\\\\1 & 0 & 0 & 0\\\\0 & 0 & 1 & 0\\\\0 & 0 & 0 & 1\\end{matrix}\\right]$"
      ],
      "text/plain": [
       "⎡0  1  0  0⎤\n",
       "⎢          ⎥\n",
       "⎢1  0  0  0⎥\n",
       "⎢          ⎥\n",
       "⎢0  0  1  0⎥\n",
       "⎢          ⎥\n",
       "⎣0  0  0  1⎦"
      ]
     },
     "execution_count": 46,
     "metadata": {},
     "output_type": "execute_result"
    }
   ],
   "source": [
    "CNOT_AB_0 = tp(proj(pket('1')), pauli(0)) + tp(proj(pket('0')), pauli(1))\n",
    "CNOT_AB_0"
   ]
  },
  {
   "cell_type": "code",
   "execution_count": 17,
   "id": "6403adbf",
   "metadata": {},
   "outputs": [
    {
     "data": {
      "image/png": "[encoded data removed]",
      "text/latex": [
       "$\\displaystyle \\left[\\begin{matrix}1 & 0 & 0 & 0\\\\0 & 1 & 0 & 0\\\\0 & 0 & 0 & 1\\\\0 & 0 & 1 & 0\\end{matrix}\\right]$"
      ],
      "text/plain": [
       "⎡1  0  0  0⎤\n",
       "⎢          ⎥\n",
       "⎢0  1  0  0⎥\n",
       "⎢          ⎥\n",
       "⎢0  0  0  1⎥\n",
       "⎢          ⎥\n",
       "⎣0  0  1  0⎦"
      ]
     },
     "execution_count": 17,
     "metadata": {},
     "output_type": "execute_result"
    }
   ],
   "source": [
    "HWP_AB"
   ]
  },
  {
   "cell_type": "code",
   "execution_count": 18,
   "id": "0e5d0018",
   "metadata": {},
   "outputs": [
    {
     "name": "stdout",
     "output_type": "stream",
     "text": [
      "|00>\n"
     ]
    },
    {
     "data": {
      "image/png": "[encoded data removed]",
      "text/latex": [
       "$\\displaystyle {\\left|00\\right\\rangle }$"
      ],
      "text/plain": [
       "❘00⟩"
      ]
     },
     "metadata": {},
     "output_type": "display_data"
    },
    {
     "name": "stdout",
     "output_type": "stream",
     "text": [
      "|01>\n"
     ]
    },
    {
     "data": {
      "image/png": "[encoded data removed]",
      "text/latex": [
       "$\\displaystyle {\\left|01\\right\\rangle }$"
      ],
      "text/plain": [
       "❘01⟩"
      ]
     },
     "metadata": {},
     "output_type": "display_data"
    },
    {
     "name": "stdout",
     "output_type": "stream",
     "text": [
      "|10>\n"
     ]
    },
    {
     "data": {
      "image/png": "[encoded data removed]",
      "text/latex": [
       "$\\displaystyle {\\left|11\\right\\rangle }$"
      ],
      "text/plain": [
       "❘11⟩"
      ]
     },
     "metadata": {},
     "output_type": "display_data"
    },
    {
     "name": "stdout",
     "output_type": "stream",
     "text": [
      "|11>\n"
     ]
    },
    {
     "data": {
      "image/png": "[encoded data removed]",
      "text/latex": [
       "$\\displaystyle {\\left|10\\right\\rangle }$"
      ],
      "text/plain": [
       "❘10⟩"
      ]
     },
     "metadata": {},
     "output_type": "display_data"
    }
   ],
   "source": [
    "# HWP\n",
    "for j in range(2):\n",
    "    for k in range(2):\n",
    "        print(\"|{}{}>\".format(j,k))\n",
    "        display(mbk(HWP_AB*pket(str(j)+str(k))).simplify())"
   ]
  },
  {
   "cell_type": "code",
   "execution_count": 19,
   "id": "2aedd60e",
   "metadata": {},
   "outputs": [
    {
     "data": {
      "image/png": "[encoded data removed]",
      "text/latex": [
       "$\\displaystyle \\left[\\begin{matrix}1 & 0 & 0 & 0\\\\0 & 0 & 0 & 1\\\\0 & 0 & 1 & 0\\\\0 & 1 & 0 & 0\\end{matrix}\\right]$"
      ],
      "text/plain": [
       "⎡1  0  0  0⎤\n",
       "⎢          ⎥\n",
       "⎢0  0  0  1⎥\n",
       "⎢          ⎥\n",
       "⎢0  0  1  0⎥\n",
       "⎢          ⎥\n",
       "⎣0  1  0  0⎦"
      ]
     },
     "execution_count": 19,
     "metadata": {},
     "output_type": "execute_result"
    }
   ],
   "source": [
    "HWP_BA = CNOT_BA = tp(pauli(0),proj(pket('0'))) + tp(pauli(1), proj(pket('1')))\n",
    "HWP_BA"
   ]
  },
  {
   "cell_type": "code",
   "execution_count": 20,
   "id": "cf8ccae8",
   "metadata": {},
   "outputs": [
    {
     "data": {
      "image/png": "[encoded data removed]",
      "text/latex": [
       "$\\displaystyle \\left[\\begin{matrix}1 & 0 & 0 & 0\\\\0 & 0 & 0 & 1\\\\0 & 0 & 1 & 0\\\\0 & 1 & 0 & 0\\end{matrix}\\right]$"
      ],
      "text/plain": [
       "⎡1  0  0  0⎤\n",
       "⎢          ⎥\n",
       "⎢0  0  0  1⎥\n",
       "⎢          ⎥\n",
       "⎢0  0  1  0⎥\n",
       "⎢          ⎥\n",
       "⎣0  1  0  0⎦"
      ]
     },
     "execution_count": 20,
     "metadata": {},
     "output_type": "execute_result"
    }
   ],
   "source": [
    "HWP_BA = troca_qubit_rho(HWP_AB, 0, 1)\n",
    "HWP_BA"
   ]
  },
  {
   "cell_type": "code",
   "execution_count": 21,
   "id": "41c22ae3",
   "metadata": {},
   "outputs": [
    {
     "name": "stdout",
     "output_type": "stream",
     "text": [
      "HWP_BA|00> = |00>\n",
      "HWP_BA|01> = |11>\n",
      "HWP_BA|10> = |10>\n",
      "HWP_BA|11> = |01>\n"
     ]
    }
   ],
   "source": [
    "# CNOT_BA\n",
    "for j in range(2):\n",
    "    for k in range(2):\n",
    "        print(\"HWP_BA|{}{}> = {}\".format(j,k, mbk(HWP_BA*pket(str(j)+str(k))).simplify()))\n",
    "        #display(mbk(HWP_BA*pket(str(j)+str(k))).simplify())"
   ]
  },
  {
   "cell_type": "markdown",
   "id": "db31474b",
   "metadata": {},
   "source": [
    "# PBS\n",
    "\n",
    "## C_Z = $C_Z^{AB}$"
   ]
  },
  {
   "cell_type": "code",
   "execution_count": 22,
   "id": "528acc83",
   "metadata": {},
   "outputs": [
    {
     "data": {
      "image/png": "[encoded data removed]",
      "text/latex": [
       "$\\displaystyle \\left[\\begin{matrix}1 & 0 & 0 & 0\\\\0 & 1 & 0 & 0\\\\0 & 0 & 1 & 0\\\\0 & 0 & 0 & -1\\end{matrix}\\right]$"
      ],
      "text/plain": [
       "⎡1  0  0  0 ⎤\n",
       "⎢           ⎥\n",
       "⎢0  1  0  0 ⎥\n",
       "⎢           ⎥\n",
       "⎢0  0  1  0 ⎥\n",
       "⎢           ⎥\n",
       "⎣0  0  0  -1⎦"
      ]
     },
     "execution_count": 22,
     "metadata": {},
     "output_type": "execute_result"
    }
   ],
   "source": [
    "C_Z = tp(proj(pket('0')), pauli(0)) + tp(proj(pket('1')), pauli(3))\n",
    "C_Z"
   ]
  },
  {
   "cell_type": "markdown",
   "id": "12738efa",
   "metadata": {},
   "source": [
    "## C_Y = $C_Y^{AB}$"
   ]
  },
  {
   "cell_type": "code",
   "execution_count": 23,
   "id": "ad18b7aa",
   "metadata": {},
   "outputs": [
    {
     "data": {
      "image/png": "[encoded data removed]",
      "text/latex": [
       "$\\displaystyle \\left[\\begin{matrix}1 & 0 & 0 & 0\\\\0 & 1 & 0 & 0\\\\0 & 0 & 0 & - 1.0 i\\\\0 & 0 & 1.0 i & 0\\end{matrix}\\right]$"
      ],
      "text/plain": [
       "⎡1  0    0      0   ⎤\n",
       "⎢                   ⎥\n",
       "⎢0  1    0      0   ⎥\n",
       "⎢                   ⎥\n",
       "⎢0  0    0    -1.0⋅ⅈ⎥\n",
       "⎢                   ⎥\n",
       "⎣0  0  1.0⋅ⅈ    0   ⎦"
      ]
     },
     "execution_count": 23,
     "metadata": {},
     "output_type": "execute_result"
    }
   ],
   "source": [
    "C_Y = tp(proj(pket('0')), pauli(0)) + tp(proj(pket('1')), pauli(2))\n",
    "C_Y"
   ]
  },
  {
   "cell_type": "markdown",
   "id": "bac70421",
   "metadata": {},
   "source": [
    "## PBS"
   ]
  },
  {
   "cell_type": "code",
   "execution_count": 24,
   "id": "80ba1019",
   "metadata": {},
   "outputs": [
    {
     "data": {
      "image/png": "[encoded data removed]",
      "text/latex": [
       "$\\displaystyle \\left[\\begin{matrix}1 & 0 & 0 & 0\\\\0 & 1 & 0 & 0\\\\0 & 0 & 0 & 1.0 i\\\\0 & 0 & 1.0 i & 0\\end{matrix}\\right]$"
      ],
      "text/plain": [
       "⎡1  0    0      0  ⎤\n",
       "⎢                  ⎥\n",
       "⎢0  1    0      0  ⎥\n",
       "⎢                  ⎥\n",
       "⎢0  0    0    1.0⋅ⅈ⎥\n",
       "⎢                  ⎥\n",
       "⎣0  0  1.0⋅ⅈ    0  ⎦"
      ]
     },
     "execution_count": 24,
     "metadata": {},
     "output_type": "execute_result"
    }
   ],
   "source": [
    "PBS_AB = C_Y*C_Z\n",
    "PBS_AB"
   ]
  },
  {
   "cell_type": "code",
   "execution_count": 25,
   "id": "484c1a17",
   "metadata": {},
   "outputs": [
    {
     "name": "stdout",
     "output_type": "stream",
     "text": [
      "|00>\n"
     ]
    },
    {
     "data": {
      "image/png": "[encoded data removed]",
      "text/latex": [
       "$\\displaystyle {\\left|00\\right\\rangle }$"
      ],
      "text/plain": [
       "❘00⟩"
      ]
     },
     "metadata": {},
     "output_type": "display_data"
    },
    {
     "name": "stdout",
     "output_type": "stream",
     "text": [
      "|01>\n"
     ]
    },
    {
     "data": {
      "image/png": "[encoded data removed]",
      "text/latex": [
       "$\\displaystyle {\\left|01\\right\\rangle }$"
      ],
      "text/plain": [
       "❘01⟩"
      ]
     },
     "metadata": {},
     "output_type": "display_data"
    },
    {
     "name": "stdout",
     "output_type": "stream",
     "text": [
      "|10>\n"
     ]
    },
    {
     "data": {
      "image/png": "[encoded data removed]",
      "text/latex": [
       "$\\displaystyle 1.0 i {\\left|11\\right\\rangle }$"
      ],
      "text/plain": [
       "1.0⋅ⅈ⋅❘11⟩"
      ]
     },
     "metadata": {},
     "output_type": "display_data"
    },
    {
     "name": "stdout",
     "output_type": "stream",
     "text": [
      "|11>\n"
     ]
    },
    {
     "data": {
      "image/png": "[encoded data removed]",
      "text/latex": [
       "$\\displaystyle 1.0 i {\\left|10\\right\\rangle }$"
      ],
      "text/plain": [
       "1.0⋅ⅈ⋅❘10⟩"
      ]
     },
     "metadata": {},
     "output_type": "display_data"
    }
   ],
   "source": [
    "for j in range(2):\n",
    "    for k in range(2):\n",
    "        print(\"|{}{}>\".format(j,k))\n",
    "        display(mbk(PBS_AB*pket(str(j)+str(k))).simplify())"
   ]
  },
  {
   "cell_type": "markdown",
   "id": "85d0c2b1",
   "metadata": {},
   "source": [
    "# BBO_AB"
   ]
  },
  {
   "cell_type": "markdown",
   "id": "389a139d",
   "metadata": {},
   "source": [
    "## Par de fótons parcialmente emaranhados\n",
    "\n",
    "Quero construir no IBMQ um estado emaranhado na forma\n",
    "\\begin{equation}\n",
    "\\left\\vert \\Psi_{+}^{part.}\\right\\rangle =c_{+}\\left\\vert 01\\right\\rangle\n",
    "+c_{-}\\left\\vert 10\\right\\rangle .\n",
    "\\end{equation}\n",
    "\n",
    "\n",
    "Temos que a matriz $U_3\\left(  \\theta,\\phi,\\lambda\\right)  $ é dada por\n",
    "\\begin{equation}\n",
    "U_3\\left(  \\theta,\\phi,\\lambda\\right)  =\\left[\n",
    "\\begin{array}\n",
    "[c]{cc}\n",
    "\\cos\\frac{\\theta}{2} & -e^{i\\lambda}\\sin\\frac{\\theta}{2}\\\\\n",
    "e^{i\\phi}\\sin\\frac{\\theta}{2} & e^{i\\left(  \\phi+\\lambda\\right)  }\\cos\n",
    "\\frac{\\theta}{2}\n",
    "\\end{array}\n",
    "\\right]  .\n",
    "\\end{equation}\n",
    "Com $\\phi=\\lambda=0$, segue que\n",
    "\\begin{equation}\n",
    "R_{y}\\left(  \\theta\\right)  =U\\left(  \\theta,0,0\\right)  =\\left[\n",
    "\\begin{array}\n",
    "[c]{cc}\n",
    "\\cos\\frac{\\theta}{2} & -\\sin\\frac{\\theta}{2}\\\\\n",
    "\\sin\\frac{\\theta}{2} & \\cos\\frac{\\theta}{2}\n",
    "\\end{array}\n",
    "\\right]  =\\left[\n",
    "\\begin{array}\n",
    "[c]{cc}\n",
    "c_{+} & -c_{-}\\\\\n",
    "c_{-} & c_{+}\n",
    "\\end{array}\n",
    "\\right]  .\n",
    "\\end{equation}"
   ]
  },
  {
   "cell_type": "markdown",
   "id": "869c1a7e",
   "metadata": {},
   "source": [
    "### Estado inicial do IBMq\n",
    "\n",
    "Vamos verificar que o par parcialmente emaranhado pode ser obtido por meio de\n",
    "\\begin{equation}\n",
    "\\left\\vert \\Psi\\right\\rangle _{AB}=X_{B}C_{X}^{AB}R_{y}^{A}\\left(\n",
    "\\theta\\right)  \\left\\vert 00\\right\\rangle _{AB}.\n",
    "\\end{equation}\n",
    "\n",
    "\n",
    "Considerando $\\left\\vert \\Psi_{0}\\right\\rangle _{AB}=\\left\\vert\n",
    "00\\right\\rangle _{AB},$ temos\n",
    "\\begin{equation}\n",
    "\\left\\vert \\Psi_{1}\\right\\rangle =R_{y}\\left(  \\theta\\right)  \\left\\vert\n",
    "00\\right\\rangle _{AB}=c_{+}\\left\\vert 00\\right\\rangle +c_{-}\\left\\vert\n",
    "10\\right\\rangle .\n",
    "\\end{equation}\n",
    "\n",
    "\n",
    "Agora fazendo $C_{X}^{AB}\\left\\vert \\Psi_{1}\\right\\rangle $, temos\n",
    "\\begin{equation}\n",
    "\\left\\vert \\Psi_{2}\\right\\rangle =c_{+}\\left\\vert 00\\right\\rangle\n",
    "+c_{-}\\left\\vert 11\\right\\rangle .\n",
    "\\end{equation}\n",
    "\n",
    "\n",
    "Atuando $X_{B}\\left\\vert \\Psi_{2}\\right\\rangle $, segue que\n",
    "\\begin{equation}\n",
    "\\left\\vert \\Psi_{3}\\right\\rangle =\\left\\vert \\Psi_{+}^{c}\\right\\rangle\n",
    "=c_{+}\\left\\vert 01\\right\\rangle +c_{-}\\left\\vert 10\\right\\rangle =\\cos\n",
    "\\frac{\\theta}{2}\\left\\vert 01\\right\\rangle +\\sin\\frac{\\theta}{2}\\left\\vert\n",
    "10\\right\\rangle .\n",
    "\\end{equation}"
   ]
  },
  {
   "cell_type": "markdown",
   "id": "696c7c15",
   "metadata": {},
   "source": [
    "## $U3(\\theta, \\phi, \\lambda)$"
   ]
  },
  {
   "cell_type": "code",
   "execution_count": 28,
   "id": "41a18b0d",
   "metadata": {},
   "outputs": [
    {
     "data": {
      "image/png": "[encoded data removed]",
      "text/latex": [
       "$\\displaystyle \\left( \\theta, \\  \\phi, \\  \\lambda\\right)$"
      ],
      "text/plain": [
       "(θ, φ, λ)"
      ]
     },
     "execution_count": 28,
     "metadata": {},
     "output_type": "execute_result"
    }
   ],
   "source": [
    "th, ph, lb = symbols('theta, phi, lambda')\n",
    "th, ph, lb"
   ]
  },
  {
   "cell_type": "code",
   "execution_count": 29,
   "id": "8f73d9cb",
   "metadata": {},
   "outputs": [
    {
     "data": {
      "image/png": "[encoded data removed]",
      "text/latex": [
       "$\\displaystyle \\left( c_{+}, \\  c_{-}\\right)$"
      ],
      "text/plain": [
       "(c₊, c₋)"
      ]
     },
     "execution_count": 29,
     "metadata": {},
     "output_type": "execute_result"
    }
   ],
   "source": [
    "cp, cm = symbols('c_+, c_-')\n",
    "cp, cm"
   ]
  },
  {
   "cell_type": "code",
   "execution_count": 30,
   "id": "70f54993",
   "metadata": {},
   "outputs": [
    {
     "data": {
      "image/png": "[encoded data removed]",
      "text/latex": [
       "$\\displaystyle \\left[\\begin{matrix}\\cos{\\left(\\frac{\\theta}{2} \\right)} & - e^{i \\lambda} \\sin{\\left(\\frac{\\theta}{2} \\right)}\\\\e^{i \\phi} \\sin{\\left(\\frac{\\theta}{2} \\right)} & e^{i \\left(\\lambda + \\phi\\right)} \\cos{\\left(\\frac{\\theta}{2} \\right)}\\end{matrix}\\right]$"
      ],
      "text/plain": [
       "⎡     ⎛θ⎞         ⅈ⋅λ    ⎛θ⎞   ⎤\n",
       "⎢  cos⎜─⎟       -ℯ   ⋅sin⎜─⎟   ⎥\n",
       "⎢     ⎝2⎠                ⎝2⎠   ⎥\n",
       "⎢                              ⎥\n",
       "⎢ ⅈ⋅φ    ⎛θ⎞   ⅈ⋅(λ + φ)    ⎛θ⎞⎥\n",
       "⎢ℯ   ⋅sin⎜─⎟  ℯ         ⋅cos⎜─⎟⎥\n",
       "⎣        ⎝2⎠                ⎝2⎠⎦"
      ]
     },
     "execution_count": 30,
     "metadata": {},
     "output_type": "execute_result"
    }
   ],
   "source": [
    "U3 = cos(th/2)*pauli(0) + sin(th/2)*pauli(1)\n",
    "U3[0,1] = -U3[0,1]*exp(1j*lb)\n",
    "U3[1,0] = U3[1,0]*exp(1j*ph)\n",
    "U3[1,1] = U3[1,1]*exp(1j*(ph+lb))\n",
    "mysim(U3)"
   ]
  },
  {
   "cell_type": "markdown",
   "id": "3859fb80",
   "metadata": {},
   "source": [
    "## $R_Y(\\theta) = U3(\\theta, 0, 0)$"
   ]
  },
  {
   "cell_type": "code",
   "execution_count": 40,
   "id": "bda6ff68",
   "metadata": {},
   "outputs": [
    {
     "data": {
      "image/png": "[encoded data removed]",
      "text/latex": [
       "$\\displaystyle \\left[\\begin{matrix}\\cos{\\left(\\frac{\\theta}{2} \\right)} & - \\sin{\\left(\\frac{\\theta}{2} \\right)}\\\\\\sin{\\left(\\frac{\\theta}{2} \\right)} & \\cos{\\left(\\frac{\\theta}{2} \\right)}\\end{matrix}\\right]$"
      ],
      "text/plain": [
       "⎡   ⎛θ⎞      ⎛θ⎞⎤\n",
       "⎢cos⎜─⎟  -sin⎜─⎟⎥\n",
       "⎢   ⎝2⎠      ⎝2⎠⎥\n",
       "⎢               ⎥\n",
       "⎢   ⎛θ⎞     ⎛θ⎞ ⎥\n",
       "⎢sin⎜─⎟  cos⎜─⎟ ⎥\n",
       "⎣   ⎝2⎠     ⎝2⎠ ⎦"
      ]
     },
     "execution_count": 40,
     "metadata": {},
     "output_type": "execute_result"
    }
   ],
   "source": [
    "R_Y = U3.subs(ph, 0).subs(lb, 0)\n",
    "R_Y"
   ]
  },
  {
   "cell_type": "code",
   "execution_count": 41,
   "id": "6fe8a224",
   "metadata": {},
   "outputs": [
    {
     "data": {
      "image/png": "[encoded data removed]",
      "text/latex": [
       "$\\displaystyle \\left[\\begin{matrix}\\cos{\\left(\\frac{\\theta}{2} \\right)} & - i \\sin{\\left(\\frac{\\theta}{2} \\right)}\\\\- i \\sin{\\left(\\frac{\\theta}{2} \\right)} & \\cos{\\left(\\frac{\\theta}{2} \\right)}\\end{matrix}\\right]$"
      ],
      "text/plain": [
       "⎡    ⎛θ⎞          ⎛θ⎞⎤\n",
       "⎢ cos⎜─⎟    -ⅈ⋅sin⎜─⎟⎥\n",
       "⎢    ⎝2⎠          ⎝2⎠⎥\n",
       "⎢                    ⎥\n",
       "⎢      ⎛θ⎞      ⎛θ⎞  ⎥\n",
       "⎢-ⅈ⋅sin⎜─⎟   cos⎜─⎟  ⎥\n",
       "⎣      ⎝2⎠      ⎝2⎠  ⎦"
      ]
     },
     "execution_count": 41,
     "metadata": {},
     "output_type": "execute_result"
    }
   ],
   "source": [
    "R_X = R_Y\n",
    "R_X[0,1] = 1j*R_X[0,1]\n",
    "R_X[1,0] = -1j*R_X[1,0]\n",
    "mysim(R_X)"
   ]
  },
  {
   "cell_type": "code",
   "execution_count": 30,
   "id": "e21d536a",
   "metadata": {},
   "outputs": [
    {
     "data": {
      "image/png": "[encoded data removed]",
      "text/latex": [
       "$\\displaystyle \\left[\\begin{matrix}c_{+} & - c_{-}\\\\c_{-} & c_{+}\\end{matrix}\\right]$"
      ],
      "text/plain": [
       "⎡c₊  -c₋⎤\n",
       "⎢       ⎥\n",
       "⎣c₋  c₊ ⎦"
      ]
     },
     "execution_count": 30,
     "metadata": {},
     "output_type": "execute_result"
    }
   ],
   "source": [
    "R_Y = R_Y.subs(cos(th/2), cp).subs(sin(th/2), cm)\n",
    "R_Y"
   ]
  },
  {
   "cell_type": "code",
   "execution_count": 31,
   "id": "1aa2df53",
   "metadata": {},
   "outputs": [
    {
     "data": {
      "image/png": "[encoded data removed]",
      "text/latex": [
       "$\\displaystyle \\left[\\begin{matrix}0 & c_{+} & 0 & - c_{-}\\\\c_{+} & 0 & - c_{-} & 0\\\\c_{-} & 0 & c_{+} & 0\\\\0 & c_{-} & 0 & c_{+}\\end{matrix}\\right]$"
      ],
      "text/plain": [
       "⎡0   c₊   0   -c₋⎤\n",
       "⎢                ⎥\n",
       "⎢c₊  0   -c₋   0 ⎥\n",
       "⎢                ⎥\n",
       "⎢c₋  0   c₊    0 ⎥\n",
       "⎢                ⎥\n",
       "⎣0   c₋   0   c₊ ⎦"
      ]
     },
     "execution_count": 31,
     "metadata": {},
     "output_type": "execute_result"
    }
   ],
   "source": [
    "BBOp_AB = tp(pauli(0),pauli(1))*CNOT*tp(R_Y, pauli(0))\n",
    "BBOp_AB"
   ]
  },
  {
   "cell_type": "code",
   "execution_count": 32,
   "id": "48ad1b1d",
   "metadata": {},
   "outputs": [
    {
     "data": {
      "image/png": "[encoded data removed]",
      "text/latex": [
       "$\\displaystyle \\left[\\begin{matrix}0 & c_{+} & 0 & - c_{-}\\\\c_{+} & 0 & - c_{-} & 0\\\\c_{-} & 0 & c_{+} & 0\\\\0 & c_{-} & 0 & c_{+}\\end{matrix}\\right]$"
      ],
      "text/plain": [
       "⎡0   c₊   0   -c₋⎤\n",
       "⎢                ⎥\n",
       "⎢c₊  0   -c₋   0 ⎥\n",
       "⎢                ⎥\n",
       "⎢c₋  0   c₊    0 ⎥\n",
       "⎢                ⎥\n",
       "⎣0   c₋   0   c₊ ⎦"
      ]
     },
     "execution_count": 32,
     "metadata": {},
     "output_type": "execute_result"
    }
   ],
   "source": [
    "BBOp_AB = tp_porta(2,pauli(1),1)*CNOT*tp(R_Y, pauli(0))\n",
    "BBOp_AB"
   ]
  },
  {
   "cell_type": "code",
   "execution_count": 33,
   "id": "1141c8c1",
   "metadata": {},
   "outputs": [
    {
     "name": "stdout",
     "output_type": "stream",
     "text": [
      "|00>\n"
     ]
    },
    {
     "data": {
      "image/png": "[encoded data removed]",
      "text/latex": [
       "$\\displaystyle c_{+} {\\left|01\\right\\rangle } + c_{-} {\\left|10\\right\\rangle }$"
      ],
      "text/plain": [
       "c₊⋅❘01⟩ + c₋⋅❘10⟩"
      ]
     },
     "metadata": {},
     "output_type": "display_data"
    },
    {
     "name": "stdout",
     "output_type": "stream",
     "text": [
      "|01>\n"
     ]
    },
    {
     "data": {
      "image/png": "[encoded data removed]",
      "text/latex": [
       "$\\displaystyle c_{+} {\\left|00\\right\\rangle } + c_{-} {\\left|11\\right\\rangle }$"
      ],
      "text/plain": [
       "c₊⋅❘00⟩ + c₋⋅❘11⟩"
      ]
     },
     "metadata": {},
     "output_type": "display_data"
    },
    {
     "name": "stdout",
     "output_type": "stream",
     "text": [
      "|10>\n"
     ]
    },
    {
     "data": {
      "image/png": "[encoded data removed]",
      "text/latex": [
       "$\\displaystyle c_{+} {\\left|10\\right\\rangle } - c_{-} {\\left|01\\right\\rangle }$"
      ],
      "text/plain": [
       "c₊⋅❘10⟩ - c₋⋅❘01⟩"
      ]
     },
     "metadata": {},
     "output_type": "display_data"
    },
    {
     "name": "stdout",
     "output_type": "stream",
     "text": [
      "|11>\n"
     ]
    },
    {
     "data": {
      "image/png": "[encoded data removed]",
      "text/latex": [
       "$\\displaystyle c_{+} {\\left|11\\right\\rangle } - c_{-} {\\left|00\\right\\rangle }$"
      ],
      "text/plain": [
       "c₊⋅❘11⟩ - c₋⋅❘00⟩"
      ]
     },
     "metadata": {},
     "output_type": "display_data"
    }
   ],
   "source": [
    "for j in range(2):\n",
    "    for k in range(2):\n",
    "        print(\"|{}{}>\".format(j,k))\n",
    "        display(mbk(BBOp_AB*pket(str(j)+str(k))).simplify())"
   ]
  }
 ],
 "metadata": {
  "kernelspec": {
   "display_name": "Python 3 (ipykernel)",
   "language": "python",
   "name": "python3"
  },
  "language_info": {
   "codemirror_mode": {
    "name": "ipython",
    "version": 3
   },
   "file_extension": ".py",
   "mimetype": "text/x-python",
   "name": "python",
   "nbconvert_exporter": "python",
   "pygments_lexer": "ipython3",
   "version": "3.9.13"
  }
 },
 "nbformat": 4,
 "nbformat_minor": 5
}
