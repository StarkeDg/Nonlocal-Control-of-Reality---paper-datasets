{
 "cells": [
  {
   "cell_type": "code",
   "execution_count": 1,
   "id": "796daa2a",
   "metadata": {},
   "outputs": [
    {
     "data": {
      "application/javascript": [
       "IPython.notebook.set_autosave_interval(60000)"
      ]
     },
     "metadata": {},
     "output_type": "display_data"
    },
    {
     "name": "stdout",
     "output_type": "stream",
     "text": [
      "Autosaving every 60 seconds\n"
     ]
    }
   ],
   "source": [
    "%autosave 60"
   ]
  },
  {
   "cell_type": "code",
   "execution_count": 2,
   "id": "2b921bed",
   "metadata": {
    "scrolled": true
   },
   "outputs": [],
   "source": [
    "%run init.ipynb\n",
    "%run init-tensor_product.ipynb\n",
    "%run init-quantum_resources.ipynb\n",
    "%run init-optical_elements.ipynb"
   ]
  },
  {
   "cell_type": "code",
   "execution_count": 3,
   "id": "3b547fef",
   "metadata": {},
   "outputs": [],
   "source": [
    "from qiskit.quantum_info import entropy, DensityMatrix"
   ]
  },
  {
   "cell_type": "code",
   "execution_count": 4,
   "id": "5e35d0b2",
   "metadata": {
    "jupyter": {
     "outputs_hidden": true
    },
    "tags": []
   },
   "outputs": [
    {
     "name": "stderr",
     "output_type": "stream",
     "text": [
      "C:\\Users\\stark\\AppData\\Local\\Temp\\ipykernel_13084\\1918398002.py:6: DeprecationWarning: The qiskit.ignis package is deprecated and has been supersceded by the qiskit-experiments project. Refer to the migration guide: https://github.com/Qiskit/qiskit-ignis#migration-guide on how to migrate to the new project.\n",
      "  from qiskit.ignis.verification.tomography import state_tomography_circuits, StateTomographyFitter\n",
      "ibmqfactory.load_account:WARNING:2023-05-25 06:55:38,957: Credentials are already in use. The existing account in the session will be replaced.\n"
     ]
    },
    {
     "name": "stdout",
     "output_type": "stream",
     "text": [
      "ibm_peekskill                ibm_perth                    ibm_nairobi\n",
      "-------------                ---------                    -----------\n",
      "Num. Qubits:  27             Num. Qubits:  7              Num. Qubits:  7\n",
      "Pending Jobs: 3              Pending Jobs: 77             Pending Jobs: 197\n",
      "Least busy:   True           Least busy:   False          Least busy:   False\n",
      "Operational:  True           Operational:  True           Operational:  True\n",
      "Avg. T1:      381.9          Avg. T1:      152.8          Avg. T1:      117.3\n",
      "Avg. T2:      309.0          Avg. T2:      131.6          Avg. T2:      74.2\n",
      "\n",
      "\n",
      "\n",
      "ibm_lagos                    ibmq_manila                  ibmq_jakarta\n",
      "---------                    -----------                  ------------\n",
      "Num. Qubits:  7              Num. Qubits:  5              Num. Qubits:  7\n",
      "Pending Jobs: 174            Pending Jobs: 26             Pending Jobs: 72\n",
      "Least busy:   False          Least busy:   False          Least busy:   False\n",
      "Operational:  True           Operational:  True           Operational:  True\n",
      "Avg. T1:      125.5          Avg. T1:      178.1          Avg. T1:      136.5\n",
      "Avg. T2:      78.1           Avg. T2:      60.7           Avg. T2:      40.0\n",
      "\n",
      "\n",
      "\n",
      "ibmq_quito                   ibmq_belem                   ibmq_lima\n",
      "----------                   ----------                   ---------\n",
      "Num. Qubits:  5              Num. Qubits:  5              Num. Qubits:  5\n",
      "Pending Jobs: 12             Pending Jobs: 10             Pending Jobs: 28\n",
      "Least busy:   False          Least busy:   False          Least busy:   False\n",
      "Operational:  True           Operational:  True           Operational:  True\n",
      "Avg. T1:      115.9          Avg. T1:      92.0           Avg. T1:      90.9\n",
      "Avg. T2:      115.6          Avg. T2:      105.4          Avg. T2:      106.0\n",
      "\n",
      "\n",
      "\n",
      "ibmq_belem\n",
      "==========\n",
      "Configuration\n",
      "-------------\n",
      "    n_qubits: 5\n",
      "    operational: True\n",
      "    status_msg: active\n",
      "    pending_jobs: 10\n",
      "    backend_version: 1.2.8\n",
      "    basis_gates: ['id', 'rz', 'sx', 'x', 'cx', 'reset']\n",
      "    local: False\n",
      "    simulator: False\n",
      "    sample_name: family: Falcon, revision: 4, segment: T\n",
      "    online_date: 2021-01-08 05:00:00+00:00\n",
      "    max_shots: 20000\n",
      "    coupling_map: [[0, 1], [1, 0], [1, 2], [1, 3], [2, 1], [3, 1], [3, 4], [4, 3]]\n",
      "    live_data: False\n",
      "    supported_instructions: ['cx', 'id', 'delay', 'measure', 'reset', 'rz', 'sx', 'x']\n",
      "    max_experiments: 100\n",
      "    n_uchannels: 8\n",
      "    u_channel_lo: [[{'q': 1, 'scale': (1+0j)}], [{'q': 0, 'scale': (1+0j)}], [{'q': 2, 'scale': (1+0j)}], [{'q': 3, 'scale': (1+0j)}], [{'q': 1, 'scale': (1+0j)}], [{'q': 1, 'scale': (1+0j)}], [{'q': 4, 'scale': (1+0j)}], [{'q': 3, 'scale': (1+0j)}]]\n",
      "    open_pulse: False\n",
      "    backend_name: ibmq_belem\n",
      "    meas_map: [[0, 1, 2, 3, 4]]\n",
      "    supported_features: ['qobj']\n",
      "    meas_lo_range: [[6.801574705, 7.801574705], [6.8934333720000005, 7.8934333720000005], [6.860104974, 7.860104974], [6.8033823270000005, 7.8033823270000005], [6.926223338000001, 7.926223338000001]]\n",
      "    conditional: False\n",
      "    dtm: 0.2222222222222222\n",
      "    timing_constraints: {'acquire_alignment': 16, 'granularity': 16, 'min_length': 64, 'pulse_alignment': 1}\n",
      "    url: None\n",
      "    input_allowed: ['job', 'runtime']\n",
      "    n_registers: 1\n",
      "    parametric_pulses: ['gaussian', 'gaussian_square', 'gaussian_square_drag', 'drag', 'constant']\n",
      "    clops: 2454\n",
      "    rep_times: [1000.0]\n",
      "    allow_object_storage: True\n",
      "    meas_kernels: ['hw_boxcar']\n",
      "    qubit_channel_mapping: [['m0', 'u1', 'd0', 'u0'], ['u5', 'u2', 'd1', 'u3', 'u0', 'm1', 'u1', 'u4'], ['u4', 'u2', 'm2', 'd2'], ['u5', 'd3', 'm3', 'u3', 'u6', 'u7'], ['u7', 'm4', 'u6', 'd4']]\n",
      "    acquisition_latency: []\n",
      "    meas_levels: [1, 2]\n",
      "    pulse_num_qubits: 3\n",
      "    parallel_compilation: False\n",
      "    description: 5 qubit device Belem\n",
      "    allow_q_object: True\n",
      "    dynamic_reprate_enabled: True\n",
      "    dt: 0.2222222222222222\n",
      "    multi_meas_enabled: True\n",
      "    default_rep_delay: 250.0\n",
      "    discriminators: ['quadratic_discriminator', 'linear_discriminator', 'hw_centroid']\n",
      "    hamiltonian: {'description': 'Qubits are modeled as Duffing oscillators. In this case, the system includes higher energy states, i.e. not just |0> and |1>. The Pauli operators are generalized via the following set of transformations:\\n\\n$(\\\\mathbb{I}-\\\\sigma_{i}^z)/2 \\\\rightarrow O_i \\\\equiv b^\\\\dagger_{i} b_{i}$,\\n\\n$\\\\sigma_{+} \\\\rightarrow b^\\\\dagger$,\\n\\n$\\\\sigma_{-} \\\\rightarrow b$,\\n\\n$\\\\sigma_{i}^X \\\\rightarrow b^\\\\dagger_{i} + b_{i}$.\\n\\nQubits are coupled through resonator buses. The provided Hamiltonian has been projected into the zero excitation subspace of the resonator buses leading to an effective qubit-qubit flip-flop interaction. The qubit resonance frequencies in the Hamiltonian are the cavity dressed frequencies and not exactly what is returned by the backend defaults, which also includes the dressing due to the qubit-qubit interactions.\\n\\nQuantities are returned in angular frequencies, with units 2*pi*GHz.\\n\\nWARNING: Currently not all system Hamiltonian information is available to the public, missing values have been replaced with 0.\\n', 'h_latex': '\\\\begin{align} \\\\mathcal{H}/\\\\hbar = & \\\\sum_{i=0}^{4}\\\\left(\\\\frac{\\\\omega_{q,i}}{2}(\\\\mathbb{I}-\\\\sigma_i^{z})+\\\\frac{\\\\Delta_{i}}{2}(O_i^2-O_i)+\\\\Omega_{d,i}D_i(t)\\\\sigma_i^{X}\\\\right) \\\\\\\\ & + J_{0,1}(\\\\sigma_{0}^{+}\\\\sigma_{1}^{-}+\\\\sigma_{0}^{-}\\\\sigma_{1}^{+}) + J_{1,2}(\\\\sigma_{1}^{+}\\\\sigma_{2}^{-}+\\\\sigma_{1}^{-}\\\\sigma_{2}^{+}) + J_{1,3}(\\\\sigma_{1}^{+}\\\\sigma_{3}^{-}+\\\\sigma_{1}^{-}\\\\sigma_{3}^{+}) + J_{3,4}(\\\\sigma_{3}^{+}\\\\sigma_{4}^{-}+\\\\sigma_{3}^{-}\\\\sigma_{4}^{+}) \\\\\\\\ & + \\\\Omega_{d,0}(U_{0}^{(0,1)}(t))\\\\sigma_{0}^{X} + \\\\Omega_{d,1}(U_{1}^{(1,0)}(t)+U_{3}^{(1,3)}(t)+U_{2}^{(1,2)}(t))\\\\sigma_{1}^{X} \\\\\\\\ & + \\\\Omega_{d,2}(U_{4}^{(2,1)}(t))\\\\sigma_{2}^{X} + \\\\Omega_{d,3}(U_{6}^{(3,4)}(t)+U_{5}^{(3,1)}(t))\\\\sigma_{3}^{X} \\\\\\\\ & + \\\\Omega_{d,4}(U_{7}^{(4,3)}(t))\\\\sigma_{4}^{X} \\\\\\\\ \\\\end{align}', 'h_str': ['_SUM[i,0,4,wq{i}/2*(I{i}-Z{i})]', '_SUM[i,0,4,delta{i}/2*O{i}*O{i}]', '_SUM[i,0,4,-delta{i}/2*O{i}]', '_SUM[i,0,4,omegad{i}*X{i}||D{i}]', 'jq0q1*Sp0*Sm1', 'jq0q1*Sm0*Sp1', 'jq1q2*Sp1*Sm2', 'jq1q2*Sm1*Sp2', 'jq1q3*Sp1*Sm3', 'jq1q3*Sm1*Sp3', 'jq3q4*Sp3*Sm4', 'jq3q4*Sm3*Sp4', 'omegad1*X0||U0', 'omegad0*X1||U1', 'omegad3*X1||U3', 'omegad2*X1||U2', 'omegad1*X2||U4', 'omegad4*X3||U6', 'omegad1*X3||U5', 'omegad3*X4||U7'], 'osc': {}, 'qub': {'0': 3, '1': 3, '2': 3, '3': 3, '4': 3}, 'vars': {'delta0': -2.1119231275656283, 'delta1': -1.989081364755034, 'delta2': -2.0773937776320905, 'delta3': -2.096945401946966, 'delta4': -2.0819029355928373, 'jq0q1': 0.011772262300160973, 'jq1q2': 0.012605700949390706, 'jq1q3': 0.012591488659137172, 'jq3q4': 0.01051661912410011, 'omegad0': 0.7496008722256918, 'omegad1': 0.7781370666168397, 'omegad2': 1.7184788295999165, 'omegad3': 0.7364826819254198, 'omegad4': 3.084587245708061, 'wq0': 31.98282035062521, 'wq1': 32.95862862134478, 'wq2': 33.687251532589656, 'wq3': 32.48609588901294, 'wq4': 33.039913770925324}}\n",
      "    uchannels_enabled: True\n",
      "    conditional_latency: []\n",
      "    channels: {'acquire0': {'operates': {'qubits': [0]}, 'purpose': 'acquire', 'type': 'acquire'}, 'acquire1': {'operates': {'qubits': [1]}, 'purpose': 'acquire', 'type': 'acquire'}, 'acquire2': {'operates': {'qubits': [2]}, 'purpose': 'acquire', 'type': 'acquire'}, 'acquire3': {'operates': {'qubits': [3]}, 'purpose': 'acquire', 'type': 'acquire'}, 'acquire4': {'operates': {'qubits': [4]}, 'purpose': 'acquire', 'type': 'acquire'}, 'd0': {'operates': {'qubits': [0]}, 'purpose': 'drive', 'type': 'drive'}, 'd1': {'operates': {'qubits': [1]}, 'purpose': 'drive', 'type': 'drive'}, 'd2': {'operates': {'qubits': [2]}, 'purpose': 'drive', 'type': 'drive'}, 'd3': {'operates': {'qubits': [3]}, 'purpose': 'drive', 'type': 'drive'}, 'd4': {'operates': {'qubits': [4]}, 'purpose': 'drive', 'type': 'drive'}, 'm0': {'operates': {'qubits': [0]}, 'purpose': 'measure', 'type': 'measure'}, 'm1': {'operates': {'qubits': [1]}, 'purpose': 'measure', 'type': 'measure'}, 'm2': {'operates': {'qubits': [2]}, 'purpose': 'measure', 'type': 'measure'}, 'm3': {'operates': {'qubits': [3]}, 'purpose': 'measure', 'type': 'measure'}, 'm4': {'operates': {'qubits': [4]}, 'purpose': 'measure', 'type': 'measure'}, 'u0': {'operates': {'qubits': [0, 1]}, 'purpose': 'cross-resonance', 'type': 'control'}, 'u1': {'operates': {'qubits': [1, 0]}, 'purpose': 'cross-resonance', 'type': 'control'}, 'u2': {'operates': {'qubits': [1, 2]}, 'purpose': 'cross-resonance', 'type': 'control'}, 'u3': {'operates': {'qubits': [1, 3]}, 'purpose': 'cross-resonance', 'type': 'control'}, 'u4': {'operates': {'qubits': [2, 1]}, 'purpose': 'cross-resonance', 'type': 'control'}, 'u5': {'operates': {'qubits': [3, 1]}, 'purpose': 'cross-resonance', 'type': 'control'}, 'u6': {'operates': {'qubits': [3, 4]}, 'purpose': 'cross-resonance', 'type': 'control'}, 'u7': {'operates': {'qubits': [4, 3]}, 'purpose': 'cross-resonance', 'type': 'control'}}\n",
      "    rep_delay_range: [0.0, 500.0]\n",
      "    qubit_lo_range: [[4.590223952822067, 5.590223952822067], [4.7455286626170405, 5.745528662617041], [4.861492600591672, 5.861492600591672], [4.670322742493709, 5.670322742493709], [4.758465595972749, 5.7584655959727495]]\n",
      "    pulse_num_channels: 9\n",
      "    memory: True\n",
      "    credits_required: True\n",
      "    processor_type: {'family': 'Falcon', 'revision': 4, 'segment': 'T'}\n",
      "    measure_esp_enabled: False\n",
      "    quantum_volume: 16\n",
      "\n",
      "Qubits [Name / Freq / T1 / T2 / RZ err / SX err / X err / Readout err]\n",
      "----------------------------------------------------------------------\n",
      "    Q0 / 5.09022 GHz / 65.46811 us / 102.07041 us / 0.00000 / 0.00019 / 0.00019 / 0.02160 \n",
      "    Q1 / 5.24553 GHz / 103.49193 us / 121.31354 us / 0.00000 / 0.00022 / 0.00022 / 0.02090 \n",
      "    Q2 / 5.36149 GHz / 77.65832 us / 57.66252 us / 0.00000 / 0.00033 / 0.00033 / 0.02530 \n",
      "    Q3 / 5.17032 GHz / 101.87444 us / 154.46514 us / 0.00000 / 0.00026 / 0.00026 / 0.02680 \n",
      "    Q4 / 5.25847 GHz / 111.50941 us / 91.68528 us / 0.00000 / 0.00040 / 0.00040 / 0.02000 \n",
      "\n",
      "Multi-Qubit Gates [Name / Type / Gate Error]\n",
      "--------------------------------------------\n",
      "    cx4_3 / cx / 0.00936\n",
      "    cx3_4 / cx / 0.00936\n",
      "    cx3_1 / cx / 0.00676\n",
      "    cx1_3 / cx / 0.00676\n",
      "    cx2_1 / cx / 0.00813\n",
      "    cx1_2 / cx / 0.00813\n",
      "    cx1_0 / cx / 0.01074\n",
      "    cx0_1 / cx / 0.01074\n"
     ]
    }
   ],
   "source": [
    "%run init-qiskit.ipynb"
   ]
  },
  {
   "cell_type": "code",
   "execution_count": 5,
   "id": "ab5a07d5",
   "metadata": {},
   "outputs": [
    {
     "data": {
      "text/plain": [
       "{'qiskit-terra': '0.20.2', 'qiskit-aer': '0.10.4', 'qiskit-ignis': '0.7.1', 'qiskit-ibmq-provider': '0.19.1', 'qiskit-aqua': None, 'qiskit': '0.36.2', 'qiskit-nature': None, 'qiskit-finance': None, 'qiskit-optimization': None, 'qiskit-machine-learning': None}"
      ]
     },
     "execution_count": 5,
     "metadata": {},
     "output_type": "execute_result"
    }
   ],
   "source": [
    "qiskit.__qiskit_version__"
   ]
  },
  {
   "cell_type": "code",
   "execution_count": 6,
   "id": "997b6b23",
   "metadata": {},
   "outputs": [],
   "source": [
    "%run init-qiskit_optical_elements.ipynb"
   ]
  },
  {
   "cell_type": "markdown",
   "id": "b97e55ce",
   "metadata": {},
   "source": [
    "# Irrealidade do caminho $b$ dentro do IMZ"
   ]
  },
  {
   "cell_type": "markdown",
   "id": "960ac6ab",
   "metadata": {},
   "source": [
    "## BBO$_{p}$ - Dentro do IMZ - QWP$_{in}$"
   ]
  },
  {
   "cell_type": "code",
   "execution_count": 16,
   "id": "c1c7d2c9",
   "metadata": {},
   "outputs": [],
   "source": [
    "thmax = math.pi-0.01;   dth = thmax/20; th = np.arange(0.01, thmax+dth, dth); d = th.shape[0]\n",
    "rhob_AbWZ_in             = np.zeros(th.shape[0], dtype=object)\n",
    "rhob_0bWZ_in             = np.zeros(th.shape[0], dtype=object)\n",
    "Phi_b_0bWZ_in            = np.zeros(th.shape[0], dtype=object)\n",
    "Irr_b_in                 = np.zeros(th.shape[0], dtype=object)\n",
    "jobs_ids_b_in = []"
   ]
  },
  {
   "cell_type": "code",
   "execution_count": 13,
   "id": "478cf267",
   "metadata": {},
   "outputs": [],
   "source": [
    "thmax = math.pi-0.01;   dth = thmax/20; th = np.arange(0.01, thmax+dth, dth); d = th.shape[0]\n",
    "rhob_AbWZ_out            = np.zeros(th.shape[0], dtype=object)\n",
    "rhob_0bWZ_out            = np.zeros(th.shape[0], dtype=object)\n",
    "Phi_b_0bWZ_out           = np.zeros(th.shape[0], dtype=object)\n",
    "Irr_b_out                = np.zeros(th.shape[0], dtype=object)\n",
    "jobs_ids_b_out = []"
   ]
  },
  {
   "cell_type": "markdown",
   "id": "7f18fae9",
   "metadata": {},
   "source": [
    "<img src = 'setup_realism.jpg' width = '90%'>"
   ]
  },
  {
   "cell_type": "code",
   "execution_count": 11,
   "id": "fc0000b0",
   "metadata": {
    "scrolled": true
   },
   "outputs": [
    {
     "data": {
      "image/png": "[encoded data removed]",
      "text/plain": [
       "<Figure size 402.495x374.578 with 1 Axes>"
      ]
     },
     "execution_count": 11,
     "metadata": {},
     "output_type": "execute_result"
    }
   ],
   "source": [
    "def qc_QCRb_in(th):\n",
    "    qr = qiskit.QuantumRegister(6); qc = qiskit.QuantumCircuit(qr, name = 'QCR')\n",
    "    qc_BBO_p_ = qc_BBO_p(th); qc.append(qc_BBO_p_, [qr[1],qr[2]])              # BBO_p\n",
    "    qc_QWP_ = qc_QWP(); qc.append(qc_QWP_, [qr[1]])                            # QWP\n",
    "    qc_PBS_ = qc_PBS(); qc.append(qc_PBS_, [qr[1],qr[0]])                      # PBS_A\n",
    "    # IMZ\n",
    "    qc_PBS_ = qc_PBS(); qc.append(qc_PBS_, [qr[2],qr[3]])                      # PBS\n",
    "    qc_HWP_ = qc_HWP(); qc.append(qc_HWP_, [qr[2],qr[3]])                      # HWP\n",
    "    qc.x(4); qc.x(5)                                                           # Atoms's innitial state\n",
    "    #qc_AtmInt_ = qc_AtmInt(); qc.append(qc_AtmInt_, [qr[3],qr[4],qr[5]])      # Atoms' interaction\n",
    "    #qc_M_ = qc_M(); qc.append(qc_M_, [qr[3]])                                 # Mirrors\n",
    "    #qc_PS_ = qc_PS(ph); qc.append(qc_PS_, [qr[3]])                            # Phase\n",
    "    #qc_BS_ = qc_BS(); qc.append(qc_BS_, [qr[3]])                              # BS\n",
    "    return qc\n",
    "qc_QCRb_in_ = qc_QCRb_in(math.pi); qc_QCRb_in_.draw(output = 'mpl', scale = 0.7)"
   ]
  },
  {
   "cell_type": "code",
   "execution_count": 13,
   "id": "f5c6fe54",
   "metadata": {},
   "outputs": [],
   "source": [
    "device = provider.get_backend('ibm_nairobi')"
   ]
  },
  {
   "cell_type": "code",
   "execution_count": null,
   "id": "4438beeb",
   "metadata": {
    "scrolled": true
   },
   "outputs": [
    {
     "name": "stdout",
     "output_type": "stream",
     "text": [
      "ibm_nairobi\n",
      "chb0nc0dickn60j1i23g\n",
      "Job Status: job has successfully run\n",
      "j =  0  - theta = 0.01\n",
      "chb1fl5v6mngo8m6h6l0\n",
      "Job Status: job has successfully run\n",
      "j =  1  - theta = 0.16657963267948966\n",
      "chb5628fdairicmktu60\n",
      "Job Status: job has successfully run\n",
      "j =  2  - theta = 0.3231592653589793\n",
      "chb8u1pmfb1ddb4vccb0\n",
      "Job Status: job has successfully run\n",
      "j =  3  - theta = 0.479738898038469\n",
      "chbckvoo51arsodcbrbg\n",
      "Job Status: job has successfully run\n",
      "j =  4  - theta = 0.6363185307179586\n",
      "chbfp70o51arsode4alg\n",
      "Job Status: job has successfully run\n",
      "j =  5  - theta = 0.7928981633974483\n",
      "chbgbilv6mngo8mib9p0\n",
      "Job Status: job has successfully run\n",
      "j =  6  - theta = 0.9494777960769379\n",
      "chbhv5lv6mngo8mjavhg\n",
      "Job Status: job has successfully run\n",
      "j =  7  - theta = 1.1060574287564275\n",
      "chbk249mfb1ddb55e200\n",
      "Job Status: job has successfully run\n",
      "j =  8  - theta = 1.2626370614359173\n",
      "chbnos44cg5fl02loklg\n",
      "Job Status: job has successfully run\n",
      "j =  9  - theta = 1.419216694115407\n",
      "chbosipmfb1ddb58sfa0\n",
      "Job Status: job has successfully run\n",
      "j = 10  - theta = 1.5757963267948967\n",
      "chbrfi5v6mngo8mpokd0\n",
      "Job Status: job has successfully run\n",
      "j = 11  - theta = 1.7323759594743862\n",
      "chbv6b8o51arsodo783g\n",
      "Job Status: job is queued (None)"
     ]
    }
   ],
   "source": [
    "print(device)\n",
    "for j in range(0, d):\n",
    "    qr = qiskit.QuantumRegister(6); qc = qiskit.QuantumCircuit(qr)\n",
    "    #\n",
    "    # Circuito\n",
    "    #\n",
    "    qc_QCRb_in_ = qc_QCRb_in(th[j]); qc.append(qc_QCRb_in_, [qr[0],qr[1],qr[2],qr[3],qr[4],qr[5]])\n",
    "    #\n",
    "    # Tomography\n",
    "    #\n",
    "    qstc = state_tomography_circuits(qc, [qr[5],qr[4],qr[3],qr[1]])  # rho_AbWZ qr[5],qr[4],qr[3],qr[1]\n",
    "    job = qiskit.execute(qstc, backend = device, shots=nshots)\n",
    "    print(job.job_id()); job_monitor(job)\n",
    "    jobs_ids_b_in.append(job.job_id())\n",
    "    qstf = StateTomographyFitter(job.result(), qstc)\n",
    "    #\n",
    "    # rho\n",
    "    #\n",
    "    rhob_AbWZ_in[j] = qstf.fit(method='lstsq')\n",
    "    print('j = {:2d}  - theta = {}'.format(j, th[j]))"
   ]
  },
  {
   "cell_type": "code",
   "execution_count": 10,
   "id": "8d6c449a",
   "metadata": {
    "scrolled": true
   },
   "outputs": [
    {
     "name": "stdout",
     "output_type": "stream",
     "text": [
      "ibm_nairobi\n",
      "chc4hioq13ef4a8f6kmg\n",
      "Job Status: job has successfully run\n",
      "j = 12  - theta = 1.8889555921538759\n",
      "chc8c18o51arsodsrlrg\n",
      "Job Status: job has successfully run\n",
      "j = 13  - theta = 2.0455352248333654\n",
      "chce3e0o51arsoe22k80\n",
      "Job Status: job has successfully run\n",
      "j = 14  - theta = 2.202114857512855\n",
      "chcf125v6mngo8n6qpe0\n",
      "Job Status: job has successfully run\n",
      "j = 15  - theta = 2.358694490192345\n",
      "chcf8v176h9ab2d3r7u0\n",
      "Job Status: job has successfully run\n",
      "j = 16  - theta = 2.5152741228718343\n",
      "chcfha976h9ab2d453b0\n",
      "Job Status: job has successfully run\n",
      "j = 17  - theta = 2.6718537555513238\n",
      "chcfp5dv6mngo8n7lrng\n",
      "Job Status: job has successfully run\n",
      "j = 18  - theta = 2.8284333882308137\n",
      "chcjja8fdairicnkqb20\n",
      "Job Status: job has successfully run\n",
      "j = 19  - theta = 2.985013020910303\n",
      "chcjt1hmfb1ddb5srus0\n",
      "Job Status: job is actively running"
     ]
    },
    {
     "ename": "IBMQJobApiError",
     "evalue": "\"'400 Client Error: Bad Request for url: https://api.quantum-computing.ibm.com/api/Network/ibm-q/Groups/open/Projects/main/Jobs/chcjt1hmfb1ddb5srus0/status/v/1. Error in runtime client calling method getJob: Error executing GET https://runtime-us-east.quantum-computing.ibm.com/jobs/chcjt1hmfb1ddb5srus0 {No request body}, Error code: 2413.'\"",
     "output_type": "error",
     "traceback": [
      "\u001b[1;31m---------------------------------------------------------------------------\u001b[0m",
      "\u001b[1;31mHTTPError\u001b[0m                                 Traceback (most recent call last)",
      "\u001b[1;32m~\\anaconda3\\lib\\site-packages\\qiskit\\providers\\ibmq\\api\\session.py\u001b[0m in \u001b[0;36mrequest\u001b[1;34m(self, method, url, bare, **kwargs)\u001b[0m\n\u001b[0;32m    277\u001b[0m             \u001b[0mresponse\u001b[0m \u001b[1;33m=\u001b[0m \u001b[0msuper\u001b[0m\u001b[1;33m(\u001b[0m\u001b[1;33m)\u001b[0m\u001b[1;33m.\u001b[0m\u001b[0mrequest\u001b[0m\u001b[1;33m(\u001b[0m\u001b[0mmethod\u001b[0m\u001b[1;33m,\u001b[0m \u001b[0mfinal_url\u001b[0m\u001b[1;33m,\u001b[0m \u001b[0mheaders\u001b[0m\u001b[1;33m=\u001b[0m\u001b[0mheaders\u001b[0m\u001b[1;33m,\u001b[0m \u001b[1;33m**\u001b[0m\u001b[0mkwargs\u001b[0m\u001b[1;33m)\u001b[0m\u001b[1;33m\u001b[0m\u001b[1;33m\u001b[0m\u001b[0m\n\u001b[1;32m--> 278\u001b[1;33m             \u001b[0mresponse\u001b[0m\u001b[1;33m.\u001b[0m\u001b[0mraise_for_status\u001b[0m\u001b[1;33m(\u001b[0m\u001b[1;33m)\u001b[0m\u001b[1;33m\u001b[0m\u001b[1;33m\u001b[0m\u001b[0m\n\u001b[0m\u001b[0;32m    279\u001b[0m         \u001b[1;32mexcept\u001b[0m \u001b[0mRequestException\u001b[0m \u001b[1;32mas\u001b[0m \u001b[0mex\u001b[0m\u001b[1;33m:\u001b[0m\u001b[1;33m\u001b[0m\u001b[1;33m\u001b[0m\u001b[0m\n",
      "\u001b[1;32m~\\anaconda3\\lib\\site-packages\\requests\\models.py\u001b[0m in \u001b[0;36mraise_for_status\u001b[1;34m(self)\u001b[0m\n\u001b[0;32m   1020\u001b[0m         \u001b[1;32mif\u001b[0m \u001b[0mhttp_error_msg\u001b[0m\u001b[1;33m:\u001b[0m\u001b[1;33m\u001b[0m\u001b[1;33m\u001b[0m\u001b[0m\n\u001b[1;32m-> 1021\u001b[1;33m             \u001b[1;32mraise\u001b[0m \u001b[0mHTTPError\u001b[0m\u001b[1;33m(\u001b[0m\u001b[0mhttp_error_msg\u001b[0m\u001b[1;33m,\u001b[0m \u001b[0mresponse\u001b[0m\u001b[1;33m=\u001b[0m\u001b[0mself\u001b[0m\u001b[1;33m)\u001b[0m\u001b[1;33m\u001b[0m\u001b[1;33m\u001b[0m\u001b[0m\n\u001b[0m\u001b[0;32m   1022\u001b[0m \u001b[1;33m\u001b[0m\u001b[0m\n",
      "\u001b[1;31mHTTPError\u001b[0m: 400 Client Error: Bad Request for url: https://api.quantum-computing.ibm.com/api/Network/ibm-q/Groups/open/Projects/main/Jobs/chcjt1hmfb1ddb5srus0/status/v/1",
      "\nThe above exception was the direct cause of the following exception:\n",
      "\u001b[1;31mRequestsApiError\u001b[0m                          Traceback (most recent call last)",
      "\u001b[1;32m~\\anaconda3\\lib\\site-packages\\qiskit\\providers\\ibmq\\job\\utils.py\u001b[0m in \u001b[0;36mapi_to_job_error\u001b[1;34m()\u001b[0m\n\u001b[0;32m     56\u001b[0m     \u001b[1;32mtry\u001b[0m\u001b[1;33m:\u001b[0m\u001b[1;33m\u001b[0m\u001b[1;33m\u001b[0m\u001b[0m\n\u001b[1;32m---> 57\u001b[1;33m         \u001b[1;32myield\u001b[0m\u001b[1;33m\u001b[0m\u001b[1;33m\u001b[0m\u001b[0m\n\u001b[0m\u001b[0;32m     58\u001b[0m     \u001b[1;32mexcept\u001b[0m \u001b[0mApiError\u001b[0m \u001b[1;32mas\u001b[0m \u001b[0mapi_err\u001b[0m\u001b[1;33m:\u001b[0m\u001b[1;33m\u001b[0m\u001b[1;33m\u001b[0m\u001b[0m\n",
      "\u001b[1;32m~\\anaconda3\\lib\\site-packages\\qiskit\\providers\\ibmq\\job\\ibmqjob.py\u001b[0m in \u001b[0;36mstatus\u001b[1;34m(self)\u001b[0m\n\u001b[0;32m    501\u001b[0m         \u001b[1;32mwith\u001b[0m \u001b[0mapi_to_job_error\u001b[0m\u001b[1;33m(\u001b[0m\u001b[1;33m)\u001b[0m\u001b[1;33m:\u001b[0m\u001b[1;33m\u001b[0m\u001b[1;33m\u001b[0m\u001b[0m\n\u001b[1;32m--> 502\u001b[1;33m             \u001b[0mapi_response\u001b[0m \u001b[1;33m=\u001b[0m \u001b[0mself\u001b[0m\u001b[1;33m.\u001b[0m\u001b[0m_api_client\u001b[0m\u001b[1;33m.\u001b[0m\u001b[0mjob_status\u001b[0m\u001b[1;33m(\u001b[0m\u001b[0mself\u001b[0m\u001b[1;33m.\u001b[0m\u001b[0mjob_id\u001b[0m\u001b[1;33m(\u001b[0m\u001b[1;33m)\u001b[0m\u001b[1;33m)\u001b[0m\u001b[1;33m\u001b[0m\u001b[1;33m\u001b[0m\u001b[0m\n\u001b[0m\u001b[0;32m    503\u001b[0m             \u001b[0mself\u001b[0m\u001b[1;33m.\u001b[0m\u001b[0m_api_status\u001b[0m \u001b[1;33m=\u001b[0m \u001b[0mapi_response\u001b[0m\u001b[1;33m[\u001b[0m\u001b[1;34m'status'\u001b[0m\u001b[1;33m]\u001b[0m\u001b[1;33m\u001b[0m\u001b[1;33m\u001b[0m\u001b[0m\n",
      "\u001b[1;32m~\\anaconda3\\lib\\site-packages\\qiskit\\providers\\ibmq\\api\\clients\\account.py\u001b[0m in \u001b[0;36mjob_status\u001b[1;34m(self, job_id)\u001b[0m\n\u001b[0;32m    356\u001b[0m         \"\"\"\n\u001b[1;32m--> 357\u001b[1;33m         \u001b[1;32mreturn\u001b[0m \u001b[0mself\u001b[0m\u001b[1;33m.\u001b[0m\u001b[0maccount_api\u001b[0m\u001b[1;33m.\u001b[0m\u001b[0mjob\u001b[0m\u001b[1;33m(\u001b[0m\u001b[0mjob_id\u001b[0m\u001b[1;33m)\u001b[0m\u001b[1;33m.\u001b[0m\u001b[0mstatus\u001b[0m\u001b[1;33m(\u001b[0m\u001b[1;33m)\u001b[0m\u001b[1;33m\u001b[0m\u001b[1;33m\u001b[0m\u001b[0m\n\u001b[0m\u001b[0;32m    358\u001b[0m \u001b[1;33m\u001b[0m\u001b[0m\n",
      "\u001b[1;32m~\\anaconda3\\lib\\site-packages\\qiskit\\providers\\ibmq\\api\\rest\\job.py\u001b[0m in \u001b[0;36mstatus\u001b[1;34m(self)\u001b[0m\n\u001b[0;32m    159\u001b[0m         \u001b[0murl\u001b[0m \u001b[1;33m=\u001b[0m \u001b[0mself\u001b[0m\u001b[1;33m.\u001b[0m\u001b[0mget_url\u001b[0m\u001b[1;33m(\u001b[0m\u001b[1;34m'status'\u001b[0m\u001b[1;33m)\u001b[0m\u001b[1;33m\u001b[0m\u001b[1;33m\u001b[0m\u001b[0m\n\u001b[1;32m--> 160\u001b[1;33m         \u001b[0mraw_response\u001b[0m \u001b[1;33m=\u001b[0m \u001b[0mself\u001b[0m\u001b[1;33m.\u001b[0m\u001b[0msession\u001b[0m\u001b[1;33m.\u001b[0m\u001b[0mget\u001b[0m\u001b[1;33m(\u001b[0m\u001b[0murl\u001b[0m\u001b[1;33m)\u001b[0m\u001b[1;33m\u001b[0m\u001b[1;33m\u001b[0m\u001b[0m\n\u001b[0m\u001b[0;32m    161\u001b[0m         \u001b[1;32mtry\u001b[0m\u001b[1;33m:\u001b[0m\u001b[1;33m\u001b[0m\u001b[1;33m\u001b[0m\u001b[0m\n",
      "\u001b[1;32m~\\anaconda3\\lib\\site-packages\\requests\\sessions.py\u001b[0m in \u001b[0;36mget\u001b[1;34m(self, url, **kwargs)\u001b[0m\n\u001b[0;32m    599\u001b[0m         \u001b[0mkwargs\u001b[0m\u001b[1;33m.\u001b[0m\u001b[0msetdefault\u001b[0m\u001b[1;33m(\u001b[0m\u001b[1;34m\"allow_redirects\"\u001b[0m\u001b[1;33m,\u001b[0m \u001b[1;32mTrue\u001b[0m\u001b[1;33m)\u001b[0m\u001b[1;33m\u001b[0m\u001b[1;33m\u001b[0m\u001b[0m\n\u001b[1;32m--> 600\u001b[1;33m         \u001b[1;32mreturn\u001b[0m \u001b[0mself\u001b[0m\u001b[1;33m.\u001b[0m\u001b[0mrequest\u001b[0m\u001b[1;33m(\u001b[0m\u001b[1;34m\"GET\"\u001b[0m\u001b[1;33m,\u001b[0m \u001b[0murl\u001b[0m\u001b[1;33m,\u001b[0m \u001b[1;33m**\u001b[0m\u001b[0mkwargs\u001b[0m\u001b[1;33m)\u001b[0m\u001b[1;33m\u001b[0m\u001b[1;33m\u001b[0m\u001b[0m\n\u001b[0m\u001b[0;32m    601\u001b[0m \u001b[1;33m\u001b[0m\u001b[0m\n",
      "\u001b[1;32m~\\anaconda3\\lib\\site-packages\\qiskit\\providers\\ibmq\\api\\session.py\u001b[0m in \u001b[0;36mrequest\u001b[1;34m(self, method, url, bare, **kwargs)\u001b[0m\n\u001b[0;32m    299\u001b[0m \u001b[1;33m\u001b[0m\u001b[0m\n\u001b[1;32m--> 300\u001b[1;33m             \u001b[1;32mraise\u001b[0m \u001b[0mRequestsApiError\u001b[0m\u001b[1;33m(\u001b[0m\u001b[0mmessage\u001b[0m\u001b[1;33m,\u001b[0m \u001b[0mstatus_code\u001b[0m\u001b[1;33m)\u001b[0m \u001b[1;32mfrom\u001b[0m \u001b[0mex\u001b[0m\u001b[1;33m\u001b[0m\u001b[1;33m\u001b[0m\u001b[0m\n\u001b[0m\u001b[0;32m    301\u001b[0m \u001b[1;33m\u001b[0m\u001b[0m\n",
      "\u001b[1;31mRequestsApiError\u001b[0m: '400 Client Error: Bad Request for url: https://api.quantum-computing.ibm.com/api/Network/ibm-q/Groups/open/Projects/main/Jobs/chcjt1hmfb1ddb5srus0/status/v/1. Error in runtime client calling method getJob: Error executing GET https://runtime-us-east.quantum-computing.ibm.com/jobs/chcjt1hmfb1ddb5srus0 {No request body}, Error code: 2413.'",
      "\nThe above exception was the direct cause of the following exception:\n",
      "\u001b[1;31mIBMQJobApiError\u001b[0m                           Traceback (most recent call last)",
      "\u001b[1;32m~\\AppData\\Local\\Temp\\ipykernel_30256\\1003843060.py\u001b[0m in \u001b[0;36m<module>\u001b[1;34m\u001b[0m\n\u001b[0;32m     11\u001b[0m     \u001b[0mqstc\u001b[0m \u001b[1;33m=\u001b[0m \u001b[0mstate_tomography_circuits\u001b[0m\u001b[1;33m(\u001b[0m\u001b[0mqc\u001b[0m\u001b[1;33m,\u001b[0m \u001b[1;33m[\u001b[0m\u001b[0mqr\u001b[0m\u001b[1;33m[\u001b[0m\u001b[1;36m5\u001b[0m\u001b[1;33m]\u001b[0m\u001b[1;33m,\u001b[0m\u001b[0mqr\u001b[0m\u001b[1;33m[\u001b[0m\u001b[1;36m4\u001b[0m\u001b[1;33m]\u001b[0m\u001b[1;33m,\u001b[0m\u001b[0mqr\u001b[0m\u001b[1;33m[\u001b[0m\u001b[1;36m3\u001b[0m\u001b[1;33m]\u001b[0m\u001b[1;33m,\u001b[0m\u001b[0mqr\u001b[0m\u001b[1;33m[\u001b[0m\u001b[1;36m1\u001b[0m\u001b[1;33m]\u001b[0m\u001b[1;33m]\u001b[0m\u001b[1;33m)\u001b[0m  \u001b[1;31m# rho_AbWZ qr[5],qr[4],qr[3],qr[1]\u001b[0m\u001b[1;33m\u001b[0m\u001b[1;33m\u001b[0m\u001b[0m\n\u001b[0;32m     12\u001b[0m     \u001b[0mjob\u001b[0m \u001b[1;33m=\u001b[0m \u001b[0mqiskit\u001b[0m\u001b[1;33m.\u001b[0m\u001b[0mexecute\u001b[0m\u001b[1;33m(\u001b[0m\u001b[0mqstc\u001b[0m\u001b[1;33m,\u001b[0m \u001b[0mbackend\u001b[0m \u001b[1;33m=\u001b[0m \u001b[0mdevice\u001b[0m\u001b[1;33m,\u001b[0m \u001b[0mshots\u001b[0m\u001b[1;33m=\u001b[0m\u001b[0mnshots\u001b[0m\u001b[1;33m)\u001b[0m\u001b[1;33m\u001b[0m\u001b[1;33m\u001b[0m\u001b[0m\n\u001b[1;32m---> 13\u001b[1;33m     \u001b[0mprint\u001b[0m\u001b[1;33m(\u001b[0m\u001b[0mjob\u001b[0m\u001b[1;33m.\u001b[0m\u001b[0mjob_id\u001b[0m\u001b[1;33m(\u001b[0m\u001b[1;33m)\u001b[0m\u001b[1;33m)\u001b[0m\u001b[1;33m;\u001b[0m \u001b[0mjob_monitor\u001b[0m\u001b[1;33m(\u001b[0m\u001b[0mjob\u001b[0m\u001b[1;33m)\u001b[0m\u001b[1;33m\u001b[0m\u001b[1;33m\u001b[0m\u001b[0m\n\u001b[0m\u001b[0;32m     14\u001b[0m     \u001b[0mjobs_ids_b_in\u001b[0m\u001b[1;33m.\u001b[0m\u001b[0mappend\u001b[0m\u001b[1;33m(\u001b[0m\u001b[0mjob\u001b[0m\u001b[1;33m.\u001b[0m\u001b[0mjob_id\u001b[0m\u001b[1;33m(\u001b[0m\u001b[1;33m)\u001b[0m\u001b[1;33m)\u001b[0m\u001b[1;33m\u001b[0m\u001b[1;33m\u001b[0m\u001b[0m\n\u001b[0;32m     15\u001b[0m     \u001b[0mqstf\u001b[0m \u001b[1;33m=\u001b[0m \u001b[0mStateTomographyFitter\u001b[0m\u001b[1;33m(\u001b[0m\u001b[0mjob\u001b[0m\u001b[1;33m.\u001b[0m\u001b[0mresult\u001b[0m\u001b[1;33m(\u001b[0m\u001b[1;33m)\u001b[0m\u001b[1;33m,\u001b[0m \u001b[0mqstc\u001b[0m\u001b[1;33m)\u001b[0m\u001b[1;33m\u001b[0m\u001b[1;33m\u001b[0m\u001b[0m\n",
      "\u001b[1;32m~\\anaconda3\\lib\\site-packages\\qiskit\\tools\\monitor\\job_monitor.py\u001b[0m in \u001b[0;36mjob_monitor\u001b[1;34m(job, interval, quiet, output, line_discipline)\u001b[0m\n\u001b[0;32m     87\u001b[0m         \u001b[0m_interval_set\u001b[0m \u001b[1;33m=\u001b[0m \u001b[1;32mTrue\u001b[0m\u001b[1;33m\u001b[0m\u001b[1;33m\u001b[0m\u001b[0m\n\u001b[0;32m     88\u001b[0m \u001b[1;33m\u001b[0m\u001b[0m\n\u001b[1;32m---> 89\u001b[1;33m     _text_checker(\n\u001b[0m\u001b[0;32m     90\u001b[0m         \u001b[0mjob\u001b[0m\u001b[1;33m,\u001b[0m \u001b[0minterval\u001b[0m\u001b[1;33m,\u001b[0m \u001b[0m_interval_set\u001b[0m\u001b[1;33m,\u001b[0m \u001b[0mquiet\u001b[0m\u001b[1;33m=\u001b[0m\u001b[0mquiet\u001b[0m\u001b[1;33m,\u001b[0m \u001b[0moutput\u001b[0m\u001b[1;33m=\u001b[0m\u001b[0moutput\u001b[0m\u001b[1;33m,\u001b[0m \u001b[0mline_discipline\u001b[0m\u001b[1;33m=\u001b[0m\u001b[0mline_discipline\u001b[0m\u001b[1;33m\u001b[0m\u001b[1;33m\u001b[0m\u001b[0m\n\u001b[0;32m     91\u001b[0m     )\n",
      "\u001b[1;32m~\\anaconda3\\lib\\site-packages\\qiskit\\tools\\monitor\\job_monitor.py\u001b[0m in \u001b[0;36m_text_checker\u001b[1;34m(job, interval, _interval_set, quiet, output, line_discipline)\u001b[0m\n\u001b[0;32m     43\u001b[0m     \u001b[1;32mwhile\u001b[0m \u001b[0mstatus\u001b[0m\u001b[1;33m.\u001b[0m\u001b[0mname\u001b[0m \u001b[1;32mnot\u001b[0m \u001b[1;32min\u001b[0m \u001b[1;33m[\u001b[0m\u001b[1;34m\"DONE\"\u001b[0m\u001b[1;33m,\u001b[0m \u001b[1;34m\"CANCELLED\"\u001b[0m\u001b[1;33m,\u001b[0m \u001b[1;34m\"ERROR\"\u001b[0m\u001b[1;33m]\u001b[0m\u001b[1;33m:\u001b[0m\u001b[1;33m\u001b[0m\u001b[1;33m\u001b[0m\u001b[0m\n\u001b[0;32m     44\u001b[0m         \u001b[0mtime\u001b[0m\u001b[1;33m.\u001b[0m\u001b[0msleep\u001b[0m\u001b[1;33m(\u001b[0m\u001b[0minterval\u001b[0m\u001b[1;33m)\u001b[0m\u001b[1;33m\u001b[0m\u001b[1;33m\u001b[0m\u001b[0m\n\u001b[1;32m---> 45\u001b[1;33m         \u001b[0mstatus\u001b[0m \u001b[1;33m=\u001b[0m \u001b[0mjob\u001b[0m\u001b[1;33m.\u001b[0m\u001b[0mstatus\u001b[0m\u001b[1;33m(\u001b[0m\u001b[1;33m)\u001b[0m\u001b[1;33m\u001b[0m\u001b[1;33m\u001b[0m\u001b[0m\n\u001b[0m\u001b[0;32m     46\u001b[0m         \u001b[0mmsg\u001b[0m \u001b[1;33m=\u001b[0m \u001b[0mstatus\u001b[0m\u001b[1;33m.\u001b[0m\u001b[0mvalue\u001b[0m\u001b[1;33m\u001b[0m\u001b[1;33m\u001b[0m\u001b[0m\n\u001b[0;32m     47\u001b[0m \u001b[1;33m\u001b[0m\u001b[0m\n",
      "\u001b[1;32m~\\anaconda3\\lib\\site-packages\\qiskit\\providers\\ibmq\\job\\ibmqjob.py\u001b[0m in \u001b[0;36mstatus\u001b[1;34m(self)\u001b[0m\n\u001b[0;32m    502\u001b[0m             \u001b[0mapi_response\u001b[0m \u001b[1;33m=\u001b[0m \u001b[0mself\u001b[0m\u001b[1;33m.\u001b[0m\u001b[0m_api_client\u001b[0m\u001b[1;33m.\u001b[0m\u001b[0mjob_status\u001b[0m\u001b[1;33m(\u001b[0m\u001b[0mself\u001b[0m\u001b[1;33m.\u001b[0m\u001b[0mjob_id\u001b[0m\u001b[1;33m(\u001b[0m\u001b[1;33m)\u001b[0m\u001b[1;33m)\u001b[0m\u001b[1;33m\u001b[0m\u001b[1;33m\u001b[0m\u001b[0m\n\u001b[0;32m    503\u001b[0m             \u001b[0mself\u001b[0m\u001b[1;33m.\u001b[0m\u001b[0m_api_status\u001b[0m \u001b[1;33m=\u001b[0m \u001b[0mapi_response\u001b[0m\u001b[1;33m[\u001b[0m\u001b[1;34m'status'\u001b[0m\u001b[1;33m]\u001b[0m\u001b[1;33m\u001b[0m\u001b[1;33m\u001b[0m\u001b[0m\n\u001b[1;32m--> 504\u001b[1;33m             self._status, self._queue_info = self._get_status_position(\n\u001b[0m\u001b[0;32m    505\u001b[0m                 self._api_status, api_response.get('info_queue', None))\n\u001b[0;32m    506\u001b[0m \u001b[1;33m\u001b[0m\u001b[0m\n",
      "\u001b[1;32m~\\anaconda3\\lib\\contextlib.py\u001b[0m in \u001b[0;36m__exit__\u001b[1;34m(self, typ, value, traceback)\u001b[0m\n\u001b[0;32m    135\u001b[0m                 \u001b[0mvalue\u001b[0m \u001b[1;33m=\u001b[0m \u001b[0mtyp\u001b[0m\u001b[1;33m(\u001b[0m\u001b[1;33m)\u001b[0m\u001b[1;33m\u001b[0m\u001b[1;33m\u001b[0m\u001b[0m\n\u001b[0;32m    136\u001b[0m             \u001b[1;32mtry\u001b[0m\u001b[1;33m:\u001b[0m\u001b[1;33m\u001b[0m\u001b[1;33m\u001b[0m\u001b[0m\n\u001b[1;32m--> 137\u001b[1;33m                 \u001b[0mself\u001b[0m\u001b[1;33m.\u001b[0m\u001b[0mgen\u001b[0m\u001b[1;33m.\u001b[0m\u001b[0mthrow\u001b[0m\u001b[1;33m(\u001b[0m\u001b[0mtyp\u001b[0m\u001b[1;33m,\u001b[0m \u001b[0mvalue\u001b[0m\u001b[1;33m,\u001b[0m \u001b[0mtraceback\u001b[0m\u001b[1;33m)\u001b[0m\u001b[1;33m\u001b[0m\u001b[1;33m\u001b[0m\u001b[0m\n\u001b[0m\u001b[0;32m    138\u001b[0m             \u001b[1;32mexcept\u001b[0m \u001b[0mStopIteration\u001b[0m \u001b[1;32mas\u001b[0m \u001b[0mexc\u001b[0m\u001b[1;33m:\u001b[0m\u001b[1;33m\u001b[0m\u001b[1;33m\u001b[0m\u001b[0m\n\u001b[0;32m    139\u001b[0m                 \u001b[1;31m# Suppress StopIteration *unless* it's the same exception that\u001b[0m\u001b[1;33m\u001b[0m\u001b[1;33m\u001b[0m\u001b[0m\n",
      "\u001b[1;32m~\\anaconda3\\lib\\site-packages\\qiskit\\providers\\ibmq\\job\\utils.py\u001b[0m in \u001b[0;36mapi_to_job_error\u001b[1;34m()\u001b[0m\n\u001b[0;32m     57\u001b[0m         \u001b[1;32myield\u001b[0m\u001b[1;33m\u001b[0m\u001b[1;33m\u001b[0m\u001b[0m\n\u001b[0;32m     58\u001b[0m     \u001b[1;32mexcept\u001b[0m \u001b[0mApiError\u001b[0m \u001b[1;32mas\u001b[0m \u001b[0mapi_err\u001b[0m\u001b[1;33m:\u001b[0m\u001b[1;33m\u001b[0m\u001b[1;33m\u001b[0m\u001b[0m\n\u001b[1;32m---> 59\u001b[1;33m         \u001b[1;32mraise\u001b[0m \u001b[0mIBMQJobApiError\u001b[0m\u001b[1;33m(\u001b[0m\u001b[0mstr\u001b[0m\u001b[1;33m(\u001b[0m\u001b[0mapi_err\u001b[0m\u001b[1;33m)\u001b[0m\u001b[1;33m)\u001b[0m \u001b[1;32mfrom\u001b[0m \u001b[0mapi_err\u001b[0m\u001b[1;33m\u001b[0m\u001b[1;33m\u001b[0m\u001b[0m\n\u001b[0m",
      "\u001b[1;31mIBMQJobApiError\u001b[0m: \"'400 Client Error: Bad Request for url: https://api.quantum-computing.ibm.com/api/Network/ibm-q/Groups/open/Projects/main/Jobs/chcjt1hmfb1ddb5srus0/status/v/1. Error in runtime client calling method getJob: Error executing GET https://runtime-us-east.quantum-computing.ibm.com/jobs/chcjt1hmfb1ddb5srus0 {No request body}, Error code: 2413.'\""
     ]
    }
   ],
   "source": [
    "print(device)\n",
    "for j in range(12, d):\n",
    "    qr = qiskit.QuantumRegister(6); qc = qiskit.QuantumCircuit(qr)\n",
    "    #\n",
    "    # Circuito\n",
    "    #\n",
    "    qc_QCRb_in_ = qc_QCRb_in(th[j]); qc.append(qc_QCRb_in_, [qr[0],qr[1],qr[2],qr[3],qr[4],qr[5]])\n",
    "    #\n",
    "    # Tomography\n",
    "    #\n",
    "    qstc = state_tomography_circuits(qc, [qr[5],qr[4],qr[3],qr[1]])  # rho_AbWZ qr[5],qr[4],qr[3],qr[1]\n",
    "    job = qiskit.execute(qstc, backend = device, shots=nshots)\n",
    "    print(job.job_id()); job_monitor(job)\n",
    "    jobs_ids_b_in.append(job.job_id())\n",
    "    qstf = StateTomographyFitter(job.result(), qstc)\n",
    "    #\n",
    "    # rho\n",
    "    #\n",
    "    rhob_AbWZ_in[j] = qstf.fit(method='lstsq')\n",
    "    print('j = {:2d}  - theta = {}'.format(j, th[j]))"
   ]
  },
  {
   "cell_type": "code",
   "execution_count": 15,
   "id": "291e39ad",
   "metadata": {},
   "outputs": [],
   "source": [
    "import time"
   ]
  },
  {
   "cell_type": "code",
   "execution_count": 16,
   "id": "8fb411f5",
   "metadata": {
    "scrolled": false
   },
   "outputs": [
    {
     "name": "stdout",
     "output_type": "stream",
     "text": [
      "ibm_nairobi\n",
      "chcpcdp76h9ab2dcnptg\n",
      "Job Status: job has successfully run\n",
      "j = 20  - theta = 3.141592653589793\n"
     ]
    }
   ],
   "source": [
    "print(device)\n",
    "start_time = time.time()\n",
    "for j in range(20, d):\n",
    "    qr = qiskit.QuantumRegister(6); qc = qiskit.QuantumCircuit(qr)\n",
    "    #\n",
    "    # Circuito\n",
    "    #\n",
    "    qc_QCRb_in_ = qc_QCRb_in(th[j]); qc.append(qc_QCRb_in_, [qr[0],qr[1],qr[2],qr[3],qr[4],qr[5]])\n",
    "    #\n",
    "    # Tomography\n",
    "    #\n",
    "    qstc = state_tomography_circuits(qc, [qr[5],qr[4],qr[3],qr[1]])  # rho_AbWZ qr[5],qr[4],qr[3],qr[1]\n",
    "    job = qiskit.execute(qstc, backend = device, shots=nshots)\n",
    "    print(job.job_id()); job_monitor(job)\n",
    "    jobs_ids_b_in.append(job.job_id())\n",
    "    qstf = StateTomographyFitter(job.result(), qstc)\n",
    "    #\n",
    "    # rho\n",
    "    #\n",
    "    rhob_AbWZ_in[j] = qstf.fit(method='lstsq')\n",
    "    print('j = {:2d}  - theta = {}'.format(j, th[j]))\n",
    "end_time = time.time()"
   ]
  },
  {
   "cell_type": "code",
   "execution_count": 27,
   "id": "e176ce59",
   "metadata": {},
   "outputs": [
    {
     "name": "stdout",
     "output_type": "stream",
     "text": [
      "Tempo de execução: 27447.29 segundos\n"
     ]
    }
   ],
   "source": [
    "execution_time_seg = end_time - start_time\n",
    "print(\"Tempo de execução:\", round(execution_time_seg, 2), \"segundos\")"
   ]
  },
  {
   "cell_type": "code",
   "execution_count": 28,
   "id": "e46387f1",
   "metadata": {},
   "outputs": [
    {
     "name": "stdout",
     "output_type": "stream",
     "text": [
      "Tempo de execução: 457.45 minutos\n"
     ]
    }
   ],
   "source": [
    "execution_time_min = execution_time_seg/60\n",
    "print(\"Tempo de execução:\", round(execution_time_min, 2), \"minutos\")"
   ]
  },
  {
   "cell_type": "code",
   "execution_count": 29,
   "id": "10e31d6a",
   "metadata": {},
   "outputs": [
    {
     "name": "stdout",
     "output_type": "stream",
     "text": [
      "Tempo de execução: 7.62 horas\n"
     ]
    }
   ],
   "source": [
    "execution_time_h = execution_time_min/60\n",
    "print(\"Tempo de execução:\", round(execution_time_h, 2), \"horas\")"
   ]
  },
  {
   "cell_type": "code",
   "execution_count": null,
   "id": "df24d089",
   "metadata": {},
   "outputs": [],
   "source": [
    "chb0nc0dickn60j1i23g\n",
    "Job Status: job has successfully run\n",
    "j =  0  - theta = 0.01\n",
    "chb1fl5v6mngo8m6h6l0\n",
    "Job Status: job has successfully run\n",
    "j =  1  - theta = 0.16657963267948966\n",
    "chb5628fdairicmktu60\n",
    "Job Status: job has successfully run\n",
    "j =  2  - theta = 0.3231592653589793\n",
    "chb8u1pmfb1ddb4vccb0\n",
    "Job Status: job has successfully run\n",
    "j =  3  - theta = 0.479738898038469\n",
    "chbckvoo51arsodcbrbg\n",
    "Job Status: job has successfully run\n",
    "j =  4  - theta = 0.6363185307179586\n",
    "chbfp70o51arsode4alg\n",
    "Job Status: job has successfully run\n",
    "j =  5  - theta = 0.7928981633974483\n",
    "chbgbilv6mngo8mib9p0\n",
    "Job Status: job has successfully run\n",
    "j =  6  - theta = 0.9494777960769379\n",
    "chbhv5lv6mngo8mjavhg\n",
    "Job Status: job has successfully run\n",
    "j =  7  - theta = 1.1060574287564275\n",
    "chbk249mfb1ddb55e200\n",
    "Job Status: job has successfully run\n",
    "j =  8  - theta = 1.2626370614359173\n",
    "chbnos44cg5fl02loklg\n",
    "Job Status: job has successfully run\n",
    "j =  9  - theta = 1.419216694115407\n",
    "chbosipmfb1ddb58sfa0\n",
    "Job Status: job has successfully run\n",
    "j = 10  - theta = 1.5757963267948967\n",
    "chbrfi5v6mngo8mpokd0\n",
    "Job Status: job has successfully run\n",
    "j = 11  - theta = 1.7323759594743862\n",
    "chc4hioq13ef4a8f6kmg\n",
    "Job Status: job has successfully run\n",
    "j = 12  - theta = 1.8889555921538759\n",
    "chc8c18o51arsodsrlrg\n",
    "Job Status: job has successfully run\n",
    "j = 13  - theta = 2.0455352248333654\n",
    "chce3e0o51arsoe22k80\n",
    "Job Status: job has successfully run\n",
    "j = 14  - theta = 2.202114857512855\n",
    "chcf125v6mngo8n6qpe0\n",
    "Job Status: job has successfully run\n",
    "j = 15  - theta = 2.358694490192345\n",
    "chcf8v176h9ab2d3r7u0\n",
    "Job Status: job has successfully run\n",
    "j = 16  - theta = 2.5152741228718343\n",
    "chcfha976h9ab2d453b0\n",
    "Job Status: job has successfully run\n",
    "j = 17  - theta = 2.6718537555513238\n",
    "chcfp5dv6mngo8n7lrng\n",
    "Job Status: job has successfully run\n",
    "j = 18  - theta = 2.8284333882308137\n",
    "chcjja8fdairicnkqb20\n",
    "Job Status: job has successfully run\n",
    "j = 19  - theta = 2.985013020910303\n",
    "chcpcdp76h9ab2dcnptg\n",
    "Job Status: job has successfully run\n",
    "j = 20  - theta = 3.141592653589793"
   ]
  },
  {
   "cell_type": "code",
   "execution_count": 10,
   "id": "b798df46",
   "metadata": {},
   "outputs": [],
   "source": [
    "jobs_ids_b_in = ['chb0nc0dickn60j1i23g',\n",
    "'chb1fl5v6mngo8m6h6l0',\n",
    "'chb5628fdairicmktu60',\n",
    "'chb8u1pmfb1ddb4vccb0',\n",
    "'chbckvoo51arsodcbrbg',\n",
    "'chbfp70o51arsode4alg',\n",
    "'chbgbilv6mngo8mib9p0',\n",
    "'chbhv5lv6mngo8mjavhg',\n",
    "'chbk249mfb1ddb55e200',\n",
    "'chbnos44cg5fl02loklg',\n",
    "'chbosipmfb1ddb58sfa0',\n",
    "'chbrfi5v6mngo8mpokd0',\n",
    "'chc4hioq13ef4a8f6kmg',\n",
    "'chc8c18o51arsodsrlrg',\n",
    "'chce3e0o51arsoe22k80',\n",
    "'chcf125v6mngo8n6qpe0',\n",
    "'chcf8v176h9ab2d3r7u0',\n",
    "'chcfha976h9ab2d453b0',\n",
    "'chcfp5dv6mngo8n7lrng',\n",
    "'chcjja8fdairicnkqb20',\n",
    "'chcpcdp76h9ab2dcnptg']"
   ]
  },
  {
   "cell_type": "code",
   "execution_count": 11,
   "id": "6005de72",
   "metadata": {
    "scrolled": false
   },
   "outputs": [
    {
     "data": {
      "text/plain": [
       "['chb0nc0dickn60j1i23g',\n",
       " 'chb1fl5v6mngo8m6h6l0',\n",
       " 'chb5628fdairicmktu60',\n",
       " 'chb8u1pmfb1ddb4vccb0',\n",
       " 'chbckvoo51arsodcbrbg',\n",
       " 'chbfp70o51arsode4alg',\n",
       " 'chbgbilv6mngo8mib9p0',\n",
       " 'chbhv5lv6mngo8mjavhg',\n",
       " 'chbk249mfb1ddb55e200',\n",
       " 'chbnos44cg5fl02loklg',\n",
       " 'chbosipmfb1ddb58sfa0',\n",
       " 'chbrfi5v6mngo8mpokd0',\n",
       " 'chc4hioq13ef4a8f6kmg',\n",
       " 'chc8c18o51arsodsrlrg',\n",
       " 'chce3e0o51arsoe22k80',\n",
       " 'chcf125v6mngo8n6qpe0',\n",
       " 'chcf8v176h9ab2d3r7u0',\n",
       " 'chcfha976h9ab2d453b0',\n",
       " 'chcfp5dv6mngo8n7lrng',\n",
       " 'chcjja8fdairicnkqb20',\n",
       " 'chcpcdp76h9ab2dcnptg']"
      ]
     },
     "execution_count": 11,
     "metadata": {},
     "output_type": "execute_result"
    }
   ],
   "source": [
    "jobs_ids_b_in"
   ]
  },
  {
   "cell_type": "code",
   "execution_count": 12,
   "id": "b2d71f48",
   "metadata": {},
   "outputs": [
    {
     "data": {
      "image/png": "[encoded data removed]",
      "text/latex": [
       "$\\displaystyle 21$"
      ],
      "text/plain": [
       "21"
      ]
     },
     "execution_count": 12,
     "metadata": {},
     "output_type": "execute_result"
    }
   ],
   "source": [
    "len(jobs_ids_b_in)"
   ]
  },
  {
   "cell_type": "code",
   "execution_count": 13,
   "id": "531c0b63",
   "metadata": {},
   "outputs": [],
   "source": [
    "f = open(\"jobs_ids_b_in.txt\", \"w\")\n",
    "f.write(str(jobs_ids_b_in))\n",
    "f.close()"
   ]
  },
  {
   "cell_type": "code",
   "execution_count": 7,
   "id": "845b0d4a",
   "metadata": {},
   "outputs": [],
   "source": [
    "f = open(\"jobs_ids_b_in.txt\",\"r\")\n",
    "list_ids_b_in_ = f.read().replace(\"'\",\"\").replace(\" \",\"\").replace(\"[\",\"\").replace(\"]\",\"\").split(\",\")\n",
    "f.close()"
   ]
  },
  {
   "cell_type": "code",
   "execution_count": 8,
   "id": "d3f7bbda",
   "metadata": {},
   "outputs": [
    {
     "data": {
      "text/plain": [
       "['chb0nc0dickn60j1i23g',\n",
       " 'chb1fl5v6mngo8m6h6l0',\n",
       " 'chb5628fdairicmktu60',\n",
       " 'chb8u1pmfb1ddb4vccb0',\n",
       " 'chbckvoo51arsodcbrbg',\n",
       " 'chbfp70o51arsode4alg',\n",
       " 'chbgbilv6mngo8mib9p0',\n",
       " 'chbhv5lv6mngo8mjavhg',\n",
       " 'chbk249mfb1ddb55e200',\n",
       " 'chbnos44cg5fl02loklg',\n",
       " 'chbosipmfb1ddb58sfa0',\n",
       " 'chbrfi5v6mngo8mpokd0',\n",
       " 'chc4hioq13ef4a8f6kmg',\n",
       " 'chc8c18o51arsodsrlrg',\n",
       " 'chce3e0o51arsoe22k80',\n",
       " 'chcf125v6mngo8n6qpe0',\n",
       " 'chcf8v176h9ab2d3r7u0',\n",
       " 'chcfha976h9ab2d453b0',\n",
       " 'chcfp5dv6mngo8n7lrng',\n",
       " 'chcjja8fdairicnkqb20',\n",
       " 'chcpcdp76h9ab2dcnptg']"
      ]
     },
     "execution_count": 8,
     "metadata": {},
     "output_type": "execute_result"
    }
   ],
   "source": [
    "list_ids_b_in_"
   ]
  },
  {
   "cell_type": "markdown",
   "id": "d4254423",
   "metadata": {},
   "source": [
    "## Retrieve $b_{in}$ "
   ]
  },
  {
   "cell_type": "code",
   "execution_count": 44,
   "id": "e5220bc1",
   "metadata": {},
   "outputs": [],
   "source": [
    "thmax = math.pi-0.01;   dth = thmax/20; th = np.arange(0.01, thmax+dth, dth); d = th.shape[0]\n",
    "ret_rhob_AbWZ_in             = np.zeros(th.shape[0], dtype=object)\n",
    "ret_rhob_AbWZ_out            = np.zeros(th.shape[0], dtype=object)\n",
    "ret_rhob_0bWZ_in             = np.zeros(th.shape[0], dtype=object)\n",
    "ret_rhob_0bWZ_out            = np.zeros(th.shape[0], dtype=object)\n",
    "ret_Phi_b_0bWZ_in            = np.zeros(th.shape[0], dtype=object)\n",
    "ret_Phi_b_0bWZ_out           = np.zeros(th.shape[0], dtype=object)\n",
    "ret_Irr_b_in                 = np.zeros(th.shape[0])\n",
    "ret_Irr_b_out                = np.zeros(th.shape[0])"
   ]
  },
  {
   "cell_type": "code",
   "execution_count": 45,
   "id": "29db1260",
   "metadata": {},
   "outputs": [
    {
     "name": "stdout",
     "output_type": "stream",
     "text": [
      "ibm_nairobi\n",
      "chb0nc0dickn60j1i23g\n",
      "chb0nc0dickn60j1i23g\n",
      "j =  0  - theta = 0.01\n",
      "chb1fl5v6mngo8m6h6l0\n",
      "chb1fl5v6mngo8m6h6l0\n",
      "j =  1  - theta = 0.16657963267948966\n",
      "chb5628fdairicmktu60\n",
      "chb5628fdairicmktu60\n",
      "j =  2  - theta = 0.3231592653589793\n",
      "chb8u1pmfb1ddb4vccb0\n",
      "chb8u1pmfb1ddb4vccb0\n",
      "j =  3  - theta = 0.479738898038469\n",
      "chbckvoo51arsodcbrbg\n",
      "chbckvoo51arsodcbrbg\n",
      "j =  4  - theta = 0.6363185307179586\n",
      "chbfp70o51arsode4alg\n",
      "chbfp70o51arsode4alg\n",
      "j =  5  - theta = 0.7928981633974483\n",
      "chbgbilv6mngo8mib9p0\n",
      "chbgbilv6mngo8mib9p0\n",
      "j =  6  - theta = 0.9494777960769379\n",
      "chbhv5lv6mngo8mjavhg\n",
      "chbhv5lv6mngo8mjavhg\n",
      "j =  7  - theta = 1.1060574287564275\n",
      "chbk249mfb1ddb55e200\n",
      "chbk249mfb1ddb55e200\n",
      "j =  8  - theta = 1.2626370614359173\n",
      "chbnos44cg5fl02loklg\n",
      "chbnos44cg5fl02loklg\n",
      "j =  9  - theta = 1.419216694115407\n",
      "chbosipmfb1ddb58sfa0\n",
      "chbosipmfb1ddb58sfa0\n",
      "j = 10  - theta = 1.5757963267948967\n",
      "chbrfi5v6mngo8mpokd0\n",
      "chbrfi5v6mngo8mpokd0\n",
      "j = 11  - theta = 1.7323759594743862\n",
      "chc4hioq13ef4a8f6kmg\n",
      "chc4hioq13ef4a8f6kmg\n",
      "j = 12  - theta = 1.8889555921538759\n",
      "chc8c18o51arsodsrlrg\n",
      "chc8c18o51arsodsrlrg\n",
      "j = 13  - theta = 2.0455352248333654\n",
      "chce3e0o51arsoe22k80\n",
      "chce3e0o51arsoe22k80\n",
      "j = 14  - theta = 2.202114857512855\n",
      "chcf125v6mngo8n6qpe0\n",
      "chcf125v6mngo8n6qpe0\n",
      "j = 15  - theta = 2.358694490192345\n",
      "chcf8v176h9ab2d3r7u0\n",
      "chcf8v176h9ab2d3r7u0\n",
      "j = 16  - theta = 2.5152741228718343\n",
      "chcfha976h9ab2d453b0\n",
      "chcfha976h9ab2d453b0\n",
      "j = 17  - theta = 2.6718537555513238\n",
      "chcfp5dv6mngo8n7lrng\n",
      "chcfp5dv6mngo8n7lrng\n",
      "j = 18  - theta = 2.8284333882308137\n",
      "chcjja8fdairicnkqb20\n",
      "chcjja8fdairicnkqb20\n",
      "j = 19  - theta = 2.985013020910303\n",
      "chcpcdp76h9ab2dcnptg\n",
      "chcpcdp76h9ab2dcnptg\n",
      "j = 20  - theta = 3.141592653589793\n"
     ]
    }
   ],
   "source": [
    "print(device)\n",
    "for j in range(0, d):\n",
    "    print(list_ids_b_in_[j])\n",
    "    qr = qiskit.QuantumRegister(6); qc = qiskit.QuantumCircuit(qr)\n",
    "    qc_QCRb_in_ = qc_QCRb_in(th[j]); qc.append(qc_QCRb_in_, [qr[0],qr[1],qr[2],qr[3],qr[4],qr[5]])\n",
    "    job_ret_b_in = device.retrieve_job(list_ids_b_in_[j])\n",
    "    qstc = state_tomography_circuits(qc, [qr[5],qr[4],qr[3],qr[1]])  # rho_AbWZ qr[5],qr[4],qr[3],qr[1]\n",
    "    print(job_ret_b_in.job_id())\n",
    "    qstf = StateTomographyFitter(job_ret_b_in.result(), qstc)\n",
    "    #\n",
    "    # rho\n",
    "    #\n",
    "    ret_rhob_AbWZ_in[j] = qstf.fit(method='lstsq')\n",
    "    print('j = {:2d}  - theta = {}'.format(j, th[j]))"
   ]
  },
  {
   "cell_type": "code",
   "execution_count": 46,
   "id": "838aebf8",
   "metadata": {},
   "outputs": [
    {
     "data": {
      "image/png": "[encoded data removed]",
      "text/plain": [
       "<Figure size 415.398x374.578 with 1 Axes>"
      ]
     },
     "execution_count": 46,
     "metadata": {},
     "output_type": "execute_result"
    }
   ],
   "source": [
    "qc.decompose().draw(output = 'mpl', scale = 0.7)"
   ]
  },
  {
   "cell_type": "markdown",
   "id": "127f7e83",
   "metadata": {},
   "source": [
    "### Cálculos\n",
    "\n",
    "#### QWP$_{in}$"
   ]
  },
  {
   "cell_type": "code",
   "execution_count": 47,
   "id": "c56d810d",
   "metadata": {},
   "outputs": [
    {
     "name": "stdout",
     "output_type": "stream",
     "text": [
      "0.018987056255594492\n",
      "0.04801487611629862\n",
      "0.14927440992896357\n",
      "0.2133427402368454\n",
      "0.29018166010561164\n",
      "0.3833800025398766\n",
      "0.46044732269099853\n",
      "0.5221012136705849\n",
      "0.5298971498306021\n",
      "0.5349601201806012\n",
      "0.5222777796382683\n",
      "0.5348456726263274\n",
      "0.47825150262170457\n",
      "0.4031332862025323\n",
      "0.3342801365526341\n",
      "0.21981974620756806\n",
      "0.14904974572909224\n",
      "0.06765554611756497\n",
      "0.03616602104092492\n",
      "0.009820341851665582\n",
      "0.02112206401021599\n"
     ]
    }
   ],
   "source": [
    "for j in range(0,d):\n",
    "    ret_rhob_0bWZ_in[j] = projM_np(8, '0', ret_rhob_AbWZ_in[j])\n",
    "    ret_Phi_b_0bWZ_in[j] = dephasing_map_3qubits_np(ret_rhob_0bWZ_in[j])\n",
    "    ret_Irr_b_in[j] = entropy(ret_Phi_b_0bWZ_in[j]) - entropy(ret_rhob_0bWZ_in[j])\n",
    "    print(ret_Irr_b_in[j])"
   ]
  },
  {
   "cell_type": "markdown",
   "id": "bcee2f19",
   "metadata": {},
   "source": [
    "#### Gráficos"
   ]
  },
  {
   "cell_type": "code",
   "execution_count": 48,
   "id": "5ecc03bf",
   "metadata": {},
   "outputs": [
    {
     "data": {
      "image/png": "[encoded data removed]",
      "text/plain": [
       "<Figure size 650x320 with 1 Axes>"
      ]
     },
     "metadata": {},
     "output_type": "display_data"
    }
   ],
   "source": [
    "import string\n",
    "plt.figure(figsize = (6.5, 3.2), constrained_layout = True)\n",
    "#plt.subplots(figsize=(6.5, 3.2))\n",
    "font = {'family': 'Verdana', 'color':  'black', 'size': 20}\n",
    "#\n",
    "plt.style.use(['science', 'notebook', 'grid'])\n",
    "ax0 = plt.subplot(121)\n",
    "plt.gca().set_xlim([-0.01,3.14])\n",
    "plt.gca().set_ylim([-0.01,0.52])\n",
    "#\n",
    "# simulation\n",
    "#\n",
    "plt.plot(th[:len(th)//2+1], ret_Irr_b_in[:len(th)//2+1], 'o' ,\n",
    "         color='#1f77b4', label = r'$Irr_{b, exp}^{QWP_{in}}$')\n",
    "#plt.plot(th[:len(th)//2+1], Irr_b_out[:len(th)//2+1], '--',\n",
    "#         color='#ff7f0e', label = r'$Irr_{b,exp}^{QWP_{out}}$')\n",
    "#\n",
    "#\n",
    "plt.legend(bbox_to_anchor=(0.7, 0.26), loc='center',\n",
    "           borderaxespad=0, fontsize=12)\n",
    "#, frameon=False, handlelength=1.5\n",
    "plt.xlabel(r'$\\theta$')\n",
    "tick_posx= [0, np.pi/8, np.pi/4, 3*np.pi/8, np.pi/2]\n",
    "#, 3*np.pi/4, np.pi, 5*np.pi/4, 3*np.pi/2, 7*np.pi/4, 2*np.pi]\n",
    "labelsx = ['0', r'$\\frac{\\pi}{8}$', r'$\\frac{\\pi}{4}$',\n",
    "           r'$\\frac{3\\pi}{8}$', r'$\\frac{\\pi}{2}$']\n",
    "#, r'$\\frac{3\\pi}{4}$', r'$\\pi$', r'$\\frac{5\\pi}{4}$'\n",
    "#, r'$\\frac{3\\pi}{2}$', r'$\\frac{7\\pi}{4}$', r'$2\\pi$']\n",
    "tick_posy= [0, 0.2, 0.4, 0.6, 0.8, 1.0]\n",
    "labelsy = ['0', '0.2', '0.4', '0.6', '0.8', '1.0']\n",
    "#tick_posx= [0, 5]\n",
    "#labelsx = ['0', '5']\n",
    "plt.xlim([0, np.pi/2])\n",
    "plt.xticks(tick_posx, labelsx)\n",
    "plt.yticks(tick_posy, labelsy)\n",
    "plt.xticks(fontsize=12)\n",
    "plt.yticks(fontsize=12)\n",
    "#plt.tick_params('y', labelleft=False)\n",
    "#ax1.text(-0.1, 1.1, string.ascii_uppercase[1], transform=ax1.transAxes, \n",
    "#            size=20, weight='bold')\n",
    "#\n",
    "#plt.tight_layout()\n",
    "#plt.savefig('zgraph_CCR_vpv=0_sim.pdf', format='pdf', dpi = 1200, bbox_inches='tight')\n",
    "plt.show()"
   ]
  },
  {
   "cell_type": "markdown",
   "id": "5c42f210",
   "metadata": {},
   "source": [
    "## BBO$_{p}$ - Dentro do IMZ - QWP$_{out}$"
   ]
  },
  {
   "cell_type": "markdown",
   "id": "5d8e8cc5",
   "metadata": {},
   "source": [
    "<img src = 'setup_realism.jpg' width = '90%'>"
   ]
  },
  {
   "cell_type": "code",
   "execution_count": 39,
   "id": "9cd61048",
   "metadata": {
    "scrolled": true
   },
   "outputs": [
    {
     "data": {
      "image/png": "[encoded data removed]",
      "text/plain": [
       "<Figure size 415.539x374.578 with 1 Axes>"
      ]
     },
     "execution_count": 39,
     "metadata": {},
     "output_type": "execute_result"
    }
   ],
   "source": [
    "def qc_QCRb_out(th):\n",
    "    qr = qiskit.QuantumRegister(6); qc = qiskit.QuantumCircuit(qr, name = 'QCR')\n",
    "    qc_BBO_p_ = qc_BBO_p(th); qc.append(qc_BBO_p_, [qr[1],qr[2]])              # BBO_p\n",
    "    #qc_QWP_ = qc_QWP(); qc.append(qc_QWP_, [qr[1]])                           # QWP\n",
    "    qc_PBS_ = qc_PBS(); qc.append(qc_PBS_, [qr[1],qr[0]])                      # PBS_A\n",
    "    # IMZ\n",
    "    qc_PBS_ = qc_PBS(); qc.append(qc_PBS_, [qr[2],qr[3]])                      # PBS\n",
    "    qc_HWP_ = qc_HWP(); qc.append(qc_HWP_, [qr[2],qr[3]])                      # HWP\n",
    "    qc.x(4); qc.x(5) # Atoms's innitial state\n",
    "    #qc_AtmInt_ = qc_AtmInt(); qc.append(qc_AtmInt_, [qr[3],qr[4],qr[5]])      # Atoms' interaction\n",
    "    #qc_M_ = qc_M(); qc.append(qc_M_, [qr[3]])                                 # Mirrors\n",
    "    #qc_PS_ = qc_PS(ph); qc.append(qc_PS_, [qr[3]])                            # Phase\n",
    "    #qc_BS_ = qc_BS(); qc.append(qc_BS_, [qr[3]])                              # BS\n",
    "    return qc\n",
    "qc_QCRb_out_ = qc_QCRb_out(math.pi); qc_QCRb_out_.draw(output = 'mpl', scale = 0.7)"
   ]
  },
  {
   "cell_type": "code",
   "execution_count": 63,
   "id": "7488762c",
   "metadata": {
    "scrolled": true
   },
   "outputs": [
    {
     "name": "stdout",
     "output_type": "stream",
     "text": [
      "ibm_nairobi\n",
      "chelpsn7uma4tn78rc2g\n",
      "Job Status: job has successfully run\n",
      "j =  0  - theta = 0.01\n",
      "chep59kqqnv6prm1uccg\n",
      "Job Status: job has successfully run\n",
      "j =  1  - theta = 0.16657963267948966\n",
      "chesmsf9targ2vpmqkig\n",
      "Job Status: job has successfully run\n",
      "j =  2  - theta = 0.3231592653589793\n",
      "chf07ob66hmpifuql4jg\n",
      "Job Status: job has successfully run\n",
      "j =  3  - theta = 0.479738898038469\n",
      "chf0fj79targ2vpr406g\n",
      "Job Status: job has successfully run\n",
      "j =  4  - theta = 0.6363185307179586\n",
      "chf0jqvppn69h5prdplg\n",
      "Job Status: job has successfully run\n",
      "j =  5  - theta = 0.7928981633974483\n",
      "chf0o1nppn69h5pri8a0\n",
      "Job Status: job has successfully run\n",
      "j =  6  - theta = 0.9494777960769379\n",
      "chf0s8g4sb77opi8pskg\n",
      "Job Status: job has successfully run\n",
      "j =  7  - theta = 1.1060574287564275\n",
      "chf10jmo5i9gdbb1rjsg\n",
      "Job Status: job has successfully run\n",
      "j =  8  - theta = 1.2626370614359173\n",
      "chf151uo5i9gdbb20lu0\n",
      "Job Status: job is queued (None)\n",
      "\n",
      "Erro detectado em Bloco 2:  \"'400 Client Error: Bad Request for url: https://api.quantum-computing.ibm.com/api/Network/ibm-q/Groups/open/Projects/main/Jobs/chf151uo5i9gdbb20lu0/status/v/1. Error in runtime client calling method getJob: Error executing GET https://runtime-us-east.quantum-computing.ibm.com/jobs/chf151uo5i9gdbb20lu0 {No request body}, Error code: 2413.'\"\n"
     ]
    }
   ],
   "source": [
    "print(device)\n",
    "start_time2 = time.time()\n",
    "try:\n",
    "    for j in range(0,d):\n",
    "        qr = qiskit.QuantumRegister(6); qc = qiskit.QuantumCircuit(qr)\n",
    "        #\n",
    "        # Circuit\n",
    "        #\n",
    "        qc_QCRb_out_ = qc_QCRb_out(th[j]); qc.append(qc_QCRb_out_, [qr[0],qr[1],qr[2],qr[3],qr[4],qr[5]])\n",
    "        #\n",
    "        # Tomography\n",
    "        #\n",
    "        qstc = state_tomography_circuits(qc, [qr[5],qr[4],qr[3],qr[1]])  # rho_AbWZ\n",
    "        job = qiskit.execute(qstc, backend = device, shots=nshots)\n",
    "        print(job.job_id()); job_monitor(job)\n",
    "        jobs_ids_b_out.append(job.job_id())\n",
    "        qstf = StateTomographyFitter(job.result(), qstc)\n",
    "        #\n",
    "        # rho\n",
    "        #\n",
    "        rhob_AbWZ_out[j] = qstf.fit(method='lstsq')\n",
    "        print('j = {:2d}  - theta = {}'.format(j, th[j]))\n",
    "except:\n",
    "    print(\"\\n\\nErro detectado em Bloco 2: \", sys.exc_info()[1])\n",
    "    winsound.Beep(1000, 200)   # Frequência de 1000 Hz e duração de 200 ms\n",
    "    winsound.Beep(1000, 200)   # Frequência de 1000 Hz e duração de 200 ms\n",
    "    winsound.Beep(1000, 200)   # Frequência de 1000 Hz e duração de 200 ms\n",
    "    winsound.Beep(1000, 1000)  # Frequência de 1000 Hz e duração de 200 ms\n",
    "end_time2 = time.time()\n",
    "winsound.Beep(1000, 1000)  # Frequência de 1000 Hz e duração de 200 ms\n",
    "winsound.Beep(1000, 200)   # Frequência de 1000 Hz e duração de 200 ms\n",
    "winsound.Beep(1000, 200)   # Frequência de 1000 Hz e duração de 200 ms\n",
    "winsound.Beep(1000, 200)   # Frequência de 1000 Hz e duração de 200 ms"
   ]
  },
  {
   "cell_type": "code",
   "execution_count": 66,
   "id": "943eece0",
   "metadata": {},
   "outputs": [
    {
     "name": "stdout",
     "output_type": "stream",
     "text": [
      "Tempo de execução: 56057.82 segundos\n",
      "Tempo de execução: 934.3 minutos\n",
      "Tempo de execução: 15.57 horas\n",
      "Tempo de execução por job: 1.73 horas \n"
     ]
    }
   ],
   "source": [
    "execution_time2_seg = end_time2 - start_time2\n",
    "print(\"Tempo de execução:\", round(execution_time2_seg, 2), \"segundos\")\n",
    "execution_time2_min = execution_time2_seg/60\n",
    "print(\"Tempo de execução:\", round(execution_time2_min, 2), \"minutos\")\n",
    "execution_time2_h = execution_time2_min/60\n",
    "print(\"Tempo de execução:\", round(execution_time2_h, 2), \"horas\")\n",
    "execution_time2_1_h = execution_time2_h/j\n",
    "print(\"Tempo de execução por job:\", round(execution_time2_1_h, 2), \"horas \")"
   ]
  },
  {
   "cell_type": "code",
   "execution_count": 67,
   "id": "fb04b41e",
   "metadata": {},
   "outputs": [
    {
     "data": {
      "image/png": "[encoded data removed]",
      "text/latex": [
       "$\\displaystyle 9$"
      ],
      "text/plain": [
       "9"
      ]
     },
     "execution_count": 67,
     "metadata": {},
     "output_type": "execute_result"
    }
   ],
   "source": [
    "k = j\n",
    "k"
   ]
  },
  {
   "cell_type": "code",
   "execution_count": 70,
   "id": "6858a322",
   "metadata": {
    "scrolled": true
   },
   "outputs": [
    {
     "name": "stdout",
     "output_type": "stream",
     "text": [
      "ibm_nairobi\n",
      "trytry, k= 9\n",
      "chf4t0sp8f687ogloj2g\n",
      "Job Status: job has successfully run\n",
      "j =  9  - theta = 1.419216694115407\n",
      "chf8gc6o5i9gdbbagde0\n",
      "Job Status: job has successfully run\n",
      "j = 10  - theta = 1.5757963267948967\n",
      "chfcbncp8f687ogte7s0\n",
      "Job Status: job has successfully run\n",
      "j = 11  - theta = 1.7323759594743862\n",
      "chfch9vppn69h5q89pug\n",
      "Job Status: job has successfully run\n",
      "j = 12  - theta = 1.8889555921538759\n",
      "chfclgj66hmpifv83nr0\n",
      "Job Status: job has successfully run\n",
      "j = 13  - theta = 2.0455352248333654\n",
      "chfcs3kp8f687ogtslfg\n",
      "Job Status: job has successfully run\n",
      "j = 14  - theta = 2.202114857512855\n",
      "chfd0e366hmpifv8cp7g\n",
      "Job Status: job has successfully run\n",
      "j = 15  - theta = 2.358694490192345\n",
      "chfd7c04sb77opiludd0\n",
      "Job Status: job has successfully run\n",
      "j = 16  - theta = 2.5152741228718343\n",
      "chfde0f9targ2vq8tna0\n",
      "Job Status: job has successfully run\n",
      "j = 17  - theta = 2.6718537555513238\n",
      "chfdkeo4sb77opim9rfg\n",
      "Job Status: job has successfully run\n",
      "j = 18  - theta = 2.8284333882308137\n",
      "chfdorj66hmpifv92d4g\n",
      "Job Status: job has successfully run\n",
      "j = 19  - theta = 2.985013020910303\n",
      "chfdsjo4sb77opimh3g0\n",
      "Job Status: job has successfully run\n",
      "j = 20  - theta = 3.141592653589793\n"
     ]
    }
   ],
   "source": [
    "print(device)\n",
    "start_time2 = time.time()\n",
    "try:\n",
    "    try:\n",
    "        print('trytry, k=',k)\n",
    "        for j in range(k,d):\n",
    "            qr = qiskit.QuantumRegister(6); qc = qiskit.QuantumCircuit(qr)\n",
    "            #\n",
    "            # Circuit\n",
    "            #\n",
    "            qc_QCRb_out_ = qc_QCRb_out(th[j]); qc.append(qc_QCRb_out_, [qr[0],qr[1],qr[2],qr[3],qr[4],qr[5]])\n",
    "            #\n",
    "            # Tomography\n",
    "            #\n",
    "            qstc = state_tomography_circuits(qc, [qr[5],qr[4],qr[3],qr[1]])  # rho_AbWZ\n",
    "            job = qiskit.execute(qstc, backend = device, shots=nshots)\n",
    "            print(job.job_id()); job_monitor(job)\n",
    "            jobs_ids_b_out.append(job.job_id())\n",
    "            qstf = StateTomographyFitter(job.result(), qstc)\n",
    "            #\n",
    "            # rho\n",
    "            #\n",
    "            rhob_AbWZ_out[j] = qstf.fit(method='lstsq')\n",
    "            print('j = {:2d}  - theta = {}'.format(j, th[j]))\n",
    "    except:\n",
    "        print('tryexcept, k=',k)\n",
    "        k = j\n",
    "        for j in range(k,d):\n",
    "            qr = qiskit.QuantumRegister(6); qc = qiskit.QuantumCircuit(qr)\n",
    "            #\n",
    "            # Circuit\n",
    "            #\n",
    "            qc_QCRb_out_ = qc_QCRb_out(th[j]); qc.append(qc_QCRb_out_, [qr[0],qr[1],qr[2],qr[3],qr[4],qr[5]])\n",
    "            #\n",
    "            # Tomography\n",
    "            #\n",
    "            qstc = state_tomography_circuits(qc, [qr[5],qr[4],qr[3],qr[1]])  # rho_AbWZ\n",
    "            job = qiskit.execute(qstc, backend = device, shots=nshots)\n",
    "            print(job.job_id()); job_monitor(job)\n",
    "            jobs_ids_b_out.append(job.job_id())\n",
    "            qstf = StateTomographyFitter(job.result(), qstc)\n",
    "            #\n",
    "            # rho\n",
    "            #\n",
    "            rhob_AbWZ_out[j] = qstf.fit(method='lstsq')\n",
    "            print('j = {:2d}  - theta = {}'.format(j, th[j]))\n",
    "except:\n",
    "    print(\"\\n\\nErro detectado: \", sys.exc_info()[1])\n",
    "    winsound.Beep(1000, 200)   # Frequência de 1000 Hz e duração de 200 ms\n",
    "    winsound.Beep(1000, 200)   # Frequência de 1000 Hz e duração de 200 ms\n",
    "    winsound.Beep(1000, 200)   # Frequência de 1000 Hz e duração de 200 ms\n",
    "    winsound.Beep(1000, 1000)  # Frequência de 1000 Hz e duração de 200 ms\n",
    "end_time2 = time.time()\n",
    "winsound.Beep(1000, 1000)  # Frequência de 1000 Hz e duração de 200 ms\n",
    "winsound.Beep(1000, 200)   # Frequência de 1000 Hz e duração de 200 ms\n",
    "winsound.Beep(1000, 200)   # Frequência de 1000 Hz e duração de 200 ms\n",
    "winsound.Beep(1000, 200)   # Frequência de 1000 Hz e duração de 200 ms"
   ]
  },
  {
   "cell_type": "code",
   "execution_count": 71,
   "id": "dd871056",
   "metadata": {},
   "outputs": [
    {
     "name": "stdout",
     "output_type": "stream",
     "text": [
      "Tempo de execução: 37268.37 segundos\n",
      "Tempo de execução: 621.14 minutos\n",
      "Tempo de execução: 10.35 horas\n",
      "Tempo de execução por job: 0.52 horas \n"
     ]
    }
   ],
   "source": [
    "execution_time2_seg = end_time2 - start_time2\n",
    "print(\"Tempo de execução:\", round(execution_time2_seg, 2), \"segundos\")\n",
    "execution_time2_min = execution_time2_seg/60\n",
    "print(\"Tempo de execução:\", round(execution_time2_min, 2), \"minutos\")\n",
    "execution_time2_h = execution_time2_min/60\n",
    "print(\"Tempo de execução:\", round(execution_time2_h, 2), \"horas\")\n",
    "execution_time2_1_h = execution_time2_h/j\n",
    "print(\"Tempo de execução por job:\", round(execution_time2_1_h, 2), \"horas \")"
   ]
  },
  {
   "cell_type": "code",
   "execution_count": 23,
   "id": "0eb89a36",
   "metadata": {},
   "outputs": [
    {
     "data": {
      "text/plain": [
       "['chelpsn7uma4tn78rc2g',\n",
       " 'chep59kqqnv6prm1uccg',\n",
       " 'chesmsf9targ2vpmqkig',\n",
       " 'chf07ob66hmpifuql4jg',\n",
       " 'chf0fj79targ2vpr406g',\n",
       " 'chf0jqvppn69h5prdplg',\n",
       " 'chf0o1nppn69h5pri8a0',\n",
       " 'chf0s8g4sb77opi8pskg',\n",
       " 'chf10jmo5i9gdbb1rjsg',\n",
       " 'chf4t0sp8f687ogloj2g',\n",
       " 'chf8gc6o5i9gdbbagde0',\n",
       " 'chfcbncp8f687ogte7s0',\n",
       " 'chfch9vppn69h5q89pug',\n",
       " 'chfclgj66hmpifv83nr0',\n",
       " 'chfcs3kp8f687ogtslfg',\n",
       " 'chfd0e366hmpifv8cp7g',\n",
       " 'chfd7c04sb77opiludd0',\n",
       " 'chfde0f9targ2vq8tna0',\n",
       " 'chfdkeo4sb77opim9rfg',\n",
       " 'chfdorj66hmpifv92d4g',\n",
       " 'chfdsjo4sb77opimh3g0']"
      ]
     },
     "execution_count": 23,
     "metadata": {},
     "output_type": "execute_result"
    }
   ],
   "source": [
    "jobs_ids_b_out"
   ]
  },
  {
   "cell_type": "code",
   "execution_count": 24,
   "id": "04ee5f70",
   "metadata": {},
   "outputs": [],
   "source": [
    "f = open(\"jobs_ids_b_out.txt\", \"w\")\n",
    "f.write(str(jobs_ids_b_out))\n",
    "f.close()"
   ]
  },
  {
   "cell_type": "code",
   "execution_count": 25,
   "id": "b4d448bf",
   "metadata": {},
   "outputs": [],
   "source": [
    "f = open(\"jobs_ids_b_out.txt\",\"r\")\n",
    "list_ids_b_out_ = f.read().replace(\"'\",\"\").replace(\" \",\"\").replace(\"[\",\"\").replace(\"]\",\"\").split(\",\")\n",
    "f.close()"
   ]
  },
  {
   "cell_type": "code",
   "execution_count": 26,
   "id": "a5d87f0c",
   "metadata": {
    "scrolled": false
   },
   "outputs": [
    {
     "data": {
      "text/plain": [
       "['chelpsn7uma4tn78rc2g',\n",
       " 'chep59kqqnv6prm1uccg',\n",
       " 'chesmsf9targ2vpmqkig',\n",
       " 'chf07ob66hmpifuql4jg',\n",
       " 'chf0fj79targ2vpr406g',\n",
       " 'chf0jqvppn69h5prdplg',\n",
       " 'chf0o1nppn69h5pri8a0',\n",
       " 'chf0s8g4sb77opi8pskg',\n",
       " 'chf10jmo5i9gdbb1rjsg',\n",
       " 'chf4t0sp8f687ogloj2g',\n",
       " 'chf8gc6o5i9gdbbagde0',\n",
       " 'chfcbncp8f687ogte7s0',\n",
       " 'chfch9vppn69h5q89pug',\n",
       " 'chfclgj66hmpifv83nr0',\n",
       " 'chfcs3kp8f687ogtslfg',\n",
       " 'chfd0e366hmpifv8cp7g',\n",
       " 'chfd7c04sb77opiludd0',\n",
       " 'chfde0f9targ2vq8tna0',\n",
       " 'chfdkeo4sb77opim9rfg',\n",
       " 'chfdorj66hmpifv92d4g',\n",
       " 'chfdsjo4sb77opimh3g0']"
      ]
     },
     "execution_count": 26,
     "metadata": {},
     "output_type": "execute_result"
    }
   ],
   "source": [
    "list_ids_b_out_"
   ]
  },
  {
   "cell_type": "markdown",
   "id": "307af5bb",
   "metadata": {},
   "source": [
    "## Retrieve $b_{out}$ "
   ]
  },
  {
   "cell_type": "code",
   "execution_count": 59,
   "id": "0b587c94",
   "metadata": {},
   "outputs": [
    {
     "name": "stdout",
     "output_type": "stream",
     "text": [
      "ibm_nairobi\n",
      "chelpsn7uma4tn78rc2g\n",
      "chelpsn7uma4tn78rc2g\n",
      "j =  0  - theta = 0.01\n",
      "chep59kqqnv6prm1uccg\n",
      "chep59kqqnv6prm1uccg\n",
      "j =  1  - theta = 0.16657963267948966\n",
      "chesmsf9targ2vpmqkig\n",
      "chesmsf9targ2vpmqkig\n",
      "j =  2  - theta = 0.3231592653589793\n",
      "chf07ob66hmpifuql4jg\n",
      "chf07ob66hmpifuql4jg\n",
      "j =  3  - theta = 0.479738898038469\n",
      "chf0fj79targ2vpr406g\n",
      "chf0fj79targ2vpr406g\n",
      "j =  4  - theta = 0.6363185307179586\n",
      "chf0jqvppn69h5prdplg\n",
      "chf0jqvppn69h5prdplg\n",
      "j =  5  - theta = 0.7928981633974483\n",
      "chf0o1nppn69h5pri8a0\n",
      "chf0o1nppn69h5pri8a0\n",
      "j =  6  - theta = 0.9494777960769379\n",
      "chf0s8g4sb77opi8pskg\n",
      "chf0s8g4sb77opi8pskg\n",
      "j =  7  - theta = 1.1060574287564275\n",
      "chf10jmo5i9gdbb1rjsg\n",
      "chf10jmo5i9gdbb1rjsg\n",
      "j =  8  - theta = 1.2626370614359173\n",
      "chf4t0sp8f687ogloj2g\n",
      "chf4t0sp8f687ogloj2g\n",
      "j =  9  - theta = 1.419216694115407\n",
      "chf8gc6o5i9gdbbagde0\n",
      "chf8gc6o5i9gdbbagde0\n",
      "j = 10  - theta = 1.5757963267948967\n",
      "chfcbncp8f687ogte7s0\n",
      "chfcbncp8f687ogte7s0\n",
      "j = 11  - theta = 1.7323759594743862\n",
      "chfch9vppn69h5q89pug\n",
      "chfch9vppn69h5q89pug\n",
      "j = 12  - theta = 1.8889555921538759\n",
      "chfclgj66hmpifv83nr0\n",
      "chfclgj66hmpifv83nr0\n",
      "j = 13  - theta = 2.0455352248333654\n",
      "chfcs3kp8f687ogtslfg\n",
      "chfcs3kp8f687ogtslfg\n",
      "j = 14  - theta = 2.202114857512855\n",
      "chfd0e366hmpifv8cp7g\n",
      "chfd0e366hmpifv8cp7g\n",
      "j = 15  - theta = 2.358694490192345\n",
      "chfd7c04sb77opiludd0\n",
      "chfd7c04sb77opiludd0\n",
      "j = 16  - theta = 2.5152741228718343\n",
      "chfde0f9targ2vq8tna0\n",
      "chfde0f9targ2vq8tna0\n",
      "j = 17  - theta = 2.6718537555513238\n",
      "chfdkeo4sb77opim9rfg\n",
      "chfdkeo4sb77opim9rfg\n",
      "j = 18  - theta = 2.8284333882308137\n",
      "chfdorj66hmpifv92d4g\n",
      "chfdorj66hmpifv92d4g\n",
      "j = 19  - theta = 2.985013020910303\n",
      "chfdsjo4sb77opimh3g0\n",
      "chfdsjo4sb77opimh3g0\n",
      "j = 20  - theta = 3.141592653589793\n"
     ]
    }
   ],
   "source": [
    "print(device)\n",
    "for j in range(0, d):\n",
    "    print(list_ids_b_out_[j])\n",
    "    qr = qiskit.QuantumRegister(6); qc = qiskit.QuantumCircuit(qr)\n",
    "    qc_QCRb_out_ = qc_QCRb_out(th[j]); qc.append(qc_QCRb_out_, [qr[0],qr[1],qr[2],qr[3],qr[4],qr[5]])\n",
    "    job_ret_b_out = device.retrieve_job(list_ids_b_out_[j])\n",
    "    qstc = state_tomography_circuits(qc, [qr[5],qr[4],qr[3],qr[1]])  # rho_AbWZ qr[5],qr[4],qr[3],qr[1]\n",
    "    print(job_ret_b_out.job_id())\n",
    "    qstf = StateTomographyFitter(job_ret_b_out.result(), qstc)\n",
    "    #\n",
    "    # rho\n",
    "    #\n",
    "    ret_rhob_AbWZ_out[j] = qstf.fit(method='lstsq')\n",
    "    print('j = {:2d}  - theta = {}'.format(j, th[j]))"
   ]
  },
  {
   "cell_type": "code",
   "execution_count": 41,
   "id": "e1e62087",
   "metadata": {},
   "outputs": [
    {
     "data": {
      "image/png": "[encoded data removed]",
      "text/plain": [
       "<Figure size 415.256x374.578 with 1 Axes>"
      ]
     },
     "execution_count": 41,
     "metadata": {},
     "output_type": "execute_result"
    }
   ],
   "source": [
    "qc.decompose().draw(output = 'mpl', scale = 0.7)"
   ]
  },
  {
   "cell_type": "markdown",
   "id": "b35f0de6",
   "metadata": {},
   "source": [
    "### Cálculos\n",
    "\n",
    "#### QWP$_{in}$"
   ]
  },
  {
   "cell_type": "code",
   "execution_count": 52,
   "id": "488dcef2",
   "metadata": {},
   "outputs": [
    {
     "name": "stdout",
     "output_type": "stream",
     "text": [
      "0.018987056255594492\n",
      "0.04801487611629862\n",
      "0.14927440992896357\n",
      "0.2133427402368454\n",
      "0.29018166010561164\n",
      "0.3833800025398766\n",
      "0.46044732269099853\n",
      "0.5221012136705849\n",
      "0.5298971498306021\n",
      "0.5349601201806012\n",
      "0.5222777796382683\n",
      "0.5348456726263274\n",
      "0.47825150262170457\n",
      "0.4031332862025323\n",
      "0.3342801365526341\n",
      "0.21981974620756806\n",
      "0.14904974572909224\n",
      "0.06765554611756497\n",
      "0.03616602104092492\n",
      "0.009820341851665582\n",
      "0.02112206401021599\n"
     ]
    }
   ],
   "source": [
    "for j in range(0,d):\n",
    "    ret_rhob_0bWZ_in[j] = projM_np(8, '0', ret_rhob_AbWZ_in[j])\n",
    "    ret_Phi_b_0bWZ_in[j] = dephasing_map_3qubits_np(ret_rhob_0bWZ_in[j])\n",
    "    ret_Irr_b_in[j] = entropy(ret_Phi_b_0bWZ_in[j]) - entropy(ret_rhob_0bWZ_in[j])\n",
    "    print(ret_Irr_b_in[j])"
   ]
  },
  {
   "cell_type": "markdown",
   "id": "db96da7a",
   "metadata": {},
   "source": [
    "#### QWP$_{out}$"
   ]
  },
  {
   "cell_type": "code",
   "execution_count": 60,
   "id": "4d375a64",
   "metadata": {},
   "outputs": [
    {
     "name": "stdout",
     "output_type": "stream",
     "text": [
      "0.03724904333858425\n",
      "0.026173457920199206\n",
      "0.036787517030279826\n",
      "0.03918968650143695\n",
      "0.04380441235784438\n",
      "0.04703039971492984\n",
      "0.05130806727519588\n",
      "0.05182945190347421\n",
      "0.06509734553319901\n",
      "0.0654033969086747\n",
      "0.07800331537452165\n",
      "0.06853908545551568\n",
      "0.08666009367520044\n",
      "0.09306700003101986\n",
      "0.12315314922412957\n",
      "0.09969104771177384\n",
      "0.08370435842781565\n",
      "0.0928082934845833\n",
      "0.05141666168616865\n",
      "0.04320399966120547\n",
      "0.04547018050152074\n"
     ]
    }
   ],
   "source": [
    "for j in range(0,d):\n",
    "    ret_rhob_0bWZ_out[j] = projM_np(8, '0', ret_rhob_AbWZ_out[j])\n",
    "    ret_Phi_b_0bWZ_out[j] = dephasing_map_3qubits_np(ret_rhob_0bWZ_out[j])\n",
    "    ret_Irr_b_out[j] = entropy(ret_Phi_b_0bWZ_out[j]) - entropy(ret_rhob_0bWZ_out[j])\n",
    "    print(ret_Irr_b_out[j])"
   ]
  },
  {
   "cell_type": "markdown",
   "id": "065d2ecf",
   "metadata": {},
   "source": [
    "## Resultados teóricos"
   ]
  },
  {
   "cell_type": "code",
   "execution_count": 70,
   "id": "7df6059b",
   "metadata": {},
   "outputs": [],
   "source": [
    "thmax = math.pi-0.01;   dth = thmax/20; th = np.arange(0.01, thmax+dth, dth); d = th.shape[0]\n",
    "the_Irr_b_in                 = np.zeros(th.shape[0])\n",
    "the_Irr_b_out                = np.zeros(th.shape[0])"
   ]
  },
  {
   "cell_type": "code",
   "execution_count": 71,
   "id": "950e1e79",
   "metadata": {},
   "outputs": [
    {
     "name": "stdout",
     "output_type": "stream",
     "text": [
      "0.00041825654974191235\n",
      "0.05960827160488702\n",
      "0.1732975820045815\n",
      "0.3131570775169316\n",
      "0.4621607944535125\n",
      "0.607604014273341\n",
      "0.7394634336049204\n",
      "0.849811316538504\n",
      "0.932583510389106\n",
      "0.9834895100553851\n",
      "0.9999819663871292\n",
      "0.9812490235560026\n",
      "0.9282133180193721\n",
      "0.8435331680632676\n",
      "0.7316110586657141\n",
      "0.5986265342290418\n",
      "0.45263200118252755\n",
      "0.30379873295430637\n",
      "0.1650395819160478\n",
      "0.05377438056525288\n",
      "4.038739397709968e-31\n"
     ]
    }
   ],
   "source": [
    "for j in range(0,d):\n",
    "    c_plus = np.cos(th[j]/2)\n",
    "    c_minus = np.sqrt(1 - c_plus**2)\n",
    "    the_Irr_b_in[j] = -1.0 * c_plus**2 * np.log2(1.0 * c_plus**2) - c_minus**2 * np.log2(c_minus**2)\n",
    "    the_Irr_b_out[j] = 0\n",
    "    print(the_Irr_b_in[j])"
   ]
  },
  {
   "cell_type": "code",
   "execution_count": 72,
   "id": "76ce859a",
   "metadata": {},
   "outputs": [
    {
     "data": {
      "image/png": "[encoded data removed]",
      "text/plain": [
       "<Figure size 400x300 with 1 Axes>"
      ]
     },
     "metadata": {},
     "output_type": "display_data"
    }
   ],
   "source": [
    "import numpy as np\n",
    "import matplotlib.pyplot as plt\n",
    "\n",
    "def func(theta):\n",
    "    c_plus = np.cos(theta/2)\n",
    "    c_minus = np.sqrt(1 - c_plus**2)\n",
    "    return -1.0 * c_plus**2 * np.log2(1.0 * c_plus**2) - c_minus**2 * np.log2(c_minus**2)\n",
    "\n",
    "theta_vals = np.linspace(0.01, np.pi, 1000)\n",
    "y_vals = func(theta_vals)\n",
    "\n",
    "plt.figure(figsize = (4,3), constrained_layout = True)\n",
    "plt.style.use(['science', 'notebook', 'grid'])\n",
    "plt.plot(theta_vals, y_vals)\n",
    "plt.xlabel(r'$\\theta$')\n",
    "plt.ylabel('Irrealidade')\n",
    "plt.xticks(fontsize=10)\n",
    "plt.yticks(fontsize=10)\n",
    "#plt.title('Gráfico da função')\n",
    "plt.show()\n"
   ]
  },
  {
   "cell_type": "markdown",
   "id": "ed3f35d0",
   "metadata": {},
   "source": [
    "#### Gráficos"
   ]
  },
  {
   "cell_type": "code",
   "execution_count": 83,
   "id": "aa462f9d",
   "metadata": {},
   "outputs": [
    {
     "data": {
      "image/png": "[encoded data removed]",
      "text/plain": [
       "<Figure size 650x320 with 1 Axes>"
      ]
     },
     "metadata": {},
     "output_type": "display_data"
    }
   ],
   "source": [
    "import string\n",
    "plt.figure(figsize = (6.5, 3.2), constrained_layout = True)\n",
    "#plt.subplots(figsize=(6.5, 3.2))\n",
    "font = {'family': 'Verdana', 'color':  'black', 'size': 20}\n",
    "#\n",
    "plt.style.use(['science', 'notebook', 'grid'])\n",
    "ax0 = plt.subplot(121)\n",
    "plt.gca().set_xlim([-0.01,3.14])\n",
    "plt.gca().set_ylim([-0.01,0.52])\n",
    "#\n",
    "# simulation\n",
    "#\n",
    "plt.plot(th[:len(th)//2+1], the_Irr_b_in[:len(th)//2+1], '-' ,\n",
    "         color='#1f77b4', label = r'$Irr_{b, the}^{QWP_{in}}$')\n",
    "plt.plot(th[:len(th)//2+1], ret_Irr_b_in[:len(th)//2+1], 'o' ,\n",
    "         color='#1f77b4', label = r'$Irr_{b, exp}^{QWP_{in}}$')\n",
    "plt.plot(th[:len(th)//2+1], the_Irr_b_out[:len(th)//2+1], '--',\n",
    "         color='#ff7f0e', label = r'$Irr_{b,the}^{QWP_{out}}$')\n",
    "plt.plot(th[:len(th)//2+1], ret_Irr_b_out[:len(th)//2+1], 's',\n",
    "         color='#ff7f0e', label = r'$Irr_{b,exp}^{QWP_{out}}$')\n",
    "#\n",
    "#\n",
    "plt.legend(bbox_to_anchor=(0.195, 0.695), loc='center',\n",
    "           borderaxespad=0, fontsize=10)\n",
    "#, frameon=False, handlelength=1.5\n",
    "plt.xlabel(r'$\\theta$')\n",
    "tick_posx= [0, np.pi/8, np.pi/4, 3*np.pi/8, np.pi/2]\n",
    "#, 3*np.pi/4, np.pi, 5*np.pi/4, 3*np.pi/2, 7*np.pi/4, 2*np.pi]\n",
    "labelsx = ['0', r'$\\frac{\\pi}{8}$', r'$\\frac{\\pi}{4}$',\n",
    "           r'$\\frac{3\\pi}{8}$', r'$\\frac{\\pi}{2}$']\n",
    "#, r'$\\frac{3\\pi}{4}$', r'$\\pi$', r'$\\frac{5\\pi}{4}$'\n",
    "#, r'$\\frac{3\\pi}{2}$', r'$\\frac{7\\pi}{4}$', r'$2\\pi$']\n",
    "tick_posy= [0, 0.2, 0.4, 0.6, 0.8, 1.0]\n",
    "labelsy = ['0', '0.2', '0.4', '0.6', '0.8', '1.0']\n",
    "#tick_posx= [0, 5]\n",
    "#labelsx = ['0', '5']\n",
    "plt.xlim([0, np.pi/2])\n",
    "plt.xticks(tick_posx, labelsx)\n",
    "plt.yticks(tick_posy, labelsy)\n",
    "plt.xticks(fontsize=12)\n",
    "plt.yticks(fontsize=12)\n",
    "#plt.tick_params('y', labelleft=False)\n",
    "#ax1.text(-0.1, 1.1, string.ascii_uppercase[1], transform=ax1.transAxes, \n",
    "#            size=20, weight='bold')\n",
    "#\n",
    "#plt.tight_layout()\n",
    "#plt.savefig('zgraph_CCR_vpv=0_sim.pdf', format='pdf', dpi = 1200, bbox_inches='tight')\n",
    "plt.show()"
   ]
  },
  {
   "cell_type": "markdown",
   "id": "503d16c1",
   "metadata": {},
   "source": [
    "## Mitigação $b_{in}$"
   ]
  },
  {
   "cell_type": "code",
   "execution_count": 84,
   "id": "c5d0e9a0",
   "metadata": {},
   "outputs": [],
   "source": [
    "from qiskit.ignis.mitigation.measurement import complete_meas_cal, CompleteMeasFitter"
   ]
  },
  {
   "cell_type": "code",
   "execution_count": 20,
   "id": "2f5cb9dc",
   "metadata": {},
   "outputs": [
    {
     "name": "stdout",
     "output_type": "stream",
     "text": [
      "ibm_nairobi\n",
      "chdn6tim9ctescqge6gg\n",
      "Job Status: job has successfully run\n"
     ]
    }
   ],
   "source": [
    "start_time1_mit = time.time()\n",
    "print(device)\n",
    "qr = qiskit.QuantumRegister(6); qc = qiskit.QuantumCircuit(qr)\n",
    "qubit_list = [1,3,4,5] # os qubits para os quais aplicaremos calibracao de medidas\n",
    "meas_calibs, state_labels = complete_meas_cal(qubit_list = qubit_list, qr = qr)\n",
    "job = qiskit.execute(meas_calibs, backend = device, shots = nshots)\n",
    "print(job.job_id())\n",
    "job_monitor(job)\n",
    "meas_fitter = CompleteMeasFitter(job.result(), state_labels)\n",
    "end_time1_mit = time.time()"
   ]
  },
  {
   "cell_type": "code",
   "execution_count": 24,
   "id": "2b3548c9",
   "metadata": {},
   "outputs": [
    {
     "name": "stdout",
     "output_type": "stream",
     "text": [
      "Tempo de execução: 32082.03 segundos\n",
      "Tempo de execução: 534.7 minutos\n",
      "Tempo de execução: 8.91 horas\n"
     ]
    }
   ],
   "source": [
    "execution_time1_mit_seg = end_time1_mit - start_time1_mit\n",
    "print(\"Tempo de execução:\", round(execution_time1_mit_seg, 2), \"segundos\")\n",
    "execution_time1_mit_min = execution_time1_mit_seg/60\n",
    "print(\"Tempo de execução:\", round(execution_time1_mit_min, 2), \"minutos\")\n",
    "execution_time1_mit_h = execution_time1_mit_min/60\n",
    "print(\"Tempo de execução:\", round(execution_time1_mit_h, 2), \"horas\")"
   ]
  },
  {
   "cell_type": "code",
   "execution_count": 87,
   "id": "35df07a1",
   "metadata": {},
   "outputs": [],
   "source": [
    "thmax = math.pi-0.01;   dth = thmax/20; th = np.arange(0.01, thmax+dth, dth); d = th.shape[0]\n",
    "mit_rhob_AbWZ_in             = np.zeros(th.shape[0], dtype=object)\n",
    "mit_rhob_AbWZ_out            = np.zeros(th.shape[0], dtype=object)\n",
    "mit_rhob_0bWZ_in             = np.zeros(th.shape[0], dtype=object)\n",
    "mit_rhob_0bWZ_out            = np.zeros(th.shape[0], dtype=object)\n",
    "mit_Phi_b_0bWZ_in            = np.zeros(th.shape[0], dtype=object)\n",
    "mit_Phi_b_0bWZ_out           = np.zeros(th.shape[0], dtype=object)\n",
    "mit_Irr_b_in                 = np.zeros(th.shape[0])\n",
    "mit_Irr_b_out                = np.zeros(th.shape[0])"
   ]
  },
  {
   "cell_type": "markdown",
   "id": "cfd556b2",
   "metadata": {},
   "source": [
    "### Retrieve do job da mitigação"
   ]
  },
  {
   "cell_type": "code",
   "execution_count": 86,
   "id": "1d86796e",
   "metadata": {},
   "outputs": [
    {
     "name": "stdout",
     "output_type": "stream",
     "text": [
      "ibm_nairobi\n",
      "chdn6tim9ctescqge6gg\n",
      "Job Status: job has successfully run\n"
     ]
    }
   ],
   "source": [
    "print(device)\n",
    "qr = qiskit.QuantumRegister(6); qc = qiskit.QuantumCircuit(qr)\n",
    "qubit_list = [1,3,4,5] # os qubits para os quais aplicaremos calibracao de medidas\n",
    "meas_calibs, state_labels = complete_meas_cal(qubit_list = qubit_list, qr = qr)\n",
    "job_ret_b_in = device.retrieve_job('chdn6tim9ctescqge6gg')\n",
    "print(job_ret_b_in.job_id())\n",
    "job_monitor(job_ret_b_in)\n",
    "meas_fitter = CompleteMeasFitter(job_ret_b_in.result(), state_labels)"
   ]
  },
  {
   "cell_type": "code",
   "execution_count": 88,
   "id": "cd1c3b87",
   "metadata": {},
   "outputs": [
    {
     "name": "stdout",
     "output_type": "stream",
     "text": [
      "ibm_nairobi\n",
      "chb0nc0dickn60j1i23g\n",
      "chb0nc0dickn60j1i23g\n",
      "0.016730032795788385\n",
      "j =  0  - theta = 0.01\n",
      "chb1fl5v6mngo8m6h6l0\n",
      "chb1fl5v6mngo8m6h6l0\n",
      "0.05390718440950387\n",
      "j =  1  - theta = 0.16657963267948966\n",
      "chb5628fdairicmktu60\n",
      "chb5628fdairicmktu60\n",
      "0.19546073098320815\n",
      "j =  2  - theta = 0.3231592653589793\n",
      "chb8u1pmfb1ddb4vccb0\n",
      "chb8u1pmfb1ddb4vccb0\n",
      "0.285120607333142\n",
      "j =  3  - theta = 0.479738898038469\n",
      "chbckvoo51arsodcbrbg\n",
      "chbckvoo51arsodcbrbg\n",
      "0.3843644454497728\n",
      "j =  4  - theta = 0.6363185307179586\n",
      "chbfp70o51arsode4alg\n",
      "chbfp70o51arsode4alg\n",
      "0.5081508196624418\n",
      "j =  5  - theta = 0.7928981633974483\n",
      "chbgbilv6mngo8mib9p0\n",
      "chbgbilv6mngo8mib9p0\n",
      "0.6191500929121598\n",
      "j =  6  - theta = 0.9494777960769379\n",
      "chbhv5lv6mngo8mjavhg\n",
      "chbhv5lv6mngo8mjavhg\n",
      "0.7238737139254754\n",
      "j =  7  - theta = 1.1060574287564275\n",
      "chbk249mfb1ddb55e200\n",
      "chbk249mfb1ddb55e200\n",
      "0.7218386174328134\n",
      "j =  8  - theta = 1.2626370614359173\n",
      "chbnos44cg5fl02loklg\n",
      "chbnos44cg5fl02loklg\n",
      "0.7721987427357264\n",
      "j =  9  - theta = 1.419216694115407\n",
      "chbosipmfb1ddb58sfa0\n",
      "chbosipmfb1ddb58sfa0\n",
      "0.7450912171753453\n",
      "j = 10  - theta = 1.5757963267948967\n",
      "chbrfi5v6mngo8mpokd0\n",
      "chbrfi5v6mngo8mpokd0\n",
      "0.7481575308013915\n",
      "j = 11  - theta = 1.7323759594743862\n",
      "chc4hioq13ef4a8f6kmg\n",
      "chc4hioq13ef4a8f6kmg\n",
      "0.6716729200706205\n",
      "j = 12  - theta = 1.8889555921538759\n",
      "chc8c18o51arsodsrlrg\n",
      "chc8c18o51arsodsrlrg\n",
      "0.5649402770554254\n",
      "j = 13  - theta = 2.0455352248333654\n",
      "chce3e0o51arsoe22k80\n",
      "chce3e0o51arsoe22k80\n",
      "0.4431785925714828\n",
      "j = 14  - theta = 2.202114857512855\n",
      "chcf125v6mngo8n6qpe0\n",
      "chcf125v6mngo8n6qpe0\n",
      "0.2993904012918934\n",
      "j = 15  - theta = 2.358694490192345\n",
      "chcf8v176h9ab2d3r7u0\n",
      "chcf8v176h9ab2d3r7u0\n",
      "0.19307121034565744\n",
      "j = 16  - theta = 2.5152741228718343\n",
      "chcfha976h9ab2d453b0\n",
      "chcfha976h9ab2d453b0\n",
      "0.0897231942058519\n",
      "j = 17  - theta = 2.6718537555513238\n",
      "chcfp5dv6mngo8n7lrng\n",
      "chcfp5dv6mngo8n7lrng\n",
      "0.04699975965437464\n",
      "j = 18  - theta = 2.8284333882308137\n",
      "chcjja8fdairicnkqb20\n",
      "chcjja8fdairicnkqb20\n",
      "0.017683626920757922\n",
      "j = 19  - theta = 2.985013020910303\n",
      "chcpcdp76h9ab2dcnptg\n",
      "chcpcdp76h9ab2dcnptg\n",
      "0.03610731617219848\n",
      "j = 20  - theta = 3.141592653589793\n"
     ]
    }
   ],
   "source": [
    "print(device)\n",
    "for j in range(0, d):\n",
    "    print(list_ids_b_in_[j])\n",
    "    job_ret_b_in = device.retrieve_job(list_ids_b_in_[j])\n",
    "    mitigated_results_b_in = meas_fitter.filter.apply(job_ret_b_in.result())\n",
    "    qstc = state_tomography_circuits(qc, [qr[5],qr[4],qr[3],qr[1]]) # circuit for state tomography\n",
    "    qstf_mit_b_in = StateTomographyFitter(mitigated_results_b_in, qstc)\n",
    "    print(job_ret_b_in.job_id())\n",
    "    #\n",
    "    # rho\n",
    "    #\n",
    "    mit_rhob_AbWZ_in[j] = qstf_mit_b_in.fit(method='lstsq')\n",
    "    #\n",
    "    mit_rhob_0bWZ_in[j] = projM_np(8, '0', mit_rhob_AbWZ_in[j])\n",
    "    mit_Phi_b_0bWZ_in[j] = dephasing_map_3qubits_np(mit_rhob_0bWZ_in[j])\n",
    "    mit_Irr_b_in[j] = entropy(mit_Phi_b_0bWZ_in[j]) - entropy(mit_rhob_0bWZ_in[j])\n",
    "    print(mit_Irr_b_in[j])\n",
    "    print('j = {:2d}  - theta = {}'.format(j, th[j]))"
   ]
  },
  {
   "cell_type": "markdown",
   "id": "29a59816",
   "metadata": {},
   "source": [
    "## Mitigação $b_{out}$"
   ]
  },
  {
   "cell_type": "code",
   "execution_count": 92,
   "id": "cabcde1f",
   "metadata": {},
   "outputs": [
    {
     "name": "stdout",
     "output_type": "stream",
     "text": [
      "ibm_nairobi\n",
      "chelpsn7uma4tn78rc2g\n",
      "chelpsn7uma4tn78rc2g\n",
      "0.035263365827345405\n",
      "j =  0  - theta = 0.01\n",
      "chep59kqqnv6prm1uccg\n",
      "chep59kqqnv6prm1uccg\n",
      "0.02683132935404714\n",
      "j =  1  - theta = 0.16657963267948966\n",
      "chesmsf9targ2vpmqkig\n",
      "chesmsf9targ2vpmqkig\n",
      "0.04381663616880796\n",
      "j =  2  - theta = 0.3231592653589793\n",
      "chf07ob66hmpifuql4jg\n",
      "chf07ob66hmpifuql4jg\n",
      "0.04378617485974917\n",
      "j =  3  - theta = 0.479738898038469\n",
      "chf0fj79targ2vpr406g\n",
      "chf0fj79targ2vpr406g\n",
      "0.05091793859367538\n",
      "j =  4  - theta = 0.6363185307179586\n",
      "chf0jqvppn69h5prdplg\n",
      "chf0jqvppn69h5prdplg\n",
      "0.05482858585657824\n",
      "j =  5  - theta = 0.7928981633974483\n",
      "chf0o1nppn69h5pri8a0\n",
      "chf0o1nppn69h5pri8a0\n",
      "0.06272821983868965\n",
      "j =  6  - theta = 0.9494777960769379\n",
      "chf0s8g4sb77opi8pskg\n",
      "chf0s8g4sb77opi8pskg\n",
      "0.06272537910632772\n",
      "j =  7  - theta = 1.1060574287564275\n",
      "chf10jmo5i9gdbb1rjsg\n",
      "chf10jmo5i9gdbb1rjsg\n",
      "0.0828930971163224\n",
      "j =  8  - theta = 1.2626370614359173\n",
      "chf4t0sp8f687ogloj2g\n",
      "chf4t0sp8f687ogloj2g\n",
      "0.09115626973940644\n",
      "j =  9  - theta = 1.419216694115407\n",
      "chf8gc6o5i9gdbbagde0\n",
      "chf8gc6o5i9gdbbagde0\n",
      "0.11041184595338449\n",
      "j = 10  - theta = 1.5757963267948967\n",
      "chfcbncp8f687ogte7s0\n",
      "chfcbncp8f687ogte7s0\n",
      "0.11800262937271014\n",
      "j = 11  - theta = 1.7323759594743862\n",
      "chfch9vppn69h5q89pug\n",
      "chfch9vppn69h5q89pug\n",
      "0.14677894294780286\n",
      "j = 12  - theta = 1.8889555921538759\n",
      "chfclgj66hmpifv83nr0\n",
      "chfclgj66hmpifv83nr0\n",
      "0.16961963518663453\n",
      "j = 13  - theta = 2.0455352248333654\n",
      "chfcs3kp8f687ogtslfg\n",
      "chfcs3kp8f687ogtslfg\n",
      "0.22550911081488262\n",
      "j = 14  - theta = 2.202114857512855\n",
      "chfd0e366hmpifv8cp7g\n",
      "chfd0e366hmpifv8cp7g\n",
      "0.23158642813464128\n",
      "j = 15  - theta = 2.358694490192345\n",
      "chfd7c04sb77opiludd0\n",
      "chfd7c04sb77opiludd0\n",
      "0.24123090439548\n",
      "j = 16  - theta = 2.5152741228718343\n",
      "chfde0f9targ2vq8tna0\n",
      "chfde0f9targ2vq8tna0\n",
      "0.3226630650061704\n",
      "j = 17  - theta = 2.6718537555513238\n",
      "chfdkeo4sb77opim9rfg\n",
      "chfdkeo4sb77opim9rfg\n",
      "0.5425788308399939\n",
      "j = 18  - theta = 2.8284333882308137\n",
      "chfdorj66hmpifv92d4g\n",
      "chfdorj66hmpifv92d4g\n",
      "0.3416978207121444\n",
      "j = 19  - theta = 2.985013020910303\n",
      "chfdsjo4sb77opimh3g0\n",
      "chfdsjo4sb77opimh3g0\n",
      "0.37282153721134814\n",
      "j = 20  - theta = 3.141592653589793\n"
     ]
    }
   ],
   "source": [
    "print(device)\n",
    "for j in range(0, d):\n",
    "    print(list_ids_b_out_[j])\n",
    "    job_ret_b_out = device.retrieve_job(list_ids_b_out_[j])\n",
    "    mitigated_results_b_out = meas_fitter.filter.apply(job_ret_b_out.result())\n",
    "    qstc = state_tomography_circuits(qc, [qr[5],qr[4],qr[3],qr[1]]) # circuit for state tomography\n",
    "    qstf_mit_b_out = StateTomographyFitter(mitigated_results_b_out, qstc)\n",
    "    print(job_ret_b_out.job_id())\n",
    "    #\n",
    "    # rho\n",
    "    #\n",
    "    mit_rhob_AbWZ_out[j] = qstf_mit_b_out.fit(method='lstsq')\n",
    "    #\n",
    "    mit_rhob_0bWZ_out[j] = projM_np(8, '0', mit_rhob_AbWZ_out[j])\n",
    "    mit_Phi_b_0bWZ_out[j] = dephasing_map_3qubits_np(mit_rhob_0bWZ_out[j])\n",
    "    mit_Irr_b_out[j] = entropy(mit_Phi_b_0bWZ_out[j]) - entropy(mit_rhob_0bWZ_out[j])\n",
    "    print(mit_Irr_b_out[j])\n",
    "    print('j = {:2d}  - theta = {}'.format(j, th[j]))"
   ]
  },
  {
   "cell_type": "code",
   "execution_count": 93,
   "id": "0d8ec4ed",
   "metadata": {},
   "outputs": [
    {
     "data": {
      "image/png": "[encoded data removed]",
      "text/plain": [
       "<Figure size 650x320 with 1 Axes>"
      ]
     },
     "metadata": {},
     "output_type": "display_data"
    }
   ],
   "source": [
    "import string\n",
    "plt.figure(figsize = (6.5, 3.2), constrained_layout = True)\n",
    "#plt.subplots(figsize=(6.5, 3.2))\n",
    "font = {'family': 'Verdana', 'color':  'black', 'size': 20}\n",
    "#\n",
    "plt.style.use(['science', 'notebook', 'grid'])\n",
    "ax0 = plt.subplot(121)\n",
    "plt.gca().set_xlim([-0.01,3.14])\n",
    "plt.gca().set_ylim([-0.01,0.52])\n",
    "#\n",
    "# simulation\n",
    "#\n",
    "plt.plot(th[:len(th)//2+1], the_Irr_b_in[:len(th)//2+1], '-' ,\n",
    "         color='#1f77b4', label = r'$Irr_{b, the}^{QWP_{in}}$')\n",
    "plt.plot(th[:len(th)//2+1], mit_Irr_b_in[:len(th)//2+1], 'o' ,\n",
    "         color='#1f77b4', label = r'$Irr_{b, exp}^{QWP_{in}}$')\n",
    "plt.plot(th[:len(th)//2+1], the_Irr_b_out[:len(th)//2+1], '--',\n",
    "         color='#ff7f0e', label = r'$Irr_{b,the}^{QWP_{out}}$')\n",
    "plt.plot(th[:len(th)//2+1], mit_Irr_b_out[:len(th)//2+1], 's',\n",
    "         color='#ff7f0e', label = r'$Irr_{b,exp}^{QWP_{out}}$')\n",
    "#\n",
    "#\n",
    "plt.legend(bbox_to_anchor=(0.195, 0.695), loc='center',\n",
    "           borderaxespad=0, fontsize=10)\n",
    "#, frameon=False, handlelength=1.5\n",
    "plt.xlabel(r'$\\theta$')\n",
    "tick_posx= [0, np.pi/8, np.pi/4, 3*np.pi/8, np.pi/2]\n",
    "#, 3*np.pi/4, np.pi, 5*np.pi/4, 3*np.pi/2, 7*np.pi/4, 2*np.pi]\n",
    "labelsx = ['0', r'$\\frac{\\pi}{8}$', r'$\\frac{\\pi}{4}$',\n",
    "           r'$\\frac{3\\pi}{8}$', r'$\\frac{\\pi}{2}$']\n",
    "#, r'$\\frac{3\\pi}{4}$', r'$\\pi$', r'$\\frac{5\\pi}{4}$'\n",
    "#, r'$\\frac{3\\pi}{2}$', r'$\\frac{7\\pi}{4}$', r'$2\\pi$']\n",
    "tick_posy= [0, 0.2, 0.4, 0.6, 0.8, 1.0]\n",
    "labelsy = ['0', '0.2', '0.4', '0.6', '0.8', '1.0']\n",
    "#tick_posx= [0, 5]\n",
    "#labelsx = ['0', '5']\n",
    "plt.xlim([0, np.pi/2])\n",
    "plt.xticks(tick_posx, labelsx)\n",
    "plt.yticks(tick_posy, labelsy)\n",
    "plt.xticks(fontsize=12)\n",
    "plt.yticks(fontsize=12)\n",
    "#plt.tick_params('y', labelleft=False)\n",
    "#ax1.text(-0.1, 1.1, string.ascii_uppercase[1], transform=ax1.transAxes, \n",
    "#            size=20, weight='bold')\n",
    "#\n",
    "#plt.tight_layout()\n",
    "#plt.savefig('zgraph_CCR_vpv=0_sim.pdf', format='pdf', dpi = 1200, bbox_inches='tight')\n",
    "plt.show()"
   ]
  },
  {
   "cell_type": "code",
   "execution_count": 83,
   "id": "0cbd7f02",
   "metadata": {},
   "outputs": [
    {
     "data": {
      "image/png": "[encoded data removed]",
      "text/plain": [
       "<Figure size 650x320 with 1 Axes>"
      ]
     },
     "metadata": {},
     "output_type": "display_data"
    }
   ],
   "source": [
    "Resultado apenas do experimento"
   ]
  },
  {
   "cell_type": "code",
   "execution_count": null,
   "id": "49cdcefe",
   "metadata": {},
   "outputs": [],
   "source": []
  }
 ],
 "metadata": {
  "kernelspec": {
   "display_name": "Python 3 (ipykernel)",
   "language": "python",
   "name": "python3"
  },
  "language_info": {
   "codemirror_mode": {
    "name": "ipython",
    "version": 3
   },
   "file_extension": ".py",
   "mimetype": "text/x-python",
   "name": "python",
   "nbconvert_exporter": "python",
   "pygments_lexer": "ipython3",
   "version": "3.9.13"
  }
 },
 "nbformat": 4,
 "nbformat_minor": 5
}
