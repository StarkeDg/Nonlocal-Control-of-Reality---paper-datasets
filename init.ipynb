{
 "cells": [
  {
   "cell_type": "code",
   "execution_count": 2,
   "metadata": {},
   "outputs": [],
   "source": [
    "# Sympy\n",
    "import sympy\n",
    "from sympy import *\n",
    "import sympy as sym\n",
    "from sympy.physics.quantum.dagger import Dagger\n",
    "from sympy.functions.special.tensor_functions import KroneckerDelta\n",
    "from sympy.physics.quantum.qubit import IntQubit\n",
    "from sympy.physics.quantum.qubit import Qubit\n",
    "from sympy.physics.quantum.dagger import Dagger\n",
    "from sympy.physics.quantum import Ket, Bra, OuterProduct, TensorProduct\n",
    "#from sympy import Matrix, log"
   ]
  },
  {
   "cell_type": "code",
   "execution_count": 1,
   "metadata": {},
   "outputs": [],
   "source": [
    "# Numpy\n",
    "import numpy as np\n",
    "from numpy import random"
   ]
  },
  {
   "cell_type": "code",
   "execution_count": null,
   "metadata": {},
   "outputs": [],
   "source": [
    "# Matplotlib\n",
    "from matplotlib import*\n",
    "import matplotlib as mpl\n",
    "from matplotlib import pyplot as plt\n",
    "from mpl_toolkits import mplot3d\n",
    "from mpl_toolkits.mplot3d import Axes3D, proj3d\n",
    "from matplotlib.patches import FancyArrowPatch\n",
    "from matplotlib import cm, colors\n",
    "%matplotlib inline"
   ]
  },
  {
   "cell_type": "code",
   "execution_count": 2,
   "metadata": {},
   "outputs": [],
   "source": [
    "import math\n",
    "import scipy\n",
    "init_printing(use_unicode=True)\n",
    "import scienceplots\n",
    "import mpmath\n",
    "from mpmath import factorial as fact\n",
    "import io\n",
    "import base64\n",
    "from IPython.core.display import display, HTML, clear_output\n",
    "from ipywidgets import interactive, interact, fixed, interact_manual, widgets\n",
    "import csv\n",
    "import importlib\n",
    "import scipy.interpolate\n",
    "from itertools import product, combinations\n",
    "from scipy.linalg import polar, lapack\n",
    "from datetime import datetime"
   ]
  },
  {
   "cell_type": "code",
   "execution_count": null,
   "metadata": {},
   "outputs": [],
   "source": [
    "import sys\n",
    "import time\n",
    "import winsound"
   ]
  },
  {
   "cell_type": "code",
   "execution_count": 2,
   "metadata": {},
   "outputs": [],
   "source": [
    "# constantes físicas\n",
    "e = 1.60217662*10**-19 # C (carga elementar)\n",
    "k = 8.9875517923*10**9 # Nm^2/C^2 (constante de Coulomb)\n",
    "eps0 = 8.8541878128*10**-12 #F/m (permissividade do vácuo)\n",
    "mu0 = 1.25663706212*10**-6 # N/A^2 (permeabilidade do vácuo) \n",
    "h = 6.626069*10**-34 # Js (constante de Planck)\n",
    "heV = h/e # em eV\n",
    "hb = h/(2*math.pi) # hbar\n",
    "hbeV = hb/e # em eV\n",
    "c = 2.99792458*10**8 # m/s (velocidade da luz no vácuo)\n",
    "G = 6.6742*10**-11 # Nm^2/kg^2 (constante gravitacional)\n",
    "kB = 1.38065*10**-23 # J/K (constante de Boltzmann)\n",
    "me = 9.109382*10**-31 # kg (massa do elétron)\n",
    "mp = 1.6726219*10**-27 # kg (massa do próton)\n",
    "mn = 1.67492749804*10**-27 # kg (massa do nêutron)\n",
    "mT = 5.9722*10**24 # kg (massa da Terra)\n",
    "mS = 1.98847*10**30 # kg (massa do Sol)\n",
    "u = 1.660538921*10**-27 # kg (unidade de massa atômica)\n",
    "dTS = 1.496*10**11 # m (distância Terra-Sol)\n",
    "rT = 6.3781*10**6 # m (raio da Terra)\n",
    "sSB = 5.670374419*10**-8 # W⋅m−2⋅K−4 (constante de Stefan-Boltzmann)\n",
    "Ri = 10973734.848575922 # m^-1 (constante de Rydberg)\n",
    "al = (k*e**2)/(hb*c) # ~1/137.035999084 (constante de estrutura fina)\n",
    "a0=(hb**2)/(me*k*e**2) # ~ 0.52917710^-10 m (raio de Bohr)\n",
    "ge = 2 # (fator giromagnetico do eletron)\n",
    "gp = 5.58 # (fator giromagnetico do proton)"
   ]
  },
  {
   "cell_type": "markdown",
   "metadata": {},
   "source": [
    "#  Formatações"
   ]
  },
  {
   "cell_type": "code",
   "execution_count": null,
   "metadata": {},
   "outputs": [],
   "source": [
    "# Evita ter que ficar digitando toda vez a expressão\n",
    "def mysim(expr):\n",
    "    return sympy.simplify(expr, rational=True)"
   ]
  },
  {
   "cell_type": "markdown",
   "metadata": {},
   "source": [
    "# Funções básicas"
   ]
  },
  {
   "cell_type": "code",
   "execution_count": 3,
   "metadata": {},
   "outputs": [],
   "source": [
    "def id(n): \n",
    "    '''retorna a matriz identidade nxn'''\n",
    "    id = zeros(n,n)\n",
    "    for j in range(0,n):\n",
    "       id[j,j] = 1\n",
    "    return id\n",
    "#id(2)"
   ]
  },
  {
   "cell_type": "code",
   "execution_count": null,
   "metadata": {},
   "outputs": [],
   "source": [
    "def id_sym(n):\n",
    "    identity = sym.eye(n)\n",
    "    return identity"
   ]
  },
  {
   "cell_type": "code",
   "execution_count": 4,
   "metadata": {},
   "outputs": [],
   "source": [
    "def pauli(j):\n",
    "    '''retorna as matrizes de Pauli'''\n",
    "    if j == 0:\n",
    "        return id_sym(2)\n",
    "    if j == 1:\n",
    "        return Matrix([[0,1],[1,0]])\n",
    "    elif j == 2:\n",
    "        return Matrix([[0,-1j],[1j,0]])\n",
    "    elif j == 3:\n",
    "        return Matrix([[1,0],[0,-1]])\n",
    "#pauli(1), pauli(2), pauli(3)"
   ]
  },
  {
   "cell_type": "code",
   "execution_count": 6,
   "metadata": {},
   "outputs": [],
   "source": [
    "def comm(A,B):\n",
    "    '''retorna a função comutador'''\n",
    "    return A*B-B*A\n",
    "#comm(pauli(1),pauli(2))"
   ]
  },
  {
   "cell_type": "code",
   "execution_count": 7,
   "metadata": {},
   "outputs": [],
   "source": [
    "def acomm(A,B):\n",
    "    '''retorna a função anti-comutador'''\n",
    "    return A*B+B*A\n",
    "#acomm(pauli(1),pauli(2))"
   ]
  },
  {
   "cell_type": "code",
   "execution_count": 3,
   "metadata": {},
   "outputs": [],
   "source": [
    "def cb(n,j):\n",
    "    '''retorna um vetor da base padrão de C^n'''\n",
    "    vec = zeros(n,1)\n",
    "    vec[j] = 1\n",
    "    return vec\n",
    "#cb(2,0)"
   ]
  },
  {
   "cell_type": "code",
   "execution_count": 17,
   "metadata": {},
   "outputs": [],
   "source": [
    "def proj(psi): \n",
    "    '''retorna o projetor no vetor psi'''\n",
    "    d = psi.shape[0]\n",
    "    P = zeros(d,d)\n",
    "    for j in range(0,d):\n",
    "        for k in range(0,d):\n",
    "            P[j,k] = psi[j]*conjugate(psi[k])\n",
    "    return P\n",
    "#proj(cb(2,0))"
   ]
  },
  {
   "cell_type": "code",
   "execution_count": 21,
   "metadata": {},
   "outputs": [],
   "source": [
    "def bell(j,k):\n",
    "    if j == 0 and k == 0:\n",
    "        return (1/sqrt(2))*(tp(cb(2,0),cb(2,0))+tp(cb(2,1),cb(2,1)))\n",
    "    elif j == 0 and k == 1:\n",
    "        return (1/sqrt(2))*(tp(cb(2,0),cb(2,1))+tp(cb(2,1),cb(2,0)))\n",
    "    elif j == 1 and k == 0:\n",
    "        return (1/sqrt(2))*(tp(cb(2,0),cb(2,1))-tp(cb(2,1),cb(2,0)))\n",
    "    elif j == 1 and k == 1:\n",
    "        return (1/sqrt(2))*(tp(cb(2,0),cb(2,0))-tp(cb(2,1),cb(2,1)))\n",
    "#bell(0,0), bell(0,1), bell(1,0), bell(1,1)"
   ]
  },
  {
   "cell_type": "code",
   "execution_count": 14,
   "metadata": {},
   "outputs": [],
   "source": [
    "def inner_product(v,w):\n",
    "    d = len(v); ip = 0\n",
    "    for j in range(0,d):\n",
    "        ip += conjugate(v[j])*w[j]\n",
    "    return ip\n",
    "#a,b,c,d = symbols(\"a b c d\"); v = [b,a]; w = [c,d]; inner_product(v,w)"
   ]
  },
  {
   "cell_type": "code",
   "execution_count": 12,
   "metadata": {},
   "outputs": [],
   "source": [
    "def norm(v):\n",
    "    v = inner_product(v,v)\n",
    "    return sqrt(v)\n",
    "#v = [2,2]; norm(v)"
   ]
  },
  {
   "cell_type": "markdown",
   "metadata": {},
   "source": [
    "### Traço e Traço parcial"
   ]
  },
  {
   "cell_type": "code",
   "execution_count": 5,
   "metadata": {},
   "outputs": [],
   "source": [
    "def tr(A):\n",
    "    '''retorna o traço de uma matriz'''\n",
    "    d = A.shape[0]\n",
    "    tr = 0\n",
    "    for j in range(0,d):\n",
    "        tr += A[j,j]\n",
    "    return tr\n",
    "#tr(pauli(1))"
   ]
  },
  {
   "cell_type": "code",
   "execution_count": 43,
   "metadata": {},
   "outputs": [],
   "source": [
    "# Outside these functions, initialize: rhos = zeros(ds,ds), s=A,B\n",
    "#\n",
    "# da = dim de A\n",
    "# db = dim de B\n",
    "#\n",
    "# rho_AB\n",
    "#\n",
    "# rho_B = Tr_A (rho_AB)\n",
    "#\n",
    "def ptraceA(da, db, rho):\n",
    "    rhoB = zeros(db,db)\n",
    "    for j in range(0, db):\n",
    "        for k in range(0, db):\n",
    "            for l in range(0, da):\n",
    "                rhoB[j,k] += rho[l*db+j,l*db+k]\n",
    "    return rhoB\n",
    "#\n",
    "# rho_A = Tr_B (rho_AB)\n",
    "#\n",
    "def ptraceB(da, db, rho):\n",
    "    rhoA = zeros(da,da)\n",
    "    for j in range(0, da):\n",
    "        for k in range(0, da):\n",
    "            for l in range(0, db):\n",
    "                rhoA[j,k] += rho[j*db+l,k*db+l]\n",
    "    return rhoA"
   ]
  },
  {
   "cell_type": "code",
   "execution_count": 13,
   "metadata": {},
   "outputs": [],
   "source": [
    "def tsco(A):\n",
    "    '''retorna o transposto conjugado'''\n",
    "    d = A.shape[0]\n",
    "    new = zeros(d)\n",
    "    new = sympy.transpose(A)\n",
    "    new = sympy.conjugate(new)\n",
    "    return new\n",
    "#tsco(cb(2,0))"
   ]
  },
  {
   "cell_type": "markdown",
   "metadata": {},
   "source": [
    "## Funções Starke"
   ]
  },
  {
   "cell_type": "code",
   "execution_count": null,
   "metadata": {},
   "outputs": [],
   "source": [
    "# Retorna um rho genérico simbólico\n",
    "# n = dimensão da coluna\n",
    "# Retorna um rho genérico simbólico\n",
    "# matriz quadrada\n",
    "# n = níveis da linha/coluna\n",
    "def rho_g(n, symbol):\n",
    "    num_digits = len(str(n**2 - 1))\n",
    "    A = zeros(n,n)\n",
    "    l = 0\n",
    "    if symbol == 1:\n",
    "        rho = sympy.symbols(['sigma{:0{}}'.format(i, num_digits) for i in range(n**2)])\n",
    "        for j in range(0,n):\n",
    "            for k in range(0,n):\n",
    "                    A[j,k] = rho[l]\n",
    "                    l += 1\n",
    "    else: \n",
    "        rho = sympy.symbols(['rho_{:0{}}'.format(i, num_digits) for i in range(n**2)])\n",
    "        for j in range(0,n):\n",
    "            for k in range(0,n):\n",
    "                    A[j,k] = rho[l]\n",
    "                    l += 1\n",
    "    return A\n",
    "# rho_0 = rho_g(4, 1); rho_0"
   ]
  },
  {
   "cell_type": "code",
   "execution_count": null,
   "metadata": {},
   "outputs": [],
   "source": [
    "# Retorna um psi genérico simbólico\n",
    "# n = dimensão da coluna\n",
    "# Retorna um rho genérico simbólico\n",
    "# matriz quadrada\n",
    "# n = níveis\n",
    "def psi_g(n):\n",
    "    num_digits = len(str(n))\n",
    "    A = zeros(n,1)\n",
    "    psi = sympy.symbols(['c{:0{}}'.format(i, num_digits) for i in range(n**2)])\n",
    "    for j in range(0,n):\n",
    "        A[j] = psi[j]\n",
    "    return A\n",
    "# mbk(psi_g(128))"
   ]
  },
  {
   "cell_type": "code",
   "execution_count": null,
   "metadata": {},
   "outputs": [],
   "source": [
    "# Retorna um psi genérico simbólico\n",
    "# n = dimensão da coluna\n",
    "# Retorna um rho genérico simbólico\n",
    "# matriz quadrada\n",
    "# n = níveis da linha/coluna\n",
    "def psi_bin(n):\n",
    "    num_digits = len(str(n))\n",
    "    A = zeros(n,1)\n",
    "    psi = [sympy.symbols('c_{}'.format(format(i, '0{}b'.format(int(math.ceil(log(n, 2))))))) for i in range(n)]\n",
    "    for j in range(0,n):\n",
    "        A[j] = psi[j]\n",
    "    return A\n",
    "# mbk(psi_bin(128))"
   ]
  },
  {
   "cell_type": "code",
   "execution_count": null,
   "metadata": {},
   "outputs": [],
   "source": [
    "# Retorna um rho genérico simbólico com índices na forma binária\n",
    "# matriz quadrada\n",
    "# n = níveis da linha/coluna\n",
    "def rho_bin(n):\n",
    "    rho = [sympy.symbols('rho_{}'.format(format(i, '0{}b'.format(int(math.ceil(log(n**2, 2))))))) for i in range(n**2)]\n",
    "    A = zeros(n,n)\n",
    "    l = 0\n",
    "    for j in range(0,n):\n",
    "        for k in range(0,n):\n",
    "                A[j,k] = rho[l]\n",
    "                l += 1\n",
    "    return A\n",
    "# rho = rho_bin(16); rho"
   ]
  },
  {
   "cell_type": "code",
   "execution_count": null,
   "metadata": {},
   "outputs": [],
   "source": [
    "# Projective measure: subsistemas ABCD para sobrar apenas o D\n",
    "#\n",
    "# IMPORTANTE: D subsystem on the left\n",
    "#\n",
    "# rho_AB\n",
    "#\n",
    "# rho_B_red = Proj(A) * rho_AB * Proj(A)\n",
    "#\n",
    "# seq_bin:\n",
    "# If you want project |101>_ABC of |101>_ABC(|0>_D+|1>_D) send seq_bin = '101'\n",
    "# The last qubit is the susystem that you want to keep\n",
    "#\n",
    "# db = dimension expected to the matrix B (ex above is 2 -> M_{2x2}, only D system)\n",
    "# because we are going to remove the ABC systems\n",
    "#\n",
    "def projM(db, seq_bin, rho): # seq_bin \n",
    "    rhoB = zeros(db,db)\n",
    "    dn= int(seq_bin+str(0), 2) # num decimal number of seq_bin\n",
    "    #print(dn)\n",
    "    for j in range(0, db):\n",
    "        for k in range(0, db):\n",
    "                rhoB[j,k] = rho[j+dn,k+dn]\n",
    "    return rhoB/tr(rhoB)"
   ]
  },
  {
   "cell_type": "code",
   "execution_count": null,
   "metadata": {},
   "outputs": [],
   "source": [
    "# Mesma função de cima, porém com mais dados no return\n",
    "#\n",
    "# Projective measure: subsistemas ABCD para sobrar apenas o D\n",
    "#\n",
    "# IMPORTANTE: D subsystem on the left\n",
    "#\n",
    "# rho_AB\n",
    "#\n",
    "# rho_B_red = Proj(A) * rho_AB * Proj(A)\n",
    "#\n",
    "# seq_bin:\n",
    "# If you want project |101>_ABC of |101>_ABC(|0>_D+|1>_D) send seq_bin = '101'\n",
    "# The last qubit is the susystem that you want to keep\n",
    "#\n",
    "# db = dimension expected to the matrix B (ex above is 2 -> M_{2x2}, only D system)\n",
    "# because we are going to remove the ABC systems\n",
    "#\n",
    "def projM2(db, seq_bin, rho): # seq_bin \n",
    "    rhoB = zeros(db,db)\n",
    "    dn= int(seq_bin+str(0), 2) # num decimal number of seq_bin\n",
    "    #print(dn)\n",
    "    for j in range(0, db):\n",
    "        for k in range(0, db):\n",
    "                rhoB[j,k] = rho[j+dn,k+dn]\n",
    "    return rhoB, tr(rhoB), rhoB/tr(rhoB)\n",
    "# rho_proj_A0[0], rho_proj_A0[1], rho_proj_A0[2]"
   ]
  },
  {
   "cell_type": "markdown",
   "metadata": {},
   "source": [
    "## Vetor de estado, rho em notação de braket"
   ]
  },
  {
   "cell_type": "code",
   "execution_count": 4,
   "metadata": {},
   "outputs": [],
   "source": [
    "# Mandar sequência em binário {0,1}\n",
    "def pket(seq):\n",
    "    vec = []\n",
    "    for digito in seq:\n",
    "        vec.append(int(digito))\n",
    "    n = len(vec)\n",
    "    psi = cb(2, vec[0])\n",
    "    for j in range(1,n):\n",
    "        psi = tp(psi,cb(2, vec[j]))\n",
    "    return psi\n",
    "#psi_ket('00110')"
   ]
  },
  {
   "cell_type": "code",
   "execution_count": 4,
   "metadata": {},
   "outputs": [],
   "source": [
    "# Mandar sequência em binário {0,1}\n",
    "def pbra(seq):\n",
    "    vec = []\n",
    "    for digito in seq:\n",
    "        vec.append(int(digito))\n",
    "    n = len(vec)\n",
    "    psi = cb(2, vec[0])\n",
    "    for j in range(1,n):\n",
    "        psi = tp(psi,cb(2, vec[j]))\n",
    "    return transpose(psi).as_mutable()\n",
    "#psi_ket('00110')"
   ]
  },
  {
   "cell_type": "code",
   "execution_count": 5,
   "metadata": {},
   "outputs": [],
   "source": [
    "# Mandar a sequência na dimensão seq (cada dígito --> d-1)\n",
    "# Exemplo: dim=4, seq = '2023'\n",
    "def pket_g(dim, seq):\n",
    "    vec = []\n",
    "    for digito in seq:\n",
    "        vec.append(int(digito))\n",
    "    n = len(vec)\n",
    "    psi = cb(dim, vec[0])\n",
    "    for j in range(n-1):\n",
    "        psi = tp(psi,cb(dim, vec[j+1]))\n",
    "    return psi\n",
    "# psi_ket_g(4, '2023')"
   ]
  },
  {
   "cell_type": "code",
   "execution_count": 1,
   "metadata": {},
   "outputs": [],
   "source": [
    "# Retorna Psi ou rho na notação ketbra\n",
    "# Mandou Psi - retorna Psi\n",
    "# Mandou rho - retorna rho\n",
    "def mbk(matrix):\n",
    "    posicoes = []\n",
    "    posicoes_bin = []\n",
    "    val = []\n",
    "    if isinstance(matrix, sympy.matrices.dense.MutableDenseMatrix):\n",
    "        n_linhas, n_colunas = matrix.shape\n",
    "        if n_linhas == 1:\n",
    "            Psi = 0\n",
    "            x = len(matrix)\n",
    "            for i in range(x):\n",
    "                if matrix[i] != 0:\n",
    "                    val.append(matrix[i])\n",
    "                    posicoes.append(i)\n",
    "                    posicoes_bin.append(format(i, f'0{int(math.log(x)/math.log(2))}b'))\n",
    "            for i in range(len(val)):\n",
    "                Psi = val[i] * Bra(posicoes_bin[i]) + Psi\n",
    "            return Psi\n",
    "        if n_colunas == 1:\n",
    "            Psi = 0\n",
    "            x = len(matrix)\n",
    "            for i in range(x):\n",
    "                if matrix[i] != 0:\n",
    "                    val.append(matrix[i])\n",
    "                    posicoes.append(i)\n",
    "                    posicoes_bin.append(format(i, f'0{int(math.log(x)/math.log(2))}b'))\n",
    "            for i in range(len(val)):\n",
    "                Psi = val[i] * Ket(posicoes_bin[i]) + Psi\n",
    "            return Psi\n",
    "        else:\n",
    "            m, n = matrix.shape\n",
    "            rho = 0\n",
    "            for i in range(m):\n",
    "                for j in range(n):\n",
    "                    if matrix[i, j] != 0:\n",
    "                        val.append(matrix[i, j])\n",
    "                        posicoes.append((i, j))\n",
    "                        posicoes_bin.append((format(i, f'0{int(math.log(m)/math.log(2))}b'),\n",
    "                                            format(j, f'0{int(math.log(n)/math.log(2))}b')))\n",
    "            for i in range(len(val)):\n",
    "                rho = val[i] * (Ket(posicoes_bin[i][0])) * (Bra(posicoes_bin[i][1])) + rho\n",
    "            return rho"
   ]
  },
  {
   "cell_type": "code",
   "execution_count": 2,
   "metadata": {},
   "outputs": [],
   "source": [
    "# Retorna Psi ou rho na notação ketbra\n",
    "# Mandou Psi - retorna Psi\n",
    "# Mandou rho - retorna rho\n",
    "def mbkg(base, matrix):\n",
    "    def convert_base(x, base, min_digits):\n",
    "        digits = '0123456789ABCDEFGHIJKLMNOPQRSTUVWXYZ'[:base]\n",
    "        result = ''\n",
    "        while x > 0 or len(result) < min_digits:\n",
    "            x, digit = divmod(x, base)\n",
    "            result = digits[digit] + result\n",
    "        return result\n",
    "    posicoes = []\n",
    "    posicoes_bin = []\n",
    "    val = []\n",
    "    if isinstance(matrix, sympy.matrices.dense.MutableDenseMatrix):\n",
    "        n_linhas, n_colunas = matrix.shape\n",
    "        if n_linhas == 1:\n",
    "            Psi = 0\n",
    "            x = len(matrix)\n",
    "            for i in range(x):\n",
    "                if matrix[i] != 0:\n",
    "                    val.append(matrix[i])\n",
    "                    posicoes.append(i)\n",
    "                    posicoes_bin.append(convert_base(i, base, int(math.ceil(math.log(x)/math.log(base)))))\n",
    "            for i in range(len(val)):\n",
    "                Psi = val[i] * Bra(posicoes_bin[i]) + Psi\n",
    "            return simplify(Psi)\n",
    "        if n_colunas == 1:\n",
    "            Psi = 0\n",
    "            x = len(matrix)\n",
    "            for i in range(x):\n",
    "                if matrix[i] != 0:\n",
    "                    val.append(matrix[i])\n",
    "                    posicoes.append(i)\n",
    "                    posicoes_bin.append(convert_base(i, base, int(math.ceil(math.log(x)/math.log(base)))))\n",
    "            for i in range(len(val)):\n",
    "                Psi = val[i] * Ket(posicoes_bin[i]) + Psi\n",
    "            return Psi\n",
    "        else:\n",
    "            m, n = matrix.shape\n",
    "            rho = 0\n",
    "            for i in range(m):\n",
    "                for j in range(n):\n",
    "                    if matrix[i, j] != 0:\n",
    "                        val.append(matrix[i, j])\n",
    "                        posicoes.append((i, j))\n",
    "                        posicoes_bin.append((convert_base(i, base, int(math.ceil(math.log(m)/math.log(base)))),\\\n",
    "                                             convert_base(j, base, int(math.ceil(math.log(m)/math.log(base))))))\n",
    "            for i in range(len(val)):\n",
    "                rho = val[i] * (Ket(posicoes_bin[i][0])) * (Bra(posicoes_bin[i][1])) + rho\n",
    "            return rho\n",
    "#m_braket_g(4, psi_ket_g(4,'2023'))"
   ]
  },
  {
   "cell_type": "markdown",
   "metadata": {},
   "source": [
    "# Generalização do produto tensorial para portas"
   ]
  },
  {
   "cell_type": "code",
   "execution_count": 3,
   "metadata": {},
   "outputs": [],
   "source": [
    "# A posição vai de 0 até d-1"
   ]
  },
  {
   "cell_type": "code",
   "execution_count": 1,
   "metadata": {},
   "outputs": [],
   "source": [
    "# Produto tensorial para poder atuar nos vetores de estado\n",
    "# n = número de qubits\n",
    "def tp_porta(n, porta, pos):\n",
    "    objeto = id_sym(2)\n",
    "    for i in range(0, n-1):\n",
    "        if pos == 0 and i==0:\n",
    "            # primeira posição\n",
    "            objeto = tp(porta, objeto)\n",
    "            porta = id_sym(2)\n",
    "        elif pos == (i+1) and pos == n-1:\n",
    "            # última posição\n",
    "            objeto = tp(objeto, porta)\n",
    "            porta = id_sym(2)\n",
    "        elif pos == i+1:\n",
    "            # caso a posição seja a próxima, aí precisamos fazer nesse loop\n",
    "            objeto = tp(objeto, porta)\n",
    "            porta = id_sym(2)\n",
    "        else:\n",
    "            # casos em que não é a posição\n",
    "            objeto = tp(objeto, id_sym(2))\n",
    "    return objeto"
   ]
  },
  {
   "cell_type": "code",
   "execution_count": 1,
   "metadata": {},
   "outputs": [],
   "source": [
    "# Produto tensorial para poder atuar nos vetores de estado\n",
    "# n = número de qubits\n",
    "def psi_gate(psi, porta, pos):\n",
    "    n = int(log(len(psi), 2))\n",
    "    objeto = id_sym(2)\n",
    "    for i in range(0, n-1):\n",
    "        if pos == 0 and i==0:\n",
    "            # primeira posição\n",
    "            objeto = tp(porta, objeto)\n",
    "            porta = id_sym(2)\n",
    "        elif pos == (i+1) and pos == n-1:\n",
    "            # última posição\n",
    "            objeto = tp(objeto, porta)\n",
    "            porta = id_sym(2)\n",
    "        elif pos == i+1:\n",
    "            # caso a posição seja a próxima, aí precisamos fazer nesse loop\n",
    "            objeto = tp(objeto, porta)\n",
    "            porta = id_sym(2)\n",
    "        else:\n",
    "            # casos em que não é a posição\n",
    "            objeto = tp(objeto, id_sym(2))\n",
    "    return objeto * psi"
   ]
  },
  {
   "cell_type": "code",
   "execution_count": 589,
   "metadata": {},
   "outputs": [],
   "source": [
    "# Produto tensorial para poder atuar nos vetores de estado\n",
    "# Essa função leva em consideração portas controladas\n",
    "# Cuidar com muito critério quem é o controle e o controlado\n",
    "# n = número de qubits\n",
    "def tp_ctrl(n, controlada, pos):\n",
    "    objeto = id_sym(2)\n",
    "    for i in range(0, n-2):\n",
    "        if pos == 0 and i==0:\n",
    "            # primeira posição\n",
    "            objeto = tp(controlada, objeto)\n",
    "            controlada = id_sym(2)\n",
    "        elif pos == i and pos == n-2:\n",
    "            # última posição\n",
    "            objeto = tp(objeto, controlada)\n",
    "            controlada = id_sym(2)\n",
    "        elif pos == i+1:\n",
    "            # caso a posição seja a próxima, aí precisamos fazer nesse loop\n",
    "            objeto = tp(objeto, controlada)\n",
    "            controlada = id_sym(2)\n",
    "        else:\n",
    "            # casos em que não é a posição\n",
    "            objeto = tp(objeto, id_sym(2))\n",
    "    return objeto"
   ]
  },
  {
   "cell_type": "code",
   "execution_count": 1,
   "metadata": {},
   "outputs": [],
   "source": [
    "# Essa função funciona para por portas onde termos a ordem control -> target\n",
    "# Se a porta for target <- control o control da função será o target e o target será o control \n",
    "def psi_ctrl(psi, controlled_gate, if_ct_control_if_tc_target, if_ct_target_if_tc_control):\n",
    "    control = if_ct_control_if_tc_target\n",
    "    target = if_ct_target_if_tc_control\n",
    "    n = int(log(len(psi), 2))\n",
    "    if control == target:\n",
    "        return psi\n",
    "    if control < target:\n",
    "        psi_atuado = tp_ctrl(n, controlled_gate, control) * troca_qubit(psi, target, control + 1)\n",
    "        return troca_qubit(psi_atuado, control + 1, target)\n",
    "    if control > target:\n",
    "        psi_atuado = tp_ctrl(n, controlled_gate, target) * troca_qubit(psi, control, target)\n",
    "        return troca_qubit(psi_atuado, target, control)"
   ]
  },
  {
   "cell_type": "markdown",
   "metadata": {},
   "source": [
    "## Troca de posição de qubits em um vetor de estado matricial"
   ]
  },
  {
   "cell_type": "code",
   "execution_count": null,
   "metadata": {},
   "outputs": [],
   "source": [
    "# A posição inicial (pos_i) e pos_f vão de 0 até d-1"
   ]
  },
  {
   "cell_type": "code",
   "execution_count": 484,
   "metadata": {},
   "outputs": [],
   "source": [
    "def troca_bit(binario, pos_i, pos_f):\n",
    "    # Converter a string binária em uma lista de caracteres\n",
    "    caracteres = list(binario)\n",
    "    # Verificar se os índices são diferentes\n",
    "    if pos_i == pos_f:\n",
    "        return binario\n",
    "    # Trocar os bits\n",
    "    temp = caracteres[pos_i]\n",
    "    caracteres[pos_i] = caracteres[pos_f]\n",
    "    caracteres[pos_f] = temp\n",
    "    \n",
    "    # Converter a lista de caracteres de volta para uma string binária\n",
    "    binario_trocado = ''.join(caracteres)\n",
    "    return binario_trocado"
   ]
  },
  {
   "cell_type": "markdown",
   "metadata": {},
   "source": [
    "Precisamos dessas três funções abaixo.\n",
    "\n",
    "Provavelmente deve haver uma forma melhor, mas essa pareceu a mais lógica.\n",
    "\n",
    "Primeira função ('desloca_bit'): consiste em converter a posição do vetor de estado (aqui no python em decimal) para binário e trocar a posição desses bits\n",
    "\n",
    "Segunda função ('decimal_to_bin_formatado'): converter novamente para decimal esse número binário trocado\n",
    "\n",
    "Terceira função ('troca_qubit'): atribuir o valor dessa posição ao vetor que será retornado na função troca de bit."
   ]
  },
  {
   "cell_type": "code",
   "execution_count": null,
   "metadata": {},
   "outputs": [],
   "source": [
    "def desloca_bit(binario, pos_i, pos_f):\n",
    "    # Converter a string binária em uma lista de caracteres\n",
    "    caracteres = list(binario)\n",
    "    # Verificar se os índices são diferentes\n",
    "    if pos_i == pos_f:\n",
    "        return binario\n",
    "    # Deslocar o bit para a nova posição\n",
    "    bit = caracteres.pop(pos_i)\n",
    "    caracteres.insert(pos_f, bit)\n",
    "    # Converter a lista de caracteres de volta para uma string binária\n",
    "    binario_deslocado = ''.join(caracteres)\n",
    "    return binario_deslocado"
   ]
  },
  {
   "cell_type": "code",
   "execution_count": 485,
   "metadata": {},
   "outputs": [],
   "source": [
    "def decimal_to_bin_formatado(decimal, tamanho):\n",
    "    n = math.ceil(math.log(tamanho, 2))\n",
    "    binario_formatado = '{:0{}b}'.format(decimal, n)\n",
    "    return binario_formatado"
   ]
  },
  {
   "cell_type": "code",
   "execution_count": 505,
   "metadata": {},
   "outputs": [],
   "source": [
    "def troca_qubit(psi, pos_i, pos_f):\n",
    "    tamanho = len(psi)\n",
    "    psi_f = [0]*tamanho\n",
    "    for j in range(tamanho):\n",
    "        x = decimal_to_bin_formatado(j, tamanho)\n",
    "        y = desloca_bit(x, pos_i, pos_f)\n",
    "        z = int(y, 2)\n",
    "        psi_f[z] = psi[j]\n",
    "    return Matrix(psi_f)"
   ]
  },
  {
   "cell_type": "code",
   "execution_count": 505,
   "metadata": {},
   "outputs": [],
   "source": [
    "# Interessante para trocar o controle em uma porta controlada\n",
    "def troca_qubit_rho(rho, pos_i, pos_f):\n",
    "    tamanho = rho.shape[0]\n",
    "    rho_f = np.zeros_like(rho)\n",
    "    for j in range(tamanho):\n",
    "        x = decimal_to_bin_formatado(j, tamanho)\n",
    "        y = desloca_bit(x, pos_i, pos_f)\n",
    "        z = int(y, 2)\n",
    "        for k in range(tamanho):\n",
    "            x = decimal_to_bin_formatado(k, tamanho)\n",
    "            w = desloca_bit(x, pos_i, pos_f)\n",
    "            l = int(w, 2)\n",
    "            rho_f[z,l] = rho[j,k]\n",
    "    return Matrix(rho_f)"
   ]
  },
  {
   "cell_type": "markdown",
   "metadata": {},
   "source": [
    "## Trocar o estado de determinado qubit por outro"
   ]
  },
  {
   "cell_type": "code",
   "execution_count": null,
   "metadata": {},
   "outputs": [],
   "source": [
    "def troca_qbit(binario, pos, estado):\n",
    "    \"\"\"\n",
    "    Troca o estado do bit na posição 'pos' do número binário 'binario' para o estado especificado.\n",
    "\n",
    "    Parâmetros:\n",
    "        binario (str): número binário no formato de string.\n",
    "        pos (int): posição do bit a ser trocado (contando da esquerda para a direita, começando em 0).\n",
    "        estado (int): novo estado do bit (0 ou 1).\n",
    "\n",
    "    Retorna:\n",
    "        str: o número binário atualizado após a troca do bit.\n",
    "\n",
    "    Exemplo:\n",
    "        troca_qbit('0100', 1, 0) -> '0000'\n",
    "        troca_qbit('0100', 0, 1) -> '1100'\n",
    "    \"\"\"\n",
    "    # Converte a string binária em uma lista de dígitos (0 ou 1)\n",
    "    binario_lista = list(binario)\n",
    "\n",
    "    # Troca o bit na posição especificada pelo novo estado\n",
    "    binario_lista[pos] = str(estado)\n",
    "\n",
    "    # Converte a lista de dígitos de volta para uma string binária e a retorna\n",
    "    return ''.join(binario_lista)"
   ]
  },
  {
   "cell_type": "markdown",
   "metadata": {},
   "source": [
    "# Display"
   ]
  },
  {
   "cell_type": "code",
   "execution_count": 132,
   "metadata": {},
   "outputs": [],
   "source": [
    "# display multiple matrices in a single line\n",
    "def displaym(*matrices):\n",
    "    def html_str(*matrices):\n",
    "        html_str = ''\n",
    "        for i, matrix in enumerate(matrices):\n",
    "            html_str += '<div style=\"display: inline-block;\">' + matrix._repr_latex_() + '</div>'\n",
    "            if i != len(matrices) - 1:\n",
    "                html_str += ', '\n",
    "        return html_str\n",
    "    display(HTML(html_str(*matrices)))\n",
    "#displaym(pauli(0),pauli(1),pauli(2),pauli(3))"
   ]
  },
  {
   "cell_type": "markdown",
   "metadata": {},
   "source": [
    "# Nonlocal control of Reality"
   ]
  },
  {
   "cell_type": "code",
   "execution_count": null,
   "metadata": {},
   "outputs": [],
   "source": [
    "# Essa função aplica o dephasing map M_j em 2 qubits, tanto no W como no Z\n",
    "# \n",
    "# M₀=|00><00|=(|0>⊗|0>)(<0|⊗<0|)=[ 1\t0\t0\t0\n",
    "#                                   0\t0\t0\t0\n",
    "#                                   0\t0\t0\t0\n",
    "#                                   0\t0\t0\t0]\n",
    "def dephasing_map_2qubits(rho):\n",
    "    M0,M1,M2,M3 = zeros(4, 4), zeros(4, 4), zeros(4, 4), zeros(4, 4)\n",
    "    M0[0, 0] = 1\n",
    "    M1[1, 1] = 1\n",
    "    M2[2, 2] = 1\n",
    "    M3[3, 3] = 1\n",
    "    Phi_rho = M0*rho*M0 + M1*rho*M1 + M2*rho*M2 + M3*rho*M3\n",
    "    return Phi_rho"
   ]
  },
  {
   "cell_type": "code",
   "execution_count": null,
   "metadata": {},
   "outputs": [],
   "source": [
    "# Essa função aplica o dephasing map M0 = [1,0],[0,0] e M1 = [0,0],[0,1] somente no primeiro qubit\n",
    "# \n",
    "def dephasing_map_3qubits(rho):\n",
    "    M0,M1 = zeros(2, 2), zeros(2, 2)\n",
    "    M0[0, 0] = 1\n",
    "    M0_4 = tp(M0,  tp(id_sym(2), id_sym(2)))\n",
    "    M1[1, 1] = 1\n",
    "    M1_4 = tp(M1,  tp(id_sym(2), id_sym(2)))\n",
    "    Phi_rho = M0_4*rho*M0_4 + M1_4*rho*M1_4\n",
    "    return Phi_rho"
   ]
  },
  {
   "cell_type": "code",
   "execution_count": 1,
   "metadata": {},
   "outputs": [],
   "source": [
    "# Essa função aplica o dephasing map M0 = [1,0],[0,0] e M1 = [0,0],[0,1] somente no primeiro qubit\n",
    "# \n",
    "def dephasing_map_3qubits_WZ(rho):\n",
    "    M0,M1 = zeros(2, 2), zeros(2, 2)\n",
    "    M0[0, 0] = 1\n",
    "    M0_4 = tp(M0,  tp(M0, id_sym(2)))\n",
    "    M1[1, 1] = 1\n",
    "    M1_4 = tp(M1,  tp(M1, id_sym(2)))\n",
    "    Phi_rho = M0_4*rho*M0_4 + M1_4*rho*M1_4\n",
    "    return Phi_rho"
   ]
  },
  {
   "cell_type": "code",
   "execution_count": null,
   "metadata": {},
   "outputs": [],
   "source": [
    "# Essa função aplica o dephasing map M0 = [1,0],[0,0] e M1 = [0,0],[0,1] somente no primeiro qubit\n",
    "# \n",
    "def dephasing_map_4qubits(rho):\n",
    "    M0,M1 = zeros(2, 2), zeros(2, 2)\n",
    "    M0[0, 0] = 1\n",
    "    M0_4 = tp(M0,  tp(id_sym(2), tp(id_sym(2), id_sym(2))))\n",
    "    M1[1, 1] = 1\n",
    "    M1_4 = tp(M1,  tp(id_sym(2), tp(id_sym(2), id_sym(2))))\n",
    "    Phi_rho = M0_4*rho*M0_4 + M1_4*rho*M1_4\n",
    "    return Phi_rho"
   ]
  },
  {
   "cell_type": "code",
   "execution_count": 66,
   "metadata": {},
   "outputs": [],
   "source": [
    "from qiskit.quantum_info import DensityMatrix\n",
    "# trace function from qiskit\n",
    "#\n",
    "# Projective measure: subsistemas ABCD para sobrar apenas o D\n",
    "#\n",
    "# IMPORTANTE: D subsystem on the left\n",
    "#\n",
    "# rho_AB\n",
    "#\n",
    "# rho_B_red = Proj(A) * rho_AB * Proj(A)\n",
    "#\n",
    "# seq_bin:\n",
    "# If you want project |101>_ABC of |101>_ABC(|0>_D+|1>_D) send seq_bin = '101'\n",
    "# The last qubit is the susystem that you want to keep\n",
    "#\n",
    "# db = dimension expected to the matrix B (ex above is 2 -> M_{2x2}, only D system)\n",
    "# because we are going to remove the ABC systems\n",
    "#\n",
    "def projM_np(db, seq_bin, rho): # seq_bin \n",
    "    rhoB = np.zeros((db, db), dtype=rho.dtype)\n",
    "    dn= int(seq_bin+str(0), 2) # num decimal number of seq_bin\n",
    "    #print(dn)\n",
    "    for j in range(0, db):\n",
    "        for k in range(0, db):\n",
    "                rhoB[j,k] = rho[j+dn,k+dn]\n",
    "    return rhoB/DensityMatrix.trace(rhoB)"
   ]
  },
  {
   "cell_type": "code",
   "execution_count": null,
   "metadata": {},
   "outputs": [],
   "source": [
    "# Essa função aplica o dephasing map M_j em 2 qubits, tanto no W como no Z\n",
    "# \n",
    "# M₀=|00><00|=(|0>⊗|0>)(<0|⊗<0|)=[ 1\t0\t0\t0\n",
    "#                                   0\t0\t0\t0\n",
    "#                                   0\t0\t0\t0\n",
    "#                                   0\t0\t0\t0]\n",
    "def dephasing_map_2qubits_np(rho):\n",
    "    M0, M1 = np.zeros((4, 4), dtype=rho.dtype), np.zeros((4, 4), dtype=rho.dtype)\n",
    "    M2, M3 = np.zeros((4, 4), dtype=rho.dtype), np.zeros((4, 4), dtype=rho.dtype)\n",
    "    M0[0, 0] = M1[1, 1] = M2[2, 2] = M3[3, 3] = 1\n",
    "    Phi_rho = M0 @ rho @ M0 + M1 @ rho @ M1 + M2 @ rho @ M2 + M3 @ rho @ M3\n",
    "    return Phi_rho"
   ]
  },
  {
   "cell_type": "code",
   "execution_count": 57,
   "metadata": {},
   "outputs": [],
   "source": [
    "# Essa função aplica o dephasing map M0 = [1,0],[0,0] e M1 = [0,0],[0,1] somente no primeiro qubit\n",
    "# \n",
    "def dephasing_map_3qubits_np(rho):\n",
    "    M0, M1 = np.zeros((2, 2), dtype=rho.dtype), np.zeros((2, 2), dtype=rho.dtype)\n",
    "    Phi_rho = np.zeros_like(rho)\n",
    "    M0[0, 0] = M1[1, 1] = 1\n",
    "    M0_4 = np.kron(M0, np.kron(np.eye(2), np.eye(2)))\n",
    "    M1_4 = np.kron(M1, np.kron(np.eye(2), np.eye(2)))\n",
    "    Phi_rho = M0_4 @ rho @ M0_4 + M1_4 @ rho @ M1_4\n",
    "    return Phi_rho"
   ]
  },
  {
   "cell_type": "code",
   "execution_count": 1,
   "metadata": {},
   "outputs": [],
   "source": [
    "# Essa função aplica o dephasing map M0 = [1,0],[0,0] e M1 = [0,0],[0,1] somente no primeiro qubit\n",
    "# \n",
    "def dephasing_map_3qubits_WZ_np(rho):\n",
    "    M0, M1 = np.zeros((2, 2), dtype=rho.dtype), np.zeros((2, 2), dtype=rho.dtype)\n",
    "    M0[0, 0] = M1[1, 1] = 1\n",
    "    M0_4 = np.kron(M0,  np.kron(M0, np.eye(2)))\n",
    "    M1_4 = np.kron(M1,  np.kron(M1, np.eye(2)))\n",
    "    Phi_rho = M0_4 @ rho @ M0_4 + M1_4 @ rho @ M1_4\n",
    "    return Phi_rho"
   ]
  },
  {
   "cell_type": "code",
   "execution_count": null,
   "metadata": {},
   "outputs": [],
   "source": [
    "# Essa função aplica o dephasing map M0 = [1,0],[0,0] e M1 = [0,0],[0,1] somente no primeiro qubit\n",
    "# \n",
    "def dephasing_map_4qubits_np(rho):\n",
    "    M0, M1 = np.zeros((2, 2), dtype=rho.dtype), np.zeros((2, 2), dtype=rho.dtype)\n",
    "    M0[0, 0] = M1[1, 1] = 1\n",
    "    M0 = np.kron(M0, np.kron(np.eye(2), np.kron(np.eye(2),np.eye(2))))\n",
    "    M1 = np.kron(M1, np.kron(np.eye(2), np.kron(np.eye(2),np.eye(2))))\n",
    "    Phi_rho = M0 @ rho @ M0_4 + M1_4 @ rho @ M1_4\n",
    "    return Phi_rho"
   ]
  },
  {
   "cell_type": "code",
   "execution_count": null,
   "metadata": {},
   "outputs": [],
   "source": []
  }
 ],
 "metadata": {
  "kernelspec": {
   "display_name": "Python 3 (ipykernel)",
   "language": "python",
   "name": "python3"
  },
  "language_info": {
   "codemirror_mode": {
    "name": "ipython",
    "version": 3
   },
   "file_extension": ".py",
   "mimetype": "text/x-python",
   "name": "python",
   "nbconvert_exporter": "python",
   "pygments_lexer": "ipython3",
   "version": "3.9.13"
  }
 },
 "nbformat": 4,
 "nbformat_minor": 4
}
