{
 "cells": [
  {
   "cell_type": "code",
   "execution_count": 1,
   "id": "796daa2a",
   "metadata": {},
   "outputs": [
    {
     "data": {
      "application/javascript": [
       "IPython.notebook.set_autosave_interval(60000)"
      ]
     },
     "metadata": {},
     "output_type": "display_data"
    },
    {
     "name": "stdout",
     "output_type": "stream",
     "text": [
      "Autosaving every 60 seconds\n"
     ]
    }
   ],
   "source": [
    "%autosave 60"
   ]
  },
  {
   "cell_type": "code",
   "execution_count": 2,
   "id": "2b921bed",
   "metadata": {
    "scrolled": true
   },
   "outputs": [],
   "source": [
    "%run init.ipynb\n",
    "%run init-tensor_product.ipynb\n",
    "%run init-quantum_resources.ipynb\n",
    "%run init-optical_elements.ipynb"
   ]
  },
  {
   "cell_type": "code",
   "execution_count": 3,
   "id": "3b547fef",
   "metadata": {},
   "outputs": [],
   "source": [
    "from qiskit.quantum_info import entropy, DensityMatrix"
   ]
  },
  {
   "cell_type": "code",
   "execution_count": 4,
   "id": "5e35d0b2",
   "metadata": {
    "jupyter": {
     "outputs_hidden": true
    },
    "tags": []
   },
   "outputs": [
    {
     "name": "stderr",
     "output_type": "stream",
     "text": [
      "C:\\Users\\stark\\AppData\\Local\\Temp\\ipykernel_13424\\1918398002.py:6: DeprecationWarning: The qiskit.ignis package is deprecated and has been supersceded by the qiskit-experiments project. Refer to the migration guide: https://github.com/Qiskit/qiskit-ignis#migration-guide on how to migrate to the new project.\n",
      "  from qiskit.ignis.verification.tomography import state_tomography_circuits, StateTomographyFitter\n",
      "ibmqfactory.load_account:WARNING:2023-06-12 09:10:51,680: Credentials are already in use. The existing account in the session will be replaced.\n"
     ]
    },
    {
     "name": "stdout",
     "output_type": "stream",
     "text": [
      "ibm_perth                    ibm_nairobi                  ibm_lagos\n",
      "---------                    -----------                  ---------\n",
      "Num. Qubits:  7              Num. Qubits:  7              Num. Qubits:  7\n",
      "Pending Jobs: 168            Pending Jobs: 55             Pending Jobs: 69\n",
      "Least busy:   False          Least busy:   False          Least busy:   False\n",
      "Operational:  True           Operational:  True           Operational:  True\n",
      "Avg. T1:      146.4          Avg. T1:      115.2          Avg. T1:      134.2\n",
      "Avg. T2:      121.9          Avg. T2:      69.3           Avg. T2:      88.1\n",
      "\n",
      "\n",
      "\n",
      "ibmq_manila                  ibmq_jakarta                 ibmq_quito\n",
      "-----------                  ------------                 ----------\n",
      "Num. Qubits:  5              Num. Qubits:  7              Num. Qubits:  5\n",
      "Pending Jobs: 107            Pending Jobs: 43             Pending Jobs: 22\n",
      "Least busy:   False          Least busy:   False          Least busy:   False\n",
      "Operational:  True           Operational:  True           Operational:  True\n",
      "Avg. T1:      131.9          Avg. T1:      133.0          Avg. T1:      96.4\n",
      "Avg. T2:      39.5           Avg. T2:      45.0           Avg. T2:      89.5\n",
      "\n",
      "\n",
      "\n",
      "ibmq_belem                   ibmq_lima\n",
      "----------                   ---------\n",
      "Num. Qubits:  5              Num. Qubits:  5\n",
      "Pending Jobs: 12             Pending Jobs: 21\n",
      "Least busy:   True           Least busy:   False\n",
      "Operational:  True           Operational:  True\n",
      "Avg. T1:      89.9           Avg. T1:      96.8\n",
      "Avg. T2:      111.8          Avg. T2:      106.7\n",
      "\n",
      "\n",
      "\n",
      "ibmq_belem\n",
      "==========\n",
      "Configuration\n",
      "-------------\n",
      "    n_qubits: 5\n",
      "    operational: True\n",
      "    status_msg: active\n",
      "    pending_jobs: 12\n",
      "    backend_version: 1.2.8\n",
      "    basis_gates: ['id', 'rz', 'sx', 'x', 'cx', 'reset']\n",
      "    local: False\n",
      "    simulator: False\n",
      "    allow_q_object: True\n",
      "    meas_map: [[0, 1, 2, 3, 4]]\n",
      "    multi_meas_enabled: True\n",
      "    pulse_num_channels: 9\n",
      "    supported_instructions: ['cx', 'id', 'delay', 'measure', 'reset', 'rz', 'sx', 'x']\n",
      "    processor_type: {'family': 'Falcon', 'revision': 4, 'segment': 'T'}\n",
      "    open_pulse: False\n",
      "    coupling_map: [[0, 1], [1, 0], [1, 2], [1, 3], [2, 1], [3, 1], [3, 4], [4, 3]]\n",
      "    timing_constraints: {'acquire_alignment': 16, 'granularity': 16, 'min_length': 64, 'pulse_alignment': 1}\n",
      "    conditional_latency: []\n",
      "    parametric_pulses: ['gaussian', 'gaussian_square', 'gaussian_square_drag', 'drag', 'constant']\n",
      "    qubit_lo_range: [[4.590221537072601, 5.590221537072602], [4.745522034866863, 5.745522034866863], [4.861494424869913, 5.861494424869914], [4.670326101169732, 5.670326101169732], [4.758463234815759, 5.758463234815759]]\n",
      "    meas_kernels: ['hw_boxcar']\n",
      "    measure_esp_enabled: False\n",
      "    rep_times: [1000.0]\n",
      "    hamiltonian: {'description': 'Qubits are modeled as Duffing oscillators. In this case, the system includes higher energy states, i.e. not just |0> and |1>. The Pauli operators are generalized via the following set of transformations:\\n\\n$(\\\\mathbb{I}-\\\\sigma_{i}^z)/2 \\\\rightarrow O_i \\\\equiv b^\\\\dagger_{i} b_{i}$,\\n\\n$\\\\sigma_{+} \\\\rightarrow b^\\\\dagger$,\\n\\n$\\\\sigma_{-} \\\\rightarrow b$,\\n\\n$\\\\sigma_{i}^X \\\\rightarrow b^\\\\dagger_{i} + b_{i}$.\\n\\nQubits are coupled through resonator buses. The provided Hamiltonian has been projected into the zero excitation subspace of the resonator buses leading to an effective qubit-qubit flip-flop interaction. The qubit resonance frequencies in the Hamiltonian are the cavity dressed frequencies and not exactly what is returned by the backend defaults, which also includes the dressing due to the qubit-qubit interactions.\\n\\nQuantities are returned in angular frequencies, with units 2*pi*GHz.\\n\\nWARNING: Currently not all system Hamiltonian information is available to the public, missing values have been replaced with 0.\\n', 'h_latex': '\\\\begin{align} \\\\mathcal{H}/\\\\hbar = & \\\\sum_{i=0}^{4}\\\\left(\\\\frac{\\\\omega_{q,i}}{2}(\\\\mathbb{I}-\\\\sigma_i^{z})+\\\\frac{\\\\Delta_{i}}{2}(O_i^2-O_i)+\\\\Omega_{d,i}D_i(t)\\\\sigma_i^{X}\\\\right) \\\\\\\\ & + J_{0,1}(\\\\sigma_{0}^{+}\\\\sigma_{1}^{-}+\\\\sigma_{0}^{-}\\\\sigma_{1}^{+}) + J_{1,2}(\\\\sigma_{1}^{+}\\\\sigma_{2}^{-}+\\\\sigma_{1}^{-}\\\\sigma_{2}^{+}) + J_{1,3}(\\\\sigma_{1}^{+}\\\\sigma_{3}^{-}+\\\\sigma_{1}^{-}\\\\sigma_{3}^{+}) + J_{3,4}(\\\\sigma_{3}^{+}\\\\sigma_{4}^{-}+\\\\sigma_{3}^{-}\\\\sigma_{4}^{+}) \\\\\\\\ & + \\\\Omega_{d,0}(U_{0}^{(0,1)}(t))\\\\sigma_{0}^{X} + \\\\Omega_{d,1}(U_{1}^{(1,0)}(t)+U_{3}^{(1,3)}(t)+U_{2}^{(1,2)}(t))\\\\sigma_{1}^{X} \\\\\\\\ & + \\\\Omega_{d,2}(U_{4}^{(2,1)}(t))\\\\sigma_{2}^{X} + \\\\Omega_{d,3}(U_{6}^{(3,4)}(t)+U_{5}^{(3,1)}(t))\\\\sigma_{3}^{X} \\\\\\\\ & + \\\\Omega_{d,4}(U_{7}^{(4,3)}(t))\\\\sigma_{4}^{X} \\\\\\\\ \\\\end{align}', 'h_str': ['_SUM[i,0,4,wq{i}/2*(I{i}-Z{i})]', '_SUM[i,0,4,delta{i}/2*O{i}*O{i}]', '_SUM[i,0,4,-delta{i}/2*O{i}]', '_SUM[i,0,4,omegad{i}*X{i}||D{i}]', 'jq0q1*Sp0*Sm1', 'jq0q1*Sm0*Sp1', 'jq1q2*Sp1*Sm2', 'jq1q2*Sm1*Sp2', 'jq1q3*Sp1*Sm3', 'jq1q3*Sm1*Sp3', 'jq3q4*Sp3*Sm4', 'jq3q4*Sm3*Sp4', 'omegad1*X0||U0', 'omegad0*X1||U1', 'omegad3*X1||U3', 'omegad2*X1||U2', 'omegad1*X2||U4', 'omegad4*X3||U6', 'omegad1*X3||U5', 'omegad3*X4||U7'], 'osc': {}, 'qub': {'0': 3, '1': 3, '2': 3, '3': 3, '4': 3}, 'vars': {'delta0': -2.1119231275656283, 'delta1': -1.989081364755034, 'delta2': -2.0773937776320905, 'delta3': -2.096945401946966, 'delta4': -2.0819029355928373, 'jq0q1': 0.011772262300160973, 'jq1q2': 0.012605700949390706, 'jq1q3': 0.012591488659137172, 'jq3q4': 0.01051661912410011, 'omegad0': 0.7402526525986814, 'omegad1': 0.7735058958063602, 'omegad2': 1.7003516993989276, 'omegad3': 0.7278157702901734, 'omegad4': 3.07856757580748, 'wq0': 31.98280517202366, 'wq1': 32.95858697796224, 'wq2': 33.68726299486791, 'wq3': 32.48611699219678, 'wq4': 33.039898935338414}}\n",
      "    rep_delay_range: [0.0, 500.0]\n",
      "    online_date: 2021-01-08 05:00:00+00:00\n",
      "    meas_levels: [1, 2]\n",
      "    conditional: False\n",
      "    qubit_channel_mapping: [['d0', 'u1', 'm0', 'u0'], ['u2', 'm1', 'u1', 'u4', 'u5', 'd1', 'u3', 'u0'], ['u2', 'd2', 'u4', 'm2'], ['u7', 'u6', 'u3', 'm3', 'u5', 'd3'], ['d4', 'u6', 'u7', 'm4']]\n",
      "    sample_name: family: Falcon, revision: 4, segment: T\n",
      "    pulse_num_qubits: 3\n",
      "    acquisition_latency: []\n",
      "    allow_object_storage: True\n",
      "    max_shots: 20000\n",
      "    input_allowed: ['job', 'runtime']\n",
      "    live_data: False\n",
      "    n_uchannels: 8\n",
      "    memory: True\n",
      "    clops: 2454\n",
      "    supported_features: ['qobj']\n",
      "    u_channel_lo: [[{'q': 1, 'scale': (1+0j)}], [{'q': 0, 'scale': (1+0j)}], [{'q': 2, 'scale': (1+0j)}], [{'q': 3, 'scale': (1+0j)}], [{'q': 1, 'scale': (1+0j)}], [{'q': 1, 'scale': (1+0j)}], [{'q': 4, 'scale': (1+0j)}], [{'q': 3, 'scale': (1+0j)}]]\n",
      "    meas_lo_range: [[6.801574705, 7.801574705], [6.8934333720000005, 7.8934333720000005], [6.860104974, 7.860104974], [6.8033823270000005, 7.8033823270000005], [6.926223338000001, 7.926223338000001]]\n",
      "    discriminators: ['hw_centroid', 'linear_discriminator', 'quadratic_discriminator']\n",
      "    credits_required: True\n",
      "    quantum_volume: 16\n",
      "    dynamic_reprate_enabled: True\n",
      "    description: 5 qubit device Belem\n",
      "    dtm: 0.2222222222222222\n",
      "    n_registers: 1\n",
      "    dt: 0.2222222222222222\n",
      "    backend_name: ibmq_belem\n",
      "    parallel_compilation: False\n",
      "    default_rep_delay: 250.0\n",
      "    channels: {'acquire0': {'operates': {'qubits': [0]}, 'purpose': 'acquire', 'type': 'acquire'}, 'acquire1': {'operates': {'qubits': [1]}, 'purpose': 'acquire', 'type': 'acquire'}, 'acquire2': {'operates': {'qubits': [2]}, 'purpose': 'acquire', 'type': 'acquire'}, 'acquire3': {'operates': {'qubits': [3]}, 'purpose': 'acquire', 'type': 'acquire'}, 'acquire4': {'operates': {'qubits': [4]}, 'purpose': 'acquire', 'type': 'acquire'}, 'd0': {'operates': {'qubits': [0]}, 'purpose': 'drive', 'type': 'drive'}, 'd1': {'operates': {'qubits': [1]}, 'purpose': 'drive', 'type': 'drive'}, 'd2': {'operates': {'qubits': [2]}, 'purpose': 'drive', 'type': 'drive'}, 'd3': {'operates': {'qubits': [3]}, 'purpose': 'drive', 'type': 'drive'}, 'd4': {'operates': {'qubits': [4]}, 'purpose': 'drive', 'type': 'drive'}, 'm0': {'operates': {'qubits': [0]}, 'purpose': 'measure', 'type': 'measure'}, 'm1': {'operates': {'qubits': [1]}, 'purpose': 'measure', 'type': 'measure'}, 'm2': {'operates': {'qubits': [2]}, 'purpose': 'measure', 'type': 'measure'}, 'm3': {'operates': {'qubits': [3]}, 'purpose': 'measure', 'type': 'measure'}, 'm4': {'operates': {'qubits': [4]}, 'purpose': 'measure', 'type': 'measure'}, 'u0': {'operates': {'qubits': [0, 1]}, 'purpose': 'cross-resonance', 'type': 'control'}, 'u1': {'operates': {'qubits': [1, 0]}, 'purpose': 'cross-resonance', 'type': 'control'}, 'u2': {'operates': {'qubits': [1, 2]}, 'purpose': 'cross-resonance', 'type': 'control'}, 'u3': {'operates': {'qubits': [1, 3]}, 'purpose': 'cross-resonance', 'type': 'control'}, 'u4': {'operates': {'qubits': [2, 1]}, 'purpose': 'cross-resonance', 'type': 'control'}, 'u5': {'operates': {'qubits': [3, 1]}, 'purpose': 'cross-resonance', 'type': 'control'}, 'u6': {'operates': {'qubits': [3, 4]}, 'purpose': 'cross-resonance', 'type': 'control'}, 'u7': {'operates': {'qubits': [4, 3]}, 'purpose': 'cross-resonance', 'type': 'control'}}\n",
      "    url: None\n",
      "    uchannels_enabled: True\n",
      "    max_experiments: 100\n",
      "\n",
      "Qubits [Name / Freq / T1 / T2 / RZ err / SX err / X err / Readout err]\n",
      "----------------------------------------------------------------------\n",
      "    Q0 / 5.09022 GHz / 125.92361 us / 139.86342 us / 0.00000 / 0.00024 / 0.00024 / 0.02960 \n",
      "    Q1 / 5.24552 GHz / 68.05758 us / 94.85061 us / 0.00000 / 0.00027 / 0.00027 / 0.02360 \n",
      "    Q2 / 5.36149 GHz / 104.29690 us / 51.70012 us / 0.00000 / 0.00029 / 0.00029 / 0.02140 \n",
      "    Q3 / 5.17033 GHz / 58.40325 us / 117.69621 us / 0.00000 / 0.00035 / 0.00035 / 0.07630 \n",
      "    Q4 / 5.25846 GHz / 92.68408 us / 155.00125 us / 0.00000 / 0.00072 / 0.00072 / 0.02110 \n",
      "\n",
      "Multi-Qubit Gates [Name / Type / Gate Error]\n",
      "--------------------------------------------\n",
      "    cx4_3 / cx / 0.00976\n",
      "    cx3_4 / cx / 0.00976\n",
      "    cx3_1 / cx / 0.00763\n",
      "    cx1_3 / cx / 0.00763\n",
      "    cx1_0 / cx / 0.01192\n",
      "    cx0_1 / cx / 0.01192\n",
      "    cx2_1 / cx / 0.00884\n",
      "    cx1_2 / cx / 0.00884\n"
     ]
    }
   ],
   "source": [
    "%run init-qiskit.ipynb"
   ]
  },
  {
   "cell_type": "code",
   "execution_count": 5,
   "id": "ab5a07d5",
   "metadata": {},
   "outputs": [
    {
     "data": {
      "text/plain": [
       "{'qiskit-terra': '0.20.2', 'qiskit-aer': '0.10.4', 'qiskit-ignis': '0.7.1', 'qiskit-ibmq-provider': '0.19.1', 'qiskit-aqua': None, 'qiskit': '0.36.2', 'qiskit-nature': None, 'qiskit-finance': None, 'qiskit-optimization': None, 'qiskit-machine-learning': None}"
      ]
     },
     "execution_count": 5,
     "metadata": {},
     "output_type": "execute_result"
    }
   ],
   "source": [
    "qiskit.__qiskit_version__"
   ]
  },
  {
   "cell_type": "code",
   "execution_count": 6,
   "id": "997b6b23",
   "metadata": {},
   "outputs": [],
   "source": [
    "%run init-qiskit_optical_elements.ipynb"
   ]
  },
  {
   "cell_type": "code",
   "execution_count": 7,
   "id": "9cfa4307",
   "metadata": {},
   "outputs": [],
   "source": [
    "device = provider.get_backend('ibm_nairobi')"
   ]
  },
  {
   "cell_type": "markdown",
   "id": "b97e55ce",
   "metadata": {},
   "source": [
    "# Irrealidade dos átomos $WZ$ fora do IMZ"
   ]
  },
  {
   "cell_type": "markdown",
   "id": "5c42f210",
   "metadata": {},
   "source": [
    "## BBO$_{p}$ - Fora do IMZ - QWP$_{in}$"
   ]
  },
  {
   "cell_type": "code",
   "execution_count": 9,
   "id": "89a96831",
   "metadata": {},
   "outputs": [],
   "source": [
    "thmax = math.pi-0.01;   dth = thmax/20; th = np.arange(0.01, thmax+dth, dth); d = th.shape[0]\n",
    "rhoWZ_AbWZ_in            = np.zeros(th.shape[0], dtype=object)\n",
    "rhoWZ_0bWZ_in            = np.zeros(th.shape[0], dtype=object)\n",
    "Phi_WZ_0bWZ_in           = np.zeros(th.shape[0], dtype=object)\n",
    "Irr_WZ_in                = np.zeros(th.shape[0], dtype=object)\n",
    "jobs_ids_WZ_in = []"
   ]
  },
  {
   "cell_type": "markdown",
   "id": "5d8e8cc5",
   "metadata": {},
   "source": [
    "<img src = 'setup_realism.jpg' width = '90%'>"
   ]
  },
  {
   "cell_type": "code",
   "execution_count": 10,
   "id": "9cd61048",
   "metadata": {
    "scrolled": true
   },
   "outputs": [
    {
     "data": {
      "image/png": "[encoded data removed]",
      "text/plain": [
       "<Figure size 636.465x374.578 with 1 Axes>"
      ]
     },
     "execution_count": 10,
     "metadata": {},
     "output_type": "execute_result"
    }
   ],
   "source": [
    "def qc_QCRWZ_in(th):\n",
    "    qr = qiskit.QuantumRegister(6); qc = qiskit.QuantumCircuit(qr, name = 'QCR')\n",
    "    qc_BBO_p_ = qc_BBO_p(th); qc.append(qc_BBO_p_, [qr[1],qr[2]])             # BBO_p\n",
    "    qc_QWP_ = qc_QWP(); qc.append(qc_QWP_, [qr[1]])                           # QWP\n",
    "    qc_PBS_ = qc_PBS(); qc.append(qc_PBS_, [qr[1],qr[0]])                     # PBS_A\n",
    "    # IMZ\n",
    "    qc_PBS_ = qc_PBS(); qc.append(qc_PBS_, [qr[2],qr[3]])                     # PBS\n",
    "    qc_HWP_ = qc_HWP(); qc.append(qc_HWP_, [qr[2],qr[3]])                     # HWP\n",
    "    qc.x(4); qc.x(5)                                                          # Atoms's initial state\n",
    "    qc_AtmInt_ = qc_AtmInt(); qc.append(qc_AtmInt_, [qr[3],qr[4],qr[5]])      # Atoms' interaction\n",
    "    qc_M_ = qc_M(); qc.append(qc_M_, [qr[3]])                                 # Mirrors\n",
    "    #qc_PS_ = qc_PS(ph); qc.append(qc_PS_, [qr[3]])                           # Phase\n",
    "    qc_BS_ = qc_BS(); qc.append(qc_BS_, [qr[3]])                              # BS\n",
    "    return qc\n",
    "qc_QCRWZ_in_ = qc_QCRWZ_in(math.pi); qc_QCRWZ_in_.draw(output = 'mpl', scale = 0.7)"
   ]
  },
  {
   "cell_type": "code",
   "execution_count": null,
   "id": "75ab5792",
   "metadata": {},
   "outputs": [],
   "source": []
  },
  {
   "cell_type": "code",
   "execution_count": 12,
   "id": "3cad2d19",
   "metadata": {
    "scrolled": false
   },
   "outputs": [
    {
     "name": "stdout",
     "output_type": "stream",
     "text": [
      "ibm_nairobi\n",
      "\n",
      "2023-06-03 - 13:47:35\n",
      "\n",
      "--------------------------------------\n",
      "\n",
      "j =  9  - theta = 1.419216694115407\n",
      "--------------------------------------\n",
      "\n",
      "k =  0\n",
      "Job Status: job has successfully run\n",
      "2023-06-03 - 14:18:17\n",
      "chtmtc391dmpcngq33t0\n",
      "k =  0\n",
      "\n",
      "k =  1\n",
      "Job Status: job has successfully run\n",
      "2023-06-03 - 14:26:02\n",
      "chtnbsj91dmpcngqeai0\n",
      "k =  1\n",
      "\n",
      "k =  2\n",
      "Job Status: job has successfully run\n",
      "2023-06-03 - 14:33:23\n",
      "chtnfbpvrup8981la8n0\n",
      "k =  2\n",
      "\n",
      "k =  3\n",
      "Job Status: job has successfully run\n",
      "2023-06-03 - 15:11:38\n",
      "chtniq2i3durlgr0fro0\n",
      "k =  3\n",
      "\n",
      "k =  4\n",
      "Job Status: job has successfully run\n",
      "2023-06-03 - 15:17:14\n",
      "chto4o3gsimdkuls5fm0\n",
      "k =  4\n",
      "\n",
      "k =  5\n",
      "Job Status: job has successfully run\n",
      "2023-06-03 - 15:51:56\n",
      "chto7c3gsimdkuls7ef0\n",
      "k =  5\n",
      "\n",
      "k =  6\n",
      "Job Status: job has successfully run\n",
      "2023-06-03 - 15:58:56\n",
      "chtonkhoq2qn3r254820\n",
      "k =  6\n",
      "\n",
      "k =  7\n",
      "Job Status: job has successfully run\n",
      "2023-06-03 - 16:04:08\n",
      "chtoqt8recnk2p4o2e10\n",
      "k =  7\n",
      "\n",
      "k =  8\n",
      "Job Status: job has successfully run\n",
      "2023-06-03 - 16:08:55\n",
      "chtotb8recnk2p4o4gog\n",
      "k =  8\n",
      "\n",
      "k =  9\n",
      "Job Status: job has successfully run\n",
      "2023-06-03 - 16:13:30\n",
      "chtovj9oq2qn3r25b3ig\n",
      "k =  9\n",
      "\n",
      "2023-06-03 - 16:13:36\n",
      "\n"
     ]
    }
   ],
   "source": [
    "print(device)\n",
    "print(time.strftime(\"\\n%Y-%m-%d - %H:%M:%S\\n\", time.localtime(time.time())))\n",
    "start_time = time.time()\n",
    "print('--------------------------------------')\n",
    "j=9\n",
    "print('\\nj = {:2d}  - theta = {}'.format(j, th[j]))\n",
    "print('--------------------------------------')\n",
    "x = []\n",
    "try:\n",
    "    for k in range(0, 10):\n",
    "        print('\\nk = {:2d}'.format(k))\n",
    "        qr = qiskit.QuantumRegister(6); qc = qiskit.QuantumCircuit(qr)\n",
    "        #\n",
    "        # Circuito\n",
    "        #\n",
    "        qc_QCRWZ_in_ = qc_QCRWZ_in(th[j]); qc.append(qc_QCRWZ_in_, [qr[0],qr[1],qr[2],qr[3],qr[4],qr[5]])\n",
    "        #\n",
    "        # Tomography\n",
    "        #\n",
    "        qstc = state_tomography_circuits(qc, [qr[5],qr[4],qr[3],qr[1]])  # rho_AbWZ qr[5],qr[4],qr[3],qr[1]\n",
    "        job = qiskit.execute(qstc, backend = device, shots=nshots)\n",
    "        job_monitor(job)\n",
    "        print(time.strftime(\"%Y-%m-%d - %H:%M:%S\", time.localtime(time.time())))\n",
    "        print(job.job_id())\n",
    "        x.append(job.job_id())\n",
    "        qstf = StateTomographyFitter(job.result(), qstc)\n",
    "        print('k = {:2d}'.format(k))\n",
    "except:\n",
    "    print(\"\\n\\nErro detectado: \", sys.exc_info()[1])\n",
    "winsound.Beep(1000, 200)   # Frequência de 1000 Hz e duração de 200 ms\n",
    "winsound.Beep(1000, 200)   # Frequência de 1000 Hz e duração de 200 ms\n",
    "winsound.Beep(1000, 200)   # Frequência de 1000 Hz e duração de 200 ms\n",
    "winsound.Beep(1000, 1000)  # Frequência de 1000 Hz e duração de 200 ms\n",
    "end_time = time.time()\n",
    "winsound.Beep(1000, 1000)  # Frequência de 1000 Hz e duração de 200 ms\n",
    "winsound.Beep(1000, 200)   # Frequência de 1000 Hz e duração de 200 ms\n",
    "winsound.Beep(1000, 200)   # Frequência de 1000 Hz e duração de 200 ms\n",
    "winsound.Beep(1000, 200)   # Frequência de 1000 Hz e duração de 200 ms\n",
    "#\n",
    "#\n",
    "#\n",
    "print(time.strftime(\"\\n%Y-%m-%d - %H:%M:%S\\n\", time.localtime(time.time())))\n",
    "#\n",
    "#\n",
    "#\n",
    "if len(x)==10:\n",
    "    jobs_ids_WZ_in.append(x)"
   ]
  },
  {
   "cell_type": "code",
   "execution_count": 13,
   "id": "7e34fdf3",
   "metadata": {},
   "outputs": [
    {
     "name": "stdout",
     "output_type": "stream",
     "text": [
      "Tempo de execução: 8758.49 segundos\n",
      "Tempo de execução: 145.97 minutos\n",
      "Tempo de execução: 2.43 horas\n"
     ]
    }
   ],
   "source": [
    "execution_time_seg = end_time - start_time\n",
    "print(\"Tempo de execução:\", round(execution_time_seg, 2), \"segundos\")\n",
    "execution_time_min = execution_time_seg/60\n",
    "print(\"Tempo de execução:\", round(execution_time_min, 2), \"minutos\")\n",
    "execution_time_h = execution_time_min/60\n",
    "print(\"Tempo de execução:\", round(execution_time_h, 2), \"horas\")"
   ]
  },
  {
   "cell_type": "code",
   "execution_count": 14,
   "id": "113e6bb2",
   "metadata": {},
   "outputs": [
    {
     "data": {
      "text/plain": [
       "['chtmtc391dmpcngq33t0',\n",
       " 'chtnbsj91dmpcngqeai0',\n",
       " 'chtnfbpvrup8981la8n0',\n",
       " 'chtniq2i3durlgr0fro0',\n",
       " 'chto4o3gsimdkuls5fm0',\n",
       " 'chto7c3gsimdkuls7ef0',\n",
       " 'chtonkhoq2qn3r254820',\n",
       " 'chtoqt8recnk2p4o2e10',\n",
       " 'chtotb8recnk2p4o4gog',\n",
       " 'chtovj9oq2qn3r25b3ig']"
      ]
     },
     "execution_count": 14,
     "metadata": {},
     "output_type": "execute_result"
    }
   ],
   "source": [
    "x"
   ]
  },
  {
   "cell_type": "code",
   "execution_count": 15,
   "id": "51e6e5ef",
   "metadata": {
    "scrolled": false
   },
   "outputs": [
    {
     "data": {
      "text/plain": [
       "[['chtmtc391dmpcngq33t0',\n",
       "  'chtnbsj91dmpcngqeai0',\n",
       "  'chtnfbpvrup8981la8n0',\n",
       "  'chtniq2i3durlgr0fro0',\n",
       "  'chto4o3gsimdkuls5fm0',\n",
       "  'chto7c3gsimdkuls7ef0',\n",
       "  'chtonkhoq2qn3r254820',\n",
       "  'chtoqt8recnk2p4o2e10',\n",
       "  'chtotb8recnk2p4o4gog',\n",
       "  'chtovj9oq2qn3r25b3ig']]"
      ]
     },
     "execution_count": 15,
     "metadata": {},
     "output_type": "execute_result"
    }
   ],
   "source": [
    "jobs_ids_WZ_in"
   ]
  },
  {
   "cell_type": "code",
   "execution_count": null,
   "id": "edac1a51",
   "metadata": {},
   "outputs": [],
   "source": []
  },
  {
   "cell_type": "code",
   "execution_count": 16,
   "id": "80b5254d",
   "metadata": {
    "scrolled": false
   },
   "outputs": [
    {
     "name": "stdout",
     "output_type": "stream",
     "text": [
      "ibm_nairobi\n",
      "\n",
      "2023-06-03 - 17:03:11\n",
      "\n",
      "--------------------------------------\n",
      "\n",
      "j =  8  - theta = 1.2626370614359173\n",
      "--------------------------------------\n",
      "\n",
      "k =  0\n",
      "Job Status: job has successfully run\n",
      "2023-06-03 - 17:32:15\n",
      "chtpp1b91dmpcngsb7ag\n",
      "k =  0\n",
      "\n",
      "k =  1\n",
      "Job Status: job has successfully run\n",
      "2023-06-03 - 17:42:49\n",
      "chtq6lai3durlgr2epv0\n",
      "k =  1\n",
      "\n",
      "k =  2\n",
      "Job Status: job has successfully run\n",
      "2023-06-03 - 17:57:13\n",
      "chtqbjjgsimdkultrnb0\n",
      "k =  2\n",
      "\n",
      "k =  3\n",
      "Job Status: job has successfully run\n",
      "2023-06-03 - 18:08:07\n",
      "chtqibhvrup8981nqia0\n",
      "k =  3\n",
      "\n",
      "k =  4\n",
      "Job Status: job has successfully run\n",
      "2023-06-03 - 18:16:40\n",
      "chtqnf0recnk2p4pg5hg\n",
      "k =  4\n",
      "\n",
      "k =  5\n",
      "Job Status: job has successfully run\n",
      "2023-06-05 - 00:46:30\n",
      "chtqrfii3durlgr2uus0\n",
      "k =  5\n",
      "\n",
      "k =  6\n",
      "Job Status: job has successfully run\n",
      "2023-06-05 - 00:56:02\n",
      "chull7b91dmpcnhkg4cg\n",
      "k =  6\n",
      "\n",
      "k =  7\n",
      "Job Status: job has successfully run\n",
      "2023-06-05 - 01:04:45\n",
      "chulpqqi3durlgrq33g0\n",
      "k =  7\n",
      "\n",
      "k =  8\n",
      "Job Status: job has successfully run\n",
      "2023-06-05 - 01:17:02\n",
      "chultopoq2qn3r2uf460\n",
      "k =  8\n",
      "\n",
      "k =  9\n",
      "Job Status: job has successfully run\n",
      "2023-06-05 - 01:25:23\n",
      "chum3grgsimdkumm4il0\n",
      "k =  9\n",
      "\n",
      "2023-06-05 - 01:25:28\n",
      "\n"
     ]
    }
   ],
   "source": [
    "print(device)\n",
    "print(time.strftime(\"\\n%Y-%m-%d - %H:%M:%S\\n\", time.localtime(time.time())))\n",
    "start_time = time.time()\n",
    "print('--------------------------------------')\n",
    "j=8\n",
    "print('\\nj = {:2d}  - theta = {}'.format(j, th[j]))\n",
    "print('--------------------------------------')\n",
    "x = []\n",
    "try:\n",
    "    for k in range(0, 10):\n",
    "        print('\\nk = {:2d}'.format(k))\n",
    "        qr = qiskit.QuantumRegister(6); qc = qiskit.QuantumCircuit(qr)\n",
    "        #\n",
    "        # Circuito\n",
    "        #\n",
    "        qc_QCRWZ_in_ = qc_QCRWZ_in(th[j]); qc.append(qc_QCRWZ_in_, [qr[0],qr[1],qr[2],qr[3],qr[4],qr[5]])\n",
    "        #\n",
    "        # Tomography\n",
    "        #\n",
    "        qstc = state_tomography_circuits(qc, [qr[5],qr[4],qr[3],qr[1]])  # rho_AbWZ qr[5],qr[4],qr[3],qr[1]\n",
    "        job = qiskit.execute(qstc, backend = device, shots=nshots)\n",
    "        job_monitor(job)\n",
    "        print(time.strftime(\"%Y-%m-%d - %H:%M:%S\", time.localtime(time.time())))\n",
    "        print(job.job_id())\n",
    "        x.append(job.job_id())\n",
    "        qstf = StateTomographyFitter(job.result(), qstc)\n",
    "        print('k = {:2d}'.format(k))\n",
    "except:\n",
    "    print(\"\\n\\nErro detectado: \", sys.exc_info()[1])\n",
    "winsound.Beep(1000, 200)   # Frequência de 1000 Hz e duração de 200 ms\n",
    "winsound.Beep(1000, 200)   # Frequência de 1000 Hz e duração de 200 ms\n",
    "winsound.Beep(1000, 200)   # Frequência de 1000 Hz e duração de 200 ms\n",
    "winsound.Beep(1000, 1000)  # Frequência de 1000 Hz e duração de 200 ms\n",
    "end_time = time.time()\n",
    "winsound.Beep(1000, 1000)  # Frequência de 1000 Hz e duração de 200 ms\n",
    "winsound.Beep(1000, 200)   # Frequência de 1000 Hz e duração de 200 ms\n",
    "winsound.Beep(1000, 200)   # Frequência de 1000 Hz e duração de 200 ms\n",
    "winsound.Beep(1000, 200)   # Frequência de 1000 Hz e duração de 200 ms\n",
    "#\n",
    "#\n",
    "#\n",
    "print(time.strftime(\"\\n%Y-%m-%d - %H:%M:%S\\n\", time.localtime(time.time())))\n",
    "#\n",
    "#\n",
    "#\n",
    "if len(x)==10:\n",
    "    jobs_ids_WZ_in.append(x)"
   ]
  },
  {
   "cell_type": "code",
   "execution_count": 17,
   "id": "0ab9a42e",
   "metadata": {},
   "outputs": [
    {
     "name": "stdout",
     "output_type": "stream",
     "text": [
      "Tempo de execução: 116534.57 segundos\n",
      "Tempo de execução: 1942.24 minutos\n",
      "Tempo de execução: 32.37 horas\n"
     ]
    }
   ],
   "source": [
    "execution_time_seg = end_time - start_time\n",
    "print(\"Tempo de execução:\", round(execution_time_seg, 2), \"segundos\")\n",
    "execution_time_min = execution_time_seg/60\n",
    "print(\"Tempo de execução:\", round(execution_time_min, 2), \"minutos\")\n",
    "execution_time_h = execution_time_min/60\n",
    "print(\"Tempo de execução:\", round(execution_time_h, 2), \"horas\")"
   ]
  },
  {
   "cell_type": "code",
   "execution_count": 18,
   "id": "89628b8a",
   "metadata": {},
   "outputs": [
    {
     "data": {
      "text/plain": [
       "['chtpp1b91dmpcngsb7ag',\n",
       " 'chtq6lai3durlgr2epv0',\n",
       " 'chtqbjjgsimdkultrnb0',\n",
       " 'chtqibhvrup8981nqia0',\n",
       " 'chtqnf0recnk2p4pg5hg',\n",
       " 'chtqrfii3durlgr2uus0',\n",
       " 'chull7b91dmpcnhkg4cg',\n",
       " 'chulpqqi3durlgrq33g0',\n",
       " 'chultopoq2qn3r2uf460',\n",
       " 'chum3grgsimdkumm4il0']"
      ]
     },
     "execution_count": 18,
     "metadata": {},
     "output_type": "execute_result"
    }
   ],
   "source": [
    "x"
   ]
  },
  {
   "cell_type": "code",
   "execution_count": 19,
   "id": "38634efe",
   "metadata": {
    "scrolled": false
   },
   "outputs": [
    {
     "data": {
      "text/plain": [
       "[['chtmtc391dmpcngq33t0',\n",
       "  'chtnbsj91dmpcngqeai0',\n",
       "  'chtnfbpvrup8981la8n0',\n",
       "  'chtniq2i3durlgr0fro0',\n",
       "  'chto4o3gsimdkuls5fm0',\n",
       "  'chto7c3gsimdkuls7ef0',\n",
       "  'chtonkhoq2qn3r254820',\n",
       "  'chtoqt8recnk2p4o2e10',\n",
       "  'chtotb8recnk2p4o4gog',\n",
       "  'chtovj9oq2qn3r25b3ig'],\n",
       " ['chtpp1b91dmpcngsb7ag',\n",
       "  'chtq6lai3durlgr2epv0',\n",
       "  'chtqbjjgsimdkultrnb0',\n",
       "  'chtqibhvrup8981nqia0',\n",
       "  'chtqnf0recnk2p4pg5hg',\n",
       "  'chtqrfii3durlgr2uus0',\n",
       "  'chull7b91dmpcnhkg4cg',\n",
       "  'chulpqqi3durlgrq33g0',\n",
       "  'chultopoq2qn3r2uf460',\n",
       "  'chum3grgsimdkumm4il0']]"
      ]
     },
     "execution_count": 19,
     "metadata": {},
     "output_type": "execute_result"
    }
   ],
   "source": [
    "jobs_ids_WZ_in"
   ]
  },
  {
   "cell_type": "code",
   "execution_count": null,
   "id": "70528db5",
   "metadata": {},
   "outputs": [],
   "source": []
  },
  {
   "cell_type": "code",
   "execution_count": 20,
   "id": "700f5469",
   "metadata": {
    "scrolled": false
   },
   "outputs": [
    {
     "name": "stdout",
     "output_type": "stream",
     "text": [
      "ibm_nairobi\n",
      "\n",
      "2023-06-05 - 07:20:25\n",
      "\n",
      "--------------------------------------\n",
      "\n",
      "j =  7  - theta = 1.1060574287564275\n",
      "--------------------------------------\n",
      "\n",
      "k =  0\n",
      "Job Status: job has successfully run\n",
      "2023-06-05 - 07:31:01\n",
      "churdspoq2qn3r330ic0\n",
      "k =  0\n",
      "\n",
      "k =  1\n",
      "Job Status: job has successfully run\n",
      "2023-06-05 - 07:39:18\n",
      "churiqjgsimdkumqlof0\n",
      "k =  1\n",
      "\n",
      "k =  2\n",
      "Job Status: job has successfully run\n",
      "2023-06-05 - 07:47:51\n",
      "churmn2i3durlgrurgmg\n",
      "k =  2\n",
      "\n",
      "k =  3\n",
      "Job Status: job has successfully run\n",
      "2023-06-05 - 07:55:47\n",
      "churqnj91dmpcnhpi9t0\n",
      "k =  3\n",
      "\n",
      "k =  4\n",
      "Job Status: job has successfully run\n",
      "2023-06-05 - 08:17:29\n",
      "churue1vrup8982lkdug\n",
      "k =  4\n",
      "\n",
      "k =  5\n",
      "Job Status: job has successfully run\n",
      "2023-06-05 - 08:33:45\n",
      "chus8jqi3durlgrv8s90\n",
      "k =  5\n",
      "\n",
      "k =  6\n",
      "Job Status: job has successfully run\n",
      "2023-06-05 - 08:41:53\n",
      "chusg91vrup8982m2h00\n",
      "k =  6\n",
      "\n",
      "k =  7\n",
      "Job Status: job has successfully run\n",
      "2023-06-05 - 08:50:43\n",
      "chusk1hvrup8982m5gfg\n",
      "k =  7\n",
      "\n",
      "k =  8\n",
      "Job Status: job has successfully run\n",
      "2023-06-05 - 09:28:23\n",
      "chuso7hoq2qn3r3413fg\n",
      "k =  8\n",
      "\n",
      "k =  9\n",
      "Job Status: job has successfully run\n",
      "2023-06-05 - 09:36:43\n",
      "chut9thoq2qn3r34dgg0\n",
      "k =  9\n",
      "\n",
      "2023-06-05 - 09:36:47\n",
      "\n"
     ]
    }
   ],
   "source": [
    "print(device)\n",
    "print(time.strftime(\"\\n%Y-%m-%d - %H:%M:%S\\n\", time.localtime(time.time())))\n",
    "start_time = time.time()\n",
    "print('--------------------------------------')\n",
    "j=7\n",
    "print('\\nj = {:2d}  - theta = {}'.format(j, th[j]))\n",
    "print('--------------------------------------')\n",
    "x = []\n",
    "try:\n",
    "    for k in range(0, 10):\n",
    "        print('\\nk = {:2d}'.format(k))\n",
    "        qr = qiskit.QuantumRegister(6); qc = qiskit.QuantumCircuit(qr)\n",
    "        #\n",
    "        # Circuito\n",
    "        #\n",
    "        qc_QCRWZ_in_ = qc_QCRWZ_in(th[j]); qc.append(qc_QCRWZ_in_, [qr[0],qr[1],qr[2],qr[3],qr[4],qr[5]])\n",
    "        #\n",
    "        # Tomography\n",
    "        #\n",
    "        qstc = state_tomography_circuits(qc, [qr[5],qr[4],qr[3],qr[1]])  # rho_AbWZ qr[5],qr[4],qr[3],qr[1]\n",
    "        job = qiskit.execute(qstc, backend = device, shots=nshots)\n",
    "        job_monitor(job)\n",
    "        print(time.strftime(\"%Y-%m-%d - %H:%M:%S\", time.localtime(time.time())))\n",
    "        print(job.job_id())\n",
    "        x.append(job.job_id())\n",
    "        qstf = StateTomographyFitter(job.result(), qstc)\n",
    "        print('k = {:2d}'.format(k))\n",
    "except:\n",
    "    print(\"\\n\\nErro detectado: \", sys.exc_info()[1])\n",
    "winsound.Beep(1000, 200)   # Frequência de 1000 Hz e duração de 200 ms\n",
    "winsound.Beep(1000, 200)   # Frequência de 1000 Hz e duração de 200 ms\n",
    "winsound.Beep(1000, 200)   # Frequência de 1000 Hz e duração de 200 ms\n",
    "winsound.Beep(1000, 1000)  # Frequência de 1000 Hz e duração de 200 ms\n",
    "end_time = time.time()\n",
    "winsound.Beep(1000, 1000)  # Frequência de 1000 Hz e duração de 200 ms\n",
    "winsound.Beep(1000, 200)   # Frequência de 1000 Hz e duração de 200 ms\n",
    "winsound.Beep(1000, 200)   # Frequência de 1000 Hz e duração de 200 ms\n",
    "winsound.Beep(1000, 200)   # Frequência de 1000 Hz e duração de 200 ms\n",
    "#\n",
    "#\n",
    "#\n",
    "print(time.strftime(\"\\n%Y-%m-%d - %H:%M:%S\\n\", time.localtime(time.time())))\n",
    "#\n",
    "#\n",
    "#\n",
    "if len(x)==10:\n",
    "    jobs_ids_WZ_in.append(x)"
   ]
  },
  {
   "cell_type": "code",
   "execution_count": 21,
   "id": "90c40a46",
   "metadata": {},
   "outputs": [
    {
     "name": "stdout",
     "output_type": "stream",
     "text": [
      "Tempo de execução: 8180.9 segundos\n",
      "Tempo de execução: 136.35 minutos\n",
      "Tempo de execução: 2.27 horas\n"
     ]
    }
   ],
   "source": [
    "execution_time_seg = end_time - start_time\n",
    "print(\"Tempo de execução:\", round(execution_time_seg, 2), \"segundos\")\n",
    "execution_time_min = execution_time_seg/60\n",
    "print(\"Tempo de execução:\", round(execution_time_min, 2), \"minutos\")\n",
    "execution_time_h = execution_time_min/60\n",
    "print(\"Tempo de execução:\", round(execution_time_h, 2), \"horas\")"
   ]
  },
  {
   "cell_type": "code",
   "execution_count": 22,
   "id": "d643e332",
   "metadata": {},
   "outputs": [
    {
     "data": {
      "text/plain": [
       "['churdspoq2qn3r330ic0',\n",
       " 'churiqjgsimdkumqlof0',\n",
       " 'churmn2i3durlgrurgmg',\n",
       " 'churqnj91dmpcnhpi9t0',\n",
       " 'churue1vrup8982lkdug',\n",
       " 'chus8jqi3durlgrv8s90',\n",
       " 'chusg91vrup8982m2h00',\n",
       " 'chusk1hvrup8982m5gfg',\n",
       " 'chuso7hoq2qn3r3413fg',\n",
       " 'chut9thoq2qn3r34dgg0']"
      ]
     },
     "execution_count": 22,
     "metadata": {},
     "output_type": "execute_result"
    }
   ],
   "source": [
    "x"
   ]
  },
  {
   "cell_type": "code",
   "execution_count": 23,
   "id": "cdd96f0f",
   "metadata": {
    "scrolled": false
   },
   "outputs": [
    {
     "data": {
      "text/plain": [
       "[['chtmtc391dmpcngq33t0',\n",
       "  'chtnbsj91dmpcngqeai0',\n",
       "  'chtnfbpvrup8981la8n0',\n",
       "  'chtniq2i3durlgr0fro0',\n",
       "  'chto4o3gsimdkuls5fm0',\n",
       "  'chto7c3gsimdkuls7ef0',\n",
       "  'chtonkhoq2qn3r254820',\n",
       "  'chtoqt8recnk2p4o2e10',\n",
       "  'chtotb8recnk2p4o4gog',\n",
       "  'chtovj9oq2qn3r25b3ig'],\n",
       " ['chtpp1b91dmpcngsb7ag',\n",
       "  'chtq6lai3durlgr2epv0',\n",
       "  'chtqbjjgsimdkultrnb0',\n",
       "  'chtqibhvrup8981nqia0',\n",
       "  'chtqnf0recnk2p4pg5hg',\n",
       "  'chtqrfii3durlgr2uus0',\n",
       "  'chull7b91dmpcnhkg4cg',\n",
       "  'chulpqqi3durlgrq33g0',\n",
       "  'chultopoq2qn3r2uf460',\n",
       "  'chum3grgsimdkumm4il0'],\n",
       " ['churdspoq2qn3r330ic0',\n",
       "  'churiqjgsimdkumqlof0',\n",
       "  'churmn2i3durlgrurgmg',\n",
       "  'churqnj91dmpcnhpi9t0',\n",
       "  'churue1vrup8982lkdug',\n",
       "  'chus8jqi3durlgrv8s90',\n",
       "  'chusg91vrup8982m2h00',\n",
       "  'chusk1hvrup8982m5gfg',\n",
       "  'chuso7hoq2qn3r3413fg',\n",
       "  'chut9thoq2qn3r34dgg0']]"
      ]
     },
     "execution_count": 23,
     "metadata": {},
     "output_type": "execute_result"
    }
   ],
   "source": [
    "jobs_ids_WZ_in"
   ]
  },
  {
   "cell_type": "code",
   "execution_count": null,
   "id": "97336822",
   "metadata": {},
   "outputs": [],
   "source": []
  },
  {
   "cell_type": "code",
   "execution_count": 24,
   "id": "7fbc4355",
   "metadata": {
    "scrolled": false
   },
   "outputs": [
    {
     "name": "stdout",
     "output_type": "stream",
     "text": [
      "ibm_nairobi\n",
      "\n",
      "2023-06-05 - 09:36:47\n",
      "\n",
      "--------------------------------------\n",
      "\n",
      "j =  6  - theta = 0.9494777960769379\n",
      "--------------------------------------\n",
      "\n",
      "k =  0\n",
      "Job Status: job has successfully run\n",
      "2023-06-05 - 09:44:41\n",
      "chutdpj91dmpcnhqn1vg\n",
      "k =  0\n",
      "\n",
      "k =  1\n",
      "Job Status: job has successfully run\n",
      "2023-06-05 - 09:52:29\n",
      "chuthg391dmpcnhqpqq0\n",
      "k =  1\n",
      "\n",
      "k =  2\n",
      "Job Status: job has successfully run\n",
      "2023-06-05 - 10:00:53\n",
      "chutl5qi3durlgs08e20\n",
      "k =  2\n",
      "\n",
      "k =  3\n",
      "Job Status: job has successfully run\n",
      "2023-06-05 - 10:18:30\n",
      "chutp2grecnk2p5nn6b0\n",
      "k =  3\n",
      "\n",
      "k =  4\n",
      "Job Status: job has successfully run\n",
      "2023-06-05 - 10:36:23\n",
      "chuu1apoq2qn3r350v10\n",
      "k =  4\n",
      "\n",
      "k =  5\n",
      "Job Status: job has successfully run\n",
      "2023-06-05 - 10:45:20\n",
      "chuu9n8recnk2p5o5glg\n",
      "k =  5\n",
      "\n",
      "k =  6\n",
      "Job Status: job has successfully run\n",
      "2023-06-05 - 18:56:31\n",
      "chuudtii3durlgs0t2vg\n",
      "k =  6\n",
      "\n",
      "k =  7\n",
      "Job Status: job has successfully run\n",
      "2023-06-06 - 02:22:05\n",
      "chv5k6bekvbiqafbeeq0\n",
      "k =  7\n",
      "\n",
      "k =  8\n",
      "Job Status: job has successfully run\n",
      "2023-06-06 - 09:35:40\n",
      "chvc51apvii3c2pval1g\n",
      "k =  8\n",
      "\n",
      "k =  9\n",
      "Job Status: job has successfully run\n",
      "2023-06-06 - 17:14:43\n",
      "chvig9f2rsd594vnjja0\n",
      "k =  9\n",
      "\n",
      "2023-06-06 - 17:14:47\n",
      "\n"
     ]
    }
   ],
   "source": [
    "print(device)\n",
    "print(time.strftime(\"\\n%Y-%m-%d - %H:%M:%S\\n\", time.localtime(time.time())))\n",
    "start_time = time.time()\n",
    "print('--------------------------------------')\n",
    "j=6\n",
    "print('\\nj = {:2d}  - theta = {}'.format(j, th[j]))\n",
    "print('--------------------------------------')\n",
    "x = []\n",
    "try:\n",
    "    for k in range(0, 10):\n",
    "        print('\\nk = {:2d}'.format(k))\n",
    "        qr = qiskit.QuantumRegister(6); qc = qiskit.QuantumCircuit(qr)\n",
    "        #\n",
    "        # Circuito\n",
    "        #\n",
    "        qc_QCRWZ_in_ = qc_QCRWZ_in(th[j]); qc.append(qc_QCRWZ_in_, [qr[0],qr[1],qr[2],qr[3],qr[4],qr[5]])\n",
    "        #\n",
    "        # Tomography\n",
    "        #\n",
    "        qstc = state_tomography_circuits(qc, [qr[5],qr[4],qr[3],qr[1]])  # rho_AbWZ qr[5],qr[4],qr[3],qr[1]\n",
    "        job = qiskit.execute(qstc, backend = device, shots=nshots)\n",
    "        job_monitor(job)\n",
    "        print(time.strftime(\"%Y-%m-%d - %H:%M:%S\", time.localtime(time.time())))\n",
    "        print(job.job_id())\n",
    "        x.append(job.job_id())\n",
    "        qstf = StateTomographyFitter(job.result(), qstc)\n",
    "        print('k = {:2d}'.format(k))\n",
    "except:\n",
    "    print(\"\\n\\nErro detectado: \", sys.exc_info()[1])\n",
    "winsound.Beep(1000, 200)   # Frequência de 1000 Hz e duração de 200 ms\n",
    "winsound.Beep(1000, 200)   # Frequência de 1000 Hz e duração de 200 ms\n",
    "winsound.Beep(1000, 200)   # Frequência de 1000 Hz e duração de 200 ms\n",
    "winsound.Beep(1000, 1000)  # Frequência de 1000 Hz e duração de 200 ms\n",
    "end_time = time.time()\n",
    "winsound.Beep(1000, 1000)  # Frequência de 1000 Hz e duração de 200 ms\n",
    "winsound.Beep(1000, 200)   # Frequência de 1000 Hz e duração de 200 ms\n",
    "winsound.Beep(1000, 200)   # Frequência de 1000 Hz e duração de 200 ms\n",
    "winsound.Beep(1000, 200)   # Frequência de 1000 Hz e duração de 200 ms\n",
    "#\n",
    "#\n",
    "#\n",
    "print(time.strftime(\"\\n%Y-%m-%d - %H:%M:%S\\n\", time.localtime(time.time())))\n",
    "#\n",
    "#\n",
    "#\n",
    "if len(x)==10:\n",
    "    jobs_ids_WZ_in.append(x)"
   ]
  },
  {
   "cell_type": "code",
   "execution_count": 25,
   "id": "16fb1813",
   "metadata": {},
   "outputs": [
    {
     "name": "stdout",
     "output_type": "stream",
     "text": [
      "Tempo de execução: 113878.25 segundos\n",
      "Tempo de execução: 1897.97 minutos\n",
      "Tempo de execução: 31.63 horas\n"
     ]
    }
   ],
   "source": [
    "execution_time_seg = end_time - start_time\n",
    "print(\"Tempo de execução:\", round(execution_time_seg, 2), \"segundos\")\n",
    "execution_time_min = execution_time_seg/60\n",
    "print(\"Tempo de execução:\", round(execution_time_min, 2), \"minutos\")\n",
    "execution_time_h = execution_time_min/60\n",
    "print(\"Tempo de execução:\", round(execution_time_h, 2), \"horas\")"
   ]
  },
  {
   "cell_type": "code",
   "execution_count": 26,
   "id": "4beff31e",
   "metadata": {},
   "outputs": [
    {
     "data": {
      "text/plain": [
       "['chutdpj91dmpcnhqn1vg',\n",
       " 'chuthg391dmpcnhqpqq0',\n",
       " 'chutl5qi3durlgs08e20',\n",
       " 'chutp2grecnk2p5nn6b0',\n",
       " 'chuu1apoq2qn3r350v10',\n",
       " 'chuu9n8recnk2p5o5glg',\n",
       " 'chuudtii3durlgs0t2vg',\n",
       " 'chv5k6bekvbiqafbeeq0',\n",
       " 'chvc51apvii3c2pval1g',\n",
       " 'chvig9f2rsd594vnjja0']"
      ]
     },
     "execution_count": 26,
     "metadata": {},
     "output_type": "execute_result"
    }
   ],
   "source": [
    "x"
   ]
  },
  {
   "cell_type": "code",
   "execution_count": 27,
   "id": "aed35a43",
   "metadata": {
    "scrolled": false
   },
   "outputs": [
    {
     "data": {
      "text/plain": [
       "[['chtmtc391dmpcngq33t0',\n",
       "  'chtnbsj91dmpcngqeai0',\n",
       "  'chtnfbpvrup8981la8n0',\n",
       "  'chtniq2i3durlgr0fro0',\n",
       "  'chto4o3gsimdkuls5fm0',\n",
       "  'chto7c3gsimdkuls7ef0',\n",
       "  'chtonkhoq2qn3r254820',\n",
       "  'chtoqt8recnk2p4o2e10',\n",
       "  'chtotb8recnk2p4o4gog',\n",
       "  'chtovj9oq2qn3r25b3ig'],\n",
       " ['chtpp1b91dmpcngsb7ag',\n",
       "  'chtq6lai3durlgr2epv0',\n",
       "  'chtqbjjgsimdkultrnb0',\n",
       "  'chtqibhvrup8981nqia0',\n",
       "  'chtqnf0recnk2p4pg5hg',\n",
       "  'chtqrfii3durlgr2uus0',\n",
       "  'chull7b91dmpcnhkg4cg',\n",
       "  'chulpqqi3durlgrq33g0',\n",
       "  'chultopoq2qn3r2uf460',\n",
       "  'chum3grgsimdkumm4il0'],\n",
       " ['churdspoq2qn3r330ic0',\n",
       "  'churiqjgsimdkumqlof0',\n",
       "  'churmn2i3durlgrurgmg',\n",
       "  'churqnj91dmpcnhpi9t0',\n",
       "  'churue1vrup8982lkdug',\n",
       "  'chus8jqi3durlgrv8s90',\n",
       "  'chusg91vrup8982m2h00',\n",
       "  'chusk1hvrup8982m5gfg',\n",
       "  'chuso7hoq2qn3r3413fg',\n",
       "  'chut9thoq2qn3r34dgg0'],\n",
       " ['chutdpj91dmpcnhqn1vg',\n",
       "  'chuthg391dmpcnhqpqq0',\n",
       "  'chutl5qi3durlgs08e20',\n",
       "  'chutp2grecnk2p5nn6b0',\n",
       "  'chuu1apoq2qn3r350v10',\n",
       "  'chuu9n8recnk2p5o5glg',\n",
       "  'chuudtii3durlgs0t2vg',\n",
       "  'chv5k6bekvbiqafbeeq0',\n",
       "  'chvc51apvii3c2pval1g',\n",
       "  'chvig9f2rsd594vnjja0']]"
      ]
     },
     "execution_count": 27,
     "metadata": {},
     "output_type": "execute_result"
    }
   ],
   "source": [
    "jobs_ids_WZ_in"
   ]
  },
  {
   "cell_type": "code",
   "execution_count": null,
   "id": "c94ea3e5",
   "metadata": {},
   "outputs": [],
   "source": []
  },
  {
   "cell_type": "code",
   "execution_count": 28,
   "id": "ab19c2b3",
   "metadata": {
    "scrolled": false
   },
   "outputs": [
    {
     "name": "stdout",
     "output_type": "stream",
     "text": [
      "ibm_nairobi\n",
      "\n",
      "2023-06-06 - 17:14:47\n",
      "\n",
      "--------------------------------------\n",
      "\n",
      "j =  5  - theta = 0.7928981633974483\n",
      "--------------------------------------\n",
      "\n",
      "k =  0\n",
      "Job Status: job has successfully run\n",
      "2023-06-07 - 06:40:35\n",
      "chvp7falnlj7ii800820\n",
      "k =  0\n",
      "\n",
      "k =  1\n",
      "Job Status: job has successfully run\n",
      "2023-06-07 - 07:44:06\n",
      "ci05170ihcilpv54nt4g\n",
      "k =  1\n",
      "\n",
      "k =  2\n",
      "Job Status: job has successfully run\n",
      "2023-06-07 - 08:51:47\n",
      "ci05uv13lqnvrkvb82e0\n",
      "k =  2\n",
      "\n",
      "k =  3\n",
      "Job Status: job has successfully run\n",
      "2023-06-07 - 09:24:17\n",
      "ci06umilnlj7ii8at3mg\n",
      "k =  3\n",
      "\n",
      "k =  4\n",
      "Job Status: job has successfully run\n",
      "2023-06-07 - 13:36:13\n",
      "ci07dtoihcilpv56ishg\n",
      "k =  4\n",
      "\n",
      "k =  5\n",
      "Job Status: job has successfully run\n",
      "2023-06-07 - 17:50:53\n",
      "ci0b40ukcccjrh008ugg\n",
      "k =  5\n",
      "\n",
      "k =  6\n",
      "Job Status: job has successfully run\n",
      "2023-06-08 - 03:16:20\n",
      "ci0erdgihcilpv5f8s4g\n",
      "k =  6\n",
      "\n",
      "k =  7\n",
      "Job Status: job has successfully run\n",
      "2023-06-08 - 11:36:28\n",
      "ci0n4g6kcccjrh0bl790\n",
      "k =  7\n",
      "\n",
      "k =  8\n",
      "Job Status: job has successfully run\n",
      "2023-06-08 - 16:36:44\n",
      "ci0uetm1o26hu31u82t0\n",
      "k =  8\n",
      "\n",
      "k =  9\n",
      "Job Status: job has successfully run\n",
      "2023-06-08 - 23:58:54\n",
      "ci12rl8ihcilpv6460tg\n",
      "k =  9\n",
      "\n",
      "2023-06-08 - 23:58:58\n",
      "\n"
     ]
    }
   ],
   "source": [
    "print(device)\n",
    "print(time.strftime(\"\\n%Y-%m-%d - %H:%M:%S\\n\", time.localtime(time.time())))\n",
    "start_time = time.time()\n",
    "print('--------------------------------------')\n",
    "j=5\n",
    "print('\\nj = {:2d}  - theta = {}'.format(j, th[j]))\n",
    "print('--------------------------------------')\n",
    "x = []\n",
    "try:\n",
    "    for k in range(0, 10):\n",
    "        print('\\nk = {:2d}'.format(k))\n",
    "        qr = qiskit.QuantumRegister(6); qc = qiskit.QuantumCircuit(qr)\n",
    "        #\n",
    "        # Circuito\n",
    "        #\n",
    "        qc_QCRWZ_in_ = qc_QCRWZ_in(th[j]); qc.append(qc_QCRWZ_in_, [qr[0],qr[1],qr[2],qr[3],qr[4],qr[5]])\n",
    "        #\n",
    "        # Tomography\n",
    "        #\n",
    "        qstc = state_tomography_circuits(qc, [qr[5],qr[4],qr[3],qr[1]])  # rho_AbWZ qr[5],qr[4],qr[3],qr[1]\n",
    "        job = qiskit.execute(qstc, backend = device, shots=nshots)\n",
    "        job_monitor(job)\n",
    "        print(time.strftime(\"%Y-%m-%d - %H:%M:%S\", time.localtime(time.time())))\n",
    "        print(job.job_id())\n",
    "        x.append(job.job_id())\n",
    "        qstf = StateTomographyFitter(job.result(), qstc)\n",
    "        print('k = {:2d}'.format(k))\n",
    "except:\n",
    "    print(\"\\n\\nErro detectado: \", sys.exc_info()[1])\n",
    "winsound.Beep(1000, 200)   # Frequência de 1000 Hz e duração de 200 ms\n",
    "winsound.Beep(1000, 200)   # Frequência de 1000 Hz e duração de 200 ms\n",
    "winsound.Beep(1000, 200)   # Frequência de 1000 Hz e duração de 200 ms\n",
    "winsound.Beep(1000, 1000)  # Frequência de 1000 Hz e duração de 200 ms\n",
    "end_time = time.time()\n",
    "winsound.Beep(1000, 1000)  # Frequência de 1000 Hz e duração de 200 ms\n",
    "winsound.Beep(1000, 200)   # Frequência de 1000 Hz e duração de 200 ms\n",
    "winsound.Beep(1000, 200)   # Frequência de 1000 Hz e duração de 200 ms\n",
    "winsound.Beep(1000, 200)   # Frequência de 1000 Hz e duração de 200 ms\n",
    "#\n",
    "#\n",
    "#\n",
    "print(time.strftime(\"\\n%Y-%m-%d - %H:%M:%S\\n\", time.localtime(time.time())))\n",
    "#\n",
    "#\n",
    "#\n",
    "if len(x)==10:\n",
    "    jobs_ids_WZ_in.append(x)"
   ]
  },
  {
   "cell_type": "code",
   "execution_count": 29,
   "id": "1ba8538b",
   "metadata": {},
   "outputs": [
    {
     "name": "stdout",
     "output_type": "stream",
     "text": [
      "Tempo de execução: 197049.29 segundos\n",
      "Tempo de execução: 3284.15 minutos\n",
      "Tempo de execução: 54.74 horas\n"
     ]
    }
   ],
   "source": [
    "execution_time_seg = end_time - start_time\n",
    "print(\"Tempo de execução:\", round(execution_time_seg, 2), \"segundos\")\n",
    "execution_time_min = execution_time_seg/60\n",
    "print(\"Tempo de execução:\", round(execution_time_min, 2), \"minutos\")\n",
    "execution_time_h = execution_time_min/60\n",
    "print(\"Tempo de execução:\", round(execution_time_h, 2), \"horas\")"
   ]
  },
  {
   "cell_type": "code",
   "execution_count": 30,
   "id": "fbf0c8fe",
   "metadata": {},
   "outputs": [
    {
     "data": {
      "text/plain": [
       "['chvp7falnlj7ii800820',\n",
       " 'ci05170ihcilpv54nt4g',\n",
       " 'ci05uv13lqnvrkvb82e0',\n",
       " 'ci06umilnlj7ii8at3mg',\n",
       " 'ci07dtoihcilpv56ishg',\n",
       " 'ci0b40ukcccjrh008ugg',\n",
       " 'ci0erdgihcilpv5f8s4g',\n",
       " 'ci0n4g6kcccjrh0bl790',\n",
       " 'ci0uetm1o26hu31u82t0',\n",
       " 'ci12rl8ihcilpv6460tg']"
      ]
     },
     "execution_count": 30,
     "metadata": {},
     "output_type": "execute_result"
    }
   ],
   "source": [
    "x"
   ]
  },
  {
   "cell_type": "code",
   "execution_count": 31,
   "id": "22783022",
   "metadata": {
    "scrolled": false
   },
   "outputs": [
    {
     "data": {
      "text/plain": [
       "[['chtmtc391dmpcngq33t0',\n",
       "  'chtnbsj91dmpcngqeai0',\n",
       "  'chtnfbpvrup8981la8n0',\n",
       "  'chtniq2i3durlgr0fro0',\n",
       "  'chto4o3gsimdkuls5fm0',\n",
       "  'chto7c3gsimdkuls7ef0',\n",
       "  'chtonkhoq2qn3r254820',\n",
       "  'chtoqt8recnk2p4o2e10',\n",
       "  'chtotb8recnk2p4o4gog',\n",
       "  'chtovj9oq2qn3r25b3ig'],\n",
       " ['chtpp1b91dmpcngsb7ag',\n",
       "  'chtq6lai3durlgr2epv0',\n",
       "  'chtqbjjgsimdkultrnb0',\n",
       "  'chtqibhvrup8981nqia0',\n",
       "  'chtqnf0recnk2p4pg5hg',\n",
       "  'chtqrfii3durlgr2uus0',\n",
       "  'chull7b91dmpcnhkg4cg',\n",
       "  'chulpqqi3durlgrq33g0',\n",
       "  'chultopoq2qn3r2uf460',\n",
       "  'chum3grgsimdkumm4il0'],\n",
       " ['churdspoq2qn3r330ic0',\n",
       "  'churiqjgsimdkumqlof0',\n",
       "  'churmn2i3durlgrurgmg',\n",
       "  'churqnj91dmpcnhpi9t0',\n",
       "  'churue1vrup8982lkdug',\n",
       "  'chus8jqi3durlgrv8s90',\n",
       "  'chusg91vrup8982m2h00',\n",
       "  'chusk1hvrup8982m5gfg',\n",
       "  'chuso7hoq2qn3r3413fg',\n",
       "  'chut9thoq2qn3r34dgg0'],\n",
       " ['chutdpj91dmpcnhqn1vg',\n",
       "  'chuthg391dmpcnhqpqq0',\n",
       "  'chutl5qi3durlgs08e20',\n",
       "  'chutp2grecnk2p5nn6b0',\n",
       "  'chuu1apoq2qn3r350v10',\n",
       "  'chuu9n8recnk2p5o5glg',\n",
       "  'chuudtii3durlgs0t2vg',\n",
       "  'chv5k6bekvbiqafbeeq0',\n",
       "  'chvc51apvii3c2pval1g',\n",
       "  'chvig9f2rsd594vnjja0'],\n",
       " ['chvp7falnlj7ii800820',\n",
       "  'ci05170ihcilpv54nt4g',\n",
       "  'ci05uv13lqnvrkvb82e0',\n",
       "  'ci06umilnlj7ii8at3mg',\n",
       "  'ci07dtoihcilpv56ishg',\n",
       "  'ci0b40ukcccjrh008ugg',\n",
       "  'ci0erdgihcilpv5f8s4g',\n",
       "  'ci0n4g6kcccjrh0bl790',\n",
       "  'ci0uetm1o26hu31u82t0',\n",
       "  'ci12rl8ihcilpv6460tg']]"
      ]
     },
     "execution_count": 31,
     "metadata": {},
     "output_type": "execute_result"
    }
   ],
   "source": [
    "jobs_ids_WZ_in"
   ]
  },
  {
   "cell_type": "code",
   "execution_count": null,
   "id": "5c824674",
   "metadata": {},
   "outputs": [],
   "source": []
  },
  {
   "cell_type": "code",
   "execution_count": 32,
   "id": "a4f47b1e",
   "metadata": {
    "scrolled": false
   },
   "outputs": [
    {
     "name": "stdout",
     "output_type": "stream",
     "text": [
      "ibm_nairobi\n",
      "\n",
      "2023-06-08 - 23:58:58\n",
      "\n",
      "--------------------------------------\n",
      "\n",
      "j =  4  - theta = 0.6363185307179586\n",
      "--------------------------------------\n",
      "\n",
      "k =  0\n",
      "Job Status: job has successfully run\n",
      "2023-06-09 - 01:18:14\n",
      "ci19au9cinbchsh0f1cg\n",
      "k =  0\n",
      "\n",
      "k =  1\n",
      "Job Status: job has successfully run\n",
      "2023-06-09 - 02:42:15\n",
      "ci1ag3u1o26hu329a2qg\n",
      "k =  1\n",
      "\n",
      "k =  2\n",
      "Job Status: job has successfully run\n",
      "2023-06-09 - 03:56:50\n",
      "ci1bnfh3lqnvrkokckig\n",
      "k =  2\n",
      "\n",
      "k =  3\n",
      "Job Status: job has successfully run\n",
      "2023-06-09 - 08:43:50\n",
      "ci1cqe1cinbchsh3hvo0\n",
      "k =  3\n",
      "\n",
      "k =  4\n",
      "Job Status: job has successfully run\n",
      "2023-06-09 - 11:12:56\n",
      "ci1h0vekcccjrh17fql0\n",
      "k =  4\n",
      "\n",
      "k =  5\n",
      "Job Status: job has successfully run\n",
      "2023-06-09 - 13:12:55\n",
      "ci1j6s8ihcilpv6k1d40\n",
      "k =  5\n",
      "\n",
      "k =  6\n",
      "Job Status: job has successfully run\n",
      "2023-06-09 - 17:24:02\n",
      "ci1kv3e1o26hu32l4fpg\n",
      "k =  6\n",
      "\n",
      "k =  7\n",
      "Job Status: job has successfully run\n",
      "2023-06-09 - 18:40:15\n",
      "ci1okru1o26hu32pf0hg\n",
      "k =  7\n",
      "\n",
      "k =  8\n",
      "Job Status: job has successfully run\n",
      "2023-06-09 - 21:14:09\n",
      "ci1pohhcinbchshi6seg\n",
      "k =  8\n",
      "\n",
      "k =  9\n",
      "Job Status: job has successfully run\n",
      "2023-06-10 - 05:03:54\n",
      "ci1s0malnlj7iia0kv0g\n",
      "k =  9\n",
      "\n",
      "2023-06-10 - 05:03:58\n",
      "\n"
     ]
    }
   ],
   "source": [
    "print(device)\n",
    "print(time.strftime(\"\\n%Y-%m-%d - %H:%M:%S\\n\", time.localtime(time.time())))\n",
    "start_time = time.time()\n",
    "print('--------------------------------------')\n",
    "j=4\n",
    "print('\\nj = {:2d}  - theta = {}'.format(j, th[j]))\n",
    "print('--------------------------------------')\n",
    "x = []\n",
    "try:\n",
    "    for k in range(0, 10):\n",
    "        print('\\nk = {:2d}'.format(k))\n",
    "        qr = qiskit.QuantumRegister(6); qc = qiskit.QuantumCircuit(qr)\n",
    "        #\n",
    "        # Circuito\n",
    "        #\n",
    "        qc_QCRWZ_in_ = qc_QCRWZ_in(th[j]); qc.append(qc_QCRWZ_in_, [qr[0],qr[1],qr[2],qr[3],qr[4],qr[5]])\n",
    "        #\n",
    "        # Tomography\n",
    "        #\n",
    "        qstc = state_tomography_circuits(qc, [qr[5],qr[4],qr[3],qr[1]])  # rho_AbWZ qr[5],qr[4],qr[3],qr[1]\n",
    "        job = qiskit.execute(qstc, backend = device, shots=nshots)\n",
    "        job_monitor(job)\n",
    "        print(time.strftime(\"%Y-%m-%d - %H:%M:%S\", time.localtime(time.time())))\n",
    "        print(job.job_id())\n",
    "        x.append(job.job_id())\n",
    "        qstf = StateTomographyFitter(job.result(), qstc)\n",
    "        print('k = {:2d}'.format(k))\n",
    "except:\n",
    "    print(\"\\n\\nErro detectado: \", sys.exc_info()[1])\n",
    "winsound.Beep(1000, 200)   # Frequência de 1000 Hz e duração de 200 ms\n",
    "winsound.Beep(1000, 200)   # Frequência de 1000 Hz e duração de 200 ms\n",
    "winsound.Beep(1000, 200)   # Frequência de 1000 Hz e duração de 200 ms\n",
    "winsound.Beep(1000, 1000)  # Frequência de 1000 Hz e duração de 200 ms\n",
    "end_time = time.time()\n",
    "winsound.Beep(1000, 1000)  # Frequência de 1000 Hz e duração de 200 ms\n",
    "winsound.Beep(1000, 200)   # Frequência de 1000 Hz e duração de 200 ms\n",
    "winsound.Beep(1000, 200)   # Frequência de 1000 Hz e duração de 200 ms\n",
    "winsound.Beep(1000, 200)   # Frequência de 1000 Hz e duração de 200 ms\n",
    "#\n",
    "#\n",
    "#\n",
    "print(time.strftime(\"\\n%Y-%m-%d - %H:%M:%S\\n\", time.localtime(time.time())))\n",
    "#\n",
    "#\n",
    "#\n",
    "if len(x)==10:\n",
    "    jobs_ids_WZ_in.append(x)"
   ]
  },
  {
   "cell_type": "code",
   "execution_count": 33,
   "id": "82a21074",
   "metadata": {},
   "outputs": [
    {
     "name": "stdout",
     "output_type": "stream",
     "text": [
      "Tempo de execução: 104698.05 segundos\n",
      "Tempo de execução: 1744.97 minutos\n",
      "Tempo de execução: 29.08 horas\n"
     ]
    }
   ],
   "source": [
    "execution_time_seg = end_time - start_time\n",
    "print(\"Tempo de execução:\", round(execution_time_seg, 2), \"segundos\")\n",
    "execution_time_min = execution_time_seg/60\n",
    "print(\"Tempo de execução:\", round(execution_time_min, 2), \"minutos\")\n",
    "execution_time_h = execution_time_min/60\n",
    "print(\"Tempo de execução:\", round(execution_time_h, 2), \"horas\")"
   ]
  },
  {
   "cell_type": "code",
   "execution_count": 34,
   "id": "3250f271",
   "metadata": {},
   "outputs": [
    {
     "data": {
      "text/plain": [
       "['ci19au9cinbchsh0f1cg',\n",
       " 'ci1ag3u1o26hu329a2qg',\n",
       " 'ci1bnfh3lqnvrkokckig',\n",
       " 'ci1cqe1cinbchsh3hvo0',\n",
       " 'ci1h0vekcccjrh17fql0',\n",
       " 'ci1j6s8ihcilpv6k1d40',\n",
       " 'ci1kv3e1o26hu32l4fpg',\n",
       " 'ci1okru1o26hu32pf0hg',\n",
       " 'ci1pohhcinbchshi6seg',\n",
       " 'ci1s0malnlj7iia0kv0g']"
      ]
     },
     "execution_count": 34,
     "metadata": {},
     "output_type": "execute_result"
    }
   ],
   "source": [
    "x"
   ]
  },
  {
   "cell_type": "code",
   "execution_count": 35,
   "id": "651737e6",
   "metadata": {
    "scrolled": false
   },
   "outputs": [
    {
     "data": {
      "text/plain": [
       "[['chtmtc391dmpcngq33t0',\n",
       "  'chtnbsj91dmpcngqeai0',\n",
       "  'chtnfbpvrup8981la8n0',\n",
       "  'chtniq2i3durlgr0fro0',\n",
       "  'chto4o3gsimdkuls5fm0',\n",
       "  'chto7c3gsimdkuls7ef0',\n",
       "  'chtonkhoq2qn3r254820',\n",
       "  'chtoqt8recnk2p4o2e10',\n",
       "  'chtotb8recnk2p4o4gog',\n",
       "  'chtovj9oq2qn3r25b3ig'],\n",
       " ['chtpp1b91dmpcngsb7ag',\n",
       "  'chtq6lai3durlgr2epv0',\n",
       "  'chtqbjjgsimdkultrnb0',\n",
       "  'chtqibhvrup8981nqia0',\n",
       "  'chtqnf0recnk2p4pg5hg',\n",
       "  'chtqrfii3durlgr2uus0',\n",
       "  'chull7b91dmpcnhkg4cg',\n",
       "  'chulpqqi3durlgrq33g0',\n",
       "  'chultopoq2qn3r2uf460',\n",
       "  'chum3grgsimdkumm4il0'],\n",
       " ['churdspoq2qn3r330ic0',\n",
       "  'churiqjgsimdkumqlof0',\n",
       "  'churmn2i3durlgrurgmg',\n",
       "  'churqnj91dmpcnhpi9t0',\n",
       "  'churue1vrup8982lkdug',\n",
       "  'chus8jqi3durlgrv8s90',\n",
       "  'chusg91vrup8982m2h00',\n",
       "  'chusk1hvrup8982m5gfg',\n",
       "  'chuso7hoq2qn3r3413fg',\n",
       "  'chut9thoq2qn3r34dgg0'],\n",
       " ['chutdpj91dmpcnhqn1vg',\n",
       "  'chuthg391dmpcnhqpqq0',\n",
       "  'chutl5qi3durlgs08e20',\n",
       "  'chutp2grecnk2p5nn6b0',\n",
       "  'chuu1apoq2qn3r350v10',\n",
       "  'chuu9n8recnk2p5o5glg',\n",
       "  'chuudtii3durlgs0t2vg',\n",
       "  'chv5k6bekvbiqafbeeq0',\n",
       "  'chvc51apvii3c2pval1g',\n",
       "  'chvig9f2rsd594vnjja0'],\n",
       " ['chvp7falnlj7ii800820',\n",
       "  'ci05170ihcilpv54nt4g',\n",
       "  'ci05uv13lqnvrkvb82e0',\n",
       "  'ci06umilnlj7ii8at3mg',\n",
       "  'ci07dtoihcilpv56ishg',\n",
       "  'ci0b40ukcccjrh008ugg',\n",
       "  'ci0erdgihcilpv5f8s4g',\n",
       "  'ci0n4g6kcccjrh0bl790',\n",
       "  'ci0uetm1o26hu31u82t0',\n",
       "  'ci12rl8ihcilpv6460tg'],\n",
       " ['ci19au9cinbchsh0f1cg',\n",
       "  'ci1ag3u1o26hu329a2qg',\n",
       "  'ci1bnfh3lqnvrkokckig',\n",
       "  'ci1cqe1cinbchsh3hvo0',\n",
       "  'ci1h0vekcccjrh17fql0',\n",
       "  'ci1j6s8ihcilpv6k1d40',\n",
       "  'ci1kv3e1o26hu32l4fpg',\n",
       "  'ci1okru1o26hu32pf0hg',\n",
       "  'ci1pohhcinbchshi6seg',\n",
       "  'ci1s0malnlj7iia0kv0g']]"
      ]
     },
     "execution_count": 35,
     "metadata": {},
     "output_type": "execute_result"
    }
   ],
   "source": [
    "jobs_ids_WZ_in"
   ]
  },
  {
   "cell_type": "code",
   "execution_count": null,
   "id": "751a0299",
   "metadata": {},
   "outputs": [],
   "source": []
  },
  {
   "cell_type": "code",
   "execution_count": 36,
   "id": "3d5a3acc",
   "metadata": {
    "scrolled": false
   },
   "outputs": [
    {
     "name": "stdout",
     "output_type": "stream",
     "text": [
      "ibm_nairobi\n",
      "\n",
      "2023-06-10 - 05:03:58\n",
      "\n",
      "--------------------------------------\n",
      "\n",
      "j =  3  - theta = 0.479738898038469\n",
      "--------------------------------------\n",
      "\n",
      "k =  0\n",
      "Job Status: job has successfully run\n",
      "2023-06-10 - 05:14:26\n",
      "ci22st2lnlj7iia6fc30\n",
      "k =  0\n",
      "\n",
      "k =  1\n",
      "Job Status: job has successfully run\n",
      "2023-06-10 - 05:25:30\n",
      "ci231qm1o26hu332lip0\n",
      "k =  1\n",
      "\n",
      "k =  2\n",
      "Job Status: job has successfully run\n",
      "2023-06-10 - 05:36:40\n",
      "ci236vp3lqnvrkpd7jt0\n",
      "k =  2\n",
      "\n",
      "k =  3\n",
      "Job Status: job has successfully run\n",
      "2023-06-10 - 05:47:38\n",
      "ci23c7ekcccjrh1p90rg\n",
      "k =  3\n",
      "\n",
      "k =  4\n",
      "Job Status: job has successfully run\n",
      "2023-06-10 - 05:59:40\n",
      "ci23hc13lqnvrkpdgelg\n",
      "k =  4\n",
      "\n",
      "k =  5\n",
      "Job Status: job has successfully run\n",
      "2023-06-10 - 06:17:52\n",
      "ci23n0m1o26hu3337d9g\n",
      "k =  5\n",
      "\n",
      "k =  6\n",
      "Job Status: job has successfully run\n",
      "2023-06-10 - 06:31:18\n",
      "ci23vhm1o26hu333e2ug\n",
      "k =  6\n",
      "\n",
      "k =  7\n",
      "Job Status: job has successfully run\n",
      "2023-06-10 - 06:43:17\n",
      "ci245r13lqnvrkpe170g\n",
      "k =  7\n",
      "\n",
      "k =  8\n",
      "Job Status: job has successfully run\n",
      "2023-06-10 - 06:52:15\n",
      "ci24beoihcilpv74cdjg\n",
      "k =  8\n",
      "\n",
      "k =  9\n",
      "Job Status: job has successfully run\n",
      "2023-06-10 - 07:03:25\n",
      "ci24flalnlj7iia7olq0\n",
      "k =  9\n",
      "\n",
      "2023-06-10 - 07:03:30\n",
      "\n"
     ]
    }
   ],
   "source": [
    "print(device)\n",
    "print(time.strftime(\"\\n%Y-%m-%d - %H:%M:%S\\n\", time.localtime(time.time())))\n",
    "start_time = time.time()\n",
    "print('--------------------------------------')\n",
    "j=3\n",
    "print('\\nj = {:2d}  - theta = {}'.format(j, th[j]))\n",
    "print('--------------------------------------')\n",
    "x = []\n",
    "try:\n",
    "    for k in range(0, 10):\n",
    "        print('\\nk = {:2d}'.format(k))\n",
    "        qr = qiskit.QuantumRegister(6); qc = qiskit.QuantumCircuit(qr)\n",
    "        #\n",
    "        # Circuito\n",
    "        #\n",
    "        qc_QCRWZ_in_ = qc_QCRWZ_in(th[j]); qc.append(qc_QCRWZ_in_, [qr[0],qr[1],qr[2],qr[3],qr[4],qr[5]])\n",
    "        #\n",
    "        # Tomography\n",
    "        #\n",
    "        qstc = state_tomography_circuits(qc, [qr[5],qr[4],qr[3],qr[1]])  # rho_AbWZ qr[5],qr[4],qr[3],qr[1]\n",
    "        job = qiskit.execute(qstc, backend = device, shots=nshots)\n",
    "        job_monitor(job)\n",
    "        print(time.strftime(\"%Y-%m-%d - %H:%M:%S\", time.localtime(time.time())))\n",
    "        print(job.job_id())\n",
    "        x.append(job.job_id())\n",
    "        qstf = StateTomographyFitter(job.result(), qstc)\n",
    "        print('k = {:2d}'.format(k))\n",
    "except:\n",
    "    print(\"\\n\\nErro detectado: \", sys.exc_info()[1])\n",
    "winsound.Beep(1000, 200)   # Frequência de 1000 Hz e duração de 200 ms\n",
    "winsound.Beep(1000, 200)   # Frequência de 1000 Hz e duração de 200 ms\n",
    "winsound.Beep(1000, 200)   # Frequência de 1000 Hz e duração de 200 ms\n",
    "winsound.Beep(1000, 1000)  # Frequência de 1000 Hz e duração de 200 ms\n",
    "end_time = time.time()\n",
    "winsound.Beep(1000, 1000)  # Frequência de 1000 Hz e duração de 200 ms\n",
    "winsound.Beep(1000, 200)   # Frequência de 1000 Hz e duração de 200 ms\n",
    "winsound.Beep(1000, 200)   # Frequência de 1000 Hz e duração de 200 ms\n",
    "winsound.Beep(1000, 200)   # Frequência de 1000 Hz e duração de 200 ms\n",
    "#\n",
    "#\n",
    "#\n",
    "print(time.strftime(\"\\n%Y-%m-%d - %H:%M:%S\\n\", time.localtime(time.time())))\n",
    "#\n",
    "#\n",
    "#\n",
    "if len(x)==10:\n",
    "    jobs_ids_WZ_in.append(x)"
   ]
  },
  {
   "cell_type": "code",
   "execution_count": 37,
   "id": "0a9418ae",
   "metadata": {},
   "outputs": [
    {
     "name": "stdout",
     "output_type": "stream",
     "text": [
      "Tempo de execução: 7169.81 segundos\n",
      "Tempo de execução: 119.5 minutos\n",
      "Tempo de execução: 1.99 horas\n"
     ]
    }
   ],
   "source": [
    "execution_time_seg = end_time - start_time\n",
    "print(\"Tempo de execução:\", round(execution_time_seg, 2), \"segundos\")\n",
    "execution_time_min = execution_time_seg/60\n",
    "print(\"Tempo de execução:\", round(execution_time_min, 2), \"minutos\")\n",
    "execution_time_h = execution_time_min/60\n",
    "print(\"Tempo de execução:\", round(execution_time_h, 2), \"horas\")"
   ]
  },
  {
   "cell_type": "code",
   "execution_count": 38,
   "id": "6665debd",
   "metadata": {},
   "outputs": [
    {
     "data": {
      "text/plain": [
       "['ci22st2lnlj7iia6fc30',\n",
       " 'ci231qm1o26hu332lip0',\n",
       " 'ci236vp3lqnvrkpd7jt0',\n",
       " 'ci23c7ekcccjrh1p90rg',\n",
       " 'ci23hc13lqnvrkpdgelg',\n",
       " 'ci23n0m1o26hu3337d9g',\n",
       " 'ci23vhm1o26hu333e2ug',\n",
       " 'ci245r13lqnvrkpe170g',\n",
       " 'ci24beoihcilpv74cdjg',\n",
       " 'ci24flalnlj7iia7olq0']"
      ]
     },
     "execution_count": 38,
     "metadata": {},
     "output_type": "execute_result"
    }
   ],
   "source": [
    "x"
   ]
  },
  {
   "cell_type": "code",
   "execution_count": 39,
   "id": "56be3756",
   "metadata": {
    "scrolled": false
   },
   "outputs": [
    {
     "data": {
      "text/plain": [
       "[['chtmtc391dmpcngq33t0',\n",
       "  'chtnbsj91dmpcngqeai0',\n",
       "  'chtnfbpvrup8981la8n0',\n",
       "  'chtniq2i3durlgr0fro0',\n",
       "  'chto4o3gsimdkuls5fm0',\n",
       "  'chto7c3gsimdkuls7ef0',\n",
       "  'chtonkhoq2qn3r254820',\n",
       "  'chtoqt8recnk2p4o2e10',\n",
       "  'chtotb8recnk2p4o4gog',\n",
       "  'chtovj9oq2qn3r25b3ig'],\n",
       " ['chtpp1b91dmpcngsb7ag',\n",
       "  'chtq6lai3durlgr2epv0',\n",
       "  'chtqbjjgsimdkultrnb0',\n",
       "  'chtqibhvrup8981nqia0',\n",
       "  'chtqnf0recnk2p4pg5hg',\n",
       "  'chtqrfii3durlgr2uus0',\n",
       "  'chull7b91dmpcnhkg4cg',\n",
       "  'chulpqqi3durlgrq33g0',\n",
       "  'chultopoq2qn3r2uf460',\n",
       "  'chum3grgsimdkumm4il0'],\n",
       " ['churdspoq2qn3r330ic0',\n",
       "  'churiqjgsimdkumqlof0',\n",
       "  'churmn2i3durlgrurgmg',\n",
       "  'churqnj91dmpcnhpi9t0',\n",
       "  'churue1vrup8982lkdug',\n",
       "  'chus8jqi3durlgrv8s90',\n",
       "  'chusg91vrup8982m2h00',\n",
       "  'chusk1hvrup8982m5gfg',\n",
       "  'chuso7hoq2qn3r3413fg',\n",
       "  'chut9thoq2qn3r34dgg0'],\n",
       " ['chutdpj91dmpcnhqn1vg',\n",
       "  'chuthg391dmpcnhqpqq0',\n",
       "  'chutl5qi3durlgs08e20',\n",
       "  'chutp2grecnk2p5nn6b0',\n",
       "  'chuu1apoq2qn3r350v10',\n",
       "  'chuu9n8recnk2p5o5glg',\n",
       "  'chuudtii3durlgs0t2vg',\n",
       "  'chv5k6bekvbiqafbeeq0',\n",
       "  'chvc51apvii3c2pval1g',\n",
       "  'chvig9f2rsd594vnjja0'],\n",
       " ['chvp7falnlj7ii800820',\n",
       "  'ci05170ihcilpv54nt4g',\n",
       "  'ci05uv13lqnvrkvb82e0',\n",
       "  'ci06umilnlj7ii8at3mg',\n",
       "  'ci07dtoihcilpv56ishg',\n",
       "  'ci0b40ukcccjrh008ugg',\n",
       "  'ci0erdgihcilpv5f8s4g',\n",
       "  'ci0n4g6kcccjrh0bl790',\n",
       "  'ci0uetm1o26hu31u82t0',\n",
       "  'ci12rl8ihcilpv6460tg'],\n",
       " ['ci19au9cinbchsh0f1cg',\n",
       "  'ci1ag3u1o26hu329a2qg',\n",
       "  'ci1bnfh3lqnvrkokckig',\n",
       "  'ci1cqe1cinbchsh3hvo0',\n",
       "  'ci1h0vekcccjrh17fql0',\n",
       "  'ci1j6s8ihcilpv6k1d40',\n",
       "  'ci1kv3e1o26hu32l4fpg',\n",
       "  'ci1okru1o26hu32pf0hg',\n",
       "  'ci1pohhcinbchshi6seg',\n",
       "  'ci1s0malnlj7iia0kv0g'],\n",
       " ['ci22st2lnlj7iia6fc30',\n",
       "  'ci231qm1o26hu332lip0',\n",
       "  'ci236vp3lqnvrkpd7jt0',\n",
       "  'ci23c7ekcccjrh1p90rg',\n",
       "  'ci23hc13lqnvrkpdgelg',\n",
       "  'ci23n0m1o26hu3337d9g',\n",
       "  'ci23vhm1o26hu333e2ug',\n",
       "  'ci245r13lqnvrkpe170g',\n",
       "  'ci24beoihcilpv74cdjg',\n",
       "  'ci24flalnlj7iia7olq0']]"
      ]
     },
     "execution_count": 39,
     "metadata": {},
     "output_type": "execute_result"
    }
   ],
   "source": [
    "jobs_ids_WZ_in"
   ]
  },
  {
   "cell_type": "code",
   "execution_count": null,
   "id": "2429b107",
   "metadata": {},
   "outputs": [],
   "source": []
  },
  {
   "cell_type": "code",
   "execution_count": 40,
   "id": "2c494866",
   "metadata": {
    "scrolled": false
   },
   "outputs": [
    {
     "name": "stdout",
     "output_type": "stream",
     "text": [
      "ibm_nairobi\n",
      "\n",
      "2023-06-10 - 11:01:20\n",
      "\n",
      "--------------------------------------\n",
      "\n",
      "j =  2  - theta = 0.3231592653589793\n",
      "--------------------------------------\n",
      "\n",
      "k =  0\n",
      "Job Status: job has successfully run\n",
      "2023-06-10 - 11:11:24\n",
      "ci284dpcinbchshurphg\n",
      "k =  0\n",
      "\n",
      "k =  1\n",
      "Job Status: job has successfully run\n",
      "2023-06-10 - 11:29:16\n",
      "ci28949cinbchshuvjeg\n",
      "k =  1\n",
      "\n",
      "k =  2\n",
      "Job Status: job has successfully run\n",
      "2023-06-10 - 11:36:54\n",
      "ci28hge1o26hu337deog\n",
      "k =  2\n",
      "\n",
      "k =  3\n",
      "Job Status: job has successfully run\n",
      "2023-06-10 - 11:46:23\n",
      "ci28l2oihcilpv783d40\n",
      "k =  3\n",
      "\n",
      "k =  4\n",
      "Job Status: job has successfully run\n",
      "2023-06-10 - 11:57:39\n",
      "ci28phekcccjrh1tttr0\n",
      "k =  4\n",
      "\n",
      "k =  5\n",
      "Job Status: job has successfully run\n",
      "2023-06-10 - 12:05:25\n",
      "ci28uq8ihcilpv78aqlg\n",
      "k =  5\n",
      "\n",
      "k =  6\n",
      "Job Status: job has successfully run\n",
      "2023-06-10 - 12:24:26\n",
      "ci292eukcccjrh1u4p30\n",
      "k =  6\n",
      "\n",
      "k =  7\n",
      "Job Status: job has successfully run\n",
      "2023-06-10 - 12:43:48\n",
      "ci29bc6kcccjrh1uc2mg\n",
      "k =  7\n",
      "\n",
      "k =  8\n",
      "Job Status: job has successfully run\n",
      "2023-06-10 - 13:02:55\n",
      "ci29kehcinbchsi027n0\n",
      "k =  8\n",
      "\n",
      "k =  9\n",
      "Job Status: job has successfully run\n",
      "2023-06-10 - 13:16:37\n",
      "ci29td93lqnvrkpj0glg\n",
      "k =  9\n",
      "\n",
      "2023-06-10 - 13:16:43\n",
      "\n"
     ]
    }
   ],
   "source": [
    "print(device)\n",
    "print(time.strftime(\"\\n%Y-%m-%d - %H:%M:%S\\n\", time.localtime(time.time())))\n",
    "start_time = time.time()\n",
    "print('--------------------------------------')\n",
    "j=2\n",
    "print('\\nj = {:2d}  - theta = {}'.format(j, th[j]))\n",
    "print('--------------------------------------')\n",
    "x = []\n",
    "try:\n",
    "    for k in range(0, 10):\n",
    "        print('\\nk = {:2d}'.format(k))\n",
    "        qr = qiskit.QuantumRegister(6); qc = qiskit.QuantumCircuit(qr)\n",
    "        #\n",
    "        # Circuito\n",
    "        #\n",
    "        qc_QCRWZ_in_ = qc_QCRWZ_in(th[j]); qc.append(qc_QCRWZ_in_, [qr[0],qr[1],qr[2],qr[3],qr[4],qr[5]])\n",
    "        #\n",
    "        # Tomography\n",
    "        #\n",
    "        qstc = state_tomography_circuits(qc, [qr[5],qr[4],qr[3],qr[1]])  # rho_AbWZ qr[5],qr[4],qr[3],qr[1]\n",
    "        job = qiskit.execute(qstc, backend = device, shots=nshots)\n",
    "        job_monitor(job)\n",
    "        print(time.strftime(\"%Y-%m-%d - %H:%M:%S\", time.localtime(time.time())))\n",
    "        print(job.job_id())\n",
    "        x.append(job.job_id())\n",
    "        qstf = StateTomographyFitter(job.result(), qstc)\n",
    "        print('k = {:2d}'.format(k))\n",
    "except:\n",
    "    print(\"\\n\\nErro detectado: \", sys.exc_info()[1])\n",
    "winsound.Beep(1000, 200)   # Frequência de 1000 Hz e duração de 200 ms\n",
    "winsound.Beep(1000, 200)   # Frequência de 1000 Hz e duração de 200 ms\n",
    "winsound.Beep(1000, 200)   # Frequência de 1000 Hz e duração de 200 ms\n",
    "winsound.Beep(1000, 1000)  # Frequência de 1000 Hz e duração de 200 ms\n",
    "end_time = time.time()\n",
    "winsound.Beep(1000, 1000)  # Frequência de 1000 Hz e duração de 200 ms\n",
    "winsound.Beep(1000, 200)   # Frequência de 1000 Hz e duração de 200 ms\n",
    "winsound.Beep(1000, 200)   # Frequência de 1000 Hz e duração de 200 ms\n",
    "winsound.Beep(1000, 200)   # Frequência de 1000 Hz e duração de 200 ms\n",
    "#\n",
    "#\n",
    "#\n",
    "print(time.strftime(\"\\n%Y-%m-%d - %H:%M:%S\\n\", time.localtime(time.time())))\n",
    "#\n",
    "#\n",
    "#\n",
    "if len(x)==10:\n",
    "    jobs_ids_WZ_in.append(x)"
   ]
  },
  {
   "cell_type": "code",
   "execution_count": 41,
   "id": "e0e1c276",
   "metadata": {},
   "outputs": [
    {
     "name": "stdout",
     "output_type": "stream",
     "text": [
      "Tempo de execução: 8121.33 segundos\n",
      "Tempo de execução: 135.36 minutos\n",
      "Tempo de execução: 2.26 horas\n"
     ]
    }
   ],
   "source": [
    "execution_time_seg = end_time - start_time\n",
    "print(\"Tempo de execução:\", round(execution_time_seg, 2), \"segundos\")\n",
    "execution_time_min = execution_time_seg/60\n",
    "print(\"Tempo de execução:\", round(execution_time_min, 2), \"minutos\")\n",
    "execution_time_h = execution_time_min/60\n",
    "print(\"Tempo de execução:\", round(execution_time_h, 2), \"horas\")"
   ]
  },
  {
   "cell_type": "code",
   "execution_count": 42,
   "id": "6164de34",
   "metadata": {},
   "outputs": [
    {
     "data": {
      "text/plain": [
       "['ci284dpcinbchshurphg',\n",
       " 'ci28949cinbchshuvjeg',\n",
       " 'ci28hge1o26hu337deog',\n",
       " 'ci28l2oihcilpv783d40',\n",
       " 'ci28phekcccjrh1tttr0',\n",
       " 'ci28uq8ihcilpv78aqlg',\n",
       " 'ci292eukcccjrh1u4p30',\n",
       " 'ci29bc6kcccjrh1uc2mg',\n",
       " 'ci29kehcinbchsi027n0',\n",
       " 'ci29td93lqnvrkpj0glg']"
      ]
     },
     "execution_count": 42,
     "metadata": {},
     "output_type": "execute_result"
    }
   ],
   "source": [
    "x"
   ]
  },
  {
   "cell_type": "code",
   "execution_count": 43,
   "id": "c8d80a5b",
   "metadata": {
    "scrolled": false
   },
   "outputs": [
    {
     "data": {
      "text/plain": [
       "[['chtmtc391dmpcngq33t0',\n",
       "  'chtnbsj91dmpcngqeai0',\n",
       "  'chtnfbpvrup8981la8n0',\n",
       "  'chtniq2i3durlgr0fro0',\n",
       "  'chto4o3gsimdkuls5fm0',\n",
       "  'chto7c3gsimdkuls7ef0',\n",
       "  'chtonkhoq2qn3r254820',\n",
       "  'chtoqt8recnk2p4o2e10',\n",
       "  'chtotb8recnk2p4o4gog',\n",
       "  'chtovj9oq2qn3r25b3ig'],\n",
       " ['chtpp1b91dmpcngsb7ag',\n",
       "  'chtq6lai3durlgr2epv0',\n",
       "  'chtqbjjgsimdkultrnb0',\n",
       "  'chtqibhvrup8981nqia0',\n",
       "  'chtqnf0recnk2p4pg5hg',\n",
       "  'chtqrfii3durlgr2uus0',\n",
       "  'chull7b91dmpcnhkg4cg',\n",
       "  'chulpqqi3durlgrq33g0',\n",
       "  'chultopoq2qn3r2uf460',\n",
       "  'chum3grgsimdkumm4il0'],\n",
       " ['churdspoq2qn3r330ic0',\n",
       "  'churiqjgsimdkumqlof0',\n",
       "  'churmn2i3durlgrurgmg',\n",
       "  'churqnj91dmpcnhpi9t0',\n",
       "  'churue1vrup8982lkdug',\n",
       "  'chus8jqi3durlgrv8s90',\n",
       "  'chusg91vrup8982m2h00',\n",
       "  'chusk1hvrup8982m5gfg',\n",
       "  'chuso7hoq2qn3r3413fg',\n",
       "  'chut9thoq2qn3r34dgg0'],\n",
       " ['chutdpj91dmpcnhqn1vg',\n",
       "  'chuthg391dmpcnhqpqq0',\n",
       "  'chutl5qi3durlgs08e20',\n",
       "  'chutp2grecnk2p5nn6b0',\n",
       "  'chuu1apoq2qn3r350v10',\n",
       "  'chuu9n8recnk2p5o5glg',\n",
       "  'chuudtii3durlgs0t2vg',\n",
       "  'chv5k6bekvbiqafbeeq0',\n",
       "  'chvc51apvii3c2pval1g',\n",
       "  'chvig9f2rsd594vnjja0'],\n",
       " ['chvp7falnlj7ii800820',\n",
       "  'ci05170ihcilpv54nt4g',\n",
       "  'ci05uv13lqnvrkvb82e0',\n",
       "  'ci06umilnlj7ii8at3mg',\n",
       "  'ci07dtoihcilpv56ishg',\n",
       "  'ci0b40ukcccjrh008ugg',\n",
       "  'ci0erdgihcilpv5f8s4g',\n",
       "  'ci0n4g6kcccjrh0bl790',\n",
       "  'ci0uetm1o26hu31u82t0',\n",
       "  'ci12rl8ihcilpv6460tg'],\n",
       " ['ci19au9cinbchsh0f1cg',\n",
       "  'ci1ag3u1o26hu329a2qg',\n",
       "  'ci1bnfh3lqnvrkokckig',\n",
       "  'ci1cqe1cinbchsh3hvo0',\n",
       "  'ci1h0vekcccjrh17fql0',\n",
       "  'ci1j6s8ihcilpv6k1d40',\n",
       "  'ci1kv3e1o26hu32l4fpg',\n",
       "  'ci1okru1o26hu32pf0hg',\n",
       "  'ci1pohhcinbchshi6seg',\n",
       "  'ci1s0malnlj7iia0kv0g'],\n",
       " ['ci22st2lnlj7iia6fc30',\n",
       "  'ci231qm1o26hu332lip0',\n",
       "  'ci236vp3lqnvrkpd7jt0',\n",
       "  'ci23c7ekcccjrh1p90rg',\n",
       "  'ci23hc13lqnvrkpdgelg',\n",
       "  'ci23n0m1o26hu3337d9g',\n",
       "  'ci23vhm1o26hu333e2ug',\n",
       "  'ci245r13lqnvrkpe170g',\n",
       "  'ci24beoihcilpv74cdjg',\n",
       "  'ci24flalnlj7iia7olq0'],\n",
       " ['ci284dpcinbchshurphg',\n",
       "  'ci28949cinbchshuvjeg',\n",
       "  'ci28hge1o26hu337deog',\n",
       "  'ci28l2oihcilpv783d40',\n",
       "  'ci28phekcccjrh1tttr0',\n",
       "  'ci28uq8ihcilpv78aqlg',\n",
       "  'ci292eukcccjrh1u4p30',\n",
       "  'ci29bc6kcccjrh1uc2mg',\n",
       "  'ci29kehcinbchsi027n0',\n",
       "  'ci29td93lqnvrkpj0glg']]"
      ]
     },
     "execution_count": 43,
     "metadata": {},
     "output_type": "execute_result"
    }
   ],
   "source": [
    "jobs_ids_WZ_in"
   ]
  },
  {
   "cell_type": "code",
   "execution_count": null,
   "id": "e3ad5a5b",
   "metadata": {},
   "outputs": [],
   "source": []
  },
  {
   "cell_type": "code",
   "execution_count": 44,
   "id": "699bcd56",
   "metadata": {
    "scrolled": false
   },
   "outputs": [
    {
     "name": "stdout",
     "output_type": "stream",
     "text": [
      "ibm_nairobi\n",
      "\n",
      "2023-06-10 - 13:16:43\n",
      "\n",
      "--------------------------------------\n",
      "\n",
      "j =  1  - theta = 0.16657963267948966\n",
      "--------------------------------------\n",
      "\n",
      "k =  0\n",
      "Job Status: job has successfully run\n",
      "2023-06-10 - 13:50:11\n",
      "ci2a3s1cinbchsi0e7jg\n",
      "k =  0\n",
      "\n",
      "k =  1\n",
      "Job Status: job has successfully run\n",
      "2023-06-10 - 14:08:09\n",
      "ci2ajj2lnlj7iiacrrl0\n",
      "k =  1\n",
      "\n",
      "k =  2\n",
      "Job Status: job has successfully run\n",
      "2023-06-10 - 20:54:43\n",
      "ci2arvoihcilpv79sk1g\n",
      "k =  2\n",
      "\n",
      "k =  3\n",
      "Job Status: job has successfully run\n",
      "2023-06-11 - 04:21:33\n",
      "ci2gqi9cinbchsi6jjog\n",
      "k =  3\n",
      "\n",
      "k =  4\n",
      "Job Status: job has successfully run\n",
      "2023-06-11 - 06:49:36\n",
      "ci2nc11cinbchsibcojg\n",
      "k =  4\n",
      "\n",
      "k =  5\n",
      "Job Status: job has successfully run\n",
      "2023-06-11 - 06:57:21\n",
      "ci2phdu1o26hu33lajg0\n",
      "k =  5\n",
      "\n",
      "k =  6\n",
      "Job Status: job is actively running\n",
      "\n",
      "Erro detectado:  'status'\n",
      "\n",
      "2023-06-11 - 11:18:40\n",
      "\n"
     ]
    }
   ],
   "source": [
    "print(device)\n",
    "print(time.strftime(\"\\n%Y-%m-%d - %H:%M:%S\\n\", time.localtime(time.time())))\n",
    "start_time = time.time()\n",
    "print('--------------------------------------')\n",
    "j=1\n",
    "print('\\nj = {:2d}  - theta = {}'.format(j, th[j]))\n",
    "print('--------------------------------------')\n",
    "x = []\n",
    "try:\n",
    "    for k in range(0, 10):\n",
    "        print('\\nk = {:2d}'.format(k))\n",
    "        qr = qiskit.QuantumRegister(6); qc = qiskit.QuantumCircuit(qr)\n",
    "        #\n",
    "        # Circuito\n",
    "        #\n",
    "        qc_QCRWZ_in_ = qc_QCRWZ_in(th[j]); qc.append(qc_QCRWZ_in_, [qr[0],qr[1],qr[2],qr[3],qr[4],qr[5]])\n",
    "        #\n",
    "        # Tomography\n",
    "        #\n",
    "        qstc = state_tomography_circuits(qc, [qr[5],qr[4],qr[3],qr[1]])  # rho_AbWZ qr[5],qr[4],qr[3],qr[1]\n",
    "        job = qiskit.execute(qstc, backend = device, shots=nshots)\n",
    "        job_monitor(job)\n",
    "        print(time.strftime(\"%Y-%m-%d - %H:%M:%S\", time.localtime(time.time())))\n",
    "        print(job.job_id())\n",
    "        x.append(job.job_id())\n",
    "        qstf = StateTomographyFitter(job.result(), qstc)\n",
    "        print('k = {:2d}'.format(k))\n",
    "except:\n",
    "    print(\"\\n\\nErro detectado: \", sys.exc_info()[1])\n",
    "winsound.Beep(1000, 200)   # Frequência de 1000 Hz e duração de 200 ms\n",
    "winsound.Beep(1000, 200)   # Frequência de 1000 Hz e duração de 200 ms\n",
    "winsound.Beep(1000, 200)   # Frequência de 1000 Hz e duração de 200 ms\n",
    "winsound.Beep(1000, 1000)  # Frequência de 1000 Hz e duração de 200 ms\n",
    "end_time = time.time()\n",
    "winsound.Beep(1000, 1000)  # Frequência de 1000 Hz e duração de 200 ms\n",
    "winsound.Beep(1000, 200)   # Frequência de 1000 Hz e duração de 200 ms\n",
    "winsound.Beep(1000, 200)   # Frequência de 1000 Hz e duração de 200 ms\n",
    "winsound.Beep(1000, 200)   # Frequência de 1000 Hz e duração de 200 ms\n",
    "#\n",
    "#\n",
    "#\n",
    "print(time.strftime(\"\\n%Y-%m-%d - %H:%M:%S\\n\", time.localtime(time.time())))\n",
    "#\n",
    "#\n",
    "#\n",
    "if len(x)==10:\n",
    "    jobs_ids_WZ_in.append(x)"
   ]
  },
  {
   "cell_type": "code",
   "execution_count": 45,
   "id": "b156c1a6",
   "metadata": {},
   "outputs": [
    {
     "name": "stdout",
     "output_type": "stream",
     "text": [
      "Tempo de execução: 79315.16 segundos\n",
      "Tempo de execução: 1321.92 minutos\n",
      "Tempo de execução: 22.03 horas\n"
     ]
    }
   ],
   "source": [
    "execution_time_seg = end_time - start_time\n",
    "print(\"Tempo de execução:\", round(execution_time_seg, 2), \"segundos\")\n",
    "execution_time_min = execution_time_seg/60\n",
    "print(\"Tempo de execução:\", round(execution_time_min, 2), \"minutos\")\n",
    "execution_time_h = execution_time_min/60\n",
    "print(\"Tempo de execução:\", round(execution_time_h, 2), \"horas\")"
   ]
  },
  {
   "cell_type": "code",
   "execution_count": 46,
   "id": "0d4282c2",
   "metadata": {},
   "outputs": [
    {
     "data": {
      "text/plain": [
       "['ci2a3s1cinbchsi0e7jg',\n",
       " 'ci2ajj2lnlj7iiacrrl0',\n",
       " 'ci2arvoihcilpv79sk1g',\n",
       " 'ci2gqi9cinbchsi6jjog',\n",
       " 'ci2nc11cinbchsibcojg',\n",
       " 'ci2phdu1o26hu33lajg0']"
      ]
     },
     "execution_count": 46,
     "metadata": {},
     "output_type": "execute_result"
    }
   ],
   "source": [
    "x"
   ]
  },
  {
   "cell_type": "code",
   "execution_count": 47,
   "id": "c534c07e",
   "metadata": {
    "scrolled": true
   },
   "outputs": [
    {
     "data": {
      "text/plain": [
       "[['chtmtc391dmpcngq33t0',\n",
       "  'chtnbsj91dmpcngqeai0',\n",
       "  'chtnfbpvrup8981la8n0',\n",
       "  'chtniq2i3durlgr0fro0',\n",
       "  'chto4o3gsimdkuls5fm0',\n",
       "  'chto7c3gsimdkuls7ef0',\n",
       "  'chtonkhoq2qn3r254820',\n",
       "  'chtoqt8recnk2p4o2e10',\n",
       "  'chtotb8recnk2p4o4gog',\n",
       "  'chtovj9oq2qn3r25b3ig'],\n",
       " ['chtpp1b91dmpcngsb7ag',\n",
       "  'chtq6lai3durlgr2epv0',\n",
       "  'chtqbjjgsimdkultrnb0',\n",
       "  'chtqibhvrup8981nqia0',\n",
       "  'chtqnf0recnk2p4pg5hg',\n",
       "  'chtqrfii3durlgr2uus0',\n",
       "  'chull7b91dmpcnhkg4cg',\n",
       "  'chulpqqi3durlgrq33g0',\n",
       "  'chultopoq2qn3r2uf460',\n",
       "  'chum3grgsimdkumm4il0'],\n",
       " ['churdspoq2qn3r330ic0',\n",
       "  'churiqjgsimdkumqlof0',\n",
       "  'churmn2i3durlgrurgmg',\n",
       "  'churqnj91dmpcnhpi9t0',\n",
       "  'churue1vrup8982lkdug',\n",
       "  'chus8jqi3durlgrv8s90',\n",
       "  'chusg91vrup8982m2h00',\n",
       "  'chusk1hvrup8982m5gfg',\n",
       "  'chuso7hoq2qn3r3413fg',\n",
       "  'chut9thoq2qn3r34dgg0'],\n",
       " ['chutdpj91dmpcnhqn1vg',\n",
       "  'chuthg391dmpcnhqpqq0',\n",
       "  'chutl5qi3durlgs08e20',\n",
       "  'chutp2grecnk2p5nn6b0',\n",
       "  'chuu1apoq2qn3r350v10',\n",
       "  'chuu9n8recnk2p5o5glg',\n",
       "  'chuudtii3durlgs0t2vg',\n",
       "  'chv5k6bekvbiqafbeeq0',\n",
       "  'chvc51apvii3c2pval1g',\n",
       "  'chvig9f2rsd594vnjja0'],\n",
       " ['chvp7falnlj7ii800820',\n",
       "  'ci05170ihcilpv54nt4g',\n",
       "  'ci05uv13lqnvrkvb82e0',\n",
       "  'ci06umilnlj7ii8at3mg',\n",
       "  'ci07dtoihcilpv56ishg',\n",
       "  'ci0b40ukcccjrh008ugg',\n",
       "  'ci0erdgihcilpv5f8s4g',\n",
       "  'ci0n4g6kcccjrh0bl790',\n",
       "  'ci0uetm1o26hu31u82t0',\n",
       "  'ci12rl8ihcilpv6460tg'],\n",
       " ['ci19au9cinbchsh0f1cg',\n",
       "  'ci1ag3u1o26hu329a2qg',\n",
       "  'ci1bnfh3lqnvrkokckig',\n",
       "  'ci1cqe1cinbchsh3hvo0',\n",
       "  'ci1h0vekcccjrh17fql0',\n",
       "  'ci1j6s8ihcilpv6k1d40',\n",
       "  'ci1kv3e1o26hu32l4fpg',\n",
       "  'ci1okru1o26hu32pf0hg',\n",
       "  'ci1pohhcinbchshi6seg',\n",
       "  'ci1s0malnlj7iia0kv0g'],\n",
       " ['ci22st2lnlj7iia6fc30',\n",
       "  'ci231qm1o26hu332lip0',\n",
       "  'ci236vp3lqnvrkpd7jt0',\n",
       "  'ci23c7ekcccjrh1p90rg',\n",
       "  'ci23hc13lqnvrkpdgelg',\n",
       "  'ci23n0m1o26hu3337d9g',\n",
       "  'ci23vhm1o26hu333e2ug',\n",
       "  'ci245r13lqnvrkpe170g',\n",
       "  'ci24beoihcilpv74cdjg',\n",
       "  'ci24flalnlj7iia7olq0'],\n",
       " ['ci284dpcinbchshurphg',\n",
       "  'ci28949cinbchshuvjeg',\n",
       "  'ci28hge1o26hu337deog',\n",
       "  'ci28l2oihcilpv783d40',\n",
       "  'ci28phekcccjrh1tttr0',\n",
       "  'ci28uq8ihcilpv78aqlg',\n",
       "  'ci292eukcccjrh1u4p30',\n",
       "  'ci29bc6kcccjrh1uc2mg',\n",
       "  'ci29kehcinbchsi027n0',\n",
       "  'ci29td93lqnvrkpj0glg']]"
      ]
     },
     "execution_count": 47,
     "metadata": {},
     "output_type": "execute_result"
    }
   ],
   "source": [
    "jobs_ids_WZ_in"
   ]
  },
  {
   "cell_type": "code",
   "execution_count": null,
   "id": "8827a7ff",
   "metadata": {},
   "outputs": [],
   "source": []
  },
  {
   "cell_type": "code",
   "execution_count": 52,
   "id": "bae346b7",
   "metadata": {
    "scrolled": false
   },
   "outputs": [
    {
     "name": "stdout",
     "output_type": "stream",
     "text": [
      "ibm_nairobi\n",
      "\n",
      "2023-06-11 - 21:22:40\n",
      "\n",
      "--------------------------------------\n",
      "\n",
      "j =  1  - theta = 0.16657963267948966\n",
      "--------------------------------------\n",
      "\n",
      "k =  6\n",
      "Job Status: job has successfully run\n",
      "2023-06-11 - 23:20:13\n",
      "ci36am6kcccjrh2kg75g\n",
      "k =  6\n",
      "\n",
      "k =  7\n",
      "Job Status: job has successfully run\n",
      "2023-06-11 - 23:28:06\n",
      "ci381pe1o26hu33vdie0\n",
      "k =  7\n",
      "\n",
      "k =  8\n",
      "Job Status: job has successfully run\n",
      "2023-06-11 - 23:35:50\n",
      "ci385eukcccjrh2lndhg\n",
      "k =  8\n",
      "\n",
      "k =  9\n",
      "Job Status: job has successfully run\n",
      "2023-06-11 - 23:43:27\n",
      "ci3892qlnlj7iib2qgh0\n",
      "k =  9\n",
      "\n",
      "2023-06-11 - 23:43:32\n",
      "\n"
     ]
    }
   ],
   "source": [
    "print(device)\n",
    "print(time.strftime(\"\\n%Y-%m-%d - %H:%M:%S\\n\", time.localtime(time.time())))\n",
    "start_time = time.time()\n",
    "print('--------------------------------------')\n",
    "j=1\n",
    "print('\\nj = {:2d}  - theta = {}'.format(j, th[j]))\n",
    "print('--------------------------------------')\n",
    "#x = []\n",
    "try:\n",
    "    for k in range(6, 10):\n",
    "        print('\\nk = {:2d}'.format(k))\n",
    "        qr = qiskit.QuantumRegister(6); qc = qiskit.QuantumCircuit(qr)\n",
    "        #\n",
    "        # Circuito\n",
    "        #\n",
    "        qc_QCRWZ_in_ = qc_QCRWZ_in(th[j]); qc.append(qc_QCRWZ_in_, [qr[0],qr[1],qr[2],qr[3],qr[4],qr[5]])\n",
    "        #\n",
    "        # Tomography\n",
    "        #\n",
    "        qstc = state_tomography_circuits(qc, [qr[5],qr[4],qr[3],qr[1]])  # rho_AbWZ qr[5],qr[4],qr[3],qr[1]\n",
    "        job = qiskit.execute(qstc, backend = device, shots=nshots)\n",
    "        job_monitor(job)\n",
    "        print(time.strftime(\"%Y-%m-%d - %H:%M:%S\", time.localtime(time.time())))\n",
    "        print(job.job_id())\n",
    "        x.append(job.job_id())\n",
    "        qstf = StateTomographyFitter(job.result(), qstc)\n",
    "        print('k = {:2d}'.format(k))\n",
    "except:\n",
    "    print(\"\\n\\nErro detectado: \", sys.exc_info()[1])\n",
    "winsound.Beep(1000, 200)   # Frequência de 1000 Hz e duração de 200 ms\n",
    "winsound.Beep(1000, 200)   # Frequência de 1000 Hz e duração de 200 ms\n",
    "winsound.Beep(1000, 200)   # Frequência de 1000 Hz e duração de 200 ms\n",
    "winsound.Beep(1000, 1000)  # Frequência de 1000 Hz e duração de 200 ms\n",
    "end_time = time.time()\n",
    "winsound.Beep(1000, 1000)  # Frequência de 1000 Hz e duração de 200 ms\n",
    "winsound.Beep(1000, 200)   # Frequência de 1000 Hz e duração de 200 ms\n",
    "winsound.Beep(1000, 200)   # Frequência de 1000 Hz e duração de 200 ms\n",
    "winsound.Beep(1000, 200)   # Frequência de 1000 Hz e duração de 200 ms\n",
    "#\n",
    "#\n",
    "#\n",
    "print(time.strftime(\"\\n%Y-%m-%d - %H:%M:%S\\n\", time.localtime(time.time())))\n",
    "#\n",
    "#\n",
    "#\n",
    "if len(x)==10:\n",
    "    jobs_ids_WZ_in.append(x)"
   ]
  },
  {
   "cell_type": "code",
   "execution_count": 53,
   "id": "42d83bef",
   "metadata": {},
   "outputs": [
    {
     "name": "stdout",
     "output_type": "stream",
     "text": [
      "Tempo de execução: 8450.33 segundos\n",
      "Tempo de execução: 140.84 minutos\n",
      "Tempo de execução: 2.35 horas\n"
     ]
    }
   ],
   "source": [
    "execution_time_seg = end_time - start_time\n",
    "print(\"Tempo de execução:\", round(execution_time_seg, 2), \"segundos\")\n",
    "execution_time_min = execution_time_seg/60\n",
    "print(\"Tempo de execução:\", round(execution_time_min, 2), \"minutos\")\n",
    "execution_time_h = execution_time_min/60\n",
    "print(\"Tempo de execução:\", round(execution_time_h, 2), \"horas\")"
   ]
  },
  {
   "cell_type": "code",
   "execution_count": 46,
   "id": "570e8c9f",
   "metadata": {},
   "outputs": [
    {
     "data": {
      "text/plain": [
       "['ci2a3s1cinbchsi0e7jg',\n",
       " 'ci2ajj2lnlj7iiacrrl0',\n",
       " 'ci2arvoihcilpv79sk1g',\n",
       " 'ci2gqi9cinbchsi6jjog',\n",
       " 'ci2nc11cinbchsibcojg',\n",
       " 'ci2phdu1o26hu33lajg0']"
      ]
     },
     "execution_count": 46,
     "metadata": {},
     "output_type": "execute_result"
    }
   ],
   "source": [
    "x"
   ]
  },
  {
   "cell_type": "code",
   "execution_count": 47,
   "id": "deb4c495",
   "metadata": {
    "scrolled": true
   },
   "outputs": [
    {
     "data": {
      "text/plain": [
       "[['chtmtc391dmpcngq33t0',\n",
       "  'chtnbsj91dmpcngqeai0',\n",
       "  'chtnfbpvrup8981la8n0',\n",
       "  'chtniq2i3durlgr0fro0',\n",
       "  'chto4o3gsimdkuls5fm0',\n",
       "  'chto7c3gsimdkuls7ef0',\n",
       "  'chtonkhoq2qn3r254820',\n",
       "  'chtoqt8recnk2p4o2e10',\n",
       "  'chtotb8recnk2p4o4gog',\n",
       "  'chtovj9oq2qn3r25b3ig'],\n",
       " ['chtpp1b91dmpcngsb7ag',\n",
       "  'chtq6lai3durlgr2epv0',\n",
       "  'chtqbjjgsimdkultrnb0',\n",
       "  'chtqibhvrup8981nqia0',\n",
       "  'chtqnf0recnk2p4pg5hg',\n",
       "  'chtqrfii3durlgr2uus0',\n",
       "  'chull7b91dmpcnhkg4cg',\n",
       "  'chulpqqi3durlgrq33g0',\n",
       "  'chultopoq2qn3r2uf460',\n",
       "  'chum3grgsimdkumm4il0'],\n",
       " ['churdspoq2qn3r330ic0',\n",
       "  'churiqjgsimdkumqlof0',\n",
       "  'churmn2i3durlgrurgmg',\n",
       "  'churqnj91dmpcnhpi9t0',\n",
       "  'churue1vrup8982lkdug',\n",
       "  'chus8jqi3durlgrv8s90',\n",
       "  'chusg91vrup8982m2h00',\n",
       "  'chusk1hvrup8982m5gfg',\n",
       "  'chuso7hoq2qn3r3413fg',\n",
       "  'chut9thoq2qn3r34dgg0'],\n",
       " ['chutdpj91dmpcnhqn1vg',\n",
       "  'chuthg391dmpcnhqpqq0',\n",
       "  'chutl5qi3durlgs08e20',\n",
       "  'chutp2grecnk2p5nn6b0',\n",
       "  'chuu1apoq2qn3r350v10',\n",
       "  'chuu9n8recnk2p5o5glg',\n",
       "  'chuudtii3durlgs0t2vg',\n",
       "  'chv5k6bekvbiqafbeeq0',\n",
       "  'chvc51apvii3c2pval1g',\n",
       "  'chvig9f2rsd594vnjja0'],\n",
       " ['chvp7falnlj7ii800820',\n",
       "  'ci05170ihcilpv54nt4g',\n",
       "  'ci05uv13lqnvrkvb82e0',\n",
       "  'ci06umilnlj7ii8at3mg',\n",
       "  'ci07dtoihcilpv56ishg',\n",
       "  'ci0b40ukcccjrh008ugg',\n",
       "  'ci0erdgihcilpv5f8s4g',\n",
       "  'ci0n4g6kcccjrh0bl790',\n",
       "  'ci0uetm1o26hu31u82t0',\n",
       "  'ci12rl8ihcilpv6460tg'],\n",
       " ['ci19au9cinbchsh0f1cg',\n",
       "  'ci1ag3u1o26hu329a2qg',\n",
       "  'ci1bnfh3lqnvrkokckig',\n",
       "  'ci1cqe1cinbchsh3hvo0',\n",
       "  'ci1h0vekcccjrh17fql0',\n",
       "  'ci1j6s8ihcilpv6k1d40',\n",
       "  'ci1kv3e1o26hu32l4fpg',\n",
       "  'ci1okru1o26hu32pf0hg',\n",
       "  'ci1pohhcinbchshi6seg',\n",
       "  'ci1s0malnlj7iia0kv0g'],\n",
       " ['ci22st2lnlj7iia6fc30',\n",
       "  'ci231qm1o26hu332lip0',\n",
       "  'ci236vp3lqnvrkpd7jt0',\n",
       "  'ci23c7ekcccjrh1p90rg',\n",
       "  'ci23hc13lqnvrkpdgelg',\n",
       "  'ci23n0m1o26hu3337d9g',\n",
       "  'ci23vhm1o26hu333e2ug',\n",
       "  'ci245r13lqnvrkpe170g',\n",
       "  'ci24beoihcilpv74cdjg',\n",
       "  'ci24flalnlj7iia7olq0'],\n",
       " ['ci284dpcinbchshurphg',\n",
       "  'ci28949cinbchshuvjeg',\n",
       "  'ci28hge1o26hu337deog',\n",
       "  'ci28l2oihcilpv783d40',\n",
       "  'ci28phekcccjrh1tttr0',\n",
       "  'ci28uq8ihcilpv78aqlg',\n",
       "  'ci292eukcccjrh1u4p30',\n",
       "  'ci29bc6kcccjrh1uc2mg',\n",
       "  'ci29kehcinbchsi027n0',\n",
       "  'ci29td93lqnvrkpj0glg']]"
      ]
     },
     "execution_count": 47,
     "metadata": {},
     "output_type": "execute_result"
    }
   ],
   "source": [
    "jobs_ids_WZ_in"
   ]
  },
  {
   "cell_type": "code",
   "execution_count": null,
   "id": "03ea31b8",
   "metadata": {},
   "outputs": [],
   "source": []
  },
  {
   "cell_type": "code",
   "execution_count": null,
   "id": "77980eb5",
   "metadata": {},
   "outputs": [],
   "source": []
  },
  {
   "cell_type": "code",
   "execution_count": 48,
   "id": "4b532eac",
   "metadata": {
    "scrolled": false
   },
   "outputs": [
    {
     "name": "stdout",
     "output_type": "stream",
     "text": [
      "ibm_nairobi\n",
      "\n",
      "2023-06-11 - 11:18:40\n",
      "\n",
      "--------------------------------------\n",
      "\n",
      "j =  0  - theta = 0.01\n",
      "--------------------------------------\n",
      "\n",
      "k =  0\n",
      "Job Status: job has successfully run\n",
      "2023-06-11 - 11:46:59\n",
      "ci2tfhhcinbchsig2a3g\n",
      "k =  0\n",
      "\n",
      "k =  1\n",
      "Job Status: job has successfully run\n",
      "2023-06-11 - 12:20:30\n",
      "ci2tsq1cinbchsigaj4g\n",
      "k =  1\n",
      "\n",
      "k =  2\n",
      "Job Status: job has successfully run\n",
      "2023-06-11 - 12:54:03\n",
      "ci2uchoihcilpv7pc790\n",
      "k =  2\n",
      "\n",
      "k =  3\n",
      "Job Status: job is actively running\n",
      "\n",
      "Erro detectado:  'status'\n",
      "\n",
      "2023-06-11 - 17:06:54\n",
      "\n"
     ]
    }
   ],
   "source": [
    "print(device)\n",
    "print(time.strftime(\"\\n%Y-%m-%d - %H:%M:%S\\n\", time.localtime(time.time())))\n",
    "start_time = time.time()\n",
    "print('--------------------------------------')\n",
    "j=0\n",
    "print('\\nj = {:2d}  - theta = {}'.format(j, th[j]))\n",
    "print('--------------------------------------')\n",
    "x = []\n",
    "try:\n",
    "    for k in range(0, 10):\n",
    "        print('\\nk = {:2d}'.format(k))\n",
    "        qr = qiskit.QuantumRegister(6); qc = qiskit.QuantumCircuit(qr)\n",
    "        #\n",
    "        # Circuito\n",
    "        #\n",
    "        qc_QCRWZ_in_ = qc_QCRWZ_in(th[j]); qc.append(qc_QCRWZ_in_, [qr[0],qr[1],qr[2],qr[3],qr[4],qr[5]])\n",
    "        #\n",
    "        # Tomography\n",
    "        #\n",
    "        qstc = state_tomography_circuits(qc, [qr[5],qr[4],qr[3],qr[1]])  # rho_AbWZ qr[5],qr[4],qr[3],qr[1]\n",
    "        job = qiskit.execute(qstc, backend = device, shots=nshots)\n",
    "        job_monitor(job)\n",
    "        print(time.strftime(\"%Y-%m-%d - %H:%M:%S\", time.localtime(time.time())))\n",
    "        print(job.job_id())\n",
    "        x.append(job.job_id())\n",
    "        qstf = StateTomographyFitter(job.result(), qstc)\n",
    "        print('k = {:2d}'.format(k))\n",
    "except:\n",
    "    print(\"\\n\\nErro detectado: \", sys.exc_info()[1])\n",
    "winsound.Beep(1000, 200)   # Frequência de 1000 Hz e duração de 200 ms\n",
    "winsound.Beep(1000, 200)   # Frequência de 1000 Hz e duração de 200 ms\n",
    "winsound.Beep(1000, 200)   # Frequência de 1000 Hz e duração de 200 ms\n",
    "winsound.Beep(1000, 1000)  # Frequência de 1000 Hz e duração de 200 ms\n",
    "end_time = time.time()\n",
    "winsound.Beep(1000, 1000)  # Frequência de 1000 Hz e duração de 200 ms\n",
    "winsound.Beep(1000, 200)   # Frequência de 1000 Hz e duração de 200 ms\n",
    "winsound.Beep(1000, 200)   # Frequência de 1000 Hz e duração de 200 ms\n",
    "winsound.Beep(1000, 200)   # Frequência de 1000 Hz e duração de 200 ms\n",
    "#\n",
    "#\n",
    "#\n",
    "print(time.strftime(\"\\n%Y-%m-%d - %H:%M:%S\\n\", time.localtime(time.time())))\n",
    "#\n",
    "#\n",
    "#\n",
    "if len(x)==10:\n",
    "    jobs_ids_WZ_in.append(x)"
   ]
  },
  {
   "cell_type": "code",
   "execution_count": 49,
   "id": "a9f61865",
   "metadata": {},
   "outputs": [
    {
     "name": "stdout",
     "output_type": "stream",
     "text": [
      "Tempo de execução: 20892.38 segundos\n",
      "Tempo de execução: 348.21 minutos\n",
      "Tempo de execução: 5.8 horas\n"
     ]
    }
   ],
   "source": [
    "execution_time_seg = end_time - start_time\n",
    "print(\"Tempo de execução:\", round(execution_time_seg, 2), \"segundos\")\n",
    "execution_time_min = execution_time_seg/60\n",
    "print(\"Tempo de execução:\", round(execution_time_min, 2), \"minutos\")\n",
    "execution_time_h = execution_time_min/60\n",
    "print(\"Tempo de execução:\", round(execution_time_h, 2), \"horas\")"
   ]
  },
  {
   "cell_type": "code",
   "execution_count": 50,
   "id": "cb6eea9c",
   "metadata": {},
   "outputs": [
    {
     "data": {
      "text/plain": [
       "['ci2tfhhcinbchsig2a3g', 'ci2tsq1cinbchsigaj4g', 'ci2uchoihcilpv7pc790']"
      ]
     },
     "execution_count": 50,
     "metadata": {},
     "output_type": "execute_result"
    }
   ],
   "source": [
    "x"
   ]
  },
  {
   "cell_type": "code",
   "execution_count": 51,
   "id": "a413aecb",
   "metadata": {
    "scrolled": false
   },
   "outputs": [
    {
     "data": {
      "text/plain": [
       "[['chtmtc391dmpcngq33t0',\n",
       "  'chtnbsj91dmpcngqeai0',\n",
       "  'chtnfbpvrup8981la8n0',\n",
       "  'chtniq2i3durlgr0fro0',\n",
       "  'chto4o3gsimdkuls5fm0',\n",
       "  'chto7c3gsimdkuls7ef0',\n",
       "  'chtonkhoq2qn3r254820',\n",
       "  'chtoqt8recnk2p4o2e10',\n",
       "  'chtotb8recnk2p4o4gog',\n",
       "  'chtovj9oq2qn3r25b3ig'],\n",
       " ['chtpp1b91dmpcngsb7ag',\n",
       "  'chtq6lai3durlgr2epv0',\n",
       "  'chtqbjjgsimdkultrnb0',\n",
       "  'chtqibhvrup8981nqia0',\n",
       "  'chtqnf0recnk2p4pg5hg',\n",
       "  'chtqrfii3durlgr2uus0',\n",
       "  'chull7b91dmpcnhkg4cg',\n",
       "  'chulpqqi3durlgrq33g0',\n",
       "  'chultopoq2qn3r2uf460',\n",
       "  'chum3grgsimdkumm4il0'],\n",
       " ['churdspoq2qn3r330ic0',\n",
       "  'churiqjgsimdkumqlof0',\n",
       "  'churmn2i3durlgrurgmg',\n",
       "  'churqnj91dmpcnhpi9t0',\n",
       "  'churue1vrup8982lkdug',\n",
       "  'chus8jqi3durlgrv8s90',\n",
       "  'chusg91vrup8982m2h00',\n",
       "  'chusk1hvrup8982m5gfg',\n",
       "  'chuso7hoq2qn3r3413fg',\n",
       "  'chut9thoq2qn3r34dgg0'],\n",
       " ['chutdpj91dmpcnhqn1vg',\n",
       "  'chuthg391dmpcnhqpqq0',\n",
       "  'chutl5qi3durlgs08e20',\n",
       "  'chutp2grecnk2p5nn6b0',\n",
       "  'chuu1apoq2qn3r350v10',\n",
       "  'chuu9n8recnk2p5o5glg',\n",
       "  'chuudtii3durlgs0t2vg',\n",
       "  'chv5k6bekvbiqafbeeq0',\n",
       "  'chvc51apvii3c2pval1g',\n",
       "  'chvig9f2rsd594vnjja0'],\n",
       " ['chvp7falnlj7ii800820',\n",
       "  'ci05170ihcilpv54nt4g',\n",
       "  'ci05uv13lqnvrkvb82e0',\n",
       "  'ci06umilnlj7ii8at3mg',\n",
       "  'ci07dtoihcilpv56ishg',\n",
       "  'ci0b40ukcccjrh008ugg',\n",
       "  'ci0erdgihcilpv5f8s4g',\n",
       "  'ci0n4g6kcccjrh0bl790',\n",
       "  'ci0uetm1o26hu31u82t0',\n",
       "  'ci12rl8ihcilpv6460tg'],\n",
       " ['ci19au9cinbchsh0f1cg',\n",
       "  'ci1ag3u1o26hu329a2qg',\n",
       "  'ci1bnfh3lqnvrkokckig',\n",
       "  'ci1cqe1cinbchsh3hvo0',\n",
       "  'ci1h0vekcccjrh17fql0',\n",
       "  'ci1j6s8ihcilpv6k1d40',\n",
       "  'ci1kv3e1o26hu32l4fpg',\n",
       "  'ci1okru1o26hu32pf0hg',\n",
       "  'ci1pohhcinbchshi6seg',\n",
       "  'ci1s0malnlj7iia0kv0g'],\n",
       " ['ci22st2lnlj7iia6fc30',\n",
       "  'ci231qm1o26hu332lip0',\n",
       "  'ci236vp3lqnvrkpd7jt0',\n",
       "  'ci23c7ekcccjrh1p90rg',\n",
       "  'ci23hc13lqnvrkpdgelg',\n",
       "  'ci23n0m1o26hu3337d9g',\n",
       "  'ci23vhm1o26hu333e2ug',\n",
       "  'ci245r13lqnvrkpe170g',\n",
       "  'ci24beoihcilpv74cdjg',\n",
       "  'ci24flalnlj7iia7olq0'],\n",
       " ['ci284dpcinbchshurphg',\n",
       "  'ci28949cinbchshuvjeg',\n",
       "  'ci28hge1o26hu337deog',\n",
       "  'ci28l2oihcilpv783d40',\n",
       "  'ci28phekcccjrh1tttr0',\n",
       "  'ci28uq8ihcilpv78aqlg',\n",
       "  'ci292eukcccjrh1u4p30',\n",
       "  'ci29bc6kcccjrh1uc2mg',\n",
       "  'ci29kehcinbchsi027n0',\n",
       "  'ci29td93lqnvrkpj0glg']]"
      ]
     },
     "execution_count": 51,
     "metadata": {},
     "output_type": "execute_result"
    }
   ],
   "source": [
    "jobs_ids_WZ_in"
   ]
  },
  {
   "cell_type": "code",
   "execution_count": null,
   "id": "e6c6e59f",
   "metadata": {},
   "outputs": [],
   "source": []
  },
  {
   "cell_type": "code",
   "execution_count": 54,
   "id": "7aaf5a06",
   "metadata": {
    "scrolled": false
   },
   "outputs": [
    {
     "name": "stdout",
     "output_type": "stream",
     "text": [
      "ibm_nairobi\n",
      "\n",
      "2023-06-11 - 23:43:32\n",
      "\n",
      "--------------------------------------\n",
      "\n",
      "j =  0  - theta = 0.01\n",
      "--------------------------------------\n",
      "\n",
      "k =  3\n",
      "Job Status: job has successfully run\n",
      "2023-06-11 - 23:51:21\n",
      "ci38cm1cinbchsin8scg\n",
      "k =  3\n",
      "\n",
      "k =  4\n",
      "Job Status: job has successfully run\n",
      "2023-06-11 - 23:59:09\n",
      "ci38gbilnlj7iib2us00\n",
      "k =  4\n",
      "\n",
      "k =  5\n",
      "Job Status: job has successfully run\n",
      "2023-06-12 - 00:06:56\n",
      "ci38k0oihcilpv005050\n",
      "k =  5\n",
      "\n",
      "k =  6\n",
      "Job Status: job has successfully run\n",
      "2023-06-12 - 00:19:37\n",
      "ci38nl9cinbchsinf5k0\n",
      "k =  6\n",
      "\n",
      "k =  7\n",
      "Job Status: job has successfully run\n",
      "2023-06-12 - 00:58:09\n",
      "ci38tjhcinbchsinifpg\n",
      "k =  7\n",
      "\n",
      "k =  8\n",
      "Job Status: job has successfully run\n",
      "2023-06-12 - 01:07:52\n",
      "ci39flu1o26hu3407dc0\n",
      "k =  8\n",
      "\n",
      "k =  9\n",
      "Job Status: job has successfully run\n",
      "2023-06-12 - 01:15:32\n",
      "ci39k71cinbchsinv2b0\n",
      "k =  9\n",
      "\n",
      "2023-06-12 - 01:15:36\n",
      "\n"
     ]
    }
   ],
   "source": [
    "print(device)\n",
    "print(time.strftime(\"\\n%Y-%m-%d - %H:%M:%S\\n\", time.localtime(time.time())))\n",
    "start_time = time.time()\n",
    "print('--------------------------------------')\n",
    "j=0\n",
    "print('\\nj = {:2d}  - theta = {}'.format(j, th[j]))\n",
    "print('--------------------------------------')\n",
    "x = []\n",
    "try:\n",
    "    for k in range(3, 10):\n",
    "        print('\\nk = {:2d}'.format(k))\n",
    "        qr = qiskit.QuantumRegister(6); qc = qiskit.QuantumCircuit(qr)\n",
    "        #\n",
    "        # Circuito\n",
    "        #\n",
    "        qc_QCRWZ_in_ = qc_QCRWZ_in(th[j]); qc.append(qc_QCRWZ_in_, [qr[0],qr[1],qr[2],qr[3],qr[4],qr[5]])\n",
    "        #\n",
    "        # Tomography\n",
    "        #\n",
    "        qstc = state_tomography_circuits(qc, [qr[5],qr[4],qr[3],qr[1]])  # rho_AbWZ qr[5],qr[4],qr[3],qr[1]\n",
    "        job = qiskit.execute(qstc, backend = device, shots=nshots)\n",
    "        job_monitor(job)\n",
    "        print(time.strftime(\"%Y-%m-%d - %H:%M:%S\", time.localtime(time.time())))\n",
    "        print(job.job_id())\n",
    "        x.append(job.job_id())\n",
    "        qstf = StateTomographyFitter(job.result(), qstc)\n",
    "        print('k = {:2d}'.format(k))\n",
    "except:\n",
    "    print(\"\\n\\nErro detectado: \", sys.exc_info()[1])\n",
    "winsound.Beep(1000, 200)   # Frequência de 1000 Hz e duração de 200 ms\n",
    "winsound.Beep(1000, 200)   # Frequência de 1000 Hz e duração de 200 ms\n",
    "winsound.Beep(1000, 200)   # Frequência de 1000 Hz e duração de 200 ms\n",
    "winsound.Beep(1000, 1000)  # Frequência de 1000 Hz e duração de 200 ms\n",
    "end_time = time.time()\n",
    "winsound.Beep(1000, 1000)  # Frequência de 1000 Hz e duração de 200 ms\n",
    "winsound.Beep(1000, 200)   # Frequência de 1000 Hz e duração de 200 ms\n",
    "winsound.Beep(1000, 200)   # Frequência de 1000 Hz e duração de 200 ms\n",
    "winsound.Beep(1000, 200)   # Frequência de 1000 Hz e duração de 200 ms\n",
    "#\n",
    "#\n",
    "#\n",
    "print(time.strftime(\"\\n%Y-%m-%d - %H:%M:%S\\n\", time.localtime(time.time())))\n",
    "#\n",
    "#\n",
    "#\n",
    "if len(x)==10:\n",
    "    jobs_ids_WZ_in.append(x)"
   ]
  },
  {
   "cell_type": "code",
   "execution_count": 55,
   "id": "b50fdbda",
   "metadata": {},
   "outputs": [
    {
     "name": "stdout",
     "output_type": "stream",
     "text": [
      "Tempo de execução: 5522.95 segundos\n",
      "Tempo de execução: 92.05 minutos\n",
      "Tempo de execução: 1.53 horas\n"
     ]
    }
   ],
   "source": [
    "execution_time_seg = end_time - start_time\n",
    "print(\"Tempo de execução:\", round(execution_time_seg, 2), \"segundos\")\n",
    "execution_time_min = execution_time_seg/60\n",
    "print(\"Tempo de execução:\", round(execution_time_min, 2), \"minutos\")\n",
    "execution_time_h = execution_time_min/60\n",
    "print(\"Tempo de execução:\", round(execution_time_h, 2), \"horas\")"
   ]
  },
  {
   "cell_type": "code",
   "execution_count": 46,
   "id": "a3b462f3",
   "metadata": {},
   "outputs": [
    {
     "data": {
      "text/plain": [
       "['ci2a3s1cinbchsi0e7jg',\n",
       " 'ci2ajj2lnlj7iiacrrl0',\n",
       " 'ci2arvoihcilpv79sk1g',\n",
       " 'ci2gqi9cinbchsi6jjog',\n",
       " 'ci2nc11cinbchsibcojg',\n",
       " 'ci2phdu1o26hu33lajg0']"
      ]
     },
     "execution_count": 46,
     "metadata": {},
     "output_type": "execute_result"
    }
   ],
   "source": [
    "x"
   ]
  },
  {
   "cell_type": "code",
   "execution_count": 47,
   "id": "92ef979f",
   "metadata": {
    "scrolled": true
   },
   "outputs": [
    {
     "data": {
      "text/plain": [
       "[['chtmtc391dmpcngq33t0',\n",
       "  'chtnbsj91dmpcngqeai0',\n",
       "  'chtnfbpvrup8981la8n0',\n",
       "  'chtniq2i3durlgr0fro0',\n",
       "  'chto4o3gsimdkuls5fm0',\n",
       "  'chto7c3gsimdkuls7ef0',\n",
       "  'chtonkhoq2qn3r254820',\n",
       "  'chtoqt8recnk2p4o2e10',\n",
       "  'chtotb8recnk2p4o4gog',\n",
       "  'chtovj9oq2qn3r25b3ig'],\n",
       " ['chtpp1b91dmpcngsb7ag',\n",
       "  'chtq6lai3durlgr2epv0',\n",
       "  'chtqbjjgsimdkultrnb0',\n",
       "  'chtqibhvrup8981nqia0',\n",
       "  'chtqnf0recnk2p4pg5hg',\n",
       "  'chtqrfii3durlgr2uus0',\n",
       "  'chull7b91dmpcnhkg4cg',\n",
       "  'chulpqqi3durlgrq33g0',\n",
       "  'chultopoq2qn3r2uf460',\n",
       "  'chum3grgsimdkumm4il0'],\n",
       " ['churdspoq2qn3r330ic0',\n",
       "  'churiqjgsimdkumqlof0',\n",
       "  'churmn2i3durlgrurgmg',\n",
       "  'churqnj91dmpcnhpi9t0',\n",
       "  'churue1vrup8982lkdug',\n",
       "  'chus8jqi3durlgrv8s90',\n",
       "  'chusg91vrup8982m2h00',\n",
       "  'chusk1hvrup8982m5gfg',\n",
       "  'chuso7hoq2qn3r3413fg',\n",
       "  'chut9thoq2qn3r34dgg0'],\n",
       " ['chutdpj91dmpcnhqn1vg',\n",
       "  'chuthg391dmpcnhqpqq0',\n",
       "  'chutl5qi3durlgs08e20',\n",
       "  'chutp2grecnk2p5nn6b0',\n",
       "  'chuu1apoq2qn3r350v10',\n",
       "  'chuu9n8recnk2p5o5glg',\n",
       "  'chuudtii3durlgs0t2vg',\n",
       "  'chv5k6bekvbiqafbeeq0',\n",
       "  'chvc51apvii3c2pval1g',\n",
       "  'chvig9f2rsd594vnjja0'],\n",
       " ['chvp7falnlj7ii800820',\n",
       "  'ci05170ihcilpv54nt4g',\n",
       "  'ci05uv13lqnvrkvb82e0',\n",
       "  'ci06umilnlj7ii8at3mg',\n",
       "  'ci07dtoihcilpv56ishg',\n",
       "  'ci0b40ukcccjrh008ugg',\n",
       "  'ci0erdgihcilpv5f8s4g',\n",
       "  'ci0n4g6kcccjrh0bl790',\n",
       "  'ci0uetm1o26hu31u82t0',\n",
       "  'ci12rl8ihcilpv6460tg'],\n",
       " ['ci19au9cinbchsh0f1cg',\n",
       "  'ci1ag3u1o26hu329a2qg',\n",
       "  'ci1bnfh3lqnvrkokckig',\n",
       "  'ci1cqe1cinbchsh3hvo0',\n",
       "  'ci1h0vekcccjrh17fql0',\n",
       "  'ci1j6s8ihcilpv6k1d40',\n",
       "  'ci1kv3e1o26hu32l4fpg',\n",
       "  'ci1okru1o26hu32pf0hg',\n",
       "  'ci1pohhcinbchshi6seg',\n",
       "  'ci1s0malnlj7iia0kv0g'],\n",
       " ['ci22st2lnlj7iia6fc30',\n",
       "  'ci231qm1o26hu332lip0',\n",
       "  'ci236vp3lqnvrkpd7jt0',\n",
       "  'ci23c7ekcccjrh1p90rg',\n",
       "  'ci23hc13lqnvrkpdgelg',\n",
       "  'ci23n0m1o26hu3337d9g',\n",
       "  'ci23vhm1o26hu333e2ug',\n",
       "  'ci245r13lqnvrkpe170g',\n",
       "  'ci24beoihcilpv74cdjg',\n",
       "  'ci24flalnlj7iia7olq0'],\n",
       " ['ci284dpcinbchshurphg',\n",
       "  'ci28949cinbchshuvjeg',\n",
       "  'ci28hge1o26hu337deog',\n",
       "  'ci28l2oihcilpv783d40',\n",
       "  'ci28phekcccjrh1tttr0',\n",
       "  'ci28uq8ihcilpv78aqlg',\n",
       "  'ci292eukcccjrh1u4p30',\n",
       "  'ci29bc6kcccjrh1uc2mg',\n",
       "  'ci29kehcinbchsi027n0',\n",
       "  'ci29td93lqnvrkpj0glg']]"
      ]
     },
     "execution_count": 47,
     "metadata": {},
     "output_type": "execute_result"
    }
   ],
   "source": [
    "jobs_ids_WZ_in"
   ]
  },
  {
   "cell_type": "code",
   "execution_count": null,
   "id": "5ca3bbd5",
   "metadata": {},
   "outputs": [],
   "source": []
  },
  {
   "cell_type": "code",
   "execution_count": 11,
   "id": "44b92bda",
   "metadata": {
    "scrolled": false
   },
   "outputs": [
    {
     "name": "stdout",
     "output_type": "stream",
     "text": [
      "ibm_nairobi\n",
      "\n",
      "2023-06-12 - 09:11:39\n",
      "\n",
      "--------------------------------------\n",
      "\n",
      "j = 10  - theta = 1.5757963267948967\n",
      "--------------------------------------\n",
      "\n",
      "k =  0\n",
      "Job Status: job has successfully run\n",
      "2023-06-12 - 14:04:02\n",
      "ci3gn6alnlj7iib8l9c0\n",
      "k =  0\n",
      "\n",
      "k =  1\n",
      "Job Status: job is queued (None)\n",
      "\n",
      "Erro detectado:  '\"Unrecognized return value received from the server: b\\'\\'. This could be caused by too many requests.\"'\n",
      "\n",
      "2023-06-12 - 17:06:31\n",
      "\n"
     ]
    }
   ],
   "source": [
    "print(device)\n",
    "print(time.strftime(\"\\n%Y-%m-%d - %H:%M:%S\\n\", time.localtime(time.time())))\n",
    "start_time = time.time()\n",
    "print('--------------------------------------')\n",
    "j=10\n",
    "print('\\nj = {:2d}  - theta = {}'.format(j, th[j]))\n",
    "print('--------------------------------------')\n",
    "x = []\n",
    "try:\n",
    "    for k in range(0, 10):\n",
    "        print('\\nk = {:2d}'.format(k))\n",
    "        qr = qiskit.QuantumRegister(6); qc = qiskit.QuantumCircuit(qr)\n",
    "        #\n",
    "        # Circuito\n",
    "        #\n",
    "        qc_QCRWZ_in_ = qc_QCRWZ_in(th[j]); qc.append(qc_QCRWZ_in_, [qr[0],qr[1],qr[2],qr[3],qr[4],qr[5]])\n",
    "        #\n",
    "        # Tomography\n",
    "        #\n",
    "        qstc = state_tomography_circuits(qc, [qr[5],qr[4],qr[3],qr[1]])  # rho_AbWZ qr[5],qr[4],qr[3],qr[1]\n",
    "        job = qiskit.execute(qstc, backend = device, shots=nshots)\n",
    "        job_monitor(job)\n",
    "        print(time.strftime(\"%Y-%m-%d - %H:%M:%S\", time.localtime(time.time())))\n",
    "        print(job.job_id())\n",
    "        x.append(job.job_id())\n",
    "        qstf = StateTomographyFitter(job.result(), qstc)\n",
    "        print('k = {:2d}'.format(k))\n",
    "except:\n",
    "    print(\"\\n\\nErro detectado: \", sys.exc_info()[1])\n",
    "winsound.Beep(1000, 200)   # Frequência de 1000 Hz e duração de 200 ms\n",
    "winsound.Beep(1000, 200)   # Frequência de 1000 Hz e duração de 200 ms\n",
    "winsound.Beep(1000, 200)   # Frequência de 1000 Hz e duração de 200 ms\n",
    "winsound.Beep(1000, 1000)  # Frequência de 1000 Hz e duração de 200 ms\n",
    "end_time = time.time()\n",
    "winsound.Beep(1000, 1000)  # Frequência de 1000 Hz e duração de 200 ms\n",
    "winsound.Beep(1000, 200)   # Frequência de 1000 Hz e duração de 200 ms\n",
    "winsound.Beep(1000, 200)   # Frequência de 1000 Hz e duração de 200 ms\n",
    "winsound.Beep(1000, 200)   # Frequência de 1000 Hz e duração de 200 ms\n",
    "#\n",
    "#\n",
    "#\n",
    "print(time.strftime(\"\\n%Y-%m-%d - %H:%M:%S\\n\", time.localtime(time.time())))\n",
    "#\n",
    "#\n",
    "#\n",
    "if len(x)==10:\n",
    "    jobs_ids_WZ_in.append(x)"
   ]
  },
  {
   "cell_type": "code",
   "execution_count": 12,
   "id": "747c1a21",
   "metadata": {},
   "outputs": [
    {
     "name": "stdout",
     "output_type": "stream",
     "text": [
      "Tempo de execução: 28490.19 segundos\n",
      "Tempo de execução: 474.84 minutos\n",
      "Tempo de execução: 7.91 horas\n"
     ]
    }
   ],
   "source": [
    "execution_time_seg = end_time - start_time\n",
    "print(\"Tempo de execução:\", round(execution_time_seg, 2), \"segundos\")\n",
    "execution_time_min = execution_time_seg/60\n",
    "print(\"Tempo de execução:\", round(execution_time_min, 2), \"minutos\")\n",
    "execution_time_h = execution_time_min/60\n",
    "print(\"Tempo de execução:\", round(execution_time_h, 2), \"horas\")"
   ]
  },
  {
   "cell_type": "code",
   "execution_count": 13,
   "id": "f712db0e",
   "metadata": {},
   "outputs": [
    {
     "data": {
      "text/plain": [
       "['ci3gn6alnlj7iib8l9c0']"
      ]
     },
     "execution_count": 13,
     "metadata": {},
     "output_type": "execute_result"
    }
   ],
   "source": [
    "x"
   ]
  },
  {
   "cell_type": "code",
   "execution_count": 14,
   "id": "f4c0129d",
   "metadata": {
    "scrolled": false
   },
   "outputs": [
    {
     "data": {
      "image/png": "[encoded data removed]",
      "text/latex": [
       "$\\displaystyle \\left[ \\right]$"
      ],
      "text/plain": [
       "[]"
      ]
     },
     "execution_count": 14,
     "metadata": {},
     "output_type": "execute_result"
    }
   ],
   "source": [
    "jobs_ids_WZ_in"
   ]
  },
  {
   "cell_type": "code",
   "execution_count": null,
   "id": "c71a881a",
   "metadata": {},
   "outputs": [],
   "source": []
  }
 ],
 "metadata": {
  "kernelspec": {
   "display_name": "Python 3 (ipykernel)",
   "language": "python",
   "name": "python3"
  },
  "language_info": {
   "codemirror_mode": {
    "name": "ipython",
    "version": 3
   },
   "file_extension": ".py",
   "mimetype": "text/x-python",
   "name": "python",
   "nbconvert_exporter": "python",
   "pygments_lexer": "ipython3",
   "version": "3.9.13"
  }
 },
 "nbformat": 4,
 "nbformat_minor": 5
}
