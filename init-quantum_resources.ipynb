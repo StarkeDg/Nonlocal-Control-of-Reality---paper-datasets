{
 "cells": [
  {
   "cell_type": "code",
   "execution_count": null,
   "metadata": {},
   "outputs": [],
   "source": [
    "import scipy.linalg.lapack as lapak"
   ]
  },
  {
   "cell_type": "markdown",
   "metadata": {},
   "source": [
    "# Recursos quânticos\n",
    "## Outras funções necessárias"
   ]
  },
  {
   "cell_type": "code",
   "execution_count": 3,
   "metadata": {},
   "outputs": [],
   "source": [
    "def rho_basis_n(th, ph, rho, typ): # representation of rho in a given basis\n",
    "    ket_n0, bra_n0, ket_n1, bra_n1 = n_basis(th, ph, typ)\n",
    "    if typ == 's':\n",
    "        rhon = Matrix([[bra_n0*rho*ket_n0, bra_n0*rho*ket_n1],[bra_n1*rho*ket_n0, bra_n1*rho*ket_n1]])\n",
    "    elif typ == 'n':\n",
    "        rho00 = bra_n0.dot(rho.dot(ket_n0)); rho01 = bra_n0.dot(rho.dot(ket_n1))\n",
    "        rho10 = bra_n1.dot(rho.dot(ket_n0)); rho11 = bra_n1.dot(rho.dot(ket_n1))\n",
    "        rhon = np.array([[rho00.item(), rho01.item()],[rho10.item(), rho11.item()]])\n",
    "    return rhon"
   ]
  },
  {
   "cell_type": "code",
   "execution_count": 1,
   "metadata": {},
   "outputs": [],
   "source": [
    "def Pauli(j):\n",
    "    if j == 0:\n",
    "        return np.array([[1,0],[0,1]])\n",
    "    elif j == 1:\n",
    "        return np.array([[0,1],[1,0]])\n",
    "    elif j == 2:\n",
    "        return np.array([[0,-1j],[1j,0]])\n",
    "    elif j == 3:\n",
    "        return np.array([[1,0],[0,-1]])"
   ]
  },
  {
   "cell_type": "code",
   "execution_count": null,
   "metadata": {},
   "outputs": [],
   "source": [
    "ev = lapak.zheevd(Pauli(1)); ev, ev[0], ev[0][0], ev[1][0], ev[1][0][0]"
   ]
  },
  {
   "cell_type": "code",
   "execution_count": null,
   "metadata": {},
   "outputs": [],
   "source": [
    "# Outside this function, initialize: evals = zeros(d,1)\n",
    "def eVals(A):\n",
    "    d = A.shape[0]; evals = zeros(d,1)\n",
    "    eig = A.eigenvects()\n",
    "    ne = 0\n",
    "    j = 0\n",
    "    lk = 0\n",
    "    while ne < d:\n",
    "        mult = eig[j][1]\n",
    "        ne += mult\n",
    "        nk = lk + mult\n",
    "        for k in range(lk,nk):\n",
    "            evals[k] = eig[j][0]\n",
    "        lk = nk\n",
    "        j += 1\n",
    "    return evals"
   ]
  },
  {
   "cell_type": "markdown",
   "metadata": {},
   "source": [
    "## Entropia\n",
    "\n",
    "### Shannon entropy\n",
    "For a probability vector $\\vec{p}=[p_{1},\\cdots,p_{d}]^{T}$,\n",
    "\\begin{equation}\n",
    "H(\\vec{p}) = -\\sum_{j=1}^{d}p_{j}\\log_{2}(p_{j})\n",
    "\\end{equation}\n",
    "If $p_{j}=1$ for some $j$ then $H(\\{1,0,\\cdots,0\\})=0$. If $p_{j}=1/d\\ \\forall\\ j$ then $H(\\{1/d,\\cdots,1/d\\}) = -\\sum_{j=1}^{d}\\frac{1}{d}\\log_{2}\\frac{1}{d}=d\\frac{1}{d}\\log_{2}(d) = \\log_{2}(d).$ So, if we define $\\bar{H}(\\vec{p}) = \\frac{H(\\vec{p})}{\\log_{2}(d)} \\in [0,1].$"
   ]
  },
  {
   "cell_type": "code",
   "execution_count": 1,
   "metadata": {},
   "outputs": [],
   "source": [
    "def shannon_num(pv):\n",
    "    d = pv.shape[0]; SE = 0.0; j = -1\n",
    "    while (j < d-1):\n",
    "        j = j + 1\n",
    "        if pv[j] > 10**-15 and pv[j] < (1.0-10**-15):\n",
    "            SE -= pv[j]*math.log(pv[j], 2)\n",
    "    return SE"
   ]
  },
  {
   "cell_type": "code",
   "execution_count": null,
   "metadata": {},
   "outputs": [],
   "source": [
    "def shannon(pv): # for symbolics\n",
    "    d = pv.shape[0]; H = 0\n",
    "    for j in range(0,d):\n",
    "        #if pv[j] > 10**-15 and pv[j] < (1-10**-15):\n",
    "        H -= pv[j]*log(pv[j],2)\n",
    "    return H"
   ]
  },
  {
   "cell_type": "markdown",
   "metadata": {},
   "source": [
    "### von Neumann entropy\n",
    "\\begin{equation}\n",
    "S_{vn}(\\rho) = -Tr(\\rho\\log_{2}(\\rho))\n",
    "\\end{equation}\n",
    "Here $S_{vn}(|\\psi\\rangle)=0$ and $S_{vn}(\\mathbb{I}/d)=\\log_{2}(d)$. So $\\bar{S}_{vn}(\\rho)=\\frac{S_{vn}(\\rho)}{\\log_{2}(d)}\\in[0,1]$."
   ]
  },
  {
   "cell_type": "code",
   "execution_count": 2,
   "metadata": {},
   "outputs": [],
   "source": [
    "def von_neumann_num(rho):\n",
    "    d = rho.shape[0]; d = lapak.zheevd(rho)\n",
    "    return shannon_num(d[0])"
   ]
  },
  {
   "cell_type": "code",
   "execution_count": null,
   "metadata": {},
   "outputs": [],
   "source": [
    "def von_neumann_num_2(rho):\n",
    "    U, s, _ = np.linalg.svd(rho)\n",
    "    return -np.sum(s*np.log2(s))"
   ]
  },
  {
   "cell_type": "code",
   "execution_count": null,
   "metadata": {},
   "outputs": [],
   "source": [
    "def von_neumann_num_4(rho):\n",
    "    epsilon = 1e-10\n",
    "    rho += epsilon * np.eye(rho.shape[0])\n",
    "    U, s, _ = np.linalg.svd(rho)\n",
    "    s = np.maximum(s, np.finfo(float).eps) + 1e-10 # evitar erros numéricos\n",
    "    s = np.nan_to_num(s) # substituir NaN por zero\n",
    "    return -np.sum(s*np.log2(s))"
   ]
  },
  {
   "cell_type": "code",
   "execution_count": null,
   "metadata": {},
   "outputs": [],
   "source": [
    "def von_neumann_sympy(rho):\n",
    "    eigenvalues = Matrix(rho).eigenvals()\n",
    "    nonzero_eigenvalues = [v for v in eigenvalues if v != 0]\n",
    "    return -sum([p*log(p) for p in nonzero_eigenvalues])"
   ]
  },
  {
   "cell_type": "markdown",
   "metadata": {},
   "source": [
    "#### Sobre a função 'von_neumann_num_2'\n",
    "\n",
    "A função apresentada utiliza a decomposição espectral para calcular os autovalores da matriz densidade e, em seguida, calcula o número de Shannon desses autovalores. No entanto, essa abordagem pode apresentar problemas em situações em que a matriz densidade está próxima de um estado puro, pois os autovalores serão muito próximos de 0 ou 1, o que pode levar a erros numéricos.\n",
    "\n",
    "Uma alternativa é utilizar a decomposição de valores singulares (SVD) em vez da decomposição espectral. A decomposição SVD é mais estável numericamente em situações em que a matriz é próxima a um estado puro, pois não há necessidade de calcular os autovalores. A função modificada poderia ser escrita da seguinte forma:\n",
    "\n",
    "-->  von_neumann_num_2\n",
    "\n",
    "Aqui, a função np.linalg.svd é usada para obter a decomposição de valores singulares da matriz densidade. A função np.maximum é usada para evitar erros numéricos, garantindo que os valores singulares sejam maiores do que o menor número positivo de ponto flutuante representável. Em seguida, o número de von Neumann é calculado usando a fórmula S(rho) = -tr(rho log2(rho)) = -sum(s*log2(s)), onde s são os valores singulares da matriz densidade.\n",
    "\n",
    "Com essa abordagem, é possível obter uma estimativa mais estável e precisa do número de von Neumann em situações em que a matriz densidade está próxima de um estado puro.\n",
    "\n",
    "Na linha de código U, s, _ = np.linalg.svd(rho), a função np.linalg.svd retorna três valores: a matriz unitária U, os valores singulares s e a matriz unitária transposta V^T.\n",
    "\n",
    "A decomposição de valores singulares (SVD) é uma maneira de decompor uma matriz em três matrizes:\n",
    "\n",
    "css\n",
    "Copy code\n",
    "A = U * S * V^T\n",
    "\n",
    "Onde U e V são matrizes unitárias (ou seja, suas inversas são iguais às suas transpostas) e S é uma matriz diagonal com valores singulares não negativos na diagonal.\n",
    "\n",
    "Nesse contexto, U é a matriz unitária obtida pela decomposição SVD da matriz densidade rho, s é uma matriz 1D com os valores singulares de rho e _ é a matriz unitária transposta V^T, que não é usada na função von_neumann_num.\n",
    "\n",
    "Esses valores são atribuídos a U, s e _ respectivamente, usando a técnica de descompactação (ou desestruturação) de tuplas do Python, onde os valores são atribuídos a várias variáveis ​​em uma única linha de código. Isso é feito usando a notação de tuplas, que é indicada por parênteses. Nesse caso, U, s e _ são as três variáveis que recebem os valores retornados pela função np.linalg.svd na mesma ordem.\n",
    "\n",
    "A linha de código s = np.maximum(s, np.finfo(float).eps) na função von_neumann_num modifica os valores singulares da matriz densidade rho antes de calcular o número de von Neumann.\n",
    "\n",
    "O objetivo dessa linha de código é evitar que o logaritmo da matriz densidade, que é usado para calcular o número de von Neumann, resulte em valores infinitos ou indefinidos quando um ou mais valores singulares são iguais a zero. Isso ocorre porque o logaritmo de zero é indefinido.\n",
    "\n",
    "Para evitar esse problema, a linha de código usa a função np.maximum para comparar cada valor singular de rho com um valor mínimo, que é definido como a precisão de máquina para o tipo de dados float (ou seja, o menor número positivo que pode ser representado com precisão em um float). Se um valor singular for menor que esse valor mínimo, ele é substituído pelo valor mínimo. Isso garante que todos os valores singulares de rho sejam maiores ou iguais ao valor mínimo e, portanto, evita o problema de logaritmos indefinidos ou infinitos.\n",
    "\n",
    "Em resumo, a linha de código s = np.maximum(s, np.finfo(float).eps) é uma precaução necessária para lidar com casos em que a matriz densidade rho é quase pura e tem um ou mais valores singulares muito próximos de zero.\n",
    "\n",
    "##### Continuei tendo problemas numéricos\n",
    "\n",
    "Quando a matriz densidade está próxima do estado puro, os autovalores da matriz podem se aproximar de zero e causar erros numéricos ao calcular o logaritmo. Para evitar isso, uma opção é adicionar um pequeno valor de correção aos autovalores antes de calcular o logaritmo. Isso é conhecido como \"correção de regularização\" ou \"regularização de Tikhonov\". Uma escolha comum para esse valor é o chamado \"epsilon de máquina\" da máquina utilizada.\n",
    "\n",
    "Para aplicar essa correção à função von_neumann_num_2, você pode modificar a linha s = np.maximum(s, np.finfo(float).eps) para s = np.maximum(s, np.finfo(float).eps) + 1e-15, por exemplo. O valor adicionado pode ser ajustado dependendo do seu caso específico."
   ]
  },
  {
   "cell_type": "code",
   "execution_count": null,
   "metadata": {},
   "outputs": [],
   "source": [
    "def von_neumann(rho): # for symbolics\n",
    "    d = rho.shape[0]; evals = zeros(d,1); ev = eVals(rho)\n",
    "    return shannon(ev)"
   ]
  },
  {
   "cell_type": "markdown",
   "metadata": {},
   "source": [
    "### Linear entropy\n",
    "\\begin{align}\n",
    "S_{L}(\\rho)&=1-Tr(\\rho^{2})=1-\\sum_{j}(\\rho\\rho)_{j,j} = 1 - \\sum_{j,k}\\rho_{j,k}\\rho_{k,j}= 1 - \\sum_{j,k}\\rho_{j,k}\\rho_{j,k}^{*} \\\\\n",
    "&= 1 - \\sum_{j,k}|\\rho_{j,k}|^{2}\n",
    "\\end{align}\n",
    "If $\\rho=|\\psi\\rangle\\langle\\psi|$ then $\\rho^{2}=\\rho$ and $S_{L}(|\\psi\\rangle)=0$. If $\\rho=\\mathbb{I}_{d}/d$ then $\\rho^{2} = \\mathbb{I}_{d}/d^{2}$ and $S_{L}(\\mathbb{I}_{d}/d) = 1-Tr(\\mathbb{I}_{d}/d^{2}) = 1-d/d^{2} = (d-1)/d.$ So $\\bar{S}_{L}(\\rho) = \\frac{d}{d-1}S_{L}(\\rho)\\in[0,1].$"
   ]
  },
  {
   "cell_type": "code",
   "execution_count": null,
   "metadata": {},
   "outputs": [],
   "source": [
    "def linear_entropy(rho):\n",
    "    d = rho.shape[0]; Sl=0\n",
    "    for j in range(0,d):\n",
    "        for k in range(0,d):\n",
    "            Sl += abs(rho[j,k])**2\n",
    "    return 1-Sl"
   ]
  },
  {
   "cell_type": "markdown",
   "metadata": {},
   "source": [
    "## Coerência\n",
    "\n",
    "### Relative entropy complementarity\n",
    "\\begin{equation}\n",
    "C_{re}(\\rho_{A})+P_{re}(\\rho_{A})+Q_{re}(|\\psi\\rangle_{AB}) = \\log_{2}(d_{A})\n",
    "\\end{equation}\n",
    "with $\\rho_{A}=Tr_{B}(|\\psi\\rangle_{AB}\\langle\\psi|)$\n",
    "#### Relative entropy coherence\n",
    "\\begin{equation}\n",
    "C_{re}(\\rho_{A}) = S(\\rho^{A}_{diag})-S(\\rho_{A}),\n",
    "\\end{equation}\n",
    "with $\\rho^{A}_{diag}=diag(\\rho^{A}_{1,1},\\rho^{A}_{2,2},\\cdots,\\rho^{A}_{d,d})$."
   ]
  },
  {
   "cell_type": "code",
   "execution_count": 4,
   "metadata": {},
   "outputs": [],
   "source": [
    "# Coherence relative entropy for different basis\n",
    "def coherence_re(rho, th, ph): # th,ph defines the reference basis\n",
    "    d = rho.shape[0]; pv = np.zeros(d)\n",
    "    # matrix representation of rho in the basis defined by (th,ph)\n",
    "    rhon = rho_basis_n(th, ph, rho, 'n'); #print(rhon)\n",
    "    for j in range(0, d):\n",
    "        pv[j] = rhon[j,j].real\n",
    "    # we use the same state to compute S_vn because of its basis invariance\n",
    "    return shannon_num(pv) - von_neumann_num(rho)"
   ]
  },
  {
   "cell_type": "code",
   "execution_count": null,
   "metadata": {},
   "outputs": [],
   "source": [
    "def coh_re(rho):\n",
    "    d = rho.shape[0]; pv = np.zeros(d)#; print(rho)\n",
    "    for j in range(0,d):\n",
    "        pv[j] = rho[j,j].real\n",
    "    #pv = np.array(pv).astype(np.double); rho = np.array(rho).astype(np.cdouble)\n",
    "    return shannon_num(pv) - von_neumann_num(rho) # for numerics\n",
    "    #return shannon(pv) - von_neumann(rhoA) # for symbolics"
   ]
  },
  {
   "cell_type": "code",
   "execution_count": null,
   "metadata": {},
   "outputs": [],
   "source": [
    "def coh_re_s(rho):\n",
    "    d = rho.shape[0]; pv = np.zeros(d)#; print(rho)\n",
    "    for j in range(0,d):\n",
    "        pv[j] = rho[j,j].real\n",
    "    #pv = np.array(pv).astype(np.double); rho = np.array(rho).astype(np.cdouble)\n",
    "    #eturn shannon_num(pv) - von_neumann_num(rho) # for numerics\n",
    "    return shannon(pv) - von_neumann(rhoA) # for symbolics"
   ]
  },
  {
   "cell_type": "markdown",
   "metadata": {},
   "source": [
    "### $l_{1}$-norm complementarity\n",
    "\\begin{equation}\n",
    "C_{l_{1}}(\\rho_{A})+P_{l_{1}}(\\rho_{A})+Q_{l_{1}}(\\rho_{A})=d_{A}-1\n",
    "\\end{equation}\n",
    "with $\\rho_{A}=Tr_{B}(|\\psi\\rangle_{AB}\\langle\\psi|$)\n",
    "#### $l_{1}$-norm coherence\n",
    "\\begin{equation}\n",
    "C_{l_{1}}(\\rho_{A}) = \\sum_{j\\ne k}|\\rho^{A}_{j,k}| = 2\\sum_{j<k}|\\rho^{A}_{j,k}|\n",
    "\\end{equation}"
   ]
  },
  {
   "cell_type": "code",
   "execution_count": 44,
   "metadata": {},
   "outputs": [],
   "source": [
    "def coh_l1(rho):\n",
    "    d = rho.shape[0]; C = 0\n",
    "    for j in range(0,d-1):\n",
    "        for k in range(j+1,d):\n",
    "            C += np.abs(rho[j,k])\n",
    "    return 2*C"
   ]
  },
  {
   "cell_type": "markdown",
   "metadata": {},
   "source": [
    "### Hilbert-Schmidt coherence\n",
    "\\begin{equation}\n",
    "C_{hs}(\\rho) = \\sum_{j\\ne k}|\\rho_{j,k}|^{2} = 2\\sum_{j<k}|\\rho_{j,k}|^{2}\n",
    "\\end{equation}"
   ]
  },
  {
   "cell_type": "code",
   "execution_count": null,
   "metadata": {},
   "outputs": [],
   "source": [
    "def coh_hs(rho):\n",
    "    d = rho.shape[0]; C = 0\n",
    "    for j in range(0,d-1):\n",
    "        for k in range(j+1,d):\n",
    "            C += (abs(rho[j,k]))**2\n",
    "    return 2*C"
   ]
  },
  {
   "cell_type": "markdown",
   "metadata": {},
   "source": [
    "## Preditibilidade"
   ]
  },
  {
   "cell_type": "code",
   "execution_count": null,
   "metadata": {},
   "outputs": [],
   "source": [
    "def predict_vn(rho):\n",
    "    d = rho.shape[0]; P = 0\n",
    "    for j in range(0,d):\n",
    "        if rho[j,j] > 10**-15 and rho[j,j] < (1.0-10**-15):\n",
    "            P += np.absolute(rho[j,j])*math.log2(np.absolute(rho[j,j])) # for numerics\n",
    "            #P += rho[j,j].real*log(rho[j,j].real,2) # is not working\n",
    "    return log(d,2) + P"
   ]
  },
  {
   "cell_type": "markdown",
   "metadata": {},
   "source": [
    "## Relative entropy predictability\n",
    "\\begin{equation}\n",
    "P_{re}(\\rho) = P_{vn}(\\rho) = \\log_{2}(d) + H(\\vec{p}) =\\log_{2}(d)+\\sum_{j=1}^{d}\\rho_{jj}\\log_{2}(\\rho_{jj})\n",
    "\\end{equation}"
   ]
  },
  {
   "cell_type": "code",
   "execution_count": null,
   "metadata": {},
   "outputs": [],
   "source": [
    "def predictability_vn(rho, th, ph): # th,ph define the reference basis\n",
    "    d = rho.shape[0]; \n",
    "    # matrix rep. of rho in the basis def. by (th,ph)\n",
    "    rhon = rho_basis_n(th, ph, rho, 'n');# print('rhon = ',rhon)\n",
    "    pv = np.zeros(d); \n",
    "    for j in range(0,d):\n",
    "        pv[j] = rhon[j,j].real\n",
    "    return log(d, 2) - shannon_num(pv)"
   ]
  },
  {
   "cell_type": "markdown",
   "metadata": {},
   "source": [
    "### Hilbert-Schmidt-linear predictability\n",
    "\\begin{equation}\n",
    "P_{hs}(\\rho) = \\sum_{j}(\\rho_{j,j})^{2}-1/d_{A}\n",
    "\\end{equation}"
   ]
  },
  {
   "cell_type": "code",
   "execution_count": null,
   "metadata": {},
   "outputs": [],
   "source": [
    "def predict_hs(rho):\n",
    "    d=rho.shape[0]; P = 0\n",
    "    for j in range(0,d):\n",
    "        P += abs(rho[j,j])**2\n",
    "    return P-1/d"
   ]
  },
  {
   "cell_type": "markdown",
   "metadata": {},
   "source": [
    "### $l_{1}$-norm predictability\n",
    "\\begin{equation}\n",
    "P_{l_{1}}(\\rho_{A}) = d-1-\\sum_{j\\ne k}\\sqrt{\\rho^{A}_{j,j}\\rho^{A}_{k,k}}= d-1-2\\sum_{j<k}\\sqrt{\\rho^{A}_{j,j}\\rho_{k,k}}\n",
    "\\end{equation}"
   ]
  },
  {
   "cell_type": "code",
   "execution_count": 1,
   "metadata": {},
   "outputs": [],
   "source": [
    "def predict_l1(rho):\n",
    "    d=rho.shape[0]; P = 0\n",
    "    for j in range(0,d-1):\n",
    "        for k in range(j+1,d):\n",
    "            P += sqrt(rho[j,j]*rho[k,k])\n",
    "    return d-1-2*P"
   ]
  },
  {
   "cell_type": "markdown",
   "metadata": {},
   "source": [
    "## Emaranhamento"
   ]
  },
  {
   "cell_type": "code",
   "execution_count": null,
   "metadata": {},
   "outputs": [],
   "source": [
    "def Econcurrence(rho):\n",
    "    R = rho@tp(Pauli(2),Pauli(2))@np.matrix.conjugate(rho)@tp(Pauli(2),Pauli(2))\n",
    "    ev = lapak.zheevd(R)\n",
    "    evm = max(abs(ev[0][0]), abs(ev[0][1]), abs(ev[0][2]), abs(ev[0][3]))\n",
    "    Ec = 2*math.sqrt(abs(evm)) - math.sqrt(abs(ev[0][0])) - math.sqrt(abs(ev[0][1]))\\\n",
    "    - math.sqrt(abs(ev[0][2])) - math.sqrt(abs(ev[0][3]))\n",
    "    if Ec < 0.0:\n",
    "        Ec = 0.0\n",
    "    return Ec"
   ]
  },
  {
   "cell_type": "code",
   "execution_count": null,
   "metadata": {},
   "outputs": [],
   "source": [
    "# Emaranhamento de formação\n",
    "def Eof(rho):\n",
    "    Ec = Econcurrence(rho)\n",
    "    pv = np.zeros(2); pv[0] = (1+math.sqrt(1-Ec**2))/2; pv[1] = 1 - pv[0]\n",
    "    return shannon_num(pv)"
   ]
  },
  {
   "cell_type": "code",
   "execution_count": null,
   "metadata": {},
   "outputs": [],
   "source": [
    "def concurrence(rho):\n",
    "    # Converte a matriz rho em um array NumPy de complexos com precisão de 128 bits.\n",
    "    rho_array = np.array(rho).astype(np.complex128)\n",
    "    # Calcula o operador de correlação R com as matrizes de Pauli e a matriz rho.\n",
    "    R = rho_array @ kron(Pauli(2),Pauli(2)) @ conjugate(rho_array) @ kron(Pauli(2),Pauli(2))\n",
    "    # Calcula os autovalores do operador de correlação R.\n",
    "    ev = eigvals(R)\n",
    "    # Calcula o maior valor absoluto dos autovalores.\n",
    "    evm = max(abs(ev[0]), abs(ev[1]), abs(ev[2]), abs(ev[3]))\n",
    "    # Calcula a concorrência a partir dos autovalores e do maior valor absoluto.\n",
    "    C = 2.0*sqrt(abs(evm)) - sqrt(abs(ev[0])) - sqrt(abs(ev[1])) - sqrt(abs(ev[2])) - sqrt(abs(ev[3]))\n",
    "    # Caso a concurrence seja negativa, retorna 0.\n",
    "    if C < 0.0:\n",
    "        C = 0.0\n",
    "    # Retorna a concurrence calculada.\n",
    "    return C"
   ]
  },
  {
   "cell_type": "markdown",
   "metadata": {},
   "source": [
    "## Correlation"
   ]
  },
  {
   "cell_type": "markdown",
   "metadata": {},
   "source": [
    "### $l_{1}$-norm quantum correlation\n",
    "\\begin{equation}\n",
    "Q_{l_{1}}(\\rho_{AB}) = \\sum_{j\\ne k}\\left(\\sqrt{\\rho^{A}_{jj}\\rho^{A}_{kk}}-|\\rho^{A}_{jk}|\\right)=2\\sum_{j< k}\\left(\\sqrt{\\rho^{A}_{jj}\\rho^{A}_{kk}}-|\\rho^{A}_{jk}|\\right),\n",
    "\\end{equation}\n",
    "with $\\rho^{A}=Tr_{B}(\\rho_{AB})$"
   ]
  },
  {
   "cell_type": "code",
   "execution_count": 2,
   "metadata": {},
   "outputs": [],
   "source": [
    "def qcorr_l1(rhoA):\n",
    "    da = rhoA.shape[0]; qc = 0\n",
    "    for j in range(0,da-1):\n",
    "        for k in range(j+1,da):\n",
    "            qc += sqrt(rhoA[j,j]*rhoA[k,k]) - abs(rhoA[j,k])\n",
    "    return 2*qc"
   ]
  },
  {
   "cell_type": "markdown",
   "metadata": {},
   "source": [
    "## Hilbert-Schmidt-linear quantum correlation\n",
    "\\begin{equation}\n",
    "Q_{hs}(\\rho_{AB}) = S_{l}(\\rho_{A}) = 1-Tr(\\rho_{A}^{2}).\n",
    "\\end{equation}"
   ]
  },
  {
   "cell_type": "code",
   "execution_count": 3,
   "metadata": {},
   "outputs": [],
   "source": [
    "def qcorr_hs(rhoA):\n",
    "    return linear_entropy(rhoA)"
   ]
  },
  {
   "cell_type": "markdown",
   "metadata": {},
   "source": [
    "## Relative entropy quantum correlation\n",
    "\\begin{equation}\n",
    "Q_{re}(|\\psi\\rangle_{AB}) = S_{vn}(\\rho_{A})\n",
    "\\end{equation}"
   ]
  },
  {
   "cell_type": "code",
   "execution_count": null,
   "metadata": {},
   "outputs": [],
   "source": [
    "def qcorr_re(rhoA):\n",
    "    return von_neumann_num(rhoA) # for numerics"
   ]
  }
 ],
 "metadata": {
  "kernelspec": {
   "display_name": "Python 3 (ipykernel)",
   "language": "python",
   "name": "python3"
  },
  "language_info": {
   "codemirror_mode": {
    "name": "ipython",
    "version": 3
   },
   "file_extension": ".py",
   "mimetype": "text/x-python",
   "name": "python",
   "nbconvert_exporter": "python",
   "pygments_lexer": "ipython3",
   "version": "3.9.13"
  }
 },
 "nbformat": 4,
 "nbformat_minor": 2
}
