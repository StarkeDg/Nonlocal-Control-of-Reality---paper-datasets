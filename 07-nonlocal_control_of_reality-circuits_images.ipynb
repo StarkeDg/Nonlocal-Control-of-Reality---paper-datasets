{
 "cells": [
  {
   "cell_type": "code",
   "execution_count": 2,
   "id": "796daa2a",
   "metadata": {},
   "outputs": [
    {
     "data": {
      "application/javascript": [
       "IPython.notebook.set_autosave_interval(60000)"
      ]
     },
     "metadata": {},
     "output_type": "display_data"
    },
    {
     "name": "stdout",
     "output_type": "stream",
     "text": [
      "Autosaving every 60 seconds\n"
     ]
    }
   ],
   "source": [
    "%autosave 60"
   ]
  },
  {
   "cell_type": "code",
   "execution_count": 3,
   "id": "2b921bed",
   "metadata": {
    "scrolled": true
   },
   "outputs": [],
   "source": [
    "%run init.ipynb\n",
    "%run init-tensor_product.ipynb\n",
    "%run init-quantum_resources.ipynb\n",
    "%run init-optical_elements.ipynb"
   ]
  },
  {
   "cell_type": "code",
   "execution_count": 4,
   "id": "3b547fef",
   "metadata": {},
   "outputs": [],
   "source": [
    "from qiskit.quantum_info import entropy, DensityMatrix"
   ]
  },
  {
   "cell_type": "code",
   "execution_count": 5,
   "id": "5e35d0b2",
   "metadata": {
    "jupyter": {
     "outputs_hidden": true
    },
    "tags": []
   },
   "outputs": [
    {
     "name": "stderr",
     "output_type": "stream",
     "text": [
      "C:\\Users\\stark\\AppData\\Local\\Temp\\ipykernel_17508\\1918398002.py:6: DeprecationWarning: The qiskit.ignis package is deprecated and has been supersceded by the qiskit-experiments project. Refer to the migration guide: https://github.com/Qiskit/qiskit-ignis#migration-guide on how to migrate to the new project.\n",
      "  from qiskit.ignis.verification.tomography import state_tomography_circuits, StateTomographyFitter\n",
      "ibmqfactory.load_account:WARNING:2023-06-14 06:41:22,002: Credentials are already in use. The existing account in the session will be replaced.\n"
     ]
    },
    {
     "name": "stdout",
     "output_type": "stream",
     "text": [
      "ibm_perth                    ibm_nairobi                  ibm_lagos\n",
      "---------                    -----------                  ---------\n",
      "Num. Qubits:  7              Num. Qubits:  7              Num. Qubits:  7\n",
      "Pending Jobs: 150            Pending Jobs: 63             Pending Jobs: 151\n",
      "Least busy:   False          Least busy:   False          Least busy:   False\n",
      "Operational:  True           Operational:  True           Operational:  True\n",
      "Avg. T1:      159.2          Avg. T1:      101.9          Avg. T1:      125.5\n",
      "Avg. T2:      121.9          Avg. T2:      57.9           Avg. T2:      62.4\n",
      "\n",
      "\n",
      "\n",
      "ibmq_manila                  ibmq_jakarta                 ibmq_quito\n",
      "-----------                  ------------                 ----------\n",
      "Num. Qubits:  5              Num. Qubits:  7              Num. Qubits:  5\n",
      "Pending Jobs: 35             Pending Jobs: 171            Pending Jobs: 98\n",
      "Least busy:   False          Least busy:   False          Least busy:   False\n",
      "Operational:  True           Operational:  True           Operational:  True\n",
      "Avg. T1:      173.0          Avg. T1:      158.8          Avg. T1:      82.8\n",
      "Avg. T2:      47.8           Avg. T2:      41.7           Avg. T2:      101.2\n",
      "\n",
      "\n",
      "\n",
      "ibmq_belem                   ibmq_lima\n",
      "----------                   ---------\n",
      "Num. Qubits:  5              Num. Qubits:  5\n",
      "Pending Jobs: 99             Pending Jobs: 6\n",
      "Least busy:   False          Least busy:   True\n",
      "Operational:  True           Operational:  True\n",
      "Avg. T1:      95.1           Avg. T1:      90.2\n",
      "Avg. T2:      124.5          Avg. T2:      100.7\n",
      "\n",
      "\n",
      "\n",
      "ibmq_belem\n",
      "==========\n",
      "Configuration\n",
      "-------------\n",
      "    n_qubits: 5\n",
      "    operational: True\n",
      "    status_msg: internal\n",
      "    pending_jobs: 99\n",
      "    backend_version: 1.2.9\n",
      "    basis_gates: ['id', 'rz', 'sx', 'x', 'cx', 'reset']\n",
      "    local: False\n",
      "    simulator: False\n",
      "    allow_q_object: True\n",
      "    meas_levels: [1, 2]\n",
      "    coupling_map: [[0, 1], [1, 0], [1, 2], [1, 3], [2, 1], [3, 1], [3, 4], [4, 3]]\n",
      "    discriminators: ['quadratic_discriminator', 'linear_discriminator', 'hw_centroid']\n",
      "    dynamic_reprate_enabled: True\n",
      "    u_channel_lo: [[{'q': 1, 'scale': (1+0j)}], [{'q': 0, 'scale': (1+0j)}], [{'q': 2, 'scale': (1+0j)}], [{'q': 3, 'scale': (1+0j)}], [{'q': 1, 'scale': (1+0j)}], [{'q': 1, 'scale': (1+0j)}], [{'q': 4, 'scale': (1+0j)}], [{'q': 3, 'scale': (1+0j)}]]\n",
      "    supported_instructions: ['cx', 'id', 'delay', 'measure', 'reset', 'rz', 'sx', 'x']\n",
      "    description: 5 qubit device Belem\n",
      "    qubit_lo_range: [[4.590221812787334, 5.590221812787334], [4.7455245947475255, 5.7455245947475255], [4.861490483703426, 5.861490483703426], [4.6703278211605355, 5.6703278211605355], [4.7584645937539625, 5.7584645937539625]]\n",
      "    meas_kernels: ['hw_boxcar']\n",
      "    allow_object_storage: True\n",
      "    pulse_num_channels: 9\n",
      "    rep_times: [1000.0]\n",
      "    supported_features: ['qobj']\n",
      "    clops: 2454\n",
      "    processor_type: {'family': 'Falcon', 'revision': 4, 'segment': 'T'}\n",
      "    memory: True\n",
      "    hamiltonian: {'description': 'Qubits are modeled as Duffing oscillators. In this case, the system includes higher energy states, i.e. not just |0> and |1>. The Pauli operators are generalized via the following set of transformations:\\n\\n$(\\\\mathbb{I}-\\\\sigma_{i}^z)/2 \\\\rightarrow O_i \\\\equiv b^\\\\dagger_{i} b_{i}$,\\n\\n$\\\\sigma_{+} \\\\rightarrow b^\\\\dagger$,\\n\\n$\\\\sigma_{-} \\\\rightarrow b$,\\n\\n$\\\\sigma_{i}^X \\\\rightarrow b^\\\\dagger_{i} + b_{i}$.\\n\\nQubits are coupled through resonator buses. The provided Hamiltonian has been projected into the zero excitation subspace of the resonator buses leading to an effective qubit-qubit flip-flop interaction. The qubit resonance frequencies in the Hamiltonian are the cavity dressed frequencies and not exactly what is returned by the backend defaults, which also includes the dressing due to the qubit-qubit interactions.\\n\\nQuantities are returned in angular frequencies, with units 2*pi*GHz.\\n\\nWARNING: Currently not all system Hamiltonian information is available to the public, missing values have been replaced with 0.\\n', 'h_latex': '\\\\begin{align} \\\\mathcal{H}/\\\\hbar = & \\\\sum_{i=0}^{4}\\\\left(\\\\frac{\\\\omega_{q,i}}{2}(\\\\mathbb{I}-\\\\sigma_i^{z})+\\\\frac{\\\\Delta_{i}}{2}(O_i^2-O_i)+\\\\Omega_{d,i}D_i(t)\\\\sigma_i^{X}\\\\right) \\\\\\\\ & + J_{0,1}(\\\\sigma_{0}^{+}\\\\sigma_{1}^{-}+\\\\sigma_{0}^{-}\\\\sigma_{1}^{+}) + J_{1,2}(\\\\sigma_{1}^{+}\\\\sigma_{2}^{-}+\\\\sigma_{1}^{-}\\\\sigma_{2}^{+}) + J_{1,3}(\\\\sigma_{1}^{+}\\\\sigma_{3}^{-}+\\\\sigma_{1}^{-}\\\\sigma_{3}^{+}) + J_{3,4}(\\\\sigma_{3}^{+}\\\\sigma_{4}^{-}+\\\\sigma_{3}^{-}\\\\sigma_{4}^{+}) \\\\\\\\ & + \\\\Omega_{d,0}(U_{0}^{(0,1)}(t))\\\\sigma_{0}^{X} + \\\\Omega_{d,1}(U_{1}^{(1,0)}(t)+U_{3}^{(1,3)}(t)+U_{2}^{(1,2)}(t))\\\\sigma_{1}^{X} \\\\\\\\ & + \\\\Omega_{d,2}(U_{4}^{(2,1)}(t))\\\\sigma_{2}^{X} + \\\\Omega_{d,3}(U_{6}^{(3,4)}(t)+U_{5}^{(3,1)}(t))\\\\sigma_{3}^{X} \\\\\\\\ & + \\\\Omega_{d,4}(U_{7}^{(4,3)}(t))\\\\sigma_{4}^{X} \\\\\\\\ \\\\end{align}', 'h_str': ['_SUM[i,0,4,wq{i}/2*(I{i}-Z{i})]', '_SUM[i,0,4,delta{i}/2*O{i}*O{i}]', '_SUM[i,0,4,-delta{i}/2*O{i}]', '_SUM[i,0,4,omegad{i}*X{i}||D{i}]', 'jq0q1*Sp0*Sm1', 'jq0q1*Sm0*Sp1', 'jq1q2*Sp1*Sm2', 'jq1q2*Sm1*Sp2', 'jq1q3*Sp1*Sm3', 'jq1q3*Sm1*Sp3', 'jq3q4*Sp3*Sm4', 'jq3q4*Sm3*Sp4', 'omegad1*X0||U0', 'omegad0*X1||U1', 'omegad3*X1||U3', 'omegad2*X1||U2', 'omegad1*X2||U4', 'omegad4*X3||U6', 'omegad1*X3||U5', 'omegad3*X4||U7'], 'osc': {}, 'qub': {'0': 3, '1': 3, '2': 3, '3': 3, '4': 3}, 'vars': {'delta0': -2.1119231275656283, 'delta1': -1.989081364755034, 'delta2': -2.0773937776320905, 'delta3': -2.096945401946966, 'delta4': -2.0819029355928373, 'jq0q1': 0.011772262300160973, 'jq1q2': 0.012605700949390706, 'jq1q3': 0.012591488659137172, 'jq3q4': 0.01051661912410011, 'omegad0': 0.7443534363669452, 'omegad1': 0.7739383260345845, 'omegad2': 1.70945610936441, 'omegad3': 0.7319912983313289, 'omegad4': 3.0800512505759436, 'wq0': 31.98280690439042, 'wq1': 32.95860306216681, 'wq2': 33.68723823178854, 'wq3': 32.48612779921772, 'wq4': 33.03990747379897}}\n",
      "    meas_map: [[0, 1, 2, 3, 4]]\n",
      "    max_shots: 20000\n",
      "    online_date: 2021-01-08 05:00:00+00:00\n",
      "    multi_meas_enabled: True\n",
      "    pulse_num_qubits: 3\n",
      "    input_allowed: ['job', 'runtime']\n",
      "    timing_constraints: {'acquire_alignment': 16, 'granularity': 16, 'min_length': 64, 'pulse_alignment': 1}\n",
      "    n_uchannels: 8\n",
      "    max_experiments: 100\n",
      "    parallel_compilation: False\n",
      "    default_rep_delay: 250.0\n",
      "    quantum_volume: 16\n",
      "    uchannels_enabled: True\n",
      "    url: None\n",
      "    measure_esp_enabled: False\n",
      "    conditional_latency: []\n",
      "    conditional: False\n",
      "    n_registers: 1\n",
      "    dt: 0.2222222222222222\n",
      "    backend_name: ibmq_belem\n",
      "    open_pulse: False\n",
      "    sample_name: family: Falcon, revision: 4, segment: T\n",
      "    dtm: 0.2222222222222222\n",
      "    credits_required: True\n",
      "    rep_delay_range: [0.0, 500.0]\n",
      "    live_data: False\n",
      "    meas_lo_range: [[6.801574705, 7.801574705], [6.8934333720000005, 7.8934333720000005], [6.860104974, 7.860104974], [6.8033823270000005, 7.8033823270000005], [6.926223338000001, 7.926223338000001]]\n",
      "    qubit_channel_mapping: [['m0', 'u1', 'd0', 'u0'], ['m1', 'u2', 'u1', 'u0', 'u3', 'd1', 'u4', 'u5'], ['u2', 'd2', 'u4', 'm2'], ['m3', 'u3', 'u6', 'd3', 'u5', 'u7'], ['m4', 'u6', 'd4', 'u7']]\n",
      "    parametric_pulses: ['gaussian', 'gaussian_square', 'gaussian_square_drag', 'drag', 'constant']\n",
      "    acquisition_latency: []\n",
      "    channels: {'acquire0': {'operates': {'qubits': [0]}, 'purpose': 'acquire', 'type': 'acquire'}, 'acquire1': {'operates': {'qubits': [1]}, 'purpose': 'acquire', 'type': 'acquire'}, 'acquire2': {'operates': {'qubits': [2]}, 'purpose': 'acquire', 'type': 'acquire'}, 'acquire3': {'operates': {'qubits': [3]}, 'purpose': 'acquire', 'type': 'acquire'}, 'acquire4': {'operates': {'qubits': [4]}, 'purpose': 'acquire', 'type': 'acquire'}, 'd0': {'operates': {'qubits': [0]}, 'purpose': 'drive', 'type': 'drive'}, 'd1': {'operates': {'qubits': [1]}, 'purpose': 'drive', 'type': 'drive'}, 'd2': {'operates': {'qubits': [2]}, 'purpose': 'drive', 'type': 'drive'}, 'd3': {'operates': {'qubits': [3]}, 'purpose': 'drive', 'type': 'drive'}, 'd4': {'operates': {'qubits': [4]}, 'purpose': 'drive', 'type': 'drive'}, 'm0': {'operates': {'qubits': [0]}, 'purpose': 'measure', 'type': 'measure'}, 'm1': {'operates': {'qubits': [1]}, 'purpose': 'measure', 'type': 'measure'}, 'm2': {'operates': {'qubits': [2]}, 'purpose': 'measure', 'type': 'measure'}, 'm3': {'operates': {'qubits': [3]}, 'purpose': 'measure', 'type': 'measure'}, 'm4': {'operates': {'qubits': [4]}, 'purpose': 'measure', 'type': 'measure'}, 'u0': {'operates': {'qubits': [0, 1]}, 'purpose': 'cross-resonance', 'type': 'control'}, 'u1': {'operates': {'qubits': [1, 0]}, 'purpose': 'cross-resonance', 'type': 'control'}, 'u2': {'operates': {'qubits': [1, 2]}, 'purpose': 'cross-resonance', 'type': 'control'}, 'u3': {'operates': {'qubits': [1, 3]}, 'purpose': 'cross-resonance', 'type': 'control'}, 'u4': {'operates': {'qubits': [2, 1]}, 'purpose': 'cross-resonance', 'type': 'control'}, 'u5': {'operates': {'qubits': [3, 1]}, 'purpose': 'cross-resonance', 'type': 'control'}, 'u6': {'operates': {'qubits': [3, 4]}, 'purpose': 'cross-resonance', 'type': 'control'}, 'u7': {'operates': {'qubits': [4, 3]}, 'purpose': 'cross-resonance', 'type': 'control'}}\n",
      "\n",
      "Qubits [Name / Freq / T1 / T2 / RZ err / SX err / X err / Readout err]\n",
      "----------------------------------------------------------------------\n",
      "    Q0 / 5.09022 GHz / 108.92143 us / 142.13019 us / 0.00000 / 0.00018 / 0.00018 / 0.02190 \n",
      "    Q1 / 5.24552 GHz / 87.73313 us / 104.33330 us / 0.00000 / 0.00026 / 0.00026 / 0.02670 \n",
      "    Q2 / 5.36149 GHz / 56.85208 us / 63.39081 us / 0.00000 / 0.00028 / 0.00028 / 0.01840 \n",
      "    Q3 / 5.17033 GHz / 114.16611 us / 145.96362 us / 0.00000 / 0.00034 / 0.00034 / 0.03910 \n",
      "    Q4 / 5.25846 GHz / 107.60902 us / 166.65859 us / 0.00000 / 0.00047 / 0.00047 / 0.01910 \n",
      "\n",
      "Multi-Qubit Gates [Name / Type / Gate Error]\n",
      "--------------------------------------------\n",
      "    cx4_3 / cx / 0.00952\n",
      "    cx3_4 / cx / 0.00952\n",
      "    cx3_1 / cx / 0.00743\n",
      "    cx1_3 / cx / 0.00743\n",
      "    cx2_1 / cx / 0.00798\n",
      "    cx1_2 / cx / 0.00798\n",
      "    cx1_0 / cx / 0.01324\n",
      "    cx0_1 / cx / 0.01324\n"
     ]
    }
   ],
   "source": [
    "%run init-qiskit.ipynb"
   ]
  },
  {
   "cell_type": "code",
   "execution_count": 6,
   "id": "ab5a07d5",
   "metadata": {},
   "outputs": [
    {
     "data": {
      "text/plain": [
       "{'qiskit-terra': '0.20.2', 'qiskit-aer': '0.10.4', 'qiskit-ignis': '0.7.1', 'qiskit-ibmq-provider': '0.19.1', 'qiskit-aqua': None, 'qiskit': '0.36.2', 'qiskit-nature': None, 'qiskit-finance': None, 'qiskit-optimization': None, 'qiskit-machine-learning': None}"
      ]
     },
     "execution_count": 6,
     "metadata": {},
     "output_type": "execute_result"
    }
   ],
   "source": [
    "qiskit.__qiskit_version__"
   ]
  },
  {
   "cell_type": "code",
   "execution_count": 7,
   "id": "997b6b23",
   "metadata": {},
   "outputs": [],
   "source": [
    "%run init-qiskit_optical_elements.ipynb"
   ]
  },
  {
   "cell_type": "code",
   "execution_count": 8,
   "id": "99aa7adc",
   "metadata": {},
   "outputs": [],
   "source": [
    "device = provider.get_backend('ibm_nairobi')"
   ]
  },
  {
   "cell_type": "code",
   "execution_count": 9,
   "id": "b66885c0",
   "metadata": {},
   "outputs": [
    {
     "data": {
      "image/png": "[encoded data removed]",
      "text/plain": [
       "<Figure size 285.157x140.467 with 1 Axes>"
      ]
     },
     "execution_count": 9,
     "metadata": {},
     "output_type": "execute_result"
    }
   ],
   "source": [
    "# Estado parcialmente emaranhado   ----->    a|01> + b|10> = cos(t/2)|01> + sin(t/2)|10>\n",
    "def qc_BBO_p(th):\n",
    "    qr = qiskit.QuantumRegister(2); qc = qiskit.QuantumCircuit(qr, name='BBO')\n",
    "    qc.ry(th,qr[0]) # = qc.u(th,0,0,qr[0])\n",
    "    qc.cx(qr[0],qr[1])\n",
    "    qc.x([qr[1]])\n",
    "    return qc\n",
    "qc_BBO_p_ = qc_BBO_p(math.pi); qc_BBO_p_.draw(output = 'mpl', scale = 0.7)"
   ]
  },
  {
   "cell_type": "code",
   "execution_count": 10,
   "id": "a420c6b9",
   "metadata": {},
   "outputs": [
    {
     "data": {
      "image/png": "[encoded data removed]",
      "text/plain": [
       "<Figure size 343.967x198.994 with 1 Axes>"
      ]
     },
     "execution_count": 10,
     "metadata": {},
     "output_type": "execute_result"
    }
   ],
   "source": [
    "## Interação dos átomos nos caminhos do IMZ\n",
    "# Se q0 = |0> interage o átomo W (q1)\n",
    "# Se q0 = |1> interage o átomo Z (q2)\n",
    "# q0 - caminhos\n",
    "# q1 - átomo W\n",
    "# q2 - átomo Z\n",
    "def qc_AtmInt():\n",
    "    qr = qiskit.QuantumRegister(3); qc = qiskit.QuantumCircuit(qr, name='PAI') #Photon-Atoms interaction\n",
    "    qc.x(qr[0]); qc.cx(qr[0], qr[1]); qc.x(qr[0])                   # Interagindo no caminho de cima (átomo W)\n",
    "    qc.cx(qr[0],qr[2])                                              # Interagindo no caminho de baixo (átomo Z)\n",
    "    return qc\n",
    "qc_AtmInt_ = qc_AtmInt(); qc_AtmInt_.draw(output = 'mpl', scale = 0.7)"
   ]
  },
  {
   "cell_type": "markdown",
   "id": "d0aefe37",
   "metadata": {},
   "source": [
    "# Irrealidade dos átomos fora do IMZ\n",
    "\n",
    "## BBO$_{p}$ - QWP$_{in}$"
   ]
  },
  {
   "cell_type": "code",
   "execution_count": 17,
   "id": "bad09cf0",
   "metadata": {
    "scrolled": true
   },
   "outputs": [
    {
     "data": {
      "image/png": "[encoded data removed]",
      "text/plain": [
       "<Figure size 636.606x374.578 with 1 Axes>"
      ]
     },
     "execution_count": 17,
     "metadata": {},
     "output_type": "execute_result"
    }
   ],
   "source": [
    "def qc_QCRWZ_in(th):\n",
    "    qr = qiskit.QuantumRegister(6); qc = qiskit.QuantumCircuit(qr)\n",
    "    qc_BBO_p_ = qc_BBO_p(th); qc.append(qc_BBO_p_, [qr[1],qr[2]])             # BBO_p\n",
    "    qc_QWP_ = qc_QWP(); qc.append(qc_QWP_, [qr[1]])                           # QWP\n",
    "    qc_PBS_ = qc_PBS(); qc.append(qc_PBS_, [qr[1],qr[0]])                     # PBS_A\n",
    "    # IMZ\n",
    "    qc_PBS_ = qc_PBS(); qc.append(qc_PBS_, [qr[2],qr[3]])                     # PBS\n",
    "    qc_HWP_ = qc_HWP(); qc.append(qc_HWP_, [qr[2],qr[3]])                     # HWP\n",
    "    qc.x(4); qc.x(5)                                                          # Atoms's initial state\n",
    "    qc.barrier()\n",
    "    qc_AtmInt_ = qc_AtmInt(); qc.append(qc_AtmInt_, [qr[3],qr[4],qr[5]])      # Atoms' interaction\n",
    "    qc_M_ = qc_M(); qc.append(qc_M_, [qr[3]])                                 # Mirrors\n",
    "    #qc_PS_ = qc_PS(ph); qc.append(qc_PS_, [qr[3]])                           # Phase\n",
    "    qc_BS_ = qc_BS(); qc.append(qc_BS_, [qr[3]])                              # BS\n",
    "    qc.barrier()\n",
    "    return qc\n",
    "qc_QCRWZ_in_ = qc_QCRWZ_in(math.pi); qc_QCRWZ_in_.draw(output = 'mpl', scale = 0.7)"
   ]
  },
  {
   "cell_type": "code",
   "execution_count": 18,
   "id": "02a95f07",
   "metadata": {},
   "outputs": [
    {
     "data": {
      "image/png": "[encoded data removed]",
      "text/plain": [
       "<Figure size 1104.83x374.578 with 1 Axes>"
      ]
     },
     "execution_count": 18,
     "metadata": {},
     "output_type": "execute_result"
    }
   ],
   "source": [
    "qc_QCRWZ_in_ = qc_QCRWZ_in(math.pi); qc_QCRWZ_in_.decompose().draw(output = 'mpl', scale = 0.7)"
   ]
  },
  {
   "cell_type": "code",
   "execution_count": 19,
   "id": "9e505581",
   "metadata": {
    "scrolled": true
   },
   "outputs": [
    {
     "name": "stdout",
     "output_type": "stream",
     "text": [
      "This is pdfTeX, Version 3.141592653-2.6-1.40.24 (MiKTeX 22.12) (preloaded format=pdflatex.fmt)\n",
      " restricted \\write18 enabled.\n",
      "entering extended mode\n",
      "(QCR_WZ_in.tex\n",
      "LaTeX2e <2022-11-01> patch level 1\n",
      "L3 programming layer <2022-12-17>\n",
      "(C:\\Users\\stark\\AppData\\Local\\Programs\\MiKTeX\\tex/latex/standalone\\standalone.c\n",
      "ls\n",
      "Document Class: standalone 2022/10/10 v1.3b Class to compile TeX sub-files stan\n",
      "dalone\n",
      "(C:\\Users\\stark\\AppData\\Local\\Programs\\MiKTeX\\tex/latex/tools\\shellesc.sty)\n",
      "(C:\\Users\\stark\\AppData\\Local\\Programs\\MiKTeX\\tex/generic/iftex\\ifluatex.sty\n",
      "(C:\\Users\\stark\\AppData\\Local\\Programs\\MiKTeX\\tex/generic/iftex\\iftex.sty))\n",
      "(C:\\Users\\stark\\AppData\\Local\\Programs\\MiKTeX\\tex/latex/xkeyval\\xkeyval.sty\n",
      "(C:\\Users\\stark\\AppData\\Local\\Programs\\MiKTeX\\tex/generic/xkeyval\\xkeyval.tex\n",
      "(C:\\Users\\stark\\AppData\\Local\\Programs\\MiKTeX\\tex/generic/xkeyval\\xkvutils.tex\n",
      "(C:\\Users\\stark\\AppData\\Local\\Programs\\MiKTeX\\tex/generic/xkeyval\\keyval.tex)))\n",
      ")\n",
      "(C:\\Users\\stark\\AppData\\Local\\Programs\\MiKTeX\\tex/latex/standalone\\standalone.c\n",
      "fg) (C:\\Users\\stark\\AppData\\Local\\Programs\\MiKTeX\\tex/latex/base\\article.cls\n",
      "Document Class: article 2022/07/02 v1.4n Standard LaTeX document class\n",
      "(C:\\Users\\stark\\AppData\\Local\\Programs\\MiKTeX\\tex/latex/base\\size10.clo)))\n",
      "(C:\\Users\\stark\\AppData\\Local\\Programs\\MiKTeX\\tex/latex/qcircuit\\qcircuit.sty\n",
      "(C:\\Users\\stark\\AppData\\Local\\Programs\\MiKTeX\\tex/generic/xypic\\xy.sty\n",
      "(C:\\Users\\stark\\AppData\\Local\\Programs\\MiKTeX\\tex/generic/xypic\\xy.tex\n",
      "Bootstrap'ing: catcodes, docmode,\n",
      "(C:\\Users\\stark\\AppData\\Local\\Programs\\MiKTeX\\tex/generic/xypic\\xyrecat.tex)\n",
      "(C:\\Users\\stark\\AppData\\Local\\Programs\\MiKTeX\\tex/generic/xypic\\xyidioms.tex)\n",
      "\n",
      " Xy-pic version 3.8.9 <2013/10/06>\n",
      " Copyright (c) 1991-2013 by Kristoffer H. Rose <krisrose@tug.org> and others\n",
      " Xy-pic is free software: see the User's Guide for details.\n",
      "\n",
      "Loading kernel: messages; fonts; allocations: state, direction,\n",
      "utility macros; pictures: \\xy, positions, objects, decorations;\n",
      "kernel objects: directionals, circles, text; options; algorithms: directions,\n",
      "edges, connections;  Xy-pic loaded)\n",
      "(C:\\Users\\stark\\AppData\\Local\\Programs\\MiKTeX\\tex/generic/iftex\\ifpdf.sty)\n",
      "(C:\\Users\\stark\\AppData\\Local\\Programs\\MiKTeX\\tex/generic/xypic\\xypdf.tex\n",
      " Xy-pic option: PDF driver v.1.7 loaded))\n",
      "(C:\\Users\\stark\\AppData\\Local\\Programs\\MiKTeX\\tex/generic/xypic\\xymatrix.tex\n",
      " Xy-pic option: Matrix feature v.3.14 loaded)\n",
      "(C:\\Users\\stark\\AppData\\Local\\Programs\\MiKTeX\\tex/generic/xypic\\xyframe.tex\n",
      " Xy-pic option: Frame and Bracket extension v.3.14 loaded)\n",
      "Xy-pic pdf driver: `frame' extension support\n",
      "(C:\\Users\\stark\\AppData\\Local\\Programs\\MiKTeX\\tex/generic/xypic\\xypdf-fr.tex\n",
      "(C:\\Users\\stark\\AppData\\Local\\Programs\\MiKTeX\\tex/generic/xypic\\xycurve.tex\n",
      " Xy-pic option: Curve and Spline extension v.3.12 curve, circles, loaded)\n",
      "Xy-pic pdf driver: `curve' extension support\n",
      "(C:\\Users\\stark\\AppData\\Local\\Programs\\MiKTeX\\tex/generic/xypic\\xypdf-cu.tex\n",
      "loaded) loaded)\n",
      "(C:\\Users\\stark\\AppData\\Local\\Programs\\MiKTeX\\tex/generic/xypic\\xyarrow.tex\n",
      " Xy-pic option: Arrow and Path feature v.3.9 path, \\ar, loaded)\n",
      "(C:\\Users\\stark\\AppData\\Local\\Programs\\MiKTeX\\tex/generic/xypic\\xyarc.tex\n",
      " Xy-pic option: Circle, Ellipse, Arc feature v.3.8 circles, ellipses,\n",
      "elliptical arcs, loaded))\n",
      "(C:\\Users\\stark\\AppData\\Local\\Programs\\MiKTeX\\tex/latex/graphics\\graphicx.sty\n",
      "(C:\\Users\\stark\\AppData\\Local\\Programs\\MiKTeX\\tex/latex/graphics\\graphics.sty\n",
      "(C:\\Users\\stark\\AppData\\Local\\Programs\\MiKTeX\\tex/latex/graphics\\trig.sty)\n",
      "(C:\\Users\\stark\\AppData\\Local\\Programs\\MiKTeX\\tex/latex/graphics-cfg\\graphics.c\n",
      "fg)\n",
      "(C:\\Users\\stark\\AppData\\Local\\Programs\\MiKTeX\\tex/latex/graphics-def\\pdftex.def\n",
      ")))\n",
      "(C:\\Users\\stark\\AppData\\Local\\Programs\\MiKTeX\\tex/latex/l3backend\\l3backend-pdf\n",
      "tex.def) (QCR_WZ_in.aux)\n",
      "(C:\\Users\\stark\\AppData\\Local\\Programs\\MiKTeX\\tex/context/base/mkii\\supp-pdf.mk\n",
      "ii\n",
      "[Loading MPS to PDF converter (version 2006.09.02).]\n",
      ")\n",
      "(C:\\Users\\stark\\AppData\\Local\\Programs\\MiKTeX\\tex/latex/epstopdf-pkg\\epstopdf-b\n",
      "ase.sty\n",
      "(C:\\Users\\stark\\AppData\\Local\\Programs\\MiKTeX\\tex/latex/00miktex\\epstopdf-sys.c\n",
      "fg)) <xymatrix 12x8 3243> [1{C:/Users/stark/AppData/Local/MiKTeX/fonts/map/pdft\n",
      "ex/pdftex.map}] (QCR_WZ_in.aux) )<C:/Users/stark/AppData/Local/Programs/MiKTeX/\n",
      "fonts/type1/public/amsfonts/cm/cmmi10.pfb><C:/Users/stark/AppData/Local/Program\n",
      "s/MiKTeX/fonts/type1/public/amsfonts/cm/cmr10.pfb><C:/Users/stark/AppData/Local\n",
      "/Programs/MiKTeX/fonts/type1/public/amsfonts/cm/cmr7.pfb>\n",
      "Output written on QCR_WZ_in.pdf (1 page, 33401 bytes).\n",
      "Transcript written on QCR_WZ_in.log.\n"
     ]
    }
   ],
   "source": [
    "qr = qiskit.QuantumRegister(6); qc = qiskit.QuantumCircuit(qr)\n",
    "qc_QCRWZ_in_ = qc_QCRWZ_in(math.pi); qc.append(qc_QCRWZ_in_, [qr[0],qr[1],qr[2],qr[3],qr[4],qr[5]])\n",
    "qc.decompose().draw('latex_source', filename='./QCR_WZ_in.tex')\n",
    "!pdflatex QCR_WZ_in.tex"
   ]
  },
  {
   "cell_type": "code",
   "execution_count": null,
   "id": "49cdcefe",
   "metadata": {},
   "outputs": [],
   "source": []
  }
 ],
 "metadata": {
  "kernelspec": {
   "display_name": "Python 3 (ipykernel)",
   "language": "python",
   "name": "python3"
  },
  "language_info": {
   "codemirror_mode": {
    "name": "ipython",
    "version": 3
   },
   "file_extension": ".py",
   "mimetype": "text/x-python",
   "name": "python",
   "nbconvert_exporter": "python",
   "pygments_lexer": "ipython3",
   "version": "3.9.13"
  }
 },
 "nbformat": 4,
 "nbformat_minor": 5
}
