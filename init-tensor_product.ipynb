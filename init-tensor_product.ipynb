{
 "cells": [
  {
   "cell_type": "code",
   "execution_count": null,
   "metadata": {},
   "outputs": [],
   "source": [
    "%run init.ipynb\n",
    "from sympy.physics.quantum import TensorProduct as tp # produto tensorial"
   ]
  },
  {
   "cell_type": "markdown",
   "metadata": {},
   "source": [
    "# Base computacional"
   ]
  },
  {
   "cell_type": "code",
   "execution_count": null,
   "metadata": {},
   "outputs": [],
   "source": [
    "tp00 = tp(cb(2,0), cb(2,0))\n",
    "tp01 = tp(cb(2,0), cb(2,1))\n",
    "tp10 = tp(cb(2,1), cb(2,0))\n",
    "tp11 = tp(cb(2,1), cb(2,1))"
   ]
  },
  {
   "cell_type": "code",
   "execution_count": null,
   "metadata": {},
   "outputs": [],
   "source": [
    "tp000 = tp(tp00, cb(2,0))\n",
    "tp001 = tp(tp00, cb(2,1))\n",
    "tp010 = tp(tp01, cb(2,0))\n",
    "tp011 = tp(tp01, cb(2,1))\n",
    "tp100 = tp(tp10, cb(2,0))\n",
    "tp101 = tp(tp10, cb(2,1))\n",
    "tp110 = tp(tp11, cb(2,0))\n",
    "tp111 = tp(tp11, cb(2,1))"
   ]
  },
  {
   "cell_type": "code",
   "execution_count": null,
   "metadata": {},
   "outputs": [],
   "source": [
    "# Base computacional tpm - tensor product matrix\n",
    "def tp4(j,k,l,m):\n",
    "    tpm = tp(tp(cb(2,j),cb(2,k)), tp(cb(2,l),cb(2,m)))\n",
    "    return tpm\n",
    "#tpm(0,1,0,0), tpm(0,1,1,0), tpm(1,0,0,0), tpm(1,0,1,0)"
   ]
  },
  {
   "cell_type": "code",
   "execution_count": null,
   "metadata": {},
   "outputs": [],
   "source": [
    "# Base computacional tpm - tensor product matrix\n",
    "def tp6(j,k,l,m,n,o):\n",
    "    tp6 = tp(tp(tp(cb(2,j),cb(2,k)), tp(cb(2,l),cb(2,m))), tp(cb(2,n),cb(2,o)))\n",
    "    return tp6\n",
    "#tpm(0,1,0,0,0,0), tpm(0,1,1,0,0,0), tpm(1,0,0,0,0,0), tpm(1,0,1,0,0,0)"
   ]
  },
  {
   "cell_type": "markdown",
   "metadata": {},
   "source": [
    "# Base de Bell"
   ]
  },
  {
   "cell_type": "code",
   "execution_count": null,
   "metadata": {},
   "outputs": [],
   "source": [
    "Phi_p = tp00 + tp11; Phi_p = Phi_p / norm(Phi_p) #00\n",
    "Phi_p"
   ]
  },
  {
   "cell_type": "code",
   "execution_count": null,
   "metadata": {},
   "outputs": [],
   "source": [
    "Psi_p = tp01 + tp10; Psi_p = Psi_p / norm(Psi_p) #01\n",
    "Psi_p"
   ]
  },
  {
   "cell_type": "code",
   "execution_count": null,
   "metadata": {},
   "outputs": [],
   "source": [
    "Psi_m = tp01 - tp10; Psi_m = Psi_m / norm(Psi_m) #10\n",
    "Psi_m"
   ]
  },
  {
   "cell_type": "code",
   "execution_count": null,
   "metadata": {
    "scrolled": true
   },
   "outputs": [],
   "source": [
    "Phi_m = tp00 - tp11; Phi_m = Phi_m / norm(Phi_m) #311\n",
    "Phi_m"
   ]
  },
  {
   "cell_type": "markdown",
   "metadata": {},
   "source": [
    "##  Produto tensorial com a base de Bell"
   ]
  },
  {
   "cell_type": "code",
   "execution_count": 46,
   "metadata": {},
   "outputs": [
    {
     "data": {
      "image/png": "[encoded data removed]",
      "text/latex": [
       "$\\displaystyle \\left( \\left[\\begin{matrix}\\frac{\\sqrt{2}}{2}\\\\0\\\\0\\\\0\\\\0\\\\0\\\\0\\\\0\\\\0\\\\0\\\\0\\\\0\\\\\\frac{\\sqrt{2}}{2}\\\\0\\\\0\\\\0\\end{matrix}\\right], \\  \\left[\\begin{matrix}0\\\\0\\\\0\\\\0\\\\\\frac{\\sqrt{2}}{2}\\\\0\\\\0\\\\0\\\\\\frac{\\sqrt{2}}{2}\\\\0\\\\0\\\\0\\\\0\\\\0\\\\0\\\\0\\end{matrix}\\right], \\  \\left[\\begin{matrix}0\\\\0\\\\0\\\\0\\\\\\frac{\\sqrt{2}}{2}\\\\0\\\\0\\\\0\\\\- \\frac{\\sqrt{2}}{2}\\\\0\\\\0\\\\0\\\\0\\\\0\\\\0\\\\0\\end{matrix}\\right], \\  \\left[\\begin{matrix}\\frac{\\sqrt{2}}{2}\\\\0\\\\0\\\\0\\\\0\\\\0\\\\0\\\\0\\\\0\\\\0\\\\0\\\\0\\\\- \\frac{\\sqrt{2}}{2}\\\\0\\\\0\\\\0\\end{matrix}\\right]\\right)$"
      ],
      "text/plain": [
       "⎛⎡√2⎤  ⎡0 ⎤  ⎡ 0  ⎤  ⎡ √2 ⎤⎞\n",
       "⎜⎢──⎥  ⎢  ⎥  ⎢    ⎥  ⎢ ── ⎥⎟\n",
       "⎜⎢2 ⎥  ⎢0 ⎥  ⎢ 0  ⎥  ⎢ 2  ⎥⎟\n",
       "⎜⎢  ⎥  ⎢  ⎥  ⎢    ⎥  ⎢    ⎥⎟\n",
       "⎜⎢0 ⎥  ⎢0 ⎥  ⎢ 0  ⎥  ⎢ 0  ⎥⎟\n",
       "⎜⎢  ⎥  ⎢  ⎥  ⎢    ⎥  ⎢    ⎥⎟\n",
       "⎜⎢0 ⎥  ⎢0 ⎥  ⎢ 0  ⎥  ⎢ 0  ⎥⎟\n",
       "⎜⎢  ⎥  ⎢  ⎥  ⎢    ⎥  ⎢    ⎥⎟\n",
       "⎜⎢0 ⎥  ⎢√2⎥  ⎢ √2 ⎥  ⎢ 0  ⎥⎟\n",
       "⎜⎢  ⎥  ⎢──⎥  ⎢ ── ⎥  ⎢    ⎥⎟\n",
       "⎜⎢0 ⎥  ⎢2 ⎥  ⎢ 2  ⎥  ⎢ 0  ⎥⎟\n",
       "⎜⎢  ⎥  ⎢  ⎥  ⎢    ⎥  ⎢    ⎥⎟\n",
       "⎜⎢0 ⎥  ⎢0 ⎥  ⎢ 0  ⎥  ⎢ 0  ⎥⎟\n",
       "⎜⎢  ⎥  ⎢  ⎥  ⎢    ⎥  ⎢    ⎥⎟\n",
       "⎜⎢0 ⎥  ⎢0 ⎥  ⎢ 0  ⎥  ⎢ 0  ⎥⎟\n",
       "⎜⎢  ⎥  ⎢  ⎥  ⎢    ⎥  ⎢    ⎥⎟\n",
       "⎜⎢0 ⎥  ⎢0 ⎥  ⎢ 0  ⎥  ⎢ 0  ⎥⎟\n",
       "⎜⎢  ⎥, ⎢  ⎥, ⎢    ⎥, ⎢    ⎥⎟\n",
       "⎜⎢0 ⎥  ⎢√2⎥  ⎢-√2 ⎥  ⎢ 0  ⎥⎟\n",
       "⎜⎢  ⎥  ⎢──⎥  ⎢────⎥  ⎢    ⎥⎟\n",
       "⎜⎢0 ⎥  ⎢2 ⎥  ⎢ 2  ⎥  ⎢ 0  ⎥⎟\n",
       "⎜⎢  ⎥  ⎢  ⎥  ⎢    ⎥  ⎢    ⎥⎟\n",
       "⎜⎢0 ⎥  ⎢0 ⎥  ⎢ 0  ⎥  ⎢ 0  ⎥⎟\n",
       "⎜⎢  ⎥  ⎢  ⎥  ⎢    ⎥  ⎢    ⎥⎟\n",
       "⎜⎢0 ⎥  ⎢0 ⎥  ⎢ 0  ⎥  ⎢ 0  ⎥⎟\n",
       "⎜⎢  ⎥  ⎢  ⎥  ⎢    ⎥  ⎢    ⎥⎟\n",
       "⎜⎢√2⎥  ⎢0 ⎥  ⎢ 0  ⎥  ⎢-√2 ⎥⎟\n",
       "⎜⎢──⎥  ⎢  ⎥  ⎢    ⎥  ⎢────⎥⎟\n",
       "⎜⎢2 ⎥  ⎢0 ⎥  ⎢ 0  ⎥  ⎢ 2  ⎥⎟\n",
       "⎜⎢  ⎥  ⎢  ⎥  ⎢    ⎥  ⎢    ⎥⎟\n",
       "⎜⎢0 ⎥  ⎢0 ⎥  ⎢ 0  ⎥  ⎢ 0  ⎥⎟\n",
       "⎜⎢  ⎥  ⎢  ⎥  ⎢    ⎥  ⎢    ⎥⎟\n",
       "⎜⎢0 ⎥  ⎢0 ⎥  ⎢ 0  ⎥  ⎢ 0  ⎥⎟\n",
       "⎜⎢  ⎥  ⎢  ⎥  ⎢    ⎥  ⎢    ⎥⎟\n",
       "⎝⎣0 ⎦  ⎣0 ⎦  ⎣ 0  ⎦  ⎣ 0  ⎦⎠"
      ]
     },
     "execution_count": 46,
     "metadata": {},
     "output_type": "execute_result"
    }
   ],
   "source": [
    "def tpmBB(j,k,l,m):\n",
    "    if j == 0:\n",
    "        if k == 0:\n",
    "            return tp(Phi_p, tp(cb(2,l),cb(2,m)))\n",
    "        elif k == 1:\n",
    "            return tp(Psi_p, tp(cb(2,l),cb(2,m)))\n",
    "    if j == 1:\n",
    "        if k == 0:\n",
    "            return tp(Psi_m, tp(cb(2,l),cb(2,m)))\n",
    "        elif k == 1:\n",
    "            return tp(Phi_m, tp(cb(2,l),cb(2,m)))\n",
    "tpmBB(0,0,0,0), tpmBB(0,1,0,0), tpmBB(1,0,0,0), tpmBB(1,1,0,0)"
   ]
  },
  {
   "cell_type": "code",
   "execution_count": null,
   "metadata": {},
   "outputs": [],
   "source": []
  }
 ],
 "metadata": {
  "kernelspec": {
   "display_name": "Python 3 (ipykernel)",
   "language": "python",
   "name": "python3"
  },
  "language_info": {
   "codemirror_mode": {
    "name": "ipython",
    "version": 3
   },
   "file_extension": ".py",
   "mimetype": "text/x-python",
   "name": "python",
   "nbconvert_exporter": "python",
   "pygments_lexer": "ipython3",
   "version": "3.9.13"
  }
 },
 "nbformat": 4,
 "nbformat_minor": 2
}
